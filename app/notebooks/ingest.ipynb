{
 "cells": [
  {
   "cell_type": "markdown",
   "metadata": {
    "toc": true
   },
   "source": [
    "<h1>Table of Contents<span class=\"tocSkip\"></span></h1>\n",
    "<div class=\"toc\" style=\"margin-top: 1em;\"><ul class=\"toc-item\"></ul></div>"
   ]
  },
  {
   "cell_type": "code",
   "execution_count": null,
   "metadata": {
    "ExecuteTime": {
     "end_time": "2018-11-08T17:31:18.971535Z",
     "start_time": "2018-11-08T17:31:17.580067Z"
    }
   },
   "outputs": [],
   "source": [
    "from esper.prelude import *\n",
    "from datetime import datetime\n",
    "import scannertools as st\n",
    "import traceback"
   ]
  },
  {
   "cell_type": "code",
   "execution_count": null,
   "metadata": {
    "ExecuteTime": {
     "end_time": "2018-11-08T17:31:34.443918Z",
     "start_time": "2018-11-08T17:31:34.402374Z"
    }
   },
   "outputs": [],
   "source": [
    "st.init_storage(bucket=os.environ['BUCKET'])"
   ]
  },
  {
   "cell_type": "code",
   "execution_count": null,
   "metadata": {
    "ExecuteTime": {
     "end_time": "2018-11-08T17:31:40.026358Z",
     "start_time": "2018-11-08T17:31:37.778520Z"
    }
   },
   "outputs": [],
   "source": [
    "files = sp.check_output('gsutil ls gs://{}/movies/*'.format(os.environ['BUCKET']), shell=True).decode('utf-8')"
   ]
  },
  {
   "cell_type": "code",
   "execution_count": null,
   "metadata": {
    "ExecuteTime": {
     "end_time": "2018-11-08T17:31:47.898862Z",
     "start_time": "2018-11-08T17:31:47.849567Z"
    }
   },
   "outputs": [],
   "source": [
    "files.split('\\n')[4]"
   ]
  },
  {
   "cell_type": "code",
   "execution_count": null,
   "metadata": {
    "ExecuteTime": {
     "start_time": "2018-11-08T17:40:15.798Z"
    }
   },
   "outputs": [],
   "source": [
    "def gen_video(path):\n",
    "    try:\n",
    "        path = path.strip().replace('gs://{}/'.format(os.environ['BUCKET']), '')\n",
    "        item_name = os.path.splitext(path.split('/')[-1])[0]\n",
    "        parts = item_name.split('_')\n",
    "        year = parts[-1]\n",
    "\n",
    "        name = ' '.join(parts[:-1])\n",
    "        \n",
    "        stv = st.Video(path)\n",
    "        return Video(\n",
    "            path=path,        \n",
    "            num_frames=stv.num_frames(),\n",
    "            fps=stv.fps(),\n",
    "            width=stv.width(),\n",
    "            height=stv.height(),\n",
    "            name=name,\n",
    "            year=year      \n",
    "        )\n",
    "    except:\n",
    "        print(path)\n",
    "        traceback.print_exc()\n",
    "\n",
    "\n",
    "# videos = par_for(gen_video, files.split('\\n'), workers=24)\n",
    "# videos = [gen_video(path) for path in files.split('\\n')]\n",
    "gen_video(files.split('\\n')[0])"
   ]
  },
  {
   "cell_type": "code",
   "execution_count": null,
   "metadata": {
    "ExecuteTime": {
     "end_time": "2018-08-27T17:09:49.948165Z",
     "start_time": "2018-08-27T17:09:49.910628Z"
    }
   },
   "outputs": [],
   "source": [
    "def p(v):\n",
    "    print('{}: {}'.format(v.path, v.name))\n",
    "p(Video.objects.all()[0])    \n",
    "p(Video.objects.all()[1])"
   ]
  },
  {
   "cell_type": "code",
   "execution_count": null,
   "metadata": {
    "ExecuteTime": {
     "end_time": "2018-08-27T16:48:35.959628Z",
     "start_time": "2018-08-27T16:48:35.924644Z"
    }
   },
   "outputs": [],
   "source": [
    "videos[0]"
   ]
  },
  {
   "cell_type": "code",
   "execution_count": null,
   "metadata": {
    "ExecuteTime": {
     "end_time": "2018-08-27T16:49:13.025254Z",
     "start_time": "2018-08-27T16:49:12.987238Z"
    }
   },
   "outputs": [],
   "source": [
    "Video.objects.filter(id=62047)"
   ]
  },
  {
   "cell_type": "code",
   "execution_count": null,
   "metadata": {
    "ExecuteTime": {
     "end_time": "2018-08-27T17:11:43.967308Z",
     "start_time": "2018-08-27T17:11:41.767892Z"
    }
   },
   "outputs": [],
   "source": [
    "current_paths = set([v['path'] for v in Video.objects.all().values('path')])"
   ]
  },
  {
   "cell_type": "code",
   "execution_count": null,
   "metadata": {
    "ExecuteTime": {
     "end_time": "2018-08-27T17:12:48.689872Z",
     "start_time": "2018-08-27T17:12:48.408784Z"
    }
   },
   "outputs": [],
   "source": [
    "new_videos = [v for v in videos[1:] if v.path not in current_paths]"
   ]
  },
  {
   "cell_type": "code",
   "execution_count": null,
   "metadata": {
    "ExecuteTime": {
     "end_time": "2018-08-27T17:13:47.880177Z",
     "start_time": "2018-08-27T17:12:59.519319Z"
    }
   },
   "outputs": [],
   "source": [
    "Video.objects.bulk_create(new_videos)"
   ]
  },
  {
   "cell_type": "code",
   "execution_count": null,
   "metadata": {
    "ExecuteTime": {
     "end_time": "2018-08-27T17:15:36.203381Z",
     "start_time": "2018-08-27T17:15:36.138126Z"
    }
   },
   "outputs": [],
   "source": [
    "Video.objects.all().count()"
   ]
  },
  {
   "cell_type": "code",
   "execution_count": null,
   "metadata": {
    "ExecuteTime": {
     "end_time": "2018-08-26T06:10:32.262241Z",
     "start_time": "2018-08-26T06:10:30.128293Z"
    }
   },
   "outputs": [],
   "source": [
    "# for s in tqdm(new_shows):\n",
    "#     if s not in shows:\n",
    "#         cs = CanonicalShow(name=s)\n",
    "#         cs.save()\n",
    "#         shows[s] = Show(name=s, canonical_show=cs)\n",
    "#         shows[s].save()"
   ]
  }
 ],
 "metadata": {
  "kernelspec": {
   "display_name": "Django Shell-Plus",
   "language": "python",
   "name": "django_extensions"
  },
  "language_info": {
   "codemirror_mode": {
    "name": "ipython",
    "version": 3
   },
   "file_extension": ".py",
   "mimetype": "text/x-python",
   "name": "python",
   "nbconvert_exporter": "python",
   "pygments_lexer": "ipython3",
   "version": "3.5.2"
  },
  "toc": {
   "base_numbering": 1,
   "nav_menu": {},
   "number_sections": true,
   "sideBar": false,
   "skip_h1_title": false,
   "title_cell": "Table of Contents",
   "title_sidebar": "Contents",
   "toc_cell": true,
   "toc_position": {},
   "toc_section_display": "block",
   "toc_window_display": false
  }
 },
 "nbformat": 4,
 "nbformat_minor": 2
}
