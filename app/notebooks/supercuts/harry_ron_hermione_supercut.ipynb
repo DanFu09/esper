{
 "cells": [
  {
   "cell_type": "code",
   "execution_count": 5,
   "metadata": {
    "ExecuteTime": {
     "end_time": "2019-01-28T08:11:17.079582Z",
     "start_time": "2019-01-28T08:11:17.033002Z"
    }
   },
   "outputs": [],
   "source": [
    "#from esper.supercuts import *\n",
    "from query.models import Shot\n",
    "from rekall.temporal_predicates import overlaps\n",
    "from rekall.video_interval_collection import VideoIntervalCollection"
   ]
  },
  {
   "cell_type": "markdown",
   "metadata": {},
   "source": [
    "# Harry, Ron, and Hermione growing up"
   ]
  },
  {
   "cell_type": "code",
   "execution_count": 52,
   "metadata": {
    "ExecuteTime": {
     "end_time": "2019-01-08T06:47:20.597785Z",
     "start_time": "2019-01-08T06:47:20.512649Z"
    }
   },
   "outputs": [],
   "source": [
    "# the actual query\n",
    "def harry_ron_hermione_query():\n",
    "    from query.models import FaceCharacterActor\n",
    "    from rekall.video_interval_collection import VideoIntervalCollection\n",
    "    from rekall.parsers import in_array, bbox_payload_parser, merge_dict_parsers, dict_payload_parser\n",
    "    from rekall.merge_ops import payload_plus\n",
    "    from rekall.payload_predicates import payload_satisfies\n",
    "    from rekall.spatial_predicates import scene_graph\n",
    "    from rekall.bbox_predicates import height_at_least, left_of, same_value, same_height\n",
    "    from esper.rekall import intrvllists_to_result_bbox\n",
    "\n",
    "    MIN_FACE_HEIGHT = 0.25\n",
    "    EPSILON = 0.15\n",
    "    NAMES = [ 'ron weasley', 'harry potter', 'hermione granger' ]\n",
    "\n",
    "    # Annotate face rows with start and end frames and the video ID\n",
    "    faces_with_character_actor_qs = FaceCharacterActor.objects.annotate(\n",
    "        min_frame=F('face__frame__number'),\n",
    "        max_frame=F('face__frame__number'),\n",
    "        video_id=F('face__frame__video_id'),\n",
    "        bbox_x1=F('face__bbox_x1'),\n",
    "        bbox_y1=F('face__bbox_y1'),\n",
    "        bbox_x2=F('face__bbox_x2'),\n",
    "        bbox_y2=F('face__bbox_y2'),\n",
    "        character_name=F('characteractor__character__name')\n",
    "    ).filter(face__frame__video__name__contains=\"harry potter\")\n",
    "\n",
    "    faces_with_identity = VideoIntervalCollection.from_django_qs(\n",
    "        faces_with_character_actor_qs,\n",
    "        with_payload=in_array(merge_dict_parsers([\n",
    "            bbox_payload_parser(VideoIntervalCollection.django_accessor),\n",
    "            dict_payload_parser(VideoIntervalCollection.django_accessor, { 'character': 'character_name' }),\n",
    "        ]))\n",
    "    ).coalesce(payload_merge_op=payload_plus)\n",
    "\n",
    "    harry_ron_hermione_scene_graph = {\n",
    "        'nodes': [\n",
    "            { 'name': 'face1', 'predicates': [\n",
    "                height_at_least(MIN_FACE_HEIGHT),\n",
    "                lambda f: f['character'] == NAMES[0]\n",
    "            ] },\n",
    "            { 'name': 'face2', 'predicates': [\n",
    "                height_at_least(MIN_FACE_HEIGHT),\n",
    "                lambda f: f['character'] == NAMES[1]\n",
    "            ] },\n",
    "            { 'name': 'face3', 'predicates': [\n",
    "                height_at_least(MIN_FACE_HEIGHT),\n",
    "                lambda f: f['character'] == NAMES[2]\n",
    "            ] }\n",
    "        ],\n",
    "        'edges': [\n",
    "            { 'start': 'face1', 'end': 'face2', 'predicates': [\n",
    "                same_value('y1', epsilon=EPSILON),\n",
    "                same_height(epsilon=EPSILON) \n",
    "            ] },\n",
    "            { 'start': 'face2', 'end': 'face3', 'predicates': [\n",
    "                same_value('y1', epsilon=EPSILON),\n",
    "                same_height(epsilon=EPSILON) \n",
    "            ] },\n",
    "            { 'start': 'face1', 'end': 'face3', 'predicates': [\n",
    "                same_value('y1', epsilon=EPSILON),\n",
    "                same_height(epsilon=EPSILON) \n",
    "            ] }\n",
    "        ]\n",
    "    }\n",
    "\n",
    "    harry_ron_hermione = faces_with_identity.filter(payload_satisfies(scene_graph(\n",
    "        harry_ron_hermione_scene_graph,\n",
    "        exact=True\n",
    "    )))\n",
    "    \n",
    "    return harry_ron_hermione"
   ]
  },
  {
   "cell_type": "code",
   "execution_count": 53,
   "metadata": {
    "ExecuteTime": {
     "end_time": "2019-01-08T06:47:27.262837Z",
     "start_time": "2019-01-08T06:47:20.600461Z"
    }
   },
   "outputs": [],
   "source": [
    "# Get cinematic shots that intersect with harry_ron_hermione\n",
    "harry_ron_hermione = harry_ron_hermione_query()\n",
    "shots = VideoIntervalCollection.from_django_qs(\n",
    "    Shot.objects.filter(\n",
    "        video_id__in=list(harry_ron_hermione.get_allintervals().keys()),\n",
    "        labeler__name=\"shot-hsvhist-face\"\n",
    "    )\n",
    ").filter_against(harry_ron_hermione, predicate=overlaps())\n",
    "\n",
    "# overlap shots with a dilation to coalesce neighboring frames but snap to shot boundaries\n",
    "clips = shots.overlaps(harry_ron_hermione.dilate(24).coalesce().dilate(-12))"
   ]
  },
  {
   "cell_type": "code",
   "execution_count": 54,
   "metadata": {
    "ExecuteTime": {
     "end_time": "2019-01-08T06:47:27.328067Z",
     "start_time": "2019-01-08T06:47:27.266483Z"
    }
   },
   "outputs": [],
   "source": [
    "# Format intervals for supercuts pipeline\n",
    "intervals = []\n",
    "\n",
    "# video ids sorted in series order\n",
    "video_ids = [ 381, 374, 380, 377, 379, 378, 375, 376 ]\n",
    "for video_id in video_ids:\n",
    "    fps = Video.objects.get(id=video_id).fps\n",
    "    intervallist = clips.get_intervallist(video_id)\n",
    "    for intrvl in intervallist.get_intervals():\n",
    "        intervals.append((video_id, intrvl.get_start(), intrvl.get_end()))"
   ]
  },
  {
   "cell_type": "code",
   "execution_count": 55,
   "metadata": {
    "ExecuteTime": {
     "end_time": "2019-01-08T06:47:27.371922Z",
     "start_time": "2019-01-08T06:47:27.331099Z"
    }
   },
   "outputs": [],
   "source": [
    "# get rid of some bad clips (incorrect identities) at the beginning just for demonstration\n",
    "intervals = intervals[2:]"
   ]
  },
  {
   "cell_type": "code",
   "execution_count": 51,
   "metadata": {
    "ExecuteTime": {
     "end_time": "2019-01-08T06:47:20.507852Z",
     "start_time": "2019-01-08T06:45:18.950717Z"
    }
   },
   "outputs": [
    {
     "data": {
      "application/vnd.jupyter.widget-view+json": {
       "model_id": "4804c0e5bf1c443ea4c90dd24ae03c4c",
       "version_major": 2,
       "version_minor": 0
      },
      "text/plain": [
       "HBox(children=(IntProgress(value=0, max=72), HTML(value='')))"
      ]
     },
     "metadata": {},
     "output_type": "display_data"
    },
    {
     "name": "stdout",
     "output_type": "stream",
     "text": [
      "\n"
     ]
    }
   ],
   "source": [
    "stitch_video_temporal(intervals, out_path='/app/result/supercut/harry_ron_hermione.mp4', width=1920, height=800)"
   ]
  },
  {
   "cell_type": "markdown",
   "metadata": {},
   "source": [
    "# Hermione in the center"
   ]
  },
  {
   "cell_type": "code",
   "execution_count": 15,
   "metadata": {
    "ExecuteTime": {
     "end_time": "2019-01-28T08:17:52.314828Z",
     "start_time": "2019-01-28T08:17:52.165586Z"
    }
   },
   "outputs": [],
   "source": [
    "# the actual query\n",
    "def hermione_in_center_query():\n",
    "    from query.models import FaceCharacterActor\n",
    "    from rekall.video_interval_collection import VideoIntervalCollection\n",
    "    from rekall.parsers import in_array, bbox_payload_parser, merge_dict_parsers, dict_payload_parser\n",
    "    from rekall.merge_ops import payload_plus\n",
    "    from rekall.payload_predicates import payload_satisfies\n",
    "    from rekall.spatial_predicates import scene_graph\n",
    "    from rekall.bbox_predicates import height_at_least, left_of, same_value, same_height\n",
    "    from esper.rekall import intrvllists_to_result_bbox\n",
    "\n",
    "    MIN_FACE_HEIGHT = 0.12\n",
    "    EPSILON = 0.15\n",
    "    NAMES = [ 'ron weasley', 'hermione granger', 'harry potter' ]\n",
    "\n",
    "    # Annotate face rows with start and end frames and the video ID\n",
    "    faces_with_character_actor_qs = FaceCharacterActor.objects.annotate(\n",
    "        min_frame=F('face__frame__number'),\n",
    "        max_frame=F('face__frame__number'),\n",
    "        video_id=F('face__frame__video_id'),\n",
    "        bbox_x1=F('face__bbox_x1'),\n",
    "        bbox_y1=F('face__bbox_y1'),\n",
    "        bbox_x2=F('face__bbox_x2'),\n",
    "        bbox_y2=F('face__bbox_y2'),\n",
    "        character_name=F('characteractor__character__name')\n",
    "    ).filter(face__frame__video__name__contains=\"harry potter\")\n",
    "\n",
    "    faces_with_identity = VideoIntervalCollection.from_django_qs(\n",
    "        faces_with_character_actor_qs,\n",
    "        with_payload=in_array(merge_dict_parsers([\n",
    "            bbox_payload_parser(VideoIntervalCollection.django_accessor),\n",
    "            dict_payload_parser(VideoIntervalCollection.django_accessor, { 'character': 'character_name' }),\n",
    "        ]))\n",
    "    ).coalesce(payload_merge_op=payload_plus)\n",
    "\n",
    "    harry_ron_hermione_scene_graph = {\n",
    "        'nodes': [\n",
    "            { 'name': 'face1', 'predicates': [\n",
    "                height_at_least(MIN_FACE_HEIGHT),\n",
    "                lambda f: f['character'] == NAMES[0] or f['character'] == NAMES[2]\n",
    "            ] },\n",
    "            { 'name': 'face2', 'predicates': [\n",
    "                height_at_least(MIN_FACE_HEIGHT),\n",
    "                lambda f: f['character'] == NAMES[1]\n",
    "            ] },\n",
    "            { 'name': 'face3', 'predicates': [\n",
    "                height_at_least(MIN_FACE_HEIGHT),\n",
    "                lambda f: f['character'] == NAMES[0] or f['character'] == NAMES[2]\n",
    "            ] }\n",
    "        ],\n",
    "        'edges': [\n",
    "            { 'start': 'face1', 'end': 'face2', 'predicates': [\n",
    "                lambda f1, f2: f1['x1'] < f2['x1'],\n",
    "                same_value('y1', epsilon=EPSILON),\n",
    "                same_height(epsilon=EPSILON) \n",
    "            ] },\n",
    "            { 'start': 'face2', 'end': 'face3', 'predicates': [\n",
    "                lambda f1, f2: f1['x1'] < f2['x1'],\n",
    "                same_value('y1', epsilon=EPSILON),\n",
    "                same_height(epsilon=EPSILON) \n",
    "            ] },\n",
    "            { 'start': 'face1', 'end': 'face3', 'predicates': [\n",
    "                lambda f1, f2: f1['x1'] < f2['x1'],\n",
    "                same_value('y1', epsilon=EPSILON),\n",
    "                same_height(epsilon=EPSILON) \n",
    "            ] }\n",
    "        ]\n",
    "    }\n",
    "\n",
    "    harry_ron_hermione = faces_with_identity.filter(payload_satisfies(scene_graph(\n",
    "        harry_ron_hermione_scene_graph,\n",
    "        exact=True\n",
    "    )))\n",
    "    \n",
    "    return harry_ron_hermione"
   ]
  },
  {
   "cell_type": "code",
   "execution_count": 16,
   "metadata": {
    "ExecuteTime": {
     "end_time": "2019-01-28T08:18:03.796212Z",
     "start_time": "2019-01-28T08:17:53.883741Z"
    }
   },
   "outputs": [],
   "source": [
    "# Get cinematic shots that intersect with harry_ron_hermione\n",
    "hermione_center = hermione_in_center_query()\n",
    "shots = VideoIntervalCollection.from_django_qs(\n",
    "    Shot.objects.filter(\n",
    "        video_id__in=list(hermione_center.get_allintervals().keys()),\n",
    "        cinematic=True\n",
    "    )\n",
    ").filter_against(hermione_center, predicate=overlaps())\n",
    "\n",
    "# overlap shots with a dilation to coalesce neighboring frames but snap to shot boundaries\n",
    "clips = shots.overlaps(hermione_center.dilate(24).coalesce().dilate(-12))"
   ]
  },
  {
   "cell_type": "code",
   "execution_count": 17,
   "metadata": {
    "ExecuteTime": {
     "end_time": "2019-01-28T08:18:05.336553Z",
     "start_time": "2019-01-28T08:18:03.800290Z"
    },
    "scrolled": false
   },
   "outputs": [
    {
     "data": {
      "application/vnd.jupyter.widget-view+json": {
       "model_id": "afd6a58f52d74334b567851d9d3a3b2c",
       "version_major": 2,
       "version_minor": 0
      },
      "text/plain": [
       "VGridWidget(jsglobals={'schema': [['Identity', ['id', 'name']], ['Genre', ['id', 'name']], ['Director', ['id',…"
      ]
     },
     "metadata": {},
     "output_type": "display_data"
    }
   ],
   "source": [
    "from esper.rekall import *\n",
    "from esper.prelude import *\n",
    "esper_widget(intrvllists_to_result_with_objects(hermione_center, lambda i, v: []))"
   ]
  },
  {
   "cell_type": "code",
   "execution_count": 25,
   "metadata": {
    "ExecuteTime": {
     "end_time": "2019-01-14T03:38:58.332257Z",
     "start_time": "2019-01-14T03:38:58.289253Z"
    }
   },
   "outputs": [],
   "source": [
    "selected_frames = {\n",
    "    374: [94728, 99888],\n",
    "    375: [73620, 167652],\n",
    "    376: [44280, 163920, 169620],\n",
    "    377: [205776],\n",
    "    378: [74820],\n",
    "    379: [39996, 75648, 112500, 130080, 130800],\n",
    "    380: [43596, \n",
    "          #103548, # a bit blurry, remove if possible\n",
    "         #125184, # remove if necessary\n",
    "          125832],\n",
    "    381: [89988, 146832, 164784, 165276]\n",
    "}"
   ]
  },
  {
   "cell_type": "code",
   "execution_count": 26,
   "metadata": {
    "ExecuteTime": {
     "end_time": "2019-01-14T03:40:33.777330Z",
     "start_time": "2019-01-14T03:40:33.716119Z"
    }
   },
   "outputs": [],
   "source": [
    "# Format intervals for supercuts pipeline\n",
    "intervals = []\n",
    "\n",
    "# video ids sorted in series order\n",
    "video_ids = [ 381, 374, 380, 377, 379, 378, 375, 376 ]\n",
    "for video_id in video_ids:\n",
    "    if video_id not in clips.get_allintervals().keys():\n",
    "        continue\n",
    "    fps = Video.objects.get(id=video_id).fps\n",
    "    intervallist = clips.get_intervallist(video_id)\n",
    "    for intrvl in intervallist.get_intervals():\n",
    "        keep_clip = False\n",
    "        for f in selected_frames[video_id]:\n",
    "            if f >= intrvl.get_start() and f <= intrvl.get_end():\n",
    "                keep_clip=True\n",
    "        if not keep_clip:\n",
    "            continue\n",
    "        intervals.append((video_id, intrvl.get_start(), intrvl.get_end()))"
   ]
  },
  {
   "cell_type": "code",
   "execution_count": 33,
   "metadata": {
    "ExecuteTime": {
     "end_time": "2019-01-14T04:05:49.640009Z",
     "start_time": "2019-01-14T04:05:20.107472Z"
    }
   },
   "outputs": [
    {
     "data": {
      "application/vnd.jupyter.widget-view+json": {
       "model_id": "144653da44544658922d6ed86ca63350",
       "version_major": 2,
       "version_minor": 0
      },
      "text/plain": [
       "HBox(children=(IntProgress(value=0, max=20), HTML(value='')))"
      ]
     },
     "metadata": {},
     "output_type": "display_data"
    }
   ],
   "source": [
    "stitch_video_temporal(intervals, out_path='/app/result/supercut/hermione_center_short.mp4', width=1920, height=1080)"
   ]
  }
 ],
 "metadata": {
  "kernelspec": {
   "display_name": "Django Shell-Plus",
   "language": "python",
   "name": "django_extensions"
  },
  "language_info": {
   "codemirror_mode": {
    "name": "ipython",
    "version": 3
   },
   "file_extension": ".py",
   "mimetype": "text/x-python",
   "name": "python",
   "nbconvert_exporter": "python",
   "pygments_lexer": "ipython3",
   "version": "3.5.2"
  },
  "toc": {
   "nav_menu": {},
   "number_sections": true,
   "sideBar": true,
   "skip_h1_title": false,
   "toc_cell": false,
   "toc_position": {},
   "toc_section_display": "block",
   "toc_window_display": false
  }
 },
 "nbformat": 4,
 "nbformat_minor": 2
}
