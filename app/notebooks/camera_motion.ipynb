{
 "cells": [
  {
   "cell_type": "markdown",
   "metadata": {
    "toc": true
   },
   "source": [
    "<h1>Table of Contents<span class=\"tocSkip\"></span></h1>\n",
    "<div class=\"toc\" style=\"margin-top: 1em;\"><ul class=\"toc-item\"></ul></div>"
   ]
  },
  {
   "cell_type": "code",
   "execution_count": 236,
   "metadata": {
    "ExecuteTime": {
     "end_time": "2018-12-10T20:22:36.353702Z",
     "start_time": "2018-12-10T20:22:36.304644Z"
    }
   },
   "outputs": [],
   "source": [
    "import scannerpy\n",
    "import scannertools as st\n",
    "from query.models import Video\n",
    "from esper.prelude import *\n",
    "import rekall as rk\n",
    "from rekall.interval_list import IntervalList\n",
    "from rekall.video_interval_collection import VideoIntervalCollection\n",
    "from rekall.payload_predicates import payload_satisfies\n",
    "from esper.rekall import intrvllists_to_result, intrvllists_to_result_with_objects\n",
    "import numpy as np"
   ]
  },
  {
   "cell_type": "code",
   "execution_count": 3,
   "metadata": {
    "ExecuteTime": {
     "end_time": "2018-12-10T17:26:41.109444Z",
     "start_time": "2018-12-10T17:26:36.776590Z"
    }
   },
   "outputs": [],
   "source": [
    "# Load flow histograms from Scanner\n",
    "video = Video.objects.get(id=123)\n",
    "frames = [list(range(0, video.num_frames))]\n",
    "\n",
    "db = scannerpy.Database()\n",
    "\n",
    "flow_histograms = st.histograms.compute_flow_histograms(\n",
    "    db,\n",
    "    videos=[video.for_scannertools()],\n",
    "    frames=frames)"
   ]
  },
  {
   "cell_type": "code",
   "execution_count": 213,
   "metadata": {
    "ExecuteTime": {
     "end_time": "2018-12-10T20:09:54.087040Z",
     "start_time": "2018-12-10T20:09:53.466710Z"
    }
   },
   "outputs": [],
   "source": [
    "# Load histograms of angles into rekall\n",
    "angle_hists = rk.interval_list.IntervalList([\n",
    "    (frame, frame + 1, hist[1])\n",
    "    for frame, hist in enumerate(flow)\n",
    "])"
   ]
  },
  {
   "cell_type": "code",
   "execution_count": 225,
   "metadata": {
    "ExecuteTime": {
     "end_time": "2018-12-10T20:11:13.950306Z",
     "start_time": "2018-12-10T20:11:12.676709Z"
    }
   },
   "outputs": [],
   "source": [
    "# Only keep frames where at least one of the bins (except for the 0 bin) has a large amount of flow\n",
    "avg = video.width * video.height / 64\n",
    "non_zero_frames = angle_hists.filter(payload_satisfies(\n",
    "    lambda hist: np.max(hist[1:]) > 10 * avg\n",
    "))"
   ]
  },
  {
   "cell_type": "code",
   "execution_count": 242,
   "metadata": {
    "ExecuteTime": {
     "end_time": "2018-12-10T20:25:57.589516Z",
     "start_time": "2018-12-10T20:25:49.587951Z"
    }
   },
   "outputs": [],
   "source": [
    "def avg_direction(hist):\n",
    "    # compute the average unit vector\n",
    "    units = [[h * math.cos(idx * 2 * math.pi / 64),\n",
    "            h * math.sin(idx * 2 * math.pi / 64)]\n",
    "            for idx, h in enumerate(hist[1:].tolist())]\n",
    "    avg_x = np.sum([unit[0] for unit in units]) / np.sum(hist[1:].tolist())\n",
    "    avg_y = np.sum([unit[1] for unit in units]) / np.sum(hist[1:].tolist())\n",
    "    \n",
    "    return math.atan2(avg_y, avg_x)\n",
    "\n",
    "def same_direction(hist1, hist2):\n",
    "    # return True if hist1 and hist2 are pointed in roughly the same direction\n",
    "    hist1_dir = avg_direction(hist1)\n",
    "    hist2_dir = avg_direction(hist2)\n",
    "    angle_diff = min((2 * math.pi) - abs(hist1_dir - hist2_dir), abs(hist1_dir - hist2_dir))\n",
    "    return abs(angle_diff) < 90 * math.pi / 180"
   ]
  },
  {
   "cell_type": "code",
   "execution_count": null,
   "metadata": {
    "ExecuteTime": {
     "start_time": "2018-12-10T20:28:24.515Z"
    }
   },
   "outputs": [],
   "source": [
    "# Coalesce sequences that have similar motion flow directions\n",
    "panning_sequences = non_zero_frames.coalesce(\n",
    "    predicate=payload_satisfies(same_direction, arity=2)\n",
    ").filter_length(min_length=24)"
   ]
  },
  {
   "cell_type": "code",
   "execution_count": 244,
   "metadata": {
    "ExecuteTime": {
     "end_time": "2018-12-10T20:26:00.465279Z",
     "start_time": "2018-12-10T20:26:00.362429Z"
    },
    "scrolled": false
   },
   "outputs": [
    {
     "data": {
      "application/vnd.jupyter.widget-view+json": {
       "model_id": "749e455d6311438e9ed4c7e2b2eca9d1",
       "version_major": 2,
       "version_minor": 0
      },
      "text/plain": [
       "VGridWidget(jsglobals={'schema': [['Identity', ['id', 'name']], ['Video', ['id', 'path', 'num_frames', 'fps', …"
      ]
     },
     "metadata": {},
     "output_type": "display_data"
    }
   ],
   "source": [
    "esper_widget(intrvllists_to_result_with_objects(\n",
    "    {123: panning_sequences.map(lambda intrvl: (intrvl.start, intrvl.end, 0))},\n",
    "    lambda payload, video: []\n",
    "), show_middle_frame=False)"
   ]
  }
 ],
 "metadata": {
  "kernelspec": {
   "display_name": "Django Shell-Plus",
   "language": "python",
   "name": "django_extensions"
  },
  "language_info": {
   "codemirror_mode": {
    "name": "ipython",
    "version": 3
   },
   "file_extension": ".py",
   "mimetype": "text/x-python",
   "name": "python",
   "nbconvert_exporter": "python",
   "pygments_lexer": "ipython3",
   "version": "3.5.2"
  },
  "toc": {
   "base_numbering": 1,
   "nav_menu": {},
   "number_sections": true,
   "sideBar": false,
   "skip_h1_title": false,
   "title_cell": "Table of Contents",
   "title_sidebar": "Contents",
   "toc_cell": true,
   "toc_position": {},
   "toc_section_display": "block",
   "toc_window_display": false
  }
 },
 "nbformat": 4,
 "nbformat_minor": 2
}
