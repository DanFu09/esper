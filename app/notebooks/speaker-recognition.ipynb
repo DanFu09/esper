{
 "cells": [
  {
   "cell_type": "code",
   "execution_count": null,
   "metadata": {},
   "outputs": [],
   "source": [
    "from query.datasets.prelude import *"
   ]
  },
  {
   "cell_type": "code",
   "execution_count": null,
   "metadata": {},
   "outputs": [],
   "source": [
    "video = Video.objects.get(path='tvnews/videos/CNNW_20160702_180000_CNN_Newsroom_With_Fredricka_Whitfield.mp4')\n",
    "speakers = list(Speaker.objects.filter(video=video, labeler__name='lium').order_by('min_frame'))"
   ]
  },
  {
   "cell_type": "code",
   "execution_count": null,
   "metadata": {},
   "outputs": [],
   "source": [
    "#video.extract_audio(output_path='/tmp/out.wav')"
   ]
  },
  {
   "cell_type": "code",
   "execution_count": null,
   "metadata": {},
   "outputs": [],
   "source": [
    "def fmt_time(t):\n",
    "    return '{:02d}:{:02d}:{:02d}.{:03d}'.format(\n",
    "        int(t / 3600), int(t / 60 % 60), int(t % 60), int(t * 1000 % 1000))\n",
    "\n",
    "def cut_audio(seg):\n",
    "    sp.check_call('ffmpeg -y -i {} -ss {} -t {} /tmp/seg.wav'.format(\n",
    "        '/tmp/out.wav',\n",
    "        fmt_time(seg.min_frame / video.fps),\n",
    "        fmt_time((seg.max_frame - seg.min_frame) / video.fps)),\n",
    "        shell=True)"
   ]
  },
  {
   "cell_type": "code",
   "execution_count": null,
   "metadata": {},
   "outputs": [],
   "source": [
    "lines = readlines('/app/deps/speaker-diarization/stdout')\n",
    "labeler, _ = Labeler.objects.get_or_create(name='aalto')\n",
    "unk_gender = Gender.objects.get(name='U')\n",
    "identities = {}\n",
    "speakers = []\n",
    "for line in lines:\n",
    "    parts = [s.split('=') for s in line.split(' ')]\n",
    "    dct = {p[0]: p[1] for p in parts}\n",
    "    if not dct['speaker'] in identities:\n",
    "        identities[dct['speaker']] = Identity(name=dct['speaker'])\n",
    "    speakers.append(Speaker(\n",
    "        video=video,\n",
    "        min_frame=int(float(dct['start-time']) * video.fps),\n",
    "        max_frame=int(float(dct['end-time']) * video.fps),\n",
    "        labeler=labeler,\n",
    "        gender=unk_gender,\n",
    "        identity=identities[dct['speaker']]))"
   ]
  },
  {
   "cell_type": "code",
   "execution_count": null,
   "metadata": {},
   "outputs": [],
   "source": [
    "#Identity.objects.all().delete()\n",
    "Speaker.objects.filter(labeler=labeler).delete()"
   ]
  },
  {
   "cell_type": "code",
   "execution_count": null,
   "metadata": {},
   "outputs": [],
   "source": [
    "Identity.objects.bulk_create(identities.values())\n",
    "#_ = Speaker.objects.bulk_create(speakers)"
   ]
  },
  {
   "cell_type": "code",
   "execution_count": null,
   "metadata": {},
   "outputs": [],
   "source": [
    "for s in speakers:\n",
    "    s.identity = s.identity\n",
    "Speaker.objects.bulk_create(speakers)"
   ]
  },
  {
   "cell_type": "code",
   "execution_count": null,
   "metadata": {},
   "outputs": [],
   "source": [
    "speakers[0].identity"
   ]
  },
  {
   "cell_type": "code",
   "execution_count": null,
   "metadata": {},
   "outputs": [],
   "source": [
    "print(Speaker.objects.filter(labeler=labeler)[0].identity)"
   ]
  }
 ],
 "metadata": {
  "kernelspec": {
   "display_name": "Django Shell-Plus",
   "language": "python",
   "name": "django_extensions"
  },
  "language_info": {
   "codemirror_mode": {
    "name": "ipython",
    "version": 2
   },
   "file_extension": ".py",
   "mimetype": "text/x-python",
   "name": "python",
   "nbconvert_exporter": "python",
   "pygments_lexer": "ipython2",
   "version": "2.7.14"
  },
  "toc": {
   "nav_menu": {},
   "number_sections": true,
   "sideBar": false,
   "skip_h1_title": false,
   "toc_cell": false,
   "toc_position": {},
   "toc_section_display": "block",
   "toc_window_display": false
  }
 },
 "nbformat": 4,
 "nbformat_minor": 2
}
