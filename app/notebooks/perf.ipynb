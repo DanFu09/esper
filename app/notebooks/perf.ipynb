{
 "cells": [
  {
   "cell_type": "code",
   "execution_count": 1,
   "metadata": {},
   "outputs": [],
   "source": [
    "from query.datasets.prelude import *\n",
    "from timeit import default_timer as now\n",
    "\n",
    "q1 = FaceGender.objects.values('id')\n",
    "q2 = FaceGender.objects.values('id', 'face__person__frame__video__show')    "
   ]
  },
  {
   "cell_type": "code",
   "execution_count": 2,
   "metadata": {},
   "outputs": [
    {
     "name": "stdout",
     "output_type": "stream",
     "text": [
      "nojoin: 1.992\n",
      "withjoin: 14.583\n"
     ]
    }
   ],
   "source": [
    "def profile(s, f):\n",
    "    start = now()\n",
    "    f()\n",
    "    print('{}: {:.3f}'.format(s, now() - start))\n",
    "    \n",
    "profile('nojoin', lambda: list(q1))\n",
    "profile('withjoin', lambda: list(q2))"
   ]
  },
  {
   "cell_type": "code",
   "execution_count": 3,
   "metadata": {},
   "outputs": [
    {
     "name": "stdout",
     "output_type": "stream",
     "text": [
      "SELECT \"query_tvnews_facegender\".\"id\"\n",
      "FROM \"query_tvnews_facegender\"\n",
      "\n",
      "Seq Scan on query_tvnews_facegender  (cost=0.00..15164.10 rows=984310 width=4) (actual time=0.011..125.764 rows=984310 loops=1)\n",
      "Planning time: 0.055 ms\n",
      "Execution time: 181.377 ms\n"
     ]
    }
   ],
   "source": [
    "q1.print_sql()\n",
    "print('')\n",
    "q1.explain()"
   ]
  },
  {
   "cell_type": "code",
   "execution_count": 4,
   "metadata": {},
   "outputs": [
    {
     "name": "stdout",
     "output_type": "stream",
     "text": [
      "SELECT \"query_tvnews_facegender\".\"id\",\n",
      "       \"query_tvnews_video\".\"show_id\"\n",
      "FROM \"query_tvnews_facegender\"\n",
      "INNER JOIN \"query_tvnews_face\" ON (\"query_tvnews_facegender\".\"face_id\" = \"query_tvnews_face\".\"id\")\n",
      "INNER JOIN \"query_tvnews_person\" ON (\"query_tvnews_face\".\"person_id\" = \"query_tvnews_person\".\"id\")\n",
      "INNER JOIN \"query_tvnews_frame\" ON (\"query_tvnews_person\".\"frame_id\" = \"query_tvnews_frame\".\"id\")\n",
      "INNER JOIN \"query_tvnews_video\" ON (\"query_tvnews_frame\".\"video_id\" = \"query_tvnews_video\".\"id\")\n",
      "\n",
      "Hash Join  (cost=67467.34..918389.29 rows=984310 width=8) (actual time=3122.699..11024.387 rows=984310 loops=1)\n",
      "  Hash Cond: (query_tvnews_frame.video_id = query_tvnews_video.id)\n",
      "  ->  Nested Loop  (cost=67453.39..905585.52 rows=984310 width=8) (actual time=3122.536..10740.431 rows=984310 loops=1)\n",
      "        ->  Hash Join  (cost=67452.95..367599.54 rows=984310 width=8) (actual time=3122.514..5782.762 rows=984310 loops=1)\n",
      "              Hash Cond: (query_tvnews_face.id = query_tvnews_facegender.face_id)\n",
      "              ->  Hash Join  (cost=36139.97..311217.30 rows=984310 width=8) (actual time=2801.105..4546.486 rows=984310 loops=1)\n",
      "                    Hash Cond: (query_tvnews_person.id = query_tvnews_face.person_id)\n",
      "                    ->  Seq Scan on query_tvnews_person  (cost=0.00..145088.71 rows=10058271 width=8) (actual time=0.011..1061.721 rows=10058271 loops=1)\n",
      "                    ->  Hash  (cost=19991.10..19991.10 rows=984310 width=8) (actual time=355.407..355.407 rows=984310 loops=1)\n",
      "                          Buckets: 131072  Batches: 16  Memory Usage: 3428kB\n",
      "                          ->  Seq Scan on query_tvnews_face  (cost=0.00..19991.10 rows=984310 width=8) (actual time=0.006..179.177 rows=984310 loops=1)\n",
      "              ->  Hash  (cost=15164.10..15164.10 rows=984310 width=8) (actual time=321.020..321.020 rows=984310 loops=1)\n",
      "                    Buckets: 131072  Batches: 16  Memory Usage: 3431kB\n",
      "                    ->  Seq Scan on query_tvnews_facegender  (cost=0.00..15164.10 rows=984310 width=8) (actual time=0.006..145.405 rows=984310 loops=1)\n",
      "        ->  Index Scan using query_tvnews_frame_pkey on query_tvnews_frame  (cost=0.44..0.54 rows=1 width=8) (actual time=0.004..0.005 rows=1 loops=984310)\n",
      "              Index Cond: (id = query_tvnews_person.frame_id)\n",
      "  ->  Hash  (cost=11.20..11.20 rows=220 width=8) (actual time=0.151..0.151 rows=250 loops=1)\n",
      "        Buckets: 1024  Batches: 1  Memory Usage: 18kB\n",
      "        ->  Seq Scan on query_tvnews_video  (cost=0.00..11.20 rows=220 width=8) (actual time=0.008..0.083 rows=250 loops=1)\n",
      "Planning time: 0.752 ms\n",
      "Execution time: 11085.469 ms\n"
     ]
    }
   ],
   "source": [
    "q2.print_sql()\n",
    "print('')\n",
    "q2.explain()"
   ]
  }
 ],
 "metadata": {
  "kernelspec": {
   "display_name": "Django Shell-Plus",
   "language": "python",
   "name": "django_extensions"
  },
  "language_info": {
   "codemirror_mode": {
    "name": "ipython",
    "version": 2
   },
   "file_extension": ".py",
   "mimetype": "text/x-python",
   "name": "python",
   "nbconvert_exporter": "python",
   "pygments_lexer": "ipython2",
   "version": "2.7.14"
  },
  "toc": {
   "nav_menu": {},
   "number_sections": true,
   "sideBar": false,
   "skip_h1_title": false,
   "toc_cell": false,
   "toc_position": {},
   "toc_section_display": "block",
   "toc_window_display": true
  }
 },
 "nbformat": 4,
 "nbformat_minor": 2
}
