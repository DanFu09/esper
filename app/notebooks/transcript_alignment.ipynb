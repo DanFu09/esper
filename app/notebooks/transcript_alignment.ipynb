{
 "cells": [
  {
   "cell_type": "markdown",
   "metadata": {
    "toc": true
   },
   "source": [
    "<h1>Table of Contents<span class=\"tocSkip\"></span></h1>\n",
    "<div class=\"toc\" style=\"margin-top: 1em;\"><ul class=\"toc-item\"><li><span><a href=\"#Install-gentle\" data-toc-modified-id=\"Install-gentle-1\"><span class=\"toc-item-num\">1&nbsp;&nbsp;</span>Install gentle</a></span></li><li><span><a href=\"#Test-aligning-transcript-with-local-video\" data-toc-modified-id=\"Test-aligning-transcript-with-local-video-2\"><span class=\"toc-item-num\">2&nbsp;&nbsp;</span>Test aligning transcript with local video</a></span></li><li><span><a href=\"#Test-aligning-transcript-with-Esper-to-retrieve-audio-(not-done)\" data-toc-modified-id=\"Test-aligning-transcript-with-Esper-to-retrieve-audio-(not-done)-3\"><span class=\"toc-item-num\">3&nbsp;&nbsp;</span>Test aligning transcript with Esper to retrieve audio (not done)</a></span></li><li><span><a href=\"#Test-aligning-transcript-using-scanner-pipeline\" data-toc-modified-id=\"Test-aligning-transcript-using-scanner-pipeline-4\"><span class=\"toc-item-num\">4&nbsp;&nbsp;</span>Test aligning transcript using scanner pipeline</a></span></li></ul></div>"
   ]
  },
  {
   "cell_type": "markdown",
   "metadata": {},
   "source": [
    "# Install gentle "
   ]
  },
  {
   "cell_type": "markdown",
   "metadata": {},
   "source": [
    "1.\n",
    "git clone https://github.com/scanner-research/gentle\n",
    "\n",
    "2.\n",
    "bash ./install.sh (takes ~30min)   "
   ]
  },
  {
   "cell_type": "markdown",
   "metadata": {},
   "source": [
    "# Test aligning transcript with local video"
   ]
  },
  {
   "cell_type": "code",
   "execution_count": null,
   "metadata": {
    "ExecuteTime": {
     "end_time": "2018-12-05T00:42:16.444682Z",
     "start_time": "2018-12-05T00:42:16.425491Z"
    }
   },
   "outputs": [],
   "source": [
    "# set test video list\n",
    "video_list = ['CNN_20091231_160000_CNN_Newsroom']\n",
    "\n",
    "# import pickle\n",
    "# video_list = pickle.load(open('../app/data/tvnews_std_sample.pkl', 'rb'))['sample_100']"
   ]
  },
  {
   "cell_type": "code",
   "execution_count": null,
   "metadata": {
    "ExecuteTime": {
     "end_time": "2018-12-05T00:47:24.573175Z",
     "start_time": "2018-12-05T00:42:21.299129Z"
    },
    "scrolled": true
   },
   "outputs": [],
   "source": [
    "from scannertools.transcript_alignment import TranscriptAligner\n",
    "import os\n",
    "import pickle\n",
    "\n",
    "res_stats = {}\n",
    "for video_name in video_list:\n",
    "    print(video_name)\n",
    "    # download video\n",
    "    video_path = os.path.join('../app/data/videos/', video_name+'.mp4')\n",
    "    if not os.path.exists(video_path):\n",
    "        gs_path = os.path.join('gs://esper/tvnews/videos/', video_name+'.mp4')\n",
    "        cmd = 'gsutil cp ' + gs_path + ' ' + '../app/data/videos/'\n",
    "        os.system(cmd)\n",
    "    print('Downloading video done')\n",
    "    \n",
    "    # run alignment\n",
    "    aligner = TranscriptAligner(seg_length=60, max_misalign=10, num_thread=64, \n",
    "                            media_path=video_path,\n",
    "                            transcript_path=os.path.join('../app/data/subs10/', video_name),\n",
    "                            align_dir='../app/result/aligned_transcript/')\n",
    "    res = aligner.run_all()    \n",
    "    res_stats[video_name] = res\n",
    "    pickle.dump(res_stats, open('../app/result/test_align_1.pkl', 'wb'))"
   ]
  },
  {
   "cell_type": "markdown",
   "metadata": {},
   "source": [
    "# Test aligning transcript using scanner pipeline"
   ]
  },
  {
   "cell_type": "code",
   "execution_count": null,
   "metadata": {
    "ExecuteTime": {
     "end_time": "2018-12-05T00:28:33.365411Z",
     "start_time": "2018-12-05T00:28:33.038384Z"
    }
   },
   "outputs": [],
   "source": [
    "from scannertools import audio, transcript_alignment\n",
    "import scannerpy\n",
    "import os\n",
    "from query.models import Video\n",
    "SEG_LENGTH = 60"
   ]
  },
  {
   "cell_type": "code",
   "execution_count": null,
   "metadata": {
    "ExecuteTime": {
     "end_time": "2018-12-05T00:28:34.154058Z",
     "start_time": "2018-12-05T00:28:34.131465Z"
    }
   },
   "outputs": [],
   "source": [
    "# set test video list\n",
    "video_list = ['CNNW_20161229_060000_CNN_Newsroom_Live']\n",
    "# video_list = ['FOXNEWS_20110326_050000_Greta_Van_Susteren']\n",
    "\n",
    "# import pickle\n",
    "# video_list = pickle.load(open('../app/data/tvnews_std_sample.pkl', 'rb'))['sample_100']"
   ]
  },
  {
   "cell_type": "code",
   "execution_count": null,
   "metadata": {
    "ExecuteTime": {
     "end_time": "2018-12-05T00:28:34.922145Z",
     "start_time": "2018-12-05T00:28:34.803640Z"
    }
   },
   "outputs": [],
   "source": [
    "# load videos from database\n",
    "videos = [Video.objects.filter(path__contains=video_name)[0] for video_name in video_list]"
   ]
  },
  {
   "cell_type": "code",
   "execution_count": null,
   "metadata": {
    "ExecuteTime": {
     "end_time": "2018-12-05T00:28:37.581271Z",
     "start_time": "2018-12-05T00:28:36.083731Z"
    }
   },
   "outputs": [],
   "source": [
    "# get audio length \n",
    "import tempfile\n",
    "import re\n",
    "def get_audio_length(video):\n",
    "    url = video.url()\n",
    "    log = tempfile.NamedTemporaryFile(suffix='.txt').name\n",
    "    cmd = 'ffprobe -show_streams -i ' + \\\n",
    "        '\\\"' + url + '\\\"' + ' > ' + log\n",
    "    os.system(cmd)\n",
    "    format_str = open(log, 'r').read()\n",
    "    return float(re.findall(r'\\nduration=(.*)', format_str)[1])\n",
    "\n",
    "audio_length = [get_audio_length(video) for video in videos]\n",
    "audio_length"
   ]
  },
  {
   "cell_type": "code",
   "execution_count": null,
   "metadata": {
    "ExecuteTime": {
     "end_time": "2018-12-05T00:28:39.618157Z",
     "start_time": "2018-12-05T00:28:39.595820Z"
    }
   },
   "outputs": [],
   "source": [
    "# load audios from videos\n",
    "audios = [audio.AudioSource(video.for_scannertools(), frame_size=SEG_LENGTH) for video in videos]"
   ]
  },
  {
   "cell_type": "code",
   "execution_count": null,
   "metadata": {
    "ExecuteTime": {
     "end_time": "2018-12-05T00:28:40.374212Z",
     "start_time": "2018-12-05T00:28:40.354709Z"
    },
    "scrolled": true
   },
   "outputs": [],
   "source": [
    "# set up transcripts \n",
    "captions = [audio.CaptionSource('tvnews/subs10/'+video_name, max_time=length , window_size=SEG_LENGTH) \n",
    "                for video_name, length in zip(video_list, audio_length)]"
   ]
  },
  {
   "cell_type": "code",
   "execution_count": null,
   "metadata": {
    "ExecuteTime": {
     "end_time": "2018-12-05T00:29:07.998221Z",
     "start_time": "2018-12-05T00:28:41.829966Z"
    },
    "scrolled": true
   },
   "outputs": [],
   "source": [
    "db = scannerpy.Database()\n",
    "result = transcript_alignment.align_transcript(db, video_list=video_list, audio=audios, caption=captions, \n",
    "                                               cache=False, \n",
    "                                               align_dir='/app/app/result/aligned_transcript',\n",
    "                                               res_path='/app/app/result/test_align_1.pkl')"
   ]
  },
  {
   "cell_type": "code",
   "execution_count": null,
   "metadata": {
    "ExecuteTime": {
     "end_time": "2018-12-04T22:56:37.791916Z",
     "start_time": "2018-12-04T22:56:10.971Z"
    }
   },
   "outputs": [],
   "source": [
    "result[0]._column._table.profiler().write_trace('/app/app/result/test_align_1.trace')"
   ]
  }
 ],
 "metadata": {
  "kernelspec": {
   "display_name": "Django Shell-Plus",
   "language": "python",
   "name": "django_extensions"
  },
  "language_info": {
   "codemirror_mode": {
    "name": "ipython",
    "version": 3
   },
   "file_extension": ".py",
   "mimetype": "text/x-python",
   "name": "python",
   "nbconvert_exporter": "python",
   "pygments_lexer": "ipython3",
   "version": "3.5.2"
  },
  "toc": {
   "base_numbering": 1,
   "nav_menu": {},
   "number_sections": true,
   "sideBar": false,
   "skip_h1_title": false,
   "title_cell": "Table of Contents",
   "title_sidebar": "Contents",
   "toc_cell": true,
   "toc_position": {},
   "toc_section_display": "block",
   "toc_window_display": false
  }
 },
 "nbformat": 4,
 "nbformat_minor": 2
}
