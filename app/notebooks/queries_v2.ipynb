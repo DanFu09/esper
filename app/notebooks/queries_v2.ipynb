{
 "cells": [
  {
   "cell_type": "markdown",
   "metadata": {
    "toc": true
   },
   "source": [
    "<h1>Table of Contents<span class=\"tocSkip\"></span></h1>\n",
    "<div class=\"toc\" style=\"margin-top: 1em;\"><ul class=\"toc-item\"><li><span><a href=\"#Queries\" data-toc-modified-id=\"Queries-1\"><span class=\"toc-item-num\">1&nbsp;&nbsp;</span>Queries</a></span><ul class=\"toc-item\"><li><span><a href=\"#All-Videos\" data-toc-modified-id=\"All-Videos-1.1\"><span class=\"toc-item-num\">1.1&nbsp;&nbsp;</span>All Videos</a></span></li><li><span><a href=\"#Videos-by-Channel\" data-toc-modified-id=\"Videos-by-Channel-1.2\"><span class=\"toc-item-num\">1.2&nbsp;&nbsp;</span>Videos by Channel</a></span></li><li><span><a href=\"#Videos-by-Show\" data-toc-modified-id=\"Videos-by-Show-1.3\"><span class=\"toc-item-num\">1.3&nbsp;&nbsp;</span>Videos by Show</a></span></li><li><span><a href=\"#Videos-by-Canonical-Show\" data-toc-modified-id=\"Videos-by-Canonical-Show-1.4\"><span class=\"toc-item-num\">1.4&nbsp;&nbsp;</span>Videos by Canonical Show</a></span></li><li><span><a href=\"#Videos-by-time-of-day\" data-toc-modified-id=\"Videos-by-time-of-day-1.5\"><span class=\"toc-item-num\">1.5&nbsp;&nbsp;</span>Videos by time of day</a></span></li></ul></li><li><span><a href=\"#Shots\" data-toc-modified-id=\"Shots-2\"><span class=\"toc-item-num\">2&nbsp;&nbsp;</span>Shots</a></span><ul class=\"toc-item\"><li><span><a href=\"#Shot-Validation\" data-toc-modified-id=\"Shot-Validation-2.1\"><span class=\"toc-item-num\">2.1&nbsp;&nbsp;</span>Shot Validation</a></span></li><li><span><a href=\"#All-Shots\" data-toc-modified-id=\"All-Shots-2.2\"><span class=\"toc-item-num\">2.2&nbsp;&nbsp;</span>All Shots</a></span></li><li><span><a href=\"#Shots-by-Channel\" data-toc-modified-id=\"Shots-by-Channel-2.3\"><span class=\"toc-item-num\">2.3&nbsp;&nbsp;</span>Shots by Channel</a></span></li><li><span><a href=\"#Shots-by-Show\" data-toc-modified-id=\"Shots-by-Show-2.4\"><span class=\"toc-item-num\">2.4&nbsp;&nbsp;</span>Shots by Show</a></span></li><li><span><a href=\"#Shots-by-Canonical-Show\" data-toc-modified-id=\"Shots-by-Canonical-Show-2.5\"><span class=\"toc-item-num\">2.5&nbsp;&nbsp;</span>Shots by Canonical Show</a></span></li><li><span><a href=\"#Shots-by-Time-of-Day\" data-toc-modified-id=\"Shots-by-Time-of-Day-2.6\"><span class=\"toc-item-num\">2.6&nbsp;&nbsp;</span>Shots by Time of Day</a></span></li></ul></li><li><span><a href=\"#Commercials\" data-toc-modified-id=\"Commercials-3\"><span class=\"toc-item-num\">3&nbsp;&nbsp;</span>Commercials</a></span><ul class=\"toc-item\"><li><span><a href=\"#All-Commercials\" data-toc-modified-id=\"All-Commercials-3.1\"><span class=\"toc-item-num\">3.1&nbsp;&nbsp;</span>All Commercials</a></span></li><li><span><a href=\"#Commercials-by-Channel\" data-toc-modified-id=\"Commercials-by-Channel-3.2\"><span class=\"toc-item-num\">3.2&nbsp;&nbsp;</span>Commercials by Channel</a></span></li><li><span><a href=\"#Commercials-by-Show\" data-toc-modified-id=\"Commercials-by-Show-3.3\"><span class=\"toc-item-num\">3.3&nbsp;&nbsp;</span>Commercials by Show</a></span></li><li><span><a href=\"#Commercials-by-Canonical-Show\" data-toc-modified-id=\"Commercials-by-Canonical-Show-3.4\"><span class=\"toc-item-num\">3.4&nbsp;&nbsp;</span>Commercials by Canonical Show</a></span></li><li><span><a href=\"#Commercials-by-Time-of-Day\" data-toc-modified-id=\"Commercials-by-Time-of-Day-3.5\"><span class=\"toc-item-num\">3.5&nbsp;&nbsp;</span>Commercials by Time of Day</a></span></li></ul></li><li><span><a href=\"#Faces\" data-toc-modified-id=\"Faces-4\"><span class=\"toc-item-num\">4&nbsp;&nbsp;</span>Faces</a></span><ul class=\"toc-item\"><li><span><a href=\"#Face-Validation\" data-toc-modified-id=\"Face-Validation-4.1\"><span class=\"toc-item-num\">4.1&nbsp;&nbsp;</span>Face Validation</a></span></li><li><span><a href=\"#All-Faces\" data-toc-modified-id=\"All-Faces-4.2\"><span class=\"toc-item-num\">4.2&nbsp;&nbsp;</span>All Faces</a></span></li></ul></li><li><span><a href=\"#Genders\" data-toc-modified-id=\"Genders-5\"><span class=\"toc-item-num\">5&nbsp;&nbsp;</span>Genders</a></span></li></ul></div>"
   ]
  },
  {
   "cell_type": "code",
   "execution_count": null,
   "metadata": {
    "ExecuteTime": {
     "end_time": "2018-07-02T05:03:01.878772Z",
     "start_time": "2018-07-02T05:02:53.289403Z"
    }
   },
   "outputs": [],
   "source": [
    "%matplotlib inline\n",
    "from esper.stdlib import *\n",
    "from esper.prelude import *\n",
    "from esper.spark_util import *\n",
    "from esper.validation import *\n",
    "\n",
    "import IPython\n",
    "import shutil"
   ]
  },
  {
   "cell_type": "code",
   "execution_count": null,
   "metadata": {
    "ExecuteTime": {
     "end_time": "2018-07-02T05:03:07.433802Z",
     "start_time": "2018-07-02T05:03:01.882656Z"
    },
    "scrolled": false
   },
   "outputs": [],
   "source": [
    "shows = get_shows()\n",
    "print(shows, shows.count())"
   ]
  },
  {
   "cell_type": "code",
   "execution_count": null,
   "metadata": {
    "ExecuteTime": {
     "end_time": "2018-07-02T05:03:08.840532Z",
     "start_time": "2018-07-02T05:03:07.436167Z"
    }
   },
   "outputs": [],
   "source": [
    "videos = get_videos()\n",
    "print(videos, videos.count())"
   ]
  },
  {
   "cell_type": "code",
   "execution_count": null,
   "metadata": {
    "ExecuteTime": {
     "end_time": "2018-07-02T05:03:18.204999Z",
     "start_time": "2018-07-02T05:03:08.844018Z"
    }
   },
   "outputs": [],
   "source": [
    "shots = get_shots()\n",
    "print(shots, shots.count())"
   ]
  },
  {
   "cell_type": "code",
   "execution_count": null,
   "metadata": {
    "ExecuteTime": {
     "end_time": "2018-07-02T05:03:37.531451Z",
     "start_time": "2018-07-02T05:03:18.207887Z"
    },
    "scrolled": false
   },
   "outputs": [],
   "source": [
    "speakers = get_speakers()\n",
    "print(speakers, speakers.count())\n",
    "speakers.where(speakers.in_commercial == True).show()\n",
    "speakers.where(speakers.in_commercial == False).show()"
   ]
  },
  {
   "cell_type": "code",
   "execution_count": null,
   "metadata": {
    "ExecuteTime": {
     "end_time": "2018-07-02T05:03:50.339308Z",
     "start_time": "2018-07-02T05:03:37.534435Z"
    },
    "scrolled": false
   },
   "outputs": [],
   "source": [
    "segments = get_segments()\n",
    "print(segments, segments.count())\n",
    "segments.where(segments.in_commercial == True).show()\n",
    "segments.where(segments.in_commercial == False).show()"
   ]
  },
  {
   "cell_type": "code",
   "execution_count": null,
   "metadata": {
    "ExecuteTime": {
     "end_time": "2018-07-02T05:04:06.272427Z",
     "start_time": "2018-07-02T05:03:50.341942Z"
    }
   },
   "outputs": [],
   "source": [
    "faces = get_faces()\n",
    "print(faces, faces.count())"
   ]
  },
  {
   "cell_type": "code",
   "execution_count": null,
   "metadata": {
    "ExecuteTime": {
     "end_time": "2018-07-02T05:04:28.990233Z",
     "start_time": "2018-07-02T05:04:06.274810Z"
    }
   },
   "outputs": [],
   "source": [
    "face_genders = get_face_genders() \n",
    "print(face_genders, face_genders.count())"
   ]
  },
  {
   "cell_type": "code",
   "execution_count": null,
   "metadata": {
    "ExecuteTime": {
     "end_time": "2018-07-02T05:04:52.640329Z",
     "start_time": "2018-07-02T05:04:28.992508Z"
    }
   },
   "outputs": [],
   "source": [
    "face_identities = get_face_identities()\n",
    "print(face_identities, face_identities.count())"
   ]
  },
  {
   "cell_type": "code",
   "execution_count": null,
   "metadata": {
    "ExecuteTime": {
     "end_time": "2018-07-02T05:04:54.829757Z",
     "start_time": "2018-07-02T05:04:52.642704Z"
    }
   },
   "outputs": [],
   "source": [
    "commercials = get_commercials()\n",
    "print(commercials, commercials.count())"
   ]
  },
  {
   "cell_type": "code",
   "execution_count": null,
   "metadata": {
    "ExecuteTime": {
     "end_time": "2018-07-02T03:49:12.019010Z",
     "start_time": "2018-07-02T03:49:09.386609Z"
    }
   },
   "outputs": [],
   "source": []
  },
  {
   "cell_type": "markdown",
   "metadata": {},
   "source": [
    "# Queries"
   ]
  },
  {
   "cell_type": "code",
   "execution_count": null,
   "metadata": {
    "ExecuteTime": {
     "end_time": "2018-07-02T05:04:55.019691Z",
     "start_time": "2018-07-02T05:04:54.832684Z"
    }
   },
   "outputs": [],
   "source": [
    "def format_time(seconds, padding=4):\n",
    "    return '{{:0{}d}}:{{:02d}}:{{:02d}}'.format(padding).format(\n",
    "        int(seconds/3600), int(seconds/60 % 60), int(seconds % 60))\n",
    "\n",
    "def format_number(n):\n",
    "    def fmt(n):\n",
    "        suffixes = {\n",
    "            6: 'thousand',\n",
    "            9: 'million',\n",
    "            12: 'billion',\n",
    "            15: 'trillion'\n",
    "        }\n",
    "\n",
    "        log = math.log10(n)\n",
    "        suffix = None\n",
    "        key = None\n",
    "        for k in sorted(suffixes.keys()):\n",
    "            if log < k:\n",
    "                suffix = suffixes[k]\n",
    "                key = k\n",
    "                break\n",
    "\n",
    "        return '{:.2f} {}'.format(n / float(10**(key-3)), suffix)\n",
    "    if isinstance(n, list):\n",
    "        return map(fmt, n)\n",
    "    else:\n",
    "        return fmt(n)\n",
    "\n",
    "def show_df(table, ordering, clear=True):\n",
    "    if clear:\n",
    "        IPython.display.clear_output()\n",
    "    return pd.DataFrame(table)[ordering]\n",
    "        \n",
    "def format_hour(h):\n",
    "    if h <= 12:\n",
    "        return '{} AM'.format(h)\n",
    "    else:\n",
    "        return '{} PM'.format(h-12)\n",
    "\n",
    "def video_stats(key, labels):\n",
    "    if key is not None:\n",
    "        rows = videos.groupBy(key).agg(\n",
    "            videos[key], \n",
    "            func.count('duration'), \n",
    "            func.avg('duration'), \n",
    "            func.sum('duration'), \n",
    "            func.stddev_pop('duration')\n",
    "        ).collect()\n",
    "    else:\n",
    "        rows = videos.agg(\n",
    "            func.count('duration'), \n",
    "            func.avg('duration'), \n",
    "            func.sum('duration'), \n",
    "            func.stddev_pop('duration')\n",
    "        ).collect()\n",
    "    rmap = {(0 if key is None else r[key]): r for r in rows}\n",
    "    \n",
    "    return [{\n",
    "        'label': label['name'],\n",
    "        'count': rmap[label['id']]['count(duration)'],\n",
    "        'duration': format_time(int(rmap[label['id']]['sum(duration)'])),\n",
    "        'avg_duration': '{} (σ = {})'.format(\n",
    "            format_time(int(rmap[label['id']]['avg(duration)'])),\n",
    "            format_time(int(rmap[label['id']]['stddev_pop(duration)']), padding=0))\n",
    "    } for label in labels if not key or label['id'] in rmap]\n",
    "\n",
    "video_ordering = ['label', 'count', 'duration', 'avg_duration']\n",
    "\n",
    "hours = [\n",
    "    r['hour'] for r in \n",
    "    Video.objects.annotate(\n",
    "        hour=Extract('time', 'hour')\n",
    "    ).distinct('hour').order_by('hour').values('hour')\n",
    "]"
   ]
  },
  {
   "cell_type": "markdown",
   "metadata": {},
   "source": [
    "## All Videos"
   ]
  },
  {
   "cell_type": "code",
   "execution_count": null,
   "metadata": {
    "ExecuteTime": {
     "end_time": "2018-07-02T05:04:55.395152Z",
     "start_time": "2018-07-02T05:04:55.022562Z"
    }
   },
   "outputs": [],
   "source": [
    "show_df(\n",
    "    video_stats(None, [{'id': 0, 'name': 'whole dataset'}]),\n",
    "    video_ordering)"
   ]
  },
  {
   "cell_type": "markdown",
   "metadata": {},
   "source": [
    "## Videos by Channel"
   ]
  },
  {
   "cell_type": "code",
   "execution_count": null,
   "metadata": {
    "ExecuteTime": {
     "end_time": "2018-07-02T05:04:56.242288Z",
     "start_time": "2018-07-02T05:04:55.397710Z"
    }
   },
   "outputs": [],
   "source": [
    "show_df(\n",
    "    video_stats('channel_id', list(Channel.objects.all().values('id', 'name'))),\n",
    "    video_ordering)"
   ]
  },
  {
   "cell_type": "markdown",
   "metadata": {},
   "source": [
    "## Videos by Show\n",
    "\"Situation Room with Wolf Blitzer\" and \"Special Report with Bret Baier\" were ingested as 60 10-minute segments each, whereas the other shows have 10 ≥1 hour segments."
   ]
  },
  {
   "cell_type": "code",
   "execution_count": null,
   "metadata": {
    "ExecuteTime": {
     "end_time": "2018-07-02T05:04:57.083492Z",
     "start_time": "2018-07-02T05:04:56.245544Z"
    }
   },
   "outputs": [],
   "source": [
    "show_df(\n",
    "    video_stats('show_id', list(Show.objects.all().values('id', 'name'))),\n",
    "    video_ordering)"
   ]
  },
  {
   "cell_type": "markdown",
   "metadata": {},
   "source": [
    "## Videos by Canonical Show"
   ]
  },
  {
   "cell_type": "code",
   "execution_count": null,
   "metadata": {
    "ExecuteTime": {
     "end_time": "2018-07-02T05:04:57.761452Z",
     "start_time": "2018-07-02T05:04:57.086575Z"
    },
    "scrolled": false
   },
   "outputs": [],
   "source": [
    "show_df(\n",
    "    video_stats('canonical_show_id', list(CanonicalShow.objects.all().values('id', 'name'))),\n",
    "    video_ordering)"
   ]
  },
  {
   "cell_type": "markdown",
   "metadata": {},
   "source": [
    "## Videos by time of day\n",
    "Initial selection of videos was only prime-time, so between 4pm-11pm."
   ]
  },
  {
   "cell_type": "code",
   "execution_count": null,
   "metadata": {
    "ExecuteTime": {
     "end_time": "2018-07-02T05:04:58.431194Z",
     "start_time": "2018-07-02T05:04:57.763728Z"
    }
   },
   "outputs": [],
   "source": [
    "show_df(\n",
    "    video_stats('hour', [{'id': hour, 'name': format_hour(hour)} for hour in hours]),\n",
    "    video_ordering)"
   ]
  },
  {
   "cell_type": "markdown",
   "metadata": {},
   "source": [
    "# Shots"
   ]
  },
  {
   "cell_type": "code",
   "execution_count": null,
   "metadata": {
    "ExecuteTime": {
     "end_time": "2018-07-02T05:05:27.127163Z",
     "start_time": "2018-07-02T05:04:58.434447Z"
    }
   },
   "outputs": [],
   "source": [
    "med_withcom = shots.approxQuantile('duration', [0.5], 0.01)[0]\n",
    "print('Median shot length with commercials: {:0.2f}s'.format(med_withcom))\n",
    "\n",
    "med_nocom = shots.where(\n",
    "    shots.in_commercial == False\n",
    ").approxQuantile('duration', [0.5], 0.01)[0]\n",
    "print('Median shot length w/o commercials: {:0.2f}s'.format(med_nocom))\n",
    "\n",
    "med_channels = {\n",
    "    c.name: shots.where(\n",
    "        shots.channel_id == c.id\n",
    "    ).approxQuantile('duration', [0.5], 0.01)[0]\n",
    "    for c in Channel.objects.all()\n",
    "}\n",
    "print('Median shot length by_channel:')\n",
    "for c, v in med_channels.items():\n",
    "    print('  {}: {:0.2f}s'.format(c, v))\n",
    "    \n",
    "pickle.dump({\n",
    "    'withcom': med_withcom,\n",
    "    'nocom': med_nocom,\n",
    "    'channels': med_channels\n",
    "}, open('/app/data/shot_medians.pkl', 'wb'))"
   ]
  },
  {
   "cell_type": "code",
   "execution_count": null,
   "metadata": {
    "ExecuteTime": {
     "end_time": "2018-07-02T05:11:23.988659Z",
     "start_time": "2018-07-02T05:05:27.129385Z"
    }
   },
   "outputs": [],
   "source": [
    "all_shot_durations = np.array(\n",
    "    [r['duration'] for r in shots.select('duration').collect()]\n",
    ")\n",
    "hist, edges = np.histogram(all_shot_durations, bins=list(range(0, 3600)) + [10000000])\n",
    "pickle.dump(hist, open('/app/data/shot_histogram.pkl', 'wb'))"
   ]
  },
  {
   "cell_type": "markdown",
   "metadata": {},
   "source": [
    "## Shot Validation"
   ]
  },
  {
   "cell_type": "code",
   "execution_count": null,
   "metadata": {
    "ExecuteTime": {
     "end_time": "2018-07-02T05:11:24.038560Z",
     "start_time": "2018-07-02T05:11:23.991275Z"
    }
   },
   "outputs": [],
   "source": [
    "# TODO: what is this hack?\n",
    "shot_precision = 0.97\n",
    "shot_recall = 0.97\n",
    "def shot_error_interval(n):\n",
    "    return [n * shot_precision, n * (2 - shot_recall)]\n",
    "\n",
    "\n",
    "def shot_stats(key, labels, shots=shots):\n",
    "    if key is not None:\n",
    "        df = shots.groupBy(key)\n",
    "        rows = df.agg(shots[key], func.count('duration'), func.avg('duration'), func.sum('duration'), func.stddev_pop('duration')).collect()\n",
    "    else:\n",
    "        df = shots\n",
    "        rows = df.agg(func.count('duration'), func.avg('duration'), func.sum('duration'), func.stddev_pop('duration')).collect()\n",
    "    rmap = {(0 if key is None else r[key]): r for r in rows}\n",
    "    out_rows = []\n",
    "    for label in labels:\n",
    "        try:\n",
    "            out_rows.append({\n",
    "                'label': label['name'],\n",
    "                'count': rmap[label['id']]['count(duration)'], #format_number(shot_error_interval(rmap[label['id']]['count(duration)'])),\n",
    "                'duration': format_time(int(rmap[label['id']]['sum(duration)'])),\n",
    "                'avg_duration': '{:06.2f}s (σ = {:06.2f})'.format(\n",
    "                    rmap[label['id']]['avg(duration)'],\n",
    "                    rmap[label['id']]['stddev_pop(duration)'])\n",
    "            })\n",
    "        except KeyError:\n",
    "            pass\n",
    "    return out_rows\n",
    "\n",
    "shot_ordering = ['label', 'count', 'duration', 'avg_duration']"
   ]
  },
  {
   "cell_type": "markdown",
   "metadata": {},
   "source": [
    "## All Shots"
   ]
  },
  {
   "cell_type": "code",
   "execution_count": null,
   "metadata": {
    "ExecuteTime": {
     "end_time": "2018-07-02T05:11:28.170194Z",
     "start_time": "2018-07-02T05:11:24.043531Z"
    }
   },
   "outputs": [],
   "source": [
    "show_df(\n",
    "    shot_stats(None, [{'id': 0, 'name': 'whole dataset'}]),\n",
    "    shot_ordering)"
   ]
  },
  {
   "cell_type": "markdown",
   "metadata": {},
   "source": [
    "## Shots by Channel"
   ]
  },
  {
   "cell_type": "code",
   "execution_count": null,
   "metadata": {
    "ExecuteTime": {
     "end_time": "2018-07-02T05:11:33.748191Z",
     "start_time": "2018-07-02T05:11:28.172595Z"
    }
   },
   "outputs": [],
   "source": [
    "show_df(\n",
    "    shot_stats('channel_id', list(Channel.objects.all().values('id', 'name'))),\n",
    "    shot_ordering)"
   ]
  },
  {
   "cell_type": "markdown",
   "metadata": {},
   "source": [
    "## Shots by Show"
   ]
  },
  {
   "cell_type": "code",
   "execution_count": null,
   "metadata": {
    "ExecuteTime": {
     "end_time": "2018-07-02T05:11:38.924176Z",
     "start_time": "2018-07-02T05:11:33.750243Z"
    }
   },
   "outputs": [],
   "source": [
    "show_df(\n",
    "    shot_stats('show_id', list(Show.objects.all().values('id', 'name'))),\n",
    "    shot_ordering)"
   ]
  },
  {
   "cell_type": "markdown",
   "metadata": {},
   "source": [
    "## Shots by Canonical Show"
   ]
  },
  {
   "cell_type": "code",
   "execution_count": null,
   "metadata": {
    "ExecuteTime": {
     "end_time": "2018-07-02T05:11:44.063701Z",
     "start_time": "2018-07-02T05:11:38.926164Z"
    }
   },
   "outputs": [],
   "source": [
    "show_df(\n",
    "    shot_stats('canonical_show_id', list(CanonicalShow.objects.all().values('id', 'name'))),\n",
    "    shot_ordering)"
   ]
  },
  {
   "cell_type": "markdown",
   "metadata": {},
   "source": [
    "## Shots by Time of Day"
   ]
  },
  {
   "cell_type": "code",
   "execution_count": null,
   "metadata": {
    "ExecuteTime": {
     "end_time": "2018-07-02T05:12:05.275666Z",
     "start_time": "2018-07-02T05:11:44.065936Z"
    }
   },
   "outputs": [],
   "source": [
    "show_df(\n",
    "    shot_stats('hour', [{'id': hour, 'name': format_hour(hour)} for hour in hours]),\n",
    "    shot_ordering)"
   ]
  },
  {
   "cell_type": "markdown",
   "metadata": {},
   "source": [
    "# Commercials"
   ]
  },
  {
   "cell_type": "code",
   "execution_count": null,
   "metadata": {
    "ExecuteTime": {
     "end_time": "2018-07-02T05:12:05.313987Z",
     "start_time": "2018-07-02T05:12:05.277927Z"
    }
   },
   "outputs": [],
   "source": [
    "def commercial_stats(key, labels):\n",
    "    if key is not None:\n",
    "        rows = commercials.groupBy(key).agg(\n",
    "            commercials[key], \n",
    "            func.count('duration'), \n",
    "            func.avg('duration'), \n",
    "            func.sum('duration')\n",
    "        ).collect()\n",
    "    else:\n",
    "        rows = commercials.agg(\n",
    "            func.count('duration'), \n",
    "            func.avg('duration'),\n",
    "            func.sum('duration')\n",
    "        ).collect()\n",
    "    rmap = {(0 if key is None else r[key]): r for r in rows}\n",
    "    out_rows = []\n",
    "    for label in labels:\n",
    "        try:\n",
    "            out_rows.append({\n",
    "                'label': label['name'],\n",
    "                'count': format_number(rmap[label['id']]['count(duration)']),\n",
    "                'duration': format_time(int(rmap[label['id']]['sum(duration)'])),\n",
    "                'avg_duration': '{:06.2f}s'.format(rmap[label['id']]['avg(duration)'])\n",
    "            })\n",
    "        except KeyError:\n",
    "            pass\n",
    "    return out_rows\n",
    "\n",
    "commercial_ordering = ['label', 'count', 'duration', 'avg_duration']"
   ]
  },
  {
   "cell_type": "markdown",
   "metadata": {},
   "source": [
    "## All Commercials"
   ]
  },
  {
   "cell_type": "code",
   "execution_count": null,
   "metadata": {
    "ExecuteTime": {
     "end_time": "2018-07-02T05:12:05.878432Z",
     "start_time": "2018-07-02T05:12:05.317408Z"
    }
   },
   "outputs": [],
   "source": [
    "show_df(\n",
    "    commercial_stats(None, [{'id': 0, 'name': 'whole dataset'}]),\n",
    "    commercial_ordering)"
   ]
  },
  {
   "cell_type": "code",
   "execution_count": null,
   "metadata": {
    "ExecuteTime": {
     "end_time": "2018-07-02T05:36:08.869358Z",
     "start_time": "2018-07-02T05:36:08.276359Z"
    }
   },
   "outputs": [],
   "source": [
    "print('Average # of commercials per video: {:0.2f}'.format(\n",
    "    commercials.groupBy('video_id').count().agg(\n",
    "        func.avg(func.col('count'))\n",
    "    ).collect()[0]['avg(count)']\n",
    "))"
   ]
  },
  {
   "cell_type": "markdown",
   "metadata": {},
   "source": [
    "## Commercials by Channel"
   ]
  },
  {
   "cell_type": "code",
   "execution_count": null,
   "metadata": {
    "ExecuteTime": {
     "end_time": "2018-07-02T05:12:06.712515Z",
     "start_time": "2018-07-02T05:12:05.880541Z"
    }
   },
   "outputs": [],
   "source": [
    "show_df(\n",
    "    commercial_stats('channel_id', list(Channel.objects.all().values('id', 'name'))),\n",
    "    commercial_ordering)"
   ]
  },
  {
   "cell_type": "markdown",
   "metadata": {},
   "source": [
    "## Commercials by Show"
   ]
  },
  {
   "cell_type": "code",
   "execution_count": null,
   "metadata": {
    "ExecuteTime": {
     "end_time": "2018-07-02T05:12:07.505743Z",
     "start_time": "2018-07-02T05:12:06.714727Z"
    }
   },
   "outputs": [],
   "source": [
    "show_df(\n",
    "    commercial_stats('show_id', list(Show.objects.all().values('id', 'name'))),\n",
    "    commercial_ordering)"
   ]
  },
  {
   "cell_type": "markdown",
   "metadata": {},
   "source": [
    "## Commercials by Canonical Show"
   ]
  },
  {
   "cell_type": "code",
   "execution_count": null,
   "metadata": {
    "ExecuteTime": {
     "end_time": "2018-07-02T05:12:08.257912Z",
     "start_time": "2018-07-02T05:12:07.508131Z"
    }
   },
   "outputs": [],
   "source": [
    "show_df(\n",
    "    commercial_stats('canonical_show_id', list(CanonicalShow.objects.all().values('id', 'name'))),\n",
    "    commercial_ordering)"
   ]
  },
  {
   "cell_type": "markdown",
   "metadata": {},
   "source": [
    "## Commercials by Time of Day"
   ]
  },
  {
   "cell_type": "code",
   "execution_count": null,
   "metadata": {
    "ExecuteTime": {
     "end_time": "2018-07-02T05:12:09.233240Z",
     "start_time": "2018-07-02T05:12:08.259951Z"
    }
   },
   "outputs": [],
   "source": [
    "show_df(\n",
    "    commercial_stats('hour', [{'id': hour, 'name': format_hour(hour)} for hour in hours]),\n",
    "    commercial_ordering)"
   ]
  },
  {
   "cell_type": "markdown",
   "metadata": {},
   "source": [
    "# Faces"
   ]
  },
  {
   "cell_type": "markdown",
   "metadata": {},
   "source": [
    "## Face Validation"
   ]
  },
  {
   "cell_type": "code",
   "execution_count": null,
   "metadata": {
    "ExecuteTime": {
     "end_time": "2018-07-02T05:18:55.128387Z",
     "start_time": "2018-07-02T05:18:54.234016Z"
    }
   },
   "outputs": [],
   "source": [
    "base_face_stats = face_validation('All faces', lambda x: x)\n",
    "big_face_stats = face_validation(\n",
    "    'Faces height > 0.2', lambda qs: qs.annotate(height=F('bbox_y2') - F('bbox_y1')).filter(height__gte=0.2))"
   ]
  },
  {
   "cell_type": "code",
   "execution_count": null,
   "metadata": {
    "ExecuteTime": {
     "end_time": "2018-07-02T05:19:13.532907Z",
     "start_time": "2018-07-02T05:19:13.501441Z"
    }
   },
   "outputs": [],
   "source": [
    "shot_precision = 0.97\n",
    "shot_recall = 0.97\n",
    "\n",
    "def face_error_interval(n, face_stats):\n",
    "    (face_precision, face_recall, _) = face_stats\n",
    "    return [n * shot_precision * face_precision, n * (2 - shot_recall) * (2 - face_recall)]"
   ]
  },
  {
   "cell_type": "markdown",
   "metadata": {},
   "source": [
    "## All Faces"
   ]
  },
  {
   "cell_type": "code",
   "execution_count": null,
   "metadata": {
    "ExecuteTime": {
     "end_time": "2018-07-02T05:21:11.309008Z",
     "start_time": "2018-07-02T05:20:44.101702Z"
    }
   },
   "outputs": [],
   "source": [
    "print('Total faces: {}'.format(\n",
    "    format_number(face_error_interval(faces.count(), base_face_stats[2]))))\n",
    "\n",
    "total_duration = videos.agg(func.sum('duration')).collect()[0]['sum(duration)'] - \\\n",
    "    commercials.agg(func.sum('duration')).collect()[0]['sum(duration)']\n",
    "face_duration = faces.groupBy('shot_id') \\\n",
    "    .agg(\n",
    "        func.first('duration').alias('duration')\n",
    "    ).agg(func.sum('duration')).collect()[0]['sum(duration)']\n",
    "print('% of time a face is on screen: {:0.2f}'.format(100.0 * face_duration / total_duration))"
   ]
  },
  {
   "cell_type": "markdown",
   "metadata": {},
   "source": [
    "# Genders\n",
    "\n",
    "These queries analyze the distribution of men vs. women across a number of axes. We use faces detected by [MTCNN](https://github.com/kpzhang93/MTCNN_face_detection_alignment/) and gender detected by [rude-carnie](https://github.com/dpressel/rude-carnie). We only consider faces with a height > 20% of the frame to eliminate people in the background.\n",
    "\n",
    "Time for a given gender is the amount of time during which at least one person of that gender was on screen. Percentages are (gender screen time) / (total time any person was on screen)."
   ]
  },
  {
   "cell_type": "code",
   "execution_count": null,
   "metadata": {
    "ExecuteTime": {
     "end_time": "2018-07-02T05:22:14.011595Z",
     "start_time": "2018-07-02T05:22:13.278323Z"
    }
   },
   "outputs": [],
   "source": [
    "_, Cm = gender_validation('Gender w/ face height > 0.2', big_face_stats)\n",
    "\n",
    "def P(y, yhat):\n",
    "    d = {'M': 0, 'F': 1, 'U': 2}\n",
    "    return float(Cm[d[y]][d[yhat]]) / sum([Cm[i][d[yhat]] for i in d.values()])"
   ]
  },
  {
   "cell_type": "code",
   "execution_count": null,
   "metadata": {},
   "outputs": [],
   "source": [
    "# TODO: remove a host -- use face features to identify and remove rachel maddow from computation\n",
    "# TODO: more discrete time zones (\"sunday mornings\", \"prime time\", \"daytime\", \"late evening\")\n",
    "# TODO: by year\n",
    "# TODO: specific dates, e.g. during the RNC\n",
    "\n",
    "MALE = Gender.objects.get(name='M')\n",
    "FEMALE = Gender.objects.get(name='F')\n",
    "UNKNOWN = Gender.objects.get(name='U')\n",
    "gender_names = {g.id: g.name for g in Gender.objects.all()}\n",
    "\n",
    "def gender_singlecount_stats(key, labels, min_dur=None):\n",
    "    if key == 'topic':        \n",
    "        df1 = genders.join(segment_links, genders.segment_id == segment_links.segment_id)\n",
    "        df2 = df1.join(things, segment_links.thing_id == things.id)\n",
    "        topic_type = ThingType.objects.get(name='topic').id\n",
    "        df3 = df2.where(things.type_id == topic_type).select(\n",
    "            *(['duration', 'channel_id', 'show_id', 'hour', 'week_day', 'gender_id'] +  \\\n",
    "              [things.id.alias('topic'), 'shot_id']))\n",
    "        full_df = df3\n",
    "    else:\n",
    "        full_df = genders\n",
    "        \n",
    "    keys = ['duration', 'channel_id', 'show_id', 'hour', 'week_day']\n",
    "    aggs = [func.count('gender_id')] + [func.first(full_df[k]).alias(k) for k in keys] + \\\n",
    "        ([full_df.topic] if key == 'topic' else [])\n",
    "    groups = ([key] if key is not None else []) + ['gender_id']\n",
    "    counts = full_df.groupBy(\n",
    "        *(['shot_id', 'gender_id'] + (['topic'] if key == 'topic' else []))\n",
    "    ).agg(*aggs)\n",
    "    rows = counts.where(counts['count(gender_id)'] > 0).groupBy(*groups) \\\n",
    "        .agg(func.sum('duration')).collect()\n",
    "\n",
    "    if key is not None:\n",
    "        base_counts = full_df.groupBy(\n",
    "            ['shot_id', key]\n",
    "        ).agg(full_df[key], func.first('duration').alias('duration')) \\\n",
    "            .groupBy(key).agg(full_df[key], func.sum('duration')).collect()\n",
    "    else:\n",
    "        base_counts = full_df.groupBy(\n",
    "            'shot_id'\n",
    "        ).agg(\n",
    "            func.first('duration').alias('duration')\n",
    "        ).agg(func.sum('duration')).collect()\n",
    "    base_map = {\n",
    "        (row[key] if key is not None else 0): row['sum(duration)']\n",
    "        for row in base_counts\n",
    "    }\n",
    "        \n",
    "    out_rows = []\n",
    "    for label in labels:\n",
    "        label_rows = {\n",
    "            row.gender_id: row for row in rows if key is None or row[key] == label['id']\n",
    "        }\n",
    "        if len(label_rows) < 3: \n",
    "            continue\n",
    "\n",
    "        base_dur = int(base_map[label['id']])\n",
    "        if min_dur != None and base_dur < min_dur:\n",
    "            continue\n",
    "            \n",
    "        durs = {\n",
    "            g.id: int(label_rows[g.id]['sum(duration)'])\n",
    "            for g in [MALE, FEMALE, UNKNOWN]\n",
    "        }       \n",
    "        \n",
    "        def adjust(g):\n",
    "            return int(\n",
    "                reduce(lambda a, b: \n",
    "                       a + b, [durs[g2] * P(gender_names[g], gender_names[g2]) \n",
    "                               for g2 in durs]))\n",
    "        \n",
    "        adj_durs = {\n",
    "            g: adjust(g)\n",
    "            for g in durs\n",
    "        }\n",
    "            \n",
    "        out_rows.append({\n",
    "            key: label['name'],\n",
    "            'M': format_time(durs[MALE.id]),\n",
    "            'F': format_time(durs[FEMALE.id]),\n",
    "            'U': format_time(durs[UNKNOWN.id]),\n",
    "            'base': format_time(base_dur),\n",
    "            'M%': int(100.0 * durs[MALE.id] / base_dur),\n",
    "            'F%': int(100.0 * durs[FEMALE.id] / base_dur),\n",
    "            'U%': int(100.0 * durs[UNKNOWN.id] / base_dur),\n",
    "#             'M-Adj': format_time(adj_durs[MALE.id]),\n",
    "#             'F-Adj': format_time(adj_durs[FEMALE.id]),\n",
    "#             'U-Adj': format_time(adj_durs[UNKNOWN.id]),\n",
    "#             'M-Adj%': int(100.0 * adj_durs[MALE.id] / base_dur),\n",
    "#             'F-Adj%': int(100.0 * adj_durs[FEMALE.id] / base_dur),\n",
    "#             'U-Adj%': int(100.0 * adj_durs[UNKNOWN.id] / base_dur),\n",
    "            #'Overlap': int(100.0 * float(male_dur + female_dur) / base_dur) - 100\n",
    "        })\n",
    "    return out_rows\n",
    "gender_ordering = ['M', 'M%', 'F', 'F%', 'U', 'U%']\n",
    "#gender_ordering = ['M', 'M%', 'M-Adj', 'M-Adj%', 'F', 'F%', 'F-Adj', 'F-Adj%', 'U', 'U%', 'U-Adj', 'U-Adj%']"
   ]
  }
 ],
 "metadata": {
  "kernelspec": {
   "display_name": "Django Shell-Plus",
   "language": "python",
   "name": "django_extensions"
  },
  "language_info": {
   "codemirror_mode": {
    "name": "ipython",
    "version": 3
   },
   "file_extension": ".py",
   "mimetype": "text/x-python",
   "name": "python",
   "nbconvert_exporter": "python",
   "pygments_lexer": "ipython3",
   "version": "3.5.2"
  },
  "toc": {
   "base_numbering": 1,
   "nav_menu": {},
   "number_sections": true,
   "sideBar": false,
   "skip_h1_title": false,
   "title_cell": "Table of Contents",
   "title_sidebar": "Contents",
   "toc_cell": true,
   "toc_position": {},
   "toc_section_display": "block",
   "toc_window_display": false
  }
 },
 "nbformat": 4,
 "nbformat_minor": 2
}
