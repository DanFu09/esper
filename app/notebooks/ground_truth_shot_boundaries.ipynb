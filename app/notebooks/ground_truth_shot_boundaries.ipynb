{
 "cells": [
  {
   "cell_type": "markdown",
   "metadata": {
    "toc": true
   },
   "source": [
    "<h1>Table of Contents<span class=\"tocSkip\"></span></h1>\n",
    "<div class=\"toc\" style=\"margin-top: 1em;\"><ul class=\"toc-item\"><li><span><a href=\"#Ground-Truth-Shot-Boundaries\" data-toc-modified-id=\"Ground-Truth-Shot-Boundaries-1\"><span class=\"toc-item-num\">1&nbsp;&nbsp;</span>Ground Truth Shot Boundaries</a></span></li></ul></div>"
   ]
  },
  {
   "cell_type": "code",
   "execution_count": null,
   "metadata": {
    "ExecuteTime": {
     "end_time": "2018-12-06T18:48:08.209104Z",
     "start_time": "2018-12-06T18:48:08.169235Z"
    }
   },
   "outputs": [],
   "source": [
    "from esper.prelude import *\n",
    "from query.models import Tag, Labeler, Frame"
   ]
  },
  {
   "cell_type": "markdown",
   "metadata": {},
   "source": [
    "# Ground Truth Shot Boundaries\n",
    "This is a notebook for annotating ground truth shot boundaries for a small subset of frames."
   ]
  },
  {
   "cell_type": "code",
   "execution_count": null,
   "metadata": {
    "ExecuteTime": {
     "end_time": "2018-12-06T18:48:09.512880Z",
     "start_time": "2018-12-06T18:48:09.472277Z"
    }
   },
   "outputs": [],
   "source": [
    "# Pick the Video ID, start time, and end time\n",
    "video_id = 123\n",
    "start_time_seconds = 600\n",
    "end_time_seconds = 900"
   ]
  },
  {
   "cell_type": "markdown",
   "metadata": {},
   "source": [
    "We will display all the frames between start and end. You must scroll through and select frames that start new shots. First click \"Disable Jupyter keyboard,\" then hover over the frame. F to expand the thumbnail, S to select the frame. P to play starting from that clip"
   ]
  },
  {
   "cell_type": "code",
   "execution_count": null,
   "metadata": {
    "ExecuteTime": {
     "end_time": "2018-12-06T18:48:11.824861Z",
     "start_time": "2018-12-06T18:48:10.968730Z"
    },
    "scrolled": true
   },
   "outputs": [],
   "source": [
    "video = Video.objects.filter(id=video_id)[0]\n",
    "frames = range(int(video.fps * start_time_seconds), int(video.fps * end_time_seconds))\n",
    "def frame_result(video_id, frame_nums):\n",
    "    from esper.stdlib import simple_result\n",
    "    materialized_result = []\n",
    "    for frame_num in frame_nums:\n",
    "        materialized_result.append({\n",
    "            'video': video_id,\n",
    "            'min_frame': frame_num,\n",
    "            'objects': []\n",
    "        })\n",
    "    return simple_result(materialized_result, 'frames')\n",
    "widget = esper_widget(frame_result(video_id, frames))\n",
    "widget"
   ]
  },
  {
   "cell_type": "code",
   "execution_count": null,
   "metadata": {
    "ExecuteTime": {
     "end_time": "2018-12-06T19:31:25.162250Z",
     "start_time": "2018-12-06T19:31:25.123109Z"
    }
   },
   "outputs": [],
   "source": [
    "selected_frames = widget.selected"
   ]
  },
  {
   "cell_type": "code",
   "execution_count": null,
   "metadata": {
    "ExecuteTime": {
     "end_time": "2018-12-06T19:44:00.533532Z",
     "start_time": "2018-12-06T19:44:00.466987Z"
    }
   },
   "outputs": [],
   "source": [
    "# visualize your selected frames. We recommend watching the video and counting the number of shots to verify.\n",
    "print(\"num boundaries:\", len(selected_frames))\n",
    "selected_frame_nums = [int(video.fps * start_time_seconds) + idx for idx in selected_frames]\n",
    "esper_widget(frame_result(video_id, selected_frame_nums))"
   ]
  },
  {
   "cell_type": "code",
   "execution_count": null,
   "metadata": {
    "ExecuteTime": {
     "end_time": "2018-12-06T19:45:58.957395Z",
     "start_time": "2018-12-06T19:45:58.916551Z"
    }
   },
   "outputs": [],
   "source": [
    "# Convert boundaries into shots\n",
    "shots = []\n",
    "for i in range(0, len(selected_frame_nums) - 1):\n",
    "    shots.append((selected_frame_nums[i], selected_frame_nums[i+1] - 1))"
   ]
  },
  {
   "cell_type": "code",
   "execution_count": null,
   "metadata": {
    "ExecuteTime": {
     "end_time": "2018-12-06T19:45:59.808913Z",
     "start_time": "2018-12-06T19:45:59.763291Z"
    }
   },
   "outputs": [],
   "source": [
    "# Put shots into database\n",
    "LABELER, _ = Labeler.objects.get_or_create(name='shot-manual')\n",
    "LABELED_TAG, _ = Tag.objects.get_or_create(name='shot-manual:labeled')"
   ]
  },
  {
   "cell_type": "code",
   "execution_count": null,
   "metadata": {
    "ExecuteTime": {
     "end_time": "2018-12-06T19:46:01.389335Z",
     "start_time": "2018-12-06T19:46:01.348785Z"
    }
   },
   "outputs": [],
   "source": [
    "new_shots = [\n",
    "    Shot(min_frame = start_frame,\n",
    "        max_frame = end_frame,\n",
    "        video=video,\n",
    "        labeler=LABELER)\n",
    "for start_frame, end_frame in shots]"
   ]
  },
  {
   "cell_type": "code",
   "execution_count": null,
   "metadata": {
    "ExecuteTime": {
     "end_time": "2018-12-06T19:46:02.296617Z",
     "start_time": "2018-12-06T19:46:02.245196Z"
    }
   },
   "outputs": [],
   "source": [
    "Shot.objects.bulk_create(new_shots)"
   ]
  }
 ],
 "metadata": {
  "kernelspec": {
   "display_name": "Django Shell-Plus",
   "language": "python",
   "name": "django_extensions"
  },
  "language_info": {
   "codemirror_mode": {
    "name": "ipython",
    "version": 3
   },
   "file_extension": ".py",
   "mimetype": "text/x-python",
   "name": "python",
   "nbconvert_exporter": "python",
   "pygments_lexer": "ipython3",
   "version": "3.5.2"
  },
  "toc": {
   "base_numbering": 1,
   "nav_menu": {},
   "number_sections": true,
   "sideBar": false,
   "skip_h1_title": false,
   "title_cell": "Table of Contents",
   "title_sidebar": "Contents",
   "toc_cell": true,
   "toc_position": {},
   "toc_section_display": "block",
   "toc_window_display": false
  }
 },
 "nbformat": 4,
 "nbformat_minor": 2
}
