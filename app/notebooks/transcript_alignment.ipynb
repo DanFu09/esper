{
 "cells": [
  {
   "cell_type": "markdown",
   "metadata": {
    "toc": true
   },
   "source": [
    "<h1>Table of Contents<span class=\"tocSkip\"></span></h1>\n",
    "<div class=\"toc\" style=\"margin-top: 1em;\"><ul class=\"toc-item\"><li><span><a href=\"#Install-gentle\" data-toc-modified-id=\"Install-gentle-1\"><span class=\"toc-item-num\">1&nbsp;&nbsp;</span>Install gentle</a></span></li><li><span><a href=\"#Test-align_transcript\" data-toc-modified-id=\"Test-align_transcript-2\"><span class=\"toc-item-num\">2&nbsp;&nbsp;</span>Test align_transcript</a></span></li></ul></div>"
   ]
  },
  {
   "cell_type": "markdown",
   "metadata": {},
   "source": [
    "# Install gentle "
   ]
  },
  {
   "cell_type": "markdown",
   "metadata": {},
   "source": [
    "1.\n",
    "git clone https://github.com/scanner-research/gentle\n",
    "\n",
    "2.\n",
    "bash ./install.sh (takes ~30min)   "
   ]
  },
  {
   "cell_type": "markdown",
   "metadata": {},
   "source": [
    "# Test aligning transcript with local video"
   ]
  },
  {
   "cell_type": "code",
   "execution_count": null,
   "metadata": {
    "ExecuteTime": {
     "end_time": "2018-12-02T07:19:12.446682Z",
     "start_time": "2018-12-02T07:19:11.956097Z"
    }
   },
   "outputs": [],
   "source": [
    "from scannertools.transcript_alignment import TranscriptAligner\n",
    "aligner = TranscriptAligner(seg_length=60, max_misalign=10, num_thread=64, \n",
    "                            media_path='../app/data/harry_potter_and_the_goblet_of_fire_2005.mp4',\n",
    "                            transcript_path='../app/data/harry_potter_and_the_goblet_of_fire_2005.srt',\n",
    "                            align_dir='../app/result/aligned_transcript/')"
   ]
  },
  {
   "cell_type": "code",
   "execution_count": null,
   "metadata": {
    "ExecuteTime": {
     "end_time": "2018-12-02T06:07:39.855191Z",
     "start_time": "2018-12-02T05:59:15.570685Z"
    },
    "scrolled": true
   },
   "outputs": [],
   "source": [
    "aligner.run_all()"
   ]
  },
  {
   "cell_type": "markdown",
   "metadata": {},
   "source": [
    "# Test aligning transcript with Esper to retrieve audio (not done)"
   ]
  },
  {
   "cell_type": "code",
   "execution_count": null,
   "metadata": {},
   "outputs": [],
   "source": [
    "from query.models import Video"
   ]
  },
  {
   "cell_type": "code",
   "execution_count": null,
   "metadata": {},
   "outputs": [],
   "source": [
    "# set test video\n",
    "video_name = 'harry_potter_and_the_goblet_of_fire_2005'\n",
    "video = Video.objects.filter(path__contains=video_name)[0] "
   ]
  },
  {
   "cell_type": "code",
   "execution_count": null,
   "metadata": {
    "ExecuteTime": {
     "end_time": "2018-12-02T07:07:05.542313Z",
     "start_time": "2018-12-02T07:07:04.697938Z"
    },
    "scrolled": true
   },
   "outputs": [],
   "source": [
    "audio_path = video.extract_audio()\n",
    "# Todo: fix bug"
   ]
  },
  {
   "cell_type": "code",
   "execution_count": null,
   "metadata": {},
   "outputs": [],
   "source": [
    "from scannertools.transcript_alignment import TranscriptAligner\n",
    "aligner = TranscriptAligner(seg_length=60, max_misalign=10, num_thread=64, \n",
    "                            media_path=audio_path,\n",
    "                            transcript_path='../app/data/harry_potter_and_the_goblet_of_fire_2005.srt',\n",
    "                            align_dir='../app/result/aligned_transcript/')"
   ]
  },
  {
   "cell_type": "markdown",
   "metadata": {},
   "source": [
    "# Test aligning transcript using scanner pipeline"
   ]
  },
  {
   "cell_type": "code",
   "execution_count": null,
   "metadata": {
    "ExecuteTime": {
     "end_time": "2018-12-02T07:07:00.074456Z",
     "start_time": "2018-12-02T07:06:59.639816Z"
    }
   },
   "outputs": [],
   "source": [
    "from scannertools import audio, transcript_alignment\n",
    "import scannerpy\n",
    "import os\n",
    "from query.models import Video"
   ]
  },
  {
   "cell_type": "code",
   "execution_count": null,
   "metadata": {
    "ExecuteTime": {
     "end_time": "2018-12-02T07:07:01.289530Z",
     "start_time": "2018-12-02T07:07:01.269839Z"
    }
   },
   "outputs": [],
   "source": [
    "# set test video list\n",
    "video_list = ['CNNW_20170907_040000_Anderson_Cooper_360']\n",
    "# import pickle\n",
    "# video_list = pickle.load(open('../app/data/tvnews_std_sample.pkl', 'rb'))['sample_100']"
   ]
  },
  {
   "cell_type": "code",
   "execution_count": null,
   "metadata": {
    "ExecuteTime": {
     "end_time": "2018-12-02T07:07:03.438852Z",
     "start_time": "2018-12-02T07:07:02.985933Z"
    }
   },
   "outputs": [],
   "source": [
    "# load videos from database\n",
    "videos = [Video.objects.filter(path__contains=video_name)[0] for video_name in video_list]"
   ]
  },
  {
   "cell_type": "code",
   "execution_count": null,
   "metadata": {
    "ExecuteTime": {
     "end_time": "2018-12-02T02:30:16.561021Z",
     "start_time": "2018-12-02T02:30:16.543933Z"
    }
   },
   "outputs": [],
   "source": [
    "# load audios from videos\n",
    "audios = [audio.AudioSource(video.for_scannertools(), frame_size=60.0) for video in videos]"
   ]
  },
  {
   "cell_type": "code",
   "execution_count": null,
   "metadata": {
    "ExecuteTime": {
     "end_time": "2018-12-02T02:30:16.578123Z",
     "start_time": "2018-12-02T02:30:16.562978Z"
    }
   },
   "outputs": [],
   "source": [
    "# set up transcripts \n",
    "transcripts = [ '../app/data/subs10/'+video_name for video_name in video_list ]"
   ]
  },
  {
   "cell_type": "code",
   "execution_count": null,
   "metadata": {
    "ExecuteTime": {
     "end_time": "2018-12-02T02:30:18.029081Z",
     "start_time": "2018-12-02T02:30:16.580133Z"
    }
   },
   "outputs": [],
   "source": [
    "db = scannerpy.Database()"
   ]
  },
  {
   "cell_type": "code",
   "execution_count": null,
   "metadata": {
    "ExecuteTime": {
     "start_time": "2018-12-02T02:30:15.375Z"
    },
    "scrolled": true
   },
   "outputs": [],
   "source": [
    "result = transcript_alignment.align_transcript(db, audio=audios, transcript=transcripts, \n",
    "                                               cache=False, \n",
    "                                               align_dir='../app/result/aligned_transcript',\n",
    "                                               res_path='../app/result/test_align_1.pkl')"
   ]
  },
  {
   "cell_type": "code",
   "execution_count": null,
   "metadata": {
    "ExecuteTime": {
     "start_time": "2018-12-02T02:30:15.376Z"
    }
   },
   "outputs": [],
   "source": [
    "result[0]._column._table.profiler().write_trace('../app/result/test_align_1.trace')"
   ]
  }
 ],
 "metadata": {
  "kernelspec": {
   "display_name": "Django Shell-Plus",
   "language": "python",
   "name": "django_extensions"
  },
  "language_info": {
   "codemirror_mode": {
    "name": "ipython",
    "version": 3
   },
   "file_extension": ".py",
   "mimetype": "text/x-python",
   "name": "python",
   "nbconvert_exporter": "python",
   "pygments_lexer": "ipython3",
   "version": "3.5.2"
  },
  "toc": {
   "base_numbering": 1,
   "nav_menu": {},
   "number_sections": true,
   "sideBar": false,
   "skip_h1_title": false,
   "title_cell": "Table of Contents",
   "title_sidebar": "Contents",
   "toc_cell": true,
   "toc_position": {},
   "toc_section_display": "block",
   "toc_window_display": false
  }
 },
 "nbformat": 4,
 "nbformat_minor": 2
}
