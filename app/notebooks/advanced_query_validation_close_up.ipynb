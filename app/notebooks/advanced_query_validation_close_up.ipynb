{
 "cells": [
  {
   "cell_type": "markdown",
   "metadata": {},
   "source": [
    "# Setup\n",
    "\n",
    "There is a hidden initialization cell below. It should run automatically and print, but if it does not, please run it."
   ]
  },
  {
   "cell_type": "code",
   "execution_count": 18,
   "metadata": {
    "ExecuteTime": {
     "end_time": "2019-03-07T00:11:33.844695Z",
     "start_time": "2019-03-07T00:11:33.749663Z"
    },
    "hide_input": true,
    "init_cell": true
   },
   "outputs": [
    {
     "name": "stdout",
     "output_type": "stream",
     "text": [
      "Loading libraries... Please wait.\n",
      "Done!\n"
     ]
    }
   ],
   "source": [
    "%matplotlib inline\n",
    "\n",
    "print('Loading libraries... Please wait.')\n",
    "\n",
    "from IPython.display import display, clear_output\n",
    "import ipywidgets as widgets\n",
    "import random\n",
    "import sys\n",
    "from sklearn.metrics import confusion_matrix, accuracy_score\n",
    "\n",
    "from esper.prelude import *\n",
    "from esper.stdlib import *\n",
    "import esper.face_embeddings as face_embeddings\n",
    "\n",
    "\n",
    "WIDGET_STYLE_ARGS = {'description_width': 'initial'}\n",
    "\n",
    "def load_samples():\n",
    "    # load up samples\n",
    "    with open(os.path.join(PATH, FILE_NAME), 'rb') as f:\n",
    "        samples = pickle.load(f)\n",
    "    \n",
    "    result = []\n",
    "    for s in samples[START_INDEX:END_INDEX]:\n",
    "        video, min_frame, max_frame = s\n",
    "        query_result = {\n",
    "            'type': 'flat', 'label': '', \n",
    "            'elements': [{\n",
    "                'objects': [], \n",
    "                'min_frame': min_frame,\n",
    "                'max_frame': max_frame,\n",
    "                'video': video\n",
    "            }]\n",
    "        }\n",
    "        result.append(query_result)\n",
    "    result_obj = {'type': '', 'count': 0, 'result': result}\n",
    "    \n",
    "    return result_obj\n",
    "\n",
    "def label_segments(result_obj):\n",
    "    widg = esper_widget(\n",
    "        result_obj, jupyter_keybindings=True,\n",
    "        results_per_page=100\n",
    "    )\n",
    "    \n",
    "    calculate_precision_button = widgets.Button(\n",
    "        layout=widgets.Layout(width='auto'),\n",
    "        style=WIDGET_STYLE_ARGS,\n",
    "        description='Calculate Accuracy',\n",
    "        disabled=False,\n",
    "        button_style=''\n",
    "    )\n",
    "    def on_calculate(b):\n",
    "        precision = len(widg.selected) / (len(widg.selected) + len(widg.ignored))\n",
    "        print(\"Precision is {}\".format(precision))\n",
    "    calculate_precision_button.on_click(on_calculate)\n",
    "    \n",
    "    save_button = widgets.Button(\n",
    "        layout=widgets.Layout(width='auto'),\n",
    "        style=WIDGET_STYLE_ARGS,\n",
    "        description='Save results',\n",
    "        disabled=False,\n",
    "        button_style='danger'\n",
    "    )\n",
    "    def on_save(b):\n",
    "        with open(os.path.join(PATH, SAVE_FILE), 'wb') as f:\n",
    "            pickle.dump({\n",
    "                'positive': widg.selected,\n",
    "                'negative': widg.ignored\n",
    "            }, f)\n",
    "            print('Results saved')\n",
    "    save_button.on_click(on_save)\n",
    "    \n",
    "    display(calculate_precision_button)\n",
    "    display(save_button)\n",
    "    display(widg)\n",
    "    display(calculate_precision_button)\n",
    "    display(save_button)\n",
    "    \n",
    "    return widg\n",
    "\n",
    "def get_precision(widg):\n",
    "    return len(widg.selected) / (len(widg.selected) + len(widg.ignored))\n",
    "\n",
    "print('Done!')"
   ]
  },
  {
   "cell_type": "markdown",
   "metadata": {},
   "source": [
    "# Init Constants"
   ]
  },
  {
   "cell_type": "code",
   "execution_count": 4,
   "metadata": {
    "ExecuteTime": {
     "end_time": "2019-03-06T22:50:53.734758Z",
     "start_time": "2019-03-06T22:50:53.695085Z"
    }
   },
   "outputs": [],
   "source": [
    "BASENAME = 'sampled_CLOSE_UP'"
   ]
  },
  {
   "cell_type": "code",
   "execution_count": 5,
   "metadata": {
    "ExecuteTime": {
     "end_time": "2019-03-06T22:50:54.395060Z",
     "start_time": "2019-03-06T22:50:54.356001Z"
    }
   },
   "outputs": [],
   "source": [
    "PATH = '/app/data/shot_scales_and_conv_idioms_samples'\n",
    "FILE_NAME = '{}.pkl'.format(BASENAME)\n",
    "START_INDEX = 0\n",
    "END_INDEX = 100\n",
    "SAVE_FILE = '{}_results_{}_{}.pkl'.format(BASENAME, START_INDEX, END_INDEX)"
   ]
  },
  {
   "cell_type": "markdown",
   "metadata": {},
   "source": [
    "# Do labeling\n",
    "\n",
    "Run the two cells below. `=` to expand frames - be sure to look at how long the clip is. `[` for positive examples, `]` for negative examples.\n",
    "\n",
    "Shot scale definitions:\n",
    "* Extreme long: the entire body of the character is visible and does not take up the whole frame.\n",
    "* Long: the entire body is visible but fills the frame.\n",
    "* Medium long:, the body up to the knee is visible.\n",
    "* Medium: the body up to the waist is visible.\n",
    "* Medium close ups, the body up to the chest is visible.\n",
    "* In close ups, the head and shoulders are visible.\n",
    "* Extreme close ups, only the face is visible (and not the neck).\n",
    "\n",
    "Idiom definitions:\n",
    "* Intensification: Series of shots in a conversation where the shot scale gets monotonically closer on at least one participant.\n",
    "* Start wide: Conversation where the first shot is an establishing shot showing all the participants in the conversation."
   ]
  },
  {
   "cell_type": "code",
   "execution_count": 6,
   "metadata": {
    "ExecuteTime": {
     "end_time": "2019-03-06T22:50:56.538155Z",
     "start_time": "2019-03-06T22:50:56.495645Z"
    }
   },
   "outputs": [],
   "source": [
    "esper_result = load_samples()"
   ]
  },
  {
   "cell_type": "code",
   "execution_count": 11,
   "metadata": {
    "ExecuteTime": {
     "end_time": "2019-03-06T23:11:36.201503Z",
     "start_time": "2019-03-06T23:11:36.158766Z"
    }
   },
   "outputs": [],
   "source": [
    "ignored = [6, 7, 8, 10, 22, 30, 42, 46, 59, 70, 76, 95]"
   ]
  },
  {
   "cell_type": "code",
   "execution_count": 12,
   "metadata": {
    "ExecuteTime": {
     "end_time": "2019-03-06T23:11:51.690111Z",
     "start_time": "2019-03-06T23:11:51.649338Z"
    }
   },
   "outputs": [],
   "source": [
    "selected = sorted(list(set(range(100)).difference(set(ignored))))"
   ]
  },
  {
   "cell_type": "code",
   "execution_count": 13,
   "metadata": {
    "ExecuteTime": {
     "end_time": "2019-03-06T23:12:02.900527Z",
     "start_time": "2019-03-06T23:12:02.856837Z"
    }
   },
   "outputs": [],
   "source": [
    "widg.ignored = ignored"
   ]
  },
  {
   "cell_type": "code",
   "execution_count": 14,
   "metadata": {
    "ExecuteTime": {
     "end_time": "2019-03-06T23:12:12.729281Z",
     "start_time": "2019-03-06T23:12:12.688941Z"
    }
   },
   "outputs": [],
   "source": [
    "widg.selected=selected"
   ]
  },
  {
   "cell_type": "code",
   "execution_count": 7,
   "metadata": {
    "ExecuteTime": {
     "end_time": "2019-03-06T22:51:01.616870Z",
     "start_time": "2019-03-06T22:50:57.550601Z"
    },
    "scrolled": false
   },
   "outputs": [
    {
     "data": {
      "application/vnd.jupyter.widget-view+json": {
       "model_id": "c68a220655784219b15a4ded8f4c22b9",
       "version_major": 2,
       "version_minor": 0
      },
      "text/plain": [
       "Button(description='Calculate Accuracy', layout=Layout(width='auto'), style=ButtonStyle())"
      ]
     },
     "metadata": {},
     "output_type": "display_data"
    },
    {
     "data": {
      "application/vnd.jupyter.widget-view+json": {
       "model_id": "8eaa40b611ba4eb380fc07b72a97eebe",
       "version_major": 2,
       "version_minor": 0
      },
      "text/plain": [
       "Button(button_style='danger', description='Save results', layout=Layout(width='auto'), style=ButtonStyle())"
      ]
     },
     "metadata": {},
     "output_type": "display_data"
    },
    {
     "data": {
      "application/vnd.jupyter.widget-view+json": {
       "model_id": "0642b4632b394f70b8e12467669fb5a1",
       "version_major": 2,
       "version_minor": 0
      },
      "text/plain": [
       "VGridWidget(jsglobals={'schema': [['Identity', ['id', 'name']], ['Genre', ['id', 'name']], ['Director', ['id',…"
      ]
     },
     "metadata": {},
     "output_type": "display_data"
    },
    {
     "data": {
      "application/vnd.jupyter.widget-view+json": {
       "model_id": "c68a220655784219b15a4ded8f4c22b9",
       "version_major": 2,
       "version_minor": 0
      },
      "text/plain": [
       "Button(description='Calculate Accuracy', layout=Layout(width='auto'), style=ButtonStyle())"
      ]
     },
     "metadata": {},
     "output_type": "display_data"
    },
    {
     "data": {
      "application/vnd.jupyter.widget-view+json": {
       "model_id": "8eaa40b611ba4eb380fc07b72a97eebe",
       "version_major": 2,
       "version_minor": 0
      },
      "text/plain": [
       "Button(button_style='danger', description='Save results', layout=Layout(width='auto'), style=ButtonStyle())"
      ]
     },
     "metadata": {},
     "output_type": "display_data"
    },
    {
     "ename": "ZeroDivisionError",
     "evalue": "division by zero",
     "output_type": "error",
     "traceback": [
      "\u001b[0;31m---------------------------------------------------------------------------\u001b[0m",
      "\u001b[0;31mZeroDivisionError\u001b[0m                         Traceback (most recent call last)",
      "\u001b[0;32m<ipython-input-3-9fe3bee6a333>\u001b[0m in \u001b[0;36mon_calculate\u001b[0;34m(b)\u001b[0m\n\u001b[1;32m     52\u001b[0m     )\n\u001b[1;32m     53\u001b[0m     \u001b[0;32mdef\u001b[0m \u001b[0mon_calculate\u001b[0m\u001b[0;34m(\u001b[0m\u001b[0mb\u001b[0m\u001b[0;34m)\u001b[0m\u001b[0;34m:\u001b[0m\u001b[0;34m\u001b[0m\u001b[0m\n\u001b[0;32m---> 54\u001b[0;31m         \u001b[0mprecision\u001b[0m \u001b[0;34m=\u001b[0m \u001b[0mlen\u001b[0m\u001b[0;34m(\u001b[0m\u001b[0mwidg\u001b[0m\u001b[0;34m.\u001b[0m\u001b[0mselected\u001b[0m\u001b[0;34m)\u001b[0m \u001b[0;34m/\u001b[0m \u001b[0;34m(\u001b[0m\u001b[0mlen\u001b[0m\u001b[0;34m(\u001b[0m\u001b[0mwidg\u001b[0m\u001b[0;34m.\u001b[0m\u001b[0mselected\u001b[0m\u001b[0;34m)\u001b[0m \u001b[0;34m+\u001b[0m \u001b[0mlen\u001b[0m\u001b[0;34m(\u001b[0m\u001b[0mwidg\u001b[0m\u001b[0;34m.\u001b[0m\u001b[0mignored\u001b[0m\u001b[0;34m)\u001b[0m\u001b[0;34m)\u001b[0m\u001b[0;34m\u001b[0m\u001b[0m\n\u001b[0m\u001b[1;32m     55\u001b[0m         \u001b[0mprint\u001b[0m\u001b[0;34m(\u001b[0m\u001b[0;34m\"Precision is {}\"\u001b[0m\u001b[0;34m.\u001b[0m\u001b[0mformat\u001b[0m\u001b[0;34m(\u001b[0m\u001b[0mprecision\u001b[0m\u001b[0;34m)\u001b[0m\u001b[0;34m)\u001b[0m\u001b[0;34m\u001b[0m\u001b[0m\n\u001b[1;32m     56\u001b[0m     \u001b[0mcalculate_precision_button\u001b[0m\u001b[0;34m.\u001b[0m\u001b[0mon_click\u001b[0m\u001b[0;34m(\u001b[0m\u001b[0mon_calculate\u001b[0m\u001b[0;34m)\u001b[0m\u001b[0;34m\u001b[0m\u001b[0m\n",
      "\u001b[0;31mZeroDivisionError\u001b[0m: division by zero"
     ]
    },
    {
     "name": "stdout",
     "output_type": "stream",
     "text": [
      "Precision is 0.0\n",
      "Precision is 0.88\n",
      "Results saved\n"
     ]
    }
   ],
   "source": [
    "widg = label_segments(esper_result)"
   ]
  },
  {
   "cell_type": "markdown",
   "metadata": {},
   "source": [
    "# Get Precision\n",
    "Run the cell below to print the precision"
   ]
  },
  {
   "cell_type": "code",
   "execution_count": 15,
   "metadata": {
    "ExecuteTime": {
     "end_time": "2019-03-06T23:12:20.501582Z",
     "start_time": "2019-03-06T23:12:20.457940Z"
    }
   },
   "outputs": [
    {
     "data": {
      "text/plain": [
       "0.88"
      ]
     },
     "execution_count": 15,
     "metadata": {},
     "output_type": "execute_result"
    }
   ],
   "source": [
    "get_precision(widg)"
   ]
  }
 ],
 "metadata": {
  "celltoolbar": "Initialization Cell",
  "kernelspec": {
   "display_name": "Django Shell-Plus",
   "language": "python",
   "name": "django_extensions"
  },
  "language_info": {
   "codemirror_mode": {
    "name": "ipython",
    "version": 3
   },
   "file_extension": ".py",
   "mimetype": "text/x-python",
   "name": "python",
   "nbconvert_exporter": "python",
   "pygments_lexer": "ipython3",
   "version": "3.5.2"
  },
  "toc": {
   "nav_menu": {},
   "number_sections": true,
   "sideBar": true,
   "skip_h1_title": false,
   "toc_cell": false,
   "toc_position": {},
   "toc_section_display": "block",
   "toc_window_display": false
  }
 },
 "nbformat": 4,
 "nbformat_minor": 2
}
