{
 "cells": [
  {
   "cell_type": "markdown",
   "metadata": {
    "toc": true
   },
   "source": [
    "<h1>Table of Contents<span class=\"tocSkip\"></span></h1>\n",
    "<div class=\"toc\" style=\"margin-top: 1em;\"><ul class=\"toc-item\"></ul></div>"
   ]
  },
  {
   "cell_type": "code",
   "execution_count": 1,
   "metadata": {
    "ExecuteTime": {
     "end_time": "2018-12-01T01:29:33.519189Z",
     "start_time": "2018-12-01T01:29:32.672034Z"
    }
   },
   "outputs": [],
   "source": [
    "import scannerpy \n",
    "import scannertools as st\n",
    "import os\n",
    "from django.db.models import Q\n",
    "from query.models import Video, VideoTag, Frame\n",
    "import numpy as np\n",
    "from esper.prelude import load_frame\n",
    "import cv2"
   ]
  },
  {
   "cell_type": "code",
   "execution_count": 11,
   "metadata": {
    "ExecuteTime": {
     "end_time": "2018-12-01T01:31:38.660385Z",
     "start_time": "2018-12-01T01:31:38.617057Z"
    }
   },
   "outputs": [],
   "source": [
    "vids = [vals[0] for vals in VideoTag.objects.values_list('video_id').distinct().all()]"
   ]
  },
  {
   "cell_type": "code",
   "execution_count": 12,
   "metadata": {
    "ExecuteTime": {
     "end_time": "2018-12-01T01:31:41.269074Z",
     "start_time": "2018-12-01T01:31:41.227074Z"
    }
   },
   "outputs": [],
   "source": [
    "videos = Video.objects.filter(id__in=vids)"
   ]
  },
  {
   "cell_type": "code",
   "execution_count": 14,
   "metadata": {
    "ExecuteTime": {
     "end_time": "2018-12-01T01:31:52.601369Z",
     "start_time": "2018-12-01T01:31:52.560793Z"
    }
   },
   "outputs": [
    {
     "data": {
      "text/plain": [
       "22"
      ]
     },
     "execution_count": 14,
     "metadata": {},
     "output_type": "execute_result"
    }
   ],
   "source": [
    "len(list(videos))"
   ]
  },
  {
   "cell_type": "code",
   "execution_count": 3,
   "metadata": {
    "ExecuteTime": {
     "end_time": "2018-11-30T06:44:46.916686Z",
     "start_time": "2018-11-30T06:44:46.893160Z"
    }
   },
   "outputs": [],
   "source": [
    "frames = [[0, 1000]]"
   ]
  },
  {
   "cell_type": "code",
   "execution_count": 4,
   "metadata": {
    "ExecuteTime": {
     "end_time": "2018-11-30T06:44:48.237691Z",
     "start_time": "2018-11-30T06:44:46.920619Z"
    }
   },
   "outputs": [],
   "source": [
    "db = scannerpy.Database()"
   ]
  },
  {
   "cell_type": "code",
   "execution_count": 5,
   "metadata": {
    "ExecuteTime": {
     "end_time": "2018-11-30T06:41:50.905365Z",
     "start_time": "2018-11-30T06:41:42.760404Z"
    }
   },
   "outputs": [
    {
     "name": "stdout",
     "output_type": "stream",
     "text": [
      "Executing 1 jobs\n",
      "Megabatch 1/1\n"
     ]
    },
    {
     "name": "stderr",
     "output_type": "stream",
     "text": [
      "100%|██████████████████████████████████████████████████████████████████████████████████████████████████████████████████████████████████████████████████████████████████████████████| 1/1 [00:05<00:00,  4.52s/it, jobs=1, workers=0, tasks=0]\n"
     ]
    }
   ],
   "source": [
    "brightness = st.imgproc.compute_sharpness(\n",
    "    db,\n",
    "    videos=[video.for_scannertools() for video in videos],\n",
    "    frames=frames,\n",
    "    cache=False\n",
    ")"
   ]
  },
  {
   "cell_type": "code",
   "execution_count": 6,
   "metadata": {
    "ExecuteTime": {
     "end_time": "2018-11-30T06:41:52.681131Z",
     "start_time": "2018-11-30T06:41:51.720595Z"
    }
   },
   "outputs": [
    {
     "name": "stdout",
     "output_type": "stream",
     "text": [
      "[0.0, 185.8358064236111]\n"
     ]
    }
   ],
   "source": [
    "print(list(brightness[0].load()))"
   ]
  },
  {
   "cell_type": "code",
   "execution_count": 5,
   "metadata": {
    "ExecuteTime": {
     "end_time": "2018-11-30T06:44:54.165518Z",
     "start_time": "2018-11-30T06:44:48.242226Z"
    }
   },
   "outputs": [
    {
     "name": "stdout",
     "output_type": "stream",
     "text": [
      "Executing 1 jobs\n",
      "Megabatch 1/1\n"
     ]
    },
    {
     "name": "stderr",
     "output_type": "stream",
     "text": [
      "100%|██████████████████████████████████████████████████████████████████████████████████████████████████████████████████████████████████████████████████████████████████████████████| 1/1 [00:04<00:00,  3.77s/it, workers=0, jobs=1, tasks=0]\n"
     ]
    }
   ],
   "source": [
    "brightness_cpp = st.imgproc.compute_sharpness_cpp(\n",
    "    db,\n",
    "    videos=[video.for_scannertools() for video in videos],\n",
    "    frames=frames,\n",
    "    cache=False\n",
    ")"
   ]
  },
  {
   "cell_type": "code",
   "execution_count": 6,
   "metadata": {
    "ExecuteTime": {
     "end_time": "2018-11-30T06:44:55.055465Z",
     "start_time": "2018-11-30T06:44:54.173545Z"
    }
   },
   "outputs": [
    {
     "name": "stderr",
     "output_type": "stream",
     "text": [
      "[autoreload of _ignore failed: Traceback (most recent call last):\n",
      "  File \"/usr/local/lib/python3.5/dist-packages/IPython/extensions/autoreload.py\", line 247, in check\n",
      "    superreload(m, reload, self.old_objects)\n",
      "AttributeError: 'NoneType' object has no attribute 'name'\n",
      "]\n"
     ]
    },
    {
     "name": "stdout",
     "output_type": "stream",
     "text": [
      "[0.0, 139.37686157226562]\n"
     ]
    }
   ],
   "source": [
    "print(list(brightness_cpp[0].load()))"
   ]
  },
  {
   "cell_type": "code",
   "execution_count": 6,
   "metadata": {
    "ExecuteTime": {
     "end_time": "2018-11-29T19:03:28.248703Z",
     "start_time": "2018-11-29T19:03:27.042200Z"
    }
   },
   "outputs": [
    {
     "name": "stderr",
     "output_type": "stream",
     "text": [
      "[autoreload of _ignore failed: Traceback (most recent call last):\n",
      "  File \"/usr/local/lib/python3.5/dist-packages/IPython/extensions/autoreload.py\", line 247, in check\n",
      "    superreload(m, reload, self.old_objects)\n",
      "AttributeError: 'NoneType' object has no attribute 'name'\n",
      "]\n"
     ]
    },
    {
     "data": {
      "text/plain": [
       "'brightness_cpp.trace'"
      ]
     },
     "execution_count": 6,
     "metadata": {},
     "output_type": "execute_result"
    }
   ],
   "source": [
    "brightness_cpp[0]._column._table.profiler().write_trace('brightness_cpp.trace')"
   ]
  },
  {
   "cell_type": "code",
   "execution_count": 5,
   "metadata": {
    "ExecuteTime": {
     "end_time": "2018-11-28T18:03:08.941767Z",
     "start_time": "2018-11-28T17:55:00.828959Z"
    }
   },
   "outputs": [
    {
     "name": "stdout",
     "output_type": "stream",
     "text": [
      "Executing 1 jobs\n",
      "Megabatch 1/1\n"
     ]
    },
    {
     "name": "stderr",
     "output_type": "stream",
     "text": [
      "100%|██████████████████████████████████████████████████████████████████████████████████████████████████████████████████████████████████████████████████████████████████████████| 126/126 [08:05<00:00,  2.20s/it, workers=0, tasks=0, jobs=1]\n"
     ]
    }
   ],
   "source": [
    "contrast = st.imgproc.compute_contrast(\n",
    "    db,\n",
    "    videos=[video.for_scannertools() for video in videos],\n",
    "    frames=frames,\n",
    "    cache=False\n",
    ")"
   ]
  },
  {
   "cell_type": "code",
   "execution_count": 9,
   "metadata": {
    "ExecuteTime": {
     "end_time": "2018-11-28T18:33:05.237800Z",
     "start_time": "2018-11-28T18:13:25.968814Z"
    }
   },
   "outputs": [
    {
     "name": "stdout",
     "output_type": "stream",
     "text": [
      "Executing 1 jobs\n",
      "Megabatch 1/1\n"
     ]
    },
    {
     "name": "stderr",
     "output_type": "stream",
     "text": [
      "100%|██████████████████████████████████████████████████████████████████████████████████████████████████████████████████████████████████████████████████████████████████████████| 126/126 [19:36<00:00,  8.40s/it, workers=0, tasks=0, jobs=1]\n"
     ]
    }
   ],
   "source": [
    "sharpness = st.imgproc.compute_sharpness(\n",
    "    db,\n",
    "    videos=[video.for_scannertools() for video in videos],\n",
    "    frames=frames,\n",
    "    cache=False\n",
    ")"
   ]
  },
  {
   "cell_type": "code",
   "execution_count": 7,
   "metadata": {
    "ExecuteTime": {
     "end_time": "2018-11-28T18:13:24.640985Z",
     "start_time": "2018-11-28T18:13:23.317573Z"
    }
   },
   "outputs": [
    {
     "data": {
      "text/plain": [
       "'brightness_12_years_full.trace'"
      ]
     },
     "execution_count": 7,
     "metadata": {},
     "output_type": "execute_result"
    }
   ],
   "source": [
    "brightness[0]._column._table.profiler().write_trace('brightness_12_years_full.trace')"
   ]
  },
  {
   "cell_type": "code",
   "execution_count": 8,
   "metadata": {
    "ExecuteTime": {
     "end_time": "2018-11-28T18:13:25.965238Z",
     "start_time": "2018-11-28T18:13:24.644605Z"
    }
   },
   "outputs": [
    {
     "data": {
      "text/plain": [
       "'contrast_12_years_full.trace'"
      ]
     },
     "execution_count": 8,
     "metadata": {},
     "output_type": "execute_result"
    }
   ],
   "source": [
    "contrast[0]._column._table.profiler().write_trace('contrast_12_years_full.trace')"
   ]
  },
  {
   "cell_type": "code",
   "execution_count": 10,
   "metadata": {
    "ExecuteTime": {
     "end_time": "2018-11-28T18:33:06.425552Z",
     "start_time": "2018-11-28T18:33:05.240623Z"
    }
   },
   "outputs": [
    {
     "data": {
      "text/plain": [
       "'sharpness_12_years_full.trace'"
      ]
     },
     "execution_count": 10,
     "metadata": {},
     "output_type": "execute_result"
    }
   ],
   "source": [
    "sharpness[0]._column._table.profiler().write_trace('sharpness_12_years_full.trace')"
   ]
  },
  {
   "cell_type": "code",
   "execution_count": 11,
   "metadata": {
    "ExecuteTime": {
     "end_time": "2018-11-28T18:33:07.088268Z",
     "start_time": "2018-11-28T18:33:06.428224Z"
    }
   },
   "outputs": [],
   "source": [
    "from esper.prelude import Notifier\n",
    "Notifier().notify('done')"
   ]
  },
  {
   "cell_type": "code",
   "execution_count": 10,
   "metadata": {
    "ExecuteTime": {
     "end_time": "2018-11-20T02:01:14.884879Z",
     "start_time": "2018-11-20T02:01:13.321552Z"
    }
   },
   "outputs": [
    {
     "name": "stdout",
     "output_type": "stream",
     "text": [
      "[3.3121984615562012, 2.1878293436051961, 5.794313214360673, 147.03352083512286, 8.6944346596942328, 126.08641794661891]\n"
     ]
    }
   ],
   "source": [
    "print(list(sharpness[0].load()))"
   ]
  },
  {
   "cell_type": "code",
   "execution_count": 15,
   "metadata": {
    "ExecuteTime": {
     "end_time": "2018-11-19T17:04:50.773440Z",
     "start_time": "2018-11-19T17:04:50.745414Z"
    }
   },
   "outputs": [
    {
     "name": "stdout",
     "output_type": "stream",
     "text": [
      "<scannerpy.op.OpColumn object at 0x7f485b8e78d0>\n"
     ]
    }
   ],
   "source": [
    "print(flow[0].scanner_source(db))"
   ]
  },
  {
   "cell_type": "code",
   "execution_count": 11,
   "metadata": {
    "ExecuteTime": {
     "end_time": "2018-11-30T06:46:05.228059Z",
     "start_time": "2018-11-30T06:46:04.006264Z"
    }
   },
   "outputs": [],
   "source": [
    "frame = load_frame(videos[0], 1000, [])"
   ]
  },
  {
   "cell_type": "code",
   "execution_count": 15,
   "metadata": {
    "ExecuteTime": {
     "end_time": "2018-11-30T06:46:34.232214Z",
     "start_time": "2018-11-30T06:46:34.107888Z"
    }
   },
   "outputs": [
    {
     "data": {
      "text/plain": [
       "(186.08817230902778, 0.0, 0.0, 0.0)"
      ]
     },
     "execution_count": 15,
     "metadata": {},
     "output_type": "execute_result"
    }
   ],
   "source": [
    "cv2.mean(cv2.pow(cv2.meanStdDev(cv2.Laplacian(frame, cv2.CV_64F))[1], 2))"
   ]
  },
  {
   "cell_type": "code",
   "execution_count": 18,
   "metadata": {
    "ExecuteTime": {
     "end_time": "2018-11-30T06:46:56.654422Z",
     "start_time": "2018-11-30T06:46:56.524667Z"
    }
   },
   "outputs": [
    {
     "data": {
      "text/plain": [
       "array([[ 13.62037895],\n",
       "       [ 13.65565898],\n",
       "       [ 13.64817834]])"
      ]
     },
     "execution_count": 18,
     "metadata": {},
     "output_type": "execute_result"
    }
   ],
   "source": [
    "cv2.meanStdDev(cv2.Laplacian(frame, cv2.CV_64F))[1]"
   ]
  },
  {
   "cell_type": "code",
   "execution_count": 19,
   "metadata": {
    "ExecuteTime": {
     "end_time": "2018-11-30T06:47:06.590661Z",
     "start_time": "2018-11-30T06:47:06.458786Z"
    }
   },
   "outputs": [
    {
     "data": {
      "text/plain": [
       "array([[ 185.51472266],\n",
       "       [ 186.47702214],\n",
       "       [ 186.27277214]])"
      ]
     },
     "execution_count": 19,
     "metadata": {},
     "output_type": "execute_result"
    }
   ],
   "source": [
    "cv2.pow(cv2.meanStdDev(cv2.Laplacian(frame, cv2.CV_64F))[1], 2)"
   ]
  }
 ],
 "metadata": {
  "kernelspec": {
   "display_name": "Django Shell-Plus",
   "language": "python",
   "name": "django_extensions"
  },
  "language_info": {
   "codemirror_mode": {
    "name": "ipython",
    "version": 3
   },
   "file_extension": ".py",
   "mimetype": "text/x-python",
   "name": "python",
   "nbconvert_exporter": "python",
   "pygments_lexer": "ipython3",
   "version": "3.5.2"
  },
  "toc": {
   "base_numbering": 1,
   "nav_menu": {},
   "number_sections": true,
   "sideBar": false,
   "skip_h1_title": false,
   "title_cell": "Table of Contents",
   "title_sidebar": "Contents",
   "toc_cell": true,
   "toc_position": {},
   "toc_section_display": "block",
   "toc_window_display": false
  }
 },
 "nbformat": 4,
 "nbformat_minor": 2
}
