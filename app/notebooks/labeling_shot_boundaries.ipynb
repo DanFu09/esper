{
 "cells": [
  {
   "cell_type": "markdown",
   "metadata": {
    "toc": true
   },
   "source": [
    "<h1>Table of Contents<span class=\"tocSkip\"></span></h1>\n",
    "<div class=\"toc\" style=\"margin-top: 1em;\"><ul class=\"toc-item\"></ul></div>"
   ]
  },
  {
   "cell_type": "markdown",
   "metadata": {},
   "source": [
    "**Imports and Setup. The initialization cell below should run automatically and print out \"Done with initialization!\"**"
   ]
  },
  {
   "cell_type": "code",
   "execution_count": null,
   "metadata": {
    "ExecuteTime": {
     "end_time": "2019-01-23T00:56:15.301616Z",
     "start_time": "2019-01-23T00:56:14.881995Z"
    },
    "hide_input": true,
    "init_cell": true
   },
   "outputs": [],
   "source": [
    "from esper.prelude import *\n",
    "import numpy as np\n",
    "from IPython.display import display, clear_output\n",
    "import ipywidgets as widgets\n",
    "import datetime\n",
    "from rekall.interval_list import IntervalList\n",
    "from rekall.temporal_predicates import overlaps, overlaps_before\n",
    "from query.models import Labeler, Shot\n",
    "\n",
    "try:\n",
    "    VIDEO\n",
    "except NameError:\n",
    "    VIDEO = None\n",
    "    STARTING_FRAME = None\n",
    "    ENDING_FRAME = None\n",
    "    ESPER_WIDGET = None\n",
    "    SELECTED_HARD_CUTS = []\n",
    "    SELECTED_TRANSITION_FRAMES = []\n",
    "\n",
    "def choose_random_segment():\n",
    "    video = Video.objects.filter(ignore_film=False).order_by('?')[0]\n",
    "    five_minutes = int(60 * 5 * video.fps)\n",
    "    one_minute = int(60 * video.fps)\n",
    "    starting_frame = np.random.randint(\n",
    "        five_minutes, video.num_frames - 2 * five_minutes)\n",
    "\n",
    "    global VIDEO, STARTING_FRAME, ENDING_FRAME\n",
    "    VIDEO = video\n",
    "    STARTING_FRAME = starting_frame\n",
    "    ENDING_FRAME = STARTING_FRAME + one_minute - 1\n",
    "\n",
    "    print('Selected film {} ({}), frames {}-{}'.format(\n",
    "        video.title, video.year, STARTING_FRAME, ENDING_FRAME))\n",
    "\n",
    "# replaces qs_to_result\n",
    "\n",
    "\n",
    "def frame_result(video_id, frame_nums):\n",
    "    materialized_result = []\n",
    "    for frame_num in frame_nums:\n",
    "        materialized_result.append({\n",
    "            'video': video_id,\n",
    "            'min_frame': frame_num,\n",
    "            'objects': []\n",
    "        })\n",
    "    return {'type': 'frames', 'count': 0, 'result': [{\n",
    "        'type': 'flat', 'label': '', 'elements': [mr]\n",
    "    } for mr in materialized_result]}\n",
    "\n",
    "\n",
    "def cache_labels(b):\n",
    "    global SELECTED_HARD_CUTS, SELECTED_TRANSITION_FRAMES\n",
    "    SELECTED_HARD_CUTS = ESPER_WIDGET.selected\n",
    "    SELECTED_TRANSITION_FRAMES = ESPER_WIDGET.ignored\n",
    "    print(\"Saved {}\".format(datetime.datetime.now()))\n",
    "\n",
    "\n",
    "def label_segment():\n",
    "    global VIDEO, ESPER_WIDGET, STARTING_FRAME, ENDING_FRAME\n",
    "    frames = frame_result(VIDEO.id, range(STARTING_FRAME, ENDING_FRAME + 1))\n",
    "\n",
    "    save = widgets.Button(\n",
    "        description='Save Progress',\n",
    "        disabled=False,\n",
    "        button_style='success',\n",
    "        tooltip='Save Progress'\n",
    "    )\n",
    "    ESPER_WIDGET = esper_widget(\n",
    "        frames,\n",
    "        show_paging_buttons=True,\n",
    "        jupyter_keybindings=True,\n",
    "        results_per_page=48,\n",
    "        thumbnail_size=0.75,\n",
    "        selected_cached=SELECTED_HARD_CUTS,\n",
    "        ignored_cached=SELECTED_TRANSITION_FRAMES,\n",
    "        max_width=965\n",
    "    )\n",
    "    display(ESPER_WIDGET)\n",
    "    display(save)\n",
    "    save.on_click(cache_labels)\n",
    "\n",
    "\n",
    "def inspect_hard_cuts():\n",
    "    global SELECTED_HARD_CUTS, STARTING_FRAME\n",
    "    frame_nums = [f + STARTING_FRAME for f in SELECTED_HARD_CUTS]\n",
    "\n",
    "    frames = frame_result(VIDEO.id, frame_nums)\n",
    "\n",
    "    update = widgets.Button(\n",
    "        description='Update',\n",
    "        disabled=False,\n",
    "        button_style='success',\n",
    "        tooltip='Update'\n",
    "    )\n",
    "    esp = esper_widget(\n",
    "        frames,\n",
    "        show_paging_buttons=True,\n",
    "        jupyter_keybindings=True,\n",
    "        results_per_page=48,\n",
    "        thumbnail_size=0.75,\n",
    "        max_width=965,\n",
    "        selected_cached=[],\n",
    "        ignored_cached=[]\n",
    "    )\n",
    "    display(esp)\n",
    "    display(update)\n",
    "\n",
    "    def update_hard_cuts(b):\n",
    "        global SELECTED_HARD_CUTS\n",
    "        deselected_frames = [\n",
    "            frame_nums[i]\n",
    "            for i in esp.ignored\n",
    "        ]\n",
    "\n",
    "        hard_cuts_to_remove = [\n",
    "            selection\n",
    "            for frame_num, selection in zip(frame_nums, SELECTED_HARD_CUTS)\n",
    "            if frame_num in deselected_frames\n",
    "        ]\n",
    "\n",
    "        SELECTED_HARD_CUTS = [\n",
    "            cut for cut in SELECTED_HARD_CUTS\n",
    "            if cut not in hard_cuts_to_remove\n",
    "        ]\n",
    "\n",
    "        clear_output()\n",
    "        inspect_hard_cuts()\n",
    "\n",
    "    update.on_click(update_hard_cuts)\n",
    "\n",
    "\n",
    "def inspect_transitions():\n",
    "    global SELECTED_TRANSITION_FRAMES, STARTING_FRAME\n",
    "    frame_nums = [f + STARTING_FRAME for f in SELECTED_TRANSITION_FRAMES]\n",
    "\n",
    "    frames = frame_result(VIDEO.id, frame_nums)\n",
    "\n",
    "    update = widgets.Button(\n",
    "        description='Update',\n",
    "        disabled=False,\n",
    "        button_style='success',\n",
    "        tooltip='Update'\n",
    "    )\n",
    "    esp = esper_widget(\n",
    "        frames,\n",
    "        show_paging_buttons=True,\n",
    "        jupyter_keybindings=True,\n",
    "        results_per_page=48,\n",
    "        thumbnail_size=0.75,\n",
    "        max_width=965,\n",
    "        selected_cached=[],\n",
    "        ignored_cached=[]\n",
    "    )\n",
    "    display(esp)\n",
    "    display(update)\n",
    "\n",
    "    def update_transitions(b):\n",
    "        global SELECTED_TRANSITION_FRAMES\n",
    "        deselected_frames = [\n",
    "            frame_nums[i]\n",
    "            for i in esp.ignored\n",
    "        ]\n",
    "\n",
    "        transition_frames_to_remove = [\n",
    "            selection\n",
    "            for frame_num, selection in zip(frame_nums, SELECTED_TRANSITION_FRAMES)\n",
    "            if frame_num in deselected_frames\n",
    "        ]\n",
    "\n",
    "        SELECTED_TRANSITION_FRAMES = [\n",
    "            cut for cut in SELECTED_TRANSITION_FRAMES\n",
    "            if cut not in transition_frames_to_remove\n",
    "        ]\n",
    "\n",
    "        clear_output()\n",
    "        inspect_transitions()\n",
    "\n",
    "    update.on_click(update_transitions)\n",
    "\n",
    "\n",
    "def prepare_orm_objects():\n",
    "    global STARTING_FRAME, SELECTED_HARD_CUTS, SELECTED_TRANSITION_FRAMES, VIDEO\n",
    "    selected_shot_boundaries = [\n",
    "        STARTING_FRAME + idx for idx in SELECTED_HARD_CUTS]\n",
    "    transition_frames = IntervalList([\n",
    "        (STARTING_FRAME + f, STARTING_FRAME + F, 0)\n",
    "        for f in SELECTED_TRANSITION_FRAMES\n",
    "    ]).dilate(1).coalesce().dilate(-1)\n",
    "    selected_shot_boundaries = sorted(selected_shot_boundaries + [\n",
    "        int((transition.end + transition.start) / 2)\n",
    "        for transition in transition_frames.get_intervals()\n",
    "    ])\n",
    "\n",
    "    shots = []\n",
    "    for i in range(0, len(selected_shot_boundaries) - 1):\n",
    "        shots.append(\n",
    "            (selected_shot_boundaries[i], selected_shot_boundaries[i+1] - 1, {}))\n",
    "    shots_intrvllist = IntervalList(shots)\n",
    "\n",
    "    shots_with_transition_info = shots_intrvllist.join(\n",
    "        transition_frames,\n",
    "        predicate=overlaps(),\n",
    "        merge_op=lambda shot, transition: (\n",
    "            shot.start, shot.end,\n",
    "            {'transition_start_max_frame': transition.end}\n",
    "            if overlaps_before()(transition, shot) else\n",
    "            {'transition_end_min_frame': transition.start}\n",
    "        )\n",
    "    ).set_union(\n",
    "        shots_intrvllist\n",
    "    ).coalesce(payload_merge_op=lambda p1, p2: {**p1, **p2})\n",
    "\n",
    "    labeler_name = 'shot-manual-{}'.format(\n",
    "        datetime.datetime.now().strftime('%Y-%m-%d-%H:%M:%S')\n",
    "    )\n",
    "    new_labeler, _ = Labeler.objects.get_or_create(name=labeler_name)\n",
    "    print('Labeler created:', labeler_name)\n",
    "\n",
    "    new_shots = []\n",
    "    for intrvl in shots_with_transition_info.get_intervals():\n",
    "        new_shot = Shot(\n",
    "            min_frame=intrvl.start,\n",
    "            max_frame=intrvl.end,\n",
    "            video=VIDEO,\n",
    "            labeler=new_labeler\n",
    "        )\n",
    "        if 'transition_start_max_frame' in intrvl.payload:\n",
    "            new_shot.transition_in_max_frame = intrvl.payload['transition_start_max_frame']\n",
    "        if 'transition_end_min_frame' in intrvl.payload:\n",
    "            new_shot.transition_out_min_frame = intrvl.payload['transition_end_min_frame']\n",
    "        new_shots.append(new_shot)\n",
    "\n",
    "    return new_labeler, new_shots\n",
    "\n",
    "\n",
    "def save_orm_objects(shots):\n",
    "    print('Saving shots...')\n",
    "    with transaction.atomic():\n",
    "        Shot.objects.bulk_create(shots)\n",
    "    print('Done!')\n",
    "\n",
    "\n",
    "def reset_notebook_state():\n",
    "    global VIDEO, STARTING_FRAME, ENDING_FRAME, \\\n",
    "        ESPER_WIDGET, SELECTED_HARD_CUTS, SELECTED_TRANSITION_FRAMES\n",
    "    VIDEO = None\n",
    "    STARTING_FRAME = None\n",
    "    ENDING_FRAME = None\n",
    "    ESPER_WIDGET = None\n",
    "    SELECTED_HARD_CUTS = []\n",
    "    SELECTED_TRANSITION_FRAMES = []\n",
    "\n",
    "print('Done with initialization!')"
   ]
  },
  {
   "cell_type": "markdown",
   "metadata": {},
   "source": [
    "Step 1: Run the cell below to pick a random five-minute segment from a film to label."
   ]
  },
  {
   "cell_type": "code",
   "execution_count": null,
   "metadata": {
    "ExecuteTime": {
     "end_time": "2019-01-23T00:56:16.604989Z",
     "start_time": "2019-01-23T00:56:16.526419Z"
    }
   },
   "outputs": [],
   "source": [
    "choose_random_segment()"
   ]
  },
  {
   "cell_type": "markdown",
   "metadata": {},
   "source": [
    "Step 2: Run the cell below to show the labeling interface.\n",
    "\n",
    "For **hard cuts**, hover over the frame and use `[` to mark the first frame of the new shot.\n",
    "\n",
    "For **fades/wipes/etc**, use `]` to mark all the frames in the transition (hover over the frames and press `]`).\n",
    "\n",
    "You can hover over a frame and use `=` to expand the frame to inspect it closer, or `Shift-P` to play the film starting from that frame.\n",
    "\n",
    "You can click the Save button at any time to locally cache your labels - these will persist across refreshes, but not across kernel deaths.\n",
    "\n",
    "When you're ready to move on, click the Save button."
   ]
  },
  {
   "cell_type": "code",
   "execution_count": null,
   "metadata": {
    "ExecuteTime": {
     "end_time": "2019-01-23T00:56:24.943733Z",
     "start_time": "2019-01-23T00:56:19.549673Z"
    },
    "hide_input": false
   },
   "outputs": [],
   "source": [
    "label_segment()"
   ]
  },
  {
   "cell_type": "markdown",
   "metadata": {},
   "source": [
    "Step 3: Run the cell below to inspect your hard cut labels.\n",
    "\n",
    "Use `]` to **deselect** any frames that you'd like to remove from your labelling pass. If you'd like to add more frames, go back to the previous cell. Your previous work should be cached."
   ]
  },
  {
   "cell_type": "code",
   "execution_count": null,
   "metadata": {
    "ExecuteTime": {
     "end_time": "2019-01-23T01:01:10.297179Z",
     "start_time": "2019-01-23T01:01:09.328721Z"
    }
   },
   "outputs": [],
   "source": [
    "inspect_hard_cuts()"
   ]
  },
  {
   "cell_type": "markdown",
   "metadata": {},
   "source": [
    "Step 4: Run the cell below to inspect your transition labels.\n",
    "\n",
    "Use `]` to **deselect** any frames that you'd like to remove from your labelling pass. If you'd like to add more frames, go back to Step 2. Your previous work should be cached"
   ]
  },
  {
   "cell_type": "code",
   "execution_count": null,
   "metadata": {
    "ExecuteTime": {
     "end_time": "2019-01-23T01:01:22.029100Z",
     "start_time": "2019-01-23T01:01:20.928166Z"
    }
   },
   "outputs": [],
   "source": [
    "inspect_transitions()"
   ]
  },
  {
   "cell_type": "markdown",
   "metadata": {},
   "source": [
    "Step 5: Run the two cells below to commit your labels to the database!"
   ]
  },
  {
   "cell_type": "code",
   "execution_count": null,
   "metadata": {
    "ExecuteTime": {
     "end_time": "2019-01-23T01:01:24.073933Z",
     "start_time": "2019-01-23T01:01:24.013948Z"
    }
   },
   "outputs": [],
   "source": [
    "labeler, shots = prepare_orm_objects()"
   ]
  },
  {
   "cell_type": "code",
   "execution_count": null,
   "metadata": {
    "ExecuteTime": {
     "end_time": "2019-01-23T01:01:27.896492Z",
     "start_time": "2019-01-23T01:01:27.837967Z"
    }
   },
   "outputs": [],
   "source": [
    "save_orm_objects(shots)"
   ]
  },
  {
   "cell_type": "markdown",
   "metadata": {},
   "source": [
    "Step 6: Run the cell below to reset the notebook state and start over with a new segment from Step 1!"
   ]
  },
  {
   "cell_type": "code",
   "execution_count": null,
   "metadata": {
    "ExecuteTime": {
     "end_time": "2019-01-23T01:01:30.790573Z",
     "start_time": "2019-01-23T01:01:30.741123Z"
    }
   },
   "outputs": [],
   "source": [
    "reset_notebook_state()"
   ]
  }
 ],
 "metadata": {
  "celltoolbar": "Initialization Cell",
  "kernelspec": {
   "display_name": "Django Shell-Plus",
   "language": "python",
   "name": "django_extensions"
  },
  "language_info": {
   "codemirror_mode": {
    "name": "ipython",
    "version": 3
   },
   "file_extension": ".py",
   "mimetype": "text/x-python",
   "name": "python",
   "nbconvert_exporter": "python",
   "pygments_lexer": "ipython3",
   "version": "3.5.2"
  },
  "toc": {
   "nav_menu": {},
   "number_sections": true,
   "sideBar": false,
   "skip_h1_title": false,
   "toc_cell": true,
   "toc_position": {},
   "toc_section_display": "block",
   "toc_window_display": false
  }
 },
 "nbformat": 4,
 "nbformat_minor": 2
}
