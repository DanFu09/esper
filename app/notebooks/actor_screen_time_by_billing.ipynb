{
 "cells": [
  {
   "cell_type": "markdown",
   "metadata": {},
   "source": [
    "# Actor Screen Time by Credits Order\n",
    "Does the order in which actors appear in the credits correspond to their screentime?"
   ]
  },
  {
   "cell_type": "code",
   "execution_count": 59,
   "metadata": {
    "ExecuteTime": {
     "end_time": "2019-01-13T08:19:24.694578Z",
     "start_time": "2019-01-13T08:19:24.665376Z"
    },
    "hide_input": false
   },
   "outputs": [],
   "source": [
    "import tempfile\n",
    "import unidecode\n",
    "import subprocess as sp\n",
    "from rekall.video_interval_collection import VideoIntervalCollection\n",
    "import os"
   ]
  },
  {
   "cell_type": "code",
   "execution_count": 7,
   "metadata": {
    "ExecuteTime": {
     "end_time": "2019-01-13T07:42:57.055396Z",
     "start_time": "2019-01-13T07:42:55.594973Z"
    }
   },
   "outputs": [],
   "source": [
    "# Download stars.json\n",
    "tmp_path = tempfile.NamedTemporaryFile(suffix='.json').name\n",
    "stars_file = \"gs://esper/movie-metadata/stars.json\"\n",
    "result = sp.check_call('gsutil cp {} {}'.format(stars_file, tmp_path), shell=True)"
   ]
  },
  {
   "cell_type": "code",
   "execution_count": 96,
   "metadata": {
    "ExecuteTime": {
     "end_time": "2019-01-13T08:30:10.808444Z",
     "start_time": "2019-01-13T08:30:10.774086Z"
    }
   },
   "outputs": [],
   "source": [
    "def decode_string(s):\n",
    "    s = unidecode.unidecode(s)\n",
    "    s = s.replace('ô', 'o')\n",
    "    return s\n",
    "\n",
    "with open(tmp_path, 'r') as f:\n",
    "    data = json.load(f)\n",
    "    for video_path in data:\n",
    "        data[video_path] = [unidecode.unidecode(s)\n",
    "                            for s in data[video_path] if len(s) > 0]"
   ]
  },
  {
   "cell_type": "code",
   "execution_count": 95,
   "metadata": {
    "ExecuteTime": {
     "end_time": "2019-01-13T08:27:37.456987Z",
     "start_time": "2019-01-13T08:27:04.320818Z"
    }
   },
   "outputs": [],
   "source": [
    "# get ranked order of main characters by screen time\n",
    "# load all identities\n",
    "fca_qs = FaceCharacterActor.objects.filter(\n",
    "    face__frame__regularly_sampled=True,\n",
    "    face__frame__video__ignore_film=False\n",
    ").exclude(\n",
    "    face__frame__video__genres__name=\"animation\"\n",
    ").annotate(\n",
    "    min_frame=F('face__frame__number'),\n",
    "    max_frame=F('face__frame__number'),\n",
    "    actor_name=F('characteractor__actor__name'),\n",
    "    video_id=F('characteractor__video_id')\n",
    ").all()\n",
    "\n",
    "faces_with_identity = VideoIntervalCollection.from_django_qs(\n",
    "    fca_qs,\n",
    "    with_payload=lambda row: unidecode.unidecode(row.actor_name)\n",
    ")"
   ]
  },
  {
   "cell_type": "code",
   "execution_count": 98,
   "metadata": {
    "ExecuteTime": {
     "end_time": "2019-01-13T08:30:18.318723Z",
     "start_time": "2019-01-13T08:30:17.802268Z"
    }
   },
   "outputs": [],
   "source": [
    "def fold_fn(acc, intrvl):\n",
    "    if intrvl.payload in acc:\n",
    "        acc[intrvl.payload] += 1\n",
    "    else:\n",
    "        acc[intrvl.payload] = 1\n",
    "    return acc\n",
    "actor_counts = {}\n",
    "for video_id in faces_with_identity.get_allintervals().keys():\n",
    "    actor_counts[video_id] = faces_with_identity.get_intervallist(video_id).fold(fold_fn, {})"
   ]
  },
  {
   "cell_type": "code",
   "execution_count": 99,
   "metadata": {
    "ExecuteTime": {
     "end_time": "2019-01-13T08:30:19.159974Z",
     "start_time": "2019-01-13T08:30:19.131543Z"
    }
   },
   "outputs": [],
   "source": [
    "ordered_actor_counts = {\n",
    "    video_id: sorted([(k, v) for k, v in actor_counts[video_id].items()], key=lambda kv: -1 * kv[1])\n",
    "    for video_id in actor_counts\n",
    "}"
   ]
  },
  {
   "cell_type": "code",
   "execution_count": 100,
   "metadata": {
    "ExecuteTime": {
     "end_time": "2019-01-13T08:30:22.945207Z",
     "start_time": "2019-01-13T08:30:22.915769Z"
    }
   },
   "outputs": [],
   "source": [
    "def videos_with_exact_same_order():\n",
    "    total_videos = len(ordered_actor_counts.keys())\n",
    "    same_order = 0\n",
    "    for video_id in ordered_actor_counts:\n",
    "        video = Video.objects.get(id=video_id)\n",
    "        path = video.path\n",
    "        credits_list = data[os.path.basename(path).split('.')[0]]\n",
    "        screen_time_list = [actor_name for actor_name, _ in ordered_actor_counts[video_id]]\n",
    "        if credits_list == screen_time_list:\n",
    "            same_order += 1\n",
    "    return same_order, total_videos"
   ]
  },
  {
   "cell_type": "code",
   "execution_count": 101,
   "metadata": {
    "ExecuteTime": {
     "end_time": "2019-01-13T08:30:23.819623Z",
     "start_time": "2019-01-13T08:30:23.612127Z"
    }
   },
   "outputs": [
    {
     "data": {
      "text/plain": [
       "(9, 90)"
      ]
     },
     "execution_count": 101,
     "metadata": {},
     "output_type": "execute_result"
    }
   ],
   "source": [
    "videos_with_exact_same_order()"
   ]
  },
  {
   "cell_type": "code",
   "execution_count": 102,
   "metadata": {
    "ExecuteTime": {
     "end_time": "2019-01-13T08:30:25.426691Z",
     "start_time": "2019-01-13T08:30:25.394276Z"
    }
   },
   "outputs": [],
   "source": [
    "def videos_with_same_actor_in_position_x(x):\n",
    "    total_videos = 0\n",
    "    same_position_x = 0\n",
    "    for video_id in ordered_actor_counts:\n",
    "        video = Video.objects.get(id=video_id)\n",
    "        path = video.path\n",
    "        credits_list = data[os.path.basename(path).split('.')[0]]\n",
    "        screen_time_list = [actor_name for actor_name, _ in ordered_actor_counts[video_id]]\n",
    "        if x >= len(credits_list) or x >= len(screen_time_list):\n",
    "            continue\n",
    "        if credits_list[x] == screen_time_list[x]:\n",
    "            same_position_x += 1\n",
    "        total_videos += 1\n",
    "    return same_position_x, total_videos"
   ]
  },
  {
   "cell_type": "code",
   "execution_count": 103,
   "metadata": {
    "ExecuteTime": {
     "end_time": "2019-01-13T08:30:26.296888Z",
     "start_time": "2019-01-13T08:30:26.082953Z"
    }
   },
   "outputs": [
    {
     "data": {
      "text/plain": [
       "(64, 90)"
      ]
     },
     "execution_count": 103,
     "metadata": {},
     "output_type": "execute_result"
    }
   ],
   "source": [
    "videos_with_same_actor_in_position_x(0)"
   ]
  },
  {
   "cell_type": "code",
   "execution_count": 104,
   "metadata": {
    "ExecuteTime": {
     "end_time": "2019-01-13T08:30:27.653048Z",
     "start_time": "2019-01-13T08:30:27.461243Z"
    }
   },
   "outputs": [
    {
     "data": {
      "text/plain": [
       "(37, 89)"
      ]
     },
     "execution_count": 104,
     "metadata": {},
     "output_type": "execute_result"
    }
   ],
   "source": [
    "videos_with_same_actor_in_position_x(1)"
   ]
  },
  {
   "cell_type": "code",
   "execution_count": 105,
   "metadata": {
    "ExecuteTime": {
     "end_time": "2019-01-13T08:30:29.280411Z",
     "start_time": "2019-01-13T08:30:29.058587Z"
    }
   },
   "outputs": [
    {
     "data": {
      "text/plain": [
       "(30, 80)"
      ]
     },
     "execution_count": 105,
     "metadata": {},
     "output_type": "execute_result"
    }
   ],
   "source": [
    "videos_with_same_actor_in_position_x(2)"
   ]
  },
  {
   "cell_type": "code",
   "execution_count": 106,
   "metadata": {
    "ExecuteTime": {
     "end_time": "2019-01-13T08:30:30.185518Z",
     "start_time": "2019-01-13T08:30:29.993855Z"
    }
   },
   "outputs": [
    {
     "data": {
      "text/plain": [
       "(15, 73)"
      ]
     },
     "execution_count": 106,
     "metadata": {},
     "output_type": "execute_result"
    }
   ],
   "source": [
    "videos_with_same_actor_in_position_x(3)"
   ]
  },
  {
   "cell_type": "code",
   "execution_count": 124,
   "metadata": {
    "ExecuteTime": {
     "end_time": "2019-01-13T08:56:38.645274Z",
     "start_time": "2019-01-13T08:56:38.592590Z"
    }
   },
   "outputs": [],
   "source": [
    "def get_actor_gender(actor_name):\n",
    "    if (ActorGender.objects.filter(\n",
    "            actor__name=actor_name\n",
    "        ).annotate(gender_name=F('gender__name')).count() == 0):\n",
    "        return 'U'\n",
    "    return ActorGender.objects.filter(\n",
    "        actor__name=actor_name\n",
    "    ).annotate(gender_name=F('gender__name')).all()[0].gender_name\n",
    "    \n",
    "def get_actors_position_incorrect(x, gender_pairs=None):\n",
    "    '''Get actors who appear in position x in the credits list but whose screen time\n",
    "    does not put them at position x.'''\n",
    "    actors_jumped_up = []\n",
    "    actors_jumped_down = []\n",
    "    for video_id in ordered_actor_counts:\n",
    "        video = Video.objects.get(id=video_id)\n",
    "        path = video.path\n",
    "        credits_list = data[os.path.basename(path).split('.')[0]]\n",
    "        screen_time_list = [actor_name for actor_name, _ in ordered_actor_counts[video_id]]\n",
    "        if x >= len(credits_list) or x >= len(screen_time_list):\n",
    "            continue\n",
    "        if credits_list[x] == screen_time_list[x]:\n",
    "            continue\n",
    "        actor_at_credits_x = credits_list[x]\n",
    "        if actor_at_credits_x not in screen_time_list:\n",
    "            print(video.title, video.year, actor_at_credits_x, credits_list, ordered_actor_counts[video_id])\n",
    "            continue\n",
    "        screen_time_position = screen_time_list.index(actor_at_credits_x)\n",
    "        credits_gender = get_actor_gender(actor_at_credits_x)\n",
    "        screen_time_gender = get_actor_gender(screen_time_list[x])\n",
    "        if gender_pairs is not None:\n",
    "            if credits_gender != gender_pairs[0] or screen_time_gender != gender_pairs[1]:\n",
    "                continue\n",
    "        if screen_time_position > x:\n",
    "            actors_jumped_up.append((\n",
    "                video.title, video.year, actor_at_credits_x, credits_gender,\n",
    "                screen_time_position, screen_time_list[x], screen_time_gender\n",
    "            ))\n",
    "        else:\n",
    "            actors_jumped_down.append((\n",
    "                video.title, video.year, actor_at_credits_x, credits_gender,\n",
    "                screen_time_position, screen_time_list[x], screen_time_gender\n",
    "            ))\n",
    "    return actors_jumped_up, actors_jumped_down"
   ]
  },
  {
   "cell_type": "code",
   "execution_count": 138,
   "metadata": {
    "ExecuteTime": {
     "end_time": "2019-01-13T09:09:47.862277Z",
     "start_time": "2019-01-13T09:09:47.458788Z"
    }
   },
   "outputs": [
    {
     "name": "stdout",
     "output_type": "stream",
     "text": [
      "Beneath the Planet of the Apes 1970 james franciscus ['james franciscus', 'kim hunter', 'maurice evans', 'linda harrison', 'charlton heston'] [('charlton heston', 2877), ('kim hunter', 821), ('linda harrison', 789), ('maurice evans', 426)]\n"
     ]
    },
    {
     "data": {
      "text/plain": [
       "([('Star Wars: The Force Awakens',\n",
       "   2015,\n",
       "   'harrison ford',\n",
       "   'M',\n",
       "   2,\n",
       "   'daisy ridley',\n",
       "   'F'),\n",
       "  ('Batman & Robin',\n",
       "   1997,\n",
       "   'arnold schwarzenegger',\n",
       "   'M',\n",
       "   5,\n",
       "   'uma thurman',\n",
       "   'F'),\n",
       "  ('Notorious', 1946, 'cary grant', 'M', 1, 'ingrid bergman', 'F'),\n",
       "  ('Rebecca', 1940, 'laurence olivier', 'M', 1, 'joan fontaine', 'F'),\n",
       "  ('Alice in Wonderland', 2010, 'johnny depp', 'M', 1, 'mia wasikowska', 'F'),\n",
       "  ('Star Wars: Episode V - The Empire Strikes Back',\n",
       "   1980,\n",
       "   'mark hamill',\n",
       "   'M',\n",
       "   1,\n",
       "   'carrie fisher',\n",
       "   'F'),\n",
       "  ('The Color Purple', 1985, 'danny glover', 'M', 2, 'whoopi goldberg', 'F')],\n",
       " [])"
      ]
     },
     "execution_count": 138,
     "metadata": {},
     "output_type": "execute_result"
    }
   ],
   "source": [
    "get_actors_position_incorrect(0, ('M', 'F'))"
   ]
  },
  {
   "cell_type": "code",
   "execution_count": 136,
   "metadata": {
    "ExecuteTime": {
     "end_time": "2019-01-13T09:04:11.393849Z",
     "start_time": "2019-01-13T09:04:10.786731Z"
    },
    "scrolled": false
   },
   "outputs": [
    {
     "name": "stdout",
     "output_type": "stream",
     "text": [
      "The Wizard of Oz 1925 dorothy dwan ['larry semon', 'dorothy dwan', 'oliver hardy', 'spencer bell', 'bryant washburn', 'virginia pearson', 'charles murray'] [('larry semon', 495), ('oliver hardy', 467), ('josef swickard', 310), ('bryant washburn', 291), ('virginia pearson', 227), ('charles murray', 164)]\n"
     ]
    },
    {
     "data": {
      "text/plain": [
       "([('Birdman or (The Unexpected Virtue of Ignorance)',\n",
       "   2014,\n",
       "   'zach galifianakis',\n",
       "   'M',\n",
       "   3,\n",
       "   'emma stone',\n",
       "   'F'),\n",
       "  ('Captain Fantastic', 2016, 'frank langella', 'M', 3, 'kathryn hahn', 'F'),\n",
       "  ('Brazil', 1985, 'robert de niro', 'M', 6, 'kim greist', 'F'),\n",
       "  ('GoldenEye', 1995, 'sean bean', 'M', 2, 'izabella scorupco', 'F'),\n",
       "  ('Harry Potter and the Deathly Hallows: Part 1',\n",
       "   2010,\n",
       "   'rupert grint',\n",
       "   'M',\n",
       "   2,\n",
       "   'emma watson',\n",
       "   'F'),\n",
       "  ('Harry Potter and the Deathly Hallows: Part 2',\n",
       "   2011,\n",
       "   'rupert grint',\n",
       "   'M',\n",
       "   2,\n",
       "   'emma watson',\n",
       "   'F'),\n",
       "  ('Harry Potter and the Goblet of Fire',\n",
       "   2005,\n",
       "   'rupert grint',\n",
       "   'M',\n",
       "   2,\n",
       "   'emma watson',\n",
       "   'F'),\n",
       "  ('Harry Potter and the Order of the Phoenix',\n",
       "   2007,\n",
       "   'rupert grint',\n",
       "   'M',\n",
       "   2,\n",
       "   'emma watson',\n",
       "   'F'),\n",
       "  ('Star Wars: Episode I - The Phantom Menace',\n",
       "   1999,\n",
       "   'ewan mcgregor',\n",
       "   'M',\n",
       "   3,\n",
       "   'natalie portman',\n",
       "   'F'),\n",
       "  ('Bessie',\n",
       "   2015,\n",
       "   'michael kenneth williams',\n",
       "   'M',\n",
       "   2,\n",
       "   'khandi alexander',\n",
       "   'F'),\n",
       "  ('The Color Purple', 1985, 'adolph caesar', 'M', 4, 'margaret avery', 'F'),\n",
       "  ('Harry Potter and the Prisoner of Azkaban',\n",
       "   2004,\n",
       "   'rupert grint',\n",
       "   'M',\n",
       "   2,\n",
       "   'emma watson',\n",
       "   'F')],\n",
       " [('Big Eyes', 2014, 'christoph waltz', 'M', 0, 'amy adams', 'F'),\n",
       "  ('Mr. & Mrs. Smith',\n",
       "   1941,\n",
       "   'robert montgomery',\n",
       "   'M',\n",
       "   0,\n",
       "   'carole lombard',\n",
       "   'F'),\n",
       "  (\"Coal Miner's Daughter\",\n",
       "   1980,\n",
       "   'tommy lee jones',\n",
       "   'M',\n",
       "   0,\n",
       "   'sissy spacek',\n",
       "   'F')])"
      ]
     },
     "execution_count": 136,
     "metadata": {},
     "output_type": "execute_result"
    }
   ],
   "source": [
    "get_actors_position_incorrect(1, ('M', 'F'))"
   ]
  },
  {
   "cell_type": "code",
   "execution_count": 122,
   "metadata": {
    "ExecuteTime": {
     "end_time": "2019-01-13T08:49:01.091198Z",
     "start_time": "2019-01-13T08:49:00.505497Z"
    },
    "scrolled": false
   },
   "outputs": [
    {
     "name": "stdout",
     "output_type": "stream",
     "text": [
      "A Clockwork Orange 1971 adrienne corri ['malcolm mcdowell', 'patrick magee', 'adrienne corri', 'miriam karlin'] [('malcolm mcdowell', 3657), ('patrick magee', 998), ('anthony sharp', 584), ('warren clarke', 546), ('godfrey quigley', 545), ('michael bates', 513), ('james marcus', 388), ('philip stone', 378), ('carl duering', 223), ('david prowse', 216), ('sheila raynor', 196), ('madge ryan', 174), ('pauline taylor', 119), ('miriam karlin', 75)]\n",
      "Back to the Future 1985 lea thompson ['michael j. fox', 'christopher lloyd', 'lea thompson', 'crispin glover'] [('michael j. fox', 3928), ('christopher lloyd', 1130), ('crispin glover', 997), ('frances lee mccain', 924)]\n",
      "Erin Brockovich 2000 aaron eckhart ['julia roberts', 'albert finney', 'aaron eckhart'] [('julia roberts', 4879), ('albert finney', 2053), ('ron altomare', 854)]\n"
     ]
    },
    {
     "data": {
      "text/plain": [
       "([('12 Years a Slave',\n",
       "   2013,\n",
       "   'benedict cumberbatch',\n",
       "   'M',\n",
       "   5,\n",
       "   'paul giamatti',\n",
       "   'M'),\n",
       "  ('Star Wars: The Force Awakens',\n",
       "   2015,\n",
       "   'carrie fisher',\n",
       "   'F',\n",
       "   5,\n",
       "   'harrison ford',\n",
       "   'M'),\n",
       "  ('All About Eve', 1950, 'george sanders', 'M', 3, 'celeste holm', 'F'),\n",
       "  ('Apollo 13', 1995, 'bill paxton', 'M', 5, 'kathleen quinlan', 'F'),\n",
       "  ('2012', 2009, 'amanda peet', 'F', 4, 'oliver platt', 'M'),\n",
       "  ('Beneath the Planet of the Apes',\n",
       "   1970,\n",
       "   'maurice evans',\n",
       "   'M',\n",
       "   3,\n",
       "   'linda harrison',\n",
       "   'F'),\n",
       "  ('Die Hard', 1988, 'alexander godunov', 'M', 4, 'bonnie bedelia', 'F'),\n",
       "  ('The Lord of the Rings: The Fellowship of the Ring',\n",
       "   2001,\n",
       "   'liv tyler',\n",
       "   'F',\n",
       "   13,\n",
       "   'ian mckellen',\n",
       "   'M'),\n",
       "  ('The Lord of the Rings: The Two Towers',\n",
       "   2002,\n",
       "   'liv tyler',\n",
       "   'F',\n",
       "   13,\n",
       "   'sean astin',\n",
       "   'M'),\n",
       "  ('Yojimbo', 1961, 'yoko tsukasa', 'U', 6, 'atsushi watanabe', 'M'),\n",
       "  ('Carol', 2015, 'sarah paulson', 'F', 3, 'kyle chandler', 'M'),\n",
       "  (\"One Flew Over the Cuckoo's Nest\",\n",
       "   1975,\n",
       "   'william redfield',\n",
       "   'M',\n",
       "   4,\n",
       "   'brad dourif',\n",
       "   'M'),\n",
       "  ('The Lord of the Rings: The Return of the King',\n",
       "   2003,\n",
       "   'liv tyler',\n",
       "   'F',\n",
       "   14,\n",
       "   'ian mckellen',\n",
       "   'M'),\n",
       "  ('Pulp Fiction', 1994, 'uma thurman', 'F', 3, 'bruce willis', 'M'),\n",
       "  ('Star Trek II: The Wrath of Khan',\n",
       "   1982,\n",
       "   'deforest kelley',\n",
       "   'M',\n",
       "   4,\n",
       "   'leonard nimoy',\n",
       "   'M'),\n",
       "  ('Star Wars: Episode IV - A New Hope',\n",
       "   1977,\n",
       "   'carrie fisher',\n",
       "   'F',\n",
       "   3,\n",
       "   'alec guinness',\n",
       "   'M'),\n",
       "  ('The Breakfast Club',\n",
       "   1985,\n",
       "   'anthony michael hall',\n",
       "   'M',\n",
       "   3,\n",
       "   'molly ringwald',\n",
       "   'F'),\n",
       "  ('The Godfather', 1972, 'james caan', 'M', 3, 'robert duvall', 'M'),\n",
       "  ('The Godfather: Part II',\n",
       "   1974,\n",
       "   'diane keaton',\n",
       "   'F',\n",
       "   4,\n",
       "   'robert de niro',\n",
       "   'M'),\n",
       "  ('The Godfather: Part III',\n",
       "   1990,\n",
       "   'talia shire',\n",
       "   'F',\n",
       "   5,\n",
       "   'sofia coppola',\n",
       "   'F'),\n",
       "  ('The Matrix', 1999, 'carrie-anne moss', 'F', 3, 'hugo weaving', 'M'),\n",
       "  ('The Social Network',\n",
       "   2010,\n",
       "   'justin timberlake',\n",
       "   'M',\n",
       "   3,\n",
       "   'armie hammer',\n",
       "   'M')],\n",
       " [('Ace Ventura: Pet Detective',\n",
       "   1994,\n",
       "   'courteney cox',\n",
       "   'F',\n",
       "   1,\n",
       "   'sean young',\n",
       "   'F'),\n",
       "  ('Blazing Saddles', 1974, 'harvey korman', 'M', 1, 'gene wilder', 'M'),\n",
       "  ('The Dark Knight', 2008, 'heath ledger', 'M', 1, 'gary oldman', 'M'),\n",
       "  ('Captain Fantastic', 2016, 'kathryn hahn', 'F', 1, 'steve zahn', 'M'),\n",
       "  (\"Charlie's Angels\", 2000, 'lucy liu', 'F', 0, 'cameron diaz', 'F'),\n",
       "  ('Batman Begins', 2005, 'liam neeson', 'M', 1, 'katie holmes', 'F'),\n",
       "  ('Batman Forever', 1995, 'jim carrey', 'M', 1, 'nicole kidman', 'F'),\n",
       "  ('Dances with Wolves', 1990, 'graham greene', 'M', 1, 'mary mcdonnell', 'F'),\n",
       "  ('Brooklyn', 2015, 'emory cohen', 'M', 1, 'domhnall gleeson', 'M'),\n",
       "  ('Children of Eve', 1915, 'tom blake', 'M', 1, 'robert conness', 'M'),\n",
       "  ('Jaws', 1975, 'richard dreyfuss', 'M', 1, 'robert shaw', 'M'),\n",
       "  ('GoldenEye', 1995, 'izabella scorupco', 'F', 1, 'sean bean', 'M'),\n",
       "  ('Goldfinger', 1964, 'gert frobe', 'U', 1, 'honor blackman', 'F'),\n",
       "  ('Harry Potter and the Deathly Hallows: Part 1',\n",
       "   2010,\n",
       "   'emma watson',\n",
       "   'F',\n",
       "   1,\n",
       "   'rupert grint',\n",
       "   'M'),\n",
       "  ('Harry Potter and the Deathly Hallows: Part 2',\n",
       "   2011,\n",
       "   'emma watson',\n",
       "   'F',\n",
       "   1,\n",
       "   'rupert grint',\n",
       "   'M'),\n",
       "  ('Harry Potter and the Goblet of Fire',\n",
       "   2005,\n",
       "   'emma watson',\n",
       "   'F',\n",
       "   1,\n",
       "   'rupert grint',\n",
       "   'M'),\n",
       "  ('Harry Potter and the Order of the Phoenix',\n",
       "   2007,\n",
       "   'emma watson',\n",
       "   'F',\n",
       "   1,\n",
       "   'rupert grint',\n",
       "   'M'),\n",
       "  ('Star Wars: Episode I - The Phantom Menace',\n",
       "   1999,\n",
       "   'natalie portman',\n",
       "   'F',\n",
       "   1,\n",
       "   'jake lloyd',\n",
       "   'M'),\n",
       "  ('Star Wars: Episode II - Attack of the Clones',\n",
       "   2002,\n",
       "   'hayden christensen',\n",
       "   'M',\n",
       "   0,\n",
       "   'ewan mcgregor',\n",
       "   'M'),\n",
       "  ('Star Wars: Episode III - Revenge of the Sith',\n",
       "   2005,\n",
       "   'hayden christensen',\n",
       "   'M',\n",
       "   0,\n",
       "   'ian mcdiarmid',\n",
       "   'M'),\n",
       "  ('Star Wars: Episode V - The Empire Strikes Back',\n",
       "   1980,\n",
       "   'carrie fisher',\n",
       "   'F',\n",
       "   0,\n",
       "   'harrison ford',\n",
       "   'M'),\n",
       "  ('Bessie',\n",
       "   2015,\n",
       "   'khandi alexander',\n",
       "   'F',\n",
       "   1,\n",
       "   'michael kenneth williams',\n",
       "   'M'),\n",
       "  ('The Color Purple', 1985, 'margaret avery', 'F', 1, 'danny glover', 'M'),\n",
       "  ('The Wizard of Oz', 1925, 'oliver hardy', 'M', 1, 'josef swickard', 'M'),\n",
       "  ('Harry Potter and the Prisoner of Azkaban',\n",
       "   2004,\n",
       "   'emma watson',\n",
       "   'F',\n",
       "   1,\n",
       "   'rupert grint',\n",
       "   'M')])"
      ]
     },
     "execution_count": 122,
     "metadata": {},
     "output_type": "execute_result"
    }
   ],
   "source": [
    "get_actors_position_incorrect(2)"
   ]
  },
  {
   "cell_type": "code",
   "execution_count": 123,
   "metadata": {
    "ExecuteTime": {
     "end_time": "2019-01-13T08:49:04.901361Z",
     "start_time": "2019-01-13T08:49:04.328938Z"
    }
   },
   "outputs": [
    {
     "name": "stdout",
     "output_type": "stream",
     "text": [
      "Battle for the Planet of the Apes 1973 severn darden ['roddy mcdowall', 'claude akins', 'natalie trundy', 'severn darden', 'lew ayres', 'paul williams', 'john huston'] [('austin stoker', 960), ('roddy mcdowall', 751), ('natalie trundy', 630), ('paul williams', 613), ('claude akins', 350)]\n",
      "Dances with Wolves 1990 rodney grant ['kevin costner', 'mary mcdonnell', 'graham greene', 'rodney grant'] [('kevin costner', 6132), ('graham greene', 1654), ('mary mcdonnell', 1582), ('rodney a. grant', 975), (\"floyd 'red crow' westerman\", 622), ('nathan lee chasing his horse', 456), ('tantoo cardinal', 410), ('jimmy herman', 292), ('maury chaykin', 202), ('robert pastorelli', 180)]\n",
      "Big Eyes 2014 jon polito ['amy adams', 'christoph waltz', 'danny huston', 'jon polito', 'krysten ritter', 'jason schwartzman', 'terence stamp'] [('christoph waltz', 2682), ('amy adams', 2637), ('danny huston', 1432), ('delaney raye', 605), ('james saito', 312)]\n",
      "Brooklyn 2015 jim broadbent ['saoirse ronan', 'domhnall gleeson', 'emory cohen', 'jim broadbent', 'julie walters'] [('saoirse ronan', 5612), ('emory cohen', 1385), ('domhnall gleeson', 1314), ('julie walters', 1268)]\n",
      "Harry Potter and the Deathly Hallows: Part 1 2010 helena bonham carter ['daniel radcliffe', 'rupert grint', 'emma watson', 'helena bonham carter', 'robbie coltrane', 'warwick davis', 'ralph fiennes', 'michael gambon', 'brendan gleeson', 'richard griffiths', 'john hurt', 'jason isaacs', 'alan rickman', 'fiona shaw', 'timothy spall', 'imelda staunton', 'david thewlis', 'julie walters'] [('daniel radcliffe', 3511), ('emma watson', 2076), ('rupert grint', 1478), ('clemence poesy', 452), (\"david o'hara\", 399), ('ralph fiennes', 234), ('alan rickman', 120), ('tom felton', 80), ('matthew lewis', 24)]\n",
      "Harry Potter and the Deathly Hallows: Part 2 2011 helena bonham carter ['daniel radcliffe', 'rupert grint', 'emma watson', 'helena bonham carter', 'robbie coltrane', 'warwick davis', 'ralph fiennes', 'michael gambon', 'john hurt', 'jason isaacs', 'gary oldman', 'alan rickman', 'maggie smith', 'david thewlis', 'julie walters'] [('daniel radcliffe', 2655), ('emma watson', 769), ('rupert grint', 740), ('clemence poesy', 610), ('ralph fiennes', 451), ('alan rickman', 394), ('matthew lewis', 318), ('tom felton', 81)]\n",
      "Harry Potter and the Goblet of Fire 2005 robbie coltrane ['daniel radcliffe', 'rupert grint', 'emma watson', 'robbie coltrane', 'ralph fiennes', 'michael gambon', 'brendan gleeson', 'jason isaacs', 'gary oldman', 'alan rickman', 'maggie smith', 'timothy spall'] [('daniel radcliffe', 3285), ('emma watson', 1257), ('rupert grint', 1145), ('devon murray', 971), ('brendan gleeson', 819), ('michael gambon', 700), ('oliver phelps', 434), ('roger lloyd pack', 409), ('alan rickman', 278), ('maggie smith', 267), ('shefali chowdhury', 208), ('ralph fiennes', 148)]\n",
      "Harry Potter and the Order of the Phoenix 2007 helena bonham carter ['daniel radcliffe', 'rupert grint', 'emma watson', 'helena bonham carter', 'robbie coltrane', 'warwick davis', 'ralph fiennes', 'michael gambon', 'brendan gleeson', 'richard griffiths', 'jason isaacs', 'gary oldman', 'alan rickman', 'fiona shaw', 'maggie smith', 'imelda staunton', 'david thewlis', 'emma thompson', 'julie walters'] [('daniel radcliffe', 4808), ('emma watson', 1471), ('rupert grint', 1356), ('imelda staunton', 1001), ('evanna lynch', 487), ('gary oldman', 476), ('michael gambon', 462), ('katie leung', 309), ('robbie coltrane', 277), ('bonnie wright', 253), ('alan rickman', 217), ('david bradley', 120), ('maggie smith', 120), ('ralph fiennes', 88), ('david thewlis', 82), ('julie walters', 81), ('brendan gleeson', 70), ('fiona shaw', 36)]\n",
      "Harry Potter and the Sorcerer's Stone 2001 john cleese ['daniel radcliffe', 'rupert grint', 'emma watson', 'john cleese', 'robbie coltrane', 'warwick davis', 'richard griffiths', 'richard harris', 'ian hart', 'john hurt', 'alan rickman', 'fiona shaw', 'maggie smith', 'julie walters'] [('daniel radcliffe', 3918), ('rupert grint', 1549), ('emma watson', 1519), ('robbie coltrane', 983), ('alan rickman', 590), ('richard harris', 470), ('maggie smith', 453), ('tom felton', 370), ('ian hart', 283)]\n",
      "Anna Karenina 1935 freddie bartholomew ['greta garbo', 'fredric march', \"maureen o'sullivan\", 'freddie bartholomew', 'basil rathbone', 'reginald owen'] [('greta garbo', 3010), ('fredric march', 2072), (\"maureen o'sullivan\", 504), ('basil rathbone', 493), ('reginald owen', 389), ('reginald denny', 220)]\n",
      "The Color Purple 1985 rae dawn chong ['danny glover', 'adolph caesar', 'margaret avery', 'rae dawn chong', 'whoopi goldberg'] [('whoopi goldberg', 2093), ('margaret avery', 2022), ('danny glover', 1254), ('oprah winfrey', 866), ('adolph caesar', 695)]\n",
      "The Godfather 1972 richard castellano ['marlon brando', 'al pacino', 'james caan', 'richard castellano', 'robert duvall', 'sterling hayden', 'john marley', 'richard conte', 'diane keaton'] [('al pacino', 3685), ('marlon brando', 2090), ('robert duvall', 1632), ('james caan', 1170), ('richard s. castellano', 595), ('diane keaton', 534), ('al lettieri', 453), ('salvatore corsitto', 441), ('abe vigoda', 422), ('john cazale', 348), ('talia shire', 339), ('simonetta stefanelli', 321), ('morgana king', 267), ('saro urzi', 203), ('richard conte', 185), ('john marley', 151), ('alex rocco', 138), ('victor rendina', 99)]\n",
      "Mr. & Mrs. Smith 2005 kerry washington ['brad pitt', 'angelina jolie', 'adam brody', 'kerry washington'] [('brad pitt', 3107), ('angelina jolie', 2776), ('adam brody', 610), ('vince vaughn', 510)]\n",
      "The Wizard of Oz 1925 spencer bell ['larry semon', 'dorothy dwan', 'oliver hardy', 'spencer bell', 'bryant washburn', 'virginia pearson', 'charles murray'] [('larry semon', 495), ('oliver hardy', 467), ('josef swickard', 310), ('bryant washburn', 291), ('virginia pearson', 227), ('charles murray', 164)]\n"
     ]
    },
    {
     "data": {
      "text/plain": [
       "([('12 Years a Slave', 2013, 'paul dano', 'M', 7, \"lupita nyong'o\", 'F'),\n",
       "  ('A Clockwork Orange', 1971, 'miriam karlin', 'F', 13, 'warren clarke', 'M'),\n",
       "  ('Star Wars: The Force Awakens',\n",
       "   2015,\n",
       "   'adam driver',\n",
       "   'M',\n",
       "   4,\n",
       "   'oscar isaac',\n",
       "   'M'),\n",
       "  ('Airplane II: The Sequel',\n",
       "   1982,\n",
       "   'chad everett',\n",
       "   'M',\n",
       "   5,\n",
       "   'peter graves',\n",
       "   'M'),\n",
       "  ('Apollo 13', 1995, 'gary sinise', 'M', 4, 'kevin bacon', 'M'),\n",
       "  ('Birdman or (The Unexpected Virtue of Ignorance)',\n",
       "   2014,\n",
       "   'andrea riseborough',\n",
       "   'F',\n",
       "   4,\n",
       "   'zach galifianakis',\n",
       "   'M'),\n",
       "  ('Braveheart', 1995, 'catherine mccormack', 'F', 4, 'james robinson', 'M'),\n",
       "  ('Casino Royale', 2006, 'giancarlo giannini', 'M', 4, 'judi dench', 'F'),\n",
       "  ('Yojimbo', 1961, 'isuzu yamada', 'F', 5, 'tatsuya nakadai', 'M'),\n",
       "  ('Jaws', 1975, 'lorraine gary', 'F', 4, 'murray hamilton', 'M'),\n",
       "  ('Carol', 2015, 'jake lacy', 'M', 4, 'sarah paulson', 'F'),\n",
       "  ('Harry Potter and the Chamber of Secrets',\n",
       "   2002,\n",
       "   'kenneth branagh',\n",
       "   'M',\n",
       "   4,\n",
       "   'richard harris',\n",
       "   'M'),\n",
       "  ('Harry Potter and the Half-Blood Prince',\n",
       "   2009,\n",
       "   'tom felton',\n",
       "   'M',\n",
       "   7,\n",
       "   'rupert grint',\n",
       "   'M'),\n",
       "  ('The Lord of the Rings: The Return of the King',\n",
       "   2003,\n",
       "   'viggo mortensen',\n",
       "   'M',\n",
       "   4,\n",
       "   'billy boyd',\n",
       "   'M'),\n",
       "  ('Pulp Fiction', 1994, 'harvey keitel', 'M', 6, 'uma thurman', 'F'),\n",
       "  ('Raiders of the Lost Ark',\n",
       "   1981,\n",
       "   'ronald lacey',\n",
       "   'M',\n",
       "   5,\n",
       "   'denholm elliott',\n",
       "   'M'),\n",
       "  ('Alice in Wonderland', 2010, 'crispin glover', 'M', 5, 'matt lucas', 'M'),\n",
       "  ('Star Trek II: The Wrath of Khan',\n",
       "   1982,\n",
       "   'james doohan',\n",
       "   'M',\n",
       "   9,\n",
       "   'kirstie alley',\n",
       "   'F'),\n",
       "  ('Star Wars: Episode II - Attack of the Clones',\n",
       "   2002,\n",
       "   'ian mcdiarmid',\n",
       "   'M',\n",
       "   5,\n",
       "   'christopher lee',\n",
       "   'M'),\n",
       "  ('Star Wars: Episode IV - A New Hope',\n",
       "   1977,\n",
       "   'peter cushing',\n",
       "   'M',\n",
       "   4,\n",
       "   'carrie fisher',\n",
       "   'F'),\n",
       "  ('The Martian', 2015, 'jeff daniels', 'M', 4, 'jessica chastain', 'F'),\n",
       "  ('Harry Potter and the Prisoner of Azkaban',\n",
       "   2004,\n",
       "   'robbie coltrane',\n",
       "   'M',\n",
       "   8,\n",
       "   'david thewlis',\n",
       "   'M')],\n",
       " [('All About Eve', 1950, 'celeste holm', 'F', 2, 'george sanders', 'M'),\n",
       "  ('2012', 2009, 'oliver platt', 'M', 2, 'thandie newton', 'F'),\n",
       "  ('Back to the Future',\n",
       "   1985,\n",
       "   'crispin glover',\n",
       "   'M',\n",
       "   2,\n",
       "   'frances lee mccain',\n",
       "   'F'),\n",
       "  ('Batman Returns',\n",
       "   1992,\n",
       "   'christopher walken',\n",
       "   'M',\n",
       "   1,\n",
       "   'michael keaton',\n",
       "   'M'),\n",
       "  ('Beneath the Planet of the Apes',\n",
       "   1970,\n",
       "   'linda harrison',\n",
       "   'F',\n",
       "   2,\n",
       "   'maurice evans',\n",
       "   'M'),\n",
       "  ('The Dark Knight', 2008, 'gary oldman', 'M', 2, 'maggie gyllenhaal', 'F'),\n",
       "  ('Captain Fantastic', 2016, 'steve zahn', 'M', 2, 'frank langella', 'M'),\n",
       "  ('Avengers: Age of Ultron',\n",
       "   2015,\n",
       "   'chris evans',\n",
       "   'M',\n",
       "   1,\n",
       "   'scarlett johansson',\n",
       "   'F'),\n",
       "  ('Batman Begins', 2005, 'katie holmes', 'F', 2, 'gary oldman', 'M'),\n",
       "  ('Batman Forever', 1995, 'nicole kidman', 'F', 2, \"chris o'donnell\", 'M'),\n",
       "  ('Batman & Robin', 1997, 'uma thurman', 'F', 0, 'michael gough', 'M'),\n",
       "  ('Batman v Superman: Dawn of Justice',\n",
       "   2016,\n",
       "   'jesse eisenberg',\n",
       "   'M',\n",
       "   1,\n",
       "   'ben affleck',\n",
       "   'M'),\n",
       "  ('Die Hard', 1988, 'bonnie bedelia', 'F', 2, 'reginald veljohnson', 'M'),\n",
       "  ('The Lord of the Rings: The Fellowship of the Ring',\n",
       "   2001,\n",
       "   'viggo mortensen',\n",
       "   'M',\n",
       "   1,\n",
       "   'sean bean',\n",
       "   'M'),\n",
       "  ('The Lord of the Rings: The Two Towers',\n",
       "   2002,\n",
       "   'viggo mortensen',\n",
       "   'M',\n",
       "   0,\n",
       "   'bernard hill',\n",
       "   'M'),\n",
       "  ('Star Wars: Episode I - The Phantom Menace',\n",
       "   1999,\n",
       "   'jake lloyd',\n",
       "   'M',\n",
       "   2,\n",
       "   'ewan mcgregor',\n",
       "   'M'),\n",
       "  ('Star Wars: Episode III - Revenge of the Sith',\n",
       "   2005,\n",
       "   'ian mcdiarmid',\n",
       "   'M',\n",
       "   2,\n",
       "   'natalie portman',\n",
       "   'F'),\n",
       "  ('The Breakfast Club',\n",
       "   1985,\n",
       "   'judd nelson',\n",
       "   'M',\n",
       "   0,\n",
       "   'anthony michael hall',\n",
       "   'M'),\n",
       "  ('The Godfather: Part II',\n",
       "   1974,\n",
       "   'robert de niro',\n",
       "   'M',\n",
       "   2,\n",
       "   'michael v. gazzo',\n",
       "   'M'),\n",
       "  ('The Godfather: Part III', 1990, 'andy garcia', 'M', 1, 'eli wallach', 'M'),\n",
       "  ('The Matrix', 1999, 'hugo weaving', 'M', 2, 'carrie-anne moss', 'F'),\n",
       "  ('The Social Network',\n",
       "   2010,\n",
       "   'armie hammer',\n",
       "   'M',\n",
       "   2,\n",
       "   'justin timberlake',\n",
       "   'M')])"
      ]
     },
     "execution_count": 123,
     "metadata": {},
     "output_type": "execute_result"
    }
   ],
   "source": [
    "get_actors_position_incorrect(3)"
   ]
  }
 ],
 "metadata": {
  "kernelspec": {
   "display_name": "Django Shell-Plus",
   "language": "python",
   "name": "django_extensions"
  },
  "language_info": {
   "codemirror_mode": {
    "name": "ipython",
    "version": 3
   },
   "file_extension": ".py",
   "mimetype": "text/x-python",
   "name": "python",
   "nbconvert_exporter": "python",
   "pygments_lexer": "ipython3",
   "version": "3.5.2"
  },
  "toc": {
   "nav_menu": {},
   "number_sections": true,
   "sideBar": true,
   "skip_h1_title": false,
   "toc_cell": false,
   "toc_position": {},
   "toc_section_display": "block",
   "toc_window_display": false
  }
 },
 "nbformat": 4,
 "nbformat_minor": 2
}
