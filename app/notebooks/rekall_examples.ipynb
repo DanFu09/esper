{
 "cells": [
  {
   "cell_type": "markdown",
   "metadata": {
    "toc": true
   },
   "source": [
    "<h1>Table of Contents<span class=\"tocSkip\"></span></h1>\n",
    "<div class=\"toc\" style=\"margin-top: 1em;\"><ul class=\"toc-item\"><li><span><a href=\"#Interview-with-Person-X\" data-toc-modified-id=\"Interview-with-Person-X-1\"><span class=\"toc-item-num\">1&nbsp;&nbsp;</span>Interview with Person X</a></span></li><li><span><a href=\"#Panels\" data-toc-modified-id=\"Panels-2\"><span class=\"toc-item-num\">2&nbsp;&nbsp;</span>Panels</a></span></li></ul></div>"
   ]
  },
  {
   "cell_type": "code",
   "execution_count": null,
   "metadata": {
    "ExecuteTime": {
     "end_time": "2018-12-03T18:11:12.363038Z",
     "start_time": "2018-12-03T18:11:12.324716Z"
    }
   },
   "outputs": [],
   "source": [
    "# Imports. Run this first!\n",
    "\n",
    "from query.models import LabeledInterview, LabeledPanel, LabeledCommercial, Video, FaceIdentity\n",
    "from esper.rekall import *\n",
    "from rekall.temporal_predicates import *\n",
    "from rekall.spatial_predicates import *\n",
    "from rekall.bbox_predicates import *\n",
    "from rekall.payload_predicates import *\n",
    "from rekall.parsers import *\n",
    "from rekall.merge_ops import *\n",
    "from rekall.logical_predicates import *\n",
    "from rekall.video_interval_collection import VideoIntervalCollection\n",
    "from esper.prelude import esper_widget\n",
    "#from esper.captions import topic_search\n",
    "from django.db.models import FloatField\n",
    "\n",
    "sandbox_videos = [529, 763, 2648, 3459, 3730, 3769, 3952, 4143, 4611, 5281, 6185, 7262, 8220,\n",
    "    8697, 8859, 9215, 9480, 9499, 9901, 10323, 10335, 11003, 11555, 11579, 11792,\n",
    "    12837, 13058, 13141, 13247, 13556, 13827, 13927, 13993, 14482, 15916, 16215,\n",
    "    16542, 16693, 16879, 17458, 17983, 19882, 19959, 20380, 20450, 23181, 23184,\n",
    "    24193, 24847, 24992, 25463, 26386, 27188, 27410, 29001, 31378, 32472, 32996,\n",
    "    33004, 33387, 33541, 33800, 34359, 34642, 36755, 37107, 37113, 37170, 38275,\n",
    "    38420, 40203, 40856, 41480, 41725, 42756, 45472, 45645, 45655, 45698, 48140,\n",
    "    49225, 49931, 50164, 50561, 51175, 52075, 52749, 52945, 53355, 53684, 54377,\n",
    "    55711, 57384, 57592, 57708, 57804, 57990, 59122, 59398, 60186]"
   ]
  },
  {
   "cell_type": "markdown",
   "metadata": {},
   "source": [
    "# Interview with Person X"
   ]
  },
  {
   "cell_type": "code",
   "execution_count": null,
   "metadata": {
    "ExecuteTime": {
     "end_time": "2018-12-03T17:44:36.431605Z",
     "start_time": "2018-12-03T17:44:36.402195Z"
    }
   },
   "outputs": [],
   "source": [
    "guest_name = \"bernie sanders\""
   ]
  },
  {
   "cell_type": "code",
   "execution_count": null,
   "metadata": {
    "ExecuteTime": {
     "end_time": "2018-12-03T17:55:09.928096Z",
     "start_time": "2018-12-03T17:54:45.143624Z"
    }
   },
   "outputs": [],
   "source": [
    "# Load the data\n",
    "\n",
    "identities = FaceIdentity.objects.filter(face__shot__video_id__in=sandbox_videos)\n",
    "hosts_qs = identities.filter(face__is_host=True)\n",
    "guest_qs = identities.filter(identity__name=guest_name).filter(probability__gt=0.7)\n",
    "\n",
    "# Note that our unit of time is frames\n",
    "hosts = VideoIntervalCollection.from_django_qs(\n",
    "    hosts.annotate(video_id=F(\"face__shot__video_id\"),\n",
    "                  min_frame=F(\"face__shot__min_frame\"),\n",
    "                  max_frame=F(\"face__shot__max_frame\"))\n",
    ")\n",
    "guest = VideoIntervalCollection.from_django_qs(\n",
    "    sanders.annotate(video_id=F(\"face__shot__video_id\"),\n",
    "                  min_frame=F(\"face__shot__min_frame\"),\n",
    "                  max_frame=F(\"face__shot__max_frame\"))\n",
    ")"
   ]
  },
  {
   "cell_type": "code",
   "execution_count": null,
   "metadata": {
    "ExecuteTime": {
     "end_time": "2018-12-03T17:58:34.629984Z",
     "start_time": "2018-12-03T17:58:34.396900Z"
    }
   },
   "outputs": [],
   "source": [
    "# Interview query\n",
    "\n",
    "# Get all shots where the guest and a host are on screen together\n",
    "guest_with_host = guest.overlaps(hosts).coalesce()\n",
    "\n",
    "# This temporal predicate defines A overlaps with B, or A before by less than 10 frames,\n",
    "#   or A after B by less than 10 frames\n",
    "overlaps_before_or_after_pred = or_pred(\n",
    "    or_pred(overlaps(), before(max_dist=10), arity=2),\n",
    "    after(max_dist=10), arity=2)\n",
    "\n",
    "# This code finds sequences of:\n",
    "#   guest with host overlaps/before/after host OR\n",
    "#   guest with host overlaps/before/after guest\n",
    "interview_candidates = guest_with_host \\\n",
    "    .merge(hosts, predicate=overlaps_before_or_after_pred) \\\n",
    "    .set_union(guest_with_host.merge(\n",
    "        guest, predicate=overlaps_before_or_after_pred)) \\\n",
    "    .coalesce()\n",
    "\n",
    "# Sequences may be interrupted by shots where the guest or host don't\n",
    "#   appear, so dilate and coalesce to merge neighboring segments\n",
    "interviews = interview_candidates \\\n",
    "    .dilate(600) \\\n",
    "    .coalesce() \\\n",
    "    .dilate(-600) \\\n",
    "    .filter_length(min_length=1350)"
   ]
  },
  {
   "cell_type": "code",
   "execution_count": null,
   "metadata": {
    "ExecuteTime": {
     "end_time": "2018-12-03T17:59:40.698303Z",
     "start_time": "2018-12-03T17:59:40.599074Z"
    }
   },
   "outputs": [],
   "source": [
    "# Display the results in the Esper widget\n",
    "esper_widget(intrvllists_to_result(interviews.get_allintervals()))"
   ]
  },
  {
   "cell_type": "code",
   "execution_count": null,
   "metadata": {
    "ExecuteTime": {
     "end_time": "2018-12-03T18:04:25.030292Z",
     "start_time": "2018-12-03T18:04:24.912721Z"
    }
   },
   "outputs": [],
   "source": [
    "# Compare against ground truth (only available for Bernie Sanders, John McCain, Kellyanne Conway)\n",
    "ground_truth_interviews = LabeledInterview.objects.annotate(fps=F('video__fps')).annotate(\n",
    "    min_frame=F('fps') * F('start'),\n",
    "    max_frame=F('fps') * F('end')\n",
    ").filter(guest1=guest_name)\n",
    "\n",
    "result = intrvllists_to_result(\n",
    "    VideoIntervalCollection.from_django_qs(ground_truth_interviews).get_allintervals(),\n",
    "    color='black')\n",
    "add_intrvllists_to_result(result, interviews.get_allintervals(), color='red')\n",
    "\n",
    "esper_widget(result)"
   ]
  },
  {
   "cell_type": "markdown",
   "metadata": {},
   "source": [
    "# Panels"
   ]
  },
  {
   "cell_type": "code",
   "execution_count": null,
   "metadata": {
    "ExecuteTime": {
     "end_time": "2018-12-03T18:13:48.843517Z",
     "start_time": "2018-12-03T18:13:45.915028Z"
    }
   },
   "outputs": [],
   "source": [
    "# Load Data\n",
    "faces_qs = Face.objects.filter(shot__video_id__in=sandbox_videos).annotate(\n",
    "    video_id=F(\"shot__video_id\"),\n",
    "    min_frame=F(\"shot__min_frame\"),\n",
    "    max_frame=F(\"shot__max_frame\")\n",
    ")\n",
    "\n",
    "# One interval for each face\n",
    "faces = VideoIntervalCollection.from_django_qs(\n",
    "    faces_qs,\n",
    "    with_payload=in_array(bbox_payload_parser(VideoIntervalCollection.django_accessor)))\n",
    "\n",
    "# Merge shots\n",
    "faces = faces.coalesce(payload_merge_op=payload_plus)"
   ]
  },
  {
   "cell_type": "code",
   "execution_count": null,
   "metadata": {
    "ExecuteTime": {
     "end_time": "2018-12-03T18:15:47.661162Z",
     "start_time": "2018-12-03T18:15:47.485446Z"
    }
   },
   "outputs": [],
   "source": [
    "three_faces_scene_graph = {\n",
    "    'nodes': [\n",
    "        { 'name': 'face1', 'predicates': [height_at_least(0.25)] },\n",
    "        { 'name': 'face2', 'predicates': [height_at_least(0.25)] },\n",
    "        { 'name': 'face3', 'predicates': [height_at_least(0.25)] },\n",
    "    ],\n",
    "    'edges': [\n",
    "        { 'start': 'face1', 'end': 'face2', 'predicates': [same_value('y1', epsilon=0.05)] },\n",
    "        { 'start': 'face2', 'end': 'face3', 'predicates': [same_value('y1', epsilon=0.05)] }\n",
    "    ]\n",
    "}\n",
    "panels = faces.filter(payload_satisfies(scene_graph(three_faces_scene_graph, exact=True)))"
   ]
  },
  {
   "cell_type": "code",
   "execution_count": null,
   "metadata": {
    "ExecuteTime": {
     "end_time": "2018-12-03T18:15:48.731677Z",
     "start_time": "2018-12-03T18:15:48.600321Z"
    },
    "collapsed": true
   },
   "outputs": [],
   "source": [
    "esper_widget(intrvllists_to_result_bbox(panels.get_allintervals()))"
   ]
  }
 ],
 "metadata": {
  "kernelspec": {
   "display_name": "Django Shell-Plus",
   "language": "python",
   "name": "django_extensions"
  },
  "language_info": {
   "codemirror_mode": {
    "name": "ipython",
    "version": 3
   },
   "file_extension": ".py",
   "mimetype": "text/x-python",
   "name": "python",
   "nbconvert_exporter": "python",
   "pygments_lexer": "ipython3",
   "version": "3.5.2"
  },
  "toc": {
   "base_numbering": 1,
   "nav_menu": {},
   "number_sections": true,
   "sideBar": false,
   "skip_h1_title": false,
   "title_cell": "Table of Contents",
   "title_sidebar": "Contents",
   "toc_cell": true,
   "toc_position": {},
   "toc_section_display": "block",
   "toc_window_display": false
  }
 },
 "nbformat": 4,
 "nbformat_minor": 2
}
