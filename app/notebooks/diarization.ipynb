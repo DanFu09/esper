{
 "cells": [
  {
   "cell_type": "code",
   "execution_count": 7,
   "metadata": {},
   "outputs": [],
   "source": [
    "from query.datasets.prelude import *\n",
    "import tempfile"
   ]
  },
  {
   "cell_type": "code",
   "execution_count": 4,
   "metadata": {},
   "outputs": [
    {
     "name": "stdout",
     "output_type": "stream",
     "text": [
      "https://storage.googleapis.com/esper/tvnews/videos/MSNBCW_20160505_230000_Hardball_With_Chris_Matthews.mp4?GoogleAccessId=esper-111@visualdb-1046.iam.gserviceaccount.com&Expires=1519508620&Signature=sQTJKKvp62XjYfKpWskHI%2BdYttRFuBGT1iXsFT77%2FSLvVN374cOFXniqMDXtC%2Br9vzu01gpikf3r2mr580kjToPcDpkCfWT5%2BQYu%2F5htEHmaKd26oujmY9JcYO6aa%2FRFPh8KtvhKFQIMQJ%2BbKFmfPpTIKAk%2B%2Fw3%2FKv2z3E9C5ATx%2FLCKDTMkCz9qLayXzUWEQevhIhebJMndZOWaayt9G%2FgQB3zxaee3ayZrbFzGCV51Q%2F4tuilOqwuZEr%2BlyI6SpK8Dd1Nmfzs4HPDWbUDDHSNL0XMueHEsqt6AKYfbr2wUxZJ%2FgUAwEmdcdx0oqvQdeV7HTRDMBMWOiR8uVMw88g%3D%3D\n"
     ]
    }
   ],
   "source": [
    "v = Video.objects.get(path='tvnews/videos/MSNBCW_20160505_230000_Hardball_With_Chris_Matthews.mp4')"
   ]
  },
  {
   "cell_type": "code",
   "execution_count": 16,
   "metadata": {},
   "outputs": [],
   "source": [
    "def extract_audio(video, output_path=None, ext='wav', segment=None):\n",
    "    if output_path is None:\n",
    "        output_path = tempfile.NamedTemporaryFile(suffix='.{}'.format(ext), delete=False).name\n",
    "        \n",
    "    def fmt_time(t):\n",
    "        return '{:02d}:{:02d}:{:02d}.{:03d}'.format(\n",
    "            int(t / 3600), int(t / 60 % 60), int(t % 60), int(t * 1000 % 1000))    \n",
    "    \n",
    "    if segment is not None:\n",
    "        (start, end) = segment\n",
    "        start_str = '-ss {}'.format(fmt_time(start))\n",
    "        end_str = '-t {}'.format(fmt_time(end - start))\n",
    "    else:\n",
    "        start_str = ''\n",
    "        end_str = ''\n",
    "        \n",
    "    sp.check_call('ffmpeg -y {} -i \"{}\" {} {}'.format(start_str, video.url(), end_str, output_path), shell=True)\n",
    "    return output_path"
   ]
  },
  {
   "cell_type": "code",
   "execution_count": 23,
   "metadata": {},
   "outputs": [],
   "source": [
    "def parse_segmentation(lines):\n",
    "    seg = []\n",
    "    for line in lines:\n",
    "        if line[:2] == ';;':\n",
    "            continue\n",
    "            \n",
    "        [start, end, gender] = line.split(' ')[2:5]\n",
    "        seg.append({\n",
    "            'start': float(start)/100,\n",
    "            'end': float(end)/100,\n",
    "            'gender': gender\n",
    "        })\n",
    "        \n",
    "    return seg\n",
    "        \n",
    "def segment_audio(video, segment=None):\n",
    "    with Timer('Extracting audio'):\n",
    "        audio_path = extract_audio(video, segment=segment)\n",
    "        \n",
    "    with Timer('Segmenting audio'):\n",
    "        seg_path = tempfile.NamedTemporaryFile(delete=False).name\n",
    "        sp.check_call(\n",
    "            'java -jar /app/deps/LIUM/LIUM_SpkDiarization-4.2.jar --fInputMask={} --sOutputMask={} _'\n",
    "            .format(audio_path, seg_path),\n",
    "            shell=True)\n",
    "    \n",
    "    with open(seg_path) as f:\n",
    "        seg_lines = [s.strip() for s in f.readlines()]\n",
    "    seg = parse_segmentation(seg_lines)\n",
    "    \n",
    "    os.remove(audio_path)\n",
    "    os.remove(seg_path)\n",
    "    \n",
    "    return seg"
   ]
  },
  {
   "cell_type": "code",
   "execution_count": 25,
   "metadata": {},
   "outputs": [
    {
     "name": "stderr",
     "output_type": "stream",
     "text": [
      "D 18-02-24 14:01:12 prelude.py:249] -- START: Extracting audio\n",
      "D 18-02-24 14:01:24 prelude.py:256] -- END: Extracting audio -- 00:00:12\n",
      "D 18-02-24 14:01:24 prelude.py:249] -- START: Segmenting audio\n",
      "D 18-02-24 14:03:55 prelude.py:256] -- END: Segmenting audio -- 00:02:30\n"
     ]
    },
    {
     "name": "stdout",
     "output_type": "stream",
     "text": [
      "[{'start': 0.0, 'end': 7.24, 'gender': 'M'}, {'start': 7.5, 'end': 5.78, 'gender': 'M'}, {'start': 13.88, 'end': 2.89, 'gender': 'M'}, {'start': 533.42, 'end': 5.49, 'gender': 'M'}, {'start': 644.09, 'end': 1.51, 'gender': 'M'}, {'start': 690.37, 'end': 9.93, 'gender': 'M'}, {'start': 700.44, 'end': 3.2, 'gender': 'M'}, {'start': 1210.98, 'end': 11.26, 'gender': 'M'}, {'start': 3615.89, 'end': 4.13, 'gender': 'M'}, {'start': 18.52, 'end': 3.21, 'gender': 'M'}, {'start': 31.98, 'end': 18.9, 'gender': 'M'}, {'start': 172.8, 'end': 18.72, 'gender': 'M'}, {'start': 249.24, 'end': 14.67, 'gender': 'M'}, {'start': 316.37, 'end': 8.08, 'gender': 'M'}, {'start': 324.45, 'end': 12.26, 'gender': 'M'}, {'start': 336.71, 'end': 4.02, 'gender': 'M'}, {'start': 372.05, 'end': 12.87, 'gender': 'M'}, {'start': 429.85, 'end': 16.23, 'gender': 'M'}, {'start': 446.08, 'end': 9.16, 'gender': 'M'}, {'start': 455.24, 'end': 3.37, 'gender': 'M'}, {'start': 458.61, 'end': 10.89, 'gender': 'M'}, {'start': 469.5, 'end': 14.01, 'gender': 'M'}, {'start': 1736.15, 'end': 5.19, 'gender': 'M'}, {'start': 2819.3, 'end': 3.65, 'gender': 'M'}, {'start': 3021.15, 'end': 6.76, 'gender': 'M'}, {'start': 3243.83, 'end': 8.6, 'gender': 'M'}, {'start': 3282.2, 'end': 3.58, 'gender': 'M'}, {'start': 652.08, 'end': 2.02, 'gender': 'M'}, {'start': 655.64, 'end': 1.83, 'gender': 'M'}, {'start': 658.17, 'end': 2.84, 'gender': 'M'}, {'start': 675.12, 'end': 4.31, 'gender': 'M'}, {'start': 661.68, 'end': 1.76, 'gender': 'M'}, {'start': 666.22, 'end': 2.71, 'gender': 'M'}, {'start': 341.46, 'end': 15.79, 'gender': 'M'}, {'start': 357.25, 'end': 14.8, 'gender': 'M'}, {'start': 538.94, 'end': 15.29, 'gender': 'M'}, {'start': 554.23, 'end': 13.06, 'gender': 'M'}, {'start': 567.29, 'end': 5.43, 'gender': 'M'}, {'start': 704.46, 'end': 3.69, 'gender': 'M'}, {'start': 708.15, 'end': 2.36, 'gender': 'M'}, {'start': 710.51, 'end': 14.31, 'gender': 'M'}, {'start': 724.82, 'end': 6.86, 'gender': 'M'}, {'start': 89.14, 'end': 8.12, 'gender': 'M'}, {'start': 97.26, 'end': 8.74, 'gender': 'M'}, {'start': 106.0, 'end': 15.14, 'gender': 'M'}, {'start': 121.14, 'end': 10.16, 'gender': 'M'}, {'start': 523.24, 'end': 10.18, 'gender': 'M'}, {'start': 572.72, 'end': 10.34, 'gender': 'M'}, {'start': 620.73, 'end': 12.81, 'gender': 'M'}, {'start': 633.54, 'end': 10.34, 'gender': 'M'}, {'start': 731.68, 'end': 6.03, 'gender': 'M'}, {'start': 737.71, 'end': 19.69, 'gender': 'M'}, {'start': 757.4, 'end': 7.14, 'gender': 'M'}, {'start': 831.19, 'end': 10.26, 'gender': 'M'}, {'start': 841.45, 'end': 18.61, 'gender': 'M'}, {'start': 860.06, 'end': 13.42, 'gender': 'M'}, {'start': 1139.67, 'end': 18.84, 'gender': 'M'}, {'start': 1158.51, 'end': 2.85, 'gender': 'M'}, {'start': 1161.36, 'end': 7.73, 'gender': 'M'}, {'start': 1169.09, 'end': 13.65, 'gender': 'M'}, {'start': 1182.74, 'end': 3.87, 'gender': 'M'}, {'start': 1222.24, 'end': 10.07, 'gender': 'M'}, {'start': 1232.32, 'end': 19.77, 'gender': 'M'}, {'start': 1252.09, 'end': 14.35, 'gender': 'M'}, {'start': 1271.56, 'end': 8.56, 'gender': 'M'}, {'start': 1316.46, 'end': 7.83, 'gender': 'M'}, {'start': 1330.31, 'end': 2.9, 'gender': 'M'}, {'start': 1345.58, 'end': 13.28, 'gender': 'M'}, {'start': 1416.88, 'end': 9.69, 'gender': 'M'}, {'start': 1437.57, 'end': 15.88, 'gender': 'M'}, {'start': 1486.98, 'end': 19.15, 'gender': 'M'}, {'start': 1556.05, 'end': 11.27, 'gender': 'M'}, {'start': 1567.35, 'end': 6.21, 'gender': 'M'}, {'start': 1573.56, 'end': 15.92, 'gender': 'M'}, {'start': 1629.22, 'end': 13.74, 'gender': 'M'}, {'start': 1771.8, 'end': 16.02, 'gender': 'M'}, {'start': 1787.82, 'end': 12.15, 'gender': 'M'}, {'start': 1814.83, 'end': 7.18, 'gender': 'M'}, {'start': 1841.26, 'end': 4.28, 'gender': 'M'}, {'start': 1845.54, 'end': 17.62, 'gender': 'M'}, {'start': 1863.16, 'end': 5.08, 'gender': 'M'}, {'start': 3264.51, 'end': 2.58, 'gender': 'M'}, {'start': 384.92, 'end': 15.9, 'gender': 'M'}, {'start': 401.13, 'end': 12.86, 'gender': 'M'}, {'start': 413.99, 'end': 15.86, 'gender': 'M'}, {'start': 583.06, 'end': 8.67, 'gender': 'M'}, {'start': 591.73, 'end': 7.25, 'gender': 'M'}, {'start': 598.98, 'end': 15.53, 'gender': 'M'}, {'start': 614.51, 'end': 6.22, 'gender': 'M'}, {'start': 764.54, 'end': 15.09, 'gender': 'M'}, {'start': 779.64, 'end': 5.34, 'gender': 'M'}, {'start': 784.98, 'end': 10.8, 'gender': 'M'}, {'start': 795.78, 'end': 10.55, 'gender': 'M'}, {'start': 806.33, 'end': 16.42, 'gender': 'M'}, {'start': 822.75, 'end': 8.44, 'gender': 'M'}, {'start': 52.46, 'end': 19.9, 'gender': 'M'}, {'start': 72.39, 'end': 16.65, 'gender': 'M'}, {'start': 3634.21, 'end': 3.86, 'gender': 'M'}, {'start': 873.48, 'end': 3.85, 'gender': 'M'}, {'start': 878.06, 'end': 15.54, 'gender': 'M'}, {'start': 893.6, 'end': 6.31, 'gender': 'M'}, {'start': 899.91, 'end': 13.51, 'gender': 'M'}, {'start': 913.42, 'end': 5.45, 'gender': 'M'}, {'start': 993.6, 'end': 10.63, 'gender': 'M'}, {'start': 1004.23, 'end': 9.88, 'gender': 'M'}, {'start': 3027.91, 'end': 11.69, 'gender': 'M'}, {'start': 3039.63, 'end': 7.85, 'gender': 'M'}, {'start': 3285.78, 'end': 3.44, 'gender': 'M'}, {'start': 3289.45, 'end': 4.79, 'gender': 'M'}, {'start': 931.24, 'end': 4.67, 'gender': 'M'}, {'start': 936.58, 'end': 5.96, 'gender': 'M'}, {'start': 3415.38, 'end': 3.31, 'gender': 'M'}, {'start': 3420.76, 'end': 8.6, 'gender': 'M'}, {'start': 3429.67, 'end': 2.41, 'gender': 'M'}, {'start': 942.54, 'end': 14.18, 'gender': 'M'}, {'start': 957.33, 'end': 3.74, 'gender': 'M'}, {'start': 3432.08, 'end': 5.71, 'gender': 'M'}, {'start': 963.04, 'end': 10.01, 'gender': 'F'}, {'start': 2647.54, 'end': 1.84, 'gender': 'F'}, {'start': 2649.72, 'end': 7.68, 'gender': 'F'}, {'start': 2657.57, 'end': 12.69, 'gender': 'F'}, {'start': 2787.16, 'end': 8.32, 'gender': 'F'}, {'start': 2795.48, 'end': 4.79, 'gender': 'F'}, {'start': 2800.27, 'end': 15.53, 'gender': 'F'}, {'start': 2815.8, 'end': 3.5, 'gender': 'F'}, {'start': 3267.39, 'end': 3.5, 'gender': 'F'}, {'start': 973.05, 'end': 4.13, 'gender': 'M'}, {'start': 3526.51, 'end': 19.3, 'gender': 'M'}, {'start': 3545.81, 'end': 16.67, 'gender': 'M'}, {'start': 3562.48, 'end': 5.51, 'gender': 'M'}, {'start': 3567.99, 'end': 12.57, 'gender': 'M'}, {'start': 3580.56, 'end': 2.41, 'gender': 'M'}, {'start': 3582.97, 'end': 18.3, 'gender': 'M'}, {'start': 3601.27, 'end': 5.25, 'gender': 'M'}, {'start': 3606.52, 'end': 9.37, 'gender': 'M'}, {'start': 3159.29, 'end': 10.33, 'gender': 'F'}, {'start': 3172.21, 'end': 3.09, 'gender': 'F'}, {'start': 984.15, 'end': 3.74, 'gender': 'F'}, {'start': 988.57, 'end': 3.64, 'gender': 'F'}, {'start': 3179.13, 'end': 9.85, 'gender': 'F'}, {'start': 1015.37, 'end': 5.77, 'gender': 'F'}, {'start': 1021.23, 'end': 19.51, 'gender': 'F'}, {'start': 1040.74, 'end': 4.24, 'gender': 'M'}, {'start': 1044.98, 'end': 3.29, 'gender': 'F'}, {'start': 3069.41, 'end': 10.7, 'gender': 'F'}, {'start': 3123.25, 'end': 5.73, 'gender': 'F'}, {'start': 1051.07, 'end': 1.69, 'gender': 'F'}, {'start': 1053.38, 'end': 3.04, 'gender': 'F'}, {'start': 1057.96, 'end': 1.6, 'gender': 'F'}, {'start': 3018.78, 'end': 2.37, 'gender': 'F'}, {'start': 3144.35, 'end': 5.25, 'gender': 'F'}, {'start': 3150.75, 'end': 2.46, 'gender': 'F'}, {'start': 3153.99, 'end': 5.1, 'gender': 'F'}, {'start': 1059.56, 'end': 2.14, 'gender': 'F'}, {'start': 1062.25, 'end': 3.23, 'gender': 'F'}, {'start': 3129.05, 'end': 5.23, 'gender': 'F'}, {'start': 1066.2, 'end': 6.68, 'gender': 'F'}, {'start': 3135.0, 'end': 6.6, 'gender': 'F'}, {'start': 1073.08, 'end': 2.32, 'gender': 'M'}, {'start': 3141.87, 'end': 2.2, 'gender': 'M'}, {'start': 1075.45, 'end': 14.3, 'gender': 'M'}, {'start': 1120.5, 'end': 14.28, 'gender': 'M'}, {'start': 3445.65, 'end': 15.07, 'gender': 'M'}, {'start': 3490.68, 'end': 16.51, 'gender': 'M'}, {'start': 1090.54, 'end': 9.32, 'gender': 'M'}, {'start': 1099.86, 'end': 17.8, 'gender': 'M'}, {'start': 1117.72, 'end': 2.7, 'gender': 'M'}, {'start': 1188.31, 'end': 3.25, 'gender': 'M'}, {'start': 1191.56, 'end': 19.42, 'gender': 'M'}, {'start': 1267.05, 'end': 4.51, 'gender': 'F'}, {'start': 1280.12, 'end': 14.25, 'gender': 'F'}, {'start': 1294.37, 'end': 10.08, 'gender': 'F'}, {'start': 1304.45, 'end': 12.01, 'gender': 'F'}, {'start': 1324.29, 'end': 6.02, 'gender': 'F'}, {'start': 1333.69, 'end': 11.89, 'gender': 'F'}, {'start': 1506.96, 'end': 11.2, 'gender': 'F'}, {'start': 1518.16, 'end': 10.62, 'gender': 'F'}, {'start': 1528.78, 'end': 6.07, 'gender': 'F'}, {'start': 1534.85, 'end': 7.34, 'gender': 'F'}, {'start': 1542.19, 'end': 13.86, 'gender': 'F'}, {'start': 1642.96, 'end': 4.59, 'gender': 'F'}, {'start': 1647.7, 'end': 10.2, 'gender': 'F'}, {'start': 1658.06, 'end': 2.26, 'gender': 'F'}, {'start': 1660.55, 'end': 7.7, 'gender': 'F'}, {'start': 1800.2, 'end': 14.63, 'gender': 'F'}, {'start': 1358.88, 'end': 11.48, 'gender': 'M'}, {'start': 1370.36, 'end': 9.2, 'gender': 'M'}, {'start': 1379.56, 'end': 6.64, 'gender': 'M'}, {'start': 1386.2, 'end': 19.46, 'gender': 'M'}, {'start': 1405.66, 'end': 11.22, 'gender': 'M'}, {'start': 1589.48, 'end': 2.9, 'gender': 'M'}, {'start': 1592.38, 'end': 4.3, 'gender': 'M'}, {'start': 1596.68, 'end': 15.8, 'gender': 'M'}, {'start': 1612.48, 'end': 16.74, 'gender': 'M'}, {'start': 3309.16, 'end': 3.66, 'gender': 'M'}, {'start': 1426.63, 'end': 10.94, 'gender': 'M'}, {'start': 1453.45, 'end': 16.48, 'gender': 'M'}, {'start': 1469.93, 'end': 17.05, 'gender': 'M'}, {'start': 1668.25, 'end': 14.84, 'gender': 'M'}, {'start': 1683.09, 'end': 6.5, 'gender': 'M'}, {'start': 1822.01, 'end': 19.25, 'gender': 'M'}, {'start': 132.44, 'end': 16.45, 'gender': 'F'}, {'start': 148.98, 'end': 6.2, 'gender': 'F'}, {'start': 155.18, 'end': 17.62, 'gender': 'F'}, {'start': 192.45, 'end': 19.79, 'gender': 'F'}, {'start': 212.24, 'end': 3.08, 'gender': 'F'}, {'start': 216.11, 'end': 18.06, 'gender': 'F'}, {'start': 234.26, 'end': 14.98, 'gender': 'F'}, {'start': 1694.53, 'end': 15.02, 'gender': 'M'}, {'start': 1710.72, 'end': 17.34, 'gender': 'M'}, {'start': 1728.19, 'end': 7.96, 'gender': 'M'}, {'start': 1689.59, 'end': 4.88, 'gender': 'M'}, {'start': 1741.34, 'end': 9.38, 'gender': 'M'}, {'start': 1868.24, 'end': 3.35, 'gender': 'M'}, {'start': 2822.95, 'end': 2.22, 'gender': 'M'}, {'start': 2825.45, 'end': 3.68, 'gender': 'M'}, {'start': 3270.89, 'end': 8.74, 'gender': 'M'}, {'start': 3279.92, 'end': 2.28, 'gender': 'M'}, {'start': 1751.98, 'end': 19.82, 'gender': 'M'}, {'start': 1872.64, 'end': 2.55, 'gender': 'F'}, {'start': 1883.1, 'end': 11.7, 'gender': 'M'}, {'start': 1894.84, 'end': 2.29, 'gender': 'M'}, {'start': 1897.13, 'end': 18.02, 'gender': 'M'}, {'start': 1915.15, 'end': 2.74, 'gender': 'M'}, {'start': 1917.89, 'end': 8.04, 'gender': 'F'}, {'start': 1925.93, 'end': 5.66, 'gender': 'F'}, {'start': 2023.16, 'end': 2.15, 'gender': 'F'}, {'start': 1931.59, 'end': 13.24, 'gender': 'F'}, {'start': 1964.57, 'end': 11.76, 'gender': 'F'}, {'start': 1995.26, 'end': 5.68, 'gender': 'F'}, {'start': 2142.28, 'end': 5.47, 'gender': 'F'}, {'start': 2243.05, 'end': 6.04, 'gender': 'F'}, {'start': 1944.83, 'end': 5.99, 'gender': 'F'}, {'start': 1976.33, 'end': 5.2, 'gender': 'F'}, {'start': 1950.82, 'end': 2.24, 'gender': 'F'}, {'start': 2049.51, 'end': 6.1, 'gender': 'F'}, {'start': 2072.24, 'end': 7.46, 'gender': 'F'}, {'start': 2256.86, 'end': 7.49, 'gender': 'F'}, {'start': 2305.47, 'end': 5.8, 'gender': 'F'}, {'start': 2314.04, 'end': 5.17, 'gender': 'F'}, {'start': 2346.34, 'end': 10.66, 'gender': 'F'}, {'start': 2378.74, 'end': 5.97, 'gender': 'F'}, {'start': 2414.03, 'end': 16.24, 'gender': 'F'}, {'start': 1954.71, 'end': 6.33, 'gender': 'F'}, {'start': 1989.05, 'end': 6.21, 'gender': 'F'}, {'start': 2005.65, 'end': 3.41, 'gender': 'F'}, {'start': 2017.76, 'end': 5.4, 'gender': 'F'}, {'start': 2029.85, 'end': 19.66, 'gender': 'F'}, {'start': 2055.61, 'end': 2.64, 'gender': 'F'}, {'start': 2062.49, 'end': 3.47, 'gender': 'F'}, {'start': 2113.72, 'end': 11.34, 'gender': 'F'}, {'start': 2125.06, 'end': 13.23, 'gender': 'F'}, {'start': 2147.78, 'end': 2.52, 'gender': 'F'}, {'start': 2153.43, 'end': 9.39, 'gender': 'F'}, {'start': 2168.8, 'end': 1.55, 'gender': 'F'}, {'start': 2451.51, 'end': 1.65, 'gender': 'F'}, {'start': 1981.53, 'end': 7.52, 'gender': 'M'}, {'start': 2011.26, 'end': 6.5, 'gender': 'F'}, {'start': 2058.25, 'end': 4.24, 'gender': 'F'}, {'start': 2107.16, 'end': 6.56, 'gender': 'F'}, {'start': 2139.09, 'end': 3.19, 'gender': 'F'}, {'start': 2251.64, 'end': 5.22, 'gender': 'F'}, {'start': 2067.32, 'end': 4.92, 'gender': 'M'}, {'start': 2272.93, 'end': 7.33, 'gender': 'M'}, {'start': 2280.59, 'end': 17.23, 'gender': 'M'}, {'start': 2325.87, 'end': 9.88, 'gender': 'M'}, {'start': 2335.75, 'end': 10.59, 'gender': 'M'}, {'start': 2357.0, 'end': 2.57, 'gender': 'M'}, {'start': 2359.57, 'end': 19.17, 'gender': 'M'}, {'start': 2384.71, 'end': 9.51, 'gender': 'M'}, {'start': 2394.22, 'end': 12.9, 'gender': 'M'}, {'start': 2435.45, 'end': 14.29, 'gender': 'M'}, {'start': 2461.93, 'end': 3.04, 'gender': 'M'}, {'start': 2465.14, 'end': 18.16, 'gender': 'M'}, {'start': 2484.78, 'end': 8.01, 'gender': 'M'}, {'start': 2079.7, 'end': 9.66, 'gender': 'M'}, {'start': 2089.36, 'end': 17.8, 'gender': 'M'}, {'start': 2184.08, 'end': 4.76, 'gender': 'M'}, {'start': 2188.84, 'end': 6.64, 'gender': 'M'}, {'start': 2195.48, 'end': 16.4, 'gender': 'M'}, {'start': 2212.7, 'end': 3.06, 'gender': 'M'}, {'start': 2219.79, 'end': 3.16, 'gender': 'M'}, {'start': 2222.95, 'end': 14.75, 'gender': 'M'}, {'start': 2237.7, 'end': 5.35, 'gender': 'M'}, {'start': 2264.35, 'end': 8.58, 'gender': 'M'}, {'start': 2319.21, 'end': 6.66, 'gender': 'M'}, {'start': 2453.16, 'end': 8.77, 'gender': 'M'}, {'start': 2150.3, 'end': 3.13, 'gender': 'F'}, {'start': 2170.35, 'end': 12.29, 'gender': 'F'}, {'start': 2215.76, 'end': 4.03, 'gender': 'F'}, {'start': 2297.82, 'end': 5.14, 'gender': 'F'}, {'start': 2407.12, 'end': 2.3, 'gender': 'F'}, {'start': 2409.6, 'end': 4.08, 'gender': 'F'}, {'start': 2430.27, 'end': 5.18, 'gender': 'F'}, {'start': 2492.79, 'end': 10.46, 'gender': 'M'}, {'start': 2503.25, 'end': 4.99, 'gender': 'M'}, {'start': 2508.24, 'end': 19.12, 'gender': 'M'}, {'start': 2528.57, 'end': 5.41, 'gender': 'M'}, {'start': 2534.09, 'end': 16.97, 'gender': 'F'}, {'start': 2551.14, 'end': 12.93, 'gender': 'F'}, {'start': 2564.6, 'end': 11.14, 'gender': 'F'}, {'start': 2575.87, 'end': 10.38, 'gender': 'M'}, {'start': 2586.25, 'end': 13.48, 'gender': 'M'}, {'start': 2599.73, 'end': 9.43, 'gender': 'M'}, {'start': 2609.16, 'end': 14.22, 'gender': 'M'}, {'start': 2623.45, 'end': 15.58, 'gender': 'M'}, {'start': 2639.03, 'end': 7.1, 'gender': 'M'}, {'start': 2670.26, 'end': 15.7, 'gender': 'M'}, {'start': 2751.46, 'end': 9.65, 'gender': 'M'}, {'start': 2761.17, 'end': 10.87, 'gender': 'M'}, {'start': 2783.67, 'end': 3.49, 'gender': 'M'}, {'start': 2847.84, 'end': 15.86, 'gender': 'M'}, {'start': 2905.29, 'end': 3.36, 'gender': 'M'}, {'start': 2908.84, 'end': 10.54, 'gender': 'M'}, {'start': 2686.03, 'end': 7.38, 'gender': 'F'}, {'start': 2693.41, 'end': 11.53, 'gender': 'F'}, {'start': 2704.94, 'end': 9.35, 'gender': 'F'}, {'start': 2714.29, 'end': 6.69, 'gender': 'F'}, {'start': 2722.14, 'end': 14.43, 'gender': 'M'}, {'start': 2736.75, 'end': 14.71, 'gender': 'M'}, {'start': 2829.13, 'end': 14.07, 'gender': 'M'}, {'start': 2843.23, 'end': 4.61, 'gender': 'M'}, {'start': 3192.69, 'end': 11.87, 'gender': 'M'}, {'start': 3204.73, 'end': 13.78, 'gender': 'M'}, {'start': 2772.04, 'end': 11.63, 'gender': 'F'}, {'start': 3220.2, 'end': 10.37, 'gender': 'F'}, {'start': 3231.8, 'end': 11.73, 'gender': 'F'}, {'start': 263.91, 'end': 6.91, 'gender': 'F'}, {'start': 270.82, 'end': 12.91, 'gender': 'F'}, {'start': 283.73, 'end': 8.49, 'gender': 'F'}, {'start': 292.22, 'end': 7.41, 'gender': 'F'}, {'start': 299.63, 'end': 16.74, 'gender': 'F'}, {'start': 2863.7, 'end': 12.65, 'gender': 'F'}, {'start': 2876.35, 'end': 2.5, 'gender': 'F'}, {'start': 2878.85, 'end': 17.95, 'gender': 'F'}, {'start': 2896.8, 'end': 5.12, 'gender': 'F'}, {'start': 2901.92, 'end': 3.37, 'gender': 'F'}, {'start': 3252.43, 'end': 12.08, 'gender': 'F'}, {'start': 2927.26, 'end': 10.34, 'gender': 'F'}, {'start': 2937.6, 'end': 9.7, 'gender': 'F'}, {'start': 2947.3, 'end': 11.8, 'gender': 'F'}, {'start': 2959.23, 'end': 13.74, 'gender': 'F'}, {'start': 2972.97, 'end': 6.29, 'gender': 'F'}, {'start': 2979.26, 'end': 2.52, 'gender': 'F'}, {'start': 2982.37, 'end': 3.71, 'gender': 'F'}, {'start': 3049.06, 'end': 1.51, 'gender': 'F'}, {'start': 3051.04, 'end': 9.37, 'gender': 'F'}, {'start': 3060.5, 'end': 3.12, 'gender': 'F'}, {'start': 2996.0, 'end': 1.95, 'gender': 'F'}, {'start': 3005.22, 'end': 2.1, 'gender': 'M'}, {'start': 3007.68, 'end': 1.89, 'gender': 'M'}, {'start': 3080.11, 'end': 18.98, 'gender': 'M'}, {'start': 3099.34, 'end': 9.24, 'gender': 'M'}, {'start': 3108.59, 'end': 3.66, 'gender': 'M'}, {'start': 3112.51, 'end': 10.74, 'gender': 'M'}, {'start': 3295.54, 'end': 7.27, 'gender': 'M'}, {'start': 3328.52, 'end': 15.67, 'gender': 'M'}, {'start': 3344.19, 'end': 8.89, 'gender': 'M'}, {'start': 3353.08, 'end': 13.92, 'gender': 'M'}, {'start': 3367.0, 'end': 2.88, 'gender': 'M'}, {'start': 3370.09, 'end': 17.12, 'gender': 'M'}, {'start': 3387.21, 'end': 18.67, 'gender': 'M'}, {'start': 3303.42, 'end': 5.74, 'gender': 'M'}, {'start': 3405.88, 'end': 7.92, 'gender': 'M'}, {'start': 3313.41, 'end': 15.11, 'gender': 'M'}, {'start': 3437.79, 'end': 1.62, 'gender': 'M'}, {'start': 3441.61, 'end': 2.51, 'gender': 'M'}, {'start': 3460.72, 'end': 4.29, 'gender': 'F'}, {'start': 3465.01, 'end': 13.19, 'gender': 'F'}, {'start': 3478.2, 'end': 9.9, 'gender': 'F'}, {'start': 3488.1, 'end': 2.51, 'gender': 'F'}, {'start': 3516.93, 'end': 9.58, 'gender': 'M'}, {'start': 3622.16, 'end': 5.94, 'gender': 'M'}, {'start': 3628.1, 'end': 6.11, 'gender': 'M'}, {'start': 3638.07, 'end': 14.76, 'gender': 'M'}, {'start': 3652.83, 'end': 6.67, 'gender': 'M'}, {'start': 485.12, 'end': 18.79, 'gender': 'M'}, {'start': 503.91, 'end': 9.09, 'gender': 'M'}, {'start': 513.0, 'end': 10.24, 'gender': 'M'}]\n"
     ]
    }
   ],
   "source": [
    "seg = segment_audio(v)\n",
    "print(seg)"
   ]
  },
  {
   "cell_type": "code",
   "execution_count": 27,
   "metadata": {},
   "outputs": [],
   "source": [
    "json.dump(seg, open('/app/gender_seg.json', 'wb'))"
   ]
  }
 ],
 "metadata": {
  "kernelspec": {
   "display_name": "Django Shell-Plus",
   "language": "python",
   "name": "django_extensions"
  },
  "language_info": {
   "codemirror_mode": {
    "name": "ipython",
    "version": 2
   },
   "file_extension": ".py",
   "mimetype": "text/x-python",
   "name": "python",
   "nbconvert_exporter": "python",
   "pygments_lexer": "ipython2",
   "version": "2.7.14"
  },
  "toc": {
   "nav_menu": {},
   "number_sections": true,
   "sideBar": false,
   "skip_h1_title": false,
   "toc_cell": false,
   "toc_position": {},
   "toc_section_display": "block",
   "toc_window_display": false
  }
 },
 "nbformat": 4,
 "nbformat_minor": 2
}
