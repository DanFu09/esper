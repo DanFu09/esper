{
 "cells": [
  {
   "cell_type": "markdown",
   "metadata": {
    "toc": true
   },
   "source": [
    "<h1>Table of Contents<span class=\"tocSkip\"></span></h1>\n",
    "<div class=\"toc\" style=\"margin-top: 1em;\"><ul class=\"toc-item\"></ul></div>"
   ]
  },
  {
   "cell_type": "code",
   "execution_count": null,
   "metadata": {
    "ExecuteTime": {
     "end_time": "2018-10-16T06:29:12.512829Z",
     "start_time": "2018-10-16T06:29:12.480338Z"
    }
   },
   "outputs": [],
   "source": [
    "from esper.stdlib import *\n",
    "from esper.prelude import *\n",
    "from esper.spark_util import *\n",
    "from esper.major_canonical_shows import MAJOR_CANONICAL_SHOWS\n",
    "\n",
    "import pyspark.sql.functions as func\n",
    "from collections import defaultdict\n",
    "import random\n",
    "import pickle\n",
    "from pathlib import Path"
   ]
  },
  {
   "cell_type": "code",
   "execution_count": null,
   "metadata": {
    "ExecuteTime": {
     "end_time": "2018-10-16T06:24:03.384291Z",
     "start_time": "2018-10-16T06:24:03.359895Z"
    }
   },
   "outputs": [],
   "source": [
    "OVERWRITE = True"
   ]
  },
  {
   "cell_type": "code",
   "execution_count": null,
   "metadata": {
    "ExecuteTime": {
     "end_time": "2018-10-16T04:11:56.331544Z",
     "start_time": "2018-10-16T04:10:32.334937Z"
    }
   },
   "outputs": [],
   "source": [
    "face_genders = get_face_genders()\n",
    "face_genders = face_genders.where(face_genders.labeler_id != Labeler.objects.get(name='handlabeled-gender').id)\n",
    "face_genders = face_genders.where(face_genders.in_commercial == False)"
   ]
  },
  {
   "cell_type": "code",
   "execution_count": null,
   "metadata": {
    "ExecuteTime": {
     "end_time": "2018-10-16T03:41:26.417173Z",
     "start_time": "2018-10-16T03:40:14.871446Z"
    }
   },
   "outputs": [],
   "source": [
    "face_identities = get_face_identities()\n",
    "face_identities = face_identities.where(face_identities.in_commercial == False)\n",
    "face_identities = face_identities.where(face_identities.labeler_id.isin(\n",
    "    [l.id for l in Labeler.objects.filter(name__contains='face-identity')]\n",
    "))"
   ]
  },
  {
   "cell_type": "code",
   "execution_count": null,
   "metadata": {
    "ExecuteTime": {
     "end_time": "2018-10-16T06:08:33.147201Z",
     "start_time": "2018-10-16T06:08:32.698610Z"
    }
   },
   "outputs": [],
   "source": [
    "class ShotInfo(object):\n",
    "    \n",
    "    def __init__(self, start, end):\n",
    "        self.start = start\n",
    "        self.end = end\n",
    "        self.male_cnt = 0.\n",
    "        self.female_cnt = 0.\n",
    "        self.gender_var = 0. # SURPRISE! THEY ARE EQUAL!\n",
    "        self.identities = {}\n",
    "    \n",
    "    def add_face_gender(self, fg):\n",
    "        female_prob = fg['female_probability']\n",
    "        male_prob = fg['male_probability']\n",
    "        \n",
    "        # Adding indicator variables and their variances\n",
    "        self.male_cnt += male_prob\n",
    "        self.female_cnt += female_prob\n",
    "        self.gender_var += (1. - male_prob) * male_prob\n",
    "    \n",
    "    def add_face_identity(self, fi):\n",
    "        identity_id = fi['identity_id']\n",
    "        identity_prob = fi['probability']\n",
    "        if identity_id in self.identities:\n",
    "            cur_cnt, cur_var = self.identities[identity_id]\n",
    "        else:\n",
    "            cur_cnt, cur_var = 0., 0.\n",
    "        self.identities[identity_id] = (cur_cnt + identity_prob, cur_var + identity_prob * (1. - identity_prob))\n",
    "        \n",
    "    def get(self):\n",
    "        return (\n",
    "            self.start, self.end, \n",
    "            self.male_cnt,\n",
    "            self.female_cnt, \n",
    "            self.gender_var, \n",
    "            self.identities\n",
    "        )\n"
   ]
  },
  {
   "cell_type": "code",
   "execution_count": null,
   "metadata": {
    "ExecuteTime": {
     "end_time": "2018-10-16T06:18:31.406737Z",
     "start_time": "2018-10-16T06:08:42.321433Z"
    }
   },
   "outputs": [],
   "source": [
    "video_id_to_shots_to_info = {}\n",
    "\n",
    "for fg in face_genders.select('video_id', 'shot_id', 'min_frame', 'max_frame', 'fps', \n",
    "                              'male_probability', 'female_probability').collect():\n",
    "    video_id = fg['video_id']\n",
    "    shots_to_info = video_id_to_shots_to_info.get(video_id, {})\n",
    "    shot_id = fg['shot_id']\n",
    "    if shot_id not in shots_to_info:\n",
    "        min_frame = fg['min_frame']\n",
    "        max_frame = fg['max_frame']\n",
    "        fps = fg['fps']\n",
    "        shots_to_info[shot_id] = ShotInfo(min_frame / fps, max_frame / fps)\n",
    "    shots_to_info[shot_id].add_face_gender(fg)\n",
    "    video_id_to_shots_to_info[video_id] = shots_to_info"
   ]
  },
  {
   "cell_type": "code",
   "execution_count": null,
   "metadata": {
    "ExecuteTime": {
     "end_time": "2018-10-16T06:22:14.493074Z",
     "start_time": "2018-10-16T06:18:31.409778Z"
    }
   },
   "outputs": [],
   "source": [
    "for fi in face_identities.select('video_id', 'shot_id', 'min_frame', 'max_frame', 'fps', \n",
    "                                 'identity_id', 'probability').collect():\n",
    "    video_id = fi['video_id']\n",
    "    shots_to_info = video_id_to_shots_to_info.get(video_id, {})\n",
    "    shot_id = fi['shot_id']\n",
    "    if shot_id not in shots_to_info:\n",
    "        print('Weird: {} has no gender but has identities'.format(shot_id))\n",
    "        min_frame = fi['min_frame']\n",
    "        max_frame = fi['max_frame']\n",
    "        fps = fi['fps']\n",
    "        shots_to_info[shot_id] = ShotInfo(min_frame / fps, max_frame / fps)\n",
    "    shots_to_info[shot_id].add_face_identity(fi)\n",
    "    video_id_to_shots_to_info[video_id] = shots_to_info"
   ]
  },
  {
   "cell_type": "code",
   "execution_count": null,
   "metadata": {
    "ExecuteTime": {
     "end_time": "2018-10-16T06:24:03.256224Z",
     "start_time": "2018-10-16T06:22:14.566140Z"
    }
   },
   "outputs": [],
   "source": [
    "output_video_id_to_shots = {}\n",
    "for video_id, s2i in video_id_to_shots_to_info.items():\n",
    "    shot_list = []\n",
    "    for shot_id, shot_info in s2i.items():\n",
    "        shot_list.append((shot_id, *shot_info.get()))\n",
    "    shot_list.sort(key=lambda x: x[1]) # sort by start time\n",
    "    output_video_id_to_shots[video_id] = shot_list"
   ]
  },
  {
   "cell_type": "code",
   "execution_count": null,
   "metadata": {
    "ExecuteTime": {
     "end_time": "2018-10-16T06:24:03.324227Z",
     "start_time": "2018-10-16T06:24:03.259435Z"
    }
   },
   "outputs": [],
   "source": [
    "output_video_id_to_shots[1]"
   ]
  },
  {
   "cell_type": "code",
   "execution_count": null,
   "metadata": {
    "ExecuteTime": {
     "end_time": "2018-10-16T06:26:21.112607Z",
     "start_time": "2018-10-16T06:25:32.258017Z"
    }
   },
   "outputs": [],
   "source": [
    "SHOW_TABLE_PATH = 'widget_data/show_table.pkl'\n",
    "if not OVERWRITE and os.path.exists(SHOW_TABLE_PATH):\n",
    "    raise Exception('File exists!')\n",
    "    \n",
    "with open(SHOW_TABLE_PATH, 'wb') as f:\n",
    "    pickle.dump(output_video_id_to_shots, f)"
   ]
  },
  {
   "cell_type": "code",
   "execution_count": null,
   "metadata": {
    "ExecuteTime": {
     "end_time": "2018-10-16T06:40:02.706518Z",
     "start_time": "2018-10-16T06:40:01.594660Z"
    }
   },
   "outputs": [],
   "source": [
    "def video_name(p):\n",
    "    return Path(p).name.split('.')[0]\n",
    "\n",
    "def format_date(d):\n",
    "    return d.strftime('%Y-%m-%d')\n",
    "\n",
    "video_id_to_info = {\n",
    "    v['id'] : (video_name(v['path']), format_date(v['time']), v['show__canonical_show__id']) \n",
    "    for v in Video.objects.filter(\n",
    "        threeyears_dataset=True\n",
    "    ).values('id', 'path', 'time', 'show__canonical_show__id')\n",
    "}\n",
    "                      \n",
    "VIDEO_TABLE_PATH = 'widget_data/video_table.pkl'\n",
    "if not OVERWRITE and os.path.exists(VIDEO_TABLE_PATH):\n",
    "    raise Exception('File exists!')\n",
    "    \n",
    "with open(VIDEO_TABLE_PATH, 'wb') as f:\n",
    "    pickle.dump(video_id_to_info, f)           "
   ]
  },
  {
   "cell_type": "code",
   "execution_count": null,
   "metadata": {
    "ExecuteTime": {
     "end_time": "2018-10-16T06:39:58.347652Z",
     "start_time": "2018-10-16T06:39:58.305938Z"
    }
   },
   "outputs": [],
   "source": [
    "identity_id_to_name = {i.id : i.name for i in Identity.objects.all()}\n",
    "\n",
    "IDENTITY_TABLE_PATH = 'widget_data/identity_table.pkl'\n",
    "if not OVERWRITE and os.path.exists(IDENTITY_TABLE_PATH):\n",
    "    raise Exception('File exists!')\n",
    "    \n",
    "with open(IDENTITY_TABLE_PATH, 'wb') as f:\n",
    "    pickle.dump(identity_id_to_name, f)       "
   ]
  },
  {
   "cell_type": "code",
   "execution_count": null,
   "metadata": {
    "ExecuteTime": {
     "end_time": "2018-10-16T06:48:17.163415Z",
     "start_time": "2018-10-16T06:48:15.009527Z"
    }
   },
   "outputs": [],
   "source": [
    "def get_canonical_show(c):\n",
    "    if c.name in MAJOR_CANONICAL_SHOWS:\n",
    "        return c.name\n",
    "    else:\n",
    "        return 'Other ({})'.format(Video.objects.filter(show__canonical_show=c)[0].channel)\n",
    "\n",
    "canonical_show_id_to_name = {\n",
    "    c.id : get_canonical_show(c) \n",
    "    for c in CanonicalShow.objects.all()\n",
    "}\n",
    "\n",
    "CANON_SHOW_TABLE_PATH = 'widget_data/canonical_show_table.pkl'\n",
    "if not OVERWRITE and os.path.exists(CANON_SHOW_TABLE_PATH):\n",
    "    raise Exception('File exists!')\n",
    "    \n",
    "with open(CANON_SHOW_TABLE_PATH, 'wb') as f:\n",
    "    pickle.dump(canonical_show_id_to_name, f)       "
   ]
  },
  {
   "cell_type": "code",
   "execution_count": null,
   "metadata": {},
   "outputs": [],
   "source": []
  }
 ],
 "metadata": {
  "kernelspec": {
   "display_name": "Django Shell-Plus",
   "language": "python",
   "name": "django_extensions"
  },
  "language_info": {
   "codemirror_mode": {
    "name": "ipython",
    "version": 3
   },
   "file_extension": ".py",
   "mimetype": "text/x-python",
   "name": "python",
   "nbconvert_exporter": "python",
   "pygments_lexer": "ipython3",
   "version": "3.5.2"
  },
  "toc": {
   "base_numbering": 1,
   "nav_menu": {},
   "number_sections": true,
   "sideBar": false,
   "skip_h1_title": false,
   "title_cell": "Table of Contents",
   "title_sidebar": "Contents",
   "toc_cell": true,
   "toc_position": {},
   "toc_section_display": "block",
   "toc_window_display": false
  }
 },
 "nbformat": 4,
 "nbformat_minor": 2
}
