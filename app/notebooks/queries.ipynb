{
 "cells": [
  {
   "cell_type": "markdown",
   "metadata": {},
   "source": [
    "# Internet Archive TV news analysis <a class=\"tocSkip\">\n",
    "This document contains the code and corresponding visualizations/statistics for answering various questions about the TV news dataset.\n",
    "\n",
    "Note that \"the dataset\" currently refers to 100 1-hour videos (50 from CNN and 50 from FOX) plus 120 10-minute videos (60 from CNN and 60 from FOX)."
   ]
  },
  {
   "cell_type": "code",
   "execution_count": 1,
   "metadata": {
    "hide_input": true
   },
   "outputs": [],
   "source": [
    "%matplotlib inline\n",
    "from query.datasets.prelude import *"
   ]
  },
  {
   "cell_type": "markdown",
   "metadata": {
    "toc": true
   },
   "source": [
    "<h1>Table of Contents<span class=\"tocSkip\"></span></h1>\n",
    "<div class=\"toc\" style=\"margin-top: 1em;\"><ul class=\"toc-item\"><li><span><a href=\"#Gender\" data-toc-modified-id=\"Gender-1\"><span class=\"toc-item-num\">1&nbsp;&nbsp;</span>Gender</a></span><ul class=\"toc-item\"><li><span><a href=\"#Detector-accuracy\" data-toc-modified-id=\"Detector-accuracy-1.1\"><span class=\"toc-item-num\">1.1&nbsp;&nbsp;</span>Detector accuracy</a></span></li><li><span><a href=\"#Male-vs.-female-face-instances\" data-toc-modified-id=\"Male-vs.-female-face-instances-1.2\"><span class=\"toc-item-num\">1.2&nbsp;&nbsp;</span>Male vs. female face instances</a></span></li><li><span><a href=\"#Male-vs.-female-face-instances-across-channels\" data-toc-modified-id=\"Male-vs.-female-face-instances-across-channels-1.3\"><span class=\"toc-item-num\">1.3&nbsp;&nbsp;</span>Male vs. female face instances across channels</a></span></li><li><span><a href=\"#Male-vs.-female-face-instances-across-shows\" data-toc-modified-id=\"Male-vs.-female-face-instances-across-shows-1.4\"><span class=\"toc-item-num\">1.4&nbsp;&nbsp;</span>Male vs. female face instances across shows</a></span></li><li><span><a href=\"#Male-vs.-female-face-instances-across-time-of-day\" data-toc-modified-id=\"Male-vs.-female-face-instances-across-time-of-day-1.5\"><span class=\"toc-item-num\">1.5&nbsp;&nbsp;</span>Male vs. female face instances across time of day</a></span></li></ul></li></ul></div>"
   ]
  },
  {
   "cell_type": "markdown",
   "metadata": {},
   "source": [
    "<hr />\n",
    "# Gender\n",
    "These queries analyze the distribution of men vs. women across a number of axes. We use faces detected by [MTCNN](https://github.com/kpzhang93/MTCNN_face_detection_alignment/) and gender detected by [rude-carnie](https://github.com/dpressel/rude-carnie). We only consider faces with a height > 20% of the frame to eliminate people in the background. Face detection was run at 2 frames per second on all videos. If a person's face is detected, we count that as 0.5 seconds of screen time. Total screen times reported double-count frames depending on the number of people in them, e.g. 2 women in one frame is 1 second of screen time."
   ]
  },
  {
   "cell_type": "code",
   "execution_count": 2,
   "metadata": {
    "hide_input": true
   },
   "outputs": [],
   "source": [
    "rudecarnie = Labeler.objects.get(name='rudecarnie')\n",
    "mtcnn = Labeler.objects.get(name='mtcnn')\n",
    "\n",
    "def format_time(seconds):\n",
    "    return '{}:{:02d}:{:02d}'.format(seconds/3600, seconds/60 % 60, seconds % 60)\n",
    "\n",
    "def filter_gender(face_filter, video_filter):\n",
    "    df = pd.DataFrame(list(Gender.objects \\\n",
    "        .annotate(count=Subquery(\n",
    "            face_filter(FaceGender.objects \\\n",
    "            .filter(gender=OuterRef('pk'), labeler=rudecarnie, face__labeler=mtcnn) \\\n",
    "            .annotate(height=F('face__bbox_y2') - F('face__bbox_y1')) \\\n",
    "            .filter(height__gte=0.2)) \\\n",
    "            .values('gender').annotate(count=Count('*')) \\\n",
    "            .values('count'), models.IntegerField())).values()))\n",
    "    row = {\n",
    "        'male': int(df.loc[df['name'] == 'male']['count'].values[0]),\n",
    "        'female': int(df.loc[df['name'] == 'female']['count'].values[0]),\n",
    "    }\n",
    "    total = float(row['male'] + row['female'])\n",
    "    row['male_percent'] = '{:.0f}%'.format(row['male'] / total * 100)\n",
    "    row['male_screentime'] = format_time(row['male'] / 2)\n",
    "    row['female_percent'] = '{:.0f}%'.format(row['female'] / total * 100)\n",
    "    row['female_screentime'] = format_time(row['female'] / 2)\n",
    "\n",
    "    total_length = int(sum([v['length'] for v in video_filter(Video.objects) \\\n",
    "        .annotate(length=Sum(Cast(F('num_frames'), models.FloatField()) / F('fps'))) \\\n",
    "        .values('length')]))\n",
    "    row['length'] = format_time(total_length)\n",
    "    \n",
    "    return row\n",
    "   \n",
    "\n",
    "ordering = ['length', 'male', 'male_percent', 'male_screentime', 'female', 'female_percent', 'female_screentime']"
   ]
  },
  {
   "cell_type": "markdown",
   "metadata": {},
   "source": [
    "## Detector accuracy\n",
    "Handlabels are just for the \"main person in the frame\" (instruction to labelers), so precision is expected to be low."
   ]
  },
  {
   "cell_type": "code",
   "execution_count": 3,
   "metadata": {},
   "outputs": [
    {
     "name": "stdout",
     "output_type": "stream",
     "text": [
      "Face precision: 0.51\n",
      "Face recall: 0.94\n",
      "Gender accuracy: 0.94\n"
     ]
    }
   ],
   "source": [
    "face_labeler = Labeler.objects.get(name='mtcnn')\n",
    "hand_labeler = Labeler.objects.get(name='handlabeled')\n",
    "gender_labeler = Labeler.objects.get(name='rudecarnie')\n",
    "\n",
    "face_tp = 0\n",
    "face_fp = 0\n",
    "face_fn = 0\n",
    "\n",
    "gender_t = 0\n",
    "gender_f = 0\n",
    "\n",
    "handlabeled = [t['person__frame__video__id'] for t in Face.objects \\\n",
    "    .filter(labeler=hand_labeler) \\\n",
    "    .values('person__frame__video__id') \\\n",
    "    .distinct('person__frame__video__id') \\\n",
    "    .values('person__frame__video__id')]\n",
    "\n",
    "for i, video in enumerate(Video.objects.filter(id__in=handlabeled)):\n",
    "    frames_with_faces = Frame.objects \\\n",
    "        .filter(video=video) \\\n",
    "        .annotate(c=Subquery(\n",
    "            Face.objects.filter(person__frame=OuterRef('pk')) \\\n",
    "            .values('person__frame') \\\n",
    "            .annotate(c=Count('*')).values('c'))) \\\n",
    "        .filter(c__gt=0)\n",
    "    #print(i, video.path)\n",
    "    for frame in frames_with_faces:\n",
    "        handlabeled_faces = list(Face.objects.filter(person__frame=frame, labeler=hand_labeler))\n",
    "        autolabeled_faces = list(Face.objects.filter(person__frame=frame, labeler=face_labeler))\n",
    "        \n",
    "        for autoface in autolabeled_faces:\n",
    "            good = np.where(np.array([bbox_iou(autoface, handface) > 0.5 for handface in handlabeled_faces]))\n",
    "            index = good[0][0] if len(good[0]) > 0 else None\n",
    "            if index is not None:\n",
    "                face_tp += 1\n",
    "                auto_gender = FaceGender.objects.get(face=autoface)\n",
    "                hand_gender = FaceGender.objects.get(face=handlabeled_faces[index])\n",
    "                if auto_gender.gender == hand_gender.gender:\n",
    "                    gender_t += 1\n",
    "                else:\n",
    "                    gender_f += 1\n",
    "            else:\n",
    "                face_fp += 1\n",
    "            \n",
    "        for handface in handlabeled_faces:\n",
    "            good = any([bbox_iou(autoface, handface) > 0.5 for autoface in autolabeled_faces])\n",
    "            if not good:\n",
    "                face_fn += 1\n",
    "    \n",
    "print('Face precision: {:.2f}'.format(face_tp / float(face_tp + face_fp)))\n",
    "print('Face recall: {:.2f}'.format(face_tp / float(face_tp + face_fn)))\n",
    "print('Gender accuracy: {:.2f}'.format(gender_t / float(gender_t + gender_f)))"
   ]
  },
  {
   "cell_type": "markdown",
   "metadata": {},
   "source": [
    "<hr />\n",
    "## Male vs. female face instances\n",
    "Count the total number of face instances for each gender (male or female) across the whole dataset."
   ]
  },
  {
   "cell_type": "code",
   "execution_count": 4,
   "metadata": {
    "scrolled": true
   },
   "outputs": [
    {
     "data": {
      "application/vnd.jupyter.widget-view+json": {
       "model_id": "9e440f92dcb34d81a4f1b3a6263269d7",
       "version_major": 2,
       "version_minor": 0
      },
      "text/html": [
       "<p>Failed to display Jupyter Widget of type <code>QgridWidget</code>.</p>\n",
       "<p>\n",
       "  If you're reading this message in Jupyter Notebook or JupyterLab, it may mean\n",
       "  that the widgets JavaScript is still loading. If this message persists, it\n",
       "  likely means that the widgets JavaScript library is either not installed or\n",
       "  not enabled. See the <a href=\"https://ipywidgets.readthedocs.io/en/stable/user_install.html\">Jupyter\n",
       "  Widgets Documentation</a> for setup instructions.\n",
       "</p>\n",
       "<p>\n",
       "  If you're reading this message in another notebook frontend (for example, a static\n",
       "  rendering on GitHub or <a href=\"https://nbviewer.jupyter.org/\">NBViewer</a>),\n",
       "  it may mean that your frontend doesn't currently support widgets.\n",
       "</p>\n"
      ],
      "text/plain": [
       "QgridWidget(grid_options={'enableTextSelectionOnCells': True, 'editable': True, 'explicitInitialization': True, 'minVisibleRows': 1, 'enableColumnReorder': False, 'defaultColumnWidth': 150, 'maxVisibleRows': 15, 'fullWidthRows': True, 'rowHeight': 28, 'autoEdit': False, 'syncColumnCellResize': True, 'forceFitColumns': True}, precision=5)"
      ]
     },
     "metadata": {},
     "output_type": "display_data"
    }
   ],
   "source": [
    "pd.DataFrame([filter_gender(lambda qs: qs, lambda qs: qs)])[ordering]"
   ]
  },
  {
   "cell_type": "markdown",
   "metadata": {},
   "source": [
    "<hr />\n",
    "## Male vs. female face instances across channels"
   ]
  },
  {
   "cell_type": "code",
   "execution_count": 5,
   "metadata": {
    "scrolled": true
   },
   "outputs": [
    {
     "data": {
      "application/vnd.jupyter.widget-view+json": {
       "model_id": "d434557dfe954da7a8a436e04264f212",
       "version_major": 2,
       "version_minor": 0
      },
      "text/html": [
       "<p>Failed to display Jupyter Widget of type <code>QgridWidget</code>.</p>\n",
       "<p>\n",
       "  If you're reading this message in Jupyter Notebook or JupyterLab, it may mean\n",
       "  that the widgets JavaScript is still loading. If this message persists, it\n",
       "  likely means that the widgets JavaScript library is either not installed or\n",
       "  not enabled. See the <a href=\"https://ipywidgets.readthedocs.io/en/stable/user_install.html\">Jupyter\n",
       "  Widgets Documentation</a> for setup instructions.\n",
       "</p>\n",
       "<p>\n",
       "  If you're reading this message in another notebook frontend (for example, a static\n",
       "  rendering on GitHub or <a href=\"https://nbviewer.jupyter.org/\">NBViewer</a>),\n",
       "  it may mean that your frontend doesn't currently support widgets.\n",
       "</p>\n"
      ],
      "text/plain": [
       "QgridWidget(grid_options={'enableTextSelectionOnCells': True, 'editable': True, 'explicitInitialization': True, 'minVisibleRows': 1, 'enableColumnReorder': False, 'defaultColumnWidth': 150, 'maxVisibleRows': 15, 'fullWidthRows': True, 'rowHeight': 28, 'autoEdit': False, 'syncColumnCellResize': True, 'forceFitColumns': True}, precision=5)"
      ]
     },
     "metadata": {},
     "output_type": "display_data"
    }
   ],
   "source": [
    "counts = []\n",
    "for channel in Channel.objects.all():\n",
    "    c = filter_gender(\n",
    "        lambda qs: qs.filter(face__person__frame__video__channel=channel), \n",
    "        lambda qs: qs.filter(channel=channel))\n",
    "    c['channel'] = channel.name\n",
    "    counts.append(c)\n",
    "    \n",
    "pd.DataFrame(counts)[['channel'] + ordering]"
   ]
  },
  {
   "cell_type": "markdown",
   "metadata": {},
   "source": [
    "<hr />\n",
    "## Male vs. female face instances across shows"
   ]
  },
  {
   "cell_type": "code",
   "execution_count": 6,
   "metadata": {
    "scrolled": false
   },
   "outputs": [
    {
     "data": {
      "application/vnd.jupyter.widget-view+json": {
       "model_id": "7ec1e14b7a5348088c75459da96f07d9",
       "version_major": 2,
       "version_minor": 0
      },
      "text/html": [
       "<p>Failed to display Jupyter Widget of type <code>QgridWidget</code>.</p>\n",
       "<p>\n",
       "  If you're reading this message in Jupyter Notebook or JupyterLab, it may mean\n",
       "  that the widgets JavaScript is still loading. If this message persists, it\n",
       "  likely means that the widgets JavaScript library is either not installed or\n",
       "  not enabled. See the <a href=\"https://ipywidgets.readthedocs.io/en/stable/user_install.html\">Jupyter\n",
       "  Widgets Documentation</a> for setup instructions.\n",
       "</p>\n",
       "<p>\n",
       "  If you're reading this message in another notebook frontend (for example, a static\n",
       "  rendering on GitHub or <a href=\"https://nbviewer.jupyter.org/\">NBViewer</a>),\n",
       "  it may mean that your frontend doesn't currently support widgets.\n",
       "</p>\n"
      ],
      "text/plain": [
       "QgridWidget(grid_options={'enableTextSelectionOnCells': True, 'editable': True, 'explicitInitialization': True, 'minVisibleRows': 1, 'enableColumnReorder': False, 'defaultColumnWidth': 150, 'maxVisibleRows': 15, 'fullWidthRows': True, 'rowHeight': 28, 'autoEdit': False, 'syncColumnCellResize': True, 'forceFitColumns': True}, precision=5)"
      ]
     },
     "metadata": {},
     "output_type": "display_data"
    }
   ],
   "source": [
    "counts = []\n",
    "for show in Show.objects.all():\n",
    "    c = filter_gender(\n",
    "        lambda qs: qs.filter(face__person__frame__video__show=show),\n",
    "        lambda qs: qs.filter(show=show))\n",
    "    c['show'] = show.name\n",
    "    counts.append(c)\n",
    "    \n",
    "pd.DataFrame(counts)[['show'] + ordering]"
   ]
  },
  {
   "cell_type": "markdown",
   "metadata": {},
   "source": [
    "<hr />\n",
    "## Male vs. female face instances across time of day"
   ]
  },
  {
   "cell_type": "code",
   "execution_count": 7,
   "metadata": {
    "scrolled": true
   },
   "outputs": [
    {
     "data": {
      "application/vnd.jupyter.widget-view+json": {
       "model_id": "04a527e9f006484f837f4a6c85aded09",
       "version_major": 2,
       "version_minor": 0
      },
      "text/html": [
       "<p>Failed to display Jupyter Widget of type <code>QgridWidget</code>.</p>\n",
       "<p>\n",
       "  If you're reading this message in Jupyter Notebook or JupyterLab, it may mean\n",
       "  that the widgets JavaScript is still loading. If this message persists, it\n",
       "  likely means that the widgets JavaScript library is either not installed or\n",
       "  not enabled. See the <a href=\"https://ipywidgets.readthedocs.io/en/stable/user_install.html\">Jupyter\n",
       "  Widgets Documentation</a> for setup instructions.\n",
       "</p>\n",
       "<p>\n",
       "  If you're reading this message in another notebook frontend (for example, a static\n",
       "  rendering on GitHub or <a href=\"https://nbviewer.jupyter.org/\">NBViewer</a>),\n",
       "  it may mean that your frontend doesn't currently support widgets.\n",
       "</p>\n"
      ],
      "text/plain": [
       "QgridWidget(grid_options={'enableTextSelectionOnCells': True, 'editable': True, 'explicitInitialization': True, 'minVisibleRows': 1, 'enableColumnReorder': False, 'defaultColumnWidth': 150, 'maxVisibleRows': 15, 'fullWidthRows': True, 'rowHeight': 28, 'autoEdit': False, 'syncColumnCellResize': True, 'forceFitColumns': True}, precision=5)"
      ]
     },
     "metadata": {},
     "output_type": "display_data"
    }
   ],
   "source": [
    "hours = Video.objects.annotate(hour=Extract('time', 'hour')).distinct('hour').order_by('hour').values('hour')\n",
    "\n",
    "counts = []\n",
    "for hour in hours:\n",
    "    hour = hour['hour']\n",
    "    c = filter_gender(\n",
    "        lambda qs: qs.filter(face__person__frame__video__time__hour=hour),\n",
    "        lambda qs: qs.filter(time__hour=hour))\n",
    "    c['hour'] = datetime.time(hour, 0).strftime('%I %p')\n",
    "    counts.append(c)\n",
    "\n",
    "pd.DataFrame(counts)[['hour'] + ordering]    "
   ]
  }
 ],
 "metadata": {
  "kernelspec": {
   "display_name": "Django Shell-Plus",
   "language": "python",
   "name": "django_extensions"
  },
  "language_info": {
   "codemirror_mode": {
    "name": "ipython",
    "version": 2
   },
   "file_extension": ".py",
   "mimetype": "text/x-python",
   "name": "python",
   "nbconvert_exporter": "python",
   "pygments_lexer": "ipython2",
   "version": "2.7.14"
  },
  "toc": {
   "nav_menu": {},
   "number_sections": true,
   "sideBar": true,
   "skip_h1_title": false,
   "toc_cell": true,
   "toc_position": {},
   "toc_section_display": "block",
   "toc_window_display": false
  }
 },
 "nbformat": 4,
 "nbformat_minor": 2
}
