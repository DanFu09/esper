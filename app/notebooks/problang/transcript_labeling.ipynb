{
 "cells": [
  {
   "cell_type": "markdown",
   "metadata": {
    "toc": true
   },
   "source": [
    "<h1>Table of Contents<span class=\"tocSkip\"></span></h1>\n",
    "<div class=\"toc\" style=\"margin-top: 1em;\"><ul class=\"toc-item\"></ul></div>"
   ]
  },
  {
   "cell_type": "code",
   "execution_count": null,
   "metadata": {
    "ExecuteTime": {
     "end_time": "2018-12-02T21:14:02.584545Z",
     "start_time": "2018-12-02T21:14:01.655944Z"
    }
   },
   "outputs": [],
   "source": [
    "from esper.prelude import *\n",
    "from transcript_utils import *\n",
    "import random"
   ]
  },
  {
   "cell_type": "code",
   "execution_count": null,
   "metadata": {
    "ExecuteTime": {
     "end_time": "2018-12-02T21:14:02.815604Z",
     "start_time": "2018-12-02T21:14:02.587633Z"
    }
   },
   "outputs": [],
   "source": [
    "dataset = SegmentTextDataset(video_list())"
   ]
  },
  {
   "cell_type": "code",
   "execution_count": null,
   "metadata": {
    "ExecuteTime": {
     "end_time": "2018-12-02T21:14:02.872724Z",
     "start_time": "2018-12-02T21:14:02.817910Z"
    }
   },
   "outputs": [],
   "source": [
    "initial_segments = pcache.get('initial_segments')"
   ]
  },
  {
   "cell_type": "code",
   "execution_count": null,
   "metadata": {
    "ExecuteTime": {
     "end_time": "2018-12-02T21:14:02.919934Z",
     "start_time": "2018-12-02T21:14:02.875433Z"
    }
   },
   "outputs": [],
   "source": [
    "all_segments = set(range(len(dataset)))"
   ]
  },
  {
   "cell_type": "code",
   "execution_count": null,
   "metadata": {
    "ExecuteTime": {
     "end_time": "2018-12-02T21:14:02.962559Z",
     "start_time": "2018-12-02T21:14:02.922044Z"
    }
   },
   "outputs": [],
   "source": [
    "likely_positive = set([dataset.segment_index(s['item_name'], s['segment']) for s in initial_segments])\n",
    "likely_negative = all_segments - likely_positive"
   ]
  },
  {
   "cell_type": "code",
   "execution_count": null,
   "metadata": {
    "ExecuteTime": {
     "end_time": "2018-12-04T03:47:53.403799Z",
     "start_time": "2018-12-04T03:47:53.300889Z"
    }
   },
   "outputs": [],
   "source": [
    "pos_idx = list(likely_positive)\n",
    "neg_idx = list(likely_negative)\n",
    "random.shuffle(pos_idx)\n",
    "random.shuffle(neg_idx)"
   ]
  },
  {
   "cell_type": "code",
   "execution_count": null,
   "metadata": {
    "ExecuteTime": {
     "end_time": "2018-12-02T21:14:03.005359Z",
     "start_time": "2018-12-02T21:14:02.964249Z"
    }
   },
   "outputs": [],
   "source": [
    "N = 3\n",
    "\n",
    "def ngrams(segment, n):\n",
    "    return [' '.join(segment[i:i+n]) for i in range(0, len(segment)+1-n)]\n",
    "\n",
    "def label_widget(likely_positive, likely_negative, lexicon=[]):\n",
    "    lex_set = set([ngram for [ngram, _] in lexicon])\n",
    "\n",
    "    labels = []\n",
    "    i = 0\n",
    "    \n",
    "    pos_idx = list(likely_positive)\n",
    "    neg_idx = list(likely_negative)\n",
    "    random.shuffle(pos_idx)\n",
    "    random.shuffle(neg_idx)\n",
    "\n",
    "    transcript = HTML(dataset[pos_idx[0]]['segment'])\n",
    "    box = Text(placeholder='y/n')\n",
    "    def on_submit(text):\n",
    "        nonlocal i\n",
    "        label = 1 if text.value == 'y' else 0\n",
    "        (cur_source, next_source) = (pos_idx, neg_idx) if i % 2 == 0 else (neg_idx, pos_idx)        \n",
    "        labels.append((cur_source[i//2], label))\n",
    "        i += 1\n",
    "        transcript.value = dataset[next_source[i//2]]['segment']\n",
    "        box.value = ''\n",
    "    box.on_submit(on_submit)  \n",
    "\n",
    "    display(transcript)\n",
    "    display(box)\n",
    "    \n",
    "    return labels"
   ]
  },
  {
   "cell_type": "code",
   "execution_count": null,
   "metadata": {
    "ExecuteTime": {
     "end_time": "2018-12-02T21:14:03.257010Z",
     "start_time": "2018-12-02T21:14:03.007128Z"
    }
   },
   "outputs": [],
   "source": [
    "labels = label_widget(likely_positive, likely_negative)"
   ]
  },
  {
   "cell_type": "code",
   "execution_count": null,
   "metadata": {
    "ExecuteTime": {
     "end_time": "2018-12-02T21:21:27.078473Z",
     "start_time": "2018-12-02T21:21:27.046805Z"
    }
   },
   "outputs": [],
   "source": [
    "print('Labels: {}'.format(len(labels)))\n",
    "pcache.set('labeled_segments', labels)"
   ]
  },
  {
   "cell_type": "code",
   "execution_count": null,
   "metadata": {
    "ExecuteTime": {
     "end_time": "2018-12-02T21:14:03.315662Z",
     "start_time": "2018-12-02T21:14:03.289211Z"
    }
   },
   "outputs": [],
   "source": [
    "labels"
   ]
  }
 ],
 "metadata": {
  "kernelspec": {
   "display_name": "Django Shell-Plus",
   "language": "python",
   "name": "django_extensions"
  },
  "language_info": {
   "codemirror_mode": {
    "name": "ipython",
    "version": 3
   },
   "file_extension": ".py",
   "mimetype": "text/x-python",
   "name": "python",
   "nbconvert_exporter": "python",
   "pygments_lexer": "ipython3",
   "version": "3.5.2"
  },
  "toc": {
   "base_numbering": 1,
   "nav_menu": {},
   "number_sections": false,
   "sideBar": false,
   "skip_h1_title": false,
   "title_cell": "Table of Contents",
   "title_sidebar": "Contents",
   "toc_cell": true,
   "toc_position": {},
   "toc_section_display": false,
   "toc_window_display": false
  }
 },
 "nbformat": 4,
 "nbformat_minor": 2
}
