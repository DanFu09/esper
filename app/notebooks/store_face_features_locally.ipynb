{
 "cells": [
  {
   "cell_type": "markdown",
   "metadata": {
    "toc": true
   },
   "source": [
    "<h1>Table of Contents<span class=\"tocSkip\"></span></h1>\n",
    "<div class=\"toc\" style=\"margin-top: 1em;\"><ul class=\"toc-item\"><li><span><a href=\"#Download-embeddings-from-PostgresSQL\" data-toc-modified-id=\"Download-embeddings-from-PostgresSQL-1\"><span class=\"toc-item-num\">1&nbsp;&nbsp;</span>Download embeddings from PostgresSQL</a></span></li><li><span><a href=\"#Try-to-load-embeddings\" data-toc-modified-id=\"Try-to-load-embeddings-2\"><span class=\"toc-item-num\">2&nbsp;&nbsp;</span>Try to load embeddings</a></span></li></ul></div>"
   ]
  },
  {
   "cell_type": "code",
   "execution_count": null,
   "metadata": {
    "ExecuteTime": {
     "end_time": "2018-12-11T00:31:18.628070Z",
     "start_time": "2018-12-11T00:31:17.681210Z"
    }
   },
   "outputs": [],
   "source": [
    "from esper.stdlib import *\n",
    "from esper.prelude import *\n",
    "import os\n",
    "import struct\n",
    "import json\n",
    "\n",
    "def decode(features):\n",
    "    return json.loads(features.tobytes().decode())"
   ]
  },
  {
   "cell_type": "markdown",
   "metadata": {},
   "source": [
    "# Download embeddings from PostgresSQL"
   ]
  },
  {
   "cell_type": "code",
   "execution_count": null,
   "metadata": {
    "ExecuteTime": {
     "end_time": "2018-12-11T00:33:37.293040Z",
     "start_time": "2018-12-11T00:32:44.819936Z"
    }
   },
   "outputs": [],
   "source": [
    "EMBS_DIR = '/app/data/embs/'\n",
    "IDS_FILE = os.path.join(EMBS_DIR, 'face_ids.bin')\n",
    "EMBS_FILE = os.path.join(EMBS_DIR, 'face_embs.bin')\n",
    "ENDIAN = 'little'\n",
    "DIMENSIONS = 128\n",
    "\n",
    "if not os.path.exists(EMBS_DIR):\n",
    "    os.makedirs(EMBS_DIR)\n",
    "\n",
    "with open(IDS_FILE, 'wb') as f_ids, open(EMBS_FILE, 'wb') as f_embs:\n",
    "    for i, x in enumerate(FaceFeatures.objects.all().values(\n",
    "                'face__id', 'features'\n",
    "             ).order_by('face__id')):\n",
    "        if i % 10000 == 0:\n",
    "            print('Wrote {} embeddings'.format(i))\n",
    "        fid = x['face__id']\n",
    "        emb = decode(x['features'])\n",
    "        assert len(emb) == DIMENSIONS, 'Incorrect dimensions: {} != {}'.format(\n",
    "            len(emb), DIMENSIONS)\n",
    "        f_ids.write(fid.to_bytes(8, byteorder=ENDIAN))\n",
    "        for v in emb:\n",
    "            f_embs.write(struct.pack('f', v))\n",
    "    print('Done! ({} embeddings written)'.format(i + 1))"
   ]
  },
  {
   "cell_type": "markdown",
   "metadata": {},
   "source": [
    "# Try to load embeddings"
   ]
  },
  {
   "cell_type": "code",
   "execution_count": null,
   "metadata": {
    "ExecuteTime": {
     "end_time": "2018-12-11T00:33:37.329468Z",
     "start_time": "2018-12-11T00:33:37.296700Z"
    }
   },
   "outputs": [],
   "source": [
    "import esper.face_embeddings as face_embed"
   ]
  },
  {
   "cell_type": "code",
   "execution_count": null,
   "metadata": {},
   "outputs": [],
   "source": []
  }
 ],
 "metadata": {
  "kernelspec": {
   "display_name": "Django Shell-Plus",
   "language": "python",
   "name": "django_extensions"
  },
  "language_info": {
   "codemirror_mode": {
    "name": "ipython",
    "version": 3
   },
   "file_extension": ".py",
   "mimetype": "text/x-python",
   "name": "python",
   "nbconvert_exporter": "python",
   "pygments_lexer": "ipython3",
   "version": "3.5.2"
  },
  "toc": {
   "base_numbering": 1,
   "nav_menu": {},
   "number_sections": true,
   "sideBar": false,
   "skip_h1_title": false,
   "title_cell": "Table of Contents",
   "title_sidebar": "Contents",
   "toc_cell": true,
   "toc_position": {},
   "toc_section_display": "block",
   "toc_window_display": false
  }
 },
 "nbformat": 4,
 "nbformat_minor": 2
}
