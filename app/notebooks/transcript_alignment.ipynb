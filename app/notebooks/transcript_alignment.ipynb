{
 "cells": [
  {
   "cell_type": "markdown",
   "metadata": {
    "toc": true
   },
   "source": [
    "<h1>Table of Contents<span class=\"tocSkip\"></span></h1>\n",
    "<div class=\"toc\" style=\"margin-top: 1em;\"><ul class=\"toc-item\"><li><span><a href=\"#Install-gentle\" data-toc-modified-id=\"Install-gentle-1\"><span class=\"toc-item-num\">1&nbsp;&nbsp;</span>Install gentle</a></span></li><li><span><a href=\"#Test-align_transcript\" data-toc-modified-id=\"Test-align_transcript-2\"><span class=\"toc-item-num\">2&nbsp;&nbsp;</span>Test align_transcript</a></span></li></ul></div>"
   ]
  },
  {
   "cell_type": "markdown",
   "metadata": {},
   "source": [
    "# Install gentle "
   ]
  },
  {
   "cell_type": "markdown",
   "metadata": {},
   "source": [
    "1.\n",
    "git clone https://github.com/lowerquality/gentle.git\n",
    "\n",
    "2.\n",
    "in /gentle/install_models.sh:10\n",
    "change 'https' to 'http'\n",
    "\n",
    "3.\n",
    "bash ./install.sh (takes ~30min)   "
   ]
  },
  {
   "cell_type": "markdown",
   "metadata": {},
   "source": [
    "# Test align_transcript"
   ]
  },
  {
   "cell_type": "code",
   "execution_count": null,
   "metadata": {
    "ExecuteTime": {
     "end_time": "2018-12-01T00:36:35.718696Z",
     "start_time": "2018-12-01T00:36:35.362699Z"
    }
   },
   "outputs": [],
   "source": [
    "from scannertools import audio, transcript_alignment\n",
    "import scannerpy\n",
    "import os\n",
    "from query.models import Video"
   ]
  },
  {
   "cell_type": "code",
   "execution_count": null,
   "metadata": {
    "ExecuteTime": {
     "end_time": "2018-12-01T00:36:35.743140Z",
     "start_time": "2018-12-01T00:36:35.721578Z"
    }
   },
   "outputs": [],
   "source": [
    "# set test video list\n",
    "video_list = ['CNNW_20170907_040000_Anderson_Cooper_360']\n",
    "# import pickle\n",
    "# video_list = pickle.load(open('../app/data/tvnews_std_sample.pkl', 'rb'))['sample_100']"
   ]
  },
  {
   "cell_type": "code",
   "execution_count": null,
   "metadata": {
    "ExecuteTime": {
     "end_time": "2018-12-01T00:36:36.201321Z",
     "start_time": "2018-12-01T00:36:35.745911Z"
    }
   },
   "outputs": [],
   "source": [
    "# load videos from database\n",
    "videos = [Video.objects.filter(path__contains=video_name)[0] for video_name in video_list]"
   ]
  },
  {
   "cell_type": "code",
   "execution_count": null,
   "metadata": {
    "ExecuteTime": {
     "end_time": "2018-12-01T00:36:36.221158Z",
     "start_time": "2018-12-01T00:36:36.203830Z"
    }
   },
   "outputs": [],
   "source": [
    "# load audios from videos\n",
    "audios = [audio.AudioSource(video.for_scannertools(), frame_size=60.0) for video in videos]"
   ]
  },
  {
   "cell_type": "code",
   "execution_count": null,
   "metadata": {
    "ExecuteTime": {
     "end_time": "2018-12-01T00:36:36.240667Z",
     "start_time": "2018-12-01T00:36:36.223369Z"
    }
   },
   "outputs": [],
   "source": [
    "# set up transcripts \n",
    "transcripts = [ '../app/data/subs10/'+video_name for video_name in video_list ]"
   ]
  },
  {
   "cell_type": "code",
   "execution_count": null,
   "metadata": {
    "ExecuteTime": {
     "end_time": "2018-12-01T00:36:37.491406Z",
     "start_time": "2018-12-01T00:36:36.243213Z"
    }
   },
   "outputs": [],
   "source": [
    "db = scannerpy.Database()"
   ]
  },
  {
   "cell_type": "code",
   "execution_count": null,
   "metadata": {
    "ExecuteTime": {
     "end_time": "2018-12-01T01:02:52.092995Z",
     "start_time": "2018-12-01T00:45:17.669550Z"
    },
    "scrolled": true
   },
   "outputs": [],
   "source": [
    "result = transcript_alignment.align_transcript(db, audio=audios, transcript=transcripts, cache=False, align_dir='../app/data/aligned_transcript')"
   ]
  },
  {
   "cell_type": "code",
   "execution_count": null,
   "metadata": {
    "ExecuteTime": {
     "end_time": "2018-12-01T00:36:39.587786Z",
     "start_time": "2018-12-01T00:36:38.321177Z"
    }
   },
   "outputs": [],
   "source": [
    "result[0]._column._table.profiler().write_trace('../app/data/output.trace')"
   ]
  }
 ],
 "metadata": {
  "kernelspec": {
   "display_name": "Django Shell-Plus",
   "language": "python",
   "name": "django_extensions"
  },
  "language_info": {
   "codemirror_mode": {
    "name": "ipython",
    "version": 3
   },
   "file_extension": ".py",
   "mimetype": "text/x-python",
   "name": "python",
   "nbconvert_exporter": "python",
   "pygments_lexer": "ipython3",
   "version": "3.5.2"
  },
  "toc": {
   "base_numbering": 1,
   "nav_menu": {},
   "number_sections": true,
   "sideBar": false,
   "skip_h1_title": false,
   "title_cell": "Table of Contents",
   "title_sidebar": "Contents",
   "toc_cell": true,
   "toc_position": {},
   "toc_section_display": "block",
   "toc_window_display": false
  }
 },
 "nbformat": 4,
 "nbformat_minor": 2
}
