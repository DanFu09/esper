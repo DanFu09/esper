{
 "cells": [
  {
   "cell_type": "markdown",
   "metadata": {
    "toc": true
   },
   "source": [
    "<h1>Table of Contents<span class=\"tocSkip\"></span></h1>\n",
    "<div class=\"toc\" style=\"margin-top: 1em;\"><ul class=\"toc-item\"></ul></div>"
   ]
  },
  {
   "cell_type": "code",
   "execution_count": null,
   "metadata": {
    "ExecuteTime": {
     "end_time": "2018-08-26T06:08:16.386443Z",
     "start_time": "2018-08-26T06:08:16.356339Z"
    }
   },
   "outputs": [],
   "source": [
    "from esper.prelude import *\n",
    "from datetime import datetime\n",
    "import scannertools as st\n",
    "import traceback"
   ]
  },
  {
   "cell_type": "code",
   "execution_count": null,
   "metadata": {
    "ExecuteTime": {
     "end_time": "2018-08-26T06:00:50.952109Z",
     "start_time": "2018-08-26T06:00:50.923329Z"
    }
   },
   "outputs": [],
   "source": [
    "st.init_storage(bucket=os.environ['BUCKET'])"
   ]
  },
  {
   "cell_type": "code",
   "execution_count": null,
   "metadata": {
    "ExecuteTime": {
     "end_time": "2018-08-26T05:51:12.219324Z",
     "start_time": "2018-08-26T05:49:59.806761Z"
    }
   },
   "outputs": [],
   "source": [
    "files = sp.check_output('gsutil ls gs://{}/tvnews/videos/*.mp4'.format(os.environ['BUCKET']), shell=True).decode('utf-8')"
   ]
  },
  {
   "cell_type": "code",
   "execution_count": null,
   "metadata": {
    "ExecuteTime": {
     "end_time": "2018-08-26T05:55:22.019779Z",
     "start_time": "2018-08-26T05:55:21.943549Z"
    }
   },
   "outputs": [],
   "source": [
    "files.split('\\n')[4]"
   ]
  },
  {
   "cell_type": "code",
   "execution_count": null,
   "metadata": {
    "ExecuteTime": {
     "end_time": "2018-08-26T06:09:19.926150Z",
     "start_time": "2018-08-26T06:09:19.854392Z"
    }
   },
   "outputs": [],
   "source": [
    "channels = {c.name: c for c in Channel.objects.all()}\n",
    "shows = {c.name: c for c in Show.objects.all()}"
   ]
  },
  {
   "cell_type": "code",
   "execution_count": null,
   "metadata": {
    "ExecuteTime": {
     "end_time": "2018-08-26T18:15:22.759945Z",
     "start_time": "2018-08-26T15:10:45.122131Z"
    }
   },
   "outputs": [],
   "source": [
    "def gen_video(path):\n",
    "    try:\n",
    "        path = path.replace('gs://{}/'.format(os.environ['BUCKET']), '')\n",
    "        item_name = os.path.splitext(path.split('/')[-1])[0]\n",
    "        parts = item_name.split('_')\n",
    "        [channel, date_str, time_str] = parts[:3]\n",
    "\n",
    "        # Remove trailing W from channel, e.g. CNNW -> CNN\n",
    "        if channel[-1] == 'W':\n",
    "            channel = channel[:-1]\n",
    "\n",
    "        show = ' '.join(parts[3:])\n",
    "        \n",
    "        date = datetime.strptime('{} {} UTC'.format(date_str, time_str), '%Y%m%d %H%M%S %Z')\n",
    "        stv = st.Video(path)\n",
    "        return Video(\n",
    "            path=path,        \n",
    "            num_frames=stv.num_frames(),\n",
    "            fps=stv.fps(),\n",
    "            width=stv.width(),\n",
    "            height=stv.height(),\n",
    "            channel=channels[channel],\n",
    "            show=shows[show],\n",
    "            time=date        \n",
    "        )\n",
    "    except:\n",
    "        print(path)\n",
    "        traceback.print_exc()\n",
    "\n",
    "\n",
    "videos = par_for(gen_video, files.strip().split('\\n'), workers=24)"
   ]
  },
  {
   "cell_type": "code",
   "execution_count": null,
   "metadata": {
    "ExecuteTime": {
     "end_time": "2018-08-27T17:09:49.948165Z",
     "start_time": "2018-08-27T17:09:49.910628Z"
    }
   },
   "outputs": [],
   "source": [
    "import django.utils.timezone as tz\n",
    "def p(v):\n",
    "    print('{}: {}'.format(v.path, v.time))\n",
    "with tz.override('UTC'):\n",
    "    p(Video.objects.all()[0])    \n",
    "    p(Video.objects.all()[1])"
   ]
  },
  {
   "cell_type": "code",
   "execution_count": null,
   "metadata": {
    "ExecuteTime": {
     "end_time": "2018-08-27T16:48:35.959628Z",
     "start_time": "2018-08-27T16:48:35.924644Z"
    }
   },
   "outputs": [],
   "source": [
    "videos[0]"
   ]
  },
  {
   "cell_type": "code",
   "execution_count": null,
   "metadata": {
    "ExecuteTime": {
     "end_time": "2018-08-27T16:49:13.025254Z",
     "start_time": "2018-08-27T16:49:12.987238Z"
    }
   },
   "outputs": [],
   "source": [
    "Video.objects.filter(id=62047)"
   ]
  },
  {
   "cell_type": "code",
   "execution_count": null,
   "metadata": {
    "ExecuteTime": {
     "end_time": "2018-08-27T17:11:43.967308Z",
     "start_time": "2018-08-27T17:11:41.767892Z"
    }
   },
   "outputs": [],
   "source": [
    "current_paths = set([v['path'] for v in Video.objects.all().values('path')])"
   ]
  },
  {
   "cell_type": "code",
   "execution_count": null,
   "metadata": {
    "ExecuteTime": {
     "end_time": "2018-08-27T17:12:48.689872Z",
     "start_time": "2018-08-27T17:12:48.408784Z"
    }
   },
   "outputs": [],
   "source": [
    "new_videos = [v for v in videos[1:] if v.path not in current_paths]"
   ]
  },
  {
   "cell_type": "code",
   "execution_count": null,
   "metadata": {
    "ExecuteTime": {
     "end_time": "2018-08-27T17:13:47.880177Z",
     "start_time": "2018-08-27T17:12:59.519319Z"
    }
   },
   "outputs": [],
   "source": [
    "Video.objects.bulk_create(new_videos)"
   ]
  },
  {
   "cell_type": "code",
   "execution_count": null,
   "metadata": {
    "ExecuteTime": {
     "end_time": "2018-08-27T17:15:36.203381Z",
     "start_time": "2018-08-27T17:15:36.138126Z"
    }
   },
   "outputs": [],
   "source": [
    "Video.objects.all().count()"
   ]
  },
  {
   "cell_type": "code",
   "execution_count": null,
   "metadata": {
    "ExecuteTime": {
     "end_time": "2018-08-26T06:10:32.262241Z",
     "start_time": "2018-08-26T06:10:30.128293Z"
    }
   },
   "outputs": [],
   "source": [
    "# for s in tqdm(new_shows):\n",
    "#     if s not in shows:\n",
    "#         cs = CanonicalShow(name=s)\n",
    "#         cs.save()\n",
    "#         shows[s] = Show(name=s, canonical_show=cs)\n",
    "#         shows[s].save()"
   ]
  }
 ],
 "metadata": {
  "kernelspec": {
   "display_name": "Django Shell-Plus",
   "language": "python",
   "name": "django_extensions"
  },
  "language_info": {
   "codemirror_mode": {
    "name": "ipython",
    "version": 3
   },
   "file_extension": ".py",
   "mimetype": "text/x-python",
   "name": "python",
   "nbconvert_exporter": "python",
   "pygments_lexer": "ipython3",
   "version": "3.5.2"
  },
  "toc": {
   "base_numbering": 1,
   "nav_menu": {},
   "number_sections": true,
   "sideBar": false,
   "skip_h1_title": false,
   "title_cell": "Table of Contents",
   "title_sidebar": "Contents",
   "toc_cell": true,
   "toc_position": {},
   "toc_section_display": "block",
   "toc_window_display": false
  }
 },
 "nbformat": 4,
 "nbformat_minor": 2
}
