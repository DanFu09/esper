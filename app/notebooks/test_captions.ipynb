{
 "cells": [
  {
   "cell_type": "markdown",
   "metadata": {
    "toc": true
   },
   "source": [
    "<h1>Table of Contents<span class=\"tocSkip\"></span></h1>\n",
    "<div class=\"toc\" style=\"margin-top: 1em;\"><ul class=\"toc-item\"></ul></div>"
   ]
  },
  {
   "cell_type": "code",
   "execution_count": null,
   "metadata": {
    "ExecuteTime": {
     "end_time": "2018-10-17T21:41:25.209808Z",
     "start_time": "2018-10-17T21:41:00.338814Z"
    }
   },
   "outputs": [],
   "source": [
    "from esper.captions import *"
   ]
  },
  {
   "cell_type": "code",
   "execution_count": null,
   "metadata": {
    "ExecuteTime": {
     "end_time": "2018-10-17T21:41:25.461115Z",
     "start_time": "2018-10-17T21:41:25.212724Z"
    }
   },
   "outputs": [],
   "source": [
    "result = topic_search(['TACO BELL'])\n",
    "count = 0\n",
    "for d in result.documents:\n",
    "    count += 1\n",
    "print('Found in {} videos'.format(count))"
   ]
  },
  {
   "cell_type": "code",
   "execution_count": null,
   "metadata": {
    "ExecuteTime": {
     "end_time": "2018-10-17T21:41:25.675095Z",
     "start_time": "2018-10-17T21:41:25.463421Z"
    }
   },
   "outputs": [],
   "source": [
    "result = phrase_search('TACO BELL')\n",
    "count = 0\n",
    "for d in result.documents:\n",
    "    count += 1\n",
    "print('Found in {} videos'.format(count))"
   ]
  },
  {
   "cell_type": "code",
   "execution_count": null,
   "metadata": {
    "ExecuteTime": {
     "end_time": "2018-10-17T21:50:13.163683Z",
     "start_time": "2018-10-17T21:47:58.805840Z"
    }
   },
   "outputs": [],
   "source": [
    "for document_id, lowercase_ranges in get_lowercase_segments():\n",
    "    if len(lowercase_ranges) > 0:\n",
    "        print(document_id, lowercase_ranges)\n",
    "        break"
   ]
  },
  {
   "cell_type": "code",
   "execution_count": null,
   "metadata": {},
   "outputs": [],
   "source": []
  }
 ],
 "metadata": {
  "kernelspec": {
   "display_name": "Django Shell-Plus",
   "language": "python",
   "name": "django_extensions"
  },
  "language_info": {
   "codemirror_mode": {
    "name": "ipython",
    "version": 3
   },
   "file_extension": ".py",
   "mimetype": "text/x-python",
   "name": "python",
   "nbconvert_exporter": "python",
   "pygments_lexer": "ipython3",
   "version": "3.5.2"
  },
  "toc": {
   "base_numbering": 1,
   "nav_menu": {},
   "number_sections": true,
   "sideBar": false,
   "skip_h1_title": false,
   "title_cell": "Table of Contents",
   "title_sidebar": "Contents",
   "toc_cell": true,
   "toc_position": {},
   "toc_section_display": "block",
   "toc_window_display": false
  }
 },
 "nbformat": 4,
 "nbformat_minor": 2
}
