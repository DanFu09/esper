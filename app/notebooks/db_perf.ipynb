{
 "cells": [
  {
   "cell_type": "code",
   "execution_count": null,
   "metadata": {
    "ExecuteTime": {
     "end_time": "2018-05-25T19:12:19.392553Z",
     "start_time": "2018-05-25T19:12:19.336443Z"
    }
   },
   "outputs": [],
   "source": [
    "from esper.prelude import *\n",
    "from esper.spark import *\n",
    "import pyspark.sql.functions as func"
   ]
  },
  {
   "cell_type": "markdown",
   "metadata": {},
   "source": [
    "# Sum all faces"
   ]
  },
  {
   "cell_type": "markdown",
   "metadata": {},
   "source": [
    "## Postgres"
   ]
  },
  {
   "cell_type": "code",
   "execution_count": null,
   "metadata": {},
   "outputs": [],
   "source": [
    "from django.db.models import ExpressionWrapper\n",
    "FaceGender.objects.annotate(\n",
    "    duration=ExpressionWrapper(\n",
    "        (F('face__shot__max_frame') - F('face__shot__min_frame'))/F('face__shot__video__fps'),\n",
    "        models.FloatField())) \\\n",
    "    .aggregate(Sum('duration'))\n",
    "# 5min 20s to completion"
   ]
  },
  {
   "cell_type": "markdown",
   "metadata": {},
   "source": [
    "## BigQuery"
   ]
  },
  {
   "cell_type": "code",
   "execution_count": null,
   "metadata": {
    "ExecuteTime": {
     "end_time": "2018-05-25T21:16:02.049794Z",
     "start_time": "2018-05-25T21:16:02.016204Z"
    }
   },
   "outputs": [],
   "source": [
    "print(\"\"\"\n",
    "SELECT SUM(( `{t}_shot`.max_frame - `{t}_shot`.min_frame ) / `{t}_video`.fps ) AS duration \n",
    "FROM   `{t}_facegender`\n",
    "       inner join `{t}_face` \n",
    "               ON ( `{t}_facegender`.face_id = `{t}_face`.id ) \n",
    "       left outer join `{t}_shot`\n",
    "                    ON ( `{t}_face`.shot_id = `{t}_shot`.id ) \n",
    "       left outer join `{t}_video`\n",
    "                    ON ( `{t}_shot`.video_id = `{t}_video`.id )\n",
    "\"\"\".format(t=\"visualdb-1046.tvnews.query\"))\n",
    "# 10.2s to completion"
   ]
  },
  {
   "cell_type": "markdown",
   "metadata": {},
   "source": [
    "## Spark SQL"
   ]
  },
  {
   "cell_type": "code",
   "execution_count": null,
   "metadata": {
    "ExecuteTime": {
     "end_time": "2018-05-25T19:14:03.408259Z",
     "start_time": "2018-05-25T19:13:50.440939Z"
    }
   },
   "outputs": [],
   "source": [
    "video = spark.table.query_video\n",
    "facegender = spark.table.query_facegender\n",
    "shot = spark.table.query_shot\n",
    "face = spark.table.query_face\n",
    "\n",
    "full_df = facegender \\\n",
    "    .join(face, facegender.face_id == face.id) \\\n",
    "    .join(shot, face.shot_id == shot.id) \\\n",
    "    .join(video, shot.video_id == video.id) \\\n",
    "    .select(\"*\", ((shot.max_frame - shot.min_frame) / video.fps).alias('duration'))\n",
    "    \n",
    "full_df.agg(func.sum(full_df.duration)).collect()\n",
    "# 15.5s to completion"
   ]
  },
  {
   "cell_type": "code",
   "execution_count": null,
   "metadata": {
    "ExecuteTime": {
     "end_time": "2018-05-25T21:44:07.966090Z",
     "start_time": "2018-05-25T21:43:54.429715Z"
    }
   },
   "outputs": [],
   "source": [
    "full_df \\\n",
    "    .where(video.show_id == Show.objects.get(name='Tucker Carlson Tonight').id) \\\n",
    "    .where(facegender.gender_id == Gender.objects.get(name='M').id) \\\n",
    "    .agg(func.sum(full_df.duration)).collect()"
   ]
  },
  {
   "cell_type": "markdown",
   "metadata": {
    "ExecuteTime": {
     "end_time": "2018-05-25T19:18:55.554692Z",
     "start_time": "2018-05-25T19:18:55.525688Z"
    }
   },
   "source": [
    "# Group by show and gender"
   ]
  },
  {
   "cell_type": "markdown",
   "metadata": {},
   "source": [
    "## PostgreSQL"
   ]
  },
  {
   "cell_type": "code",
   "execution_count": null,
   "metadata": {
    "ExecuteTime": {
     "end_time": "2018-05-25T21:35:22.729620Z",
     "start_time": "2018-05-25T21:35:22.698716Z"
    }
   },
   "outputs": [],
   "source": [
    "# ??? how to even express this in the ORM?"
   ]
  },
  {
   "cell_type": "markdown",
   "metadata": {},
   "source": [
    "## BigQuery"
   ]
  },
  {
   "cell_type": "code",
   "execution_count": null,
   "metadata": {},
   "outputs": [],
   "source": [
    "print(\"\"\"\n",
    "SELECT `{t}_video`.show_id, `{t}_facegender`.gender_id, \n",
    "       SUM(( `{t}_shot`.max_frame - `{t}_shot`.min_frame ) / `{t}_video`.fps ) AS duration \n",
    "FROM   `{t}_facegender`\n",
    "       inner join `{t}_face` \n",
    "               ON ( `{t}_facegender`.face_id = `{t}_face`.id ) \n",
    "       left outer join `{t}_shot`\n",
    "                    ON ( `{t}_face`.shot_id = `{t}_shot`.id ) \n",
    "       left outer join `{t}_video`\n",
    "                    ON ( `{t}_shot`.video_id = `{t}_video`.id )\n",
    "GROUP BY `{t}_video`.show_id, `{t}_facegender`.gender_id       \n",
    "\"\"\".format(t=\"visualdb-1046.tvnews.query\"))\n",
    "# 13.2s to completion"
   ]
  },
  {
   "cell_type": "markdown",
   "metadata": {},
   "source": [
    "## Spark SQL"
   ]
  },
  {
   "cell_type": "code",
   "execution_count": null,
   "metadata": {
    "ExecuteTime": {
     "end_time": "2018-05-25T19:17:11.404442Z",
     "start_time": "2018-05-25T19:16:53.633756Z"
    }
   },
   "outputs": [],
   "source": [
    "full_df.groupBy(video.show_id, facegender.gender_id).agg(func.sum(full_df.duration)).collect()"
   ]
  }
 ],
 "metadata": {
  "kernelspec": {
   "display_name": "Django Shell-Plus",
   "language": "python",
   "name": "django_extensions"
  },
  "language_info": {
   "codemirror_mode": {
    "name": "ipython",
    "version": 3
   },
   "file_extension": ".py",
   "mimetype": "text/x-python",
   "name": "python",
   "nbconvert_exporter": "python",
   "pygments_lexer": "ipython3",
   "version": "3.5.2"
  },
  "toc": {
   "nav_menu": {},
   "number_sections": true,
   "sideBar": false,
   "skip_h1_title": false,
   "toc_cell": false,
   "toc_position": {},
   "toc_section_display": "block",
   "toc_window_display": false
  }
 },
 "nbformat": 4,
 "nbformat_minor": 2
}
