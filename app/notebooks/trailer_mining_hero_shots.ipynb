{
 "cells": [
  {
   "cell_type": "code",
   "execution_count": 43,
   "metadata": {
    "ExecuteTime": {
     "end_time": "2019-06-04T22:47:45.381956Z",
     "start_time": "2019-06-04T22:47:45.341053Z"
    }
   },
   "outputs": [],
   "source": [
    "from query.models import Face, Shot\n",
    "from rekall.video_interval_collection import VideoIntervalCollection\n",
    "from rekall.parsers import named_payload, in_array, bbox_payload_parser\n",
    "from rekall.parsers import merge_dict_parsers, dict_payload_parser\n",
    "from rekall.merge_ops import payload_plus, payload_first, merge_named_payload\n",
    "from rekall.payload_predicates import payload_satisfies, on_name\n",
    "from rekall.spatial_predicates import scene_graph\n",
    "from rekall.logical_predicates import and_pred\n",
    "from rekall.temporal_predicates import overlaps\n",
    "from rekall.bbox_predicates import height_at_least, left_of, same_value\n",
    "from esper.rekall import intrvllists_to_result_with_objects, bbox_to_result_object"
   ]
  },
  {
   "cell_type": "code",
   "execution_count": 6,
   "metadata": {
    "ExecuteTime": {
     "end_time": "2019-06-04T22:34:09.081838Z",
     "start_time": "2019-06-04T22:34:09.042825Z"
    }
   },
   "outputs": [],
   "source": [
    "from esper.prelude import esper_widget\n",
    "import time\n",
    "from IPython.display import display"
   ]
  },
  {
   "cell_type": "markdown",
   "metadata": {},
   "source": [
    "# Query"
   ]
  },
  {
   "cell_type": "code",
   "execution_count": 41,
   "metadata": {
    "ExecuteTime": {
     "end_time": "2019-06-04T22:47:24.609001Z",
     "start_time": "2019-06-04T22:47:24.554216Z"
    }
   },
   "outputs": [],
   "source": [
    "def query(video_id, MIN_FACE_HEIGHT, MIN_BRIGHTNESS, stride):\n",
    "    # We're going to look for frames that would be good \"hero shot\" frames --\n",
    "    #   potentially good frames to show in a Netflix preview, for instance.\n",
    "    # We're going to look for frames where there's exactly one face of a\n",
    "    #   certain height, and the frame has certain minimum brightness,\n",
    "    #   sharpness, and contrast properties.\n",
    "#     MIN_FACE_HEIGHT = 0.2\n",
    "#     MIN_BRIGHTNESS = 50\n",
    "\n",
    "    # Annotate face rows with start and end frames, video ID, and frame image\n",
    "    #   information\n",
    "    faces_qs = Face.objects.annotate(\n",
    "        min_frame=F('frame__number'),\n",
    "        max_frame=F('frame__number'),\n",
    "        video_id=F('frame__video_id'),\n",
    "        brightness=F('frame__brightness')\n",
    "    ).filter(\n",
    "        frame__video_id=video_id,\n",
    "        brightness__isnull=False\n",
    "    )\n",
    "\n",
    "    # Load bounding boxes and faces into rekall, and put all faces in one frame\n",
    "    faces = VideoIntervalCollection.from_django_qs(\n",
    "        faces_qs,\n",
    "        with_payload=merge_dict_parsers([named_payload('faces',\n",
    "            in_array(bbox_payload_parser(VideoIntervalCollection.django_accessor))),\n",
    "            dict_payload_parser(VideoIntervalCollection.django_accessor, {\n",
    "                'brightness': 'brightness'\n",
    "            })])\n",
    "    ).coalesce(merge_named_payload({\n",
    "        'faces': payload_plus,\n",
    "        'brightness': payload_first\n",
    "    }))\n",
    "\n",
    "    # Hero shots are shots where there is exactly one face of at least a\n",
    "    #   certain height, and brightness, contrast, and sharpness are at least\n",
    "    #   some amount\n",
    "    hero_shot_frames = faces.filter(payload_satisfies(and_pred(\n",
    "        on_name('faces', scene_graph({\n",
    "            'nodes': [{ 'name': 'face', 'predicates': [\n",
    "                height_at_least(MIN_FACE_HEIGHT) ] }],\n",
    "            'edges': []\n",
    "        }, exact=True)),\n",
    "        lambda payload: (payload['brightness'] > MIN_BRIGHTNESS)\n",
    "    )))\n",
    "    \n",
    "    shots_qs = Shot.objects.filter(\n",
    "        video_id=video_id,\n",
    "        cinematic=True)\n",
    "    shots = VideoIntervalCollection.from_django_qs(shots_qs)\n",
    "    \n",
    "    hero_shots = shots.filter_against(hero_shot_frames, predicate=overlaps())\n",
    "    \n",
    "    return intrvllists_to_result_with_objects(\n",
    "        hero_shots.get_allintervals(), \n",
    "        lambda a, b: [],\n",
    "#         lambda payload, video_id: [\n",
    "#             bbox_to_result_object(bbox, video_id) for bbox in payload['faces']],\n",
    "        stride=stride)"
   ]
  },
  {
   "cell_type": "code",
   "execution_count": 39,
   "metadata": {
    "ExecuteTime": {
     "end_time": "2019-06-04T22:47:13.506703Z",
     "start_time": "2019-06-04T22:47:13.468241Z"
    }
   },
   "outputs": [],
   "source": [
    "def show_query(video_id, min_face_height, min_brightness, stride):\n",
    "    result = query(video_id, min_face_height, min_brightness, stride)\n",
    "    \n",
    "    widget = esper_widget(result, jupyter_keybindings=True, crop_bboxes=False)\n",
    "    display(widget)\n",
    "    \n",
    "    return widget, result"
   ]
  },
  {
   "cell_type": "code",
   "execution_count": 79,
   "metadata": {
    "ExecuteTime": {
     "end_time": "2019-06-05T17:12:28.375793Z",
     "start_time": "2019-06-05T17:12:28.334702Z"
    }
   },
   "outputs": [],
   "source": [
    "def convert_segments(segments):\n",
    "    output_segments = []\n",
    "    for seg in segments:\n",
    "        for res in result['result']:\n",
    "            if res['elements'][0]['min_frame'] == seg[0]:\n",
    "                output_segments.append((res['elements'][0]['min_frame'], res['elements'][0]['max_frame']))\n",
    "    print(output_segments)"
   ]
  },
  {
   "cell_type": "markdown",
   "metadata": {},
   "source": [
    "# Braveheart"
   ]
  },
  {
   "cell_type": "code",
   "execution_count": 82,
   "metadata": {
    "ExecuteTime": {
     "end_time": "2019-06-05T18:38:48.468469Z",
     "start_time": "2019-06-05T18:38:42.961337Z"
    }
   },
   "outputs": [
    {
     "data": {
      "application/vnd.jupyter.widget-view+json": {
       "model_id": "3ff8ed72aa9a40409a3ab68e95941235",
       "version_major": 2,
       "version_minor": 0
      },
      "text/plain": [
       "VGridWidget(jsglobals={'schema': [['Identity', ['id', 'name']], ['Genre', ['id', 'name']], ['Director', ['id',…"
      ]
     },
     "metadata": {},
     "output_type": "display_data"
    }
   ],
   "source": [
    "widget, result = show_query(28, 0.2, 75, 10)"
   ]
  },
  {
   "cell_type": "code",
   "execution_count": 46,
   "metadata": {
    "ExecuteTime": {
     "end_time": "2019-06-04T22:52:53.339770Z",
     "start_time": "2019-06-04T22:52:53.297960Z"
    }
   },
   "outputs": [
    {
     "name": "stdout",
     "output_type": "stream",
     "text": [
      "[(48232, 48232), (72574, 72574), (108792, 108792), (111688, 111688), (115709, 115709), (116403, 116403), (122525, 122525), (132329, 132329), (153664, 153664), (232645, 232645)]\n"
     ]
    }
   ],
   "source": [
    "selected_segments_braveheart = [\n",
    "    (result['result'][i]['elements'][0]['min_frame'], result['result'][i]['elements'][0]['min_frame'])\n",
    "    for i in widget.selected\n",
    "]\n",
    "print(selected_segments_braveheart)"
   ]
  },
  {
   "cell_type": "code",
   "execution_count": 78,
   "metadata": {
    "ExecuteTime": {
     "end_time": "2019-06-05T17:12:10.001683Z",
     "start_time": "2019-06-05T17:12:09.961643Z"
    }
   },
   "outputs": [
    {
     "name": "stdout",
     "output_type": "stream",
     "text": [
      "[(48232, 48300), (72574, 72649), (108792, 108835), (111688, 111995), (115709, 115730), (116403, 116498), (122525, 122543), (132329, 132383), (153664, 153720), (232645, 232673)]\n"
     ]
    }
   ],
   "source": [
    "convert_segments(selected_segments_braveheart)"
   ]
  },
  {
   "cell_type": "markdown",
   "metadata": {},
   "source": [
    "# Revenge of the Sith"
   ]
  },
  {
   "cell_type": "code",
   "execution_count": 47,
   "metadata": {
    "ExecuteTime": {
     "end_time": "2019-06-04T22:54:07.929923Z",
     "start_time": "2019-06-04T22:54:07.890939Z"
    }
   },
   "outputs": [],
   "source": [
    "start = time.time()"
   ]
  },
  {
   "cell_type": "code",
   "execution_count": 80,
   "metadata": {
    "ExecuteTime": {
     "end_time": "2019-06-05T17:13:02.333278Z",
     "start_time": "2019-06-05T17:12:58.683049Z"
    }
   },
   "outputs": [
    {
     "data": {
      "application/vnd.jupyter.widget-view+json": {
       "model_id": "e4e730511f2e41b9a39f3d1eadaa7c55",
       "version_major": 2,
       "version_minor": 0
      },
      "text/plain": [
       "VGridWidget(jsglobals={'schema': [['Identity', ['id', 'name']], ['Genre', ['id', 'name']], ['Director', ['id',…"
      ]
     },
     "metadata": {},
     "output_type": "display_data"
    }
   ],
   "source": [
    "widget, result = show_query(186, 0.2, 50, 5)"
   ]
  },
  {
   "cell_type": "code",
   "execution_count": 51,
   "metadata": {
    "ExecuteTime": {
     "end_time": "2019-06-04T22:56:08.251967Z",
     "start_time": "2019-06-04T22:56:08.207961Z"
    }
   },
   "outputs": [
    {
     "name": "stdout",
     "output_type": "stream",
     "text": [
      "[(13733, 13733), (25961, 25961), (28038, 28038), (34901, 34901), (35493, 35493), (49620, 49620), (60137, 60137), (72843, 72843), (73402, 73402), (78752, 78752), (92949, 92949), (130785, 130785), (181722, 181722), (186324, 186324)]\n"
     ]
    }
   ],
   "source": [
    "selected_segments_rots = [\n",
    "    (result['result'][i]['elements'][0]['min_frame'], result['result'][i]['elements'][0]['min_frame'])\n",
    "    for i in widget.selected\n",
    "]\n",
    "print(selected_segments_rots)"
   ]
  },
  {
   "cell_type": "code",
   "execution_count": 81,
   "metadata": {
    "ExecuteTime": {
     "end_time": "2019-06-05T17:13:10.599349Z",
     "start_time": "2019-06-05T17:13:10.559913Z"
    }
   },
   "outputs": [
    {
     "name": "stdout",
     "output_type": "stream",
     "text": [
      "[(13733, 13796), (25961, 26277), (28038, 28096), (34901, 34961), (35493, 35568), (49620, 49689), (60137, 60240), (72843, 72982), (73402, 73534), (78752, 78800), (92949, 92990), (130785, 131036), (181722, 181794), (186324, 186429)]\n"
     ]
    }
   ],
   "source": [
    "convert_segments(selected_segments_rots)"
   ]
  },
  {
   "cell_type": "code",
   "execution_count": 52,
   "metadata": {
    "ExecuteTime": {
     "end_time": "2019-06-04T22:56:14.835657Z",
     "start_time": "2019-06-04T22:56:14.786693Z"
    }
   },
   "outputs": [],
   "source": [
    "end = time.time()"
   ]
  },
  {
   "cell_type": "code",
   "execution_count": 53,
   "metadata": {
    "ExecuteTime": {
     "end_time": "2019-06-04T22:56:15.554014Z",
     "start_time": "2019-06-04T22:56:15.511807Z"
    }
   },
   "outputs": [
    {
     "name": "stdout",
     "output_type": "stream",
     "text": [
      "Seconds to label:  126.90570259094238\n"
     ]
    }
   ],
   "source": [
    "print(\"Seconds to label: \", end - start)"
   ]
  },
  {
   "cell_type": "markdown",
   "metadata": {},
   "source": [
    "# Steve Jobs"
   ]
  },
  {
   "cell_type": "code",
   "execution_count": 54,
   "metadata": {
    "ExecuteTime": {
     "end_time": "2019-06-04T22:58:02.733376Z",
     "start_time": "2019-06-04T22:58:02.692816Z"
    }
   },
   "outputs": [],
   "source": [
    "start = time.time()"
   ]
  },
  {
   "cell_type": "code",
   "execution_count": 83,
   "metadata": {
    "ExecuteTime": {
     "end_time": "2019-06-05T18:41:00.685053Z",
     "start_time": "2019-06-05T18:40:56.473549Z"
    }
   },
   "outputs": [
    {
     "data": {
      "application/vnd.jupyter.widget-view+json": {
       "model_id": "16e3f32ed99c4846940686d2a1b05d62",
       "version_major": 2,
       "version_minor": 0
      },
      "text/plain": [
       "VGridWidget(jsglobals={'schema': [['Identity', ['id', 'name']], ['Genre', ['id', 'name']], ['Director', ['id',…"
      ]
     },
     "metadata": {},
     "output_type": "display_data"
    }
   ],
   "source": [
    "widget, result = show_query(520, 0.2, 50, 5)"
   ]
  },
  {
   "cell_type": "code",
   "execution_count": 56,
   "metadata": {
    "ExecuteTime": {
     "end_time": "2019-06-04T22:59:19.596180Z",
     "start_time": "2019-06-04T22:59:19.542395Z"
    }
   },
   "outputs": [
    {
     "name": "stdout",
     "output_type": "stream",
     "text": [
      "[(18839, 18839), (33234, 33234), (56701, 56701), (58482, 58482), (30592, 30592), (100750, 100750), (99826, 99826), (111112, 111112), (127182, 127182), (131931, 131931), (149091, 149091), (160355, 160355), (162592, 162592)]\n"
     ]
    }
   ],
   "source": [
    "selected_segments_jobs = [\n",
    "    (result['result'][i]['elements'][0]['min_frame'], result['result'][i]['elements'][0]['min_frame'])\n",
    "    for i in widget.selected\n",
    "]\n",
    "print(selected_segments_jobs)"
   ]
  },
  {
   "cell_type": "code",
   "execution_count": 84,
   "metadata": {
    "ExecuteTime": {
     "end_time": "2019-06-05T18:41:09.959237Z",
     "start_time": "2019-06-05T18:41:09.917039Z"
    }
   },
   "outputs": [
    {
     "name": "stdout",
     "output_type": "stream",
     "text": [
      "[(18839, 18976), (33234, 33284), (56701, 56819), (58482, 58585), (30592, 30615), (100750, 100856), (99826, 100209), (111112, 111138), (127182, 127311), (131931, 132087), (149091, 149274), (160355, 160580), (162592, 162653)]\n"
     ]
    }
   ],
   "source": [
    "convert_segments(selected_segments_jobs)"
   ]
  },
  {
   "cell_type": "code",
   "execution_count": 57,
   "metadata": {
    "ExecuteTime": {
     "end_time": "2019-06-04T22:59:21.046346Z",
     "start_time": "2019-06-04T22:59:21.005125Z"
    }
   },
   "outputs": [],
   "source": [
    "end = time.time()"
   ]
  },
  {
   "cell_type": "code",
   "execution_count": 58,
   "metadata": {
    "ExecuteTime": {
     "end_time": "2019-06-04T22:59:22.186304Z",
     "start_time": "2019-06-04T22:59:22.145681Z"
    }
   },
   "outputs": [
    {
     "name": "stdout",
     "output_type": "stream",
     "text": [
      "Seconds to label:  78.31287026405334\n"
     ]
    }
   ],
   "source": [
    "print(\"Seconds to label: \", end - start)"
   ]
  },
  {
   "cell_type": "markdown",
   "metadata": {},
   "source": [
    "# Guardians of the Galaxy"
   ]
  },
  {
   "cell_type": "code",
   "execution_count": 59,
   "metadata": {
    "ExecuteTime": {
     "end_time": "2019-06-04T23:10:02.560196Z",
     "start_time": "2019-06-04T23:10:02.520909Z"
    }
   },
   "outputs": [],
   "source": [
    "start = time.time()"
   ]
  },
  {
   "cell_type": "code",
   "execution_count": 85,
   "metadata": {
    "ExecuteTime": {
     "end_time": "2019-06-05T18:41:31.256388Z",
     "start_time": "2019-06-05T18:41:27.667232Z"
    }
   },
   "outputs": [
    {
     "data": {
      "application/vnd.jupyter.widget-view+json": {
       "model_id": "8cf481a01c3e400c9dfda84194df47ed",
       "version_major": 2,
       "version_minor": 0
      },
      "text/plain": [
       "VGridWidget(jsglobals={'schema': [['Identity', ['id', 'name']], ['Genre', ['id', 'name']], ['Director', ['id',…"
      ]
     },
     "metadata": {},
     "output_type": "display_data"
    }
   ],
   "source": [
    "widget, result = show_query(74, 0.2, 50, 5)"
   ]
  },
  {
   "cell_type": "code",
   "execution_count": 61,
   "metadata": {
    "ExecuteTime": {
     "end_time": "2019-06-04T23:10:53.571935Z",
     "start_time": "2019-06-04T23:10:53.531329Z"
    }
   },
   "outputs": [
    {
     "name": "stdout",
     "output_type": "stream",
     "text": [
      "[(27614, 27614), (28465, 28465), (54306, 54306), (68714, 68714), (118456, 118456), (146565, 146565), (151634, 151634), (157975, 157975), (156848, 156848), (26654, 26654), (23276, 23276), (29433, 29433)]\n"
     ]
    }
   ],
   "source": [
    "selected_segments_gotg = [\n",
    "    (result['result'][i]['elements'][0]['min_frame'], result['result'][i]['elements'][0]['min_frame'])\n",
    "    for i in widget.selected\n",
    "]\n",
    "print(selected_segments_gotg)"
   ]
  },
  {
   "cell_type": "code",
   "execution_count": 86,
   "metadata": {
    "ExecuteTime": {
     "end_time": "2019-06-05T18:41:38.925771Z",
     "start_time": "2019-06-05T18:41:38.882231Z"
    }
   },
   "outputs": [
    {
     "name": "stdout",
     "output_type": "stream",
     "text": [
      "[(27614, 27647), (28465, 28503), (54306, 54334), (68714, 68745), (118456, 118520), (146565, 146602), (151634, 151677), (157975, 158020), (156848, 156884), (26654, 26666), (23276, 23338), (29433, 29463)]\n"
     ]
    }
   ],
   "source": [
    "convert_segments(selected_segments_gotg)"
   ]
  },
  {
   "cell_type": "code",
   "execution_count": 62,
   "metadata": {
    "ExecuteTime": {
     "end_time": "2019-06-04T23:10:54.522771Z",
     "start_time": "2019-06-04T23:10:54.482962Z"
    }
   },
   "outputs": [],
   "source": [
    "end = time.time()"
   ]
  },
  {
   "cell_type": "code",
   "execution_count": 63,
   "metadata": {
    "ExecuteTime": {
     "end_time": "2019-06-04T23:11:01.849665Z",
     "start_time": "2019-06-04T23:11:01.810218Z"
    }
   },
   "outputs": [
    {
     "name": "stdout",
     "output_type": "stream",
     "text": [
      "Seconds to label:  51.962666034698486\n"
     ]
    }
   ],
   "source": [
    "print(\"Seconds to label: \", end - start)"
   ]
  },
  {
   "cell_type": "markdown",
   "metadata": {},
   "source": [
    "# Daddy's Home"
   ]
  },
  {
   "cell_type": "code",
   "execution_count": 64,
   "metadata": {
    "ExecuteTime": {
     "end_time": "2019-06-04T23:12:03.719306Z",
     "start_time": "2019-06-04T23:12:03.679834Z"
    }
   },
   "outputs": [],
   "source": [
    "start = time.time()"
   ]
  },
  {
   "cell_type": "code",
   "execution_count": 87,
   "metadata": {
    "ExecuteTime": {
     "end_time": "2019-06-05T18:42:00.200949Z",
     "start_time": "2019-06-05T18:41:55.874482Z"
    }
   },
   "outputs": [
    {
     "data": {
      "application/vnd.jupyter.widget-view+json": {
       "model_id": "5dfa153d75864f8199c53c03ead3a7fd",
       "version_major": 2,
       "version_minor": 0
      },
      "text/plain": [
       "VGridWidget(jsglobals={'schema': [['Identity', ['id', 'name']], ['Genre', ['id', 'name']], ['Director', ['id',…"
      ]
     },
     "metadata": {},
     "output_type": "display_data"
    }
   ],
   "source": [
    "widget, result = show_query(334, 0.2, 50, 5)"
   ]
  },
  {
   "cell_type": "code",
   "execution_count": 66,
   "metadata": {
    "ExecuteTime": {
     "end_time": "2019-06-04T23:12:57.224492Z",
     "start_time": "2019-06-04T23:12:57.180411Z"
    }
   },
   "outputs": [
    {
     "name": "stdout",
     "output_type": "stream",
     "text": [
      "[(6664, 6664), (19173, 19173), (29445, 29445), (33339, 33339), (43067, 43067), (52057, 52057), (52717, 52717), (55006, 55006), (57986, 57986), (58889, 58889), (78143, 78143), (91840, 91840), (97268, 97268), (116269, 116269), (130170, 130170)]\n"
     ]
    }
   ],
   "source": [
    "selected_segments_daddy = [\n",
    "    (result['result'][i]['elements'][0]['min_frame'], result['result'][i]['elements'][0]['min_frame'])\n",
    "    for i in widget.selected\n",
    "]\n",
    "print(selected_segments_daddy)"
   ]
  },
  {
   "cell_type": "code",
   "execution_count": 88,
   "metadata": {
    "ExecuteTime": {
     "end_time": "2019-06-05T18:42:04.335419Z",
     "start_time": "2019-06-05T18:42:04.294594Z"
    }
   },
   "outputs": [
    {
     "name": "stdout",
     "output_type": "stream",
     "text": [
      "[(6664, 6732), (19173, 19204), (29445, 29477), (33339, 33419), (43067, 43084), (52057, 52125), (52717, 52796), (55006, 55032), (57986, 58007), (58889, 58935), (78143, 78242), (91840, 91889), (97268, 97345), (116269, 116424), (130170, 130269)]\n"
     ]
    }
   ],
   "source": [
    "convert_segments(selected_segments_daddy)"
   ]
  },
  {
   "cell_type": "code",
   "execution_count": 67,
   "metadata": {
    "ExecuteTime": {
     "end_time": "2019-06-04T23:12:58.109783Z",
     "start_time": "2019-06-04T23:12:58.063406Z"
    }
   },
   "outputs": [],
   "source": [
    "end = time.time()"
   ]
  },
  {
   "cell_type": "code",
   "execution_count": 68,
   "metadata": {
    "ExecuteTime": {
     "end_time": "2019-06-04T23:12:58.879384Z",
     "start_time": "2019-06-04T23:12:58.840039Z"
    }
   },
   "outputs": [
    {
     "name": "stdout",
     "output_type": "stream",
     "text": [
      "Seconds to label:  54.389283418655396\n"
     ]
    }
   ],
   "source": [
    "print(\"Seconds to label: \", end - start)"
   ]
  },
  {
   "cell_type": "markdown",
   "metadata": {},
   "source": [
    "# Batman v Superman"
   ]
  },
  {
   "cell_type": "code",
   "execution_count": 69,
   "metadata": {
    "ExecuteTime": {
     "end_time": "2019-06-04T23:13:52.516452Z",
     "start_time": "2019-06-04T23:13:52.474823Z"
    }
   },
   "outputs": [],
   "source": [
    "start = time.time()"
   ]
  },
  {
   "cell_type": "code",
   "execution_count": 89,
   "metadata": {
    "ExecuteTime": {
     "end_time": "2019-06-05T18:42:22.190161Z",
     "start_time": "2019-06-05T18:42:17.784198Z"
    }
   },
   "outputs": [
    {
     "data": {
      "application/vnd.jupyter.widget-view+json": {
       "model_id": "7fa3f82cda2e47d28a5a9d2c18624e40",
       "version_major": 2,
       "version_minor": 0
      },
      "text/plain": [
       "VGridWidget(jsglobals={'schema': [['Identity', ['id', 'name']], ['Genre', ['id', 'name']], ['Director', ['id',…"
      ]
     },
     "metadata": {},
     "output_type": "display_data"
    }
   ],
   "source": [
    "widget, result = show_query(299, 0.2, 50, 5)"
   ]
  },
  {
   "cell_type": "code",
   "execution_count": 71,
   "metadata": {
    "ExecuteTime": {
     "end_time": "2019-06-04T23:15:12.157460Z",
     "start_time": "2019-06-04T23:15:12.116647Z"
    }
   },
   "outputs": [
    {
     "name": "stdout",
     "output_type": "stream",
     "text": [
      "[(12964, 12964), (19978, 19978), (38508, 38508), (44408, 44408), (51466, 51466), (52482, 52482), (57543, 57543), (62118, 62118), (69073, 69073), (82639, 82639), (100062, 100062), (127075, 127075), (188936, 188936), (202577, 202577)]\n"
     ]
    }
   ],
   "source": [
    "selected_segments_bvs = [\n",
    "    (result['result'][i]['elements'][0]['min_frame'], result['result'][i]['elements'][0]['min_frame'])\n",
    "    for i in widget.selected\n",
    "]\n",
    "print(selected_segments_bvs)"
   ]
  },
  {
   "cell_type": "code",
   "execution_count": 90,
   "metadata": {
    "ExecuteTime": {
     "end_time": "2019-06-05T18:42:25.881423Z",
     "start_time": "2019-06-05T18:42:25.841353Z"
    }
   },
   "outputs": [
    {
     "name": "stdout",
     "output_type": "stream",
     "text": [
      "[(12964, 13001), (19978, 20018), (38508, 38715), (44408, 44498), (51466, 51555), (52482, 52531), (57543, 57585), (62118, 62236), (69073, 69173), (82639, 82703), (100062, 100085), (127075, 127154), (188936, 188996), (202577, 202645)]\n"
     ]
    }
   ],
   "source": [
    "convert_segments(selected_segments_bvs)"
   ]
  },
  {
   "cell_type": "code",
   "execution_count": 74,
   "metadata": {
    "ExecuteTime": {
     "end_time": "2019-06-04T23:15:25.659420Z",
     "start_time": "2019-06-04T23:15:25.619766Z"
    }
   },
   "outputs": [],
   "source": [
    "end = time.time()"
   ]
  },
  {
   "cell_type": "code",
   "execution_count": 75,
   "metadata": {
    "ExecuteTime": {
     "end_time": "2019-06-04T23:15:26.437675Z",
     "start_time": "2019-06-04T23:15:26.395952Z"
    }
   },
   "outputs": [
    {
     "name": "stdout",
     "output_type": "stream",
     "text": [
      "Seconds to label:  93.14249897003174\n"
     ]
    }
   ],
   "source": [
    "print(\"Seconds to label: \", end - start)"
   ]
  }
 ],
 "metadata": {
  "kernelspec": {
   "display_name": "Django Shell-Plus",
   "language": "python",
   "name": "django_extensions"
  },
  "language_info": {
   "codemirror_mode": {
    "name": "ipython",
    "version": 3
   },
   "file_extension": ".py",
   "mimetype": "text/x-python",
   "name": "python",
   "nbconvert_exporter": "python",
   "pygments_lexer": "ipython3",
   "version": "3.5.2"
  },
  "toc": {
   "nav_menu": {},
   "number_sections": true,
   "sideBar": true,
   "skip_h1_title": false,
   "toc_cell": false,
   "toc_position": {},
   "toc_section_display": "block",
   "toc_window_display": false
  }
 },
 "nbformat": 4,
 "nbformat_minor": 2
}
