{
 "cells": [
  {
   "cell_type": "markdown",
   "metadata": {
    "toc": true
   },
   "source": [
    "<h1>Table of Contents<span class=\"tocSkip\"></span></h1>\n",
    "<div class=\"toc\" style=\"margin-top: 1em;\"><ul class=\"toc-item\"></ul></div>"
   ]
  },
  {
   "cell_type": "code",
   "execution_count": null,
   "metadata": {
    "ExecuteTime": {
     "end_time": "2018-11-27T20:14:51.215525Z",
     "start_time": "2018-11-27T20:14:51.192634Z"
    }
   },
   "outputs": [],
   "source": [
    "import urllib\n",
    "from query.models import Video, Shot, VideoTag"
   ]
  },
  {
   "cell_type": "markdown",
   "metadata": {},
   "source": [
    "There are three parameters for this script:\n",
    "* video_id: the ID of the video in the Esper database\n",
    "* url: the cinemetrics URL of the raw data for (James Cutting's) human-annotated shot boundaries\n",
    "* frame_offset: James Cutting doesn't start annotating shots until after the initial studio logos, so we need to offset his annotations by some frame offset\n",
    "* first_cutting_shot: Sometimes it's hard to match up James Cutting's human-annotated shot boundaries with the actual movie, so we only start recording Cutting's shots starting at this shot number"
   ]
  },
  {
   "cell_type": "code",
   "execution_count": null,
   "metadata": {
    "ExecuteTime": {
     "end_time": "2018-11-27T20:38:25.644392Z",
     "start_time": "2018-11-27T20:38:25.619930Z"
    }
   },
   "outputs": [],
   "source": [
    "video_id = 377\n",
    "url = \"http://cinemetrics.lv/data.php?movie_ID=7716\"\n",
    "frame_offset = 2048\n",
    "first_cutting_shot = 2"
   ]
  },
  {
   "cell_type": "code",
   "execution_count": null,
   "metadata": {
    "ExecuteTime": {
     "end_time": "2018-11-27T20:38:26.977972Z",
     "start_time": "2018-11-27T20:38:26.950063Z"
    }
   },
   "outputs": [],
   "source": [
    "# Load video from database\n",
    "video = Video.objects.filter(id=video_id).all()[0]"
   ]
  },
  {
   "cell_type": "code",
   "execution_count": null,
   "metadata": {
    "ExecuteTime": {
     "end_time": "2018-11-27T20:38:28.579207Z",
     "start_time": "2018-11-27T20:38:27.912977Z"
    }
   },
   "outputs": [],
   "source": [
    "# Read the raw data from Cinemetrics\n",
    "f = urllib.request.urlopen(url)\n",
    "content = f.read().decode('utf-8')"
   ]
  },
  {
   "cell_type": "code",
   "execution_count": null,
   "metadata": {
    "ExecuteTime": {
     "end_time": "2018-11-27T20:38:29.573337Z",
     "start_time": "2018-11-27T20:38:29.531634Z"
    }
   },
   "outputs": [],
   "source": [
    "# Parse the HTML\n",
    "shot_annotations = []\n",
    "table = content.split('\\n')[12]\n",
    "delimiter = '</tr>'\n",
    "while table.find(delimiter) is not -1:\n",
    "    index = table.find(delimiter)\n",
    "    row = table[0:index + len(delimiter)].strip()\n",
    "    shot_num = int(row[len('<tr><td>'):row.find('</td>')])\n",
    "    row = row[row.find('</td><td>')+len('</td><td>'):len(row)]\n",
    "    shot_length = int(row[0:row.find('</td><td>')])\n",
    "    row = row[row.find('</td><td>')+len('</td><td>'):len(row)]\n",
    "    time_code = int(row[0:row.find('</td>')])\n",
    "    shot_annotations.append((shot_num, shot_length, time_code))\n",
    "    table = table[table.find(delimiter) + len(delimiter):len(table)]"
   ]
  },
  {
   "cell_type": "code",
   "execution_count": null,
   "metadata": {
    "ExecuteTime": {
     "end_time": "2018-11-27T20:38:30.871371Z",
     "start_time": "2018-11-27T20:38:30.846023Z"
    }
   },
   "outputs": [],
   "source": [
    "# Remove the initial (first_cutting_shot - 1) shots\n",
    "shot_annotations = shot_annotations[first_cutting_shot - 1:len(shot_annotations)]\n",
    "\n",
    "time_offset = shot_annotations[0][1] - shot_annotations[0][2]\n",
    "\n",
    "# Update all the timecodes\n",
    "shot_annotations = [\n",
    "    (shot_num, shot_length, time_code + time_offset)\n",
    "    for shot_num, shot_length, time_code in shot_annotations\n",
    "]"
   ]
  },
  {
   "cell_type": "code",
   "execution_count": null,
   "metadata": {
    "ExecuteTime": {
     "end_time": "2018-11-27T20:38:33.335104Z",
     "start_time": "2018-11-27T20:38:33.307290Z"
    }
   },
   "outputs": [],
   "source": [
    "# Labelers for these shots\n",
    "LABELER, _ = Labeler.objects.get_or_create(name='shot-jamescutting')\n",
    "LABELED_TAG, _ = Tag.objects.get_or_create(name='shot-jamescutting:labeled')"
   ]
  },
  {
   "cell_type": "code",
   "execution_count": null,
   "metadata": {
    "ExecuteTime": {
     "end_time": "2018-11-27T20:38:34.579332Z",
     "start_time": "2018-11-27T20:38:34.530727Z"
    }
   },
   "outputs": [],
   "source": [
    "def time_to_frame(time):\n",
    "    return time / 10 * video.fps + frame_offset\n",
    "\n",
    "new_shots = [\n",
    "    Shot(\n",
    "        min_frame=time_to_frame(time_code - length),\n",
    "        max_frame=max(time_to_frame(time_code) - 1, time_to_frame(time_code - length)),\n",
    "        labeler=LABELER,\n",
    "        video_id=video_id\n",
    "    )\n",
    "    for num, length, time_code in shot_annotations\n",
    "    if length > 0\n",
    "]"
   ]
  },
  {
   "cell_type": "code",
   "execution_count": null,
   "metadata": {
    "ExecuteTime": {
     "end_time": "2018-11-27T20:38:36.223556Z",
     "start_time": "2018-11-27T20:38:36.060012Z"
    }
   },
   "outputs": [],
   "source": [
    "Shot.objects.bulk_create(new_shots)"
   ]
  },
  {
   "cell_type": "code",
   "execution_count": null,
   "metadata": {
    "ExecuteTime": {
     "end_time": "2018-11-27T20:38:37.447959Z",
     "start_time": "2018-11-27T20:38:37.419923Z"
    }
   },
   "outputs": [],
   "source": [
    "VideoTag(tag=LABELED_TAG, video=video).save()"
   ]
  }
 ],
 "metadata": {
  "kernelspec": {
   "display_name": "Django Shell-Plus",
   "language": "python",
   "name": "django_extensions"
  },
  "language_info": {
   "codemirror_mode": {
    "name": "ipython",
    "version": 3
   },
   "file_extension": ".py",
   "mimetype": "text/x-python",
   "name": "python",
   "nbconvert_exporter": "python",
   "pygments_lexer": "ipython3",
   "version": "3.5.2"
  },
  "toc": {
   "base_numbering": 1,
   "nav_menu": {},
   "number_sections": true,
   "sideBar": false,
   "skip_h1_title": false,
   "title_cell": "Table of Contents",
   "title_sidebar": "Contents",
   "toc_cell": true,
   "toc_position": {},
   "toc_section_display": "block",
   "toc_window_display": false
  }
 },
 "nbformat": 4,
 "nbformat_minor": 2
}
