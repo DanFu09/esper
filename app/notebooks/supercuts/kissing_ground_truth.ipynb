{
 "cells": [
  {
   "cell_type": "markdown",
   "metadata": {},
   "source": [
    "# Supercut Template\n",
    "A notebook to copy to make supercuts from. Subject to change based on experience."
   ]
  },
  {
   "cell_type": "code",
   "execution_count": 7,
   "metadata": {
    "ExecuteTime": {
     "end_time": "2019-01-10T18:26:37.679631Z",
     "start_time": "2019-01-10T18:26:37.623344Z"
    }
   },
   "outputs": [],
   "source": [
    "from esper.supercuts import *\n",
    "from query.models import Shot\n",
    "from rekall.temporal_predicates import overlaps\n",
    "from rekall.video_interval_collection import VideoIntervalCollection"
   ]
  },
  {
   "cell_type": "code",
   "execution_count": 2,
   "metadata": {
    "ExecuteTime": {
     "end_time": "2019-01-10T07:48:52.360604Z",
     "start_time": "2019-01-10T07:48:52.306266Z"
    }
   },
   "outputs": [],
   "source": [
    "intervals = [\n",
    "    (1, 11820, 11897),\n",
    "    (9, 54540, 54636),\n",
    "    (24, 97476, 97596), \n",
    "    (24, 142176, 142224),\n",
    "    (28, 205020, 205073),\n",
    "    (32, 133080, 133155),\n",
    "    (33, 19128, 19200),\n",
    "    (33, 19296, 19440),\n",
    "    (43, 138948, 139026),\n",
    "    (47, 3204,3324),\n",
    "    (47, 55824, 55860),\n",
    "    (55, 112776, 113064),\n",
    "    (55, 155604, 155669),\n",
    "    (59, 43572, 43680),\n",
    "    (59, 93384, 93408),\n",
    "    (59, 126672, 126732),\n",
    "    (59, 192984, 193056),\n",
    "    (62, 18492, 18516),\n",
    "    (62, 18851,18936),\n",
    "    (62, 19392, 19447),\n",
    "    (65, 121331,121652),\n",
    "    (66, 171408, 171672),\n",
    "    (70, 140604, 140640),\n",
    "    (72, 115428, 115716),\n",
    "    (72, 135436, 135600),\n",
    "    (72, 138780,138793)\n",
    "]"
   ]
  },
  {
   "cell_type": "code",
   "execution_count": 9,
   "metadata": {
    "ExecuteTime": {
     "end_time": "2019-01-10T18:28:52.927141Z",
     "start_time": "2019-01-10T18:28:52.879847Z"
    }
   },
   "outputs": [],
   "source": [
    "intervals2 = [\n",
    "    (1, [(11820, 11897)]),\n",
    "    (9, [(54540, 54636)]),\n",
    "    (24, [(97476, 97596), (142176, 142224)]),\n",
    "    (28, [(205020, 205073)]),\n",
    "    (32, [(133080, 133155)]),\n",
    "    (33, [(19128, 19200), (19296, 19440)]),\n",
    "    (43, [(138948, 139026)]),\n",
    "    (47, [(3204,3324), (55824, 55860)]),\n",
    "    (55, [(112776, 113064), (155604, 155669)]),\n",
    "    (59, [(43572, 43680), (93384, 93408), (126672, 126732), (192984, 193056)]),\n",
    "    (62, [(18492, 18516), (18851,18936), (19392, 19447)]),\n",
    "    (65, [(121331,121652)]),\n",
    "    (66, [(171408, 171672)]),\n",
    "    (70, [(140604, 140640)]),\n",
    "    (72, [(115428, 115716), (135436, 135600), (138780,138793)])\n",
    "]"
   ]
  },
  {
   "cell_type": "code",
   "execution_count": 10,
   "metadata": {
    "ExecuteTime": {
     "end_time": "2019-01-10T18:28:53.920045Z",
     "start_time": "2019-01-10T18:28:53.879496Z"
    }
   },
   "outputs": [],
   "source": [
    "intervals_rekall = VideoIntervalCollection({\n",
    "    video_id: [\n",
    "        (start, end, 0)\n",
    "        for start, end in intervals\n",
    "    ]\n",
    "    for video_id, intervals in intervals2\n",
    "})"
   ]
  },
  {
   "cell_type": "code",
   "execution_count": 13,
   "metadata": {
    "ExecuteTime": {
     "end_time": "2019-01-10T18:30:26.244139Z",
     "start_time": "2019-01-10T18:30:25.930052Z"
    }
   },
   "outputs": [],
   "source": [
    "shots = VideoIntervalCollection.from_django_qs(\n",
    "    Shot.objects.filter(\n",
    "        video_id__in=intervals_rekall.get_allintervals().keys(),\n",
    "        labeler__name='shot-hsvhist-face')\n",
    ")"
   ]
  },
  {
   "cell_type": "code",
   "execution_count": 26,
   "metadata": {
    "ExecuteTime": {
     "end_time": "2019-01-10T18:32:52.637064Z",
     "start_time": "2019-01-10T18:32:52.563220Z"
    }
   },
   "outputs": [],
   "source": [
    "kisses_gt_shots = shots.merge(intervals_rekall, predicate=overlaps()).coalesce()"
   ]
  },
  {
   "cell_type": "code",
   "execution_count": 5,
   "metadata": {
    "ExecuteTime": {
     "end_time": "2019-01-10T07:52:08.351358Z",
     "start_time": "2019-01-10T07:52:08.287634Z"
    }
   },
   "outputs": [
    {
     "data": {
      "text/plain": [
       "26"
      ]
     },
     "execution_count": 5,
     "metadata": {},
     "output_type": "execute_result"
    }
   ],
   "source": [
    "len(intervals)"
   ]
  },
  {
   "cell_type": "code",
   "execution_count": 16,
   "metadata": {
    "ExecuteTime": {
     "end_time": "2019-01-10T18:31:28.916930Z",
     "start_time": "2019-01-10T18:31:28.863901Z"
    }
   },
   "outputs": [],
   "source": [
    "def generate_supercut_intervals(\n",
    "    interval_collection,\n",
    "    dilation=0,\n",
    "    snap_to_cinematic_shots=False,\n",
    "    limit=None,\n",
    "    stride=1,\n",
    "    max_length=None\n",
    "):\n",
    "    '''\n",
    "    Generates supercut intervals for the supercut pipeline.\n",
    "    Dilates interval_collection by dilation.\n",
    "    If dilation > 0, snaps the dilations to cinematic shot boundaries.\n",
    "    '''\n",
    "    if dilation > 0:\n",
    "        if snap_to_cinematic_shots:\n",
    "            shots = VideoIntervalCollection.from_django_qs(\n",
    "                Shot.objects.filter(\n",
    "                    video_id__in=list(interval_collection.get_allintervals().keys()),\n",
    "                    labeler__name=\"shot-hsvhist-face\"\n",
    "                )\n",
    "            ).filter_against(interval_collection, predicate=overlaps())\n",
    "        interval_collection = interval_collection.dilate(dilation).coalesce()\n",
    "        if snap_to_cinematic_shots:\n",
    "            interval_collection = interval_collection.overlaps(shots)\n",
    "    \n",
    "    supercut_intervals = []\n",
    "    for video_id in sorted(list(interval_collection.get_allintervals().keys())):\n",
    "        intervallist = interval_collection.get_intervallist(video_id)\n",
    "        for intrvl in intervallist.get_intervals():\n",
    "            if max_length is None:\n",
    "                supercut_intervals.append((video_id, intrvl.get_start(), intrvl.get_end()))\n",
    "            else:\n",
    "                supercut_intervals.append((video_id, intrvl.get_start(), min(intrvl.get_end(), intrvl.get_start() + max_length)))\n",
    "            \n",
    "    if limit is not None:\n",
    "        return supercut_intervals[:limit * stride:stride]\n",
    "    \n",
    "    return supercut_intervals[::stride]"
   ]
  },
  {
   "cell_type": "code",
   "execution_count": 27,
   "metadata": {
    "ExecuteTime": {
     "end_time": "2019-01-10T18:32:54.056468Z",
     "start_time": "2019-01-10T18:32:54.017116Z"
    }
   },
   "outputs": [],
   "source": [
    "supercut_intervals = generate_supercut_intervals(kisses_gt_shots)"
   ]
  },
  {
   "cell_type": "code",
   "execution_count": 28,
   "metadata": {
    "ExecuteTime": {
     "end_time": "2019-01-10T18:32:54.952685Z",
     "start_time": "2019-01-10T18:32:54.912483Z"
    }
   },
   "outputs": [
    {
     "data": {
      "text/plain": [
       "24"
      ]
     },
     "execution_count": 28,
     "metadata": {},
     "output_type": "execute_result"
    }
   ],
   "source": [
    "len(supercut_intervals)"
   ]
  },
  {
   "cell_type": "code",
   "execution_count": 30,
   "metadata": {
    "ExecuteTime": {
     "end_time": "2019-01-10T18:33:06.011183Z",
     "start_time": "2019-01-10T18:33:05.969209Z"
    }
   },
   "outputs": [],
   "source": [
    "# output path\n",
    "OUTPUT_PATH = '/app/result/supercut/kissing_ground_truth_shots.mp4'"
   ]
  },
  {
   "cell_type": "code",
   "execution_count": 31,
   "metadata": {
    "ExecuteTime": {
     "end_time": "2019-01-10T18:34:51.372270Z",
     "start_time": "2019-01-10T18:33:07.083622Z"
    }
   },
   "outputs": [
    {
     "data": {
      "application/vnd.jupyter.widget-view+json": {
       "model_id": "71bf948e073f41e48f0aa9862f25679e",
       "version_major": 2,
       "version_minor": 0
      },
      "text/plain": [
       "HBox(children=(IntProgress(value=0, max=24), HTML(value='')))"
      ]
     },
     "metadata": {},
     "output_type": "display_data"
    },
    {
     "name": "stdout",
     "output_type": "stream",
     "text": [
      "\n"
     ]
    }
   ],
   "source": [
    "stitch_video_temporal(supercut_intervals, out_path=OUTPUT_PATH, width=640, height=480)"
   ]
  }
 ],
 "metadata": {
  "kernelspec": {
   "display_name": "Django Shell-Plus",
   "language": "python",
   "name": "django_extensions"
  },
  "language_info": {
   "codemirror_mode": {
    "name": "ipython",
    "version": 3
   },
   "file_extension": ".py",
   "mimetype": "text/x-python",
   "name": "python",
   "nbconvert_exporter": "python",
   "pygments_lexer": "ipython3",
   "version": "3.5.2"
  },
  "toc": {
   "nav_menu": {},
   "number_sections": true,
   "sideBar": true,
   "skip_h1_title": false,
   "toc_cell": false,
   "toc_position": {},
   "toc_section_display": "block",
   "toc_window_display": false
  }
 },
 "nbformat": 4,
 "nbformat_minor": 2
}
