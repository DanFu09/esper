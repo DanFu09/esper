{
 "cells": [
  {
   "cell_type": "code",
   "execution_count": 16,
   "metadata": {
    "ExecuteTime": {
     "end_time": "2019-01-25T22:49:34.090334Z",
     "start_time": "2019-01-25T22:49:34.063243Z"
    }
   },
   "outputs": [],
   "source": [
    "import pickle\n",
    "import numpy as np\n",
    "from rekall.video_interval_collection import VideoIntervalCollection\n",
    "from rekall.temporal_predicates import equal, overlaps\n",
    "import matplotlib.pyplot as plt\n",
    "from query.models import LabeledInterval, Labeler"
   ]
  },
  {
   "cell_type": "markdown",
   "metadata": {},
   "source": [
    "# Load Conversations"
   ]
  },
  {
   "cell_type": "code",
   "execution_count": 3,
   "metadata": {
    "ExecuteTime": {
     "end_time": "2019-01-25T22:41:43.991597Z",
     "start_time": "2019-01-25T22:41:43.963107Z"
    }
   },
   "outputs": [],
   "source": [
    "videos = Video.objects.filter(ignore_film=False, year__gte=1935).exclude(\n",
    "    genres__name=\"animation\"\n",
    ").order_by('id')"
   ]
  },
  {
   "cell_type": "code",
   "execution_count": 4,
   "metadata": {
    "ExecuteTime": {
     "end_time": "2019-01-25T22:41:50.736795Z",
     "start_time": "2019-01-25T22:41:44.856558Z"
    }
   },
   "outputs": [],
   "source": [
    "conversations = VideoIntervalCollection({\n",
    "    video.id: pickle.load(open('/app/data/conversations/{}.pkl'.format(video.id), 'rb')).get_intervallist(video.id)\n",
    "    for video in videos\n",
    "})"
   ]
  },
  {
   "cell_type": "markdown",
   "metadata": {},
   "source": [
    "# Analyze Precision and Recall of Conversations"
   ]
  },
  {
   "cell_type": "code",
   "execution_count": 5,
   "metadata": {
    "ExecuteTime": {
     "end_time": "2019-01-25T22:41:51.901289Z",
     "start_time": "2019-01-25T22:41:51.865773Z"
    }
   },
   "outputs": [],
   "source": [
    "conversations_gt_qs = LabeledInterval.objects.filter(labeler__name__contains=\"conversations\")\n",
    "conversations_gt = VideoIntervalCollection.from_django_qs(conversations_gt_qs)"
   ]
  },
  {
   "cell_type": "code",
   "execution_count": 12,
   "metadata": {
    "ExecuteTime": {
     "end_time": "2019-01-25T22:48:13.744451Z",
     "start_time": "2019-01-25T22:48:13.535239Z"
    }
   },
   "outputs": [],
   "source": [
    "conversations_in_gt_bounds = conversations.map(\n",
    "    lambda intrvl: (intrvl.start, intrvl.end, 0)\n",
    ").filter_against(\n",
    "    conversations_gt,\n",
    "    lambda conv, gt: conv.end < gt.end\n",
    ").filter_against(\n",
    "    conversations.filter_against(\n",
    "        conversations_gt,\n",
    "        lambda conv, gt: conv.start > gt.start\n",
    "    ),\n",
    "    equal()\n",
    ")"
   ]
  },
  {
   "cell_type": "code",
   "execution_count": 14,
   "metadata": {
    "ExecuteTime": {
     "end_time": "2019-01-25T22:49:02.556391Z",
     "start_time": "2019-01-25T22:49:02.499938Z"
    }
   },
   "outputs": [],
   "source": [
    "# Returns precision, recall, precision_per_item, recall_per_item\n",
    "def compute_statistics(query_intrvllists, ground_truth_intrvllists):\n",
    "    total_query_time = 0\n",
    "    total_query_segments = 0\n",
    "    total_ground_truth_time = 0\n",
    "    total_ground_truth_segments = 0\n",
    "    \n",
    "    for video in query_intrvllists:\n",
    "        total_query_time += query_intrvllists[video].coalesce().get_total_time()\n",
    "        total_query_segments += query_intrvllists[video].size()\n",
    "    for video in ground_truth_intrvllists:\n",
    "        total_ground_truth_time += ground_truth_intrvllists[video].coalesce().get_total_time()\n",
    "        total_ground_truth_segments += ground_truth_intrvllists[video].size()\n",
    "        \n",
    "    total_overlap_time = 0\n",
    "    overlapping_query_segments = 0\n",
    "    overlapping_ground_truth_segments = 0\n",
    "    \n",
    "    for video in query_intrvllists:\n",
    "        if video in ground_truth_intrvllists:\n",
    "            query_list = query_intrvllists[video]\n",
    "            gt_list = ground_truth_intrvllists[video]\n",
    "            \n",
    "            total_overlap_time += query_list.overlaps(gt_list).coalesce().get_total_time()\n",
    "            overlapping_query_segments += query_list.filter_against(gt_list, predicate=overlaps()).size()\n",
    "            overlapping_ground_truth_segments += gt_list.filter_against(query_list, predicate=overlaps()).size()\n",
    "    \n",
    "    if total_query_time == 0:\n",
    "        precision = 1.0\n",
    "        precision_per_item = 1.0\n",
    "    else:\n",
    "        precision = total_overlap_time / total_query_time\n",
    "        precision_per_item = overlapping_query_segments / total_query_segments\n",
    "    \n",
    "    if total_ground_truth_time == 0:\n",
    "        recall = 1.0\n",
    "        recall_per_item = 1.0\n",
    "    else:\n",
    "        recall = total_overlap_time / total_ground_truth_time\n",
    "        recall_per_item = overlapping_ground_truth_segments / total_ground_truth_segments\n",
    "    \n",
    "    return precision, recall, precision_per_item, recall_per_item\n",
    "\n",
    "def print_statistics(query_intrvllists, ground_truth_intrvllists):\n",
    "    precision, recall, precision_per_item, recall_per_item = compute_statistics(\n",
    "        query_intrvllists, ground_truth_intrvllists)\n",
    "\n",
    "    print(\"Precision: \", precision)\n",
    "    print(\"Recall: \", recall)\n",
    "    print(\"Precision Per Item: \", precision_per_item)\n",
    "    print(\"Recall Per Item: \", recall_per_item)"
   ]
  },
  {
   "cell_type": "code",
   "execution_count": 17,
   "metadata": {
    "ExecuteTime": {
     "end_time": "2019-01-25T22:49:35.828558Z",
     "start_time": "2019-01-25T22:49:35.751291Z"
    }
   },
   "outputs": [
    {
     "name": "stdout",
     "output_type": "stream",
     "text": [
      "Precision:  0.8014049166317166\n",
      "Recall:  0.7490334903995625\n",
      "Precision Per Item:  0.776536312849162\n",
      "Recall Per Item:  0.837037037037037\n"
     ]
    }
   ],
   "source": [
    "print_statistics(conversations_in_gt_bounds.get_allintervals(), conversations_gt.get_allintervals())"
   ]
  },
  {
   "cell_type": "markdown",
   "metadata": {},
   "source": [
    "# Analyze Conversation Screentime"
   ]
  },
  {
   "cell_type": "code",
   "execution_count": 75,
   "metadata": {
    "ExecuteTime": {
     "end_time": "2019-01-14T07:50:19.536830Z",
     "start_time": "2019-01-14T07:50:17.525834Z"
    }
   },
   "outputs": [],
   "source": [
    "# Average conversation time\n",
    "average_conversation_proportions = [\n",
    "    (Video.objects.get(id=video_id),\n",
    "     float(conversations.get_intervallist(video_id).get_total_time()) / Video.objects.get(id=video_id).num_frames)\n",
    "    for video_id in sorted(list(conversations.get_allintervals().keys()))\n",
    "]"
   ]
  },
  {
   "cell_type": "code",
   "execution_count": 76,
   "metadata": {
    "ExecuteTime": {
     "end_time": "2019-01-14T07:50:20.313491Z",
     "start_time": "2019-01-14T07:50:20.285258Z"
    }
   },
   "outputs": [
    {
     "data": {
      "text/plain": [
       "0.41703374906643376"
      ]
     },
     "execution_count": 76,
     "metadata": {},
     "output_type": "execute_result"
    }
   ],
   "source": [
    "np.mean([conv for vid, conv in average_conversation_proportions])"
   ]
  },
  {
   "cell_type": "code",
   "execution_count": 86,
   "metadata": {
    "ExecuteTime": {
     "end_time": "2019-01-14T08:31:18.242527Z",
     "start_time": "2019-01-14T08:31:18.209393Z"
    }
   },
   "outputs": [
    {
     "data": {
      "text/plain": [
       "[('2001: A Space Odyssey', 0.06786990123514441),\n",
       " ('Gravity', 0.023129470016504675)]"
      ]
     },
     "execution_count": 86,
     "metadata": {},
     "output_type": "execute_result"
    }
   ],
   "source": [
    "[(vid.title, conv) for vid, conv in average_conversation_proportions if conv < .07]"
   ]
  },
  {
   "cell_type": "code",
   "execution_count": 77,
   "metadata": {
    "ExecuteTime": {
     "end_time": "2019-01-14T07:50:23.674291Z",
     "start_time": "2019-01-14T07:50:23.646968Z"
    }
   },
   "outputs": [
    {
     "data": {
      "text/plain": [
       "540"
      ]
     },
     "execution_count": 77,
     "metadata": {},
     "output_type": "execute_result"
    }
   ],
   "source": [
    "len(average_conversation_proportions)"
   ]
  },
  {
   "cell_type": "code",
   "execution_count": 80,
   "metadata": {
    "ExecuteTime": {
     "end_time": "2019-01-14T07:50:47.865716Z",
     "start_time": "2019-01-14T07:50:47.838705Z"
    }
   },
   "outputs": [],
   "source": [
    "hitchcock_films = Video.objects.filter(directors__name=\"Alfred Hitchcock\")"
   ]
  },
  {
   "cell_type": "code",
   "execution_count": 87,
   "metadata": {
    "ExecuteTime": {
     "end_time": "2019-01-14T08:36:00.554807Z",
     "start_time": "2019-01-14T08:36:00.527082Z"
    }
   },
   "outputs": [
    {
     "data": {
      "text/plain": [
       "35"
      ]
     },
     "execution_count": 87,
     "metadata": {},
     "output_type": "execute_result"
    }
   ],
   "source": [
    "hitchcock_films.count()"
   ]
  },
  {
   "cell_type": "code",
   "execution_count": 81,
   "metadata": {
    "ExecuteTime": {
     "end_time": "2019-01-14T07:50:48.606839Z",
     "start_time": "2019-01-14T07:50:48.548845Z"
    }
   },
   "outputs": [
    {
     "data": {
      "text/plain": [
       "0.5106541272701378"
      ]
     },
     "execution_count": 81,
     "metadata": {},
     "output_type": "execute_result"
    }
   ],
   "source": [
    "np.mean([conv for vid, conv in average_conversation_proportions\n",
    "         if vid in hitchcock_films])"
   ]
  },
  {
   "cell_type": "code",
   "execution_count": 88,
   "metadata": {
    "ExecuteTime": {
     "end_time": "2019-01-14T08:36:08.857376Z",
     "start_time": "2019-01-14T08:36:07.543855Z"
    }
   },
   "outputs": [
    {
     "data": {
      "text/plain": [
       "0.24295104505763582"
      ]
     },
     "execution_count": 88,
     "metadata": {},
     "output_type": "execute_result"
    }
   ],
   "source": [
    "np.mean([conv for vid, conv in average_conversation_proportions\n",
    "         if vid in Video.objects.filter(directors__name=\"Justin Lin\")])"
   ]
  },
  {
   "cell_type": "code",
   "execution_count": 71,
   "metadata": {
    "ExecuteTime": {
     "end_time": "2019-01-14T07:49:43.032165Z",
     "start_time": "2019-01-14T07:49:42.989292Z"
    }
   },
   "outputs": [],
   "source": [
    "def plot_avg_conversation_time_by_year(average_conversation_proportions, min_year=None, filename=None):\n",
    "    data = sorted([(v.year, conversation_proportion) for v, conversation_proportion in average_conversation_proportions])\n",
    "    if min_year is not None:\n",
    "        data = [d for d in data if d[0] >= min_year]\n",
    "\n",
    "    x = [d[0] for d in data]\n",
    "    y = [d[1] for d in data]\n",
    "    \n",
    "    fig, ax = plt.subplots(figsize=(6.666, 3.333))\n",
    "    fig.set_size_inches(6.666, 3.333)\n",
    "    ax.set_xticks(range(1915, 2016, 25))\n",
    "    ax.scatter(x, y, s=3, color='#4C4C4C')\n",
    "    ax.set_ylim(0, 1)\n",
    "    ax.set_xlabel('Year')\n",
    "    ax.set_ylabel('Average Shot Duration (seconds)')\n",
    "    ax.set_title('Average shot durations over time')\n",
    "    \n",
    "    #ax.set_yscale('symlog')\n",
    "    \n",
    "    ax.plot(np.unique(x), np.poly1d(np.polyfit(x, y, 3))(np.unique(x)), color='#E41A1C')\n",
    "#     ax.plot(np.unique(x), np.poly1d(np.polyfit(x, y, 1))(np.unique(x)))\n",
    "    if filename is not None:\n",
    "        plt.savefig(filename)\n",
    "    plt.show()"
   ]
  },
  {
   "cell_type": "code",
   "execution_count": 72,
   "metadata": {
    "ExecuteTime": {
     "end_time": "2019-01-14T07:49:53.205909Z",
     "start_time": "2019-01-14T07:49:53.047527Z"
    }
   },
   "outputs": [
    {
     "data": {
      "image/png": "[encoded data removed]",
      "text/plain": [
       "<matplotlib.figure.Figure at 0x7f65c9547668>"
      ]
     },
     "metadata": {
      "needs_background": "light"
     },
     "output_type": "display_data"
    }
   ],
   "source": [
    "plot_avg_conversation_time_by_year(average_conversation_proportions, min_year=1930)"
   ]
  }
 ],
 "metadata": {
  "kernelspec": {
   "display_name": "Django Shell-Plus",
   "language": "python",
   "name": "django_extensions"
  },
  "language_info": {
   "codemirror_mode": {
    "name": "ipython",
    "version": 3
   },
   "file_extension": ".py",
   "mimetype": "text/x-python",
   "name": "python",
   "nbconvert_exporter": "python",
   "pygments_lexer": "ipython3",
   "version": "3.5.2"
  },
  "toc": {
   "nav_menu": {},
   "number_sections": true,
   "sideBar": true,
   "skip_h1_title": false,
   "toc_cell": false,
   "toc_position": {},
   "toc_section_display": "block",
   "toc_window_display": false
  }
 },
 "nbformat": 4,
 "nbformat_minor": 2
}
