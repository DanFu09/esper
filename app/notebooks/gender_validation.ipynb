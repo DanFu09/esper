{
 "cells": [
  {
   "cell_type": "code",
   "execution_count": null,
   "metadata": {
    "ExecuteTime": {
     "end_time": "2019-01-07T02:29:22.312189Z",
     "start_time": "2019-01-07T02:29:20.385483Z"
    }
   },
   "outputs": [],
   "source": [
    "%matplotlib inline\n",
    "\n",
    "print('Loading libraries... Please wait.')\n",
    "\n",
    "from IPython.display import display, clear_output\n",
    "import ipywidgets as widgets\n",
    "import random\n",
    "import sys\n",
    "from sklearn.metrics import confusion_matrix, accuracy_score, roc_curve, auc\n",
    "from sklearn.calibration import calibration_curve\n",
    "\n",
    "from esper.prelude import *\n",
    "from esper.stdlib import *\n",
    "import esper.face_embeddings as face_embeddings"
   ]
  },
  {
   "cell_type": "markdown",
   "metadata": {},
   "source": [
    "# Gender Validation\n",
    "How good is our gender classifier? How accurate are the scores?"
   ]
  },
  {
   "cell_type": "markdown",
   "metadata": {},
   "source": [
    "We have two sources of ground truth for gender labels: manual gender labels and genders from identities."
   ]
  },
  {
   "cell_type": "markdown",
   "metadata": {},
   "source": [
    "## Confusion Matrix from gender handlabels"
   ]
  },
  {
   "cell_type": "code",
   "execution_count": null,
   "metadata": {
    "ExecuteTime": {
     "end_time": "2019-01-07T02:29:29.995683Z",
     "start_time": "2019-01-07T02:29:29.904824Z"
    }
   },
   "outputs": [],
   "source": [
    "HANDLABELER_NAME = 'handlabeled-gender-validation'\n",
    "MODEL_LABELER_NAME = 'rudecarnie'\n",
    "def print_gender_validation_stats(normalize=False, threshold=0.5):\n",
    "    labeler = Labeler.objects.get(name=HANDLABELER_NAME)\n",
    "    hand_face_genders = {\n",
    "        fg['face__id']: fg['gender__id']\n",
    "        for fg in FaceGender.objects.filter(\n",
    "            labeler=labeler\n",
    "        ).values('face__id', 'gender__id')\n",
    "    }\n",
    "    gender_id_dict = {g.name: g.id for g in Gender.objects.all()}\n",
    "    male_count = sum((\n",
    "        1 for g in hand_face_genders.values() if g == gender_id_dict['M']\n",
    "    ))\n",
    "    female_count = sum((\n",
    "        1 for g in hand_face_genders.values() if g == gender_id_dict['F']\n",
    "    ))\n",
    "    print('{} faces have been hand-labeled ({} male, {} female)'.format(\n",
    "          len(hand_face_genders), male_count, female_count))\n",
    "    \n",
    "    y_pred = []\n",
    "    y_truth = []\n",
    "    for fg in FaceGender.objects.filter(\n",
    "        face__id__in=list(hand_face_genders.keys()), \n",
    "        labeler__name=MODEL_LABELER_NAME\n",
    "    ).values('face__id', 'gender__id', 'probability'):\n",
    "        male_probability = fg['probability'] if fg['gender__id'] == gender_id_dict['M'] else 1 - fg['probability']\n",
    "        y_pred.append(\n",
    "            gender_id_dict['M' if male_probability >= threshold else 'F']\n",
    "        )\n",
    "        y_truth.append(hand_face_genders[fg['face__id']])\n",
    "    \n",
    "    cm = confusion_matrix(y_truth, y_pred)\n",
    "    \n",
    "    if normalize:\n",
    "        cm = cm.astype('float') / cm.sum(axis=1)[:, np.newaxis]\n",
    "\n",
    "    classes = ['Male', 'Female']\n",
    "    plt.figure(figsize=(5, 5))\n",
    "    plt.imshow(cm, interpolation='nearest', cmap=plt.cm.Reds)\n",
    "    plt.title('Gender confusion matrix')\n",
    "    plt.colorbar()\n",
    "    tick_marks = np.arange(len(classes))\n",
    "    plt.xticks(tick_marks, classes, rotation=45)\n",
    "    plt.yticks(tick_marks, classes)\n",
    "\n",
    "    fmt = '.2f' if normalize else 'd'\n",
    "    thresh = cm.max() / 2.\n",
    "    for i, j in itertools.product(range(cm.shape[0]), range(cm.shape[1])):\n",
    "        plt.text(j, i, format(cm[i, j], fmt),\n",
    "                 horizontalalignment=\"center\",\n",
    "                 color=\"white\" if cm[i, j] > thresh else \"black\")\n",
    "\n",
    "    plt.ylabel('Hand label')\n",
    "    plt.xlabel('Predicted label')\n",
    "    plt.tight_layout()\n",
    "    plt.show()\n",
    "    \n",
    "    print('Overall accuracy: {:0.2f}'.format(\n",
    "          accuracy_score(y_truth, y_pred)))"
   ]
  },
  {
   "cell_type": "code",
   "execution_count": null,
   "metadata": {
    "ExecuteTime": {
     "end_time": "2019-01-07T02:40:02.744509Z",
     "start_time": "2019-01-07T02:40:00.037668Z"
    }
   },
   "outputs": [],
   "source": [
    "print_gender_validation_stats(normalize=False)\n",
    "print_gender_validation_stats(normalize=False, threshold=0.8)\n",
    "print_gender_validation_stats(normalize=True)\n",
    "print_gender_validation_stats(normalize=True, threshold=0.8)"
   ]
  },
  {
   "cell_type": "markdown",
   "metadata": {},
   "source": [
    "## ROC curve from gender handlabels (male)"
   ]
  },
  {
   "cell_type": "code",
   "execution_count": null,
   "metadata": {
    "ExecuteTime": {
     "end_time": "2019-01-07T01:26:57.209238Z",
     "start_time": "2019-01-07T01:26:57.132170Z"
    }
   },
   "outputs": [],
   "source": [
    "def plot_gender_roc_curve(gender='M'):\n",
    "    labeler = Labeler.objects.get(name=HANDLABELER_NAME)\n",
    "    hand_face_genders = {\n",
    "        fg['face__id']: fg['gender__id']\n",
    "        for fg in FaceGender.objects.filter(\n",
    "            labeler=labeler\n",
    "        ).values('face__id', 'gender__id')\n",
    "    }\n",
    "    gender_id_dict = {g.name: g.id for g in Gender.objects.all()}\n",
    "    male_count = sum((\n",
    "        1 for g in hand_face_genders.values() if g == gender_id_dict['M']\n",
    "    ))\n",
    "    female_count = sum((\n",
    "        1 for g in hand_face_genders.values() if g == gender_id_dict['F']\n",
    "    ))\n",
    "    print('{} faces have been hand-labeled ({} male, {} female)'.format(\n",
    "          len(hand_face_genders), male_count, female_count))\n",
    "    \n",
    "    y_score = []\n",
    "    y_truth = []\n",
    "    for fg in FaceGender.objects.filter(\n",
    "        face__id__in=list(hand_face_genders.keys()), \n",
    "        labeler__name=MODEL_LABELER_NAME\n",
    "    ).values('face__id', 'gender__id', 'probability'):\n",
    "        if fg['gender__id'] == gender_id_dict[gender]:\n",
    "            y_score.append(fg['probability'])\n",
    "        else:\n",
    "            y_score.append(1-fg['probability'])\n",
    "        y_truth.append(1 if hand_face_genders[fg['face__id']] == gender_id_dict[gender] else 0)\n",
    "    fpr, tpr, _ = roc_curve(y_truth, y_score)\n",
    "    roc_auc = auc(fpr, tpr)\n",
    "    \n",
    "    plt.figure()\n",
    "    lw = 2\n",
    "    plt.plot(fpr, tpr, color='darkorange',\n",
    "             lw=lw, label='ROC curve (area = %0.2f)' % roc_auc)\n",
    "    plt.plot([0, 1], [0, 1], color='navy', lw=lw, linestyle='--')\n",
    "    plt.xlim([0.0, 1.0])\n",
    "    plt.ylim([0.0, 1.05])\n",
    "    plt.xlabel('False Positive Rate')\n",
    "    plt.ylabel('True Positive Rate')\n",
    "    plt.title('ROC for gender classifier')\n",
    "    plt.legend(loc=\"lower right\")\n",
    "    plt.show()"
   ]
  },
  {
   "cell_type": "code",
   "execution_count": null,
   "metadata": {
    "ExecuteTime": {
     "end_time": "2019-01-07T01:26:59.644051Z",
     "start_time": "2019-01-07T01:26:58.440543Z"
    }
   },
   "outputs": [],
   "source": [
    "plot_gender_roc_curve(gender='M')\n",
    "plot_gender_roc_curve(gender='F')"
   ]
  },
  {
   "cell_type": "markdown",
   "metadata": {},
   "source": [
    "## Calibration Curves"
   ]
  },
  {
   "cell_type": "code",
   "execution_count": null,
   "metadata": {
    "ExecuteTime": {
     "end_time": "2019-01-07T02:32:27.869474Z",
     "start_time": "2019-01-07T02:32:27.795252Z"
    }
   },
   "outputs": [],
   "source": [
    "def plot_calibration_curve(gender='M', bins=10):\n",
    "    labeler = Labeler.objects.get(name=HANDLABELER_NAME)\n",
    "    hand_face_genders = {\n",
    "        fg['face__id']: fg['gender__id']\n",
    "        for fg in FaceGender.objects.filter(\n",
    "            labeler=labeler\n",
    "        ).values('face__id', 'gender__id')\n",
    "    }\n",
    "    gender_id_dict = {g.name: g.id for g in Gender.objects.all()}\n",
    "    male_count = sum((\n",
    "        1 for g in hand_face_genders.values() if g == gender_id_dict['M']\n",
    "    ))\n",
    "    female_count = sum((\n",
    "        1 for g in hand_face_genders.values() if g == gender_id_dict['F']\n",
    "    ))\n",
    "    print('{} faces have been hand-labeled ({} male, {} female)'.format(\n",
    "          len(hand_face_genders), male_count, female_count))\n",
    "    \n",
    "    y_score = []\n",
    "    y_truth = []\n",
    "    for fg in FaceGender.objects.filter(\n",
    "        face__id__in=list(hand_face_genders.keys()), \n",
    "        labeler__name=MODEL_LABELER_NAME\n",
    "    ).values('face__id', 'gender__id', 'probability'):\n",
    "        if fg['gender__id'] == gender_id_dict[gender]:\n",
    "            y_score.append(fg['probability'])\n",
    "        else:\n",
    "            y_score.append(1-fg['probability'])\n",
    "        y_truth.append(1 if hand_face_genders[fg['face__id']] == gender_id_dict[gender] else 0)\n",
    "    \n",
    "    fraction_of_positives, mean_predicted_values = calibration_curve(y_truth, y_score, n_bins=bins)\n",
    "    \n",
    "    plt.figure()\n",
    "    lw = 2\n",
    "    plt.plot(mean_predicted_values, fraction_of_positives, 's-', color='darkorange',\n",
    "             lw=lw, label='Calibration curve')\n",
    "    plt.plot([0, 1], [0, 1], color='navy', lw=lw, linestyle='--')\n",
    "    plt.xlim([0.0, 1.0])\n",
    "    plt.ylim([0.0, 1.05])\n",
    "    plt.xlabel('Mean predicted value')\n",
    "    plt.ylabel('Count')\n",
    "    plt.title('Calibration curve for gender classifier')\n",
    "    plt.legend(loc=\"lower right\")\n",
    "    plt.show()"
   ]
  },
  {
   "cell_type": "code",
   "execution_count": null,
   "metadata": {
    "ExecuteTime": {
     "end_time": "2019-01-07T03:34:20.762829Z",
     "start_time": "2019-01-07T03:34:19.485375Z"
    }
   },
   "outputs": [],
   "source": [
    "plot_calibration_curve(bins=25)\n",
    "plot_calibration_curve('F', bins=25)"
   ]
  },
  {
   "cell_type": "markdown",
   "metadata": {},
   "source": [
    "## Train a logistic classifier on the output of the gender classifier"
   ]
  },
  {
   "cell_type": "code",
   "execution_count": null,
   "metadata": {
    "ExecuteTime": {
     "end_time": "2019-01-07T03:15:10.092273Z",
     "start_time": "2019-01-07T03:15:09.532272Z"
    }
   },
   "outputs": [],
   "source": [
    "labeler = Labeler.objects.get(name=HANDLABELER_NAME)\n",
    "hand_face_genders = {\n",
    "    fg['face__id']: fg['gender__id']\n",
    "    for fg in FaceGender.objects.filter(\n",
    "        labeler=labeler\n",
    "    ).values('face__id', 'gender__id')\n",
    "}\n",
    "gender_id_dict = {g.name: g.id for g in Gender.objects.all()}\n",
    "male_count = sum((\n",
    "    1 for g in hand_face_genders.values() if g == gender_id_dict['M']\n",
    "))\n",
    "female_count = sum((\n",
    "    1 for g in hand_face_genders.values() if g == gender_id_dict['F']\n",
    "))\n",
    "print('{} faces have been hand-labeled ({} male, {} female)'.format(\n",
    "      len(hand_face_genders), male_count, female_count))\n",
    "\n",
    "y_score = []\n",
    "y_truth = []\n",
    "for fg in FaceGender.objects.filter(\n",
    "    face__id__in=list(hand_face_genders.keys()), \n",
    "    labeler__name=MODEL_LABELER_NAME\n",
    ").order_by('?').values('face__id', 'gender__id', 'probability'):\n",
    "    if fg['gender__id'] == gender_id_dict['M']:\n",
    "        y_score.append(fg['probability'])\n",
    "    else:\n",
    "        y_score.append(1-fg['probability'])\n",
    "    y_truth.append(1 if hand_face_genders[fg['face__id']] == gender_id_dict['M'] else 0)"
   ]
  },
  {
   "cell_type": "code",
   "execution_count": null,
   "metadata": {
    "ExecuteTime": {
     "end_time": "2019-01-07T03:21:59.403889Z",
     "start_time": "2019-01-07T03:21:59.355501Z"
    }
   },
   "outputs": [],
   "source": [
    "training_size=5000\n",
    "y_train = np.array(y_truth[:training_size])\n",
    "y_test = np.array(y_truth[training_size:])\n",
    "\n",
    "x_train = np.array(y_score[:training_size])\n",
    "x_test = np.array(y_score[training_size:])"
   ]
  },
  {
   "cell_type": "code",
   "execution_count": null,
   "metadata": {
    "ExecuteTime": {
     "end_time": "2019-01-07T03:18:45.790081Z",
     "start_time": "2019-01-07T03:18:45.722862Z"
    }
   },
   "outputs": [],
   "source": [
    "from sklearn.linear_model import LogisticRegression as LR\n",
    "\n",
    "lr = LR()                                                       \n",
    "lr.fit( x_train.reshape( -1, 1 ), y_train )     # LR needs X to be 2-dimensional\n",
    "#y_calibrated = lr.predict_proba( x_test.reshape( -1, 1 ))[:,1]"
   ]
  },
  {
   "cell_type": "code",
   "execution_count": null,
   "metadata": {
    "ExecuteTime": {
     "end_time": "2019-01-07T03:15:38.898622Z",
     "start_time": "2019-01-07T03:15:38.658007Z"
    }
   },
   "outputs": [],
   "source": [
    "fraction_of_positives, mean_predicted_values = calibration_curve(y_test, y_calibrated, n_bins=25)\n",
    "    \n",
    "plt.figure()\n",
    "lw = 2\n",
    "plt.plot(mean_predicted_values, fraction_of_positives, 's-', color='darkorange',\n",
    "         lw=lw, label='Calibration curve')\n",
    "plt.plot([0, 1], [0, 1], color='navy', lw=lw, linestyle='--')\n",
    "plt.xlim([0.0, 1.0])\n",
    "plt.ylim([0.0, 1.05])\n",
    "plt.xlabel('Mean predicted value')\n",
    "plt.ylabel('Count')\n",
    "plt.title('Calibration curve for gender classifier')\n",
    "plt.legend(loc=\"lower right\")\n",
    "plt.show()"
   ]
  },
  {
   "cell_type": "code",
   "execution_count": null,
   "metadata": {
    "ExecuteTime": {
     "end_time": "2019-01-07T03:18:55.541774Z",
     "start_time": "2019-01-07T03:18:55.497753Z"
    }
   },
   "outputs": [],
   "source": [
    "print(lr.coef_)"
   ]
  },
  {
   "cell_type": "code",
   "execution_count": null,
   "metadata": {
    "ExecuteTime": {
     "end_time": "2019-01-07T03:18:56.405489Z",
     "start_time": "2019-01-07T03:18:56.361018Z"
    }
   },
   "outputs": [],
   "source": [
    "print(lr.intercept_)"
   ]
  },
  {
   "cell_type": "code",
   "execution_count": null,
   "metadata": {
    "ExecuteTime": {
     "end_time": "2019-01-07T03:22:38.030705Z",
     "start_time": "2019-01-07T03:22:37.985154Z"
    }
   },
   "outputs": [],
   "source": [
    "lr.score( x_train.reshape( -1, 1 ), y_train )"
   ]
  },
  {
   "cell_type": "code",
   "execution_count": null,
   "metadata": {
    "ExecuteTime": {
     "end_time": "2019-01-07T03:22:56.809962Z",
     "start_time": "2019-01-07T03:22:56.759108Z"
    }
   },
   "outputs": [],
   "source": [
    "lr.score( x_test.reshape( -1, 1 ), y_test )"
   ]
  },
  {
   "cell_type": "code",
   "execution_count": null,
   "metadata": {
    "ExecuteTime": {
     "end_time": "2019-01-07T03:18:57.767429Z",
     "start_time": "2019-01-07T03:18:57.722803Z"
    }
   },
   "outputs": [],
   "source": [
    "lr.predict_proba(np.array([.001]).reshape(-1, 1))[:,1]"
   ]
  },
  {
   "cell_type": "markdown",
   "metadata": {},
   "source": [
    "## Linear Regression on output of gender classifier"
   ]
  },
  {
   "cell_type": "code",
   "execution_count": null,
   "metadata": {
    "ExecuteTime": {
     "end_time": "2019-01-07T03:27:44.373171Z",
     "start_time": "2019-01-07T03:27:44.320499Z"
    }
   },
   "outputs": [],
   "source": [
    "from sklearn.linear_model import LinearRegression as LinR\n",
    "\n",
    "linr = LinR()                                                       \n",
    "linr.fit( x_train.reshape( -1, 1 ), y_train )     # LR needs X to be 2-dimensional\n",
    "print(linr.coef_[0], linr.intercept_)\n",
    "y_calibrated = [linr.coef_[0] * score + linr.intercept_ for score in x_test]"
   ]
  },
  {
   "cell_type": "code",
   "execution_count": null,
   "metadata": {
    "ExecuteTime": {
     "end_time": "2019-01-07T03:27:45.438640Z",
     "start_time": "2019-01-07T03:27:45.191642Z"
    }
   },
   "outputs": [],
   "source": [
    "fraction_of_positives, mean_predicted_values = calibration_curve(y_test, y_calibrated, n_bins=25)\n",
    "    \n",
    "plt.figure()\n",
    "lw = 2\n",
    "plt.plot(mean_predicted_values, fraction_of_positives, 's-', color='darkorange',\n",
    "         lw=lw, label='Calibration curve')\n",
    "plt.plot([0, 1], [0, 1], color='navy', lw=lw, linestyle='--')\n",
    "plt.xlim([0.0, 1.0])\n",
    "plt.ylim([0.0, 1.05])\n",
    "plt.xlabel('Mean predicted value')\n",
    "plt.ylabel('Count')\n",
    "plt.title('Calibration curve for gender classifier')\n",
    "plt.legend(loc=\"lower right\")\n",
    "plt.show()"
   ]
  },
  {
   "cell_type": "code",
   "execution_count": null,
   "metadata": {
    "ExecuteTime": {
     "end_time": "2019-01-07T03:27:46.768975Z",
     "start_time": "2019-01-07T03:27:46.721635Z"
    }
   },
   "outputs": [],
   "source": [
    "linr.score( x_test.reshape( -1, 1 ), y_test )"
   ]
  },
  {
   "cell_type": "markdown",
   "metadata": {},
   "source": [
    "## KNN on labeled dataset"
   ]
  },
  {
   "cell_type": "code",
   "execution_count": null,
   "metadata": {
    "ExecuteTime": {
     "end_time": "2019-01-07T05:26:26.202608Z",
     "start_time": "2019-01-07T05:26:26.146863Z"
    }
   },
   "outputs": [],
   "source": [
    "import random\n",
    "face_ids = list(hand_face_genders.keys())\n",
    "random.shuffle(face_ids)"
   ]
  },
  {
   "cell_type": "code",
   "execution_count": null,
   "metadata": {
    "ExecuteTime": {
     "end_time": "2019-01-07T06:05:19.637485Z",
     "start_time": "2019-01-07T06:05:19.588270Z"
    }
   },
   "outputs": [],
   "source": [
    "knn_training_ids = face_ids[:10000]\n",
    "knn_test_ids = face_ids[10000:]"
   ]
  },
  {
   "cell_type": "code",
   "execution_count": null,
   "metadata": {
    "ExecuteTime": {
     "end_time": "2019-01-07T05:28:22.758571Z",
     "start_time": "2019-01-07T05:28:22.715864Z"
    }
   },
   "outputs": [],
   "source": [
    "import esper.face_embeddings"
   ]
  },
  {
   "cell_type": "code",
   "execution_count": null,
   "metadata": {
    "ExecuteTime": {
     "end_time": "2019-01-07T06:05:21.803535Z",
     "start_time": "2019-01-07T06:05:21.517185Z"
    }
   },
   "outputs": [],
   "source": [
    "training_features = face_embeddings.features(knn_training_ids)\n",
    "test_features = face_embeddings.features(knn_test_ids)"
   ]
  },
  {
   "cell_type": "code",
   "execution_count": null,
   "metadata": {
    "ExecuteTime": {
     "end_time": "2019-01-07T06:05:22.998280Z",
     "start_time": "2019-01-07T06:05:22.944190Z"
    }
   },
   "outputs": [],
   "source": [
    "training_ground_truth = [\n",
    "    1 if hand_face_genders[fid] == gender_id_dict['M'] else 0\n",
    "    for fid in knn_training_ids\n",
    "]\n",
    "test_ground_truth = [\n",
    "    1 if hand_face_genders[fid] == gender_id_dict['M'] else 0\n",
    "    for fid in knn_test_ids\n",
    "]"
   ]
  },
  {
   "cell_type": "code",
   "execution_count": null,
   "metadata": {
    "ExecuteTime": {
     "end_time": "2019-01-07T05:32:38.397244Z",
     "start_time": "2019-01-07T05:32:38.340210Z"
    }
   },
   "outputs": [],
   "source": [
    "from sklearn.neighbors import KNeighborsClassifier"
   ]
  },
  {
   "cell_type": "code",
   "execution_count": null,
   "metadata": {
    "ExecuteTime": {
     "end_time": "2019-01-07T06:05:24.905485Z",
     "start_time": "2019-01-07T06:05:24.860827Z"
    }
   },
   "outputs": [],
   "source": [
    "neigh = KNeighborsClassifier(n_neighbors=10)"
   ]
  },
  {
   "cell_type": "code",
   "execution_count": null,
   "metadata": {
    "ExecuteTime": {
     "end_time": "2019-01-07T06:05:25.887722Z",
     "start_time": "2019-01-07T06:05:25.747158Z"
    }
   },
   "outputs": [],
   "source": [
    "neigh.fit(training_features, training_ground_truth)"
   ]
  },
  {
   "cell_type": "code",
   "execution_count": null,
   "metadata": {
    "ExecuteTime": {
     "end_time": "2019-01-07T06:05:44.852258Z",
     "start_time": "2019-01-07T06:05:27.205919Z"
    }
   },
   "outputs": [],
   "source": [
    "predicted = neigh.predict_proba(test_features)"
   ]
  },
  {
   "cell_type": "code",
   "execution_count": null,
   "metadata": {
    "ExecuteTime": {
     "end_time": "2019-01-07T06:03:17.644463Z",
     "start_time": "2019-01-07T06:03:17.597400Z"
    }
   },
   "outputs": [],
   "source": [
    "predicted[0]"
   ]
  },
  {
   "cell_type": "code",
   "execution_count": null,
   "metadata": {
    "ExecuteTime": {
     "end_time": "2019-01-07T06:05:47.869317Z",
     "start_time": "2019-01-07T06:05:47.430644Z"
    }
   },
   "outputs": [],
   "source": [
    "fraction_of_positives, mean_predicted_values = calibration_curve(test_ground_truth, [\n",
    "    p[1] for p in predicted\n",
    "], n_bins=10)\n",
    "    \n",
    "plt.figure()\n",
    "lw = 2\n",
    "plt.plot(mean_predicted_values, fraction_of_positives, 's-', color='darkorange',\n",
    "         lw=lw, label='Calibration curve')\n",
    "plt.plot([0, 1], [0, 1], color='navy', lw=lw, linestyle='--')\n",
    "plt.xlim([0.0, 1.0])\n",
    "plt.ylim([0.0, 1.05])\n",
    "plt.xlabel('Mean predicted value')\n",
    "plt.ylabel('Count')\n",
    "plt.title('Calibration curve for gender classifier')\n",
    "plt.legend(loc=\"lower right\")\n",
    "plt.show()"
   ]
  },
  {
   "cell_type": "code",
   "execution_count": null,
   "metadata": {
    "ExecuteTime": {
     "end_time": "2019-01-07T05:44:00.774632Z",
     "start_time": "2019-01-07T05:44:00.713408Z"
    }
   },
   "outputs": [],
   "source": [
    "def show_confusion_matrix(y_truth, y_pred, normalize=False):\n",
    "    cm = confusion_matrix(y_truth, y_pred)\n",
    "    \n",
    "    if normalize:\n",
    "        cm = cm.astype('float') / cm.sum(axis=1)[:, np.newaxis]\n",
    "\n",
    "    classes = ['Male', 'Female']\n",
    "    plt.figure(figsize=(5, 5))\n",
    "    plt.imshow(cm, interpolation='nearest', cmap=plt.cm.Reds)\n",
    "    plt.title('Gender confusion matrix')\n",
    "    plt.colorbar()\n",
    "    tick_marks = np.arange(len(classes))\n",
    "    plt.xticks(tick_marks, classes, rotation=45)\n",
    "    plt.yticks(tick_marks, classes)\n",
    "\n",
    "    fmt = '.2f' if normalize else 'd'\n",
    "    thresh = cm.max() / 2.\n",
    "    for i, j in itertools.product(range(cm.shape[0]), range(cm.shape[1])):\n",
    "        plt.text(j, i, format(cm[i, j], fmt),\n",
    "                 horizontalalignment=\"center\",\n",
    "                 color=\"white\" if cm[i, j] > thresh else \"black\")\n",
    "\n",
    "    plt.ylabel('Hand label')\n",
    "    plt.xlabel('Predicted label')\n",
    "    plt.tight_layout()\n",
    "    plt.show()\n",
    "    \n",
    "    print('Overall accuracy: {:0.2f}'.format(\n",
    "          accuracy_score(y_truth, y_pred)))"
   ]
  },
  {
   "cell_type": "code",
   "execution_count": null,
   "metadata": {
    "ExecuteTime": {
     "end_time": "2019-01-07T06:08:10.278519Z",
     "start_time": "2019-01-07T06:08:10.052074Z"
    }
   },
   "outputs": [],
   "source": [
    "show_confusion_matrix(\n",
    "    test_ground_truth,\n",
    "    [\n",
    "        1 if p[1] >= 0.8 else 0 for p in predicted\n",
    "    ],\n",
    "    normalize=True\n",
    ")"
   ]
  },
  {
   "cell_type": "code",
   "execution_count": null,
   "metadata": {
    "ExecuteTime": {
     "end_time": "2019-01-07T06:06:28.887374Z",
     "start_time": "2019-01-07T06:06:28.629024Z"
    }
   },
   "outputs": [],
   "source": [
    "plt.hist([p[1] for p in predicted])"
   ]
  }
 ],
 "metadata": {
  "kernelspec": {
   "display_name": "Django Shell-Plus",
   "language": "python",
   "name": "django_extensions"
  },
  "language_info": {
   "codemirror_mode": {
    "name": "ipython",
    "version": 3
   },
   "file_extension": ".py",
   "mimetype": "text/x-python",
   "name": "python",
   "nbconvert_exporter": "python",
   "pygments_lexer": "ipython3",
   "version": "3.5.2"
  },
  "toc": {
   "nav_menu": {},
   "number_sections": true,
   "sideBar": true,
   "skip_h1_title": false,
   "toc_cell": false,
   "toc_position": {},
   "toc_section_display": "block",
   "toc_window_display": false
  }
 },
 "nbformat": 4,
 "nbformat_minor": 2
}
