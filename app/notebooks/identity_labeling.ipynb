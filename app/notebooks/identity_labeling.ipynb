{
 "cells": [
  {
   "cell_type": "markdown",
   "metadata": {
    "toc": true
   },
   "source": [
    "<h1>Table of Contents<span class=\"tocSkip\"></span></h1>\n",
    "<div class=\"toc\" style=\"margin-top: 1em;\"><ul class=\"toc-item\"><li><span><a href=\"#Setup\" data-toc-modified-id=\"Setup-1\"><span class=\"toc-item-num\">1&nbsp;&nbsp;</span>Setup</a></span></li><li><span><a href=\"#Choose-a-person\" data-toc-modified-id=\"Choose-a-person-2\"><span class=\"toc-item-num\">2&nbsp;&nbsp;</span>Choose a person</a></span></li><li><span><a href=\"#Get-starting-image-examples\" data-toc-modified-id=\"Get-starting-image-examples-3\"><span class=\"toc-item-num\">3&nbsp;&nbsp;</span>Get starting image examples</a></span><ul class=\"toc-item\"><li><span><a href=\"#Option-1:-fetch-them-from-Google-Images\" data-toc-modified-id=\"Option-1:-fetch-them-from-Google-Images-3.1\"><span class=\"toc-item-num\">3.1&nbsp;&nbsp;</span>Option 1: fetch them from Google Images</a></span></li><li><span><a href=\"#Option-2:-specify-face-ids-from-Esper\" data-toc-modified-id=\"Option-2:-specify-face-ids-from-Esper-3.2\"><span class=\"toc-item-num\">3.2&nbsp;&nbsp;</span>Option 2: specify face ids from Esper</a></span></li></ul></li><li><span><a href=\"#Your-initial-reference-images\" data-toc-modified-id=\"Your-initial-reference-images-4\"><span class=\"toc-item-num\">4&nbsp;&nbsp;</span>Your initial reference images</a></span></li><li><span><a href=\"#Curating-an-initial-training-dataset\" data-toc-modified-id=\"Curating-an-initial-training-dataset-5\"><span class=\"toc-item-num\">5&nbsp;&nbsp;</span>Curating an initial training dataset</a></span><ul class=\"toc-item\"><li><span><a href=\"#Getting-negative-examples-(via-sampling)\" data-toc-modified-id=\"Getting-negative-examples-(via-sampling)-5.1\"><span class=\"toc-item-num\">5.1&nbsp;&nbsp;</span>Getting negative examples (via sampling)</a></span></li><li><span><a href=\"#Getting-positive-examples-(knn)\" data-toc-modified-id=\"Getting-positive-examples-(knn)-5.2\"><span class=\"toc-item-num\">5.2&nbsp;&nbsp;</span>Getting positive examples (knn)</a></span></li></ul></li><li><span><a href=\"#Building-a-Model\" data-toc-modified-id=\"Building-a-Model-6\"><span class=\"toc-item-num\">6&nbsp;&nbsp;</span>Building a Model</a></span><ul class=\"toc-item\"><li><span><a href=\"#Training-and-obtaining-predictions\" data-toc-modified-id=\"Training-and-obtaining-predictions-6.1\"><span class=\"toc-item-num\">6.1&nbsp;&nbsp;</span>Training and obtaining predictions</a></span></li><li><span><a href=\"#Visualize-predictions\" data-toc-modified-id=\"Visualize-predictions-6.2\"><span class=\"toc-item-num\">6.2&nbsp;&nbsp;</span>Visualize predictions</a></span></li></ul></li><li><span><a href=\"#Saving-your-model-to-Esper\" data-toc-modified-id=\"Saving-your-model-to-Esper-7\"><span class=\"toc-item-num\">7&nbsp;&nbsp;</span>Saving your model to Esper</a></span></li></ul></div>"
   ]
  },
  {
   "cell_type": "markdown",
   "metadata": {},
   "source": [
    "# Setup\n",
    "\n",
    "Before we begin, we need to load some dependencies and define some utility functions. Run the two cells below."
   ]
  },
  {
   "cell_type": "code",
   "execution_count": null,
   "metadata": {
    "ExecuteTime": {
     "end_time": "2018-12-05T01:46:09.449690Z",
     "start_time": "2018-12-05T01:46:09.386781Z"
    },
    "hide_input": true
   },
   "outputs": [],
   "source": [
    "%matplotlib inline\n",
    "\n",
    "from IPython.display import display, clear_output\n",
    "from IPython.core.pylabtools import figsize\n",
    "figsize(12, 5)\n",
    "import ipywidgets as widgets\n",
    "import time\n",
    "import traceback\n",
    "import random\n",
    "import math\n",
    "import numpy as np\n",
    "np.warnings.filterwarnings('ignore')\n",
    "import matplotlib.pyplot as plt\n",
    "from sklearn import metrics\n",
    "\n",
    "from esper.prelude import *\n",
    "from esper.stdlib import *\n",
    "from esper.identity import load_and_select_faces_from_images\n",
    "from esper.plot_util import tile_images\n",
    "from esper.major_canonical_shows import MAJOR_CANONICAL_SHOWS\n",
    "from esper import embed_google_images\n",
    "\n",
    "import esper.face_embeddings as face_embeddings"
   ]
  },
  {
   "cell_type": "code",
   "execution_count": null,
   "metadata": {
    "ExecuteTime": {
     "end_time": "2018-12-05T00:33:57.958564Z",
     "start_time": "2018-12-05T00:33:57.917348Z"
    },
    "hide_input": true
   },
   "outputs": [],
   "source": [
    "def flatten(l):\n",
    "    return [item for sublist in l for item in sublist]\n",
    "\n",
    "def query_faces(ids):\n",
    "    faces = Face.objects.filter(id__in=ids)\n",
    "    return faces.values(\n",
    "        'id', 'bbox_y1', 'bbox_y2', 'bbox_x1', 'bbox_x2',\n",
    "        'frame__number', 'frame__video__id', 'frame__video__fps',\n",
    "        'shot__min_frame', 'shot__max_frame')\n",
    "\n",
    "def query_sample(qs, n):\n",
    "    return qs.order_by('?')[:n]\n",
    "\n",
    "def query_faces_result(faces):\n",
    "    \"\"\"Replaces qs_to_result\"\"\"\n",
    "    result = []\n",
    "    for face in faces:\n",
    "        if (face.get('shot__min_frame') is not None and \n",
    "                face.get('shot__max_frame') is not None):\n",
    "            min_frame = int(\n",
    "                (face['shot__min_frame'] + \n",
    "                 face['shot__max_frame']) / 2)\n",
    "        else:\n",
    "            min_frame = face['frame__number']\n",
    "        face_result = {\n",
    "            'type': 'flat', 'label': '', \n",
    "            'elements': [{\n",
    "                'objects': [{\n",
    "                    'id': face['id'],\n",
    "                    'background': False,\n",
    "                    'type': 'bbox',\n",
    "                    'bbox_y1': face['bbox_y1'],\n",
    "                    'bbox_y2': face['bbox_y2'],\n",
    "                    'bbox_x1': face['bbox_x1'],\n",
    "                    'bbox_x2': face['bbox_x2'],\n",
    "                }], \n",
    "                'min_frame': min_frame,\n",
    "                'video': face['frame__video__id']\n",
    "            }]\n",
    "        }\n",
    "        result.append(face_result)\n",
    "    return {'type': 'Face', 'count': 0, 'result': result}\n",
    "\n",
    "def load_face_img(face):\n",
    "    return crop(load_frame(face.frame.video, face.frame.number, []), face)\n",
    "\n",
    "def sort_ids_by_distance(ids, embs):\n",
    "    dists = face_embeddings.dist(ids, targets=embs)\n",
    "    return [i for _, i in sorted(zip(dists, ids))]\n",
    "\n",
    "def sort_faces_by_distance(faces, embs, ascending=False):\n",
    "    ids = [f['id'] for f in faces]\n",
    "    id_to_dist = {\n",
    "        k: v for k, v in zip(ids, face_embeddings.dist(ids, targets=embs))\n",
    "    }\n",
    "    order_const = 1 if ascending else -1\n",
    "    faces.sort(key=lambda x: order_const * id_to_dist[x['id']])\n",
    "    return faces"
   ]
  },
  {
   "cell_type": "markdown",
   "metadata": {},
   "source": [
    "# Choose a person\n",
    "\n",
    "Please select a person for whom you would like to build a model for."
   ]
  },
  {
   "cell_type": "code",
   "execution_count": null,
   "metadata": {
    "ExecuteTime": {
     "end_time": "2018-12-05T00:34:05.117684Z",
     "start_time": "2018-12-05T00:34:01.139777Z"
    }
   },
   "outputs": [],
   "source": [
    "name = input('Enter a name: ').strip()\n",
    "assert name != '', 'Name cannot be the empty string'"
   ]
  },
  {
   "cell_type": "markdown",
   "metadata": {},
   "source": [
    "# Get starting image examples\n",
    "\n",
    "In order to train a binary model to identify a person, we need to find some initial visual examples of the target person. We will use these initial example images to build a training set to train the model.\n",
    "\n",
    "We have provided two options for how to obtain these starting images: via Google Image Search and face ids from Esper. You only need to do one of the options."
   ]
  },
  {
   "cell_type": "markdown",
   "metadata": {},
   "source": [
    "## Option 1: fetch them from Google Images\n",
    "\n",
    "The following code fetches images using Google Image Search. You will be asked to select, from the faces in the results, which faces are your target person."
   ]
  },
  {
   "cell_type": "code",
   "execution_count": null,
   "metadata": {
    "ExecuteTime": {
     "end_time": "2018-12-05T02:46:48.477973Z",
     "start_time": "2018-12-05T02:46:23.812310Z"
    },
    "scrolled": false
   },
   "outputs": [],
   "source": [
    "img_dir = embed_google_images.fetch_images(name)\n",
    "\n",
    "# If the images returned are not satisfactory, rerun the above with extra params:\n",
    "#     query_extras='' # additional keywords to add to search\n",
    "#     force=True      # ignore cached images\n",
    "\n",
    "# TODO: use Esper to select images\n",
    "face_imgs = flatten(load_and_select_faces_from_images(img_dir))\n",
    "face_embs = embed_google_images.embed_images(face_imgs)\n",
    "face_ids = []\n",
    "assert(len(face_embs) == len(face_imgs))"
   ]
  },
  {
   "cell_type": "markdown",
   "metadata": {},
   "source": [
    "## Option 2: specify face ids from Esper\n",
    "\n",
    "If you already know a set of Esper face identifiers corresponding to the target person, then you can specify an initial set of face idenitifiers below. Running `confirm_selected_faces()` will display the faces in an interactive widget and let you ignore some of the ids (pressing the '\\]' key while hovering). Any faces not marked as \"ignore\" will be selected. "
   ]
  },
  {
   "cell_type": "code",
   "execution_count": null,
   "metadata": {
    "ExecuteTime": {
     "end_time": "2018-12-05T01:23:47.305067Z",
     "start_time": "2018-12-05T01:23:47.266149Z"
    }
   },
   "outputs": [],
   "source": [
    "face_ids = [\n",
    "    644710, 4686364, 2678025, 62032, 13248, 4846879, 4804861, 561270, 2651257,\n",
    "    2083010, 2117202, 1848221, 2495606, 4465870, 3801638, 865102, 3861979, 4146727,\n",
    "    3358820, 2087225, 1032403, 1137346, 2220864, 5384396, 3885087, 5107580, 2856632,\n",
    "    335131, 4371949, 533850, 5384760, 3335516\n",
    "]"
   ]
  },
  {
   "cell_type": "code",
   "execution_count": null,
   "metadata": {
    "ExecuteTime": {
     "end_time": "2018-12-05T01:25:04.608224Z",
     "start_time": "2018-12-05T01:25:04.560114Z"
    },
    "hide_input": true,
    "scrolled": false
   },
   "outputs": [],
   "source": [
    "def confirm_selected_faces():        \n",
    "    submit_button = widgets.Button(\n",
    "        layout=widgets.Layout(width='auto'),\n",
    "        style={'description_width': 'initial'},\n",
    "        description='Confirm selection',\n",
    "        disabled=False,\n",
    "        button_style='danger',\n",
    "        tooltip='Submit labels',\n",
    "        icon='check'\n",
    "    )\n",
    "    \n",
    "    example_faces = query_faces(sorted(face_ids))\n",
    "    example_selection_widget = esper_widget(\n",
    "        query_faces_result(example_faces),\n",
    "        crop_bboxes=True, jupyter_keybindings=True\n",
    "    )\n",
    "    \n",
    "    def on_submit(b):\n",
    "        ignored_example_face_idxs = set(example_selection_widget.ignored)\n",
    "        example_selection_widget.close()\n",
    "        clear_output()\n",
    "\n",
    "        print('You deselected {} faces.'.format(len(ignored_example_face_idxs)))\n",
    "        global face_ids, face_imgs, face_embs\n",
    "        face_ids = [\n",
    "            f['id'] for i, f in enumerate(example_faces) \n",
    "            if i not in ignored_example_face_idxs\n",
    "        ]\n",
    "        face_imgs = par_for(load_face_img, Face.objects.filter(id__in=face_ids))\n",
    "        face_embs = [x for _, x in face_embeddings.get(face_ids)]\n",
    "    \n",
    "    submit_button.on_click(on_submit)\n",
    "    \n",
    "    display(widgets.HBox([widgets.Label('Controls:'), submit_button]))\n",
    "    display(example_selection_widget)"
   ]
  },
  {
   "cell_type": "code",
   "execution_count": null,
   "metadata": {
    "ExecuteTime": {
     "end_time": "2018-12-05T02:46:18.045004Z",
     "start_time": "2018-12-05T02:46:14.749804Z"
    },
    "scrolled": false
   },
   "outputs": [],
   "source": [
    "confirm_selected_faces()"
   ]
  },
  {
   "cell_type": "markdown",
   "metadata": {},
   "source": [
    "# Your initial reference images\n",
    "\n",
    "You can always view your initial set of reference images by running `show_reference_imgs()`. This can come in handy if you are unsure if a face is the target or not."
   ]
  },
  {
   "cell_type": "code",
   "execution_count": null,
   "metadata": {
    "ExecuteTime": {
     "start_time": "2018-12-05T03:17:59.547Z"
    },
    "hide_input": true
   },
   "outputs": [],
   "source": [
    "reference_imgs = tile_images(\n",
    "    [cv2.resize(x, (100, 100)) for x in face_imgs], \n",
    "    cols=10, blank_value=255)\n",
    "def show_reference_imgs():\n",
    "    print('Your inital reference images for {}.'.format(name))\n",
    "    plt.figure()\n",
    "    imshow(reference_imgs)\n",
    "    plt.tight_layout()\n",
    "    plt.show()"
   ]
  },
  {
   "cell_type": "code",
   "execution_count": null,
   "metadata": {
    "ExecuteTime": {
     "start_time": "2018-12-05T03:17:59.967Z"
    }
   },
   "outputs": [],
   "source": [
    "show_reference_imgs()"
   ]
  },
  {
   "cell_type": "markdown",
   "metadata": {},
   "source": [
    "# Curating an initial training dataset\n",
    "\n",
    "Hooray! We have our initial reference images. However, these are still too few to train a model. This section will rectify that by constructing a dataset of sufficient diversity and size to begin training."
   ]
  },
  {
   "cell_type": "markdown",
   "metadata": {},
   "source": [
    "## Getting negative examples (via sampling)"
   ]
  },
  {
   "cell_type": "code",
   "execution_count": null,
   "metadata": {
    "ExecuteTime": {
     "end_time": "2018-12-05T01:06:37.245748Z",
     "start_time": "2018-12-05T01:06:37.210320Z"
    }
   },
   "outputs": [],
   "source": [
    "neg_examples = face_embeddings.sample(10000)"
   ]
  },
  {
   "cell_type": "markdown",
   "metadata": {
    "hide_input": true
   },
   "source": [
    "<b> Optional: Cleaning the negative samples</b>\n",
    "\n",
    "Faces on TV news do not receive equal screen time. Political figures such as Donald Trump and Hillary Clinton can comprise up to 2% of the total faces in the dataset. This is sufficient to appear when performing negative sampling. `select_negative_samples()` allows you to select these faces that are the target person, remove them from the negative samples, and add them them to positive examples set. To select a single face, hover and press '\\['; to select an entire page of faces, press '\\{'. \n",
    "\n",
    "You can rerun `select_negative_samples()` as many times as needed."
   ]
  },
  {
   "cell_type": "code",
   "execution_count": null,
   "metadata": {
    "ExecuteTime": {
     "end_time": "2018-12-05T01:26:47.578166Z",
     "start_time": "2018-12-05T01:26:47.493676Z"
    },
    "hide_input": true,
    "scrolled": false
   },
   "outputs": [],
   "source": [
    "def select_negative_samples(neg_samples):\n",
    "    submit_button = widgets.Button(\n",
    "        layout=widgets.Layout(width='auto'),\n",
    "        style={'description_width': 'initial'},\n",
    "        description='Confirm selections',\n",
    "        disabled=False,\n",
    "        button_style='danger',\n",
    "        tooltip='Submit labels',\n",
    "        icon='check'\n",
    "    )\n",
    "\n",
    "    neg_samples_ord = sort_ids_by_distance(neg_samples, face_embs)\n",
    "    neg_samples_ord_idxs = {b: a for a, b in enumerate(neg_samples_ord)}\n",
    "    \n",
    "    neg_samples_faces = list(query_faces(neg_samples_ord))\n",
    "    neg_samples_faces.sort(key=lambda f: neg_samples_ord_idxs[f['id']])\n",
    "    neg_samples_id_set = {f['id'] for f in neg_samples_faces}\n",
    "    neg_samples = list(filter(\n",
    "        lambda x: x in neg_samples_id_set, neg_samples_ord))\n",
    "    selection_widget = esper_widget(\n",
    "        query_faces_result(neg_samples_faces), \n",
    "        crop_bboxes=True, jupyter_keybindings=True\n",
    "    )\n",
    "\n",
    "    def on_submit(b):\n",
    "        ignored_idxs = set(selection_widget.ignored)\n",
    "        selected_idxs = set(selection_widget.selected)\n",
    "        selection_widget.close()\n",
    "        clear_output()\n",
    "        \n",
    "        # Add to positive set\n",
    "        global face_ids, face_embs, neg_examples\n",
    "        if face_ids:\n",
    "            for i in selected_idxs:\n",
    "                face_id = neg_samples_ord[i]\n",
    "                if face_id not in face_ids:\n",
    "                    face_ids.append(face_id)\n",
    "                    _id, emb = face_embeddings.get([face_id])[0]\n",
    "                    assert _id == face_id\n",
    "                    face_embs.append(emb)\n",
    "\n",
    "        # Filter negative set\n",
    "        neg_examples = [\n",
    "            _id for _, _id in filter(\n",
    "                lambda x: x[0] not in ignored_idxs and x[0] not in selected_idxs,\n",
    "                enumerate(neg_samples_ord))\n",
    "        ]\n",
    "\n",
    "        print('You selected {} and ignored {} faces. There are now {} negative samples.'.format(\n",
    "              len(selected_idxs), len(ignored_idxs),\n",
    "              len(neg_examples)))\n",
    "        \n",
    "    submit_button.on_click(on_submit)\n",
    "    display(widgets.HBox([widgets.Label('Controls:'), submit_button]))\n",
    "    display(selection_widget)"
   ]
  },
  {
   "cell_type": "code",
   "execution_count": null,
   "metadata": {
    "ExecuteTime": {
     "end_time": "2018-12-05T01:26:54.397561Z",
     "start_time": "2018-12-05T01:26:48.414710Z"
    },
    "scrolled": false
   },
   "outputs": [],
   "source": [
    "select_negative_samples(neg_examples)"
   ]
  },
  {
   "cell_type": "markdown",
   "metadata": {},
   "source": [
    "## Getting positive examples (knn)\n",
    "\n",
    "To obtain an initial set of positive examples, we use the reference images that you selected earlier and find the k-nearest neighbors in the dataset. `get_positive_examples()` will sample these face ids and load a widget to confirm these positive examples.\n",
    "\n",
    "The goal is to select a clean set of positive examples. The widget will display faces in order of ascending distance from the reference images. All images past your highest index selection (hover and press '\\[') will be discarded. If no selections are made, then all of the faces are accepted."
   ]
  },
  {
   "cell_type": "code",
   "execution_count": null,
   "metadata": {
    "ExecuteTime": {
     "end_time": "2018-12-05T01:28:18.186122Z",
     "start_time": "2018-12-05T01:28:18.128485Z"
    },
    "hide_input": true,
    "scrolled": false
   },
   "outputs": [],
   "source": [
    "def get_positive_examples(k):\n",
    "    submit_button = widgets.Button(\n",
    "        layout=widgets.Layout(width='auto'),\n",
    "        style={'description_width': 'initial'},\n",
    "        description='Confirm selections',\n",
    "        disabled=False,\n",
    "        button_style='danger',\n",
    "        tooltip='Submit labels',\n",
    "        icon='check'\n",
    "    )\n",
    "\n",
    "    pos_samples_and_dists = face_embeddings.knn(targets=face_embs, k=k, max_threshold=1.)\n",
    "    pos_samples_to_idx = {f[0]: i for i, f in enumerate(pos_samples_and_dists)}\n",
    "    pos_samples_faces = list(query_faces([x[0] for x in pos_samples_and_dists]))\n",
    "    pos_samples_faces.sort(key=lambda f: pos_samples_to_idx[f['id']])\n",
    "    for p in pos_samples_faces:\n",
    "        _, p['dist'] = pos_samples_and_dists[pos_samples_to_idx[p['id']]]\n",
    "    \n",
    "    selection_widget = esper_widget(\n",
    "        query_faces_result(pos_samples_faces),\n",
    "        crop_bboxes=True, jupyter_keybindings=True\n",
    "    )\n",
    "\n",
    "    def on_submit(b):\n",
    "        selected_idxs = selection_widget.selected\n",
    "        ignored_idxs = set(selection_widget.ignored)\n",
    "        max_selected_idx = max(selected_idxs) if len(selected_idxs) > 0 else len(pos_samples_faces)\n",
    "        clear_output()\n",
    "        \n",
    "        global pos_examples\n",
    "        pos_examples = [\n",
    "            x['id'] for i, x in enumerate(pos_samples_faces[:max_selected_idx])\n",
    "            if i not in ignored_idxs\n",
    "        ]\n",
    "        print('Accepted {} positive labels'.format(len(pos_examples)))      \n",
    "\n",
    "    submit_button.on_click(on_submit)\n",
    "    display(widgets.HBox([widgets.Label('Controls:'), submit_button]))\n",
    "    display(selection_widget)"
   ]
  },
  {
   "cell_type": "code",
   "execution_count": null,
   "metadata": {
    "ExecuteTime": {
     "end_time": "2018-12-05T01:28:46.862112Z",
     "start_time": "2018-12-05T01:28:18.925869Z"
    }
   },
   "outputs": [],
   "source": [
    "pos_examples = None\n",
    "get_positive_examples(k=10000)"
   ]
  },
  {
   "cell_type": "markdown",
   "metadata": {},
   "source": [
    "# Building a Model\n",
    "\n",
    "This section will train a model based on examples that you selected previously. Before proceeding, make sure that you have run the negative sampling cell above and generated a set of initial positive examples If you have not, then the following cell with throw a ValueError telling you to do so."
   ]
  },
  {
   "cell_type": "code",
   "execution_count": null,
   "metadata": {
    "ExecuteTime": {
     "end_time": "2018-12-05T01:08:30.350636Z",
     "start_time": "2018-12-05T01:08:30.313471Z"
    }
   },
   "outputs": [],
   "source": [
    "if pos_examples is None:\n",
    "    raise ValueError('No positive training examples! Did you confirm the selection above?')\n",
    "if neg_examples is None:\n",
    "    raise ValueError('No negative training examples!')\n",
    "print('Proceeding with {} positive and {} negative training examples'.format(\n",
    "    len(pos_examples), len(neg_examples)))"
   ]
  },
  {
   "cell_type": "markdown",
   "metadata": {},
   "source": [
    "## Training and obtaining predictions\n",
    "\n",
    "`train_model()` will train a binary classifier using the face identifiers in `pos_examples` and `neg_examples`. This will take roughly 20 seconds. Each time you rerun `train_model()`, your model will be retrained, so be sure to rerun it when you have added new labels and are ready to retrain. This will also generate some debugging charts to diagnose model performance."
   ]
  },
  {
   "cell_type": "code",
   "execution_count": null,
   "metadata": {
    "ExecuteTime": {
     "end_time": "2018-12-05T02:42:28.824580Z",
     "start_time": "2018-12-05T02:42:28.494388Z"
    },
    "hide_input": true,
    "scrolled": false
   },
   "outputs": [],
   "source": [
    "POS_LABEL = 1\n",
    "NEG_LABEL = 0\n",
    "NUM_EPOCHS = 40\n",
    "LEARNING_RATE = 1\n",
    "L2_PENALTY = 1e-5\n",
    "\n",
    "\n",
    "def plot_roc(y_true, y_pred, title='Receiver Operating Characteristic'):\n",
    "    fpr, tpr, threshold = metrics.roc_curve(y_true, y_pred)\n",
    "    roc_auc = metrics.auc(fpr, tpr)\n",
    "    plt.figure()\n",
    "    plt.title(title)\n",
    "    plt.plot(fpr, tpr, 'b', label = 'AUC = %0.2f' % roc_auc)\n",
    "    plt.legend(loc = 'lower right')\n",
    "    plt.plot([0, 1], [0, 1],'r--')\n",
    "    plt.xlim([0, 1])\n",
    "    plt.ylim([0, 1])\n",
    "    plt.ylabel('True Positive Rate')\n",
    "    plt.xlabel('False Positive Rate')\n",
    "    plt.show()\n",
    "    \n",
    "def plot_binary_score_histograms(y_true, y_pred, y_max=None, \n",
    "                                 title='Score Distribution by Class'):\n",
    "    bins = np.linspace(0, 1, 100)\n",
    "    plt.figure()\n",
    "    plt.hist([x for i, x in enumerate(y_pred) if y_true[i] == POS_LABEL], \n",
    "             bins, alpha=0.5, label=name)\n",
    "    plt.hist([x for i, x in enumerate(y_pred) if y_true[i] == NEG_LABEL], \n",
    "             bins, alpha=0.5, label='Not {}'.format(name))\n",
    "    plt.title(title)\n",
    "    plt.xlabel('Predicted Score')\n",
    "    if y_max is not None: \n",
    "        plt.ylim(0, y_max)\n",
    "    plt.legend()\n",
    "    plt.show()\n",
    "    \n",
    "def plot_score_histogram(predictions, sample):\n",
    "    bins = np.linspace(0, 1, 100)\n",
    "    plt.figure()\n",
    "    plt.hist([s for _, s in random.sample(predictions, sample)], \n",
    "             bins, alpha=1)\n",
    "    plt.title('Predicted Score Distribution (sample={})'.format(sample))\n",
    "    plt.xlabel('Predicted Score')\n",
    "    plt.yscale('log', nonposy='clip')\n",
    "    plt.show()\n",
    "    \n",
    "def plot_estimated_cdf(predictions, sample):\n",
    "    n_bins = 100\n",
    "    def score_to_bin(s):\n",
    "        v = math.floor(s * n_bins)\n",
    "        return min(v, n_bins - 1)\n",
    "    bins = np.zeros(n_bins)\n",
    "    for _, s in random.sample(predictions, sample):\n",
    "        bins[score_to_bin(s)] += s\n",
    "\n",
    "    sample_est_pos = np.sum(bins)\n",
    "    total_est_pos = int(sample_est_pos / sample * len(predictions))\n",
    "    \n",
    "    norm_bins = bins / sample_est_pos\n",
    "    cdf_bins = np.cumsum(norm_bins)\n",
    "    inds = np.arange(bins.size) / n_bins\n",
    "    plt.figure()\n",
    "    plt.title('CDF of Positive Predictions ' +\n",
    "              '(total estimated positives={})'.format(\n",
    "              total_est_pos))\n",
    "    plt.plot(inds, cdf_bins, label='Est. Cumulative Proportion')\n",
    "    plt.plot(inds, norm_bins, label='Est. Bin Proportion')\n",
    "    plt.ylabel('Proportion')\n",
    "    plt.xlabel('Predicted Score')\n",
    "    plt.ylim(bottom=0)\n",
    "    plt.legend()\n",
    "    plt.show()\n",
    "    \n",
    "def split_list(l, idx):\n",
    "    return l[:idx], l[idx:]\n",
    "    \n",
    "def train_model(train_val_ratio=10):\n",
    "    print('Training logistic classifier with {}:1 train to validation split'.format(\n",
    "          train_val_ratio))\n",
    "    \n",
    "    pos_examples_copy = pos_examples.copy()\n",
    "    random.shuffle(pos_examples_copy)\n",
    "    pos_split_idx = int(len(pos_examples_copy) / train_val_ratio)\n",
    "    val_pos, train_pos = split_list(pos_examples_copy, pos_split_idx)\n",
    "    \n",
    "    neg_examples_copy = neg_examples.copy()\n",
    "    random.shuffle(neg_examples_copy)\n",
    "    neg_split_idx = int(len(neg_examples_copy) / train_val_ratio)\n",
    "    val_neg, train_neg = split_list(neg_examples_copy, neg_split_idx)\n",
    "    \n",
    "    train_ids = train_pos + train_neg\n",
    "    train_y = ([POS_LABEL] * len(train_pos)) + ([NEG_LABEL] * len(train_neg))\n",
    "    \n",
    "    val_ids = val_pos + val_neg\n",
    "    val_y = ([POS_LABEL] * len(val_pos)) + ([NEG_LABEL] * len(val_neg))\n",
    "    \n",
    "    weights, predictions = face_embeddings.logreg(\n",
    "        train_ids, train_y,\n",
    "        0, 1, num_epochs=NUM_EPOCHS, learning_rate=LEARNING_RATE, \n",
    "        l2_penalty=L2_PENALTY)\n",
    "    \n",
    "    print('Generating debugging plots')\n",
    "    \n",
    "    train_id_to_idx = {v: i for i, v in enumerate(train_ids)}\n",
    "    train_pred_y = [0] * len(train_ids)\n",
    "    val_id_to_idx = {v: i for i, v in enumerate(val_ids)}\n",
    "    val_pred_y = [0] * len(val_ids)\n",
    "    \n",
    "    for v, s in predictions:\n",
    "        if v in train_id_to_idx:\n",
    "            train_pred_y[train_id_to_idx[v]] = s\n",
    "        if v in val_id_to_idx:\n",
    "            val_pred_y[val_id_to_idx[v]] = s\n",
    "            \n",
    "    num_tabs = 3\n",
    "    outputs = [widgets.Output() for _ in range(num_tabs)]\n",
    "    tabs = widgets.Tab(children=outputs)\n",
    "    \n",
    "    with outputs[0]:\n",
    "        tabs.set_title(0, 'Training Set')\n",
    "        plot_roc(train_y, train_pred_y)\n",
    "        plot_binary_score_histograms(train_y, train_pred_y)\n",
    "        \n",
    "    with outputs[1]:\n",
    "        tabs.set_title(1, 'Validation Set')\n",
    "        plot_roc(val_y, val_pred_y)\n",
    "        plot_binary_score_histograms(val_y, val_pred_y)\n",
    "        \n",
    "    with outputs[2]:\n",
    "        tabs.set_title(2, 'Entire Dataset')\n",
    "        plot_score_histogram(predictions, sample=100000)\n",
    "        plot_estimated_cdf(predictions, sample=100000)\n",
    "    \n",
    "    display(tabs)\n",
    "    return weights, predictions\n",
    "\n",
    "print('Hyperparameters')\n",
    "print('  Epochs:', NUM_EPOCHS)\n",
    "print('  Learning rate:', LEARNING_RATE)\n",
    "print('  L2 penalty:', L2_PENALTY)"
   ]
  },
  {
   "cell_type": "code",
   "execution_count": null,
   "metadata": {
    "ExecuteTime": {
     "end_time": "2018-12-05T02:43:11.418960Z",
     "start_time": "2018-12-05T02:42:28.828488Z"
    },
    "scrolled": false
   },
   "outputs": [],
   "source": [
    "weights, predictions = train_model()"
   ]
  },
  {
   "cell_type": "markdown",
   "metadata": {},
   "source": [
    "## Visualize predictions"
   ]
  },
  {
   "cell_type": "code",
   "execution_count": null,
   "metadata": {
    "ExecuteTime": {
     "end_time": "2018-12-05T02:35:28.896370Z",
     "start_time": "2018-12-05T02:35:28.769701Z"
    },
    "hide_input": true,
    "scrolled": false
   },
   "outputs": [],
   "source": [
    "sample_size_text = widgets.BoundedIntText(\n",
    "    style={'description_width': 'initial'},\n",
    "    value=100,\n",
    "    min=1,\n",
    "    max=10000,\n",
    "    description='Sample size:',\n",
    "    disabled=False\n",
    ")\n",
    "\n",
    "sample_sort_button = widgets.ToggleButtons(\n",
    "    style={'description_width': 'initial'},\n",
    "    options=['random', 'descending distance', 'ascending distance'],\n",
    "    value='descending distance',\n",
    "    description='Sample sort:',\n",
    "    disabled=False,\n",
    "    orientation='horizontal'\n",
    ")\n",
    "\n",
    "score_range_slider = widgets.FloatRangeSlider(\n",
    "    layout=widgets.Layout(width='100%'),\n",
    "    style={'description_width': 'initial'},\n",
    "    value=[0.45, 0.55],\n",
    "    min=0,\n",
    "    max=1,\n",
    "    step=0.05,\n",
    "    description='Predicted scores:',\n",
    "    disabled=False,\n",
    "    continuous_update=False,\n",
    "    orientation='horizontal',\n",
    "    readout=True,\n",
    "    readout_format='.2f',\n",
    ")\n",
    "\n",
    "commercial_filter_button = widgets.ToggleButtons(\n",
    "    style={'description_width': 'initial'},\n",
    "    options=['disabled', 'select', 'exclude'],\n",
    "    value='disabled',\n",
    "    description='Commercial filter:',\n",
    "    disabled=False,\n",
    "    orientation='horizontal'\n",
    ")\n",
    "\n",
    "gender_filter_button = widgets.ToggleButtons(\n",
    "    style={'description_width': 'initial'},\n",
    "    options=['disabled', 'male', 'female'],\n",
    "    value='disabled',\n",
    "    description='Gender filter:',\n",
    "    disabled=False,\n",
    "    orientation='horizontal'\n",
    ")\n",
    "\n",
    "MAX_HEIGHT = 1.\n",
    "MIN_HEIGHT = 0.\n",
    "face_height_slider = widgets.FloatRangeSlider(\n",
    "    layout=widgets.Layout(width='100%'),\n",
    "    style={'description_width': 'initial'},\n",
    "    value=[MIN_HEIGHT, MAX_HEIGHT],\n",
    "    min=0,\n",
    "    max=1,\n",
    "    step=0.05,\n",
    "    description='Face height (proportion):',\n",
    "    disabled=False,\n",
    "    continuous_update=False,\n",
    "    orientation='horizontal',\n",
    "    readout=True,\n",
    "    readout_format='.2f',\n",
    ")\n",
    "\n",
    "MAX_SHARPNESS = 1000.\n",
    "MIN_SHARPNESS = 0.\n",
    "face_sharpness_slider = widgets.FloatRangeSlider(\n",
    "    layout=widgets.Layout(width='100%'),\n",
    "    style={'description_width': 'initial'},\n",
    "    value=[MIN_SHARPNESS, MAX_SHARPNESS],\n",
    "    min=MIN_SHARPNESS,\n",
    "    max=MAX_SHARPNESS,\n",
    "    step=0.5,\n",
    "    description='Face sharpness:',\n",
    "    disabled=False,\n",
    "    continuous_update=False,\n",
    "    orientation='horizontal',\n",
    "    readout=True,\n",
    "    readout_format='.1f',\n",
    ")\n",
    "\n",
    "caption_filter_button = widgets.ToggleButtons(\n",
    "    style={'description_width': 'initial'},\n",
    "    options=['disabled', 'mentioned', 'not mentioned'],\n",
    "    value='disabled',\n",
    "    description='Captions filter:',\n",
    "    disabled=False,\n",
    "    orientation='horizontal'\n",
    ")\n",
    "\n",
    "canonical_show_dropdown = widgets.Dropdown(\n",
    "    layout=widgets.Layout(width='100%'),\n",
    "    style={'description_width': 'initial'},\n",
    "    options=['All'] + list(sorted(MAJOR_CANONICAL_SHOWS)),\n",
    "    value='All',\n",
    "    description='Show filter:',\n",
    "    disabled=False,\n",
    ")\n",
    "\n",
    "def get_vis_args():\n",
    "    score_range = score_range_slider.value\n",
    "    height_range = face_height_slider.value\n",
    "    sharpness_range = face_sharpness_slider.value\n",
    "    return {\n",
    "        'sample_size': sample_size_text.value,\n",
    "        'sample_sort': sample_sort_button.value,\n",
    "        'score_range': score_range,\n",
    "        'commercial_filter': commercial_filter_button.value,\n",
    "        'gender_filter': gender_filter_button.value,\n",
    "        'height_range': height_range,\n",
    "        'sharpness_range': sharpness_range,\n",
    "        'caption_filter': caption_filter_button.value,\n",
    "        'canonical_show': canonical_show_dropdown.value\n",
    "    }"
   ]
  },
  {
   "cell_type": "code",
   "execution_count": null,
   "metadata": {
    "ExecuteTime": {
     "end_time": "2018-12-05T02:49:09.123045Z",
     "start_time": "2018-12-05T02:49:08.861446Z"
    },
    "hide_input": false
   },
   "outputs": [],
   "source": [
    "display(sample_size_text)\n",
    "display(sample_sort_button)\n",
    "display(score_range_slider)\n",
    "display(commercial_filter_button)\n",
    "display(gender_filter_button) # TODO\n",
    "display(canonical_show_dropdown)\n",
    "display(face_height_slider)\n",
    "display(face_sharpness_slider)\n",
    "display(caption_filter_button) # TODO\n",
    "custom_filter_fn = lambda x: x"
   ]
  },
  {
   "cell_type": "markdown",
   "metadata": {},
   "source": [
    "You may also define a custom query filter function using any of the Esper models. Note that this cell will need to be re-run each time the function is updated."
   ]
  },
  {
   "cell_type": "code",
   "execution_count": null,
   "metadata": {},
   "outputs": [],
   "source": [
    "def custom_filter_fn(qs):\n",
    "    # BEGIN: INSERT CODE HERE\n",
    "    print('No custom filter defined.')\n",
    "    # END\n",
    "    return qs"
   ]
  },
  {
   "cell_type": "markdown",
   "metadata": {},
   "source": [
    "The labeling widget will display below once `visualize()` is called. If you update the selections and sliders above, you can reload the visualization by confirming your current labels by hitting the <b>Confirm selections</b> button or by hitting the <b>Refresh</b> button."
   ]
  },
  {
   "cell_type": "code",
   "execution_count": null,
   "metadata": {
    "hide_input": true
   },
   "outputs": [],
   "source": [
    "def visualize():\n",
    "    show_reference_imgs()\n",
    "    \n",
    "    vis_args = get_vis_args()\n",
    "    \n",
    "    submit_button = widgets.Button(\n",
    "        layout=widgets.Layout(width='auto'),\n",
    "        style={'description_width': 'initial'},\n",
    "        description='Confirm selections',\n",
    "        disabled=False,\n",
    "        button_style='danger',\n",
    "        tooltip='Submit labels',\n",
    "        icon='check'\n",
    "    )\n",
    "    \n",
    "    refresh_button = widgets.Button(\n",
    "        layout=widgets.Layout(width='auto'),\n",
    "        style={'description_width': 'initial'},\n",
    "        description='Refresh (w/o confirming)',\n",
    "        disabled=False,\n",
    "        button_style='info',\n",
    "        tooltip='Refresh examples',\n",
    "        icon='check'\n",
    "    )\n",
    "    \n",
    "    labeled_ids_set = set(pos_examples) | set(neg_examples)\n",
    "    \n",
    "    min_score, max_score = vis_args['score_range']\n",
    "    def pre_query_filter_fn(face_id_and_score):\n",
    "        face_id, score = face_id_and_score\n",
    "        if face_id in labeled_ids_set:\n",
    "            return False\n",
    "        return score >= min_score and score <= max_score\n",
    "    \n",
    "    def query_filter_fn(qs):\n",
    "        if vis_args['commercial_filter'] != 'disabled':\n",
    "            qs = qs.filter(\n",
    "                shot__in_commercial=vis_args['commercial_filter'] == 'select')\n",
    "        \n",
    "        min_height, max_height = vis_args['height_range']\n",
    "        if min_height > MIN_HEIGHT or max_height < MAX_HEIGHT:\n",
    "            qs = qs.annotate(height=BoundingBox.height_expr())\n",
    "            min_height = min_height\n",
    "            if min_height > MIN_HEIGHT:\n",
    "                qs = qs.filter(height__gte=min_height)\n",
    "            max_height = max_height\n",
    "            if max_height < MAX_HEIGHT:\n",
    "                qs = qs.filter(height__lte=max_height)\n",
    "        \n",
    "        min_sharpness, max_sharpness = vis_args['sharpness_range']\n",
    "        if min_sharpness > MIN_SHARPNESS:\n",
    "            qs = qs.filter(blurriness__gte=min_sharpness)\n",
    "        if max_sharpness < MAX_SHARPNESS:\n",
    "            qs = qs.filter(blurriness__lte=max_sharpness)\n",
    "      \n",
    "        if vis_args['canonical_show'] != 'All':\n",
    "            qs = qs.filter(\n",
    "                frame__video__show__canonical_show__name=vis_args['canonical_show'])\n",
    "            \n",
    "        if vis_args['gender_filter'] != 'disabled':\n",
    "            print('Warning: gender filter is not implemented yet')\n",
    "        \n",
    "        if vis_args['caption_filter'] != 'disabled':\n",
    "            print('Warning: caption filter is not implemented yet')\n",
    "        return qs\n",
    "    \n",
    "    filtered_pred = list(filter(pre_query_filter_fn, predictions))\n",
    "    filtered_pred_faces = query_faces([x[0] for x in filtered_pred])\n",
    "    filtered_pred_faces = query_filter_fn(filtered_pred_faces)\n",
    "   \n",
    "    # Execute custom Esper query\n",
    "    try:\n",
    "        filtered_pred_faces = custom_filter_fn(filtered_pred_faces)\n",
    "    except Exception as e:\n",
    "        traceback.print_exc()\n",
    "        \n",
    "    filtered_count = filtered_pred_faces.count()\n",
    "    sample_size = vis_args['sample_size']\n",
    "    if filtered_count > sample_size:\n",
    "        filtered_pred_faces = query_sample(filtered_pred_faces, sample_size)\n",
    "    filtered_pred_faces = list(filtered_pred_faces)\n",
    "    \n",
    "    print('Showing {} of {} faces'.format(\n",
    "          min(sample_size, filtered_count), filtered_count))\n",
    "    \n",
    "    # Reorder the samples\n",
    "    if vis_args['sample_sort'] != 'disabled':\n",
    "        filtered_pred_faces = sort_faces_by_distance(\n",
    "            filtered_pred_faces, embs,\n",
    "            'ascending' in vis_args['sample_sort'])\n",
    "\n",
    "    selection_widget = esper_widget(\n",
    "        query_faces_result(filtered_pred_faces), \n",
    "        crop_bboxes=True, jupyter_keybindings=True)\n",
    "    \n",
    "    def on_submit(b):\n",
    "        selected_idxs = set(selection_widget.selected)\n",
    "        ignored_idxs = set(selection_widget.ignored)\n",
    "        clear_output()\n",
    "        \n",
    "        selected_face_ids = []\n",
    "        ignored_face_ids = []\n",
    "        for i, f in enumerate(filtered_pred_faces):\n",
    "            if i in selected_idxs:\n",
    "                selected_face_ids.append(f['id'])\n",
    "            if i in ignored_idxs:\n",
    "                ignored_face_ids.append(f['id'])\n",
    "              \n",
    "        new_pos_labels = 0\n",
    "        for i in selected_face_ids:\n",
    "            if i not in labeled_ids_set:\n",
    "                pos_examples.append(i)\n",
    "                new_pos_labels += 1\n",
    "        new_neg_labels = 0\n",
    "        for i in ignored_face_ids:\n",
    "            if i not in labeled_ids_set:\n",
    "                neg_examples.append(i)\n",
    "                new_neg_labels += 1\n",
    "                \n",
    "        print('Added {} new positive and {} new negative examples'.format(\n",
    "              new_pos_labels, new_neg_labels))\n",
    "        visualize()\n",
    "    submit_button.on_click(on_submit)\n",
    "        \n",
    "    def on_refresh(b):\n",
    "        clear_output()\n",
    "        print('Refreshed without updating examples')\n",
    "        visualize()\n",
    "    refresh_button.on_click(on_refresh)\n",
    "    \n",
    "    display(widgets.HBox(\n",
    "        [widgets.Label('Controls:'), submit_button, refresh_button]))\n",
    "    display(selection_widget)"
   ]
  },
  {
   "cell_type": "code",
   "execution_count": null,
   "metadata": {
    "ExecuteTime": {
     "end_time": "2018-12-05T02:35:25.642142Z",
     "start_time": "2018-12-05T02:35:12.262341Z"
    },
    "hide_input": false,
    "scrolled": false
   },
   "outputs": [],
   "source": [
    "visualize()"
   ]
  },
  {
   "cell_type": "markdown",
   "metadata": {
    "hide_input": false
   },
   "source": [
    "# Saving your model to Esper"
   ]
  },
  {
   "cell_type": "code",
   "execution_count": null,
   "metadata": {},
   "outputs": [],
   "source": []
  }
 ],
 "metadata": {
  "kernelspec": {
   "display_name": "Django Shell-Plus",
   "language": "python",
   "name": "django_extensions"
  },
  "language_info": {
   "codemirror_mode": {
    "name": "ipython",
    "version": 3
   },
   "file_extension": ".py",
   "mimetype": "text/x-python",
   "name": "python",
   "nbconvert_exporter": "python",
   "pygments_lexer": "ipython3",
   "version": "3.5.2"
  },
  "toc": {
   "base_numbering": 1,
   "nav_menu": {},
   "number_sections": true,
   "sideBar": false,
   "skip_h1_title": false,
   "title_cell": "Table of Contents",
   "title_sidebar": "Contents",
   "toc_cell": true,
   "toc_position": {},
   "toc_section_display": "block",
   "toc_window_display": false
  }
 },
 "nbformat": 4,
 "nbformat_minor": 2
}
