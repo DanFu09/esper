{
 "cells": [
  {
   "cell_type": "code",
   "execution_count": 2,
   "metadata": {
    "collapsed": true
   },
   "outputs": [],
   "source": [
    "%matplotlib inline\n",
    "from query.scripts.script_util import *\n",
    "from collections import defaultdict"
   ]
  },
  {
   "cell_type": "code",
   "execution_count": 16,
   "metadata": {},
   "outputs": [
    {
     "name": "stdout",
     "output_type": "stream",
     "text": [
      "[u'handlabeled', u'mtcnn']\n",
      "46\n"
     ]
    }
   ],
   "source": [
    "def bbox_area(f):\n",
    "    return (f.bbox_x2 - f.bbox_x1) * (f.bbox_y2 - f.bbox_y1) \n",
    "\n",
    "def bbox_midpoint(f):\n",
    "    return np.array([(f.bbox_x1 + f.bbox_x2) / 2, (f.bbox_y1 + f.bbox_y2) / 2])\n",
    "\n",
    "def bbox_dist(f1, f2):\n",
    "    return np.linalg.norm(bbox_midpoint(f1) - bbox_midpoint(f2))\n",
    "\n",
    "def bbox_to_dict(f):\n",
    "    return {\n",
    "        'bbox_x1': f.bbox_x1,\n",
    "        'bbox_x2': f.bbox_x2,\n",
    "        'bbox_y1': f.bbox_y1,\n",
    "        'bbox_y2': f.bbox_y2,\n",
    "        'bbox_score': f.bbox_score,\n",
    "        'labeler': f.labeler.id\n",
    "    }\n",
    "\n",
    "labeler_names = [l['labeler__name'] for l in FaceInstance.objects.values('labeler__name').distinct()]\n",
    "print(labeler_names)\n",
    "\n",
    "videos = defaultdict(lambda: defaultdict(lambda: defaultdict(list)))\n",
    "for frame in Frame.objects.filter(Q(video__show='Situation Room With Wolf Blitzer') | Q(video__show='Special Report With Bret Baier')).select_related('video')[:10000:10]:\n",
    "    faces = FaceInstance.objects.filter(frame=frame).select_related('labeler')\n",
    "    for face in faces:\n",
    "        videos[frame.video.id][frame.id][face.labeler.name].append(face)\n",
    "\n",
    "AREA_THRESHOLD = 0.02\n",
    "DIST_THRESHOLD = 0.10\n",
    "\n",
    "mistakes = defaultdict(lambda: defaultdict(tuple))\n",
    "for video, frames in videos.iteritems():\n",
    "    for frame, labelers in frames.iteritems():\n",
    "        for labeler, faces in labelers.iteritems():\n",
    "            for face in faces:\n",
    "                if bbox_area(face) < AREA_THRESHOLD:\n",
    "                    continue\n",
    "                \n",
    "                mistake = True\n",
    "                for other_labeler in labeler_names:\n",
    "                    if labeler == other_labeler: continue\n",
    "                    other_faces = labelers[other_labeler] if other_labeler in labelers else []\n",
    "                    for other_face in other_faces:\n",
    "                        if bbox_dist(face, other_face) < DIST_THRESHOLD:\n",
    "                            mistake = False\n",
    "                            break\n",
    "                        \n",
    "                    if mistake and len(other_faces) > 0:\n",
    "                        mistakes[video][frame] = (faces, other_faces)\n",
    "                        break\n",
    "                else:\n",
    "                    continue\n",
    "                break\n",
    "            \n",
    "result = []\n",
    "for video, frames in list(mistakes.iteritems())[:1000:10]:\n",
    "    for frame, (faces, other_faces) in frames.iteritems():\n",
    "        result.append({\n",
    "            'video': video,\n",
    "            'start_frame': frame,\n",
    "            'bboxes': [bbox_to_dict(f) for f in faces + other_faces]\n",
    "        })\n",
    "        \n",
    "print(len(result))"
   ]
  }
 ],
 "metadata": {
  "kernelspec": {
   "display_name": "Django Shell-Plus",
   "language": "python",
   "name": "django_extensions"
  },
  "language_info": {
   "codemirror_mode": {
    "name": "ipython",
    "version": 2
   },
   "file_extension": ".py",
   "mimetype": "text/x-python",
   "name": "python",
   "nbconvert_exporter": "python",
   "pygments_lexer": "ipython2",
   "version": "2.7.12"
  }
 },
 "nbformat": 4,
 "nbformat_minor": 2
}
