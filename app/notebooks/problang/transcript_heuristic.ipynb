{
 "cells": [
  {
   "cell_type": "markdown",
   "metadata": {
    "toc": true
   },
   "source": [
    "<h1>Table of Contents<span class=\"tocSkip\"></span></h1>\n",
    "<div class=\"toc\" style=\"margin-top: 1em;\"><ul class=\"toc-item\"></ul></div>"
   ]
  },
  {
   "cell_type": "code",
   "execution_count": null,
   "metadata": {
    "ExecuteTime": {
     "end_time": "2018-11-24T04:22:46.790156Z",
     "start_time": "2018-11-24T04:22:46.764100Z"
    }
   },
   "outputs": [],
   "source": [
    "from esper.prelude import *\n",
    "from transcript_utils import *\n",
    "from operator import itemgetter"
   ]
  },
  {
   "cell_type": "code",
   "execution_count": null,
   "metadata": {
    "ExecuteTime": {
     "end_time": "2018-11-24T04:22:47.951286Z",
     "start_time": "2018-11-24T04:22:47.914818Z"
    }
   },
   "outputs": [],
   "source": [
    "all_videos = video_list()"
   ]
  },
  {
   "cell_type": "code",
   "execution_count": null,
   "metadata": {
    "ExecuteTime": {
     "end_time": "2018-11-24T04:22:55.500999Z",
     "start_time": "2018-11-24T04:22:49.015911Z"
    }
   },
   "outputs": [],
   "source": [
    "topic = 'immigration'\n",
    "lexicon = mutual_info(topic)"
   ]
  },
  {
   "cell_type": "code",
   "execution_count": null,
   "metadata": {
    "ExecuteTime": {
     "end_time": "2018-11-24T04:23:06.505074Z",
     "start_time": "2018-11-24T04:22:56.252830Z"
    }
   },
   "outputs": [],
   "source": [
    "initial_segments = find_segments(all_videos, lexicon, threshold=20, window_size=SEGMENT_SIZE, stride=SEGMENT_STRIDE)"
   ]
  },
  {
   "cell_type": "code",
   "execution_count": null,
   "metadata": {
    "ExecuteTime": {
     "end_time": "2018-11-24T04:24:24.488201Z",
     "start_time": "2018-11-24T04:24:24.454025Z"
    }
   },
   "outputs": [],
   "source": [
    "initial_segments_dict = [{'item_name': seg[0], 'segment': seg[2], 'score': seg[3]} for seg in initial_segments]\n",
    "initial_segments_dict.sort(key=itemgetter('score'), reverse=True)"
   ]
  },
  {
   "cell_type": "code",
   "execution_count": null,
   "metadata": {
    "ExecuteTime": {
     "end_time": "2018-11-24T04:24:25.227199Z",
     "start_time": "2018-11-24T04:24:25.167786Z"
    }
   },
   "outputs": [],
   "source": [
    "pcache.set('initial_segments', initial_segments_dict)"
   ]
  }
 ],
 "metadata": {
  "kernelspec": {
   "display_name": "Django Shell-Plus",
   "language": "python",
   "name": "django_extensions"
  },
  "language_info": {
   "codemirror_mode": {
    "name": "ipython",
    "version": 3
   },
   "file_extension": ".py",
   "mimetype": "text/x-python",
   "name": "python",
   "nbconvert_exporter": "python",
   "pygments_lexer": "ipython3",
   "version": "3.5.2"
  },
  "toc": {
   "base_numbering": 1,
   "nav_menu": {},
   "number_sections": true,
   "sideBar": false,
   "skip_h1_title": false,
   "title_cell": "Table of Contents",
   "title_sidebar": "Contents",
   "toc_cell": true,
   "toc_position": {},
   "toc_section_display": "block",
   "toc_window_display": false
  }
 },
 "nbformat": 4,
 "nbformat_minor": 2
}
