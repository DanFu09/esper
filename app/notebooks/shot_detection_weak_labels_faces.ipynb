{
 "cells": [
  {
   "cell_type": "code",
   "execution_count": null,
   "metadata": {
    "ExecuteTime": {
     "end_time": "2019-02-27T00:49:54.602576Z",
     "start_time": "2019-02-27T00:49:54.065461Z"
    }
   },
   "outputs": [],
   "source": [
    "import rekall\n",
    "from rekall.video_interval_collection import VideoIntervalCollection\n",
    "from rekall.merge_ops import payload_plus\n",
    "from rekall.parsers import in_array, bbox_payload_parser\n",
    "from rekall.bbox_predicates import *\n",
    "from rekall.spatial_predicates import *\n",
    "from query.models import Face\n",
    "from tqdm import tqdm\n",
    "import pickle"
   ]
  },
  {
   "cell_type": "code",
   "execution_count": null,
   "metadata": {
    "ExecuteTime": {
     "end_time": "2019-02-27T00:09:29.005453Z",
     "start_time": "2019-02-27T00:09:28.974409Z"
    }
   },
   "outputs": [],
   "source": [
    "faces_qs = Face.objects.filter(\n",
    "    frame__video__ignore_film=False\n",
    ").annotate(\n",
    "    min_frame=F('frame__number'),\n",
    "    max_frame=F('frame__number'),\n",
    "    video_id=F('frame__video_id')\n",
    ").all()"
   ]
  },
  {
   "cell_type": "code",
   "execution_count": null,
   "metadata": {
    "ExecuteTime": {
     "end_time": "2019-02-27T00:13:12.828269Z",
     "start_time": "2019-02-27T00:09:29.599127Z"
    }
   },
   "outputs": [],
   "source": [
    "faces = VideoIntervalCollection.from_django_qs(\n",
    "    faces_qs,\n",
    "    with_payload=lambda face : 1,\n",
    "    progress=True\n",
    ")"
   ]
  },
  {
   "cell_type": "code",
   "execution_count": null,
   "metadata": {
    "ExecuteTime": {
     "end_time": "2019-02-27T00:16:19.415682Z",
     "start_time": "2019-02-27T00:15:50.736067Z"
    }
   },
   "outputs": [],
   "source": [
    "face_counts = faces.coalesce(payload_merge_op = payload_plus)"
   ]
  },
  {
   "cell_type": "code",
   "execution_count": null,
   "metadata": {
    "ExecuteTime": {
     "end_time": "2019-02-27T00:28:37.665654Z",
     "start_time": "2019-02-27T00:28:37.629893Z"
    }
   },
   "outputs": [],
   "source": [
    "def get_weak_labels_from_face_counts(intrvllist, stride):\n",
    "    if intrvllist.size() == 0:\n",
    "        return []\n",
    "    pos_boundaries = []\n",
    "    neg_boundaries = []\n",
    "    \n",
    "    intervals = intrvllist.get_intervals()\n",
    "    cur_frame = intervals[0].start\n",
    "    cur_face_count = intervals[0].payload\n",
    "    for interval in intervals[1:]:\n",
    "        if interval.start - cur_frame == stride:\n",
    "            if interval.payload == cur_face_count:\n",
    "                neg_boundaries += list(range(cur_frame, interval.start))\n",
    "            elif abs(interval.payload - cur_face_count) >= 2:\n",
    "                pos_boundaries += list(range(cur_frame, interval.start))\n",
    "        cur_frame = interval.start\n",
    "        cur_face_count = interval.payload\n",
    "    \n",
    "    return pos_boundaries, neg_boundaries"
   ]
  },
  {
   "cell_type": "code",
   "execution_count": null,
   "metadata": {
    "ExecuteTime": {
     "end_time": "2019-02-27T00:22:07.663388Z",
     "start_time": "2019-02-27T00:22:07.632470Z"
    }
   },
   "outputs": [],
   "source": [
    "face_count_labels_pos_neg = {}"
   ]
  },
  {
   "cell_type": "code",
   "execution_count": null,
   "metadata": {
    "ExecuteTime": {
     "end_time": "2019-02-27T00:29:39.170275Z",
     "start_time": "2019-02-27T00:29:20.527013Z"
    }
   },
   "outputs": [],
   "source": [
    "for video_id in tqdm(faces.get_allintervals()):\n",
    "    stride = Video.objects.get(id=video_id).get_stride()\n",
    "    face_count_labels_pos_neg[video_id] = get_weak_labels_from_face_counts(\n",
    "        faces.get_intervallist(video_id), stride\n",
    "    )"
   ]
  },
  {
   "cell_type": "code",
   "execution_count": null,
   "metadata": {
    "ExecuteTime": {
     "end_time": "2019-02-27T00:35:33.326954Z",
     "start_time": "2019-02-27T00:35:31.680902Z"
    }
   },
   "outputs": [],
   "source": [
    "# Save these weak labels to disk\n",
    "for video_id in tqdm(face_count_labels_pos_neg):\n",
    "    with open('/app/data/shot_detection_weak_labels/face_counts/{}.pkl'.format(video_id), 'wb') as f:\n",
    "        pickle.dump(face_count_labels_pos_neg[video_id], f)"
   ]
  },
  {
   "cell_type": "code",
   "execution_count": null,
   "metadata": {
    "ExecuteTime": {
     "end_time": "2019-02-27T00:44:22.231571Z",
     "start_time": "2019-02-27T00:41:37.540493Z"
    }
   },
   "outputs": [],
   "source": [
    "faces_with_bboxes = VideoIntervalCollection.from_django_qs(\n",
    "    faces_qs,\n",
    "    with_payload=in_array(\n",
    "        bbox_payload_parser(VideoIntervalCollection.django_accessor)),\n",
    "    progress=True\n",
    ").coalesce(payload_merge_op = payload_plus)"
   ]
  },
  {
   "cell_type": "code",
   "execution_count": null,
   "metadata": {
    "ExecuteTime": {
     "end_time": "2019-02-27T00:54:29.260297Z",
     "start_time": "2019-02-27T00:54:29.213709Z"
    }
   },
   "outputs": [],
   "source": [
    "def get_weak_labels_from_face_positions(intrvllist, stride):\n",
    "    if intrvllist.size() == 0:\n",
    "        return []\n",
    "    pos_boundaries = []\n",
    "    neg_boundaries = []\n",
    "    \n",
    "    intervals = intrvllist.get_intervals()\n",
    "    cur_frame = intervals[0].start\n",
    "    cur_faces = intervals[0].payload\n",
    "    for interval in intervals[1:]:\n",
    "        if interval.start - cur_frame == stride:\n",
    "            graph = {\n",
    "                'nodes': [\n",
    "                    {\n",
    "                        'name': 'face{}'.format(idx),\n",
    "                        'predicates': [ position(face['x1'], face['y1'], face['x2'], face['y2'], epsilon=.05) ]\n",
    "                    }\n",
    "                    for idx, face in enumerate(cur_faces)\n",
    "                ],\n",
    "                'edges': []\n",
    "            }\n",
    "            new_payload_matches = scene_graph(graph, exact=True)([\n",
    "                { 'x1': face['x1'], 'y1': face['y1'], 'x2': face['x2'], 'y2': face['y2'] }\n",
    "                for face in interval.payload\n",
    "            ])\n",
    "            \n",
    "            if new_payload_matches:\n",
    "                neg_boundaries += list(range(cur_frame, interval.start))\n",
    "            else:\n",
    "                pos_boundaries += list(range(cur_frame, interval.start))\n",
    "                \n",
    "        cur_frame = interval.start\n",
    "        cur_faces = interval.payload\n",
    "    \n",
    "    return pos_boundaries, neg_boundaries"
   ]
  },
  {
   "cell_type": "code",
   "execution_count": null,
   "metadata": {
    "ExecuteTime": {
     "end_time": "2019-02-27T00:51:35.882103Z",
     "start_time": "2019-02-27T00:51:35.853402Z"
    }
   },
   "outputs": [],
   "source": [
    "face_position_labels_pos_neg = {}"
   ]
  },
  {
   "cell_type": "code",
   "execution_count": null,
   "metadata": {
    "ExecuteTime": {
     "end_time": "2019-02-27T00:53:15.779367Z",
     "start_time": "2019-02-27T00:53:15.746733Z"
    }
   },
   "outputs": [],
   "source": [
    "faces_with_bboxes.get_intervallist(1).get_intervals()[0]"
   ]
  },
  {
   "cell_type": "code",
   "execution_count": null,
   "metadata": {
    "ExecuteTime": {
     "end_time": "2019-02-27T00:56:23.584269Z",
     "start_time": "2019-02-27T00:54:31.200273Z"
    }
   },
   "outputs": [],
   "source": [
    "for video_id in tqdm(faces_with_bboxes.get_allintervals()):\n",
    "    stride = Video.objects.get(id=video_id).get_stride()\n",
    "    face_position_labels_pos_neg[video_id] = get_weak_labels_from_face_positions(\n",
    "        faces_with_bboxes.get_intervallist(video_id), stride\n",
    "    )"
   ]
  },
  {
   "cell_type": "code",
   "execution_count": null,
   "metadata": {
    "ExecuteTime": {
     "end_time": "2019-02-27T00:58:09.540222Z",
     "start_time": "2019-02-27T00:58:07.361144Z"
    }
   },
   "outputs": [],
   "source": [
    "# Save these weak labels to disk\n",
    "for video_id in tqdm(face_position_labels_pos_neg):\n",
    "    with open('/app/data/shot_detection_weak_labels/face_positions/{}.pkl'.format(video_id), 'wb') as f:\n",
    "        pickle.dump(face_position_labels_pos_neg[video_id], f)"
   ]
  }
 ],
 "metadata": {
  "kernelspec": {
   "display_name": "Django Shell-Plus",
   "language": "python",
   "name": "django_extensions"
  },
  "language_info": {
   "codemirror_mode": {
    "name": "ipython",
    "version": 3
   },
   "file_extension": ".py",
   "mimetype": "text/x-python",
   "name": "python",
   "nbconvert_exporter": "python",
   "pygments_lexer": "ipython3",
   "version": "3.5.2"
  },
  "toc": {
   "nav_menu": {},
   "number_sections": true,
   "sideBar": true,
   "skip_h1_title": false,
   "toc_cell": false,
   "toc_position": {},
   "toc_section_display": "block",
   "toc_window_display": false
  }
 },
 "nbformat": 4,
 "nbformat_minor": 2
}
