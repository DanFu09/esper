{
 "cells": [
  {
   "cell_type": "code",
   "execution_count": null,
   "metadata": {},
   "outputs": [],
   "source": [
    "from query.datasets.prelude import *\n",
    "import tempfile"
   ]
  },
  {
   "cell_type": "code",
   "execution_count": null,
   "metadata": {},
   "outputs": [],
   "source": [
    "def extract_audio(video, output_path=None, ext='wav', segment=None):\n",
    "    if output_path is None:\n",
    "        output_path = tempfile.NamedTemporaryFile(suffix='.{}'.format(ext), delete=False).name\n",
    "        \n",
    "    def fmt_time(t):\n",
    "        return '{:02d}:{:02d}:{:02d}.{:03d}'.format(\n",
    "            int(t / 3600), int(t / 60 % 60), int(t % 60), int(t * 1000 % 1000))    \n",
    "    \n",
    "    if segment is not None:\n",
    "        (start, end) = segment\n",
    "        start_str = '-ss {}'.format(fmt_time(start))\n",
    "        end_str = '-t {}'.format(fmt_time(end - start))\n",
    "    else:\n",
    "        start_str = ''\n",
    "        end_str = ''\n",
    "        \n",
    "    sp.check_call('ffmpeg -y {} -i \"{}\" {} {}'.format(start_str, video.url(), end_str, output_path), shell=True)\n",
    "    return output_path"
   ]
  },
  {
   "cell_type": "code",
   "execution_count": null,
   "metadata": {},
   "outputs": [],
   "source": [
    "def parse_segmentation(lines):\n",
    "    seg = []\n",
    "    for line in lines:\n",
    "        if line[:2] == ';;':\n",
    "            continue\n",
    "            \n",
    "        [start, end, gender] = line.split(' ')[2:5]\n",
    "        seg.append({\n",
    "            'start': float(start)/100,\n",
    "            'end': float(end)/100,\n",
    "            'gender': gender\n",
    "        })\n",
    "        \n",
    "    return seg\n",
    "\n",
    "def save_segmentation(video, seg):\n",
    "    labeler, _ = Labeler.objects.get_or_create(name='lium')\n",
    "    gender_ids = {g.name: g.id for g in Gender.objects.all()}\n",
    "\n",
    "    speakers = [\n",
    "        Speaker(video=video, min_frame=int(d['start']*video.fps), max_frame=int((d['start']+d['end'])*video.fps), \n",
    "                labeler=labeler, gender_id=gender_ids[d['gender']])\n",
    "        for d in seg\n",
    "    ]\n",
    "\n",
    "    Speaker.objects.bulk_create(speakers)\n",
    "        \n",
    "def segment_audio(video, segment=None):\n",
    "    if Speaker.objects.filter(video=video).count() > 0:\n",
    "        return\n",
    "    \n",
    "    try:\n",
    "        audio_path = extract_audio(video, segment=segment)\n",
    "    except sp.CalledProcessError:\n",
    "        log.error('ffmpeg failed: ' + video.path)\n",
    "        return\n",
    "    \n",
    "    if not os.path.isfile(audio_path):\n",
    "        log.error('wtf: ' + video.path)\n",
    "        return\n",
    "\n",
    "    try:\n",
    "        seg_path = tempfile.NamedTemporaryFile(delete=False).name\n",
    "        sp.check_call(\n",
    "            'java -Xmx4096m -jar /app/deps/LIUM/LIUM_SpkDiarization-4.2.jar --fInputMask={} --sOutputMask={} --doCEClustering _'\n",
    "            .format(audio_path, seg_path),\n",
    "            shell=True)\n",
    "    except sp.CalledProcessError:\n",
    "        log.error('LIUM failed: ' + video.path)\n",
    "        return\n",
    "    finally:\n",
    "        os.remove(audio_path)\n",
    "        \n",
    "    print(seg_path)\n",
    "\n",
    "#     with open(seg_path) as f:\n",
    "#         seg_lines = [s.strip() for s in f.readlines()]\n",
    "#     os.remove(seg_path)\n",
    "#     seg = parse_segmentation(seg_lines)\n",
    "    \n",
    "#     save_segmentation(video, seg)\n",
    "    \n",
    "    return seg"
   ]
  },
  {
   "cell_type": "code",
   "execution_count": null,
   "metadata": {},
   "outputs": [],
   "source": [
    "videos = list(Video.objects.all().order_by('?'))"
   ]
  },
  {
   "cell_type": "code",
   "execution_count": null,
   "metadata": {},
   "outputs": [],
   "source": [
    "segment_audio(videos[0])"
   ]
  },
  {
   "cell_type": "code",
   "execution_count": null,
   "metadata": {},
   "outputs": [],
   "source": [
    "# log.debug('Start')\n",
    "# _ = par_for(segment_audio, videos, workers=80)"
   ]
  },
  {
   "cell_type": "code",
   "execution_count": null,
   "metadata": {},
   "outputs": [],
   "source": [
    "log.debug('Stop')"
   ]
  }
 ],
 "metadata": {
  "kernelspec": {
   "display_name": "Django Shell-Plus",
   "language": "python",
   "name": "django_extensions"
  },
  "language_info": {
   "codemirror_mode": {
    "name": "ipython",
    "version": 2
   },
   "file_extension": ".py",
   "mimetype": "text/x-python",
   "name": "python",
   "nbconvert_exporter": "python",
   "pygments_lexer": "ipython2",
   "version": "2.7.14"
  },
  "toc": {
   "nav_menu": {},
   "number_sections": true,
   "sideBar": false,
   "skip_h1_title": false,
   "toc_cell": false,
   "toc_position": {},
   "toc_section_display": "block",
   "toc_window_display": false
  }
 },
 "nbformat": 4,
 "nbformat_minor": 2
}
