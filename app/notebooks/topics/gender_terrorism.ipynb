{
 "cells": [
  {
   "cell_type": "markdown",
   "metadata": {
    "toc": true
   },
   "source": [
    "<h1>Table of Contents<span class=\"tocSkip\"></span></h1>\n",
    "<div class=\"toc\" style=\"margin-top: 1em;\"><ul class=\"toc-item\"><li><span><a href=\"#Choose-a-Topic\" data-toc-modified-id=\"Choose-a-Topic-1\"><span class=\"toc-item-num\">1&nbsp;&nbsp;</span>Choose a Topic</a></span></li><li><span><a href=\"#Analysis\" data-toc-modified-id=\"Analysis-2\"><span class=\"toc-item-num\">2&nbsp;&nbsp;</span>Analysis</a></span><ul class=\"toc-item\"><li><span><a href=\"#Compare-screen-time-across-the-entire-dataset\" data-toc-modified-id=\"Compare-screen-time-across-the-entire-dataset-2.1\"><span class=\"toc-item-num\">2.1&nbsp;&nbsp;</span>Compare screen time across the entire dataset</a></span></li><li><span><a href=\"#Compare-screen-time-by-show\" data-toc-modified-id=\"Compare-screen-time-by-show-2.2\"><span class=\"toc-item-num\">2.2&nbsp;&nbsp;</span>Compare screen time by show</a></span><ul class=\"toc-item\"><li><span><a href=\"#Including-hosts\" data-toc-modified-id=\"Including-hosts-2.2.1\"><span class=\"toc-item-num\">2.2.1&nbsp;&nbsp;</span>Including hosts</a></span></li><li><span><a href=\"#Excluding-hosts\" data-toc-modified-id=\"Excluding-hosts-2.2.2\"><span class=\"toc-item-num\">2.2.2&nbsp;&nbsp;</span>Excluding hosts</a></span></li></ul></li></ul></li></ul></div>"
   ]
  },
  {
   "cell_type": "code",
   "execution_count": null,
   "metadata": {
    "ExecuteTime": {
     "end_time": "2018-07-28T07:42:48.549932Z",
     "start_time": "2018-07-28T07:42:37.499434Z"
    }
   },
   "outputs": [],
   "source": [
    "from esper.prelude import *\n",
    "from esper.stdlib import *\n",
    "from esper.topics import *\n",
    "from esper.spark_util import *\n",
    "from esper.plot_util import *\n",
    "from esper.major_canonical_shows import MAJOR_CANONICAL_SHOWS\n",
    "\n",
    "from datetime import timedelta\n",
    "from collections import defaultdict\n",
    "import _pickle as pickle"
   ]
  },
  {
   "cell_type": "markdown",
   "metadata": {},
   "source": [
    "# Choose a Topic"
   ]
  },
  {
   "cell_type": "code",
   "execution_count": null,
   "metadata": {
    "ExecuteTime": {
     "end_time": "2018-07-28T07:42:48.579977Z",
     "start_time": "2018-07-28T07:42:48.552610Z"
    }
   },
   "outputs": [],
   "source": [
    "topic = 'terrorism'"
   ]
  },
  {
   "cell_type": "code",
   "execution_count": null,
   "metadata": {
    "ExecuteTime": {
     "end_time": "2018-07-28T07:45:03.531855Z",
     "start_time": "2018-07-28T07:42:48.582162Z"
    }
   },
   "outputs": [],
   "source": [
    "lexicon = mutual_info(topic)"
   ]
  },
  {
   "cell_type": "code",
   "execution_count": null,
   "metadata": {
    "ExecuteTime": {
     "end_time": "2018-07-28T07:45:03.567266Z",
     "start_time": "2018-07-28T07:45:03.534335Z"
    }
   },
   "outputs": [],
   "source": [
    "for word, _ in lexicon:\n",
    "    print(word)"
   ]
  },
  {
   "cell_type": "code",
   "execution_count": null,
   "metadata": {
    "ExecuteTime": {
     "end_time": "2018-07-28T07:45:03.623874Z",
     "start_time": "2018-07-28T07:45:03.569418Z"
    }
   },
   "outputs": [],
   "source": [
    "selected_words = \"\"\"\n",
    "be terrorism\n",
    "domestic terrorism\n",
    "terrorism be\n",
    "terrorism\n",
    "fight terrorism\n",
    "islamic terrorism\n",
    "radical islamic terrorism\n",
    "counter terrorism\n",
    "state sponsor\n",
    "radical islamic\n",
    "sponsor\n",
    "homegrown\n",
    "islamic\n",
    "task force\n",
    "sponsors\n",
    "radical\n",
    "counter\n",
    "extremism\n",
    "# nance\n",
    "domestic\n",
    "violent extremism\n",
    "eradicate\n",
    "# obsolete\n",
    "islamist\n",
    "# mudd\n",
    "# mechanical\n",
    "nato be\n",
    "sponsored\n",
    "# qatar\n",
    "terrorize\n",
    "hate crime\n",
    "# task\n",
    "egyptair\n",
    "# be rule\n",
    "radicalization\n",
    "keep america safe\n",
    "radical islam\n",
    "jihadist\n",
    "malcolm\n",
    "lone wolf\n",
    "watch list\n",
    "# refuses\n",
    "special agent\n",
    "# workplace\n",
    "security analyst\n",
    "extremist\n",
    "destroy isis\n",
    "farook\n",
    "syed\n",
    "terrorist organization\n",
    "bernardino\n",
    "san bernardino\n",
    "# inspired\n",
    "islam be\n",
    "keep america\n",
    "# designate\n",
    "a terrorist\n",
    "islam\n",
    "hamas\n",
    "are investigate\n",
    "links\n",
    "egyptian\n",
    "iran be\n",
    "# defeat\n",
    "muslim country\n",
    "do appear\n",
    "terrorist\n",
    "terrorist groups\n",
    "# nypd\n",
    "hezbollah\n",
    "lone\n",
    "terrorist attacks\n",
    "terrorists\n",
    "motive\n",
    "muslim community\n",
    "counterterrorism\n",
    "radicalized\n",
    "terrorist attack\n",
    "# former cia\n",
    "fight against\n",
    "jihadi\n",
    "# france be\n",
    "# definition\n",
    "jihad\n",
    "america safe\n",
    "extremists\n",
    "egypt\n",
    "grown\n",
    "export\n",
    "nato\n",
    "war against\n",
    "combat\n",
    "munich\n",
    "threat\n",
    "# fbi say\n",
    "# related\n",
    "# soil\n",
    "chattanooga\n",
    "# act\n",
    "# analyst\n",
    "\"\"\""
   ]
  },
  {
   "cell_type": "code",
   "execution_count": null,
   "metadata": {
    "ExecuteTime": {
     "end_time": "2018-07-28T07:45:03.652849Z",
     "start_time": "2018-07-28T07:45:03.626086Z"
    }
   },
   "outputs": [],
   "source": [
    "selected_words_set = set()\n",
    "for line in selected_words.split('\\n'):\n",
    "    line = line.strip()\n",
    "    if line == '' or line[0] == '#':\n",
    "        continue\n",
    "    selected_words_set.add(line)\n",
    "filtered_lexicon = [x for x in lexicon if x[0] in selected_words_set]"
   ]
  },
  {
   "cell_type": "code",
   "execution_count": null,
   "metadata": {
    "ExecuteTime": {
     "end_time": "2018-07-28T07:47:34.094985Z",
     "start_time": "2018-07-28T07:45:03.654977Z"
    }
   },
   "outputs": [],
   "source": [
    "segments = find_segments(filtered_lexicon, window_size=500, \n",
    "                         threshold=100, merge_overlaps=True)"
   ]
  },
  {
   "cell_type": "code",
   "execution_count": null,
   "metadata": {
    "ExecuteTime": {
     "end_time": "2018-07-28T07:47:34.384982Z",
     "start_time": "2018-07-28T07:47:34.097345Z"
    }
   },
   "outputs": [],
   "source": [
    "show_segments(segments[:100])"
   ]
  },
  {
   "cell_type": "markdown",
   "metadata": {},
   "source": [
    "# Analysis"
   ]
  },
  {
   "cell_type": "code",
   "execution_count": null,
   "metadata": {
    "ExecuteTime": {
     "end_time": "2018-07-28T07:49:24.452287Z",
     "start_time": "2018-07-28T07:47:34.387185Z"
    }
   },
   "outputs": [],
   "source": [
    "face_genders = get_face_genders()\n",
    "face_genders = face_genders.where(face_genders.in_commercial == False)\n",
    "face_genders = face_genders.where(face_genders.size_percentile >= 25)\n",
    "\n",
    "intervals_by_video = defaultdict(list)\n",
    "for video_id, _, interval, _, _ in segments:\n",
    "    intervals_by_video[video_id].append(interval)\n",
    "    \n",
    "face_genders_with_topic_overlap = annotate_interval_overlap(face_genders, intervals_by_video)\n",
    "face_genders_with_topic_overlap = face_genders_with_topic_overlap.where(face_genders_with_topic_overlap.overlap_seconds > 0)"
   ]
  },
  {
   "cell_type": "markdown",
   "metadata": {},
   "source": [
    "## Compare screen time across the entire dataset"
   ]
  },
  {
   "cell_type": "code",
   "execution_count": null,
   "metadata": {
    "ExecuteTime": {
     "end_time": "2018-07-28T07:51:25.633054Z",
     "start_time": "2018-07-28T07:49:24.454657Z"
    }
   },
   "outputs": [],
   "source": [
    "gender_map = {g.name : g.id for g in Gender.objects.all()}\n",
    "distinct_columns = ['face_id']\n",
    "overlap_field = 'overlap_seconds'\n",
    "probability_field = 'probability'\n",
    "z_score = 1.96\n",
    "\n",
    "topic_screentime_with_woman = sum_distinct_over_column(\n",
    "    face_genders_with_topic_overlap.where(face_genders_with_topic_overlap.gender_id == gender_map['F']),\n",
    "    overlap_field,\n",
    "    distinct_columns,\n",
    "    probability_column=probability_field\n",
    ")\n",
    "print('Woman on screen: {:0.2f}h +/- {:0.02f}'.format(\n",
    "    topic_screentime_with_woman[0] / 3600, z_score * math.sqrt(topic_screentime_with_woman[1]) / 3600))\n",
    "topic_screentime_with_man = sum_distinct_over_column(\n",
    "    face_genders_with_topic_overlap.where(face_genders_with_topic_overlap.gender_id == gender_map['M']),\n",
    "    overlap_field,\n",
    "    distinct_columns,\n",
    "    probability_column=probability_field\n",
    ")\n",
    "print('Man on screen: {:0.2f}h +/- {:0.02f}'.format(\n",
    "    topic_screentime_with_man[0] / 3600, z_score * math.sqrt(topic_screentime_with_man[1]) / 3600))\n",
    "topic_screentime_with_nh_woman = sum_distinct_over_column(\n",
    "    face_genders_with_topic_overlap.where(\n",
    "        (face_genders_with_topic_overlap.gender_id == gender_map['F']) &\n",
    "        (face_genders_with_topic_overlap.host_probability <= 0.5)\n",
    "    ),\n",
    "    overlap_field,\n",
    "    distinct_columns,\n",
    "    probability_column=probability_field\n",
    ")\n",
    "print('Woman (non-host) on screen: {:0.2f}h +/- {:0.02f}'.format(\n",
    "    topic_screentime_with_nh_woman[0] / 3600, z_score * math.sqrt(topic_screentime_with_nh_woman[1]) / 3600))\n",
    "topic_screentime_with_nh_man = sum_distinct_over_column(\n",
    "    face_genders_with_topic_overlap.where(\n",
    "        (face_genders_with_topic_overlap.gender_id == gender_map['M']) &\n",
    "        (face_genders_with_topic_overlap.host_probability <= 0.5)\n",
    "    ),\n",
    "    overlap_field,\n",
    "    distinct_columns,\n",
    "    probability_column=probability_field\n",
    ")\n",
    "print('Man (non-host) on screen: {:0.2f}h  +/- {:0.02f}'.format(\n",
    "    topic_screentime_with_nh_man[0] / 3600, z_score * math.sqrt(topic_screentime_with_nh_man[1]) / 3600))"
   ]
  },
  {
   "cell_type": "markdown",
   "metadata": {},
   "source": [
    "## Compare screen time by show"
   ]
  },
  {
   "cell_type": "code",
   "execution_count": null,
   "metadata": {
    "ExecuteTime": {
     "end_time": "2018-07-28T07:51:25.799718Z",
     "start_time": "2018-07-28T07:51:25.641696Z"
    }
   },
   "outputs": [],
   "source": [
    "canoncal_show_map = { c.id : c.name for c in CanonicalShow.objects.all() }\n",
    "distinct_columns = ['face_id']\n",
    "group_by_columns = ['canonical_show_id']\n",
    "overlap_field = 'overlap_seconds'\n",
    "probability_field = 'probability'"
   ]
  },
  {
   "cell_type": "markdown",
   "metadata": {},
   "source": [
    "### Including hosts"
   ]
  },
  {
   "cell_type": "code",
   "execution_count": null,
   "metadata": {
    "ExecuteTime": {
     "end_time": "2018-07-28T07:52:07.787670Z",
     "start_time": "2018-07-28T07:51:25.802038Z"
    },
    "scrolled": false
   },
   "outputs": [],
   "source": [
    "CACHE_BASELINE_INCL_HOST_FILE = '/tmp/base_screentime_gender_incl_host_by_show.pkl'\n",
    "try:\n",
    "    with open(CACHE_BASELINE_INCL_HOST_FILE, 'rb') as f:\n",
    "        base_screentime_with_man_by_show, base_screentime_with_woman_by_show = pickle.load(f)\n",
    "    print('[Base] loaded from cache')\n",
    "except:\n",
    "    base_screentime_with_woman_by_show = {\n",
    "        canoncal_show_map[k[0]] : (timedelta(seconds=v[0]), v[1])\n",
    "        for k, v in sum_distinct_over_column(\n",
    "            face_genders.where((face_genders.gender_id == gender_map['F'])),\n",
    "            'duration', distinct_columns, group_by_columns,\n",
    "            probability_column=probability_field\n",
    "        ).items() if canoncal_show_map[k[0]] in MAJOR_CANONICAL_SHOWS\n",
    "    }\n",
    "    print('[Base] Woman on screen: done')\n",
    "    base_screentime_with_man_by_show = {\n",
    "        canoncal_show_map[k[0]] : (timedelta(seconds=v[0]), v[1])\n",
    "        for k, v in sum_distinct_over_column(\n",
    "            face_genders.where((face_genders.gender_id == gender_map['M'])),\n",
    "            'duration', distinct_columns, group_by_columns,\n",
    "            probability_column=probability_field\n",
    "        ).items() if canoncal_show_map[k[0]] in MAJOR_CANONICAL_SHOWS\n",
    "    }\n",
    "    print('[Base] Man on screen: done')\n",
    "    \n",
    "    with open(CACHE_BASELINE_INCL_HOST_FILE, 'wb') as f:\n",
    "        pickle.dump([base_screentime_with_man_by_show, base_screentime_with_woman_by_show], f)\n",
    "\n",
    "topic_screentime_with_woman_by_show = {\n",
    "    canoncal_show_map[k[0]] : (timedelta(seconds=v[0]), v[1])\n",
    "    for k, v in sum_distinct_over_column(\n",
    "        face_genders_with_topic_overlap.where(\n",
    "            (face_genders_with_topic_overlap.gender_id == gender_map['F'])\n",
    "        ),\n",
    "        overlap_field, distinct_columns, group_by_columns,\n",
    "        probability_column=probability_field\n",
    "    ).items() if canoncal_show_map[k[0]] in MAJOR_CANONICAL_SHOWS\n",
    "}\n",
    "print('[Topic] Woman on screen: done')\n",
    "topic_screentime_with_man_by_show = {\n",
    "    canoncal_show_map[k[0]] : (timedelta(seconds=v[0]), v[1])\n",
    "    for k, v in sum_distinct_over_column(\n",
    "        face_genders_with_topic_overlap.where(\n",
    "            (face_genders_with_topic_overlap.gender_id == gender_map['M'])\n",
    "        ),\n",
    "        overlap_field, distinct_columns, group_by_columns,\n",
    "        probability_column=probability_field\n",
    "    ).items() if canoncal_show_map[k[0]] in MAJOR_CANONICAL_SHOWS\n",
    "}\n",
    "print('[Topic] Man on screen: done')"
   ]
  },
  {
   "cell_type": "code",
   "execution_count": null,
   "metadata": {
    "ExecuteTime": {
     "end_time": "2018-07-28T07:52:08.841399Z",
     "start_time": "2018-07-28T07:52:07.789930Z"
    }
   },
   "outputs": [],
   "source": [
    "plot_binary_screentime_proportion_comparison(\n",
    "    ['Male (incl-host)', 'Female (incl-host)'], \n",
    "    [topic_screentime_with_man_by_show, topic_screentime_with_woman_by_show],\n",
    "    'Proportion of gendered screen time by show for topic \"{}\"'.format(topic),\n",
    "    'Show name',\n",
    "    'Proportion of screen time',\n",
    "    secondary_series_names=['Baseline Male (incl-host)', 'Baseline Female (incl-host)'],\n",
    "    secondary_data=[base_screentime_with_man_by_show, base_screentime_with_woman_by_show]\n",
    ")"
   ]
  },
  {
   "cell_type": "markdown",
   "metadata": {},
   "source": [
    "### Excluding hosts"
   ]
  },
  {
   "cell_type": "code",
   "execution_count": null,
   "metadata": {
    "ExecuteTime": {
     "end_time": "2018-07-28T07:53:11.757360Z",
     "start_time": "2018-07-28T07:52:08.843803Z"
    },
    "scrolled": true
   },
   "outputs": [],
   "source": [
    "CACHE_BASELINE_NO_HOST_FILE = '/tmp/base_screentime_gender_no_host_by_show.pkl'\n",
    "try:\n",
    "    with open(CACHE_BASELINE_NO_HOST_FILE, 'rb') as f:\n",
    "        base_screentime_with_nh_man_by_show, base_screentime_with_nh_woman_by_show = pickle.load(f)\n",
    "    print('[Base] loaded from cache')\n",
    "except:\n",
    "    base_screentime_with_nh_woman_by_show = {\n",
    "        canoncal_show_map[k[0]] : (timedelta(seconds=v[0]), v[1])\n",
    "        for k, v in sum_distinct_over_column(\n",
    "            face_genders.where(\n",
    "                (face_genders.gender_id == gender_map['F']) &\n",
    "                (face_genders.host_probability <= 0.25)\n",
    "            ),\n",
    "            'duration', distinct_columns, group_by_columns,\n",
    "            probability_column=probability_field\n",
    "        ).items() if canoncal_show_map[k[0]] in MAJOR_CANONICAL_SHOWS\n",
    "    }\n",
    "    print('[Base] Woman (non-host) on screen: done')\n",
    "    base_screentime_with_nh_man_by_show = {\n",
    "        canoncal_show_map[k[0]] : (timedelta(seconds=v[0]), v[1])\n",
    "        for k, v in sum_distinct_over_column(\n",
    "            face_genders.where(\n",
    "                (face_genders.gender_id == gender_map['M']) &\n",
    "                (face_genders.host_probability <= 0.25)\n",
    "            ),\n",
    "            'duration', distinct_columns, group_by_columns,\n",
    "            probability_column=probability_field\n",
    "        ).items() if canoncal_show_map[k[0]] in MAJOR_CANONICAL_SHOWS\n",
    "    }\n",
    "    print('[Base] Man (non-host) on screen: done')\n",
    "    \n",
    "    with open(CACHE_BASELINE_NO_HOST_FILE, 'wb') as f:\n",
    "        pickle.dump([base_screentime_with_nh_man_by_show, base_screentime_with_nh_woman_by_show], f)\n",
    "\n",
    "topic_screentime_with_nh_woman_by_show = {\n",
    "    canoncal_show_map[k[0]] : (timedelta(seconds=v[0]), v[1])\n",
    "    for k, v in sum_distinct_over_column(\n",
    "        face_genders_with_topic_overlap.where(\n",
    "            (face_genders_with_topic_overlap.gender_id == gender_map['F']) &\n",
    "            (face_genders_with_topic_overlap.host_probability <= 0.25)\n",
    "        ),\n",
    "        overlap_field, distinct_columns, group_by_columns,\n",
    "        probability_column=probability_field\n",
    "    ).items() if canoncal_show_map[k[0]] in MAJOR_CANONICAL_SHOWS\n",
    "}\n",
    "print('[Topic] Woman (non-host) on screen: done')\n",
    "topic_screentime_with_nh_man_by_show = {\n",
    "    canoncal_show_map[k[0]] : (timedelta(seconds=v[0]), v[1])\n",
    "    for k, v in sum_distinct_over_column(\n",
    "        face_genders_with_topic_overlap.where(\n",
    "            (face_genders_with_topic_overlap.gender_id == gender_map['M']) &\n",
    "            (face_genders_with_topic_overlap.host_probability <= 0.25)\n",
    "        ),\n",
    "        overlap_field, distinct_columns, group_by_columns,\n",
    "        probability_column=probability_field\n",
    "    ).items() if canoncal_show_map[k[0]] in MAJOR_CANONICAL_SHOWS\n",
    "}\n",
    "print('[Topic] Man (non-host) on screen: done')"
   ]
  },
  {
   "cell_type": "code",
   "execution_count": null,
   "metadata": {
    "ExecuteTime": {
     "end_time": "2018-07-28T07:53:12.669061Z",
     "start_time": "2018-07-28T07:53:11.759667Z"
    }
   },
   "outputs": [],
   "source": [
    "plot_binary_screentime_proportion_comparison(\n",
    "    ['Male (non-host)', 'Female (non-host)'], \n",
    "    [topic_screentime_with_nh_man_by_show, topic_screentime_with_nh_woman_by_show],\n",
    "    'Proportion of gendered screen time by show for topic \"{}\"'.format(topic),\n",
    "    'Show name',\n",
    "    'Proportion of screen time',\n",
    "    secondary_series_names=['Baseline Male (non-host)', 'Baseline Female (non-host)'],\n",
    "    secondary_data=[base_screentime_with_nh_man_by_show, base_screentime_with_nh_woman_by_show],\n",
    "    tertiary_series_names=['Male (incl-host)', 'Female (incl-host)'],\n",
    "    tertiary_data=[topic_screentime_with_man_by_show, topic_screentime_with_woman_by_show]\n",
    ")"
   ]
  },
  {
   "cell_type": "code",
   "execution_count": null,
   "metadata": {},
   "outputs": [],
   "source": []
  }
 ],
 "metadata": {
  "kernelspec": {
   "display_name": "Django Shell-Plus",
   "language": "python",
   "name": "django_extensions"
  },
  "language_info": {
   "codemirror_mode": {
    "name": "ipython",
    "version": 3
   },
   "file_extension": ".py",
   "mimetype": "text/x-python",
   "name": "python",
   "nbconvert_exporter": "python",
   "pygments_lexer": "ipython3",
   "version": "3.5.2"
  },
  "toc": {
   "base_numbering": 1,
   "nav_menu": {},
   "number_sections": true,
   "sideBar": false,
   "skip_h1_title": false,
   "title_cell": "Table of Contents",
   "title_sidebar": "Contents",
   "toc_cell": true,
   "toc_position": {},
   "toc_section_display": "block",
   "toc_window_display": false
  }
 },
 "nbformat": 4,
 "nbformat_minor": 2
}
