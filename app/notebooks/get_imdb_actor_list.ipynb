{
 "cells": [
  {
   "cell_type": "markdown",
   "metadata": {
    "toc": true
   },
   "source": [
    "<h1>Table of Contents<span class=\"tocSkip\"></span></h1>\n",
    "<div class=\"toc\" style=\"margin-top: 1em;\"><ul class=\"toc-item\"></ul></div>"
   ]
  },
  {
   "cell_type": "code",
   "execution_count": null,
   "metadata": {
    "ExecuteTime": {
     "end_time": "2018-12-11T23:18:06.558033Z",
     "start_time": "2018-12-11T23:18:06.537317Z"
    }
   },
   "outputs": [],
   "source": [
    "import imdb\n",
    "\n",
    "IMDB = imdb.IMDb()\n",
    "\n",
    "def print_actors(film_name):\n",
    "    search_results = IMDB.search_movie(film_name)\n",
    "    assert search_results, 'Search failed'\n",
    "    print('Showing people in: ', search_results[0]['long imdb title'])\n",
    "    movie_id = search_results[0].movieID\n",
    "    movie = IMDB.get_movie(movie_id)\n",
    "    assert movie, 'Get movie failed'\n",
    "    cast = movie.get('cast')\n",
    "    print('')\n",
    "    for actor in cast:\n",
    "        if actor.currentRole:\n",
    "            character = actor.currentRole\n",
    "        else:\n",
    "            character = actor.notes\n",
    "        if character and 'uncredited' not in character:\n",
    "            print('{}, {}'.format(actor['name'], character))"
   ]
  },
  {
   "cell_type": "markdown",
   "metadata": {},
   "source": [
    "The purpose of this notebook is to fetch actors and characters."
   ]
  },
  {
   "cell_type": "code",
   "execution_count": null,
   "metadata": {
    "ExecuteTime": {
     "end_time": "2018-12-11T23:48:45.133397Z",
     "start_time": "2018-12-11T23:48:38.739746Z"
    },
    "scrolled": false
   },
   "outputs": [],
   "source": [
    "print_actors('harry potter and the chamber of secrets')"
   ]
  },
  {
   "cell_type": "code",
   "execution_count": null,
   "metadata": {},
   "outputs": [],
   "source": []
  }
 ],
 "metadata": {
  "kernelspec": {
   "display_name": "Python 3",
   "language": "python",
   "name": "python3"
  },
  "language_info": {
   "codemirror_mode": {
    "name": "ipython",
    "version": 3
   },
   "file_extension": ".py",
   "mimetype": "text/x-python",
   "name": "python",
   "nbconvert_exporter": "python",
   "pygments_lexer": "ipython3",
   "version": "3.5.2"
  },
  "toc": {
   "base_numbering": 1,
   "nav_menu": {},
   "number_sections": true,
   "sideBar": false,
   "skip_h1_title": false,
   "title_cell": "Table of Contents",
   "title_sidebar": "Contents",
   "toc_cell": true,
   "toc_position": {},
   "toc_section_display": "block",
   "toc_window_display": false
  }
 },
 "nbformat": 4,
 "nbformat_minor": 2
}
