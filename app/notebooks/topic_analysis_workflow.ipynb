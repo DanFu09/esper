{
 "cells": [
  {
   "cell_type": "markdown",
   "metadata": {
    "toc": true
   },
   "source": [
    "<h1>Table of Contents<span class=\"tocSkip\"></span></h1>\n",
    "<div class=\"toc\" style=\"margin-top: 1em;\"><ul class=\"toc-item\"><li><span><a href=\"#Enter-a-Topic\" data-toc-modified-id=\"Enter-a-Topic-1\"><span class=\"toc-item-num\">1&nbsp;&nbsp;</span>Enter a Topic</a></span></li><li><span><a href=\"#Build-a-Lexicon\" data-toc-modified-id=\"Build-a-Lexicon-2\"><span class=\"toc-item-num\">2&nbsp;&nbsp;</span>Build a Lexicon</a></span></li><li><span><a href=\"#Search-for-Segments\" data-toc-modified-id=\"Search-for-Segments-3\"><span class=\"toc-item-num\">3&nbsp;&nbsp;</span>Search for Segments</a></span></li><li><span><a href=\"#Validation\" data-toc-modified-id=\"Validation-4\"><span class=\"toc-item-num\">4&nbsp;&nbsp;</span>Validation</a></span><ul class=\"toc-item\"><li><span><a href=\"#Assert-No-Double-Counting\" data-toc-modified-id=\"Assert-No-Double-Counting-4.1\"><span class=\"toc-item-num\">4.1&nbsp;&nbsp;</span>Assert No Double Counting</a></span></li><li><span><a href=\"#Sensitivity-of-Total-Segment-Length-to-Window-Size\" data-toc-modified-id=\"Sensitivity-of-Total-Segment-Length-to-Window-Size-4.2\"><span class=\"toc-item-num\">4.2&nbsp;&nbsp;</span>Sensitivity of Total Segment Length to Window Size</a></span></li><li><span><a href=\"#Sensitivity-of-Total-Segment-Length-to-Threshold\" data-toc-modified-id=\"Sensitivity-of-Total-Segment-Length-to-Threshold-4.3\"><span class=\"toc-item-num\">4.3&nbsp;&nbsp;</span>Sensitivity of Total Segment Length to Threshold</a></span></li><li><span><a href=\"#Overlap-Between-Topics\" data-toc-modified-id=\"Overlap-Between-Topics-4.4\"><span class=\"toc-item-num\">4.4&nbsp;&nbsp;</span>Overlap Between Topics</a></span></li></ul></li><li><span><a href=\"#Analysis\" data-toc-modified-id=\"Analysis-5\"><span class=\"toc-item-num\">5&nbsp;&nbsp;</span>Analysis</a></span><ul class=\"toc-item\"><li><span><a href=\"#Topic-by-Show\" data-toc-modified-id=\"Topic-by-Show-5.1\"><span class=\"toc-item-num\">5.1&nbsp;&nbsp;</span>Topic by Show</a></span><ul class=\"toc-item\"><li><span><a href=\"#Topic-by-Show-By-Year\" data-toc-modified-id=\"Topic-by-Show-By-Year-5.1.1\"><span class=\"toc-item-num\">5.1.1&nbsp;&nbsp;</span>Topic by Show By Year</a></span></li><li><span><a href=\"#Topic-by-Show-By-Quarter\" data-toc-modified-id=\"Topic-by-Show-By-Quarter-5.1.2\"><span class=\"toc-item-num\">5.1.2&nbsp;&nbsp;</span>Topic by Show By Quarter</a></span></li></ul></li><li><span><a href=\"#Multitopic-Comparison\" data-toc-modified-id=\"Multitopic-Comparison-5.2\"><span class=\"toc-item-num\">5.2&nbsp;&nbsp;</span>Multitopic Comparison</a></span></li></ul></li></ul></div>"
   ]
  },
  {
   "cell_type": "code",
   "execution_count": null,
   "metadata": {
    "ExecuteTime": {
     "end_time": "2018-07-12T16:07:49.533449Z",
     "start_time": "2018-07-12T16:07:45.167303Z"
    }
   },
   "outputs": [],
   "source": [
    "from esper.prelude import *\n",
    "from esper.stdlib import *\n",
    "from esper.topics import *"
   ]
  },
  {
   "cell_type": "markdown",
   "metadata": {},
   "source": [
    "# Enter a Topic"
   ]
  },
  {
   "cell_type": "code",
   "execution_count": null,
   "metadata": {
    "ExecuteTime": {
     "end_time": "2018-07-12T16:07:49.566813Z",
     "start_time": "2018-07-12T16:07:49.536245Z"
    }
   },
   "outputs": [],
   "source": [
    "topic = 'syria'"
   ]
  },
  {
   "cell_type": "markdown",
   "metadata": {},
   "source": [
    "# Build a Lexicon"
   ]
  },
  {
   "cell_type": "code",
   "execution_count": null,
   "metadata": {
    "ExecuteTime": {
     "end_time": "2018-07-12T16:10:59.614735Z",
     "start_time": "2018-07-12T16:07:49.569513Z"
    },
    "scrolled": true
   },
   "outputs": [],
   "source": [
    "lexicon = mutual_info(topic)\n",
    "lexicon"
   ]
  },
  {
   "cell_type": "markdown",
   "metadata": {},
   "source": [
    "# Search for Segments"
   ]
  },
  {
   "cell_type": "code",
   "execution_count": null,
   "metadata": {
    "ExecuteTime": {
     "end_time": "2018-07-12T16:12:04.433843Z",
     "start_time": "2018-07-12T16:10:59.617790Z"
    }
   },
   "outputs": [],
   "source": [
    "segments = find_segments(lexicon, window_size=100, threshold=50)"
   ]
  },
  {
   "cell_type": "code",
   "execution_count": null,
   "metadata": {
    "ExecuteTime": {
     "end_time": "2018-07-12T16:12:32.022686Z",
     "start_time": "2018-07-12T16:12:04.436436Z"
    },
    "scrolled": false
   },
   "outputs": [],
   "source": [
    "show_segments(segments)"
   ]
  },
  {
   "cell_type": "markdown",
   "metadata": {},
   "source": [
    "# Validation"
   ]
  },
  {
   "cell_type": "code",
   "execution_count": null,
   "metadata": {
    "ExecuteTime": {
     "end_time": "2018-07-12T01:22:53.515630Z",
     "start_time": "2018-07-12T01:22:53.477241Z"
    }
   },
   "outputs": [],
   "source": [
    "print('Coverage of \"{}\": {:0.2f} hrs'.format(topic, get_total_segment_length(segments).total_seconds() / 60 / 60))"
   ]
  },
  {
   "cell_type": "markdown",
   "metadata": {},
   "source": [
    "## Assert No Double Counting\n",
    "This might happen if we have more than one transcript file loaded for each video."
   ]
  },
  {
   "cell_type": "code",
   "execution_count": null,
   "metadata": {
    "ExecuteTime": {
     "end_time": "2018-07-11T21:02:20.250041Z",
     "start_time": "2018-07-11T21:02:20.207803Z"
    }
   },
   "outputs": [],
   "source": [
    "check_for_double_counting(segments)"
   ]
  },
  {
   "cell_type": "markdown",
   "metadata": {},
   "source": [
    "## Sensitivity of Total Segment Length to Window Size\n",
    "\n",
    "We are interested in the stability of the total segment runtime when window size is varied. A low variation indicates that the algorithm is not sensitive to the choice of the window size parameter."
   ]
  },
  {
   "cell_type": "code",
   "execution_count": null,
   "metadata": {
    "ExecuteTime": {
     "end_time": "2018-07-11T22:55:44.309384Z",
     "start_time": "2018-07-11T22:35:51.198025Z"
    },
    "scrolled": false
   },
   "outputs": [],
   "source": [
    "plot_total_segment_length_vs_window_size(\n",
    "    lexicon,\n",
    "    window_sizes=[10, 50, 100, 250, 500, 1000]\n",
    ")"
   ]
  },
  {
   "cell_type": "markdown",
   "metadata": {},
   "source": [
    "## Sensitivity of Total Segment Length to Threshold\n",
    "\n",
    "We are interested in the stability of the total segment runtime when the threshold is varied. A low variation indicates that the algorithm is not sensitive to the choice of the threshold parameter."
   ]
  },
  {
   "cell_type": "code",
   "execution_count": null,
   "metadata": {
    "ExecuteTime": {
     "end_time": "2018-07-11T23:03:38.742312Z",
     "start_time": "2018-07-11T22:55:44.312245Z"
    },
    "scrolled": false
   },
   "outputs": [],
   "source": [
    "plot_total_segment_length_vs_threshold(\n",
    "    lexicon, \n",
    "    thresholds=[5, 10, 25, 50, 75, 100, 200]\n",
    ")"
   ]
  },
  {
   "cell_type": "markdown",
   "metadata": {},
   "source": [
    "## Overlap Between Topics\n",
    "\n",
    "Some topics are subtopics of another topic. For instance, we expect \"affordable care act\" to be a subtopic of \"healthcare\". This section prints out the segment overlap between topics."
   ]
  },
  {
   "cell_type": "code",
   "execution_count": null,
   "metadata": {
    "ExecuteTime": {
     "end_time": "2018-07-12T16:12:32.073579Z",
     "start_time": "2018-07-12T16:12:32.041757Z"
    }
   },
   "outputs": [],
   "source": [
    "related_topics = ['isis', 'terrorism', 'middle east', 'islam']\n",
    "unrelated_topics = ['baseball', 'healthcare', 'taxes']"
   ]
  },
  {
   "cell_type": "code",
   "execution_count": null,
   "metadata": {
    "ExecuteTime": {
     "end_time": "2018-07-12T16:49:00.131303Z",
     "start_time": "2018-07-12T16:12:32.076166Z"
    },
    "scrolled": false
   },
   "outputs": [],
   "source": [
    "topics = [topic] + related_topics + unrelated_topics\n",
    "assert len(topics) > 1\n",
    "topic_overlap = get_overlap_between_topics(\n",
    "    [topic] + related_topics + unrelated_topics, \n",
    "    window_size=250\n",
    ")\n",
    "topic_overlap"
   ]
  },
  {
   "cell_type": "markdown",
   "metadata": {},
   "source": [
    "# Analysis"
   ]
  },
  {
   "cell_type": "markdown",
   "metadata": {},
   "source": [
    "## Topic by Show"
   ]
  },
  {
   "cell_type": "code",
   "execution_count": null,
   "metadata": {
    "ExecuteTime": {
     "end_time": "2018-07-12T15:13:42.283208Z",
     "start_time": "2018-07-12T15:13:41.572499Z"
    }
   },
   "outputs": [],
   "source": [
    "topic_time_by_show = get_topic_time_by_show(segments)\n",
    "plot_topic_time_by_show(topic, topic_time_by_show)"
   ]
  },
  {
   "cell_type": "markdown",
   "metadata": {},
   "source": [
    "### Topic by Show By Year"
   ]
  },
  {
   "cell_type": "code",
   "execution_count": null,
   "metadata": {
    "ExecuteTime": {
     "end_time": "2018-07-12T15:45:19.307012Z",
     "start_time": "2018-07-12T15:45:18.185320Z"
    },
    "scrolled": false
   },
   "outputs": [],
   "source": [
    "plot_topic_by_show_over_time(topic, segments)"
   ]
  },
  {
   "cell_type": "markdown",
   "metadata": {},
   "source": [
    "### Topic by Show By Quarter"
   ]
  },
  {
   "cell_type": "code",
   "execution_count": null,
   "metadata": {
    "ExecuteTime": {
     "end_time": "2018-07-12T15:51:16.882484Z",
     "start_time": "2018-07-12T15:51:13.059350Z"
    },
    "scrolled": false
   },
   "outputs": [],
   "source": [
    "plot_topic_by_show_over_time(topic, segments, quarters=True)"
   ]
  },
  {
   "cell_type": "markdown",
   "metadata": {},
   "source": [
    "## Multitopic Comparison"
   ]
  },
  {
   "cell_type": "code",
   "execution_count": null,
   "metadata": {
    "ExecuteTime": {
     "end_time": "2018-07-12T17:17:39.955439Z",
     "start_time": "2018-07-12T17:17:39.868688Z"
    }
   },
   "outputs": [],
   "source": [
    "topics_to_compare = ['healthcare', 'election', 'email', 'immigration']"
   ]
  },
  {
   "cell_type": "code",
   "execution_count": null,
   "metadata": {
    "ExecuteTime": {
     "end_time": "2018-07-12T17:43:39.357898Z",
     "start_time": "2018-07-12T17:17:40.276752Z"
    }
   },
   "outputs": [],
   "source": [
    "topics = [topic] + topics_to_compare\n",
    "assert len(topics) > 1\n",
    "\n",
    "def plot_topic_comparison_by_show(topics, window_size=250, threshold=50):\n",
    "    topic_times_by_show = []\n",
    "    for topic in topics:\n",
    "        lexicon = mutual_info(topic)\n",
    "        segments = find_segments(lexicon, window_size=window_size, threshold=threshold)\n",
    "        topic_times_by_show.append(get_topic_time_by_show(segments))\n",
    "    plot_topic_time_by_show(topics, topic_times_by_show)\n",
    "    \n",
    "plot_topic_comparison_by_show(topics)"
   ]
  },
  {
   "cell_type": "code",
   "execution_count": null,
   "metadata": {},
   "outputs": [],
   "source": []
  }
 ],
 "metadata": {
  "kernelspec": {
   "display_name": "Django Shell-Plus",
   "language": "python",
   "name": "django_extensions"
  },
  "language_info": {
   "codemirror_mode": {
    "name": "ipython",
    "version": 3
   },
   "file_extension": ".py",
   "mimetype": "text/x-python",
   "name": "python",
   "nbconvert_exporter": "python",
   "pygments_lexer": "ipython3",
   "version": "3.5.2"
  },
  "toc": {
   "base_numbering": 1,
   "nav_menu": {},
   "number_sections": true,
   "sideBar": false,
   "skip_h1_title": false,
   "title_cell": "Table of Contents",
   "title_sidebar": "Contents",
   "toc_cell": true,
   "toc_position": {},
   "toc_section_display": "block",
   "toc_window_display": false
  }
 },
 "nbformat": 4,
 "nbformat_minor": 2
}
