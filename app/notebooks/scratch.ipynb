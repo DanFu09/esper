{
 "cells": [
  {
   "cell_type": "code",
   "execution_count": null,
   "metadata": {},
   "outputs": [],
   "source": [
    "from query.datasets.prelude import *\n",
    "from query.datasets.ingest import ingest_pose"
   ]
  },
  {
   "cell_type": "code",
   "execution_count": null,
   "metadata": {},
   "outputs": [],
   "source": [
    "# Video.objects.annotate(\n",
    "#                 c=Subquery(\n",
    "#                     Shot.objects.filter(video=OuterRef('pk')).values('video') \\\n",
    "#                     .annotate(c=Count('video')).values('c')\n",
    "#                 )).filter(c__isnull=False).values('path') \n",
    "# videos = Video.objects.filter(height__gt=480)\n",
    "# for v in videos:\n",
    "#     v.height = 480\n",
    "#     v.save()"
   ]
  },
  {
   "cell_type": "code",
   "execution_count": null,
   "metadata": {},
   "outputs": [],
   "source": [
    "video_map = {v.path: v for v in Video.objects.all()}\n",
    "with open('/app/all_videos_dl.txt') as f:\n",
    "    paths = ['tvnews/videos/{}.mp4'.format(s.strip()) for s in f.readlines()]\n",
    "videos = [video_map[path] for path in paths]"
   ]
  },
  {
   "cell_type": "code",
   "execution_count": null,
   "metadata": {},
   "outputs": [],
   "source": [
    "with Database(prefetch_table_metadata=False) as db:\n",
    "    tables = [db.table(v.path + '_shots') \n",
    "             for v in videos if db.has_table(v.path + '_shots') and db.table(v.path + '_shots').committed()]\n",
    "    print(len(tables))\n",
    "    \n",
    "    def load(t):\n",
    "        try:\n",
    "            return pickle.loads(next(t.column('shots').load(rows=[t.num_rows() - 1]))[1])\n",
    "        except Exception:\n",
    "            traceback.print_exc()\n",
    "            print(t.name())\n",
    "            return None\n",
    "    \n",
    "    shots = par_for(load, tables)\n",
    "    print('Done!')"
   ]
  },
  {
   "cell_type": "code",
   "execution_count": null,
   "metadata": {},
   "outputs": [],
   "source": [
    "pickle.dump([(t.name(), l) for t, l in zip(tables, shots)], open('all_shots.pkl', 'wb'), pickle.HIGHEST_PROTOCOL)"
   ]
  },
  {
   "cell_type": "code",
   "execution_count": null,
   "metadata": {},
   "outputs": [],
   "source": [
    "as1 = pickle.load(open('all_shots.pkl', 'rb'))\n",
    "as2 = pcache.get('all_shots_2')"
   ]
  },
  {
   "cell_type": "code",
   "execution_count": null,
   "metadata": {},
   "outputs": [],
   "source": [
    "def bulk_load(db, videos):\n",
    "    shots = [\n",
    "        db.table(v.path + '_shots') for v in videos\n",
    "        if db.has_table(v.path + '_shots') and db.table(v.path + '_shots').committed()\n",
    "    ]\n",
    "\n",
    "    def load(t):\n",
    "        try:\n",
    "            return pickle.loads(next(t.column('shots').load(rows=[t.num_rows() - 1]))[1])\n",
    "        except Exception:\n",
    "            traceback.print_exc()\n",
    "            print(t.name())\n",
    "            return None\n",
    "\n",
    "    return par_for(load, shots)\n",
    "\n",
    "log.debug('Loading videos')\n",
    "videos = list(Video.objects.annotate(\n",
    "                c=Subquery(\n",
    "                    Shot.objects.filter(video=OuterRef('pk')).values('video') \\\n",
    "                    .annotate(c=Count('video')).values('c')\n",
    "                )).filter(c__isnull=False))\n",
    "log.debug('Connecting to db')\n",
    "with Database() as db:\n",
    "    log.debug('Loading data')\n",
    "    db._load_db_metadata()\n",
    "    shots = bulk_load(db, videos)"
   ]
  },
  {
   "cell_type": "code",
   "execution_count": null,
   "metadata": {},
   "outputs": [],
   "source": [
    "Frame.objects.filter(tags__name='openpose:labeled').count()"
   ]
  },
  {
   "cell_type": "code",
   "execution_count": null,
   "metadata": {},
   "outputs": [],
   "source": [
    "pose = Pose.objects.get(id=1625727)\n",
    "pose.pose_keypoints()[Pose.Nose]"
   ]
  },
  {
   "cell_type": "code",
   "execution_count": null,
   "metadata": {},
   "outputs": [],
   "source": [
    "from query.datasets.tvnews.face_embed import face_embed\n",
    "\n",
    "video = Video.objects.get(path='tvnews/videos/MSNBC_20100827_060000_The_Rachel_Maddow_Show.mp4')\n",
    "face = Face.objects.get(id=119091)\n",
    "FaceFeatures.objects.filter(face=face).delete()\n",
    "face_embed([video], [[[face]]], force=True)\n"
   ]
  },
  {
   "cell_type": "code",
   "execution_count": null,
   "metadata": {},
   "outputs": [],
   "source": [
    "face = Face.objects.get(id=119083)\n",
    "FaceFeatures.objects.get(face=face).id"
   ]
  },
  {
   "cell_type": "code",
   "execution_count": null,
   "metadata": {},
   "outputs": [],
   "source": [
    "db = Database()"
   ]
  },
  {
   "cell_type": "code",
   "execution_count": null,
   "metadata": {},
   "outputs": [],
   "source": [
    "#Person.objects.filter(frame__video__path='tvnews/videos/MSNBC_20090703_010000_The_Rachel_Maddow_Show.mp4').delete()\n",
    "#Face.objects.all().count()\n",
    "#Video.objects.all().distinct('height').values('height')\n",
    "\n",
    "with open('/app/paths') as f:\n",
    "    paths = [s.strip() for s in f.readlines()]\n",
    "    \n",
    "tag, _ = Tag.objects.get_or_create(name='pose-test')    \n",
    "for path in paths:\n",
    "    video = Video.objects.get(path=path)\n",
    "    VideoTag(video=video, tag=tag).save()"
   ]
  },
  {
   "cell_type": "code",
   "execution_count": null,
   "metadata": {},
   "outputs": [],
   "source": [
    "Video.objects.filter(videotag__tag__name='pose-test').values('path')"
   ]
  },
  {
   "cell_type": "code",
   "execution_count": null,
   "metadata": {},
   "outputs": [],
   "source": [
    "#FaceFeatures.objects.filter(face__person__frame__video__videotag__tag__name='pose-test').count()\n",
    "#print Face.objects.all().order_by('facefeatures__distto').values('id').query\n",
    "#PersonTrack.objects.filter(video__path='tvnews/videos/MSNBC_20100827_060000_The_Rachel_Maddow_Show.mp4') \\\n",
    "#    .annotate(duration=Track.duration()).values()\n",
    "\n",
    "#id = 2043\n",
    "#FaceFeatures.compute_distances(id)\n",
    "tracks = list(PersonTrack.objects.filter(video__videotag__tag__name='pose-test') \\\n",
    "#tracks = list(PersonTrack.objects.filter(video__path='tvnews/videos/MSNBCW_20120303_020000_The_Rachel_Maddow_Show.mp4') \\\n",
    "    .annotate(c=Subquery(\n",
    "        Face.objects.filter(person__tracks=OuterRef('pk')) \\\n",
    "        .filter(labeler__name='tinyfaces', facefeatures__distto__isnull=False, facefeatures__distto__lte=1.0) \\\n",
    "        .values('person__tracks')\n",
    "        .annotate(c=Count('*'))\n",
    "        .values('c'), models.IntegerField()\n",
    "        )) \\\n",
    "    .filter(c__gt=0))\n",
    "len(tracks)"
   ]
  },
  {
   "cell_type": "code",
   "execution_count": null,
   "metadata": {},
   "outputs": [],
   "source": [
    "frames = defaultdict(set)    \n",
    "for track in tracks:\n",
    "    frames[track.video.path] |= set(range(track.min_frame, track.max_frame, 3))\n",
    "\n",
    "# for path in frames.keys():    \n",
    "#     if path == 'tvnews/videos/MSNBCW_20120303_020000_The_Rachel_Maddow_Show.mp4': continue\n",
    "#     print(path)\n",
    "#     #print('Deleting')\n",
    "#     #Person.objects.filter(frame__video=Video.objects.get(path=path))\n",
    "#     #Pose.objects.filter(person__frame__video=Video.objects.get(path=path)).delete()\n",
    "#     print('Ingesting')\n",
    "#     ingest_pose(\n",
    "#         Video.objects.get(path=path),\n",
    "#         db.table(path + '_poses_gather'),\n",
    "#         sorted(frames[path]))\n",
    "#     print('Ingested!')\n",
    "\n",
    "with open('/app/chris-matthews-frames', 'w') as f:\n",
    "    for path, frames in frames.iteritems():\n",
    "        print(path)\n",
    "        f.write('{} {}\\n'.format(path, ' '.join([str(s) for s in sorted(frames)])))"
   ]
  },
  {
   "cell_type": "code",
   "execution_count": null,
   "metadata": {},
   "outputs": [],
   "source": [
    "def closest_pose(candidates, target):\n",
    "    noses = [pose.pose_keypoints()[Pose.Nose] for pose in candidates]\n",
    "    noses, indices = zip(*[(nose[:2], i) for i, nose in enumerate(noses) if nose[2] > 0])\n",
    "    dists = np.linalg.norm(np.array(noses) - target, axis=1)\n",
    "    closest = candidates[indices[np.argmin(dists)]]\n",
    "    return closest"
   ]
  },
  {
   "cell_type": "code",
   "execution_count": null,
   "metadata": {},
   "outputs": [],
   "source": [
    "# Match detected poses with the sparse faces \n",
    "for track in tracks:\n",
    "    faces = list(Face.objects.filter(person__tracks=track).select_related('person__frame'))\n",
    "    for face in faces:\n",
    "        poses = list(Pose.objects.filter(person__frame=face.person.frame))\n",
    "        if len(poses) == 0:\n",
    "            continue\n",
    "        closest = closest_pose(poses, bbox_midpoint(face))\n",
    "        closest.person = face.person\n",
    "        closest.save()"
   ]
  },
  {
   "cell_type": "code",
   "execution_count": null,
   "metadata": {},
   "outputs": [],
   "source": [
    "# Fill in tracks with poses\n",
    "for track in tracks:\n",
    "    faces = list(Face.objects.filter(person__tracks=track).select_related('person__frame') \\\n",
    "                 .order_by('person__frame__number'))\n",
    "    for i in range(len(faces) - 1):\n",
    "        try:\n",
    "            last_pose = Pose.objects.get(person=faces[i].person)\n",
    "            for j in range(faces[i].person.frame.number, faces[i+1].person.frame.number, 3):\n",
    "                cur_poses = Pose.objects.filter(person__frame__video=track.video, person__frame__number=j)\n",
    "                if len(cur_poses) == 0:\n",
    "                    continue\n",
    "                closest = closest_pose(cur_poses, last_pose.pose_keypoints()[Pose.Nose][:2])\n",
    "                closest.person.tracks.add(track)\n",
    "                closest.save()\n",
    "                last_pose = closest\n",
    "        except Pose.DoesNotExist:\n",
    "            pass      "
   ]
  },
  {
   "cell_type": "code",
   "execution_count": null,
   "metadata": {},
   "outputs": [],
   "source": [
    "for track in tracks:\n",
    "    print(track.id, track.max_frame-track.min_frame, Person.objects.filter(tracks=track).count())"
   ]
  },
  {
   "cell_type": "code",
   "execution_count": null,
   "metadata": {},
   "outputs": [],
   "source": [
    "# TODO: need to associate faces with poses\n",
    "[p1, p2] = Pose.objects.all()[:2]\n",
    "\n",
    "def pose_dist(p1, p2):\n",
    "    kp1 = p1.pose_keypoints()\n",
    "    kp2 = p2.pose_keypoints()\n",
    "    \n",
    "    weights = defaultdict(float, {\n",
    "        Pose.LWrist: 0.4,\n",
    "        Pose.RWrist: 0.4,\n",
    "        Pose.Nose: 0.1,        \n",
    "        Pose.LElbow: 0.05,\n",
    "        Pose.RElbow: 0.05\n",
    "    })\n",
    "    weight_vector = [weights[i] for i in range(Pose.POSE_KEYPOINTS)]\n",
    "    \n",
    "    dist = np.linalg.norm(kp2[:,:2] - kp1[:,:2], axis=1)\n",
    "    weighted_dist = np.array([d * w for d, s, w in zip(dist, kp2[:, 2], weight_vector) if s > 0])\n",
    "    return np.linalg.norm(weighted_dist)"
   ]
  },
  {
   "cell_type": "code",
   "execution_count": null,
   "metadata": {},
   "outputs": [],
   "source": [
    "all_dists = []\n",
    "for track in tracks:\n",
    "    poses = list(Pose.objects.filter(person__tracks=track).order_by('person__frame__number'))\n",
    "    dists = [pose_dist(poses[i], poses[i+1]) for i in range(len(poses) - 1)]\n",
    "    all_dists.append((track.id, np.mean(dists), track.duration()))\n",
    "\n",
    "pprint(sorted(all_dists, key=itemgetter(1), reverse=True))"
   ]
  }
 ],
 "metadata": {
  "kernelspec": {
   "display_name": "Django Shell-Plus",
   "language": "python",
   "name": "django_extensions"
  },
  "language_info": {
   "codemirror_mode": {
    "name": "ipython",
    "version": 2
   },
   "file_extension": ".py",
   "mimetype": "text/x-python",
   "name": "python",
   "nbconvert_exporter": "python",
   "pygments_lexer": "ipython2",
   "version": "2.7.14"
  },
  "toc": {
   "nav_menu": {},
   "number_sections": true,
   "sideBar": false,
   "skip_h1_title": false,
   "toc_cell": false,
   "toc_position": {},
   "toc_section_display": "block",
   "toc_window_display": false
  }
 },
 "nbformat": 4,
 "nbformat_minor": 2
}
