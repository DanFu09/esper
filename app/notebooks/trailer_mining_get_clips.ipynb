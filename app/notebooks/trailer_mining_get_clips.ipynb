{
 "cells": [
  {
   "cell_type": "code",
   "execution_count": 69,
   "metadata": {
    "ExecuteTime": {
     "end_time": "2019-06-05T18:21:07.640420Z",
     "start_time": "2019-06-05T18:21:07.608911Z"
    }
   },
   "outputs": [],
   "source": [
    "from query.models import Video\n",
    "from tqdm import tqdm\n",
    "import os\n",
    "import datetime\n",
    "from shutil import copyfile\n",
    "import urllib.parse"
   ]
  },
  {
   "cell_type": "code",
   "execution_count": 70,
   "metadata": {
    "ExecuteTime": {
     "end_time": "2019-06-05T18:21:09.170670Z",
     "start_time": "2019-06-05T18:21:09.146601Z"
    }
   },
   "outputs": [],
   "source": [
    "BASE_FOLDER = '/app/data/trailer_mining'"
   ]
  },
  {
   "cell_type": "code",
   "execution_count": 71,
   "metadata": {
    "ExecuteTime": {
     "end_time": "2019-06-05T18:21:09.842488Z",
     "start_time": "2019-06-05T18:21:09.819201Z"
    }
   },
   "outputs": [],
   "source": [
    "BASE_URL = 'http://35.227.173.62:8888/tree'"
   ]
  },
  {
   "cell_type": "markdown",
   "metadata": {},
   "source": [
    "# Revenge of the Sith"
   ]
  },
  {
   "cell_type": "code",
   "execution_count": 72,
   "metadata": {
    "ExecuteTime": {
     "end_time": "2019-06-05T18:21:11.542830Z",
     "start_time": "2019-06-05T18:21:11.519662Z"
    }
   },
   "outputs": [],
   "source": [
    "MOVIE_FOLDER = os.path.join(BASE_FOLDER, 'rots')"
   ]
  },
  {
   "cell_type": "code",
   "execution_count": 73,
   "metadata": {
    "ExecuteTime": {
     "end_time": "2019-06-05T18:21:12.248465Z",
     "start_time": "2019-06-05T18:21:12.224688Z"
    }
   },
   "outputs": [],
   "source": [
    "video_id = 186"
   ]
  },
  {
   "cell_type": "code",
   "execution_count": 74,
   "metadata": {
    "ExecuteTime": {
     "end_time": "2019-06-05T18:21:12.831110Z",
     "start_time": "2019-06-05T18:21:12.802593Z"
    }
   },
   "outputs": [],
   "source": [
    "video = Video.objects.get(id=video_id)"
   ]
  },
  {
   "cell_type": "markdown",
   "metadata": {},
   "source": [
    "## Dark Tidings"
   ]
  },
  {
   "cell_type": "code",
   "execution_count": 38,
   "metadata": {
    "ExecuteTime": {
     "end_time": "2019-06-05T17:15:36.802129Z",
     "start_time": "2019-06-05T17:15:36.777036Z"
    }
   },
   "outputs": [],
   "source": [
    "folder = os.path.join(MOVIE_FOLDER, 'dark_tidings/{}'.format(str(datetime.datetime.now())))\n",
    "os.makedirs(folder)"
   ]
  },
  {
   "cell_type": "code",
   "execution_count": 39,
   "metadata": {
    "ExecuteTime": {
     "end_time": "2019-06-05T17:15:54.443738Z",
     "start_time": "2019-06-05T17:15:54.416313Z"
    }
   },
   "outputs": [],
   "source": [
    "segments = [(21320, 21469), (67704, 67896), (91822, 91932), (108759, 108859), (110466, 110568),\n",
    "            (113616, 113727), (113819, 113875), (156503, 156619)]"
   ]
  },
  {
   "cell_type": "code",
   "execution_count": 42,
   "metadata": {
    "ExecuteTime": {
     "end_time": "2019-06-05T17:17:50.054684Z",
     "start_time": "2019-06-05T17:17:14.332620Z"
    }
   },
   "outputs": [
    {
     "name": "stderr",
     "output_type": "stream",
     "text": [
      "100%|██████████████████████████████████████████████████████████████████████████████████████████████████████████████████████████████████████████████████████████████████████████████████████████████████████████| 8/8 [00:35<00:00,  4.36s/it]\n"
     ]
    }
   ],
   "source": [
    "video_paths = []\n",
    "for sfid, efid in tqdm(segments):\n",
    "    start, end = 1. * sfid / video.fps - 1, 1. * efid / video.fps + 1\n",
    "    video_path = video.download(segment=(start, end))\n",
    "    video_paths.append(video_path)"
   ]
  },
  {
   "cell_type": "code",
   "execution_count": 43,
   "metadata": {
    "ExecuteTime": {
     "end_time": "2019-06-05T17:17:54.074919Z",
     "start_time": "2019-06-05T17:17:53.991839Z"
    }
   },
   "outputs": [
    {
     "name": "stderr",
     "output_type": "stream",
     "text": [
      "8it [00:00, 148.87it/s]\n"
     ]
    }
   ],
   "source": [
    "# copy the video paths\n",
    "for i, path in tqdm(enumerate(video_paths)):\n",
    "    copyfile(path, os.path.join(folder, '{:02d}.mp4'.format(i)))"
   ]
  },
  {
   "cell_type": "code",
   "execution_count": 52,
   "metadata": {
    "ExecuteTime": {
     "end_time": "2019-06-05T17:21:44.200696Z",
     "start_time": "2019-06-05T17:21:44.176271Z"
    }
   },
   "outputs": [
    {
     "name": "stdout",
     "output_type": "stream",
     "text": [
      "Download videos at http://35.227.173.62:8888/tree/data/trailer_mining/rots/dark_tidings/2019-06-05%2010%3A15%3A36.799643\n"
     ]
    }
   ],
   "source": [
    "print('Download videos at {}'.format(BASE_URL + urllib.parse.quote(folder[4:])))"
   ]
  },
  {
   "cell_type": "markdown",
   "metadata": {},
   "source": [
    "## Hero Shots"
   ]
  },
  {
   "cell_type": "code",
   "execution_count": 60,
   "metadata": {
    "ExecuteTime": {
     "end_time": "2019-06-05T17:26:52.721451Z",
     "start_time": "2019-06-05T17:26:52.695894Z"
    }
   },
   "outputs": [],
   "source": [
    "folder = os.path.join(MOVIE_FOLDER, 'hero_shots/{}'.format(str(datetime.datetime.now())))\n",
    "os.makedirs(folder)"
   ]
  },
  {
   "cell_type": "code",
   "execution_count": 61,
   "metadata": {
    "ExecuteTime": {
     "end_time": "2019-06-05T17:26:52.750164Z",
     "start_time": "2019-06-05T17:26:52.723668Z"
    }
   },
   "outputs": [],
   "source": [
    "segments = [(13733, 13796), (25961, 26277), (28038, 28096), (34901, 34961),\n",
    "            (35493, 35568), (49620, 49689), (60137, 60240), (72843, 72982),\n",
    "            (73402, 73534), (78752, 78800), (92949, 92990), (130785, 131036),\n",
    "            (181722, 181794), (186324, 186429)]"
   ]
  },
  {
   "cell_type": "code",
   "execution_count": 62,
   "metadata": {
    "ExecuteTime": {
     "end_time": "2019-06-05T17:27:53.334063Z",
     "start_time": "2019-06-05T17:26:54.681474Z"
    }
   },
   "outputs": [
    {
     "name": "stderr",
     "output_type": "stream",
     "text": [
      "100%|████████████████████████████████████████████████████████████████████████████████████████████████████████████████████████████████████████████████████████████████████████████████████████████████████████| 14/14 [00:58<00:00,  4.02s/it]\n",
      "14it [00:00, 598.87it/s]"
     ]
    },
    {
     "name": "stdout",
     "output_type": "stream",
     "text": [
      "Download videos at http://35.227.173.62:8888/tree/data/trailer_mining/rots/hero_shots/2019-06-05%2010%3A26%3A52.719217\n"
     ]
    },
    {
     "name": "stderr",
     "output_type": "stream",
     "text": [
      "\n"
     ]
    }
   ],
   "source": [
    "video_paths = []\n",
    "for sfid, efid in tqdm(segments):\n",
    "    start, end = 1. * sfid / video.fps, 1. * efid / video.fps\n",
    "    video_path = video.download(segment=(start, end))\n",
    "    video_paths.append(video_path)\n",
    "# copy the video paths\n",
    "for i, path in tqdm(enumerate(video_paths)):\n",
    "    copyfile(path, os.path.join(folder, '{:02d}.mp4'.format(i)))\n",
    "print('Download videos at {}'.format(BASE_URL + urllib.parse.quote(folder[4:])))"
   ]
  },
  {
   "cell_type": "markdown",
   "metadata": {},
   "source": [
    "## Main Characters Looking Hopeful"
   ]
  },
  {
   "cell_type": "code",
   "execution_count": 57,
   "metadata": {
    "ExecuteTime": {
     "end_time": "2019-06-05T17:26:18.609967Z",
     "start_time": "2019-06-05T17:26:18.565672Z"
    }
   },
   "outputs": [],
   "source": [
    "folder = os.path.join(MOVIE_FOLDER, 'characters_hopeful/{}'.format(str(datetime.datetime.now())))\n",
    "os.makedirs(folder)"
   ]
  },
  {
   "cell_type": "code",
   "execution_count": 86,
   "metadata": {
    "ExecuteTime": {
     "end_time": "2019-06-05T20:25:01.012472Z",
     "start_time": "2019-06-05T20:25:00.985707Z"
    }
   },
   "outputs": [],
   "source": [
    "segments = [(35910, 36096), (58774, 58912), (143737, 143904), (185812, 185915), (39361, 39421)]"
   ]
  },
  {
   "cell_type": "code",
   "execution_count": 87,
   "metadata": {
    "ExecuteTime": {
     "end_time": "2019-06-05T20:25:23.572952Z",
     "start_time": "2019-06-05T20:25:01.564450Z"
    }
   },
   "outputs": [
    {
     "name": "stderr",
     "output_type": "stream",
     "text": [
      "100%|██████████████████████████████████████████████████████████████████████████████████████████████████████████████████████████████████████████████████████████████████████████████████████████████████████████| 5/5 [00:21<00:00,  4.23s/it]\n",
      "5it [00:00, 335.21it/s]"
     ]
    },
    {
     "name": "stdout",
     "output_type": "stream",
     "text": [
      "Download videos at http://35.227.173.62:8888/tree/data/trailer_mining/rots/ponderous_question/2019-06-05%2011%3A56%3A27.315237\n"
     ]
    },
    {
     "name": "stderr",
     "output_type": "stream",
     "text": [
      "\n"
     ]
    }
   ],
   "source": [
    "video_paths = []\n",
    "for sfid, efid in tqdm(segments):\n",
    "    start, end = 1. * sfid / video.fps, 1. * efid / video.fps\n",
    "    video_path = video.download(segment=(start, end))\n",
    "    video_paths.append(video_path)\n",
    "# copy the video paths\n",
    "for i, path in tqdm(enumerate(video_paths)):\n",
    "    copyfile(path, os.path.join(folder, '{:02d}.mp4'.format(i)))\n",
    "print('Download videos at {}'.format(BASE_URL + urllib.parse.quote(folder[4:])))"
   ]
  },
  {
   "cell_type": "markdown",
   "metadata": {},
   "source": [
    "## Action Sequences"
   ]
  },
  {
   "cell_type": "code",
   "execution_count": 63,
   "metadata": {
    "ExecuteTime": {
     "end_time": "2019-06-05T17:28:32.213610Z",
     "start_time": "2019-06-05T17:28:32.186822Z"
    }
   },
   "outputs": [],
   "source": [
    "folder = os.path.join(MOVIE_FOLDER, 'action_sequences/{}'.format(str(datetime.datetime.now())))\n",
    "os.makedirs(folder)"
   ]
  },
  {
   "cell_type": "code",
   "execution_count": 64,
   "metadata": {
    "ExecuteTime": {
     "end_time": "2019-06-05T17:29:00.308043Z",
     "start_time": "2019-06-05T17:29:00.276732Z"
    }
   },
   "outputs": [],
   "source": [
    "segments = [(5229, 5307), (5713, 5810), (8477, 8584), (10228, 10369), (11301, 11428),\n",
    "            (18859, 19022), (19341, 19437), (19832, 20155), (22999, 23098), (28097, 28180),\n",
    "            (72188, 72259), (29818, 29892), (83163, 83269), (86697, 86934), (94645, 94766),\n",
    "            (102915, 103031), (104151, 104267), (155578, 155706), (162400, 162473),\n",
    "            (162632, 162706), (171350, 171452)]"
   ]
  },
  {
   "cell_type": "code",
   "execution_count": 65,
   "metadata": {
    "ExecuteTime": {
     "end_time": "2019-06-05T17:31:17.957149Z",
     "start_time": "2019-06-05T17:29:19.481385Z"
    }
   },
   "outputs": [
    {
     "name": "stderr",
     "output_type": "stream",
     "text": [
      "100%|████████████████████████████████████████████████████████████████████████████████████████████████████████████████████████████████████████████████████████████████████████████████████████████████████████| 21/21 [01:58<00:00,  5.25s/it]\n",
      "21it [00:00, 265.60it/s]"
     ]
    },
    {
     "name": "stdout",
     "output_type": "stream",
     "text": [
      "Download videos at http://35.227.173.62:8888/tree/data/trailer_mining/rots/action_sequences/2019-06-05%2010%3A28%3A32.211207\n"
     ]
    },
    {
     "name": "stderr",
     "output_type": "stream",
     "text": [
      "\n"
     ]
    }
   ],
   "source": [
    "video_paths = []\n",
    "for sfid, efid in tqdm(segments):\n",
    "    start, end = 1. * sfid / video.fps - 1, 1. * efid / video.fps + 1\n",
    "    video_path = video.download(segment=(start, end))\n",
    "    video_paths.append(video_path)\n",
    "# copy the video paths\n",
    "for i, path in tqdm(enumerate(video_paths)):\n",
    "    copyfile(path, os.path.join(folder, '{:02d}.mp4'.format(i)))\n",
    "print('Download videos at {}'.format(BASE_URL + urllib.parse.quote(folder[4:])))"
   ]
  },
  {
   "cell_type": "markdown",
   "metadata": {},
   "source": [
    "## Ponderous Question"
   ]
  },
  {
   "cell_type": "code",
   "execution_count": 81,
   "metadata": {
    "ExecuteTime": {
     "end_time": "2019-06-05T18:56:27.318071Z",
     "start_time": "2019-06-05T18:56:27.292280Z"
    }
   },
   "outputs": [],
   "source": [
    "folder = os.path.join(MOVIE_FOLDER, 'ponderous_question/{}'.format(str(datetime.datetime.now())))\n",
    "os.makedirs(folder)"
   ]
  },
  {
   "cell_type": "code",
   "execution_count": 82,
   "metadata": {
    "ExecuteTime": {
     "end_time": "2019-06-05T18:56:27.828431Z",
     "start_time": "2019-06-05T18:56:27.802627Z"
    }
   },
   "outputs": [],
   "source": [
    "segments = [(53622, 53772), (53780, 53973), (59964,60131)]"
   ]
  },
  {
   "cell_type": "code",
   "execution_count": 83,
   "metadata": {
    "ExecuteTime": {
     "end_time": "2019-06-05T18:56:44.119868Z",
     "start_time": "2019-06-05T18:56:28.387037Z"
    }
   },
   "outputs": [
    {
     "name": "stderr",
     "output_type": "stream",
     "text": [
      "100%|██████████████████████████████████████████████████████████████████████████████████████████████████████████████████████████████████████████████████████████████████████████████████████████████████████████| 3/3 [00:15<00:00,  5.19s/it]\n",
      "3it [00:00, 350.29it/s]"
     ]
    },
    {
     "name": "stdout",
     "output_type": "stream",
     "text": [
      "Download videos at http://35.227.173.62:8888/tree/data/trailer_mining/rots/ponderous_question/2019-06-05%2011%3A56%3A27.315237\n"
     ]
    },
    {
     "name": "stderr",
     "output_type": "stream",
     "text": [
      "\n"
     ]
    }
   ],
   "source": [
    "video_paths = []\n",
    "for sfid, efid in tqdm(segments):\n",
    "    start, end = 1. * sfid / video.fps - 1, 1. * efid / video.fps + 1\n",
    "    video_path = video.download(segment=(start, end))\n",
    "    video_paths.append(video_path)\n",
    "# copy the video paths\n",
    "for i, path in tqdm(enumerate(video_paths)):\n",
    "    copyfile(path, os.path.join(folder, '{:02d}.mp4'.format(i)))\n",
    "print('Download videos at {}'.format(BASE_URL + urllib.parse.quote(folder[4:])))"
   ]
  },
  {
   "cell_type": "markdown",
   "metadata": {},
   "source": [
    "## Villain Shot"
   ]
  },
  {
   "cell_type": "code",
   "execution_count": 75,
   "metadata": {
    "ExecuteTime": {
     "end_time": "2019-06-05T18:23:31.864861Z",
     "start_time": "2019-06-05T18:23:31.826568Z"
    }
   },
   "outputs": [],
   "source": [
    "folder = os.path.join(MOVIE_FOLDER, 'villain_shot/{}'.format(str(datetime.datetime.now())))\n",
    "os.makedirs(folder)"
   ]
  },
  {
   "cell_type": "code",
   "execution_count": 76,
   "metadata": {
    "ExecuteTime": {
     "end_time": "2019-06-05T18:23:32.667956Z",
     "start_time": "2019-06-05T18:23:32.644108Z"
    }
   },
   "outputs": [],
   "source": [
    "segments = [(185276, 185357), (179194, 179239), (113604, 114218)]"
   ]
  },
  {
   "cell_type": "code",
   "execution_count": 77,
   "metadata": {
    "ExecuteTime": {
     "end_time": "2019-06-05T18:23:52.708747Z",
     "start_time": "2019-06-05T18:23:33.432192Z"
    }
   },
   "outputs": [
    {
     "name": "stderr",
     "output_type": "stream",
     "text": [
      "100%|██████████████████████████████████████████████████████████████████████████████████████████████████████████████████████████████████████████████████████████████████████████████████████████████████████████| 3/3 [00:19<00:00,  6.22s/it]\n",
      "3it [00:00, 245.24it/s]"
     ]
    },
    {
     "name": "stdout",
     "output_type": "stream",
     "text": [
      "Download videos at http://35.227.173.62:8888/tree/data/trailer_mining/rots/villain_shot/2019-06-05%2011%3A23%3A31.851211\n"
     ]
    },
    {
     "name": "stderr",
     "output_type": "stream",
     "text": [
      "\n"
     ]
    }
   ],
   "source": [
    "video_paths = []\n",
    "for sfid, efid in tqdm(segments):\n",
    "    start, end = 1. * sfid / video.fps - 1, 1. * efid / video.fps + 1\n",
    "    video_path = video.download(segment=(start, end))\n",
    "    video_paths.append(video_path)\n",
    "# copy the video paths\n",
    "for i, path in tqdm(enumerate(video_paths)):\n",
    "    copyfile(path, os.path.join(folder, '{:02d}.mp4'.format(i)))\n",
    "print('Download videos at {}'.format(BASE_URL + urllib.parse.quote(folder[4:])))"
   ]
  },
  {
   "cell_type": "markdown",
   "metadata": {},
   "source": [
    "## Establishing Shot"
   ]
  },
  {
   "cell_type": "code",
   "execution_count": 90,
   "metadata": {
    "ExecuteTime": {
     "end_time": "2019-06-05T20:51:18.492137Z",
     "start_time": "2019-06-05T20:51:18.467911Z"
    }
   },
   "outputs": [],
   "source": [
    "folder = os.path.join(MOVIE_FOLDER, 'actioncall/{}'.format(str(datetime.datetime.now())))\n",
    "os.makedirs(folder)"
   ]
  },
  {
   "cell_type": "code",
   "execution_count": 97,
   "metadata": {
    "ExecuteTime": {
     "end_time": "2019-06-05T20:58:46.363183Z",
     "start_time": "2019-06-05T20:58:46.332901Z"
    }
   },
   "outputs": [],
   "source": [
    "segments = [(112324, 112445)]#112324 end:112445\n",
    "#[(2846, 3012), (7596, 7765), (16250, 16382), (116803, 116957), (124395, 124683), (148939, 149106)]\n",
    "#[(123, 285), (286, 750), (751, 990), (4220, 4386), (42005, 42168), (69257, 69459), (129401, 129535), (168190, 168323), (190137, 190312)]\n"
   ]
  },
  {
   "cell_type": "code",
   "execution_count": 98,
   "metadata": {
    "ExecuteTime": {
     "end_time": "2019-06-05T20:58:51.593585Z",
     "start_time": "2019-06-05T20:58:47.153974Z"
    }
   },
   "outputs": [
    {
     "name": "stderr",
     "output_type": "stream",
     "text": [
      "100%|██████████████████████████████████████████████████████████████████████████████████████████████████████████████████████████████████████████████████████████████████████████████████████████████████████████| 1/1 [00:04<00:00,  4.40s/it]\n",
      "1it [00:00, 290.40it/s]"
     ]
    },
    {
     "name": "stdout",
     "output_type": "stream",
     "text": [
      "Download videos at http://35.227.173.62:8888/tree/data/trailer_mining/rots/actioncall/2019-06-05%2013%3A51%3A18.489638\n"
     ]
    },
    {
     "name": "stderr",
     "output_type": "stream",
     "text": [
      "\n"
     ]
    }
   ],
   "source": [
    "video_paths = []\n",
    "for sfid, efid in tqdm(segments):\n",
    "    start, end = 1. * sfid / video.fps - 1, 1. * efid / video.fps + 1\n",
    "    video_path = video.download(segment=(start, end))\n",
    "    video_paths.append(video_path)\n",
    "# copy the video paths\n",
    "for i, path in tqdm(enumerate(video_paths)):\n",
    "    copyfile(path, os.path.join(folder, '{:02d}.mp4'.format(i)))\n",
    "print('Download videos at {}'.format(BASE_URL + urllib.parse.quote(folder[4:])))"
   ]
  },
  {
   "cell_type": "code",
   "execution_count": null,
   "metadata": {},
   "outputs": [],
   "source": [
    "start:158496 end:158526 112324 end:112445 start:128387 end:128530"
   ]
  }
 ],
 "metadata": {
  "kernelspec": {
   "display_name": "Django Shell-Plus",
   "language": "python",
   "name": "django_extensions"
  },
  "language_info": {
   "codemirror_mode": {
    "name": "ipython",
    "version": 3
   },
   "file_extension": ".py",
   "mimetype": "text/x-python",
   "name": "python",
   "nbconvert_exporter": "python",
   "pygments_lexer": "ipython3",
   "version": "3.5.2"
  },
  "toc": {
   "nav_menu": {},
   "number_sections": true,
   "sideBar": true,
   "skip_h1_title": false,
   "toc_cell": false,
   "toc_position": {},
   "toc_section_display": "block",
   "toc_window_display": false
  }
 },
 "nbformat": 4,
 "nbformat_minor": 2
}
