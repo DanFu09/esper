{
 "cells": [
  {
   "cell_type": "markdown",
   "metadata": {},
   "source": [
    "# Evaluate the heuristic shot detection algorithm using the dev/test split from the sequential weak supervision NeurIPS 2019 paper"
   ]
  },
  {
   "cell_type": "code",
   "execution_count": 1,
   "metadata": {
    "ExecuteTime": {
     "end_time": "2019-07-18T03:52:49.050281Z",
     "start_time": "2019-07-18T03:52:47.925149Z"
    }
   },
   "outputs": [],
   "source": [
    "import random\n",
    "from esper.prelude import *\n",
    "from rekall.video_interval_collection import VideoIntervalCollection\n",
    "from rekall.temporal_predicates import *\n",
    "from esper.rekall import *\n",
    "import matplotlib.pyplot as plt\n",
    "import cv2\n",
    "import pickle"
   ]
  },
  {
   "cell_type": "code",
   "execution_count": 18,
   "metadata": {
    "ExecuteTime": {
     "end_time": "2019-07-18T03:57:01.412347Z",
     "start_time": "2019-07-18T03:57:01.358882Z"
    }
   },
   "outputs": [],
   "source": [
    "# Load up all shots from the algorithm\n",
    "shots_qs = Shot.objects.filter(cinematic=True)"
   ]
  },
  {
   "cell_type": "code",
   "execution_count": 43,
   "metadata": {
    "ExecuteTime": {
     "end_time": "2019-07-18T04:07:14.765969Z",
     "start_time": "2019-07-18T04:06:59.350214Z"
    }
   },
   "outputs": [],
   "source": [
    "shots = VideoIntervalCollection.from_django_qs(shots_qs)"
   ]
  },
  {
   "cell_type": "code",
   "execution_count": 33,
   "metadata": {
    "ExecuteTime": {
     "end_time": "2019-07-18T04:04:45.465052Z",
     "start_time": "2019-07-18T04:04:45.425111Z"
    }
   },
   "outputs": [],
   "source": [
    "shots_manual_qs = Shot.objects.filter(labeler__name__contains='manual')"
   ]
  },
  {
   "cell_type": "code",
   "execution_count": 34,
   "metadata": {
    "ExecuteTime": {
     "end_time": "2019-07-18T04:04:57.010661Z",
     "start_time": "2019-07-18T04:04:56.773085Z"
    }
   },
   "outputs": [],
   "source": [
    "shots_manual = VideoIntervalCollection.from_django_qs(shots_manual_qs)"
   ]
  },
  {
   "cell_type": "code",
   "execution_count": 7,
   "metadata": {
    "ExecuteTime": {
     "end_time": "2019-07-18T03:54:12.974115Z",
     "start_time": "2019-07-18T03:54:12.935756Z"
    }
   },
   "outputs": [],
   "source": [
    "VAL_WINDOWS = '/app/data/shot_detection_weak_labels/validation_windows_same_val_test.pkl'\n",
    "TEST_WINDOWS = '/app/data/shot_detection_weak_labels/test_windows_same_val_test.pkl'\n",
    "Y_VAL = '/app/data/shot_detection_weak_labels/Y_val_windows_downsampled_same_val_test.npy'\n",
    "Y_TEST = '/app/data/shot_detection_weak_labels/Y_test_windows_downsampled_same_val_test.npy'"
   ]
  },
  {
   "cell_type": "code",
   "execution_count": 8,
   "metadata": {
    "ExecuteTime": {
     "end_time": "2019-07-18T03:54:30.562554Z",
     "start_time": "2019-07-18T03:54:30.517083Z"
    }
   },
   "outputs": [],
   "source": [
    "with open(VAL_WINDOWS, 'rb') as f:\n",
    "    val_windows_by_video_id = pickle.load(f)\n",
    "with open(TEST_WINDOWS, 'rb') as f:\n",
    "    test_windows_by_video_id = pickle.load(f)\n",
    "with open(Y_VAL, 'rb') as f:\n",
    "    Y_val = np.load(f)\n",
    "with open(Y_TEST, 'rb') as f:\n",
    "    Y_test = np.load(f)"
   ]
  },
  {
   "cell_type": "code",
   "execution_count": 26,
   "metadata": {
    "ExecuteTime": {
     "end_time": "2019-07-18T04:00:32.046026Z",
     "start_time": "2019-07-18T04:00:31.998869Z"
    }
   },
   "outputs": [],
   "source": [
    "val_windows_collected = collect(val_windows_by_video_id, lambda row: row[0])\n",
    "val_collection = VideoIntervalCollection({\n",
    "    video_id: [\n",
    "        (tup[1], tup[2], 2)\n",
    "        for tup in val_windows_collected[video_id]\n",
    "    ]\n",
    "    for video_id in val_windows_collected\n",
    "})"
   ]
  },
  {
   "cell_type": "code",
   "execution_count": 29,
   "metadata": {
    "ExecuteTime": {
     "end_time": "2019-07-18T04:01:22.246463Z",
     "start_time": "2019-07-18T04:01:22.199502Z"
    }
   },
   "outputs": [],
   "source": [
    "test_windows_collected = collect(test_windows_by_video_id, lambda row: row[0])\n",
    "test_collection = VideoIntervalCollection({\n",
    "    video_id: [\n",
    "        (tup[1], tup[2], 2)\n",
    "        for tup in test_windows_collected[video_id]\n",
    "    ]\n",
    "    for video_id in test_windows_collected\n",
    "})"
   ]
  },
  {
   "cell_type": "code",
   "execution_count": 50,
   "metadata": {
    "ExecuteTime": {
     "end_time": "2019-07-18T04:09:43.262403Z",
     "start_time": "2019-07-18T04:09:39.491680Z"
    }
   },
   "outputs": [],
   "source": [
    "shot_boundaries = shots.map(\n",
    "    lambda intrvl: (intrvl.start - 1, intrvl.start, 1)\n",
    ")\n",
    "shot_boundaries_gt = shots_manual.map(\n",
    "    lambda intrvl: (intrvl.start - 1, intrvl.start, 1)\n",
    ")"
   ]
  },
  {
   "cell_type": "code",
   "execution_count": 47,
   "metadata": {
    "ExecuteTime": {
     "end_time": "2019-07-18T04:08:30.697267Z",
     "start_time": "2019-07-18T04:08:30.154232Z"
    }
   },
   "outputs": [],
   "source": [
    "predicted_val = val_collection.filter_against(\n",
    "    shot_boundaries,\n",
    "    predicate = during_inv()\n",
    ").map(\n",
    "    lambda intrvl: (intrvl.start, intrvl.end, 1)\n",
    ")"
   ]
  },
  {
   "cell_type": "code",
   "execution_count": 51,
   "metadata": {
    "ExecuteTime": {
     "end_time": "2019-07-18T04:09:50.016648Z",
     "start_time": "2019-07-18T04:09:49.887882Z"
    }
   },
   "outputs": [],
   "source": [
    "gt_val = val_collection.filter_against(\n",
    "    shot_boundaries_gt,\n",
    "    predicate = during_inv()\n",
    ").map(\n",
    "    lambda intrvl: (intrvl.start, intrvl.end, 1)\n",
    ")"
   ]
  },
  {
   "cell_type": "code",
   "execution_count": 58,
   "metadata": {
    "ExecuteTime": {
     "end_time": "2019-07-18T04:12:01.774796Z",
     "start_time": "2019-07-18T04:12:01.737784Z"
    }
   },
   "outputs": [],
   "source": [
    "def size(intrvlcol):\n",
    "    return sum(\n",
    "        len(intrvlcol.get_intervallist(video_id).get_intervals())\n",
    "        for video_id in intrvlcol.get_allintervals()\n",
    "    )"
   ]
  },
  {
   "cell_type": "code",
   "execution_count": 64,
   "metadata": {
    "ExecuteTime": {
     "end_time": "2019-07-18T04:13:56.365669Z",
     "start_time": "2019-07-18T04:13:56.321075Z"
    }
   },
   "outputs": [],
   "source": [
    "def compute_prf1(predicted, gt):\n",
    "    tp = predicted.filter_against(\n",
    "        gt,\n",
    "        predicate = lambda i1, i2: i1.start == i2.start and i1.end == i2.end\n",
    "    )\n",
    "    fp = predicted.minus(gt)\n",
    "    fn = gt.minus(predicted)\n",
    "    \n",
    "    precision = size(tp) / (size(tp) + size(fp))\n",
    "    recall = size(tp) / (size(tp) + size(fn))\n",
    "    f1 = 2 * precision * recall / (precision + recall)\n",
    "    \n",
    "    return precision, recall, f1, size(tp), size(fp), size(fn)"
   ]
  },
  {
   "cell_type": "code",
   "execution_count": 65,
   "metadata": {
    "ExecuteTime": {
     "end_time": "2019-07-18T04:14:04.286296Z",
     "start_time": "2019-07-18T04:14:04.207471Z"
    }
   },
   "outputs": [
    {
     "data": {
      "text/plain": [
       "(0.9247311827956989, 0.8571428571428571, 0.889655172413793, 258, 21, 43)"
      ]
     },
     "execution_count": 65,
     "metadata": {},
     "output_type": "execute_result"
    }
   ],
   "source": [
    "compute_prf1(predicted_val, gt_val)"
   ]
  },
  {
   "cell_type": "code",
   "execution_count": 66,
   "metadata": {
    "ExecuteTime": {
     "end_time": "2019-07-18T04:15:26.030182Z",
     "start_time": "2019-07-18T04:15:25.429470Z"
    }
   },
   "outputs": [],
   "source": [
    "predicted_test = test_collection.filter_against(\n",
    "    shot_boundaries,\n",
    "    predicate = during_inv()\n",
    ").map(\n",
    "    lambda intrvl: (intrvl.start, intrvl.end, 1)\n",
    ")"
   ]
  },
  {
   "cell_type": "code",
   "execution_count": 67,
   "metadata": {
    "ExecuteTime": {
     "end_time": "2019-07-18T04:15:33.902211Z",
     "start_time": "2019-07-18T04:15:33.784559Z"
    }
   },
   "outputs": [],
   "source": [
    "gt_test = test_collection.filter_against(\n",
    "    shot_boundaries_gt,\n",
    "    predicate = during_inv()\n",
    ").map(\n",
    "    lambda intrvl: (intrvl.start, intrvl.end, 1)\n",
    ")"
   ]
  },
  {
   "cell_type": "code",
   "execution_count": 68,
   "metadata": {
    "ExecuteTime": {
     "end_time": "2019-07-18T04:15:44.493440Z",
     "start_time": "2019-07-18T04:15:44.420931Z"
    }
   },
   "outputs": [
    {
     "data": {
      "text/plain": [
       "(0.8084291187739464, 0.8755186721991701, 0.8406374501992032, 211, 50, 30)"
      ]
     },
     "execution_count": 68,
     "metadata": {},
     "output_type": "execute_result"
    }
   ],
   "source": [
    "compute_prf1(predicted_test, gt_test)"
   ]
  },
  {
   "cell_type": "code",
   "execution_count": null,
   "metadata": {},
   "outputs": [],
   "source": []
  }
 ],
 "metadata": {
  "kernelspec": {
   "display_name": "Django Shell-Plus",
   "language": "python",
   "name": "django_extensions"
  },
  "language_info": {
   "codemirror_mode": {
    "name": "ipython",
    "version": 3
   },
   "file_extension": ".py",
   "mimetype": "text/x-python",
   "name": "python",
   "nbconvert_exporter": "python",
   "pygments_lexer": "ipython3",
   "version": "3.5.2"
  },
  "toc": {
   "nav_menu": {},
   "number_sections": true,
   "sideBar": true,
   "skip_h1_title": false,
   "toc_cell": false,
   "toc_position": {},
   "toc_section_display": "block",
   "toc_window_display": false
  }
 },
 "nbformat": 4,
 "nbformat_minor": 2
}
