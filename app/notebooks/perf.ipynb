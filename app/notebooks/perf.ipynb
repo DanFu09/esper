{
 "cells": [
  {
   "cell_type": "code",
   "execution_count": null,
   "metadata": {},
   "outputs": [],
   "source": [
    "from query.datasets.prelude import *\n",
    "from timeit import default_timer as now\n",
    "\n",
    "q1 = FaceGender.objects.values('id')\n",
    "q2 = FaceGender.objects.values('id', 'face__person__frame__video__show')    "
   ]
  },
  {
   "cell_type": "code",
   "execution_count": null,
   "metadata": {},
   "outputs": [],
   "source": [
    "def profile(s, f):\n",
    "    start = now()\n",
    "    f()\n",
    "    print('{}: {:.3f}'.format(s, now() - start))\n",
    "    \n",
    "profile('nojoin', lambda: list(q1))\n",
    "profile('withjoin', lambda: list(q2))"
   ]
  },
  {
   "cell_type": "code",
   "execution_count": null,
   "metadata": {},
   "outputs": [],
   "source": [
    "q1.print_sql()\n",
    "print('')\n",
    "q1.explain()"
   ]
  },
  {
   "cell_type": "code",
   "execution_count": null,
   "metadata": {},
   "outputs": [],
   "source": [
    "q2.print_sql()\n",
    "print('')\n",
    "q2.explain()"
   ]
  }
 ],
 "metadata": {
  "kernelspec": {
   "display_name": "Django Shell-Plus",
   "language": "python",
   "name": "django_extensions"
  },
  "language_info": {
   "codemirror_mode": {
    "name": "ipython",
    "version": 2
   },
   "file_extension": ".py",
   "mimetype": "text/x-python",
   "name": "python",
   "nbconvert_exporter": "python",
   "pygments_lexer": "ipython2",
   "version": "2.7.14"
  },
  "toc": {
   "nav_menu": {},
   "number_sections": true,
   "sideBar": false,
   "skip_h1_title": false,
   "toc_cell": false,
   "toc_position": {},
   "toc_section_display": "block",
   "toc_window_display": true
  }
 },
 "nbformat": 4,
 "nbformat_minor": 2
}
