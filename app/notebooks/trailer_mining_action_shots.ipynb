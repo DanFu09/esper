{
 "cells": [
  {
   "cell_type": "code",
   "execution_count": 1,
   "metadata": {
    "ExecuteTime": {
     "end_time": "2019-06-04T23:43:01.225425Z",
     "start_time": "2019-06-04T23:43:00.406381Z"
    }
   },
   "outputs": [],
   "source": [
    "from query.models import Face, Shot\n",
    "from rekall.video_interval_collection import VideoIntervalCollection\n",
    "from rekall.parsers import named_payload, in_array, bbox_payload_parser\n",
    "from rekall.parsers import merge_dict_parsers, dict_payload_parser\n",
    "from rekall.merge_ops import payload_plus, payload_first, merge_named_payload\n",
    "from rekall.payload_predicates import payload_satisfies, on_name\n",
    "from rekall.spatial_predicates import scene_graph\n",
    "from rekall.logical_predicates import and_pred\n",
    "from rekall.temporal_predicates import overlaps\n",
    "from rekall.bbox_predicates import height_at_least, left_of, same_value\n",
    "from esper.rekall import intrvllists_to_result_with_objects, bbox_to_result_object"
   ]
  },
  {
   "cell_type": "code",
   "execution_count": 2,
   "metadata": {
    "ExecuteTime": {
     "end_time": "2019-06-04T23:43:02.232804Z",
     "start_time": "2019-06-04T23:43:02.181041Z"
    }
   },
   "outputs": [],
   "source": [
    "from esper.prelude import esper_widget\n",
    "import time\n",
    "from IPython.display import display"
   ]
  },
  {
   "cell_type": "markdown",
   "metadata": {},
   "source": [
    "# Query"
   ]
  },
  {
   "cell_type": "code",
   "execution_count": 10,
   "metadata": {
    "ExecuteTime": {
     "end_time": "2019-06-04T23:44:19.021948Z",
     "start_time": "2019-06-04T23:44:18.807270Z"
    }
   },
   "outputs": [],
   "source": [
    "def query(video_id, NUM_SHOTS, MAX_SHOT_DURATION, stride):\n",
    "    # We're going to look for frames that would be good \"hero shot\" frames --\n",
    "    #   potentially good frames to show in a Netflix preview, for instance.\n",
    "    # We're going to look for frames where there's exactly one face of a\n",
    "    #   certain height, and the frame has certain minimum brightness,\n",
    "    #   sharpness, and contrast properties.\n",
    "#     MIN_FACE_HEIGHT = 0.2\n",
    "#     MIN_BRIGHTNESS = 50\n",
    "\n",
    "    # Annotate face rows with start and end frames, video ID, and frame image\n",
    "    #   information\n",
    "    from query.models import Shot\n",
    "    from rekall.video_interval_collection import VideoIntervalCollection\n",
    "    from rekall.temporal_predicates import meets_before, overlaps\n",
    "    from esper.rekall import intrvllists_to_result_with_objects\n",
    "    from django.db.models import ExpressionWrapper, FloatField\n",
    "    from esper.captions import get_all_segments\n",
    "    from rekall.merge_ops import payload_first, payload_plus, merge_named_payload\n",
    "    from tqdm import tqdm\n",
    "    import numpy as np\n",
    "\n",
    "#     NUM_SHOTS=3\n",
    "#     MAX_SHOT_DURATION=1.5\n",
    "\n",
    "    # payload: shot_id, vid\n",
    "    short_shots = VideoIntervalCollection.from_django_qs(Shot.objects.annotate(\n",
    "        duration = ExpressionWrapper((F('max_frame') - F('min_frame')) / F('video__fps'), output_field=FloatField())\n",
    "    ).filter(\n",
    "        duration__lt=MAX_SHOT_DURATION,\n",
    "        duration__gt=0.,\n",
    "        cinematic=True,\n",
    "        video_id=video_id\n",
    "    ).exclude(\n",
    "        video__genres__name=\"animation\"\n",
    "    ), with_payload = lambda shot: {'shot_id': shot.id, 'vid': shot.video_id})\n",
    "    \n",
    "    # Slow\n",
    "    def get_frame_brightness(intvl):\n",
    "        vid = intvl.payload['vid']\n",
    "        start = intvl.start\n",
    "        end = intvl.end\n",
    "        qs = Frame.objects.filter(video_id=vid, number__gte=start, number__lte=end).order_by('number')\n",
    "        intvl.payload['brightness'] = [f.brightness for f in qs]\n",
    "        return intvl\n",
    "    \n",
    "    def payload_in_array(intvl):\n",
    "        return (intvl.start, intvl.end, [intvl.payload])\n",
    "    \n",
    "    def add_brightness_array(intvl):\n",
    "        if 'brightness' not in intvl.payload:\n",
    "            intvl.payload['brightness'] = []\n",
    "        return intvl       \n",
    "    \n",
    "    def bright_enough(intvl):\n",
    "        BRIGHTNESS_THRESHOLD = 20.0\n",
    "        average_above_threshold = np.array(\n",
    "            [np.mean(np.array(p['brightness'])) if len(p['brightness'])>0 else 0 for p in intvl.payload]\n",
    "        )> BRIGHTNESS_THRESHOLD\n",
    "        return np.any(average_above_threshold)\n",
    "    \n",
    "    def get_all_frame_numbers(intervallist):\n",
    "        frame = []\n",
    "        for intvl in intervallist.intrvls:\n",
    "            frame += list(range(intvl.start, intvl.end+1))\n",
    "        return frame\n",
    "    \n",
    "    print(\"Getting brightness for {0} intervals\".format(sum(\n",
    "        [len(l.intrvls) for l in short_shots.get_allintervals().values()])))\n",
    "    \n",
    "    # Get brightnesses for each frame in payload\n",
    "    for vid, intervals in tqdm(short_shots.get_allintervals().items()):\n",
    "        frames = get_all_frame_numbers(intervals)\n",
    "        qs = Frame.objects.filter(video_id=vid, number__in=frames, regularly_sampled=True).order_by('number').values()\n",
    "        interval_index = 0\n",
    "        for frame in qs:\n",
    "            while frame['number'] > intervals.intrvls[interval_index].end:\n",
    "                interval_index += 1\n",
    "            if frame['number'] >= intervals.intrvls[interval_index].start:\n",
    "                intvl = intervals.intrvls[interval_index]\n",
    "                if 'brightness' in intvl.payload:\n",
    "                    intvl.payload['brightness'].append(frame['brightness'])\n",
    "                else:\n",
    "                    intvl.payload['brightness'] = [frame['brightness']] \n",
    "    short_shots = short_shots.map(add_brightness_array)\n",
    "    n_shots = short_shots.map(payload_in_array)\n",
    "    for n in range(2, NUM_SHOTS + 1):\n",
    "        print('Constructing {} consecutive short shots'.format(n))\n",
    "        \n",
    "        n_shots = n_shots.merge(\n",
    "            short_shots, predicate=meets_before(epsilon=1), working_window=1,\n",
    "            payload_merge_op = lambda arr, el: arr+[el]\n",
    "        )\n",
    "\n",
    "        print('There are {} videos with {} consecutive short shots'.format(\n",
    "            len(n_shots.get_allintervals().keys()), n)\n",
    "    )\n",
    "    n_shots = n_shots.coalesce().filter(bright_enough).filter_length(min_length=1)\n",
    "    \n",
    "    # Filter out any intervals with too many spoken lines\n",
    "    print(\"Getting captions\")\n",
    "    vids = n_shots.get_allintervals().keys()\n",
    "    caption_results = get_all_segments(vids)\n",
    "    fps_map = dict((i, Video.objects.get(id=i).fps) for i in vids)\n",
    "    captioned_intervals = VideoIntervalCollection({\n",
    "        video_id: [(\n",
    "            word[0] * fps_map[video_id], # start frame\n",
    "            word[1] * fps_map[video_id], # end frame\n",
    "            {'shots': [],\n",
    "             'words': [word[2]]\n",
    "            }\n",
    "            ) # payload is the word\n",
    "            for word in words]\n",
    "        for video_id, words in caption_results\n",
    "    })\n",
    "    \n",
    "    def organize_payload(intvl):\n",
    "        p = intvl.payload\n",
    "        new_payload = {\n",
    "            'shots': p,\n",
    "            'words': []\n",
    "        }\n",
    "        return (intvl.start, intvl.end, new_payload)\n",
    "    \n",
    "    # payload:\n",
    "    # shots: list of shots\n",
    "    # words: list of word intervals\n",
    "    n_shots = n_shots.map(organize_payload)\n",
    "    n_shots = n_shots.join(\n",
    "        captioned_intervals,\n",
    "        lambda shot_interval, word_interval:\n",
    "            [(shot_interval.start, shot_interval.end, {\n",
    "                'shots': shot_interval.payload['shots'],\n",
    "                'words': word_interval.payload['words']\n",
    "            })],\n",
    "        predicate=overlaps(),\n",
    "        working_window=1\n",
    "    ).coalesce(payload_merge_op=merge_named_payload({\n",
    "        'shots': payload_first,\n",
    "        'words': payload_plus,\n",
    "    })).set_union(n_shots).coalesce(\n",
    "        payload_merge_op=merge_named_payload({\n",
    "            'shots': payload_first,\n",
    "            'words': payload_plus\n",
    "    }))\n",
    "    \n",
    "    def has_few_words(intvl):\n",
    "        MAX_NUM_WORDS_PER_SECOND = 1.0\n",
    "        \n",
    "        p = intvl.payload\n",
    "        n_words = len(p['words'])\n",
    "        time = (intvl.end-intvl.start) / fps_map[p['shots'][0]['vid']]\n",
    "        return n_words / time <= MAX_NUM_WORDS_PER_SECOND\n",
    "    \n",
    "    action_shots = n_shots.filter(has_few_words)\n",
    "    \n",
    "    return intrvllists_to_result_with_objects(\n",
    "        action_shots.get_allintervals(), \n",
    "        lambda a, b: [],\n",
    "#         lambda payload, video_id: [\n",
    "#             bbox_to_result_object(bbox, video_id) for bbox in payload['faces']],\n",
    "        stride=stride)"
   ]
  },
  {
   "cell_type": "code",
   "execution_count": 8,
   "metadata": {
    "ExecuteTime": {
     "end_time": "2019-06-04T23:44:02.867164Z",
     "start_time": "2019-06-04T23:44:02.826019Z"
    }
   },
   "outputs": [],
   "source": [
    "def show_query(video_id, num_shots, max_duration, stride):\n",
    "    result = query(video_id, num_shots, max_duration, stride)\n",
    "    \n",
    "    widget = esper_widget(result, jupyter_keybindings=True, crop_bboxes=False)\n",
    "    display(widget)\n",
    "    \n",
    "    return widget, result"
   ]
  },
  {
   "cell_type": "code",
   "execution_count": 52,
   "metadata": {
    "ExecuteTime": {
     "end_time": "2019-06-05T17:12:38.738227Z",
     "start_time": "2019-06-05T17:12:38.687740Z"
    }
   },
   "outputs": [],
   "source": [
    "def convert_segments(segments):\n",
    "    output_segments = []\n",
    "    for seg in segments:\n",
    "        for res in result['result']:\n",
    "            if res['elements'][0]['min_frame'] == seg[0]:\n",
    "                output_segments.append((res['elements'][0]['min_frame'], res['elements'][0]['max_frame']))\n",
    "    print(output_segments)"
   ]
  },
  {
   "cell_type": "markdown",
   "metadata": {},
   "source": [
    "# Braveheart"
   ]
  },
  {
   "cell_type": "code",
   "execution_count": 55,
   "metadata": {
    "ExecuteTime": {
     "end_time": "2019-06-05T18:39:44.195351Z",
     "start_time": "2019-06-05T18:39:41.125766Z"
    }
   },
   "outputs": [
    {
     "name": "stderr",
     "output_type": "stream",
     "text": [
      "\r",
      "  0%|                                                                                                                                                                                                                  | 0/1 [00:00<?, ?it/s]"
     ]
    },
    {
     "name": "stdout",
     "output_type": "stream",
     "text": [
      "Getting brightness for 818 intervals\n"
     ]
    },
    {
     "name": "stderr",
     "output_type": "stream",
     "text": [
      "100%|██████████████████████████████████████████████████████████████████████████████████████████████████████████████████████████████████████████████████████████████████████████████████████████████████████████| 1/1 [00:01<00:00,  1.81s/it]\n"
     ]
    },
    {
     "name": "stdout",
     "output_type": "stream",
     "text": [
      "Constructing 2 consecutive short shots\n",
      "There are 1 videos with 2 consecutive short shots\n",
      "Constructing 3 consecutive short shots\n",
      "There are 1 videos with 3 consecutive short shots\n",
      "Getting captions\n"
     ]
    },
    {
     "data": {
      "application/vnd.jupyter.widget-view+json": {
       "model_id": "186804a6f7ac4e3ea92e1df72f233a48",
       "version_major": 2,
       "version_minor": 0
      },
      "text/plain": [
       "VGridWidget(jsglobals={'schema': [['Identity', ['id', 'name']], ['Genre', ['id', 'name']], ['Director', ['id',…"
      ]
     },
     "metadata": {},
     "output_type": "display_data"
    }
   ],
   "source": [
    "widget, result = show_query(28, 3, 1.5, 1)"
   ]
  },
  {
   "cell_type": "code",
   "execution_count": 16,
   "metadata": {
    "ExecuteTime": {
     "end_time": "2019-06-04T23:57:11.868347Z",
     "start_time": "2019-06-04T23:57:11.815276Z"
    }
   },
   "outputs": [
    {
     "name": "stdout",
     "output_type": "stream",
     "text": [
      "[(34611, 34611), (10111, 10111), (70956, 70956), (71890, 71890), (72133, 72133), (72650, 72650), (102362, 102362), (127941, 127941), (124902, 124902), (174768, 174768), (175704, 175704), (175851, 175851), (176572, 176572), (183086, 183086), (129528, 129528), (130398, 130398), (120090, 120090), (142940, 142940), (176009, 176009), (176284, 176284)]\n"
     ]
    }
   ],
   "source": [
    "selected_segments_braveheart = [\n",
    "    (result['result'][i]['elements'][0]['min_frame'], result['result'][i]['elements'][0]['min_frame'])\n",
    "    for i in widget.selected\n",
    "]\n",
    "print(selected_segments_braveheart)"
   ]
  },
  {
   "cell_type": "code",
   "execution_count": 56,
   "metadata": {
    "ExecuteTime": {
     "end_time": "2019-06-05T18:39:50.454473Z",
     "start_time": "2019-06-05T18:39:50.394442Z"
    }
   },
   "outputs": [
    {
     "name": "stdout",
     "output_type": "stream",
     "text": [
      "[(34611, 34711), (10111, 10206), (70956, 71284), (71890, 71958), (72133, 72274), (72650, 72770), (102362, 102528), (127941, 128049), (124902, 125095), (174768, 174935), (175704, 175798), (175851, 175968), (176572, 176638), (183086, 183162), (129528, 129625), (130398, 130448), (120090, 120175), (142940, 143043), (176009, 176087), (176284, 176409)]\n"
     ]
    }
   ],
   "source": [
    "convert_segments(selected_segments_braveheart)"
   ]
  },
  {
   "cell_type": "markdown",
   "metadata": {},
   "source": [
    "# Revenge of the Sith"
   ]
  },
  {
   "cell_type": "code",
   "execution_count": 18,
   "metadata": {
    "ExecuteTime": {
     "end_time": "2019-06-05T15:53:56.553660Z",
     "start_time": "2019-06-05T15:53:56.515063Z"
    }
   },
   "outputs": [],
   "source": [
    "start = time.time()"
   ]
  },
  {
   "cell_type": "code",
   "execution_count": 53,
   "metadata": {
    "ExecuteTime": {
     "end_time": "2019-06-05T17:14:22.823895Z",
     "start_time": "2019-06-05T17:14:20.334623Z"
    }
   },
   "outputs": [
    {
     "name": "stderr",
     "output_type": "stream",
     "text": [
      "\r",
      "  0%|                                                                                                                                                                                                                  | 0/1 [00:00<?, ?it/s]"
     ]
    },
    {
     "name": "stdout",
     "output_type": "stream",
     "text": [
      "Getting brightness for 725 intervals\n"
     ]
    },
    {
     "name": "stderr",
     "output_type": "stream",
     "text": [
      "100%|██████████████████████████████████████████████████████████████████████████████████████████████████████████████████████████████████████████████████████████████████████████████████████████████████████████| 1/1 [00:01<00:00,  1.08s/it]\n"
     ]
    },
    {
     "name": "stdout",
     "output_type": "stream",
     "text": [
      "Constructing 2 consecutive short shots\n",
      "There are 1 videos with 2 consecutive short shots\n",
      "Constructing 3 consecutive short shots\n",
      "There are 1 videos with 3 consecutive short shots\n",
      "Getting captions\n"
     ]
    },
    {
     "data": {
      "application/vnd.jupyter.widget-view+json": {
       "model_id": "9752dbd6916849a69f007eb375fc5034",
       "version_major": 2,
       "version_minor": 0
      },
      "text/plain": [
       "VGridWidget(jsglobals={'schema': [['Identity', ['id', 'name']], ['Genre', ['id', 'name']], ['Director', ['id',…"
      ]
     },
     "metadata": {},
     "output_type": "display_data"
    }
   ],
   "source": [
    "widget, result = show_query(186, 3, 2, 1)"
   ]
  },
  {
   "cell_type": "code",
   "execution_count": 21,
   "metadata": {
    "ExecuteTime": {
     "end_time": "2019-06-05T16:08:08.504484Z",
     "start_time": "2019-06-05T16:08:08.461427Z"
    }
   },
   "outputs": [
    {
     "name": "stdout",
     "output_type": "stream",
     "text": [
      "[(5229, 5229), (5713, 5713), (8477, 8477), (10228, 10228), (11301, 11301), (18859, 18859), (19341, 19341), (19832, 19832), (22999, 22999), (28097, 28097), (72188, 72188), (29818, 29818), (83163, 83163), (86697, 86697), (94645, 94645), (102915, 102915), (104151, 104151), (155578, 155578), (162400, 162400), (162632, 162632), (171350, 171350)]\n"
     ]
    }
   ],
   "source": [
    "selected_segments_rots = [\n",
    "    (result['result'][i]['elements'][0]['min_frame'], result['result'][i]['elements'][0]['min_frame'])\n",
    "    for i in widget.selected\n",
    "]\n",
    "print(selected_segments_rots)"
   ]
  },
  {
   "cell_type": "code",
   "execution_count": 54,
   "metadata": {
    "ExecuteTime": {
     "end_time": "2019-06-05T17:14:32.391125Z",
     "start_time": "2019-06-05T17:14:32.350433Z"
    }
   },
   "outputs": [
    {
     "name": "stdout",
     "output_type": "stream",
     "text": [
      "[(5229, 5307), (5713, 5810), (8477, 8584), (10228, 10369), (11301, 11428), (18859, 19022), (19341, 19437), (19832, 20155), (22999, 23098), (28097, 28180), (72188, 72259), (29818, 29892), (83163, 83269), (86697, 86934), (94645, 94766), (102915, 103031), (104151, 104267), (155578, 155706), (162400, 162473), (162632, 162706), (171350, 171452)]\n"
     ]
    }
   ],
   "source": [
    "convert_segments(selected_segments_rots)"
   ]
  },
  {
   "cell_type": "code",
   "execution_count": 22,
   "metadata": {
    "ExecuteTime": {
     "end_time": "2019-06-05T16:08:09.482426Z",
     "start_time": "2019-06-05T16:08:09.442934Z"
    }
   },
   "outputs": [],
   "source": [
    "end = time.time()"
   ]
  },
  {
   "cell_type": "code",
   "execution_count": 23,
   "metadata": {
    "ExecuteTime": {
     "end_time": "2019-06-05T16:08:10.183588Z",
     "start_time": "2019-06-05T16:08:10.143335Z"
    }
   },
   "outputs": [
    {
     "name": "stdout",
     "output_type": "stream",
     "text": [
      "Seconds to label:  852.9286942481995\n"
     ]
    }
   ],
   "source": [
    "print(\"Seconds to label: \", end - start)"
   ]
  },
  {
   "cell_type": "markdown",
   "metadata": {},
   "source": [
    "# Steve Jobs"
   ]
  },
  {
   "cell_type": "code",
   "execution_count": 24,
   "metadata": {
    "ExecuteTime": {
     "end_time": "2019-06-05T16:12:40.382728Z",
     "start_time": "2019-06-05T16:12:40.343501Z"
    }
   },
   "outputs": [],
   "source": [
    "start = time.time()"
   ]
  },
  {
   "cell_type": "code",
   "execution_count": 57,
   "metadata": {
    "ExecuteTime": {
     "end_time": "2019-06-05T18:44:42.858358Z",
     "start_time": "2019-06-05T18:44:37.178246Z"
    }
   },
   "outputs": [
    {
     "name": "stderr",
     "output_type": "stream",
     "text": [
      "\r",
      "  0%|                                                                                                                                                                                                                  | 0/1 [00:00<?, ?it/s]"
     ]
    },
    {
     "name": "stdout",
     "output_type": "stream",
     "text": [
      "Getting brightness for 1025 intervals\n"
     ]
    },
    {
     "name": "stderr",
     "output_type": "stream",
     "text": [
      "100%|██████████████████████████████████████████████████████████████████████████████████████████████████████████████████████████████████████████████████████████████████████████████████████████████████████████| 1/1 [00:03<00:00,  3.91s/it]\n"
     ]
    },
    {
     "name": "stdout",
     "output_type": "stream",
     "text": [
      "Constructing 2 consecutive short shots\n",
      "There are 1 videos with 2 consecutive short shots\n",
      "Constructing 3 consecutive short shots\n",
      "There are 1 videos with 3 consecutive short shots\n",
      "Getting captions\n"
     ]
    },
    {
     "data": {
      "application/vnd.jupyter.widget-view+json": {
       "model_id": "3aa5034f57a34d09bf7c6a9b6b51d3e8",
       "version_major": 2,
       "version_minor": 0
      },
      "text/plain": [
       "VGridWidget(jsglobals={'schema': [['Identity', ['id', 'name']], ['Genre', ['id', 'name']], ['Director', ['id',…"
      ]
     },
     "metadata": {},
     "output_type": "display_data"
    }
   ],
   "source": [
    "widget, result = show_query(520, 3, 4, 1)"
   ]
  },
  {
   "cell_type": "code",
   "execution_count": 27,
   "metadata": {
    "ExecuteTime": {
     "end_time": "2019-06-05T16:16:50.382477Z",
     "start_time": "2019-06-05T16:16:50.340315Z"
    }
   },
   "outputs": [
    {
     "name": "stdout",
     "output_type": "stream",
     "text": [
      "[(26103, 26103), (35885, 35885), (41726, 41726), (64245, 64245), (102774, 102774), (105988, 105988), (132567, 132567), (169275, 169275)]\n"
     ]
    }
   ],
   "source": [
    "selected_segments_jobs = [\n",
    "    (result['result'][i]['elements'][0]['min_frame'], result['result'][i]['elements'][0]['min_frame'])\n",
    "    for i in widget.selected\n",
    "]\n",
    "print(selected_segments_jobs)"
   ]
  },
  {
   "cell_type": "code",
   "execution_count": 58,
   "metadata": {
    "ExecuteTime": {
     "end_time": "2019-06-05T18:44:51.218280Z",
     "start_time": "2019-06-05T18:44:51.172123Z"
    }
   },
   "outputs": [
    {
     "name": "stdout",
     "output_type": "stream",
     "text": [
      "[(26103, 26216), (35885, 36118), (41726, 41838), (64245, 64389), (102774, 103008), (105988, 106145), (132567, 132684), (169275, 169448)]\n"
     ]
    }
   ],
   "source": [
    "convert_segments(selected_segments_jobs)"
   ]
  },
  {
   "cell_type": "code",
   "execution_count": 28,
   "metadata": {
    "ExecuteTime": {
     "end_time": "2019-06-05T16:16:51.166446Z",
     "start_time": "2019-06-05T16:16:51.127659Z"
    }
   },
   "outputs": [],
   "source": [
    "end = time.time()"
   ]
  },
  {
   "cell_type": "code",
   "execution_count": 29,
   "metadata": {
    "ExecuteTime": {
     "end_time": "2019-06-05T16:16:51.847792Z",
     "start_time": "2019-06-05T16:16:51.807719Z"
    }
   },
   "outputs": [
    {
     "name": "stdout",
     "output_type": "stream",
     "text": [
      "Seconds to label:  250.78352189064026\n"
     ]
    }
   ],
   "source": [
    "print(\"Seconds to label: \", end - start)"
   ]
  },
  {
   "cell_type": "markdown",
   "metadata": {},
   "source": [
    "# Guardians of the Galaxy"
   ]
  },
  {
   "cell_type": "code",
   "execution_count": 30,
   "metadata": {
    "ExecuteTime": {
     "end_time": "2019-06-05T16:19:06.295926Z",
     "start_time": "2019-06-05T16:19:06.256488Z"
    }
   },
   "outputs": [],
   "source": [
    "start = time.time()"
   ]
  },
  {
   "cell_type": "code",
   "execution_count": 59,
   "metadata": {
    "ExecuteTime": {
     "end_time": "2019-06-05T18:45:11.964176Z",
     "start_time": "2019-06-05T18:45:08.678312Z"
    }
   },
   "outputs": [
    {
     "name": "stderr",
     "output_type": "stream",
     "text": [
      "\r",
      "  0%|                                                                                                                                                                                                                  | 0/1 [00:00<?, ?it/s]"
     ]
    },
    {
     "name": "stdout",
     "output_type": "stream",
     "text": [
      "Getting brightness for 846 intervals\n"
     ]
    },
    {
     "name": "stderr",
     "output_type": "stream",
     "text": [
      "100%|██████████████████████████████████████████████████████████████████████████████████████████████████████████████████████████████████████████████████████████████████████████████████████████████████████████| 1/1 [00:01<00:00,  1.90s/it]\n"
     ]
    },
    {
     "name": "stdout",
     "output_type": "stream",
     "text": [
      "Constructing 2 consecutive short shots\n",
      "There are 1 videos with 2 consecutive short shots\n",
      "Constructing 3 consecutive short shots\n",
      "There are 1 videos with 3 consecutive short shots\n",
      "Getting captions\n"
     ]
    },
    {
     "data": {
      "application/vnd.jupyter.widget-view+json": {
       "model_id": "f1e201b7c2674f54a4366c4a4f73bc37",
       "version_major": 2,
       "version_minor": 0
      },
      "text/plain": [
       "VGridWidget(jsglobals={'schema': [['Identity', ['id', 'name']], ['Genre', ['id', 'name']], ['Director', ['id',…"
      ]
     },
     "metadata": {},
     "output_type": "display_data"
    }
   ],
   "source": [
    "widget, result = show_query(74, 3, 2, 1)"
   ]
  },
  {
   "cell_type": "code",
   "execution_count": 35,
   "metadata": {
    "ExecuteTime": {
     "end_time": "2019-06-05T16:27:49.273782Z",
     "start_time": "2019-06-05T16:27:49.230500Z"
    }
   },
   "outputs": [
    {
     "name": "stdout",
     "output_type": "stream",
     "text": [
      "[(13276, 13276), (15410, 15410), (26541, 26541), (28356, 28356), (56012, 56012), (52560, 52560), (85015, 85015), (89149, 89149), (89491, 89491), (91984, 91984), (103407, 103407), (122103, 122103), (124120, 124120), (124919, 124919), (125610, 125610), (131503, 131503), (129493, 129493), (132114, 132114), (135673, 135673), (147868, 147868)]\n"
     ]
    }
   ],
   "source": [
    "selected_segments_gotg = [\n",
    "    (result['result'][i]['elements'][0]['min_frame'], result['result'][i]['elements'][0]['min_frame'])\n",
    "    for i in widget.selected\n",
    "]\n",
    "\n",
    "print(selected_segments_gotg)"
   ]
  },
  {
   "cell_type": "code",
   "execution_count": 60,
   "metadata": {
    "ExecuteTime": {
     "end_time": "2019-06-05T18:45:19.884454Z",
     "start_time": "2019-06-05T18:45:19.844026Z"
    }
   },
   "outputs": [
    {
     "name": "stdout",
     "output_type": "stream",
     "text": [
      "[(13276, 13382), (15410, 15684), (26541, 26679), (28356, 28503), (56012, 56208), (52560, 52666), (85015, 85127), (89149, 89223), (89491, 89606), (91984, 92036), (103407, 103540), (122103, 122177), (124120, 124193), (124919, 125013), (125610, 125722), (131503, 131629), (129493, 129749), (132114, 132217), (135673, 135828), (147868, 147938)]\n"
     ]
    }
   ],
   "source": [
    "convert_segments(selected_segments_gotg)"
   ]
  },
  {
   "cell_type": "code",
   "execution_count": 36,
   "metadata": {
    "ExecuteTime": {
     "end_time": "2019-06-05T16:27:50.151576Z",
     "start_time": "2019-06-05T16:27:50.111305Z"
    }
   },
   "outputs": [],
   "source": [
    "end = time.time()"
   ]
  },
  {
   "cell_type": "code",
   "execution_count": 37,
   "metadata": {
    "ExecuteTime": {
     "end_time": "2019-06-05T16:27:50.808883Z",
     "start_time": "2019-06-05T16:27:50.768414Z"
    }
   },
   "outputs": [
    {
     "name": "stdout",
     "output_type": "stream",
     "text": [
      "Seconds to label:  523.8553323745728\n"
     ]
    }
   ],
   "source": [
    "print(\"Seconds to label: \", end - start)"
   ]
  },
  {
   "cell_type": "markdown",
   "metadata": {},
   "source": [
    "# Daddy's Home"
   ]
  },
  {
   "cell_type": "code",
   "execution_count": 38,
   "metadata": {
    "ExecuteTime": {
     "end_time": "2019-06-05T16:28:52.250864Z",
     "start_time": "2019-06-05T16:28:52.211022Z"
    }
   },
   "outputs": [],
   "source": [
    "start = time.time()"
   ]
  },
  {
   "cell_type": "code",
   "execution_count": 61,
   "metadata": {
    "ExecuteTime": {
     "end_time": "2019-06-05T18:45:36.569593Z",
     "start_time": "2019-06-05T18:45:32.027261Z"
    }
   },
   "outputs": [
    {
     "name": "stderr",
     "output_type": "stream",
     "text": [
      "\r",
      "  0%|                                                                                                                                                                                                                  | 0/1 [00:00<?, ?it/s]"
     ]
    },
    {
     "name": "stdout",
     "output_type": "stream",
     "text": [
      "Getting brightness for 1274 intervals\n"
     ]
    },
    {
     "name": "stderr",
     "output_type": "stream",
     "text": [
      "100%|██████████████████████████████████████████████████████████████████████████████████████████████████████████████████████████████████████████████████████████████████████████████████████████████████████████| 1/1 [00:03<00:00,  3.23s/it]\n"
     ]
    },
    {
     "name": "stdout",
     "output_type": "stream",
     "text": [
      "Constructing 2 consecutive short shots\n",
      "There are 1 videos with 2 consecutive short shots\n",
      "Constructing 3 consecutive short shots\n",
      "There are 1 videos with 3 consecutive short shots\n",
      "Getting captions\n"
     ]
    },
    {
     "data": {
      "application/vnd.jupyter.widget-view+json": {
       "model_id": "8bbdc9a731504e9c9bf496521bfad930",
       "version_major": 2,
       "version_minor": 0
      },
      "text/plain": [
       "VGridWidget(jsglobals={'schema': [['Identity', ['id', 'name']], ['Genre', ['id', 'name']], ['Director', ['id',…"
      ]
     },
     "metadata": {},
     "output_type": "display_data"
    }
   ],
   "source": [
    "widget, result = show_query(334, 3, 3, 1)"
   ]
  },
  {
   "cell_type": "code",
   "execution_count": 41,
   "metadata": {
    "ExecuteTime": {
     "end_time": "2019-06-05T16:32:25.579063Z",
     "start_time": "2019-06-05T16:32:25.538177Z"
    }
   },
   "outputs": [
    {
     "name": "stdout",
     "output_type": "stream",
     "text": [
      "[(10173, 10173), (16441, 16441), (35905, 35905), (49783, 49783), (50483, 50483), (54680, 54680), (99226, 99226), (99773, 99773), (108821, 108821), (130270, 130270)]\n"
     ]
    }
   ],
   "source": [
    "selected_segments_daddy = [\n",
    "    (result['result'][i]['elements'][0]['min_frame'], result['result'][i]['elements'][0]['min_frame'])\n",
    "    for i in widget.selected\n",
    "]\n",
    "print(selected_segments_daddy)"
   ]
  },
  {
   "cell_type": "code",
   "execution_count": 62,
   "metadata": {
    "ExecuteTime": {
     "end_time": "2019-06-05T18:45:41.881445Z",
     "start_time": "2019-06-05T18:45:41.840647Z"
    }
   },
   "outputs": [
    {
     "name": "stdout",
     "output_type": "stream",
     "text": [
      "[(10173, 10419), (16441, 17023), (35905, 36286), (49783, 50033), (50483, 50578), (54680, 54836), (99226, 99595), (99773, 99901), (108821, 108904), (130270, 130438)]\n"
     ]
    }
   ],
   "source": [
    "convert_segments(selected_segments_daddy)"
   ]
  },
  {
   "cell_type": "code",
   "execution_count": 42,
   "metadata": {
    "ExecuteTime": {
     "end_time": "2019-06-05T16:32:26.533947Z",
     "start_time": "2019-06-05T16:32:26.493329Z"
    }
   },
   "outputs": [],
   "source": [
    "end = time.time()"
   ]
  },
  {
   "cell_type": "code",
   "execution_count": 43,
   "metadata": {
    "ExecuteTime": {
     "end_time": "2019-06-05T16:32:27.147035Z",
     "start_time": "2019-06-05T16:32:27.107197Z"
    }
   },
   "outputs": [
    {
     "name": "stdout",
     "output_type": "stream",
     "text": [
      "Seconds to label:  214.2823235988617\n"
     ]
    }
   ],
   "source": [
    "print(\"Seconds to label: \", end - start)"
   ]
  },
  {
   "cell_type": "markdown",
   "metadata": {},
   "source": [
    "# Batman v Superman"
   ]
  },
  {
   "cell_type": "code",
   "execution_count": 44,
   "metadata": {
    "ExecuteTime": {
     "end_time": "2019-06-05T16:32:59.930483Z",
     "start_time": "2019-06-05T16:32:59.891264Z"
    }
   },
   "outputs": [],
   "source": [
    "start = time.time()"
   ]
  },
  {
   "cell_type": "code",
   "execution_count": 63,
   "metadata": {
    "ExecuteTime": {
     "end_time": "2019-06-05T18:45:55.561221Z",
     "start_time": "2019-06-05T18:45:52.374512Z"
    }
   },
   "outputs": [
    {
     "name": "stderr",
     "output_type": "stream",
     "text": [
      "\r",
      "  0%|                                                                                                                                                                                                                  | 0/1 [00:00<?, ?it/s]"
     ]
    },
    {
     "name": "stdout",
     "output_type": "stream",
     "text": [
      "Getting brightness for 606 intervals\n"
     ]
    },
    {
     "name": "stderr",
     "output_type": "stream",
     "text": [
      "100%|██████████████████████████████████████████████████████████████████████████████████████████████████████████████████████████████████████████████████████████████████████████████████████████████████████████| 1/1 [00:02<00:00,  2.30s/it]\n",
      "No document for video id: 299\n"
     ]
    },
    {
     "name": "stdout",
     "output_type": "stream",
     "text": [
      "Constructing 2 consecutive short shots\n",
      "There are 1 videos with 2 consecutive short shots\n",
      "Constructing 3 consecutive short shots\n",
      "There are 1 videos with 3 consecutive short shots\n",
      "Getting captions\n"
     ]
    },
    {
     "data": {
      "application/vnd.jupyter.widget-view+json": {
       "model_id": "618d27f056624f378d6a2c4158b38982",
       "version_major": 2,
       "version_minor": 0
      },
      "text/plain": [
       "VGridWidget(jsglobals={'schema': [['Identity', ['id', 'name']], ['Genre', ['id', 'name']], ['Director', ['id',…"
      ]
     },
     "metadata": {},
     "output_type": "display_data"
    }
   ],
   "source": [
    "widget, result = show_query(299, 3, 2, 1)"
   ]
  },
  {
   "cell_type": "code",
   "execution_count": 49,
   "metadata": {
    "ExecuteTime": {
     "end_time": "2019-06-05T16:42:04.384502Z",
     "start_time": "2019-06-05T16:42:04.341877Z"
    }
   },
   "outputs": [
    {
     "name": "stdout",
     "output_type": "stream",
     "text": [
      "[(13207, 13207), (20728, 20728), (38251, 38251), (63535, 63535), (96489, 96489), (98687, 98687), (112839, 112839), (114901, 114901), (130444, 130444), (179427, 179427), (181749, 181749), (182978, 182978), (190543, 190543), (198495, 198495), (205006, 205006), (209383, 209383), (216314, 216314), (219301, 219301), (220373, 220373), (220560, 220560), (223711, 223711)]\n"
     ]
    }
   ],
   "source": [
    "selected_segments_bvs = [\n",
    "    (result['result'][i]['elements'][0]['min_frame'], result['result'][i]['elements'][0]['min_frame'])\n",
    "    for i in widget.selected\n",
    "]\n",
    "print(selected_segments_bvs)"
   ]
  },
  {
   "cell_type": "code",
   "execution_count": 64,
   "metadata": {
    "ExecuteTime": {
     "end_time": "2019-06-05T18:45:59.461264Z",
     "start_time": "2019-06-05T18:45:59.414325Z"
    }
   },
   "outputs": [
    {
     "name": "stdout",
     "output_type": "stream",
     "text": [
      "[(13207, 13440), (20728, 20846), (38251, 38365), (63535, 63616), (96489, 96613), (98687, 98818), (112839, 112942), (114901, 115000), (130444, 130534), (179427, 179618), (181749, 181858), (182978, 183048), (190543, 190656), (198495, 198648), (205006, 205187), (209383, 209576), (216314, 216452), (219301, 219405), (220373, 220464), (220560, 220647), (223711, 223847)]\n"
     ]
    }
   ],
   "source": [
    "convert_segments(selected_segments_bvs)"
   ]
  },
  {
   "cell_type": "code",
   "execution_count": 50,
   "metadata": {
    "ExecuteTime": {
     "end_time": "2019-06-05T16:42:05.648014Z",
     "start_time": "2019-06-05T16:42:05.607859Z"
    }
   },
   "outputs": [],
   "source": [
    "end = time.time()"
   ]
  },
  {
   "cell_type": "code",
   "execution_count": 51,
   "metadata": {
    "ExecuteTime": {
     "end_time": "2019-06-05T16:42:06.454213Z",
     "start_time": "2019-06-05T16:42:06.410231Z"
    }
   },
   "outputs": [
    {
     "name": "stdout",
     "output_type": "stream",
     "text": [
      "Seconds to label:  545.7174379825592\n"
     ]
    }
   ],
   "source": [
    "print(\"Seconds to label: \", end - start)"
   ]
  }
 ],
 "metadata": {
  "kernelspec": {
   "display_name": "Django Shell-Plus",
   "language": "python",
   "name": "django_extensions"
  },
  "language_info": {
   "codemirror_mode": {
    "name": "ipython",
    "version": 3
   },
   "file_extension": ".py",
   "mimetype": "text/x-python",
   "name": "python",
   "nbconvert_exporter": "python",
   "pygments_lexer": "ipython3",
   "version": "3.5.2"
  },
  "toc": {
   "nav_menu": {},
   "number_sections": true,
   "sideBar": true,
   "skip_h1_title": false,
   "toc_cell": false,
   "toc_position": {},
   "toc_section_display": "block",
   "toc_window_display": false
  }
 },
 "nbformat": 4,
 "nbformat_minor": 2
}
