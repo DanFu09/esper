{
 "cells": [
  {
   "cell_type": "markdown",
   "metadata": {
    "toc": true
   },
   "source": [
    "<h1>Table of Contents<span class=\"tocSkip\"></span></h1>\n",
    "<div class=\"toc\" style=\"margin-top: 1em;\"><ul class=\"toc-item\"><li><span><a href=\"#Load-saved-models-for-both-people\" data-toc-modified-id=\"Load-saved-models-for-both-people-1\"><span class=\"toc-item-num\">1&nbsp;&nbsp;</span>Load saved models for both people</a></span></li><li><span><a href=\"#Load-Spark-Dataframe\" data-toc-modified-id=\"Load-Spark-Dataframe-2\"><span class=\"toc-item-num\">2&nbsp;&nbsp;</span>Load Spark Dataframe</a></span></li><li><span><a href=\"#Plot-Total-Screen-Time-for-Multiple-People-by-Show\" data-toc-modified-id=\"Plot-Total-Screen-Time-for-Multiple-People-by-Show-3\"><span class=\"toc-item-num\">3&nbsp;&nbsp;</span>Plot Total Screen Time for Multiple People by Show</a></span><ul class=\"toc-item\"><li><span><a href=\"#Plot-Difference-in-Screen-Time-Between-Pairs-of-People-By-Show\" data-toc-modified-id=\"Plot-Difference-in-Screen-Time-Between-Pairs-of-People-By-Show-3.1\"><span class=\"toc-item-num\">3.1&nbsp;&nbsp;</span>Plot Difference in Screen Time Between Pairs of People By Show</a></span></li></ul></li><li><span><a href=\"#Compare-Screen-Time-Over-Time-For-Multiple-People-on-a-Single-Show\" data-toc-modified-id=\"Compare-Screen-Time-Over-Time-For-Multiple-People-on-a-Single-Show-4\"><span class=\"toc-item-num\">4&nbsp;&nbsp;</span>Compare Screen Time Over Time For Multiple People on a Single Show</a></span></li><li><span><a href=\"#Co-occurence-on-Screen\" data-toc-modified-id=\"Co-occurence-on-Screen-5\"><span class=\"toc-item-num\">5&nbsp;&nbsp;</span>Co-occurence on Screen</a></span></li></ul></div>"
   ]
  },
  {
   "cell_type": "code",
   "execution_count": null,
   "metadata": {
    "ExecuteTime": {
     "end_time": "2018-07-07T05:37:48.276320Z",
     "start_time": "2018-07-07T05:37:48.234108Z"
    }
   },
   "outputs": [],
   "source": [
    "from esper.stdlib import *\n",
    "from esper.prelude import *\n",
    "from esper.identity import *\n",
    "from esper.spark_identity import *\n",
    "from esper.spark_util import *\n",
    "from esper.validation import *"
   ]
  },
  {
   "cell_type": "code",
   "execution_count": null,
   "metadata": {
    "ExecuteTime": {
     "end_time": "2018-07-07T05:37:48.772125Z",
     "start_time": "2018-07-07T05:37:48.736255Z"
    }
   },
   "outputs": [],
   "source": [
    "people = ['Donald Trump', 'Hillary Clinton', 'Bernie Sanders']"
   ]
  },
  {
   "cell_type": "markdown",
   "metadata": {},
   "source": [
    "# Load saved models for both people"
   ]
  },
  {
   "cell_type": "code",
   "execution_count": null,
   "metadata": {
    "ExecuteTime": {
     "end_time": "2018-07-07T05:38:18.891796Z",
     "start_time": "2018-07-07T05:37:51.769478Z"
    },
    "scrolled": false
   },
   "outputs": [],
   "source": [
    "def load_model(name):\n",
    "    print('Loading model for {}.'.format(name))\n",
    "    model = FaceIdentityModel.load_from_gcs(name=name)\n",
    "    imshow(tile_imgs([\n",
    "        cv2.resize(x[1][0], (200, 200)) for x in model.model_params['images']], cols=10\n",
    "    ))\n",
    "    plt.show()\n",
    "    plot_precision_and_cdf(model)\n",
    "    return model\n",
    "\n",
    "face_models = [load_model(x) for x in people]"
   ]
  },
  {
   "cell_type": "markdown",
   "metadata": {},
   "source": [
    "# Load Spark Dataframe"
   ]
  },
  {
   "cell_type": "code",
   "execution_count": null,
   "metadata": {
    "ExecuteTime": {
     "end_time": "2018-07-07T05:39:40.159587Z",
     "start_time": "2018-07-07T05:38:18.894651Z"
    }
   },
   "outputs": [],
   "source": [
    "face_identities = get_face_identities()\n",
    "print('Schema:', face_identities)"
   ]
  },
  {
   "cell_type": "markdown",
   "metadata": {},
   "source": [
    "# Plot Total Screen Time for Multiple People by Show"
   ]
  },
  {
   "cell_type": "code",
   "execution_count": null,
   "metadata": {
    "ExecuteTime": {
     "end_time": "2018-07-07T05:41:06.174238Z",
     "start_time": "2018-07-07T05:39:40.162766Z"
    }
   },
   "outputs": [],
   "source": [
    "date_range = ['2016-01-01', '2016-11-09']\n",
    "screen_time_by_canonical_show = [\n",
    "    get_screen_time_by_canonical_show_spark(\n",
    "        name.lower(), \n",
    "        face_identities.where(face_identities.in_commercial == False),\n",
    "        date_range=date_range\n",
    "    ) for name in people\n",
    "]"
   ]
  },
  {
   "cell_type": "code",
   "execution_count": null,
   "metadata": {
    "ExecuteTime": {
     "end_time": "2018-07-07T05:41:07.858756Z",
     "start_time": "2018-07-07T05:41:06.176979Z"
    }
   },
   "outputs": [],
   "source": [
    "plot_screen_time_by_show(people, screen_time_by_canonical_show)"
   ]
  },
  {
   "cell_type": "markdown",
   "metadata": {},
   "source": [
    "## Plot Difference in Screen Time Between Pairs of People By Show "
   ]
  },
  {
   "cell_type": "code",
   "execution_count": null,
   "metadata": {
    "ExecuteTime": {
     "end_time": "2018-07-07T05:42:14.452117Z",
     "start_time": "2018-07-07T05:42:13.091080Z"
    },
    "scrolled": false
   },
   "outputs": [],
   "source": [
    "from itertools import combinations\n",
    "\n",
    "for i, j in combinations(range(len(people)), 2):\n",
    "    plot_difference_in_screen_time_by_show(\n",
    "        [x.lower() for x in [people[i], people[j]]], \n",
    "        [screen_time_by_canonical_show[i], screen_time_by_canonical_show[j]], \n",
    "        plot_proportion=False\n",
    "    )"
   ]
  },
  {
   "cell_type": "markdown",
   "metadata": {},
   "source": [
    "# Compare Screen Time Over Time For Multiple People on a Single Show"
   ]
  },
  {
   "cell_type": "code",
   "execution_count": null,
   "metadata": {
    "ExecuteTime": {
     "end_time": "2018-07-07T05:43:58.293297Z",
     "start_time": "2018-07-07T05:42:52.421307Z"
    }
   },
   "outputs": [],
   "source": [
    "canonical_show_name = 'MSNBC Live'\n",
    "face_identities_filtered = face_identities.where(\n",
    "    face_identities.canonical_show_id == CanonicalShow.objects.get(name=canonical_show_name).id\n",
    ")\n",
    "screen_times_by_video = [\n",
    "    {\n",
    "        vid : st for vid, (st, var) in get_screen_time_by_video_spark(\n",
    "            name.lower(), \n",
    "            face_identities_filtered, \n",
    "            date_range=date_range\n",
    "        ).items()\n",
    "    } for name in people\n",
    "]"
   ]
  },
  {
   "cell_type": "code",
   "execution_count": null,
   "metadata": {
    "ExecuteTime": {
     "end_time": "2018-07-07T05:44:40.902753Z",
     "start_time": "2018-07-07T05:43:58.295881Z"
    }
   },
   "outputs": [],
   "source": [
    "plot_screentime_over_time(people, canonical_show_name, \n",
    "                          screen_times_by_video)"
   ]
  },
  {
   "cell_type": "markdown",
   "metadata": {},
   "source": [
    "# Co-occurence on Screen"
   ]
  },
  {
   "cell_type": "code",
   "execution_count": null,
   "metadata": {
    "ExecuteTime": {
     "end_time": "2018-07-07T05:45:18.221987Z",
     "start_time": "2018-07-07T05:44:40.904785Z"
    }
   },
   "outputs": [],
   "source": [
    "jaccard_sims = get_person_in_shot_similarity_spark(\n",
    "    [x.lower() for x in people], \n",
    "    face_identities, \n",
    "    date_range=date_range\n",
    ")\n",
    "print('{:<20}\\t{:<20}\\tJaccard\\tP2|P1\\tP1|P2'.format('Person 1', 'Person 2'))\n",
    "for (p1, p2), (a, b, c) in sorted(jaccard_sims.items(), key=lambda x: -x[1][0]):\n",
    "    print('{:<20}\\t{:<20}\\t{:0.4f}\\t{:0.4f}\\t{:0.4f}'.format(p1, p2, a, b, c))"
   ]
  },
  {
   "cell_type": "code",
   "execution_count": null,
   "metadata": {},
   "outputs": [],
   "source": []
  }
 ],
 "metadata": {
  "kernelspec": {
   "display_name": "Django Shell-Plus",
   "language": "python",
   "name": "django_extensions"
  },
  "language_info": {
   "codemirror_mode": {
    "name": "ipython",
    "version": 3
   },
   "file_extension": ".py",
   "mimetype": "text/x-python",
   "name": "python",
   "nbconvert_exporter": "python",
   "pygments_lexer": "ipython3",
   "version": "3.5.2"
  },
  "toc": {
   "base_numbering": 1,
   "nav_menu": {},
   "number_sections": true,
   "sideBar": false,
   "skip_h1_title": false,
   "title_cell": "Table of Contents",
   "title_sidebar": "Contents",
   "toc_cell": true,
   "toc_position": {},
   "toc_section_display": "block",
   "toc_window_display": false
  }
 },
 "nbformat": 4,
 "nbformat_minor": 2
}
