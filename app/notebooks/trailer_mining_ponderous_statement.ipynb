{
 "cells": [
  {
   "cell_type": "code",
   "execution_count": 2,
   "metadata": {
    "ExecuteTime": {
     "end_time": "2019-06-05T16:44:42.143273Z",
     "start_time": "2019-06-05T16:44:41.300945Z"
    }
   },
   "outputs": [],
   "source": [
    "from esper.supercuts import *\n",
    "from query.models import Shot\n",
    "from rekall.temporal_predicates import overlaps"
   ]
  },
  {
   "cell_type": "code",
   "execution_count": 3,
   "metadata": {
    "ExecuteTime": {
     "end_time": "2019-06-05T16:44:44.000747Z",
     "start_time": "2019-06-05T16:44:42.727796Z"
    }
   },
   "outputs": [
    {
     "name": "stderr",
     "output_type": "stream",
     "text": [
      "Loading the document list and lexicon\n",
      "Matched 571 documents to videos\n",
      "0 documents have no videos\n",
      "71 videos have no documents\n"
     ]
    }
   ],
   "source": [
    "from rekall.video_interval_collection import VideoIntervalCollection\n",
    "from rekall.interval_list import IntervalList\n",
    "from rekall.merge_ops import payload_plus\n",
    "from rekall.payload_predicates import payload_satisfies\n",
    "from rekall.temporal_predicates import overlaps\n",
    "from rekall.parsers import in_array, merge_dict_parsers, bbox_payload_parser, dict_payload_parser\n",
    "from esper.caption_metadata import caption_metadata_for_video\n",
    "from esper.captions import get_all_segments\n",
    "from esper.prelude import esper_widget\n",
    "import time\n",
    "from IPython.display import display"
   ]
  },
  {
   "cell_type": "markdown",
   "metadata": {},
   "source": [
    "# Query"
   ]
  },
  {
   "cell_type": "code",
   "execution_count": 22,
   "metadata": {
    "ExecuteTime": {
     "end_time": "2019-06-05T16:50:02.948467Z",
     "start_time": "2019-06-05T16:50:02.890610Z"
    }
   },
   "outputs": [],
   "source": [
    "def show_query(video_id, text):\n",
    "    videos = Video.objects.filter(id__in=[video_id]).all()\n",
    "    \n",
    "#     # Annotate face rows with start and end frames and the video ID\n",
    "#     faces_with_character_actor_qs = FaceCharacterActor.objects.annotate(\n",
    "#         min_frame=F('face__frame__number'),\n",
    "#         max_frame=F('face__frame__number'),\n",
    "#         video_id=F('face__frame__video_id'),\n",
    "#         character_name=F('characteractor__character__name')\n",
    "#     ).filter(video_id__in=[v.id for v in videos])\n",
    "\n",
    "#     frames_with_identity = VideoIntervalCollection.from_django_qs(\n",
    "#         faces_with_character_actor_qs,\n",
    "#         with_payload=in_array(\n",
    "#             dict_payload_parser(VideoIntervalCollection.django_accessor, { 'character': 'character_name' }),\n",
    "#         )\n",
    "#     ).coalesce(payload_merge_op=payload_plus)\n",
    "    \n",
    "    def convert_to_frames(intrvllist_seconds, fps):\n",
    "        return intrvllist_seconds.map(\n",
    "            lambda intrvl: (int(intrvl.start * fps), int(intrvl.end * fps), intrvl.payload)\n",
    "        )\n",
    "    \n",
    "    all_segments = get_all_segments([video.id for video in videos])\n",
    "    captions_interval_collection = VideoIntervalCollection({\n",
    "        video: convert_to_frames(IntervalList(intervals), Video.objects.get(id=video).fps)\n",
    "        for video, intervals in all_segments\n",
    "    }).dilate(24).coalesce(payload_merge_op = payload_plus).map(\n",
    "        lambda intrvl: (intrvl.start, intrvl.end, ' '.join(intrvl.payload))\n",
    "    )\n",
    "    \n",
    "#     frames_with_antagonist = frames_with_identity.filter(\n",
    "#         lambda intrvl: any(antagonist_name in char['character'] for char in intrvl.payload)\n",
    "#     )\n",
    "    \n",
    "#     frames_with_antagonist_and_text = captions_interval_collection.filter_against(\n",
    "#         frames_with_antagonist, predicate=overlaps(), working_window=10).coalesce().filter_length(min_length=48)\n",
    "    \n",
    "    statements_with_questions = captions_interval_collection.filter(\n",
    "        lambda intrvl: text in intrvl.payload.lower()\n",
    "    )\n",
    "    \n",
    "    result = intrvllists_to_result_with_objects(statements_with_questions, lambda a, b: [])\n",
    "    widget = esper_widget(result, jupyter_keybindings=True, disable_captions=True)\n",
    "    display(widget)\n",
    "    return widget, result"
   ]
  },
  {
   "cell_type": "code",
   "execution_count": 33,
   "metadata": {
    "ExecuteTime": {
     "end_time": "2019-06-05T17:12:45.015474Z",
     "start_time": "2019-06-05T17:12:44.955933Z"
    }
   },
   "outputs": [],
   "source": [
    "def convert_segments(segments):\n",
    "    output_segments = []\n",
    "    for seg in segments:\n",
    "        for res in result['result']:\n",
    "            if res['elements'][0]['min_frame'] == seg[0]:\n",
    "                output_segments.append((res['elements'][0]['min_frame'], res['elements'][0]['max_frame']))\n",
    "    print(output_segments)"
   ]
  },
  {
   "cell_type": "code",
   "execution_count": 36,
   "metadata": {
    "ExecuteTime": {
     "end_time": "2019-06-05T18:40:11.747672Z",
     "start_time": "2019-06-05T18:40:10.313302Z"
    }
   },
   "outputs": [
    {
     "data": {
      "application/vnd.jupyter.widget-view+json": {
       "model_id": "14e86c0d69194ca2b68e9b163047c0bd",
       "version_major": 2,
       "version_minor": 0
      },
      "text/plain": [
       "VGridWidget(jsglobals={'queries': [['Reaction shots in Apollo 13 (rekall)', 'def reaction_shots_apollo_13():\\n…"
      ]
     },
     "metadata": {},
     "output_type": "display_data"
    }
   ],
   "source": [
    "widget, result = show_query(28, 'why')"
   ]
  },
  {
   "cell_type": "code",
   "execution_count": 19,
   "metadata": {
    "ExecuteTime": {
     "end_time": "2019-06-05T16:48:56.098183Z",
     "start_time": "2019-06-05T16:48:56.054961Z"
    }
   },
   "outputs": [
    {
     "name": "stdout",
     "output_type": "stream",
     "text": [
      "[(136941, 136941), (138760, 138760), (214455, 214455)]\n"
     ]
    }
   ],
   "source": [
    "selected_segments_braveheart = [\n",
    "    (result['result'][i]['elements'][0]['min_frame'], result['result'][i]['elements'][0]['min_frame'])\n",
    "    for i in widget.selected\n",
    "]\n",
    "print(selected_segments_braveheart)"
   ]
  },
  {
   "cell_type": "code",
   "execution_count": 37,
   "metadata": {
    "ExecuteTime": {
     "end_time": "2019-06-05T18:40:20.681512Z",
     "start_time": "2019-06-05T18:40:20.639582Z"
    }
   },
   "outputs": [
    {
     "name": "stdout",
     "output_type": "stream",
     "text": [
      "[(136941, 137580), (138760, 139111), (214455, 214519)]\n"
     ]
    }
   ],
   "source": [
    "convert_segments(selected_segments_braveheart)"
   ]
  },
  {
   "cell_type": "markdown",
   "metadata": {},
   "source": [
    "# Revenge of the Sith"
   ]
  },
  {
   "cell_type": "code",
   "execution_count": 24,
   "metadata": {
    "ExecuteTime": {
     "end_time": "2019-06-05T16:50:07.271289Z",
     "start_time": "2019-06-05T16:50:07.229777Z"
    }
   },
   "outputs": [],
   "source": [
    "start = time.time()"
   ]
  },
  {
   "cell_type": "code",
   "execution_count": 34,
   "metadata": {
    "ExecuteTime": {
     "end_time": "2019-06-05T17:14:55.421353Z",
     "start_time": "2019-06-05T17:14:54.217376Z"
    }
   },
   "outputs": [
    {
     "data": {
      "application/vnd.jupyter.widget-view+json": {
       "model_id": "71927c86f06e4bde8b9acd972d7dbc13",
       "version_major": 2,
       "version_minor": 0
      },
      "text/plain": [
       "VGridWidget(jsglobals={'queries': [['Reaction shots in Apollo 13 (rekall)', 'def reaction_shots_apollo_13():\\n…"
      ]
     },
     "metadata": {},
     "output_type": "display_data"
    }
   ],
   "source": [
    "widget, result = show_query(186, 'how')"
   ]
  },
  {
   "cell_type": "code",
   "execution_count": 30,
   "metadata": {
    "ExecuteTime": {
     "end_time": "2019-06-05T16:52:47.318368Z",
     "start_time": "2019-06-05T16:52:47.275381Z"
    }
   },
   "outputs": [
    {
     "name": "stdout",
     "output_type": "stream",
     "text": [
      "[(53622, 53622), (53780, 53780)]\n"
     ]
    }
   ],
   "source": [
    "selected_segments_rots = [\n",
    "    (result['result'][i]['elements'][0]['min_frame'], result['result'][i]['elements'][0]['min_frame'])\n",
    "    for i in widget.selected\n",
    "]\n",
    "print(selected_segments_rots)"
   ]
  },
  {
   "cell_type": "code",
   "execution_count": 35,
   "metadata": {
    "ExecuteTime": {
     "end_time": "2019-06-05T17:15:04.178111Z",
     "start_time": "2019-06-05T17:15:04.136659Z"
    }
   },
   "outputs": [
    {
     "name": "stdout",
     "output_type": "stream",
     "text": [
      "[(53622, 53772), (53780, 53973)]\n"
     ]
    }
   ],
   "source": [
    "convert_segments(selected_segments_rots)"
   ]
  },
  {
   "cell_type": "code",
   "execution_count": 31,
   "metadata": {
    "ExecuteTime": {
     "end_time": "2019-06-05T16:52:48.118721Z",
     "start_time": "2019-06-05T16:52:48.079691Z"
    }
   },
   "outputs": [],
   "source": [
    "end = time.time()"
   ]
  },
  {
   "cell_type": "code",
   "execution_count": 32,
   "metadata": {
    "ExecuteTime": {
     "end_time": "2019-06-05T16:52:48.744840Z",
     "start_time": "2019-06-05T16:52:48.704085Z"
    }
   },
   "outputs": [
    {
     "name": "stdout",
     "output_type": "stream",
     "text": [
      "Seconds to label:  160.84781956672668\n"
     ]
    }
   ],
   "source": [
    "print(\"Seconds to label: \", end - start)"
   ]
  },
  {
   "cell_type": "markdown",
   "metadata": {},
   "source": [
    "# Steve Jobs"
   ]
  },
  {
   "cell_type": "code",
   "execution_count": 135,
   "metadata": {
    "ExecuteTime": {
     "end_time": "2019-06-04T01:13:38.097285Z",
     "start_time": "2019-06-04T01:13:38.058340Z"
    }
   },
   "outputs": [],
   "source": [
    "start = time.time()"
   ]
  },
  {
   "cell_type": "code",
   "execution_count": 137,
   "metadata": {
    "ExecuteTime": {
     "end_time": "2019-06-04T01:15:09.105761Z",
     "start_time": "2019-06-04T01:15:05.306800Z"
    }
   },
   "outputs": [
    {
     "data": {
      "application/vnd.jupyter.widget-view+json": {
       "model_id": "e89249ebb2644c1baf38907b97e2f3bf",
       "version_major": 2,
       "version_minor": 0
      },
      "text/plain": [
       "VGridWidget(jsglobals={'queries': [['Reaction shots in Apollo 13 (rekall)', 'def reaction_shots_apollo_13():\\n…"
      ]
     },
     "metadata": {},
     "output_type": "display_data"
    }
   ],
   "source": [
    "widget, result = show_query(520, 'sculley')"
   ]
  },
  {
   "cell_type": "code",
   "execution_count": 138,
   "metadata": {
    "ExecuteTime": {
     "end_time": "2019-06-04T01:18:35.383126Z",
     "start_time": "2019-06-04T01:18:35.337512Z"
    }
   },
   "outputs": [
    {
     "name": "stdout",
     "output_type": "stream",
     "text": [
      "[(45475, 45475), (95252, 95252)]\n"
     ]
    }
   ],
   "source": [
    "selected_segments_jobs = [\n",
    "    (result['result'][i]['elements'][0]['min_frame'], result['result'][i]['elements'][0]['min_frame'])\n",
    "    for i in widget.selected\n",
    "]\n",
    "print(selected_segments_jobs)"
   ]
  },
  {
   "cell_type": "code",
   "execution_count": 139,
   "metadata": {
    "ExecuteTime": {
     "end_time": "2019-06-04T01:18:36.360297Z",
     "start_time": "2019-06-04T01:18:36.321869Z"
    }
   },
   "outputs": [],
   "source": [
    "end = time.time()"
   ]
  },
  {
   "cell_type": "code",
   "execution_count": 140,
   "metadata": {
    "ExecuteTime": {
     "end_time": "2019-06-04T01:18:37.210678Z",
     "start_time": "2019-06-04T01:18:37.169816Z"
    }
   },
   "outputs": [
    {
     "name": "stdout",
     "output_type": "stream",
     "text": [
      "Seconds to label:  298.2629656791687\n"
     ]
    }
   ],
   "source": [
    "print(\"Seconds to label: \", end - start)"
   ]
  },
  {
   "cell_type": "markdown",
   "metadata": {},
   "source": [
    "# Guardians of the Galaxy"
   ]
  },
  {
   "cell_type": "code",
   "execution_count": 144,
   "metadata": {
    "ExecuteTime": {
     "end_time": "2019-06-04T01:25:06.126444Z",
     "start_time": "2019-06-04T01:25:06.086583Z"
    }
   },
   "outputs": [],
   "source": [
    "start = time.time()"
   ]
  },
  {
   "cell_type": "code",
   "execution_count": 145,
   "metadata": {
    "ExecuteTime": {
     "end_time": "2019-06-04T01:25:13.596172Z",
     "start_time": "2019-06-04T01:25:10.244768Z"
    }
   },
   "outputs": [
    {
     "data": {
      "application/vnd.jupyter.widget-view+json": {
       "model_id": "0717c3f4004f4787a770b5bfdaded6dc",
       "version_major": 2,
       "version_minor": 0
      },
      "text/plain": [
       "VGridWidget(jsglobals={'queries': [['Reaction shots in Apollo 13 (rekall)', 'def reaction_shots_apollo_13():\\n…"
      ]
     },
     "metadata": {},
     "output_type": "display_data"
    }
   ],
   "source": [
    "widget, result = show_query(74, 'ronan')"
   ]
  },
  {
   "cell_type": "code",
   "execution_count": 146,
   "metadata": {
    "ExecuteTime": {
     "end_time": "2019-06-04T01:26:57.089140Z",
     "start_time": "2019-06-04T01:26:57.044508Z"
    }
   },
   "outputs": [
    {
     "name": "stdout",
     "output_type": "stream",
     "text": [
      "[(92487, 92487), (103646, 103646)]\n"
     ]
    }
   ],
   "source": [
    "selected_segments_gotg = [\n",
    "    (result['result'][i]['elements'][0]['min_frame'], result['result'][i]['elements'][0]['min_frame'])\n",
    "    for i in widget.selected\n",
    "]\n",
    "print(selected_segments_gotg)"
   ]
  },
  {
   "cell_type": "code",
   "execution_count": 147,
   "metadata": {
    "ExecuteTime": {
     "end_time": "2019-06-04T01:26:58.517161Z",
     "start_time": "2019-06-04T01:26:58.477787Z"
    }
   },
   "outputs": [],
   "source": [
    "end = time.time()"
   ]
  },
  {
   "cell_type": "code",
   "execution_count": 148,
   "metadata": {
    "ExecuteTime": {
     "end_time": "2019-06-04T01:26:59.329112Z",
     "start_time": "2019-06-04T01:26:59.287354Z"
    }
   },
   "outputs": [
    {
     "name": "stdout",
     "output_type": "stream",
     "text": [
      "Seconds to label:  112.39082598686218\n"
     ]
    }
   ],
   "source": [
    "print(\"Seconds to label: \", end - start)"
   ]
  },
  {
   "cell_type": "markdown",
   "metadata": {},
   "source": [
    "# Daddy's Home"
   ]
  },
  {
   "cell_type": "code",
   "execution_count": 149,
   "metadata": {
    "ExecuteTime": {
     "end_time": "2019-06-04T01:28:06.736988Z",
     "start_time": "2019-06-04T01:28:06.697204Z"
    }
   },
   "outputs": [],
   "source": [
    "start = time.time()"
   ]
  },
  {
   "cell_type": "code",
   "execution_count": 150,
   "metadata": {
    "ExecuteTime": {
     "end_time": "2019-06-04T01:28:11.789249Z",
     "start_time": "2019-06-04T01:28:07.945423Z"
    }
   },
   "outputs": [
    {
     "data": {
      "application/vnd.jupyter.widget-view+json": {
       "model_id": "7f034e354d8444c7a4e6b2958496e930",
       "version_major": 2,
       "version_minor": 0
      },
      "text/plain": [
       "VGridWidget(jsglobals={'queries': [['Reaction shots in Apollo 13 (rekall)', 'def reaction_shots_apollo_13():\\n…"
      ]
     },
     "metadata": {},
     "output_type": "display_data"
    }
   ],
   "source": [
    "widget, result = show_query(334, 'dusty')"
   ]
  },
  {
   "cell_type": "code",
   "execution_count": 151,
   "metadata": {
    "ExecuteTime": {
     "end_time": "2019-06-04T01:32:38.456931Z",
     "start_time": "2019-06-04T01:32:38.413393Z"
    }
   },
   "outputs": [
    {
     "name": "stdout",
     "output_type": "stream",
     "text": [
      "[(30813, 30813), (31160, 31160), (118618, 118618)]\n"
     ]
    }
   ],
   "source": [
    "selected_segments_daddy = [\n",
    "    (result['result'][i]['elements'][0]['min_frame'], result['result'][i]['elements'][0]['min_frame'])\n",
    "    for i in widget.selected\n",
    "]\n",
    "print(selected_segments_daddy)"
   ]
  },
  {
   "cell_type": "code",
   "execution_count": 152,
   "metadata": {
    "ExecuteTime": {
     "end_time": "2019-06-04T01:32:39.450539Z",
     "start_time": "2019-06-04T01:32:39.410246Z"
    }
   },
   "outputs": [],
   "source": [
    "end = time.time()"
   ]
  },
  {
   "cell_type": "code",
   "execution_count": 153,
   "metadata": {
    "ExecuteTime": {
     "end_time": "2019-06-04T01:32:40.190533Z",
     "start_time": "2019-06-04T01:32:40.149843Z"
    }
   },
   "outputs": [
    {
     "name": "stdout",
     "output_type": "stream",
     "text": [
      "Seconds to label:  272.71405601501465\n"
     ]
    }
   ],
   "source": [
    "print(\"Seconds to label: \", end - start)"
   ]
  },
  {
   "cell_type": "markdown",
   "metadata": {},
   "source": [
    "# Batman v superman: no caption file"
   ]
  },
  {
   "cell_type": "code",
   "execution_count": 178,
   "metadata": {
    "ExecuteTime": {
     "end_time": "2019-06-04T01:40:52.149531Z",
     "start_time": "2019-06-04T01:40:52.083864Z"
    }
   },
   "outputs": [],
   "source": [
    "def show_query_no_captions(video_id, antagonist_name):\n",
    "# video_id=299\n",
    "# antagonist_name=\"luthor\"\n",
    "# if True:\n",
    "    videos = Video.objects.filter(id__in=[video_id]).all()\n",
    "    \n",
    "    # Annotate face rows with start and end frames and the video ID\n",
    "    faces_with_character_actor_qs = FaceCharacterActor.objects.annotate(\n",
    "        min_frame=F('face__frame__number'),\n",
    "        max_frame=F('face__frame__number'),\n",
    "        video_id=F('face__frame__video_id'),\n",
    "        character_name=F('characteractor__character__name')\n",
    "    ).filter(video_id__in=[v.id for v in videos])\n",
    "\n",
    "    frames_with_identity = VideoIntervalCollection.from_django_qs(\n",
    "        faces_with_character_actor_qs,\n",
    "        with_payload=in_array(\n",
    "            dict_payload_parser(VideoIntervalCollection.django_accessor, { 'character': 'character_name' }),\n",
    "        )\n",
    "    ).coalesce(payload_merge_op=payload_plus)\n",
    "    \n",
    "    def convert_to_frames(intrvllist_seconds, fps):\n",
    "        return intrvllist_seconds.map(\n",
    "            lambda intrvl: (int(intrvl.start * fps), int(intrvl.end * fps), intrvl.payload)\n",
    "        )\n",
    "    \n",
    "    all_segments = get_all_segments([video.id for video in videos])\n",
    "    captions_interval_collection = VideoIntervalCollection({\n",
    "        video: convert_to_frames(IntervalList(intervals), Video.objects.get(id=video).fps)\n",
    "        for video, intervals in all_segments\n",
    "    }).dilate(10).coalesce(payload_merge_op = payload_plus).dilate(-10).map(\n",
    "        lambda intrvl: (intrvl.start, intrvl.end, ' '.join(intrvl.payload))\n",
    "    )\n",
    "    \n",
    "    frames_with_antagonist = frames_with_identity.filter(\n",
    "        lambda intrvl: any(antagonist_name in char['character'] for char in intrvl.payload)\n",
    "    )\n",
    "    \n",
    "    #print(frames_with_antagonist.get_intervallist(299))\n",
    "    \n",
    "    frames_with_antagonist_and_text = captions_interval_collection.filter_against(\n",
    "        frames_with_antagonist, predicate=overlaps(), working_window=10).coalesce().filter_length(min_length=48)\n",
    "    \n",
    "    result = intrvllists_to_result_with_objects(\n",
    "        frames_with_antagonist.dilate(10).coalesce().dilate(-10).filter_length(\n",
    "            min_length=48\n",
    "        ), lambda a, b: [])\n",
    "    widget = esper_widget(result, jupyter_keybindings=True)\n",
    "    display(widget)\n",
    "    return widget, result"
   ]
  },
  {
   "cell_type": "code",
   "execution_count": 179,
   "metadata": {
    "ExecuteTime": {
     "end_time": "2019-06-04T01:40:53.454757Z",
     "start_time": "2019-06-04T01:40:53.414245Z"
    }
   },
   "outputs": [],
   "source": [
    "start = time.time()"
   ]
  },
  {
   "cell_type": "code",
   "execution_count": 180,
   "metadata": {
    "ExecuteTime": {
     "end_time": "2019-06-04T01:40:59.182308Z",
     "start_time": "2019-06-04T01:40:55.694115Z"
    }
   },
   "outputs": [
    {
     "name": "stderr",
     "output_type": "stream",
     "text": [
      "No document for video id: 299\n"
     ]
    },
    {
     "data": {
      "application/vnd.jupyter.widget-view+json": {
       "model_id": "9d8d13ab7eea4b05bb236c693b462749",
       "version_major": 2,
       "version_minor": 0
      },
      "text/plain": [
       "VGridWidget(jsglobals={'queries': [['Reaction shots in Apollo 13 (rekall)', 'def reaction_shots_apollo_13():\\n…"
      ]
     },
     "metadata": {},
     "output_type": "display_data"
    }
   ],
   "source": [
    "widget, result = show_query_no_captions(299, 'luthor')"
   ]
  },
  {
   "cell_type": "code",
   "execution_count": 181,
   "metadata": {
    "ExecuteTime": {
     "end_time": "2019-06-04T01:48:29.139486Z",
     "start_time": "2019-06-04T01:48:29.098492Z"
    }
   },
   "outputs": [
    {
     "name": "stdout",
     "output_type": "stream",
     "text": [
      "[(60638, 60638), (73664, 73664), (167760, 167760), (233131, 233131), (248916, 248916)]\n"
     ]
    }
   ],
   "source": [
    "selected_segments_bvs = [\n",
    "    (result['result'][i]['elements'][0]['min_frame'], result['result'][i]['elements'][0]['min_frame'])\n",
    "    for i in widget.selected\n",
    "]\n",
    "print(selected_segments_bvs)"
   ]
  },
  {
   "cell_type": "code",
   "execution_count": 182,
   "metadata": {
    "ExecuteTime": {
     "end_time": "2019-06-04T01:48:30.348836Z",
     "start_time": "2019-06-04T01:48:30.307257Z"
    }
   },
   "outputs": [],
   "source": [
    "end = time.time()"
   ]
  },
  {
   "cell_type": "code",
   "execution_count": 183,
   "metadata": {
    "ExecuteTime": {
     "end_time": "2019-06-04T01:48:31.077757Z",
     "start_time": "2019-06-04T01:48:31.032760Z"
    }
   },
   "outputs": [
    {
     "name": "stdout",
     "output_type": "stream",
     "text": [
      "Seconds to label:  456.8938891887665\n"
     ]
    }
   ],
   "source": [
    "print(\"Seconds to label: \", end - start)"
   ]
  }
 ],
 "metadata": {
  "kernelspec": {
   "display_name": "Django Shell-Plus",
   "language": "python",
   "name": "django_extensions"
  },
  "language_info": {
   "codemirror_mode": {
    "name": "ipython",
    "version": 3
   },
   "file_extension": ".py",
   "mimetype": "text/x-python",
   "name": "python",
   "nbconvert_exporter": "python",
   "pygments_lexer": "ipython3",
   "version": "3.5.2"
  },
  "toc": {
   "nav_menu": {},
   "number_sections": true,
   "sideBar": true,
   "skip_h1_title": false,
   "toc_cell": false,
   "toc_position": {},
   "toc_section_display": "block",
   "toc_window_display": false
  }
 },
 "nbformat": 4,
 "nbformat_minor": 2
}
