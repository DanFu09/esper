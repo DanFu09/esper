{
 "cells": [
  {
   "cell_type": "code",
   "execution_count": 1,
   "metadata": {},
   "outputs": [],
   "source": [
    "%matplotlib inline\n",
    "import os\n",
    "from query.datasets.prelude import *\n",
    "from pprint import pprint"
   ]
  },
  {
   "cell_type": "code",
   "execution_count": null,
   "metadata": {},
   "outputs": [],
   "source": [
    "from django.db import models\n",
    "faces = Face.objects.annotate(height=F('bbox_y2')-F('bbox_y1')).filter(frame__video__id=791, labeler__name='mtcnn', height__gte=0.3, track=OuterRef('pk')).annotate(min_frame=Min('frame__number'), max_frame=Max('frame__number'))\n",
    "print(FaceTrack.objects.annotate(min_frame=Subquery(faces.values('min_frame'), output_field=models.IntegerField()), max_frame=Subquery(faces.values('max_frame'), output_field=models.IntegerField()))).query"
   ]
  },
  {
   "cell_type": "code",
   "execution_count": null,
   "metadata": {},
   "outputs": [],
   "source": [
    "print(FaceTrack.objects.all().values('id').query)\n",
    "print(FaceTrack.objects.all().filter(face__frame__video__channel='CNN').values('id').query)\n",
    "print(FaceTrack.objects.annotate(height=F('face__bbox_y2')-F('face__bbox_y1')).values('id').query)"
   ]
  },
  {
   "cell_type": "code",
   "execution_count": null,
   "metadata": {},
   "outputs": [],
   "source": [
    "print(FaceTrack.objects.all().count())\n",
    "print(FaceTrack.objects.all().filter(face__frame__video__channel='CNN').count())\n",
    "print(FaceTrack.objects.annotate(height=F('face__bbox_y2')-F('face__bbox_y1')).count())"
   ]
  },
  {
   "cell_type": "code",
   "execution_count": null,
   "metadata": {},
   "outputs": [],
   "source": [
    "# Get total number of detected female vs male faces\n",
    "gender_frames = Gender.objects.annotate(count=Count('tvnews_face__frame')).values('name', 'count')\n",
    "total = gender_frames[0]['count'] + gender_frames[1]['count']\n",
    "print('Female: {:.1f}%, Male: {:.1f}%'.format(gender_frames[1]['count'] / float(total) * 100, gender_frames[0]['count'] / float(total) * 100))\n",
    "pd.DataFrame(list(gender_frames))"
   ]
  },
  {
   "cell_type": "code",
   "execution_count": null,
   "metadata": {},
   "outputs": [],
   "source": [
    "# Get # of frames with a man vs. woman on them\n",
    "shows = [t['show'] for t in Video.objects.distinct('show').values('show')]\n",
    "counts = {}\n",
    "for show in shows:\n",
    "    print 'Computing for {}'.format(show)\n",
    "    counts[show] = {}\n",
    "    for gender in ['male', 'female']:\n",
    "        counts[show][gender] = Frame.objects.filter(\n",
    "            video__show=show, faceinstance__gender__name=gender).distinct('id').count()\n",
    "    counts[show]['total'] = Frame.objects.filter(video__show=show).annotate(c=Count('faceinstance')).filter(c__gt=0).count()\n",
    "\n",
    "print ''\n",
    "    \n",
    "for show, count in counts.iteritems():\n",
    "    print('{}: female {:.1f}%, male {:.1f}%'.format(show, (count['female'] / float(count['total']) * 100), (count['male'] / float(count['total']) * 100)))\n",
    "pd.DataFrame(counts)"
   ]
  },
  {
   "cell_type": "code",
   "execution_count": null,
   "metadata": {},
   "outputs": [],
   "source": [
    "# Get # of total faces per show that are man vs. woman\n",
    "def talking_heads(qs):\n",
    "    return qs.annotate(height=F('bbox_y2')-F('bbox_y1')).filter(height__gte=0.25)\n",
    "\n",
    "shows = [t['show'] for t in Video.objects.distinct('show').values('show')]\n",
    "counts = {}\n",
    "for show in shows:\n",
    "    counts[show] = {}\n",
    "    for gender in ['male', 'female']:\n",
    "        counts[show][gender] = talking_heads(FaceInstance.objects.filter(frame__video__show=show, gender__name=gender)).count()\n",
    "    counts[show]['total'] = talking_heads(FaceInstance.objects.filter(frame__video__show=show)).count()    \n",
    "\n",
    "print ''\n",
    "    \n",
    "for show, count in counts.iteritems():\n",
    "    print('{}: female {:.1f}%, male {:.1f}%'.format(show, (count['female'] / float(count['total']) * 100), (count['male'] / float(count['total']) * 100)))\n",
    "    \n",
    "pd.DataFrame(counts)"
   ]
  },
  {
   "cell_type": "code",
   "execution_count": null,
   "metadata": {},
   "outputs": [],
   "source": [
    "# Get # of total faces per show that are man vs. woman\n",
    "def talking_heads(qs):\n",
    "    return qs.annotate(height=F('bbox_y2')-F('bbox_y1')).filter(height__gte=0.25)\n",
    "\n",
    "id = 4457280\n",
    "FaceFeatures.dropTempFeatureModel()\n",
    "FaceFeatures.getTempFeatureModel([id])\n",
    "\n",
    "shows = ['CNN Newsroom With Poppy Harlow']\n",
    "counts = {}\n",
    "for show in shows:\n",
    "    counts[show] = {}\n",
    "    for gender in ['male', 'female']:\n",
    "        counts[show][gender] = talking_heads(FaceInstance.objects.filter(frame__video__show=show, gender__name=gender, facefeaturestemp__distto_4457280__gte=1.7)).count()\n",
    "    counts[show]['total'] = talking_heads(FaceInstance.objects.filter(frame__video__show=show, facefeaturestemp__distto_4457280__gte=1.7)).count()    \n",
    "\n",
    "print ''\n",
    "    \n",
    "for show, count in counts.iteritems():\n",
    "    print('{}: female {:.1f}%, male {:.1f}%'.format(show, (count['female'] / float(count['total']) * 100), (count['male'] / float(count['total']) * 100)))\n",
    "    \n",
    "fropd.DataFrame(counts)"
   ]
  },
  {
   "cell_type": "code",
   "execution_count": null,
   "metadata": {},
   "outputs": [],
   "source": [
    "from collections import defaultdict\n",
    "labeler_names = [l['labeler__name'] for l in Face.objects.values('labeler__name').distinct()]\n",
    "print(labeler_names)\n",
    "\n",
    "videos = defaultdict(lambda: defaultdict(lambda: defaultdict(list)))\n",
    "for frame in Frame.objects.filter(Q(video__show='Situation Room With Wolf Blitzer') | Q(video__show='Special Report With Bret Baier')).select_related('video')[:10000:10]:\n",
    "    faces = Face.objects.filter(frame=frame).select_related('labeler')\n",
    "    for face in faces:\n",
    "        videos[frame.video.id][frame.id][face.labeler.name].append(face)\n",
    "        \n",
    "print(dict(videos).keys())\n",
    "        \n",
    "AREA_THRESHOLD = 0.02\n",
    "DIST_THRESHOLD = 0.10\n",
    "\n",
    "mistakes = defaultdict(lambda: defaultdict(tuple))\n",
    "for video, frames in videos.iteritems():\n",
    "    for frame, labelers in frames.iteritems():\n",
    "        for labeler, faces in labelers.iteritems():\n",
    "            for face in faces:\n",
    "                if bbox_area(face) < AREA_THRESHOLD:\n",
    "                    continue\n",
    "\n",
    "                mistake = True\n",
    "                for other_labeler in labeler_names:\n",
    "                    if labeler == other_labeler: continue\n",
    "                    other_faces = labelers[other_labeler] if other_labeler in labelers else []\n",
    "                    for other_face in other_faces:\n",
    "                        if bbox_dist(face, other_face) < DIST_THRESHOLD:\n",
    "                            mistake = False\n",
    "                            break\n",
    "\n",
    "                    if mistake and len(other_faces) > 0:\n",
    "                        mistakes[video][frame] = (faces, other_faces)\n",
    "                        break\n",
    "                else:\n",
    "                    continue\n",
    "                break\n",
    "\n",
    "result = []\n",
    "for video, frames in list(mistakes.iteritems())[:100]:\n",
    "    for frame, (faces, other_faces) in frames.iteritems():\n",
    "        result.append({\n",
    "            'video': video,\n",
    "            'start_frame': frame,\n",
    "            'bboxes': [bbox_to_dict(f) for f in faces + other_faces]\n",
    "        })\n",
    "print(len(result))        "
   ]
  }
 ],
 "metadata": {
  "kernelspec": {
   "display_name": "Django Shell-Plus",
   "language": "python",
   "name": "django_extensions"
  },
  "language_info": {
   "codemirror_mode": {
    "name": "ipython",
    "version": 2
   },
   "file_extension": ".py",
   "mimetype": "text/x-python",
   "name": "python",
   "nbconvert_exporter": "python",
   "pygments_lexer": "ipython2",
   "version": "2.7.14"
  }
 },
 "nbformat": 4,
 "nbformat_minor": 2
}
