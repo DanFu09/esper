{
 "cells": [
  {
   "cell_type": "markdown",
   "metadata": {},
   "source": [
    "# Setup\n",
    "\n",
    "There is a hidden initialization cell below. It should run automatically and print, but if it does not, please run it."
   ]
  },
  {
   "cell_type": "code",
   "execution_count": 11,
   "metadata": {
    "ExecuteTime": {
     "end_time": "2019-03-07T02:42:52.458599Z",
     "start_time": "2019-03-07T02:42:52.367315Z"
    },
    "hide_input": false,
    "init_cell": true
   },
   "outputs": [
    {
     "name": "stdout",
     "output_type": "stream",
     "text": [
      "Loading libraries... Please wait.\n",
      "Done!\n"
     ]
    }
   ],
   "source": [
    "%matplotlib inline\n",
    "\n",
    "print('Loading libraries... Please wait.')\n",
    "\n",
    "from IPython.display import display, clear_output\n",
    "import ipywidgets as widgets\n",
    "import random\n",
    "import sys\n",
    "from sklearn.metrics import confusion_matrix, accuracy_score\n",
    "\n",
    "from esper.prelude import *\n",
    "from esper.stdlib import *\n",
    "import esper.face_embeddings as face_embeddings\n",
    "\n",
    "\n",
    "WIDGET_STYLE_ARGS = {'description_width': 'initial'}\n",
    "\n",
    "def load_samples():\n",
    "    # load up samples\n",
    "    with open(os.path.join(PATH, FILE_NAME), 'rb') as f:\n",
    "        samples = pickle.load(f)\n",
    "    \n",
    "    result = []\n",
    "    for s in samples[START_INDEX:END_INDEX]:\n",
    "        video, min_frame, max_frame = s\n",
    "        query_result = {\n",
    "            'type': 'flat', 'label': '', \n",
    "            'elements': [{\n",
    "                'objects': [], \n",
    "                'min_frame': min_frame,\n",
    "                'max_frame': max_frame,\n",
    "                'video': video\n",
    "            }]\n",
    "        }\n",
    "        result.append(query_result)\n",
    "    result_obj = {'type': '', 'count': 0, 'result': result}\n",
    "    \n",
    "    return result_obj\n",
    "\n",
    "def label_segments(result_obj):\n",
    "    widg = esper_widget(\n",
    "        result_obj, jupyter_keybindings=True,\n",
    "        results_per_page=100, disable_captions=True\n",
    "    )\n",
    "    \n",
    "    calculate_precision_button = widgets.Button(\n",
    "        layout=widgets.Layout(width='auto'),\n",
    "        style=WIDGET_STYLE_ARGS,\n",
    "        description='Calculate Accuracy',\n",
    "        disabled=False,\n",
    "        button_style=''\n",
    "    )\n",
    "    def on_calculate(b):\n",
    "        precision = len(widg.selected) / (len(widg.selected) + len(widg.ignored))\n",
    "        print(\"Precision is {}\".format(precision))\n",
    "    calculate_precision_button.on_click(on_calculate)\n",
    "    \n",
    "    save_button = widgets.Button(\n",
    "        layout=widgets.Layout(width='auto'),\n",
    "        style=WIDGET_STYLE_ARGS,\n",
    "        description='Save results',\n",
    "        disabled=False,\n",
    "        button_style='danger'\n",
    "    )\n",
    "    def on_save(b):\n",
    "        with open(os.path.join(PATH, SAVE_FILE), 'wb') as f:\n",
    "            pickle.dump({\n",
    "                'positive': widg.selected,\n",
    "                'negative': widg.ignored\n",
    "            }, f)\n",
    "            print('Results saved')\n",
    "    save_button.on_click(on_save)\n",
    "    \n",
    "    display(calculate_precision_button)\n",
    "    display(save_button)\n",
    "    display(widg)\n",
    "    display(calculate_precision_button)\n",
    "    display(save_button)\n",
    "    \n",
    "    return widg\n",
    "\n",
    "def get_precision(widg):\n",
    "    return len(widg.selected) / (len(widg.selected) + len(widg.ignored))\n",
    "\n",
    "print('Done!')"
   ]
  },
  {
   "cell_type": "markdown",
   "metadata": {},
   "source": [
    "# Init Constants"
   ]
  },
  {
   "cell_type": "code",
   "execution_count": 3,
   "metadata": {
    "ExecuteTime": {
     "end_time": "2019-03-06T23:15:48.354817Z",
     "start_time": "2019-03-06T23:15:48.314958Z"
    }
   },
   "outputs": [],
   "source": [
    "BASENAME = 'sampled_start_wide'"
   ]
  },
  {
   "cell_type": "code",
   "execution_count": 4,
   "metadata": {
    "ExecuteTime": {
     "end_time": "2019-03-06T23:15:49.507216Z",
     "start_time": "2019-03-06T23:15:49.465320Z"
    }
   },
   "outputs": [],
   "source": [
    "PATH = '/app/data/shot_scales_and_conv_idioms_samples'\n",
    "FILE_NAME = '{}.pkl'.format(BASENAME)\n",
    "START_INDEX = 0\n",
    "END_INDEX = 100\n",
    "SAVE_FILE = '{}_results_{}_{}.pkl'.format(BASENAME, START_INDEX, END_INDEX)"
   ]
  },
  {
   "cell_type": "markdown",
   "metadata": {},
   "source": [
    "# Do labeling\n",
    "\n",
    "Run the two cells below. `=` to expand frames - be sure to look at how long the clip is. `[` for positive examples, `]` for negative examples.\n",
    "\n",
    "Shot scale definitions:\n",
    "* Extreme long: the entire body of the character is visible and does not take up the whole frame.\n",
    "* Long: the entire body is visible but fills the frame.\n",
    "* Medium long:, the body up to the knee is visible.\n",
    "* Medium: the body up to the waist is visible.\n",
    "* Medium close ups, the body up to the chest is visible.\n",
    "* In close ups, the head and shoulders are visible.\n",
    "* Extreme close ups, only the face is visible (and not the neck).\n",
    "\n",
    "Idiom definitions:\n",
    "* Intensification: Series of shots in a conversation where the shot scale gets monotonically closer on at least one participant.\n",
    "* Start wide: Conversation where the first shot is an establishing shot showing all the participants in the conversation."
   ]
  },
  {
   "cell_type": "code",
   "execution_count": 5,
   "metadata": {
    "ExecuteTime": {
     "end_time": "2019-03-06T23:15:52.186706Z",
     "start_time": "2019-03-06T23:15:52.141969Z"
    }
   },
   "outputs": [],
   "source": [
    "esper_result = load_samples()"
   ]
  },
  {
   "cell_type": "code",
   "execution_count": 8,
   "metadata": {
    "ExecuteTime": {
     "end_time": "2019-03-06T23:18:11.127825Z",
     "start_time": "2019-03-06T23:18:10.247098Z"
    },
    "scrolled": false
   },
   "outputs": [
    {
     "data": {
      "application/vnd.jupyter.widget-view+json": {
       "model_id": "6efa47c805bf4a639fc24750c6462858",
       "version_major": 2,
       "version_minor": 0
      },
      "text/plain": [
       "Button(description='Calculate Accuracy', layout=Layout(width='auto'), style=ButtonStyle())"
      ]
     },
     "metadata": {},
     "output_type": "display_data"
    },
    {
     "data": {
      "application/vnd.jupyter.widget-view+json": {
       "model_id": "7b7c6210a419416c8f6d5947a83ba6b2",
       "version_major": 2,
       "version_minor": 0
      },
      "text/plain": [
       "Button(button_style='danger', description='Save results', layout=Layout(width='auto'), style=ButtonStyle())"
      ]
     },
     "metadata": {},
     "output_type": "display_data"
    },
    {
     "data": {
      "application/vnd.jupyter.widget-view+json": {
       "model_id": "be3d55b3f48c42dfa4ebf2b4a6b2358a",
       "version_major": 2,
       "version_minor": 0
      },
      "text/plain": [
       "VGridWidget(jsglobals={'schema': [['Identity', ['id', 'name']], ['Genre', ['id', 'name']], ['Director', ['id',…"
      ]
     },
     "metadata": {},
     "output_type": "display_data"
    },
    {
     "data": {
      "application/vnd.jupyter.widget-view+json": {
       "model_id": "6efa47c805bf4a639fc24750c6462858",
       "version_major": 2,
       "version_minor": 0
      },
      "text/plain": [
       "Button(description='Calculate Accuracy', layout=Layout(width='auto'), style=ButtonStyle())"
      ]
     },
     "metadata": {},
     "output_type": "display_data"
    },
    {
     "data": {
      "application/vnd.jupyter.widget-view+json": {
       "model_id": "7b7c6210a419416c8f6d5947a83ba6b2",
       "version_major": 2,
       "version_minor": 0
      },
      "text/plain": [
       "Button(button_style='danger', description='Save results', layout=Layout(width='auto'), style=ButtonStyle())"
      ]
     },
     "metadata": {},
     "output_type": "display_data"
    },
    {
     "ename": "ZeroDivisionError",
     "evalue": "division by zero",
     "output_type": "error",
     "traceback": [
      "\u001b[0;31m---------------------------------------------------------------------------\u001b[0m",
      "\u001b[0;31mZeroDivisionError\u001b[0m                         Traceback (most recent call last)",
      "\u001b[0;32m<ipython-input-7-6ee59dd0a6ac>\u001b[0m in \u001b[0;36mon_calculate\u001b[0;34m(b)\u001b[0m\n\u001b[1;32m     52\u001b[0m     )\n\u001b[1;32m     53\u001b[0m     \u001b[0;32mdef\u001b[0m \u001b[0mon_calculate\u001b[0m\u001b[0;34m(\u001b[0m\u001b[0mb\u001b[0m\u001b[0;34m)\u001b[0m\u001b[0;34m:\u001b[0m\u001b[0;34m\u001b[0m\u001b[0m\n\u001b[0;32m---> 54\u001b[0;31m         \u001b[0mprecision\u001b[0m \u001b[0;34m=\u001b[0m \u001b[0mlen\u001b[0m\u001b[0;34m(\u001b[0m\u001b[0mwidg\u001b[0m\u001b[0;34m.\u001b[0m\u001b[0mselected\u001b[0m\u001b[0;34m)\u001b[0m \u001b[0;34m/\u001b[0m \u001b[0;34m(\u001b[0m\u001b[0mlen\u001b[0m\u001b[0;34m(\u001b[0m\u001b[0mwidg\u001b[0m\u001b[0;34m.\u001b[0m\u001b[0mselected\u001b[0m\u001b[0;34m)\u001b[0m \u001b[0;34m+\u001b[0m \u001b[0mlen\u001b[0m\u001b[0;34m(\u001b[0m\u001b[0mwidg\u001b[0m\u001b[0;34m.\u001b[0m\u001b[0mignored\u001b[0m\u001b[0;34m)\u001b[0m\u001b[0;34m)\u001b[0m\u001b[0;34m\u001b[0m\u001b[0m\n\u001b[0m\u001b[1;32m     55\u001b[0m         \u001b[0mprint\u001b[0m\u001b[0;34m(\u001b[0m\u001b[0;34m\"Precision is {}\"\u001b[0m\u001b[0;34m.\u001b[0m\u001b[0mformat\u001b[0m\u001b[0;34m(\u001b[0m\u001b[0mprecision\u001b[0m\u001b[0;34m)\u001b[0m\u001b[0;34m)\u001b[0m\u001b[0;34m\u001b[0m\u001b[0m\n\u001b[1;32m     56\u001b[0m     \u001b[0mcalculate_precision_button\u001b[0m\u001b[0;34m.\u001b[0m\u001b[0mon_click\u001b[0m\u001b[0;34m(\u001b[0m\u001b[0mon_calculate\u001b[0m\u001b[0;34m)\u001b[0m\u001b[0;34m\u001b[0m\u001b[0m\n",
      "\u001b[0;31mZeroDivisionError\u001b[0m: division by zero"
     ]
    },
    {
     "name": "stdout",
     "output_type": "stream",
     "text": [
      "Precision is 1.0\n",
      "Precision is 1.0\n",
      "Precision is 0.5\n",
      "Results saved\n",
      "Precision is 1.0\n",
      "Results saved\n",
      "Results saved\n",
      "Results saved\n",
      "Precision is 0.8\n"
     ]
    },
    {
     "ename": "ZeroDivisionError",
     "evalue": "division by zero",
     "output_type": "error",
     "traceback": [
      "\u001b[0;31m---------------------------------------------------------------------------\u001b[0m",
      "\u001b[0;31mZeroDivisionError\u001b[0m                         Traceback (most recent call last)",
      "\u001b[0;32m<ipython-input-7-6ee59dd0a6ac>\u001b[0m in \u001b[0;36mon_calculate\u001b[0;34m(b)\u001b[0m\n\u001b[1;32m     52\u001b[0m     )\n\u001b[1;32m     53\u001b[0m     \u001b[0;32mdef\u001b[0m \u001b[0mon_calculate\u001b[0m\u001b[0;34m(\u001b[0m\u001b[0mb\u001b[0m\u001b[0;34m)\u001b[0m\u001b[0;34m:\u001b[0m\u001b[0;34m\u001b[0m\u001b[0m\n\u001b[0;32m---> 54\u001b[0;31m         \u001b[0mprecision\u001b[0m \u001b[0;34m=\u001b[0m \u001b[0mlen\u001b[0m\u001b[0;34m(\u001b[0m\u001b[0mwidg\u001b[0m\u001b[0;34m.\u001b[0m\u001b[0mselected\u001b[0m\u001b[0;34m)\u001b[0m \u001b[0;34m/\u001b[0m \u001b[0;34m(\u001b[0m\u001b[0mlen\u001b[0m\u001b[0;34m(\u001b[0m\u001b[0mwidg\u001b[0m\u001b[0;34m.\u001b[0m\u001b[0mselected\u001b[0m\u001b[0;34m)\u001b[0m \u001b[0;34m+\u001b[0m \u001b[0mlen\u001b[0m\u001b[0;34m(\u001b[0m\u001b[0mwidg\u001b[0m\u001b[0;34m.\u001b[0m\u001b[0mignored\u001b[0m\u001b[0;34m)\u001b[0m\u001b[0;34m)\u001b[0m\u001b[0;34m\u001b[0m\u001b[0m\n\u001b[0m\u001b[1;32m     55\u001b[0m         \u001b[0mprint\u001b[0m\u001b[0;34m(\u001b[0m\u001b[0;34m\"Precision is {}\"\u001b[0m\u001b[0;34m.\u001b[0m\u001b[0mformat\u001b[0m\u001b[0;34m(\u001b[0m\u001b[0mprecision\u001b[0m\u001b[0;34m)\u001b[0m\u001b[0;34m)\u001b[0m\u001b[0;34m\u001b[0m\u001b[0m\n\u001b[1;32m     56\u001b[0m     \u001b[0mcalculate_precision_button\u001b[0m\u001b[0;34m.\u001b[0m\u001b[0mon_click\u001b[0m\u001b[0;34m(\u001b[0m\u001b[0mon_calculate\u001b[0m\u001b[0;34m)\u001b[0m\u001b[0;34m\u001b[0m\u001b[0m\n",
      "\u001b[0;31mZeroDivisionError\u001b[0m: division by zero"
     ]
    }
   ],
   "source": [
    "widg = label_segments(esper_result)"
   ]
  },
  {
   "cell_type": "markdown",
   "metadata": {},
   "source": [
    "# Get Precision\n",
    "Run the cell below to print the precision"
   ]
  },
  {
   "cell_type": "code",
   "execution_count": 10,
   "metadata": {
    "ExecuteTime": {
     "end_time": "2019-03-07T02:19:15.137349Z",
     "start_time": "2019-03-07T02:19:15.078741Z"
    }
   },
   "outputs": [
    {
     "ename": "ZeroDivisionError",
     "evalue": "division by zero",
     "output_type": "error",
     "traceback": [
      "\u001b[0;31m---------------------------------------------------------------------------\u001b[0m",
      "\u001b[0;31mZeroDivisionError\u001b[0m                         Traceback (most recent call last)",
      "\u001b[0;32m<ipython-input-10-38ebccf37a48>\u001b[0m in \u001b[0;36m<module>\u001b[0;34m()\u001b[0m\n\u001b[0;32m----> 1\u001b[0;31m \u001b[0mget_precision\u001b[0m\u001b[0;34m(\u001b[0m\u001b[0mwidg\u001b[0m\u001b[0;34m)\u001b[0m\u001b[0;34m\u001b[0m\u001b[0m\n\u001b[0m",
      "\u001b[0;32m<ipython-input-9-6ee59dd0a6ac>\u001b[0m in \u001b[0;36mget_precision\u001b[0;34m(widg)\u001b[0m\n\u001b[1;32m     81\u001b[0m \u001b[0;34m\u001b[0m\u001b[0m\n\u001b[1;32m     82\u001b[0m \u001b[0;32mdef\u001b[0m \u001b[0mget_precision\u001b[0m\u001b[0;34m(\u001b[0m\u001b[0mwidg\u001b[0m\u001b[0;34m)\u001b[0m\u001b[0;34m:\u001b[0m\u001b[0;34m\u001b[0m\u001b[0m\n\u001b[0;32m---> 83\u001b[0;31m     \u001b[0;32mreturn\u001b[0m \u001b[0mlen\u001b[0m\u001b[0;34m(\u001b[0m\u001b[0mwidg\u001b[0m\u001b[0;34m.\u001b[0m\u001b[0mselected\u001b[0m\u001b[0;34m)\u001b[0m \u001b[0;34m/\u001b[0m \u001b[0;34m(\u001b[0m\u001b[0mlen\u001b[0m\u001b[0;34m(\u001b[0m\u001b[0mwidg\u001b[0m\u001b[0;34m.\u001b[0m\u001b[0mselected\u001b[0m\u001b[0;34m)\u001b[0m \u001b[0;34m+\u001b[0m \u001b[0mlen\u001b[0m\u001b[0;34m(\u001b[0m\u001b[0mwidg\u001b[0m\u001b[0;34m.\u001b[0m\u001b[0mignored\u001b[0m\u001b[0;34m)\u001b[0m\u001b[0;34m)\u001b[0m\u001b[0;34m\u001b[0m\u001b[0m\n\u001b[0m\u001b[1;32m     84\u001b[0m \u001b[0;34m\u001b[0m\u001b[0m\n\u001b[1;32m     85\u001b[0m \u001b[0mprint\u001b[0m\u001b[0;34m(\u001b[0m\u001b[0;34m'Done!'\u001b[0m\u001b[0;34m)\u001b[0m\u001b[0;34m\u001b[0m\u001b[0m\n",
      "\u001b[0;31mZeroDivisionError\u001b[0m: division by zero"
     ]
    }
   ],
   "source": [
    "get_precision(widg)"
   ]
  }
 ],
 "metadata": {
  "celltoolbar": "Initialization Cell",
  "kernelspec": {
   "display_name": "Django Shell-Plus",
   "language": "python",
   "name": "django_extensions"
  },
  "language_info": {
   "codemirror_mode": {
    "name": "ipython",
    "version": 3
   },
   "file_extension": ".py",
   "mimetype": "text/x-python",
   "name": "python",
   "nbconvert_exporter": "python",
   "pygments_lexer": "ipython3",
   "version": "3.5.2"
  },
  "toc": {
   "nav_menu": {},
   "number_sections": true,
   "sideBar": true,
   "skip_h1_title": false,
   "toc_cell": false,
   "toc_position": {},
   "toc_section_display": "block",
   "toc_window_display": false
  }
 },
 "nbformat": 4,
 "nbformat_minor": 2
}
