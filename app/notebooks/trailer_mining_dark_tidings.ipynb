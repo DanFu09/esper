{
 "cells": [
  {
   "cell_type": "code",
   "execution_count": 1,
   "metadata": {
    "ExecuteTime": {
     "end_time": "2019-06-03T22:23:25.961186Z",
     "start_time": "2019-06-03T22:23:24.973727Z"
    }
   },
   "outputs": [],
   "source": [
    "from esper.supercuts import *\n",
    "from query.models import Shot\n",
    "from rekall.temporal_predicates import overlaps"
   ]
  },
  {
   "cell_type": "code",
   "execution_count": 124,
   "metadata": {
    "ExecuteTime": {
     "end_time": "2019-06-04T00:33:11.209360Z",
     "start_time": "2019-06-04T00:33:11.165306Z"
    }
   },
   "outputs": [],
   "source": [
    "from rekall.video_interval_collection import VideoIntervalCollection\n",
    "from rekall.interval_list import IntervalList\n",
    "from rekall.merge_ops import payload_plus\n",
    "from rekall.payload_predicates import payload_satisfies\n",
    "from rekall.temporal_predicates import overlaps\n",
    "from rekall.parsers import in_array, merge_dict_parsers, bbox_payload_parser, dict_payload_parser\n",
    "from esper.caption_metadata import caption_metadata_for_video\n",
    "from esper.captions import get_all_segments\n",
    "from esper.prelude import esper_widget\n",
    "import time\n",
    "from IPython.display import display"
   ]
  },
  {
   "cell_type": "markdown",
   "metadata": {},
   "source": [
    "# Query"
   ]
  },
  {
   "cell_type": "code",
   "execution_count": 131,
   "metadata": {
    "ExecuteTime": {
     "end_time": "2019-06-04T01:09:51.368530Z",
     "start_time": "2019-06-04T01:09:51.306000Z"
    }
   },
   "outputs": [],
   "source": [
    "def show_query(video_id, antagonist_name):\n",
    "    videos = Video.objects.filter(id__in=[video_id]).all()\n",
    "    \n",
    "    # Annotate face rows with start and end frames and the video ID\n",
    "    faces_with_character_actor_qs = FaceCharacterActor.objects.annotate(\n",
    "        min_frame=F('face__frame__number'),\n",
    "        max_frame=F('face__frame__number'),\n",
    "        video_id=F('face__frame__video_id'),\n",
    "        character_name=F('characteractor__character__name')\n",
    "    ).filter(video_id__in=[v.id for v in videos])\n",
    "\n",
    "    frames_with_identity = VideoIntervalCollection.from_django_qs(\n",
    "        faces_with_character_actor_qs,\n",
    "        with_payload=in_array(\n",
    "            dict_payload_parser(VideoIntervalCollection.django_accessor, { 'character': 'character_name' }),\n",
    "        )\n",
    "    ).coalesce(payload_merge_op=payload_plus)\n",
    "    \n",
    "    def convert_to_frames(intrvllist_seconds, fps):\n",
    "        return intrvllist_seconds.map(\n",
    "            lambda intrvl: (int(intrvl.start * fps), int(intrvl.end * fps), intrvl.payload)\n",
    "        )\n",
    "    \n",
    "    all_segments = get_all_segments([video.id for video in videos])\n",
    "    captions_interval_collection = VideoIntervalCollection({\n",
    "        video: convert_to_frames(IntervalList(intervals), Video.objects.get(id=video).fps)\n",
    "        for video, intervals in all_segments\n",
    "    }).dilate(10).coalesce(payload_merge_op = payload_plus).dilate(-10).map(\n",
    "        lambda intrvl: (intrvl.start, intrvl.end, ' '.join(intrvl.payload))\n",
    "    )\n",
    "    \n",
    "    frames_with_antagonist = frames_with_identity.filter(\n",
    "        lambda intrvl: any(antagonist_name in char['character'] for char in intrvl.payload)\n",
    "    )\n",
    "    \n",
    "    frames_with_antagonist_and_text = captions_interval_collection.filter_against(\n",
    "        frames_with_antagonist, predicate=overlaps(), working_window=10).coalesce().filter_length(min_length=48)\n",
    "    \n",
    "    result = intrvllists_to_result_with_objects(frames_with_antagonist_and_text, lambda a, b: [])\n",
    "    widget = esper_widget(result, jupyter_keybindings=True)\n",
    "    display(widget)\n",
    "    return widget, result"
   ]
  },
  {
   "cell_type": "code",
   "execution_count": 190,
   "metadata": {
    "ExecuteTime": {
     "end_time": "2019-06-05T18:36:47.401101Z",
     "start_time": "2019-06-05T18:36:47.356616Z"
    }
   },
   "outputs": [],
   "source": [
    "def convert_segments(segments):\n",
    "    output_segments = []\n",
    "    for seg in segments:\n",
    "        for res in result['result']:\n",
    "            if res['elements'][0]['min_frame'] == seg[0]:\n",
    "                output_segments.append((res['elements'][0]['min_frame'], res['elements'][0]['max_frame']))\n",
    "    print(output_segments)"
   ]
  },
  {
   "cell_type": "code",
   "execution_count": 185,
   "metadata": {
    "ExecuteTime": {
     "end_time": "2019-06-05T17:06:00.231429Z",
     "start_time": "2019-06-05T17:05:56.136934Z"
    }
   },
   "outputs": [
    {
     "data": {
      "application/vnd.jupyter.widget-view+json": {
       "model_id": "6b943825170f43f198f8c452532b5f99",
       "version_major": 2,
       "version_minor": 0
      },
      "text/plain": [
       "VGridWidget(jsglobals={'queries': [['Reaction shots in Apollo 13 (rekall)', 'def reaction_shots_apollo_13():\\n…"
      ]
     },
     "metadata": {},
     "output_type": "display_data"
    }
   ],
   "source": [
    "widget, result = show_query(28, 'longshanks')"
   ]
  },
  {
   "cell_type": "code",
   "execution_count": 186,
   "metadata": {
    "ExecuteTime": {
     "end_time": "2019-06-05T17:06:19.886961Z",
     "start_time": "2019-06-05T17:06:19.844922Z"
    }
   },
   "outputs": [
    {
     "name": "stdout",
     "output_type": "stream",
     "text": [
      "[(27910, 27973), (28084, 28298), (87826, 87933)]\n"
     ]
    }
   ],
   "source": [
    "selected_segments_braveheart = [\n",
    "    (result['result'][i]['elements'][0]['min_frame'], result['result'][i]['elements'][0]['max_frame'])\n",
    "    for i in widget.selected\n",
    "]\n",
    "print(selected_segments_braveheart)"
   ]
  },
  {
   "cell_type": "markdown",
   "metadata": {},
   "source": [
    "# Revenge of the Sith"
   ]
  },
  {
   "cell_type": "code",
   "execution_count": 125,
   "metadata": {
    "ExecuteTime": {
     "end_time": "2019-06-04T01:03:01.107619Z",
     "start_time": "2019-06-04T01:03:01.066802Z"
    }
   },
   "outputs": [],
   "source": [
    "start = time.time()"
   ]
  },
  {
   "cell_type": "code",
   "execution_count": 187,
   "metadata": {
    "ExecuteTime": {
     "end_time": "2019-06-05T17:06:44.597817Z",
     "start_time": "2019-06-05T17:06:41.264389Z"
    }
   },
   "outputs": [
    {
     "data": {
      "application/vnd.jupyter.widget-view+json": {
       "model_id": "d300c105891b4d64afa87ba3b10d4e5e",
       "version_major": 2,
       "version_minor": 0
      },
      "text/plain": [
       "VGridWidget(jsglobals={'queries': [['Reaction shots in Apollo 13 (rekall)', 'def reaction_shots_apollo_13():\\n…"
      ]
     },
     "metadata": {},
     "output_type": "display_data"
    }
   ],
   "source": [
    "widget, result = show_query(186, 'palpatine')"
   ]
  },
  {
   "cell_type": "code",
   "execution_count": 134,
   "metadata": {
    "ExecuteTime": {
     "end_time": "2019-06-04T01:10:25.550349Z",
     "start_time": "2019-06-04T01:10:25.500150Z"
    }
   },
   "outputs": [
    {
     "name": "stdout",
     "output_type": "stream",
     "text": [
      "[(21320, 21320), (67704, 67704), (91822, 91822), (108759, 108759), (110466, 110466), (113616, 113616), (113819, 113819), (156503, 156503)]\n"
     ]
    }
   ],
   "source": [
    "selected_segments_rots = [\n",
    "    (result['result'][i]['elements'][0]['min_frame'], result['result'][i]['elements'][0]['min_frame'])\n",
    "    for i in widget.selected\n",
    "]\n",
    "print(selected_segments_rots)"
   ]
  },
  {
   "cell_type": "code",
   "execution_count": 189,
   "metadata": {
    "ExecuteTime": {
     "end_time": "2019-06-05T17:09:12.120114Z",
     "start_time": "2019-06-05T17:09:12.077388Z"
    }
   },
   "outputs": [
    {
     "name": "stdout",
     "output_type": "stream",
     "text": [
      "[(21320, 21469), (67704, 67896), (91822, 91932), (108759, 108859), (110466, 110568), (113616, 113727), (113819, 113875), (156503, 156619)]\n"
     ]
    }
   ],
   "source": [
    "selected_segments_rots = [\n",
    "    (result['result'][i]['elements'][0]['min_frame'], result['result'][i]['elements'][0]['max_frame'])\n",
    "    for i in widget.selected\n",
    "]\n",
    "print(selected_segments_rots)"
   ]
  },
  {
   "cell_type": "code",
   "execution_count": 129,
   "metadata": {
    "ExecuteTime": {
     "end_time": "2019-06-04T01:09:16.129333Z",
     "start_time": "2019-06-04T01:09:16.088050Z"
    }
   },
   "outputs": [],
   "source": [
    "end = time.time()"
   ]
  },
  {
   "cell_type": "code",
   "execution_count": 130,
   "metadata": {
    "ExecuteTime": {
     "end_time": "2019-06-04T01:09:27.587494Z",
     "start_time": "2019-06-04T01:09:27.547016Z"
    }
   },
   "outputs": [
    {
     "name": "stdout",
     "output_type": "stream",
     "text": [
      "Seconds to label:  375.02112674713135\n"
     ]
    }
   ],
   "source": [
    "print(\"Seconds to label: \", end - start)"
   ]
  },
  {
   "cell_type": "markdown",
   "metadata": {},
   "source": [
    "# Steve Jobs"
   ]
  },
  {
   "cell_type": "code",
   "execution_count": 135,
   "metadata": {
    "ExecuteTime": {
     "end_time": "2019-06-04T01:13:38.097285Z",
     "start_time": "2019-06-04T01:13:38.058340Z"
    }
   },
   "outputs": [],
   "source": [
    "start = time.time()"
   ]
  },
  {
   "cell_type": "code",
   "execution_count": 192,
   "metadata": {
    "ExecuteTime": {
     "end_time": "2019-06-05T18:37:07.400921Z",
     "start_time": "2019-06-05T18:37:03.365456Z"
    }
   },
   "outputs": [
    {
     "data": {
      "application/vnd.jupyter.widget-view+json": {
       "model_id": "083a5da2c861452eb8d4310de31557d6",
       "version_major": 2,
       "version_minor": 0
      },
      "text/plain": [
       "VGridWidget(jsglobals={'queries': [['Reaction shots in Apollo 13 (rekall)', 'def reaction_shots_apollo_13():\\n…"
      ]
     },
     "metadata": {},
     "output_type": "display_data"
    }
   ],
   "source": [
    "widget, result = show_query(520, 'sculley')"
   ]
  },
  {
   "cell_type": "code",
   "execution_count": 138,
   "metadata": {
    "ExecuteTime": {
     "end_time": "2019-06-04T01:18:35.383126Z",
     "start_time": "2019-06-04T01:18:35.337512Z"
    }
   },
   "outputs": [
    {
     "name": "stdout",
     "output_type": "stream",
     "text": [
      "[(45475, 45475), (95252, 95252)]\n"
     ]
    }
   ],
   "source": [
    "selected_segments_jobs = [\n",
    "    (result['result'][i]['elements'][0]['min_frame'], result['result'][i]['elements'][0]['min_frame'])\n",
    "    for i in widget.selected\n",
    "]\n",
    "print(selected_segments_jobs)"
   ]
  },
  {
   "cell_type": "code",
   "execution_count": 193,
   "metadata": {
    "ExecuteTime": {
     "end_time": "2019-06-05T18:37:10.287481Z",
     "start_time": "2019-06-05T18:37:10.213659Z"
    }
   },
   "outputs": [
    {
     "name": "stdout",
     "output_type": "stream",
     "text": [
      "[(45475, 45578), (95252, 95310)]\n"
     ]
    }
   ],
   "source": [
    "convert_segments(selected_segments_jobs)"
   ]
  },
  {
   "cell_type": "code",
   "execution_count": 139,
   "metadata": {
    "ExecuteTime": {
     "end_time": "2019-06-04T01:18:36.360297Z",
     "start_time": "2019-06-04T01:18:36.321869Z"
    }
   },
   "outputs": [],
   "source": [
    "end = time.time()"
   ]
  },
  {
   "cell_type": "code",
   "execution_count": 140,
   "metadata": {
    "ExecuteTime": {
     "end_time": "2019-06-04T01:18:37.210678Z",
     "start_time": "2019-06-04T01:18:37.169816Z"
    }
   },
   "outputs": [
    {
     "name": "stdout",
     "output_type": "stream",
     "text": [
      "Seconds to label:  298.2629656791687\n"
     ]
    }
   ],
   "source": [
    "print(\"Seconds to label: \", end - start)"
   ]
  },
  {
   "cell_type": "markdown",
   "metadata": {},
   "source": [
    "# Guardians of the Galaxy"
   ]
  },
  {
   "cell_type": "code",
   "execution_count": 144,
   "metadata": {
    "ExecuteTime": {
     "end_time": "2019-06-04T01:25:06.126444Z",
     "start_time": "2019-06-04T01:25:06.086583Z"
    }
   },
   "outputs": [],
   "source": [
    "start = time.time()"
   ]
  },
  {
   "cell_type": "code",
   "execution_count": 194,
   "metadata": {
    "ExecuteTime": {
     "end_time": "2019-06-05T18:37:29.992023Z",
     "start_time": "2019-06-05T18:37:26.262081Z"
    }
   },
   "outputs": [
    {
     "data": {
      "application/vnd.jupyter.widget-view+json": {
       "model_id": "ddcf0b0637454d77a7c1fc750eefe17d",
       "version_major": 2,
       "version_minor": 0
      },
      "text/plain": [
       "VGridWidget(jsglobals={'queries': [['Reaction shots in Apollo 13 (rekall)', 'def reaction_shots_apollo_13():\\n…"
      ]
     },
     "metadata": {},
     "output_type": "display_data"
    }
   ],
   "source": [
    "widget, result = show_query(74, 'ronan')"
   ]
  },
  {
   "cell_type": "code",
   "execution_count": 146,
   "metadata": {
    "ExecuteTime": {
     "end_time": "2019-06-04T01:26:57.089140Z",
     "start_time": "2019-06-04T01:26:57.044508Z"
    }
   },
   "outputs": [
    {
     "name": "stdout",
     "output_type": "stream",
     "text": [
      "[(92487, 92487), (103646, 103646)]\n"
     ]
    }
   ],
   "source": [
    "selected_segments_gotg = [\n",
    "    (result['result'][i]['elements'][0]['min_frame'], result['result'][i]['elements'][0]['min_frame'])\n",
    "    for i in widget.selected\n",
    "]\n",
    "print(selected_segments_gotg)"
   ]
  },
  {
   "cell_type": "code",
   "execution_count": 195,
   "metadata": {
    "ExecuteTime": {
     "end_time": "2019-06-05T18:37:33.985887Z",
     "start_time": "2019-06-05T18:37:33.945057Z"
    }
   },
   "outputs": [
    {
     "name": "stdout",
     "output_type": "stream",
     "text": [
      "[(92487, 92559), (103646, 103865)]\n"
     ]
    }
   ],
   "source": [
    "convert_segments(selected_segments_gotg)"
   ]
  },
  {
   "cell_type": "code",
   "execution_count": 147,
   "metadata": {
    "ExecuteTime": {
     "end_time": "2019-06-04T01:26:58.517161Z",
     "start_time": "2019-06-04T01:26:58.477787Z"
    }
   },
   "outputs": [],
   "source": [
    "end = time.time()"
   ]
  },
  {
   "cell_type": "code",
   "execution_count": 148,
   "metadata": {
    "ExecuteTime": {
     "end_time": "2019-06-04T01:26:59.329112Z",
     "start_time": "2019-06-04T01:26:59.287354Z"
    }
   },
   "outputs": [
    {
     "name": "stdout",
     "output_type": "stream",
     "text": [
      "Seconds to label:  112.39082598686218\n"
     ]
    }
   ],
   "source": [
    "print(\"Seconds to label: \", end - start)"
   ]
  },
  {
   "cell_type": "markdown",
   "metadata": {},
   "source": [
    "# Daddy's Home"
   ]
  },
  {
   "cell_type": "code",
   "execution_count": 149,
   "metadata": {
    "ExecuteTime": {
     "end_time": "2019-06-04T01:28:06.736988Z",
     "start_time": "2019-06-04T01:28:06.697204Z"
    }
   },
   "outputs": [],
   "source": [
    "start = time.time()"
   ]
  },
  {
   "cell_type": "code",
   "execution_count": 196,
   "metadata": {
    "ExecuteTime": {
     "end_time": "2019-06-05T18:37:51.730650Z",
     "start_time": "2019-06-05T18:37:47.776495Z"
    }
   },
   "outputs": [
    {
     "data": {
      "application/vnd.jupyter.widget-view+json": {
       "model_id": "3fb69f5cc2fd4c9e9feaef0bea2668a1",
       "version_major": 2,
       "version_minor": 0
      },
      "text/plain": [
       "VGridWidget(jsglobals={'queries': [['Reaction shots in Apollo 13 (rekall)', 'def reaction_shots_apollo_13():\\n…"
      ]
     },
     "metadata": {},
     "output_type": "display_data"
    }
   ],
   "source": [
    "widget, result = show_query(334, 'dusty')"
   ]
  },
  {
   "cell_type": "code",
   "execution_count": 151,
   "metadata": {
    "ExecuteTime": {
     "end_time": "2019-06-04T01:32:38.456931Z",
     "start_time": "2019-06-04T01:32:38.413393Z"
    }
   },
   "outputs": [
    {
     "name": "stdout",
     "output_type": "stream",
     "text": [
      "[(30813, 30813), (31160, 31160), (118618, 118618)]\n"
     ]
    }
   ],
   "source": [
    "selected_segments_daddy = [\n",
    "    (result['result'][i]['elements'][0]['min_frame'], result['result'][i]['elements'][0]['min_frame'])\n",
    "    for i in widget.selected\n",
    "]\n",
    "print(selected_segments_daddy)"
   ]
  },
  {
   "cell_type": "code",
   "execution_count": 197,
   "metadata": {
    "ExecuteTime": {
     "end_time": "2019-06-05T18:37:58.026895Z",
     "start_time": "2019-06-05T18:37:57.984902Z"
    }
   },
   "outputs": [
    {
     "name": "stdout",
     "output_type": "stream",
     "text": [
      "[(30813, 31124), (31160, 31476), (118618, 118730)]\n"
     ]
    }
   ],
   "source": [
    "convert_segments(selected_segments_daddy)"
   ]
  },
  {
   "cell_type": "code",
   "execution_count": 152,
   "metadata": {
    "ExecuteTime": {
     "end_time": "2019-06-04T01:32:39.450539Z",
     "start_time": "2019-06-04T01:32:39.410246Z"
    }
   },
   "outputs": [],
   "source": [
    "end = time.time()"
   ]
  },
  {
   "cell_type": "code",
   "execution_count": 153,
   "metadata": {
    "ExecuteTime": {
     "end_time": "2019-06-04T01:32:40.190533Z",
     "start_time": "2019-06-04T01:32:40.149843Z"
    }
   },
   "outputs": [
    {
     "name": "stdout",
     "output_type": "stream",
     "text": [
      "Seconds to label:  272.71405601501465\n"
     ]
    }
   ],
   "source": [
    "print(\"Seconds to label: \", end - start)"
   ]
  },
  {
   "cell_type": "markdown",
   "metadata": {},
   "source": [
    "# Batman v superman: no caption file"
   ]
  },
  {
   "cell_type": "code",
   "execution_count": 178,
   "metadata": {
    "ExecuteTime": {
     "end_time": "2019-06-04T01:40:52.149531Z",
     "start_time": "2019-06-04T01:40:52.083864Z"
    }
   },
   "outputs": [],
   "source": [
    "def show_query_no_captions(video_id, antagonist_name):\n",
    "# video_id=299\n",
    "# antagonist_name=\"luthor\"\n",
    "# if True:\n",
    "    videos = Video.objects.filter(id__in=[video_id]).all()\n",
    "    \n",
    "    # Annotate face rows with start and end frames and the video ID\n",
    "    faces_with_character_actor_qs = FaceCharacterActor.objects.annotate(\n",
    "        min_frame=F('face__frame__number'),\n",
    "        max_frame=F('face__frame__number'),\n",
    "        video_id=F('face__frame__video_id'),\n",
    "        character_name=F('characteractor__character__name')\n",
    "    ).filter(video_id__in=[v.id for v in videos])\n",
    "\n",
    "    frames_with_identity = VideoIntervalCollection.from_django_qs(\n",
    "        faces_with_character_actor_qs,\n",
    "        with_payload=in_array(\n",
    "            dict_payload_parser(VideoIntervalCollection.django_accessor, { 'character': 'character_name' }),\n",
    "        )\n",
    "    ).coalesce(payload_merge_op=payload_plus)\n",
    "    \n",
    "    def convert_to_frames(intrvllist_seconds, fps):\n",
    "        return intrvllist_seconds.map(\n",
    "            lambda intrvl: (int(intrvl.start * fps), int(intrvl.end * fps), intrvl.payload)\n",
    "        )\n",
    "    \n",
    "    all_segments = get_all_segments([video.id for video in videos])\n",
    "    captions_interval_collection = VideoIntervalCollection({\n",
    "        video: convert_to_frames(IntervalList(intervals), Video.objects.get(id=video).fps)\n",
    "        for video, intervals in all_segments\n",
    "    }).dilate(10).coalesce(payload_merge_op = payload_plus).dilate(-10).map(\n",
    "        lambda intrvl: (intrvl.start, intrvl.end, ' '.join(intrvl.payload))\n",
    "    )\n",
    "    \n",
    "    frames_with_antagonist = frames_with_identity.filter(\n",
    "        lambda intrvl: any(antagonist_name in char['character'] for char in intrvl.payload)\n",
    "    )\n",
    "    \n",
    "    #print(frames_with_antagonist.get_intervallist(299))\n",
    "    \n",
    "    frames_with_antagonist_and_text = captions_interval_collection.filter_against(\n",
    "        frames_with_antagonist, predicate=overlaps(), working_window=10).coalesce().filter_length(min_length=48)\n",
    "    \n",
    "    result = intrvllists_to_result_with_objects(\n",
    "        frames_with_antagonist.dilate(10).coalesce().dilate(-10).filter_length(\n",
    "            min_length=48\n",
    "        ), lambda a, b: [])\n",
    "    widget = esper_widget(result, jupyter_keybindings=True)\n",
    "    display(widget)\n",
    "    return widget, result"
   ]
  },
  {
   "cell_type": "code",
   "execution_count": 179,
   "metadata": {
    "ExecuteTime": {
     "end_time": "2019-06-04T01:40:53.454757Z",
     "start_time": "2019-06-04T01:40:53.414245Z"
    }
   },
   "outputs": [],
   "source": [
    "start = time.time()"
   ]
  },
  {
   "cell_type": "code",
   "execution_count": 198,
   "metadata": {
    "ExecuteTime": {
     "end_time": "2019-06-05T18:38:22.925752Z",
     "start_time": "2019-06-05T18:38:19.611716Z"
    }
   },
   "outputs": [
    {
     "name": "stderr",
     "output_type": "stream",
     "text": [
      "No document for video id: 299\n"
     ]
    },
    {
     "data": {
      "application/vnd.jupyter.widget-view+json": {
       "model_id": "53dc7af946bf483a96be09b3bbc8b06f",
       "version_major": 2,
       "version_minor": 0
      },
      "text/plain": [
       "VGridWidget(jsglobals={'queries': [['Reaction shots in Apollo 13 (rekall)', 'def reaction_shots_apollo_13():\\n…"
      ]
     },
     "metadata": {},
     "output_type": "display_data"
    }
   ],
   "source": [
    "widget, result = show_query_no_captions(299, 'luthor')"
   ]
  },
  {
   "cell_type": "code",
   "execution_count": 181,
   "metadata": {
    "ExecuteTime": {
     "end_time": "2019-06-04T01:48:29.139486Z",
     "start_time": "2019-06-04T01:48:29.098492Z"
    }
   },
   "outputs": [
    {
     "name": "stdout",
     "output_type": "stream",
     "text": [
      "[(60638, 60638), (73664, 73664), (167760, 167760), (233131, 233131), (248916, 248916)]\n"
     ]
    }
   ],
   "source": [
    "selected_segments_bvs = [\n",
    "    (result['result'][i]['elements'][0]['min_frame'], result['result'][i]['elements'][0]['min_frame'])\n",
    "    for i in widget.selected\n",
    "]\n",
    "print(selected_segments_bvs)"
   ]
  },
  {
   "cell_type": "code",
   "execution_count": 199,
   "metadata": {
    "ExecuteTime": {
     "end_time": "2019-06-05T18:38:22.971234Z",
     "start_time": "2019-06-05T18:38:22.929642Z"
    }
   },
   "outputs": [
    {
     "name": "stdout",
     "output_type": "stream",
     "text": [
      "[(60638, 60785), (73664, 73729), (167760, 167809), (233131, 233316), (248916, 249529)]\n"
     ]
    }
   ],
   "source": [
    "convert_segments(selected_segments_bvs)"
   ]
  },
  {
   "cell_type": "code",
   "execution_count": 182,
   "metadata": {
    "ExecuteTime": {
     "end_time": "2019-06-04T01:48:30.348836Z",
     "start_time": "2019-06-04T01:48:30.307257Z"
    }
   },
   "outputs": [],
   "source": [
    "end = time.time()"
   ]
  },
  {
   "cell_type": "code",
   "execution_count": 183,
   "metadata": {
    "ExecuteTime": {
     "end_time": "2019-06-04T01:48:31.077757Z",
     "start_time": "2019-06-04T01:48:31.032760Z"
    }
   },
   "outputs": [
    {
     "name": "stdout",
     "output_type": "stream",
     "text": [
      "Seconds to label:  456.8938891887665\n"
     ]
    }
   ],
   "source": [
    "print(\"Seconds to label: \", end - start)"
   ]
  }
 ],
 "metadata": {
  "kernelspec": {
   "display_name": "Django Shell-Plus",
   "language": "python",
   "name": "django_extensions"
  },
  "language_info": {
   "codemirror_mode": {
    "name": "ipython",
    "version": 3
   },
   "file_extension": ".py",
   "mimetype": "text/x-python",
   "name": "python",
   "nbconvert_exporter": "python",
   "pygments_lexer": "ipython3",
   "version": "3.5.2"
  },
  "toc": {
   "nav_menu": {},
   "number_sections": true,
   "sideBar": true,
   "skip_h1_title": false,
   "toc_cell": false,
   "toc_position": {},
   "toc_section_display": "block",
   "toc_window_display": false
  }
 },
 "nbformat": 4,
 "nbformat_minor": 2
}
