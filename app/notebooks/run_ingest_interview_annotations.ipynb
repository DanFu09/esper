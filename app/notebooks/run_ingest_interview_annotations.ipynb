{
 "cells": [
  {
   "cell_type": "markdown",
   "metadata": {
    "toc": true
   },
   "source": [
    "<h1>Table of Contents<span class=\"tocSkip\"></span></h1>\n",
    "<div class=\"toc\" style=\"margin-top: 1em;\"><ul class=\"toc-item\"></ul></div>"
   ]
  },
  {
   "cell_type": "markdown",
   "metadata": {},
   "source": [
    "This notebook solely eists to run `app/esper/ingest_interview_annotations.py` and ingest interview annotations into the database."
   ]
  },
  {
   "cell_type": "code",
   "execution_count": null,
   "metadata": {},
   "outputs": [],
   "source": [
    "from esper.ingest_interview_annotations import *\n",
    "import matplotlib.pyplot as plt"
   ]
  },
  {
   "cell_type": "code",
   "execution_count": null,
   "metadata": {},
   "outputs": [],
   "source": [
    "interviews, panels, commercials = parse_tsvs()"
   ]
  },
  {
   "cell_type": "code",
   "execution_count": null,
   "metadata": {},
   "outputs": [],
   "source": [
    "interviewer_set = set()\n",
    "guest_set = set()\n",
    "interview_lengths = []\n",
    "\n",
    "for interview in interviews:\n",
    "    interviewer_set.add(interview.interviewer1)\n",
    "    interviewer_set.add(interview.interviewer2)\n",
    "    guest_set.add(interview.guest1)\n",
    "    guest_set.add(interview.guest2)\n",
    "    interview_lengths.append(interview.end - interview.start)\n",
    "    \n",
    "print(interviewer_set)\n",
    "print(guest_set)\n",
    "\n",
    "print(sorted(interview_lengths))\n",
    "\n",
    "plt.hist(interview_lengths)"
   ]
  },
  {
   "cell_type": "code",
   "execution_count": null,
   "metadata": {},
   "outputs": [],
   "source": [
    "panel_sizes = []\n",
    "panel_lengths = []\n",
    "\n",
    "for panel in panels:\n",
    "    panel_sizes.append(panel.num_panelists)\n",
    "    panel_lengths.append(panel.end - panel.start)\n",
    "\n",
    "print(sorted(panel_lengths))\n",
    "    \n",
    "plt.hist(panel_sizes)"
   ]
  },
  {
   "cell_type": "code",
   "execution_count": null,
   "metadata": {},
   "outputs": [],
   "source": [
    "plt.hist(panel_lengths)"
   ]
  },
  {
   "cell_type": "code",
   "execution_count": null,
   "metadata": {},
   "outputs": [],
   "source": [
    "commercial_lengths = []\n",
    "for commercial in commercials:\n",
    "    commercial_lengths.append(commercial.end-commercial.start)\n",
    "\n",
    "print(sorted(commercial_lengths))\n",
    "\n",
    "plt.hist(commercial_lengths)"
   ]
  },
  {
   "cell_type": "code",
   "execution_count": null,
   "metadata": {},
   "outputs": [],
   "source": [
    "# Run this when you want to commit!\n",
    "\n",
    "clear_all()\n",
    "commit(interviews, panels, commercials)"
   ]
  },
  {
   "cell_type": "code",
   "execution_count": null,
   "metadata": {},
   "outputs": [],
   "source": [
    "# Check to make sure everything made it in\n",
    "\n",
    "from query.models import LabeledInterview, LabeledPanel, LabeledCommercial\n",
    "\n",
    "print(LabeledInterview.objects.count())\n",
    "print(LabeledPanel.objects.count())\n",
    "print(LabeledCommercial.objects.count())"
   ]
  }
 ],
 "metadata": {
  "kernelspec": {
   "display_name": "Django Shell-Plus",
   "language": "python",
   "name": "django_extensions"
  },
  "language_info": {
   "codemirror_mode": {
    "name": "ipython",
    "version": 3
   },
   "file_extension": ".py",
   "mimetype": "text/x-python",
   "name": "python",
   "nbconvert_exporter": "python",
   "pygments_lexer": "ipython3",
   "version": "3.5.2"
  },
  "toc": {
   "base_numbering": 1,
   "nav_menu": {},
   "number_sections": true,
   "sideBar": false,
   "skip_h1_title": false,
   "title_cell": "Table of Contents",
   "title_sidebar": "Contents",
   "toc_cell": true,
   "toc_position": {},
   "toc_section_display": "block",
   "toc_window_display": false
  }
 },
 "nbformat": 4,
 "nbformat_minor": 2
}
