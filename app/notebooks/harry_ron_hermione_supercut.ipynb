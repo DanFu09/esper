{
 "cells": [
  {
   "cell_type": "code",
   "execution_count": null,
   "metadata": {
    "ExecuteTime": {
     "end_time": "2019-01-08T04:44:05.295418Z",
     "start_time": "2019-01-08T04:44:04.347186Z"
    }
   },
   "outputs": [],
   "source": [
    "from esper.supercuts import *\n",
    "from query.models import Shot\n",
    "from rekall.temporal_predicates import overlaps"
   ]
  },
  {
   "cell_type": "code",
   "execution_count": null,
   "metadata": {
    "ExecuteTime": {
     "end_time": "2019-01-08T04:44:12.209786Z",
     "start_time": "2019-01-08T04:44:05.300148Z"
    }
   },
   "outputs": [],
   "source": [
    "# the actual query\n",
    "from query.models import FaceCharacterActor\n",
    "from rekall.video_interval_collection import VideoIntervalCollection\n",
    "from rekall.parsers import in_array, bbox_payload_parser, merge_dict_parsers, dict_payload_parser\n",
    "from rekall.merge_ops import payload_plus\n",
    "from rekall.payload_predicates import payload_satisfies\n",
    "from rekall.spatial_predicates import scene_graph\n",
    "from rekall.bbox_predicates import height_at_least, left_of, same_value, same_height\n",
    "from esper.rekall import intrvllists_to_result_bbox\n",
    "\n",
    "MIN_FACE_HEIGHT = 0.25\n",
    "EPSILON = 0.1\n",
    "NAMES = [ 'ron weasley', 'harry potter', 'hermione granger' ]\n",
    "\n",
    "# Annotate face rows with start and end frames and the video ID\n",
    "faces_with_character_actor_qs = FaceCharacterActor.objects.annotate(\n",
    "    min_frame=F('face__frame__number'),\n",
    "    max_frame=F('face__frame__number'),\n",
    "    video_id=F('face__frame__video_id'),\n",
    "    bbox_x1=F('face__bbox_x1'),\n",
    "    bbox_y1=F('face__bbox_y1'),\n",
    "    bbox_x2=F('face__bbox_x2'),\n",
    "    bbox_y2=F('face__bbox_y2'),\n",
    "    character_name=F('characteractor__character__name')\n",
    ").filter(face__frame__video__name__contains=\"harry potter\")\n",
    "\n",
    "faces_with_identity = VideoIntervalCollection.from_django_qs(\n",
    "    faces_with_character_actor_qs,\n",
    "    with_payload=in_array(merge_dict_parsers([\n",
    "        bbox_payload_parser(VideoIntervalCollection.django_accessor),\n",
    "        dict_payload_parser(VideoIntervalCollection.django_accessor, { 'character': 'character_name' }),\n",
    "    ]))\n",
    ").coalesce(payload_merge_op=payload_plus)\n",
    "\n",
    "harry_ron_hermione_scene_graph = {\n",
    "    'nodes': [\n",
    "        { 'name': 'face1', 'predicates': [\n",
    "            height_at_least(MIN_FACE_HEIGHT),\n",
    "            lambda f: f['character'] == NAMES[0]\n",
    "        ] },\n",
    "        { 'name': 'face2', 'predicates': [\n",
    "            height_at_least(MIN_FACE_HEIGHT),\n",
    "            lambda f: f['character'] == NAMES[1]\n",
    "        ] },\n",
    "        { 'name': 'face3', 'predicates': [\n",
    "            height_at_least(MIN_FACE_HEIGHT),\n",
    "            lambda f: f['character'] == NAMES[2]\n",
    "        ] }\n",
    "    ],\n",
    "    'edges': [\n",
    "        { 'start': 'face1', 'end': 'face2', 'predicates': [\n",
    "            same_value('y1', epsilon=EPSILON),\n",
    "            same_height(epsilon=EPSILON) \n",
    "        ] },\n",
    "        { 'start': 'face2', 'end': 'face3', 'predicates': [\n",
    "            same_value('y1', epsilon=EPSILON),\n",
    "            same_height(epsilon=EPSILON) \n",
    "        ] }\n",
    "    ]\n",
    "}\n",
    "\n",
    "harry_ron_hermione = faces_with_identity.filter(payload_satisfies(scene_graph(\n",
    "    harry_ron_hermione_scene_graph,\n",
    "    exact=True\n",
    ")))"
   ]
  },
  {
   "cell_type": "code",
   "execution_count": null,
   "metadata": {
    "ExecuteTime": {
     "end_time": "2019-01-08T05:12:33.947489Z",
     "start_time": "2019-01-08T05:12:33.657812Z"
    }
   },
   "outputs": [],
   "source": [
    "# Get cinematic shots that intersect with harry_ron_hermione\n",
    "shots = VideoIntervalCollection.from_django_qs(\n",
    "    Shot.objects.filter(\n",
    "        video_id__in=list(harry_ron_hermione.get_allintervals().keys()),\n",
    "        labeler__name=\"shot-hsvhist-face\"\n",
    "    )\n",
    ").filter_against(harry_ron_hermione, predicate=overlaps())\n",
    "\n",
    "# overlap shots with a dilation to coalesce neighboring frames but snap to shot boundaries\n",
    "clips = shots.overlaps(harry_ron_hermione.dilate(24).coalesce().dilate(-12))"
   ]
  },
  {
   "cell_type": "code",
   "execution_count": null,
   "metadata": {
    "ExecuteTime": {
     "end_time": "2019-01-08T05:23:16.433567Z",
     "start_time": "2019-01-08T05:23:16.350239Z"
    }
   },
   "outputs": [],
   "source": [
    "# Format intervals for supercuts pipeline\n",
    "intervals = []\n",
    "\n",
    "# video ids sorted in series order\n",
    "video_ids = [ 381, 374, 380, 377, 379, 378, 375, 376 ]\n",
    "for video_id in video_ids:\n",
    "    fps = Video.objects.get(id=video_id).fps\n",
    "    intervallist = clips.get_intervallist(video_id)\n",
    "    for intrvl in intervallist.get_intervals():\n",
    "        intervals.append((video_id, intrvl.get_start(), intrvl.get_end()))"
   ]
  },
  {
   "cell_type": "code",
   "execution_count": null,
   "metadata": {
    "ExecuteTime": {
     "end_time": "2019-01-08T05:28:53.122912Z",
     "start_time": "2019-01-08T05:28:53.075974Z"
    }
   },
   "outputs": [],
   "source": [
    "# get rid of some bad clips (incorrect identities) at the beginning just for demonstration\n",
    "intervals = intervals[2:]"
   ]
  },
  {
   "cell_type": "code",
   "execution_count": null,
   "metadata": {
    "ExecuteTime": {
     "end_time": "2019-01-08T05:30:35.811502Z",
     "start_time": "2019-01-08T05:28:55.298457Z"
    }
   },
   "outputs": [],
   "source": [
    "stitch_video_temporal(intervals, out_path='/app/result/supercut/harry_ron_hermione.mp4', width=1920, height=800)"
   ]
  }
 ],
 "metadata": {
  "kernelspec": {
   "display_name": "Django Shell-Plus",
   "language": "python",
   "name": "django_extensions"
  },
  "language_info": {
   "codemirror_mode": {
    "name": "ipython",
    "version": 3
   },
   "file_extension": ".py",
   "mimetype": "text/x-python",
   "name": "python",
   "nbconvert_exporter": "python",
   "pygments_lexer": "ipython3",
   "version": "3.5.2"
  },
  "toc": {
   "nav_menu": {},
   "number_sections": true,
   "sideBar": true,
   "skip_h1_title": false,
   "toc_cell": false,
   "toc_position": {},
   "toc_section_display": "block",
   "toc_window_display": false
  }
 },
 "nbformat": 4,
 "nbformat_minor": 2
}
