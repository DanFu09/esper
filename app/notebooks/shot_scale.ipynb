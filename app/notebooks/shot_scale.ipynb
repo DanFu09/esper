{
 "cells": [
  {
   "cell_type": "markdown",
   "metadata": {
    "toc": true
   },
   "source": [
    "<h1>Table of Contents<span class=\"tocSkip\"></span></h1>\n",
    "<div class=\"toc\" style=\"margin-top: 1em;\"><ul class=\"toc-item\"><li><ul class=\"toc-item\"><li><span><a href=\"#ScratchPad-From-This-Point-On\" data-toc-modified-id=\"ScratchPad-From-This-Point-On-0.1\"><span class=\"toc-item-num\">0.1&nbsp;&nbsp;</span>ScratchPad From This Point On</a></span></li></ul></li></ul></div>"
   ]
  },
  {
   "cell_type": "code",
   "execution_count": 65,
   "metadata": {
    "ExecuteTime": {
     "end_time": "2018-12-09T22:05:22.508582Z",
     "start_time": "2018-12-09T22:05:22.482149Z"
    }
   },
   "outputs": [],
   "source": [
    "from esper.prelude import *\n",
    "import esper.stdlib as stdlib\n",
    "from esper.rekall import intrvllists_to_result_with_objects\n",
    "from esper.shot_scale import ShotScale, get_all_frames_with_shot_scale"
   ]
  },
  {
   "cell_type": "code",
   "execution_count": 69,
   "metadata": {
    "ExecuteTime": {
     "end_time": "2018-12-09T22:13:15.076342Z",
     "start_time": "2018-12-09T22:13:07.061810Z"
    },
    "scrolled": false
   },
   "outputs": [
    {
     "data": {
      "application/vnd.jupyter.widget-view+json": {
       "model_id": "6c2aa669998a4b869ec232aab3060490",
       "version_major": 2,
       "version_minor": 0
      },
      "text/plain": [
       "VGridWidget(jsglobals={'bucket': 'esper', 'queries': [['All faces', 'def all_faces():\\n    from query.models i…"
      ]
     },
     "metadata": {},
     "output_type": "display_data"
    }
   ],
   "source": [
    "def to_simple_display(frames):\n",
    "    \"\"\"values need to have frame_number, video_id fields\"\"\"\n",
    "    return stdlib.simple_result([{'video': row.video_id,\n",
    "                                'min_frame': row.frame_number,\n",
    "                                 'objects':[]} for row in frames], 'Video')\n",
    "\n",
    "def pose_payload_to_object(pose, video):\n",
    "    return {\n",
    "        \"id\": video,\n",
    "        'type': 'pose',\n",
    "        'keypoints': pose\n",
    "    }\n",
    "\n",
    "def payload_to_objects(payload, video_id):\n",
    "    result = []\n",
    "    result += [esper.rekall.bbox_to_result_object(x, video_id) for x in payload.get('face', [])]\n",
    "    result += [pose_payload_to_object(x, video_id) for x in payload.get('pose', [])]\n",
    "    return result\n",
    "\n",
    "esper_widget(\n",
    "    intrvllists_to_result_with_objects(\n",
    "        get_all_frames_with_shot_scale(123, ShotScale.XCU).get_allintervals(), payload_to_objects,\n",
    "        limit=1000, stride=1))"
   ]
  },
  {
   "cell_type": "markdown",
   "metadata": {},
   "source": [
    "## ScratchPad From This Point On"
   ]
  },
  {
   "cell_type": "code",
   "execution_count": 238,
   "metadata": {
    "ExecuteTime": {
     "end_time": "2018-12-08T00:50:25.341165Z",
     "start_time": "2018-12-08T00:50:24.214265Z"
    }
   },
   "outputs": [
    {
     "name": "stdout",
     "output_type": "stream",
     "text": [
      "mr mrs smith 123\n",
      "star wars episode i the phantom menace 184\n",
      "star wars episode ii attack of the clones 185\n",
      "star wars episode iii revenge of the sith 186\n",
      "star wars episode iv a new hope 187\n",
      "star wars episode v the empire strikes back 188\n",
      "star wars episode vi return of the jedi 189\n",
      "the godfather 214\n",
      "the godfather part ii 215\n",
      "the godfather part iii 216\n",
      "brooklyn 313\n",
      "harry potter and the chamber of secrets 374\n",
      "harry potter and the deathly hallows part 1 375\n",
      "harry potter and the deathly hallows part 2 376\n",
      "harry potter and the goblet of fire 377\n",
      "harry potter and the halfblood prince 378\n",
      "harry potter and the order of the phoenix 379\n",
      "harry potter and the prisoner of azkaban 380\n",
      "harry potter and the sorcerers stone 381\n",
      "mr mrs smith 445\n",
      "pillow talk 467\n",
      "star wars the force awakens 519\n"
     ]
    }
   ],
   "source": [
    "#list(Video.objects.filter(name=\"the godfather\"))\n",
    "#POSE_ID=5010\n",
    "#print(Pose.objects.filter(pk=POSE_ID)[0].pose_keypoints())\n",
    "#esper_widget(stdlib.qs_to_result(Pose.objects.filter(pk=POSE_ID)))\n",
    "for f in Pose.objects.annotate(video_id=F(\"frame__video__id\")).distinct('video_id'):\n",
    "    print(f.frame.video.name, f.frame.video.id)"
   ]
  },
  {
   "cell_type": "code",
   "execution_count": 10,
   "metadata": {
    "ExecuteTime": {
     "end_time": "2018-12-09T04:23:16.559718Z",
     "start_time": "2018-12-09T04:23:16.492871Z"
    }
   },
   "outputs": [
    {
     "name": "stdout",
     "output_type": "stream",
     "text": [
      "[[ 0.15743743  0.78026277  0.2903161 ]\n",
      " [ 0.18593645  0.80215818  0.19284515]\n",
      " [ 0.16313151  0.88419163  0.09851257]\n",
      " [ 0.0788471   0.80221856  0.2018948 ]\n",
      " [ 0.          0.          0.        ]\n",
      " [ 0.20185547  0.73096406  0.17957135]\n",
      " [ 0.          0.          0.        ]\n",
      " [ 0.          0.          0.        ]\n",
      " [ 0.          0.          0.        ]\n",
      " [ 0.          0.          0.        ]\n",
      " [ 0.          0.          0.        ]\n",
      " [ 0.          0.          0.        ]\n",
      " [ 0.          0.          0.        ]\n",
      " [ 0.          0.          0.        ]\n",
      " [ 0.14152636  0.79114497  0.36683878]\n",
      " [ 0.14943704  0.75013936  0.343256  ]\n",
      " [ 0.14035848  0.82679307  0.10837572]\n",
      " [ 0.15287919  0.72545677  0.1496032 ]]\n",
      "ShotScale.M\n",
      "[[ 0.60619158  0.27137747  0.58040065]\n",
      " [ 0.65288359  0.32067925  0.62806898]\n",
      " [ 0.67680913  0.31524536  0.54608732]\n",
      " [ 0.69502735  0.45474115  0.15907429]\n",
      " [ 0.          0.          0.        ]\n",
      " [ 0.6358009   0.32890078  0.50826317]\n",
      " [ 0.60959941  0.45198584  0.14767033]\n",
      " [ 0.          0.          0.        ]\n",
      " [ 0.67109859  0.58874208  0.23724811]\n",
      " [ 0.66200769  0.75835609  0.09275279]\n",
      " [ 0.65973002  0.87052763  0.0923414 ]\n",
      " [ 0.63466078  0.59424055  0.28003153]\n",
      " [ 0.6266852   0.75562495  0.07050077]\n",
      " [ 0.          0.          0.        ]\n",
      " [ 0.          0.          0.        ]\n",
      " [ 0.60733819  0.25226948  0.68065876]\n",
      " [ 0.          0.          0.        ]\n",
      " [ 0.62326348  0.2495455   0.74491286]]\n",
      "ShotScale.L\n",
      "[ 0  1  2  3  4  5  6  7  8  9 10 11 12 13 14 15 16]\n"
     ]
    }
   ],
   "source": [
    "for p in Pose.objects.filter(frame__video__id=380, frame__number=1296):\n",
    "    print(p.pose_keypoints())\n",
    "    print(pose_keypoints_to_shot_scale(p.pose_keypoints()))\n",
    "print(np.arange(17))"
   ]
  },
  {
   "cell_type": "code",
   "execution_count": null,
   "metadata": {
    "ExecuteTime": {
     "end_time": "2018-12-09T05:58:30.339678Z",
     "start_time": "2018-12-09T05:58:30.297076Z"
    }
   },
   "outputs": [],
   "source": []
  },
  {
   "cell_type": "code",
   "execution_count": null,
   "metadata": {},
   "outputs": [],
   "source": []
  }
 ],
 "metadata": {
  "kernelspec": {
   "display_name": "Django Shell-Plus",
   "language": "python",
   "name": "django_extensions"
  },
  "language_info": {
   "codemirror_mode": {
    "name": "ipython",
    "version": 3
   },
   "file_extension": ".py",
   "mimetype": "text/x-python",
   "name": "python",
   "nbconvert_exporter": "python",
   "pygments_lexer": "ipython3",
   "version": "3.5.2"
  },
  "toc": {
   "base_numbering": 1,
   "nav_menu": {},
   "number_sections": true,
   "sideBar": false,
   "skip_h1_title": false,
   "title_cell": "Table of Contents",
   "title_sidebar": "Contents",
   "toc_cell": true,
   "toc_position": {},
   "toc_section_display": "block",
   "toc_window_display": false
  }
 },
 "nbformat": 4,
 "nbformat_minor": 2
}
