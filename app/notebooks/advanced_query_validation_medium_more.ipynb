{
 "cells": [
  {
   "cell_type": "markdown",
   "metadata": {},
   "source": [
    "# Setup\n",
    "\n",
    "There is a hidden initialization cell below. It should run automatically and print, but if it does not, please run it."
   ]
  },
  {
   "cell_type": "code",
   "execution_count": 1,
   "metadata": {
    "ExecuteTime": {
     "end_time": "2019-07-19T02:44:14.341002Z",
     "start_time": "2019-07-19T02:44:13.387099Z"
    },
    "hide_input": true,
    "init_cell": true
   },
   "outputs": [
    {
     "name": "stdout",
     "output_type": "stream",
     "text": [
      "Loading libraries... Please wait.\n",
      "Done!\n"
     ]
    }
   ],
   "source": [
    "%matplotlib inline\n",
    "\n",
    "print('Loading libraries... Please wait.')\n",
    "\n",
    "from IPython.display import display, clear_output\n",
    "import ipywidgets as widgets\n",
    "import random\n",
    "import sys\n",
    "from sklearn.metrics import confusion_matrix, accuracy_score\n",
    "\n",
    "from esper.prelude import *\n",
    "from esper.stdlib import *\n",
    "import esper.face_embeddings as face_embeddings\n",
    "\n",
    "\n",
    "WIDGET_STYLE_ARGS = {'description_width': 'initial'}\n",
    "\n",
    "def load_samples():\n",
    "    # load up samples\n",
    "    with open(os.path.join(PATH, FILE_NAME), 'rb') as f:\n",
    "        samples = pickle.load(f)\n",
    "    \n",
    "    result = []\n",
    "    for s in samples[START_INDEX:END_INDEX]:\n",
    "        video, min_frame, max_frame = s\n",
    "        query_result = {\n",
    "            'type': 'flat', 'label': '', \n",
    "            'elements': [{\n",
    "                'objects': [], \n",
    "                'min_frame': min_frame,\n",
    "                'max_frame': max_frame,\n",
    "                'video': video\n",
    "            }]\n",
    "        }\n",
    "        result.append(query_result)\n",
    "    result_obj = {'type': '', 'count': 0, 'result': result}\n",
    "    \n",
    "    return result_obj\n",
    "\n",
    "def label_segments(result_obj):\n",
    "    widg = esper_widget(\n",
    "        result_obj, jupyter_keybindings=True,\n",
    "        results_per_page=100\n",
    "    )\n",
    "    \n",
    "    calculate_precision_button = widgets.Button(\n",
    "        layout=widgets.Layout(width='auto'),\n",
    "        style=WIDGET_STYLE_ARGS,\n",
    "        description='Calculate Accuracy',\n",
    "        disabled=False,\n",
    "        button_style=''\n",
    "    )\n",
    "    def on_calculate(b):\n",
    "        precision = len(widg.selected) / (len(widg.selected) + len(widg.ignored))\n",
    "        print(\"Precision is {}\".format(precision))\n",
    "    calculate_precision_button.on_click(on_calculate)\n",
    "    \n",
    "    save_button = widgets.Button(\n",
    "        layout=widgets.Layout(width='auto'),\n",
    "        style=WIDGET_STYLE_ARGS,\n",
    "        description='Save results',\n",
    "        disabled=False,\n",
    "        button_style='danger'\n",
    "    )\n",
    "    def on_save(b):\n",
    "        with open(os.path.join(PATH, SAVE_FILE), 'wb') as f:\n",
    "            pickle.dump({\n",
    "                'positive': widg.selected,\n",
    "                'negative': widg.ignored\n",
    "            }, f)\n",
    "            print('Results saved')\n",
    "    save_button.on_click(on_save)\n",
    "    \n",
    "    display(calculate_precision_button)\n",
    "    display(save_button)\n",
    "    display(widg)\n",
    "    display(calculate_precision_button)\n",
    "    display(save_button)\n",
    "    \n",
    "    return widg\n",
    "\n",
    "def get_precision(widg):\n",
    "    return len(widg.selected) / (len(widg.selected) + len(widg.ignored))\n",
    "\n",
    "print('Done!')"
   ]
  },
  {
   "cell_type": "markdown",
   "metadata": {},
   "source": [
    "# Init Constants"
   ]
  },
  {
   "cell_type": "code",
   "execution_count": 2,
   "metadata": {
    "ExecuteTime": {
     "end_time": "2019-07-19T02:44:55.291284Z",
     "start_time": "2019-07-19T02:44:55.257361Z"
    }
   },
   "outputs": [],
   "source": [
    "BASENAME = 'sampled_MEDIUM'"
   ]
  },
  {
   "cell_type": "code",
   "execution_count": 3,
   "metadata": {
    "ExecuteTime": {
     "end_time": "2019-07-19T02:44:56.200747Z",
     "start_time": "2019-07-19T02:44:56.163140Z"
    }
   },
   "outputs": [],
   "source": [
    "PATH = '/app/data/shot_scales_and_conv_idioms_samples'\n",
    "FILE_NAME = '{}.pkl'.format(BASENAME)\n",
    "START_INDEX = 100\n",
    "END_INDEX = 300\n",
    "SAVE_FILE = '{}_results_{}_{}.pkl'.format(BASENAME, START_INDEX, END_INDEX)"
   ]
  },
  {
   "cell_type": "markdown",
   "metadata": {},
   "source": [
    "# Do labeling\n",
    "\n",
    "Run the two cells below. `=` to expand frames - be sure to look at how long the clip is. `[` for positive examples, `]` for negative examples.\n",
    "\n",
    "Shot scale definitions:\n",
    "* Extreme long: the entire body of the character is visible and does not take up the whole frame.\n",
    "* Long: the entire body is visible but fills the frame.\n",
    "* Medium long:, the body up to the knee is visible.\n",
    "* Medium: the body up to the waist is visible.\n",
    "* Medium close ups, the body up to the chest is visible.\n",
    "* In close ups, the head and shoulders are visible.\n",
    "* Extreme close ups, only the face is visible (and not the neck).\n",
    "\n",
    "Idiom definitions:\n",
    "* Intensification: Series of shots in a conversation where the shot scale gets monotonically closer on at least one participant.\n",
    "* Start wide: Conversation where the first shot is an establishing shot showing all the participants in the conversation."
   ]
  },
  {
   "cell_type": "code",
   "execution_count": 4,
   "metadata": {
    "ExecuteTime": {
     "end_time": "2019-07-19T02:44:57.744112Z",
     "start_time": "2019-07-19T02:44:57.706090Z"
    }
   },
   "outputs": [],
   "source": [
    "esper_result = load_samples()"
   ]
  },
  {
   "cell_type": "code",
   "execution_count": 5,
   "metadata": {
    "ExecuteTime": {
     "end_time": "2019-07-19T02:45:02.071587Z",
     "start_time": "2019-07-19T02:44:58.435369Z"
    }
   },
   "outputs": [
    {
     "data": {
      "application/vnd.jupyter.widget-view+json": {
       "model_id": "815de6c49cd84864a1344de825398986",
       "version_major": 2,
       "version_minor": 0
      },
      "text/plain": [
       "Button(description='Calculate Accuracy', layout=Layout(width='auto'), style=ButtonStyle())"
      ]
     },
     "metadata": {},
     "output_type": "display_data"
    },
    {
     "data": {
      "application/vnd.jupyter.widget-view+json": {
       "model_id": "8c6c7f72b95d4dd795ab8467a76f2c95",
       "version_major": 2,
       "version_minor": 0
      },
      "text/plain": [
       "Button(button_style='danger', description='Save results', layout=Layout(width='auto'), style=ButtonStyle())"
      ]
     },
     "metadata": {},
     "output_type": "display_data"
    },
    {
     "data": {
      "application/vnd.jupyter.widget-view+json": {
       "model_id": "631c9e5cce0349638e2f8e78208cb5c0",
       "version_major": 2,
       "version_minor": 0
      },
      "text/plain": [
       "VGridWidget(jsglobals={'schema': [['Identity', ['id', 'name']], ['Genre', ['id', 'name']], ['Director', ['id',…"
      ]
     },
     "metadata": {},
     "output_type": "display_data"
    },
    {
     "data": {
      "application/vnd.jupyter.widget-view+json": {
       "model_id": "815de6c49cd84864a1344de825398986",
       "version_major": 2,
       "version_minor": 0
      },
      "text/plain": [
       "Button(description='Calculate Accuracy', layout=Layout(width='auto'), style=ButtonStyle())"
      ]
     },
     "metadata": {},
     "output_type": "display_data"
    },
    {
     "data": {
      "application/vnd.jupyter.widget-view+json": {
       "model_id": "8c6c7f72b95d4dd795ab8467a76f2c95",
       "version_major": 2,
       "version_minor": 0
      },
      "text/plain": [
       "Button(button_style='danger', description='Save results', layout=Layout(width='auto'), style=ButtonStyle())"
      ]
     },
     "metadata": {},
     "output_type": "display_data"
    },
    {
     "name": "stdout",
     "output_type": "stream",
     "text": [
      "Precision is 0.96\n",
      "Results saved\n"
     ]
    }
   ],
   "source": [
    "widg = label_segments(esper_result)"
   ]
  },
  {
   "cell_type": "markdown",
   "metadata": {},
   "source": [
    "# Get Precision\n",
    "Run the cell below to print the precision"
   ]
  },
  {
   "cell_type": "code",
   "execution_count": 6,
   "metadata": {
    "ExecuteTime": {
     "end_time": "2019-07-19T02:49:09.008274Z",
     "start_time": "2019-07-19T02:49:08.969802Z"
    }
   },
   "outputs": [
    {
     "data": {
      "text/plain": [
       "0.96"
      ]
     },
     "execution_count": 6,
     "metadata": {},
     "output_type": "execute_result"
    }
   ],
   "source": [
    "get_precision(widg)"
   ]
  },
  {
   "cell_type": "code",
   "execution_count": null,
   "metadata": {},
   "outputs": [],
   "source": []
  }
 ],
 "metadata": {
  "celltoolbar": "Initialization Cell",
  "kernelspec": {
   "display_name": "Django Shell-Plus",
   "language": "python",
   "name": "django_extensions"
  },
  "language_info": {
   "codemirror_mode": {
    "name": "ipython",
    "version": 3
   },
   "file_extension": ".py",
   "mimetype": "text/x-python",
   "name": "python",
   "nbconvert_exporter": "python",
   "pygments_lexer": "ipython3",
   "version": "3.5.2"
  },
  "toc": {
   "nav_menu": {},
   "number_sections": true,
   "sideBar": true,
   "skip_h1_title": false,
   "toc_cell": false,
   "toc_position": {},
   "toc_section_display": "block",
   "toc_window_display": false
  }
 },
 "nbformat": 4,
 "nbformat_minor": 2
}
