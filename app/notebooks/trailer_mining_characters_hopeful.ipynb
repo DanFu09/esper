{
 "cells": [
  {
   "cell_type": "code",
   "execution_count": 2,
   "metadata": {
    "ExecuteTime": {
     "end_time": "2019-06-04T23:20:44.408980Z",
     "start_time": "2019-06-04T23:20:43.580666Z"
    }
   },
   "outputs": [],
   "source": [
    "from query.models import Face, Shot\n",
    "from rekall.video_interval_collection import VideoIntervalCollection\n",
    "from rekall.parsers import named_payload, in_array, bbox_payload_parser\n",
    "from rekall.parsers import merge_dict_parsers, dict_payload_parser\n",
    "from rekall.merge_ops import payload_plus, payload_first, merge_named_payload\n",
    "from rekall.payload_predicates import payload_satisfies, on_name\n",
    "from rekall.spatial_predicates import scene_graph\n",
    "from rekall.logical_predicates import and_pred\n",
    "from rekall.temporal_predicates import overlaps\n",
    "from rekall.bbox_predicates import height_at_least, left_of, same_value\n",
    "from esper.rekall import intrvllists_to_result_with_objects, bbox_to_result_object"
   ]
  },
  {
   "cell_type": "code",
   "execution_count": 3,
   "metadata": {
    "ExecuteTime": {
     "end_time": "2019-06-04T23:20:45.031195Z",
     "start_time": "2019-06-04T23:20:44.989290Z"
    }
   },
   "outputs": [],
   "source": [
    "from esper.prelude import esper_widget\n",
    "import time\n",
    "from IPython.display import display"
   ]
  },
  {
   "cell_type": "markdown",
   "metadata": {},
   "source": [
    "# Query"
   ]
  },
  {
   "cell_type": "code",
   "execution_count": 11,
   "metadata": {
    "ExecuteTime": {
     "end_time": "2019-06-04T23:24:45.993911Z",
     "start_time": "2019-06-04T23:24:45.940028Z"
    }
   },
   "outputs": [],
   "source": [
    "def query(video_id, num_people, MIN_FACE_HEIGHT, MIN_BRIGHTNESS, stride):\n",
    "    # We're going to look for frames that have main characters looking hopeful.\n",
    "    # This is the same as hero shots, except there have to be multiple people\n",
    "    # We're going to look for frames where there's exactly one face of a\n",
    "    #   certain height, and the frame has certain minimum brightness,\n",
    "    #   sharpness, and contrast properties.\n",
    "#     MIN_FACE_HEIGHT = 0.2\n",
    "#     MIN_BRIGHTNESS = 50\n",
    "\n",
    "    # Annotate face rows with start and end frames, video ID, and frame image\n",
    "    #   information\n",
    "    faces_qs = Face.objects.annotate(\n",
    "        min_frame=F('frame__number'),\n",
    "        max_frame=F('frame__number'),\n",
    "        video_id=F('frame__video_id'),\n",
    "        brightness=F('frame__brightness')\n",
    "    ).filter(\n",
    "        frame__video_id=video_id,\n",
    "        brightness__isnull=False\n",
    "    )\n",
    "\n",
    "    # Load bounding boxes and faces into rekall, and put all faces in one frame\n",
    "    faces = VideoIntervalCollection.from_django_qs(\n",
    "        faces_qs,\n",
    "        with_payload=merge_dict_parsers([named_payload('faces',\n",
    "            in_array(bbox_payload_parser(VideoIntervalCollection.django_accessor))),\n",
    "            dict_payload_parser(VideoIntervalCollection.django_accessor, {\n",
    "                'brightness': 'brightness'\n",
    "            })])\n",
    "    ).coalesce(merge_named_payload({\n",
    "        'faces': payload_plus,\n",
    "        'brightness': payload_first\n",
    "    }))\n",
    "\n",
    "    # Hero shots are shots where there is exactly one face of at least a\n",
    "    #   certain height, and brightness, contrast, and sharpness are at least\n",
    "    #   some amount\n",
    "    hero_shot_frames = faces.filter(payload_satisfies(and_pred(\n",
    "        and_pred(\n",
    "            on_name('faces', scene_graph({\n",
    "                'nodes': [{ 'name': 'face', 'predicates': [\n",
    "                    height_at_least(MIN_FACE_HEIGHT) ] }],\n",
    "                'edges': []\n",
    "            }, exact=False)),\n",
    "            on_name('faces', lambda p: len(p) >= num_people)\n",
    "        ),\n",
    "        lambda payload: (payload['brightness'] > MIN_BRIGHTNESS)\n",
    "    )))\n",
    "    \n",
    "    shots_qs = Shot.objects.filter(\n",
    "        video_id=video_id,\n",
    "        cinematic=True)\n",
    "    shots = VideoIntervalCollection.from_django_qs(shots_qs)\n",
    "    \n",
    "    hero_shots = shots.filter_against(hero_shot_frames, predicate=overlaps())\n",
    "    \n",
    "    return intrvllists_to_result_with_objects(\n",
    "        hero_shots.get_allintervals(), \n",
    "        lambda a, b: [],\n",
    "#         lambda payload, video_id: [\n",
    "#             bbox_to_result_object(bbox, video_id) for bbox in payload['faces']],\n",
    "        stride=stride)"
   ]
  },
  {
   "cell_type": "code",
   "execution_count": 12,
   "metadata": {
    "ExecuteTime": {
     "end_time": "2019-06-04T23:24:47.108078Z",
     "start_time": "2019-06-04T23:24:47.069005Z"
    }
   },
   "outputs": [],
   "source": [
    "def show_query(video_id, num_people, min_face_height, min_brightness, stride):\n",
    "    result = query(video_id, num_people, min_face_height, min_brightness, stride)\n",
    "    \n",
    "    widget = esper_widget(result, jupyter_keybindings=True, crop_bboxes=False)\n",
    "    display(widget)\n",
    "    \n",
    "    return widget, result"
   ]
  },
  {
   "cell_type": "code",
   "execution_count": 49,
   "metadata": {
    "ExecuteTime": {
     "end_time": "2019-06-05T17:12:33.991360Z",
     "start_time": "2019-06-05T17:12:33.944346Z"
    }
   },
   "outputs": [],
   "source": [
    "def convert_segments(segments):\n",
    "    output_segments = []\n",
    "    for seg in segments:\n",
    "        for res in result['result']:\n",
    "            if res['elements'][0]['min_frame'] == seg[0]:\n",
    "                output_segments.append((res['elements'][0]['min_frame'], res['elements'][0]['max_frame']))\n",
    "    print(output_segments)"
   ]
  },
  {
   "cell_type": "markdown",
   "metadata": {},
   "source": [
    "# Braveheart"
   ]
  },
  {
   "cell_type": "code",
   "execution_count": 52,
   "metadata": {
    "ExecuteTime": {
     "end_time": "2019-06-05T18:39:14.300957Z",
     "start_time": "2019-06-05T18:39:08.795462Z"
    }
   },
   "outputs": [
    {
     "data": {
      "application/vnd.jupyter.widget-view+json": {
       "model_id": "fcdb6cbf82be470b91373018c81be679",
       "version_major": 2,
       "version_minor": 0
      },
      "text/plain": [
       "VGridWidget(jsglobals={'bucket': 'esper', 'queries': [['Reaction shots in Apollo 13 (rekall)', 'def reaction_s…"
      ]
     },
     "metadata": {},
     "output_type": "display_data"
    }
   ],
   "source": [
    "widget, result = show_query(28, 3, 0.2, 75, 5)"
   ]
  },
  {
   "cell_type": "code",
   "execution_count": 15,
   "metadata": {
    "ExecuteTime": {
     "end_time": "2019-06-04T23:25:42.973353Z",
     "start_time": "2019-06-04T23:25:42.929083Z"
    }
   },
   "outputs": [
    {
     "name": "stdout",
     "output_type": "stream",
     "text": [
      "[(34768, 34768), (227434, 227434), (128001, 128001)]\n"
     ]
    }
   ],
   "source": [
    "selected_segments_braveheart = [\n",
    "    (result['result'][i]['elements'][0]['min_frame'], result['result'][i]['elements'][0]['min_frame'])\n",
    "    for i in widget.selected\n",
    "]\n",
    "print(selected_segments_braveheart)"
   ]
  },
  {
   "cell_type": "code",
   "execution_count": 53,
   "metadata": {
    "ExecuteTime": {
     "end_time": "2019-06-05T18:39:19.085596Z",
     "start_time": "2019-06-05T18:39:19.046784Z"
    }
   },
   "outputs": [
    {
     "name": "stdout",
     "output_type": "stream",
     "text": [
      "[(34768, 34864), (227434, 227503), (128001, 128023)]\n"
     ]
    }
   ],
   "source": [
    "convert_segments(selected_segments_braveheart)"
   ]
  },
  {
   "cell_type": "markdown",
   "metadata": {},
   "source": [
    "# Revenge of the Sith"
   ]
  },
  {
   "cell_type": "code",
   "execution_count": 16,
   "metadata": {
    "ExecuteTime": {
     "end_time": "2019-06-04T23:27:31.507089Z",
     "start_time": "2019-06-04T23:27:31.468753Z"
    }
   },
   "outputs": [],
   "source": [
    "start = time.time()"
   ]
  },
  {
   "cell_type": "code",
   "execution_count": 50,
   "metadata": {
    "ExecuteTime": {
     "end_time": "2019-06-05T17:13:50.829763Z",
     "start_time": "2019-06-05T17:13:47.270968Z"
    }
   },
   "outputs": [
    {
     "data": {
      "application/vnd.jupyter.widget-view+json": {
       "model_id": "716d0991b4574ed098844edff67a1a0a",
       "version_major": 2,
       "version_minor": 0
      },
      "text/plain": [
       "VGridWidget(jsglobals={'bucket': 'esper', 'queries': [['Reaction shots in Apollo 13 (rekall)', 'def reaction_s…"
      ]
     },
     "metadata": {},
     "output_type": "display_data"
    }
   ],
   "source": [
    "widget, result = show_query(186, 3, 0.1, 25, 1)"
   ]
  },
  {
   "cell_type": "code",
   "execution_count": 20,
   "metadata": {
    "ExecuteTime": {
     "end_time": "2019-06-04T23:28:54.717100Z",
     "start_time": "2019-06-04T23:28:54.674092Z"
    }
   },
   "outputs": [
    {
     "name": "stdout",
     "output_type": "stream",
     "text": [
      "[(35910, 35910), (58774, 58774), (143737, 143737), (185812, 185812)]\n"
     ]
    }
   ],
   "source": [
    "selected_segments_rots = [\n",
    "    (result['result'][i]['elements'][0]['min_frame'], result['result'][i]['elements'][0]['min_frame'])\n",
    "    for i in widget.selected\n",
    "]\n",
    "print(selected_segments_rots)"
   ]
  },
  {
   "cell_type": "code",
   "execution_count": 51,
   "metadata": {
    "ExecuteTime": {
     "end_time": "2019-06-05T17:13:56.714015Z",
     "start_time": "2019-06-05T17:13:56.639671Z"
    }
   },
   "outputs": [
    {
     "name": "stdout",
     "output_type": "stream",
     "text": [
      "[(35910, 36096), (58774, 58912), (143737, 143904), (185812, 185915)]\n"
     ]
    }
   ],
   "source": [
    "convert_segments(selected_segments_rots)"
   ]
  },
  {
   "cell_type": "code",
   "execution_count": 21,
   "metadata": {
    "ExecuteTime": {
     "end_time": "2019-06-04T23:29:02.069450Z",
     "start_time": "2019-06-04T23:29:02.032712Z"
    }
   },
   "outputs": [],
   "source": [
    "end = time.time()"
   ]
  },
  {
   "cell_type": "code",
   "execution_count": 22,
   "metadata": {
    "ExecuteTime": {
     "end_time": "2019-06-04T23:29:03.271804Z",
     "start_time": "2019-06-04T23:29:03.234796Z"
    }
   },
   "outputs": [
    {
     "name": "stdout",
     "output_type": "stream",
     "text": [
      "Seconds to label:  90.56312465667725\n"
     ]
    }
   ],
   "source": [
    "print(\"Seconds to label: \", end - start)"
   ]
  },
  {
   "cell_type": "markdown",
   "metadata": {},
   "source": [
    "# Steve Jobs"
   ]
  },
  {
   "cell_type": "code",
   "execution_count": 23,
   "metadata": {
    "ExecuteTime": {
     "end_time": "2019-06-04T23:29:15.851629Z",
     "start_time": "2019-06-04T23:29:15.814656Z"
    }
   },
   "outputs": [],
   "source": [
    "start = time.time()"
   ]
  },
  {
   "cell_type": "code",
   "execution_count": 54,
   "metadata": {
    "ExecuteTime": {
     "end_time": "2019-06-05T18:42:51.398044Z",
     "start_time": "2019-06-05T18:42:47.343909Z"
    }
   },
   "outputs": [
    {
     "data": {
      "application/vnd.jupyter.widget-view+json": {
       "model_id": "9c041c490dc24ca89d6335fc740a3897",
       "version_major": 2,
       "version_minor": 0
      },
      "text/plain": [
       "VGridWidget(jsglobals={'bucket': 'esper', 'queries': [['Reaction shots in Apollo 13 (rekall)', 'def reaction_s…"
      ]
     },
     "metadata": {},
     "output_type": "display_data"
    }
   ],
   "source": [
    "widget, result = show_query(520, 3, 0.2, 50, 1)"
   ]
  },
  {
   "cell_type": "code",
   "execution_count": 25,
   "metadata": {
    "ExecuteTime": {
     "end_time": "2019-06-04T23:30:35.024253Z",
     "start_time": "2019-06-04T23:30:34.985761Z"
    }
   },
   "outputs": [
    {
     "name": "stdout",
     "output_type": "stream",
     "text": [
      "[(13297, 13297), (43945, 43945), (159222, 159222)]\n"
     ]
    }
   ],
   "source": [
    "selected_segments_jobs = [\n",
    "    (result['result'][i]['elements'][0]['min_frame'], result['result'][i]['elements'][0]['min_frame'])\n",
    "    for i in widget.selected\n",
    "]\n",
    "print(selected_segments_jobs)"
   ]
  },
  {
   "cell_type": "code",
   "execution_count": 55,
   "metadata": {
    "ExecuteTime": {
     "end_time": "2019-06-05T18:42:56.391581Z",
     "start_time": "2019-06-05T18:42:56.352494Z"
    }
   },
   "outputs": [
    {
     "name": "stdout",
     "output_type": "stream",
     "text": [
      "[(13297, 13346), (43945, 43964), (159222, 159277)]\n"
     ]
    }
   ],
   "source": [
    "convert_segments(selected_segments_jobs)"
   ]
  },
  {
   "cell_type": "code",
   "execution_count": 26,
   "metadata": {
    "ExecuteTime": {
     "end_time": "2019-06-04T23:30:43.967715Z",
     "start_time": "2019-06-04T23:30:43.929704Z"
    }
   },
   "outputs": [],
   "source": [
    "end = time.time()"
   ]
  },
  {
   "cell_type": "code",
   "execution_count": 27,
   "metadata": {
    "ExecuteTime": {
     "end_time": "2019-06-04T23:30:44.769581Z",
     "start_time": "2019-06-04T23:30:44.732293Z"
    }
   },
   "outputs": [
    {
     "name": "stdout",
     "output_type": "stream",
     "text": [
      "Seconds to label:  88.11607384681702\n"
     ]
    }
   ],
   "source": [
    "print(\"Seconds to label: \", end - start)"
   ]
  },
  {
   "cell_type": "markdown",
   "metadata": {},
   "source": [
    "# Guardians of the Galaxy"
   ]
  },
  {
   "cell_type": "code",
   "execution_count": 28,
   "metadata": {
    "ExecuteTime": {
     "end_time": "2019-06-04T23:30:59.319953Z",
     "start_time": "2019-06-04T23:30:59.273826Z"
    }
   },
   "outputs": [],
   "source": [
    "start = time.time()"
   ]
  },
  {
   "cell_type": "code",
   "execution_count": 56,
   "metadata": {
    "ExecuteTime": {
     "end_time": "2019-06-05T18:43:11.671803Z",
     "start_time": "2019-06-05T18:43:08.181001Z"
    }
   },
   "outputs": [
    {
     "data": {
      "application/vnd.jupyter.widget-view+json": {
       "model_id": "23db54dc3a52413ba78fb6476f78f091",
       "version_major": 2,
       "version_minor": 0
      },
      "text/plain": [
       "VGridWidget(jsglobals={'bucket': 'esper', 'queries': [['Reaction shots in Apollo 13 (rekall)', 'def reaction_s…"
      ]
     },
     "metadata": {},
     "output_type": "display_data"
    }
   ],
   "source": [
    "widget, result = show_query(74, 3, 0.1, 25, 1)"
   ]
  },
  {
   "cell_type": "code",
   "execution_count": 32,
   "metadata": {
    "ExecuteTime": {
     "end_time": "2019-06-04T23:33:04.857669Z",
     "start_time": "2019-06-04T23:33:04.818210Z"
    }
   },
   "outputs": [
    {
     "name": "stdout",
     "output_type": "stream",
     "text": [
      "[(37823, 37823), (23901, 23901), (156920, 156920), (157403, 157403)]\n"
     ]
    }
   ],
   "source": [
    "selected_segments_gotg = [\n",
    "    (result['result'][i]['elements'][0]['min_frame'], result['result'][i]['elements'][0]['min_frame'])\n",
    "    for i in widget.selected\n",
    "]\n",
    "print(selected_segments_gotg)"
   ]
  },
  {
   "cell_type": "code",
   "execution_count": 57,
   "metadata": {
    "ExecuteTime": {
     "end_time": "2019-06-05T18:43:21.509661Z",
     "start_time": "2019-06-05T18:43:21.471283Z"
    }
   },
   "outputs": [
    {
     "name": "stdout",
     "output_type": "stream",
     "text": [
      "[(37823, 38000), (23901, 23999), (156920, 156980), (157403, 157487)]\n"
     ]
    }
   ],
   "source": [
    "convert_segments(selected_segments_gotg)"
   ]
  },
  {
   "cell_type": "code",
   "execution_count": 33,
   "metadata": {
    "ExecuteTime": {
     "end_time": "2019-06-04T23:33:05.905361Z",
     "start_time": "2019-06-04T23:33:05.866757Z"
    }
   },
   "outputs": [],
   "source": [
    "end = time.time()"
   ]
  },
  {
   "cell_type": "code",
   "execution_count": 34,
   "metadata": {
    "ExecuteTime": {
     "end_time": "2019-06-04T23:33:06.656771Z",
     "start_time": "2019-06-04T23:33:06.617142Z"
    }
   },
   "outputs": [
    {
     "name": "stdout",
     "output_type": "stream",
     "text": [
      "Seconds to label:  126.58501887321472\n"
     ]
    }
   ],
   "source": [
    "print(\"Seconds to label: \", end - start)"
   ]
  },
  {
   "cell_type": "markdown",
   "metadata": {},
   "source": [
    "# Daddy's Home"
   ]
  },
  {
   "cell_type": "code",
   "execution_count": 35,
   "metadata": {
    "ExecuteTime": {
     "end_time": "2019-06-04T23:33:32.762177Z",
     "start_time": "2019-06-04T23:33:32.724378Z"
    }
   },
   "outputs": [],
   "source": [
    "start = time.time()"
   ]
  },
  {
   "cell_type": "code",
   "execution_count": 58,
   "metadata": {
    "ExecuteTime": {
     "end_time": "2019-06-05T18:43:40.165036Z",
     "start_time": "2019-06-05T18:43:36.200871Z"
    }
   },
   "outputs": [
    {
     "data": {
      "application/vnd.jupyter.widget-view+json": {
       "model_id": "ec136434710a468087bb1b70f2839b22",
       "version_major": 2,
       "version_minor": 0
      },
      "text/plain": [
       "VGridWidget(jsglobals={'bucket': 'esper', 'queries': [['Reaction shots in Apollo 13 (rekall)', 'def reaction_s…"
      ]
     },
     "metadata": {},
     "output_type": "display_data"
    }
   ],
   "source": [
    "widget, result = show_query(334, 3, 0.3, 60, 1)"
   ]
  },
  {
   "cell_type": "code",
   "execution_count": 40,
   "metadata": {
    "ExecuteTime": {
     "end_time": "2019-06-04T23:34:29.746907Z",
     "start_time": "2019-06-04T23:34:29.706952Z"
    }
   },
   "outputs": [
    {
     "name": "stdout",
     "output_type": "stream",
     "text": [
      "[(33339, 33339), (34751, 34751), (96419, 96419)]\n"
     ]
    }
   ],
   "source": [
    "selected_segments_daddy = [\n",
    "    (result['result'][i]['elements'][0]['min_frame'], result['result'][i]['elements'][0]['min_frame'])\n",
    "    for i in widget.selected\n",
    "]\n",
    "print(selected_segments_daddy)"
   ]
  },
  {
   "cell_type": "code",
   "execution_count": 59,
   "metadata": {
    "ExecuteTime": {
     "end_time": "2019-06-05T18:43:46.430947Z",
     "start_time": "2019-06-05T18:43:46.391665Z"
    }
   },
   "outputs": [
    {
     "name": "stdout",
     "output_type": "stream",
     "text": [
      "[(33339, 33419), (34751, 34847), (96419, 96442)]\n"
     ]
    }
   ],
   "source": [
    "convert_segments(selected_segments_daddy)"
   ]
  },
  {
   "cell_type": "code",
   "execution_count": 41,
   "metadata": {
    "ExecuteTime": {
     "end_time": "2019-06-04T23:34:31.378562Z",
     "start_time": "2019-06-04T23:34:31.341550Z"
    }
   },
   "outputs": [],
   "source": [
    "end = time.time()"
   ]
  },
  {
   "cell_type": "code",
   "execution_count": 42,
   "metadata": {
    "ExecuteTime": {
     "end_time": "2019-06-04T23:34:32.283904Z",
     "start_time": "2019-06-04T23:34:32.245457Z"
    }
   },
   "outputs": [
    {
     "name": "stdout",
     "output_type": "stream",
     "text": [
      "Seconds to label:  58.61626982688904\n"
     ]
    }
   ],
   "source": [
    "print(\"Seconds to label: \", end - start)"
   ]
  },
  {
   "cell_type": "markdown",
   "metadata": {},
   "source": [
    "# Batman v Superman"
   ]
  },
  {
   "cell_type": "code",
   "execution_count": 43,
   "metadata": {
    "ExecuteTime": {
     "end_time": "2019-06-04T23:34:53.653933Z",
     "start_time": "2019-06-04T23:34:53.615613Z"
    }
   },
   "outputs": [],
   "source": [
    "start = time.time()"
   ]
  },
  {
   "cell_type": "code",
   "execution_count": 60,
   "metadata": {
    "ExecuteTime": {
     "end_time": "2019-06-05T18:44:03.225320Z",
     "start_time": "2019-06-05T18:43:59.016578Z"
    }
   },
   "outputs": [
    {
     "data": {
      "application/vnd.jupyter.widget-view+json": {
       "model_id": "95e1bc1d0d844c84b7a1aa46c23a3513",
       "version_major": 2,
       "version_minor": 0
      },
      "text/plain": [
       "VGridWidget(jsglobals={'bucket': 'esper', 'queries': [['Reaction shots in Apollo 13 (rekall)', 'def reaction_s…"
      ]
     },
     "metadata": {},
     "output_type": "display_data"
    }
   ],
   "source": [
    "widget, result = show_query(299, 3, 0.1, 20, 1)"
   ]
  },
  {
   "cell_type": "code",
   "execution_count": 46,
   "metadata": {
    "ExecuteTime": {
     "end_time": "2019-06-04T23:36:37.656625Z",
     "start_time": "2019-06-04T23:36:37.617587Z"
    }
   },
   "outputs": [
    {
     "name": "stdout",
     "output_type": "stream",
     "text": [
      "[(128261, 128261), (132495, 132495), (144193, 144193), (127155, 127155)]\n"
     ]
    }
   ],
   "source": [
    "selected_segments_bvs = [\n",
    "    (result['result'][i]['elements'][0]['min_frame'], result['result'][i]['elements'][0]['min_frame'])\n",
    "    for i in widget.selected\n",
    "]\n",
    "print(selected_segments_bvs)"
   ]
  },
  {
   "cell_type": "code",
   "execution_count": 61,
   "metadata": {
    "ExecuteTime": {
     "end_time": "2019-06-05T18:44:13.752662Z",
     "start_time": "2019-06-05T18:44:13.712144Z"
    }
   },
   "outputs": [
    {
     "name": "stdout",
     "output_type": "stream",
     "text": [
      "[(128261, 128382), (132495, 132680), (144193, 144335), (127155, 127225)]\n"
     ]
    }
   ],
   "source": [
    "convert_segments(selected_segments_bvs)"
   ]
  },
  {
   "cell_type": "code",
   "execution_count": 47,
   "metadata": {
    "ExecuteTime": {
     "end_time": "2019-06-04T23:36:38.857340Z",
     "start_time": "2019-06-04T23:36:38.820099Z"
    }
   },
   "outputs": [],
   "source": [
    "end = time.time()"
   ]
  },
  {
   "cell_type": "code",
   "execution_count": 48,
   "metadata": {
    "ExecuteTime": {
     "end_time": "2019-06-04T23:36:39.482503Z",
     "start_time": "2019-06-04T23:36:39.444656Z"
    }
   },
   "outputs": [
    {
     "name": "stdout",
     "output_type": "stream",
     "text": [
      "Seconds to label:  105.20355749130249\n"
     ]
    }
   ],
   "source": [
    "print(\"Seconds to label: \", end - start)"
   ]
  }
 ],
 "metadata": {
  "kernelspec": {
   "display_name": "Django Shell-Plus",
   "language": "python",
   "name": "django_extensions"
  },
  "language_info": {
   "codemirror_mode": {
    "name": "ipython",
    "version": 3
   },
   "file_extension": ".py",
   "mimetype": "text/x-python",
   "name": "python",
   "nbconvert_exporter": "python",
   "pygments_lexer": "ipython3",
   "version": "3.5.2"
  },
  "toc": {
   "nav_menu": {},
   "number_sections": true,
   "sideBar": true,
   "skip_h1_title": false,
   "toc_cell": false,
   "toc_position": {},
   "toc_section_display": "block",
   "toc_window_display": false
  }
 },
 "nbformat": 4,
 "nbformat_minor": 2
}
