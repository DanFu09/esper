{
 "cells": [
  {
   "cell_type": "markdown",
   "metadata": {},
   "source": [
    "# Supercut Template\n",
    "A notebook to copy to make supercuts from. Subject to change based on experience."
   ]
  },
  {
   "cell_type": "code",
   "execution_count": 1,
   "metadata": {
    "ExecuteTime": {
     "end_time": "2019-01-13T08:18:04.049134Z",
     "start_time": "2019-01-13T08:18:03.020296Z"
    }
   },
   "outputs": [
    {
     "ename": "ImportError",
     "evalue": "No module named 'pydub'",
     "output_type": "error",
     "traceback": [
      "\u001b[0;31m---------------------------------------------------------------------------\u001b[0m",
      "\u001b[0;31mImportError\u001b[0m                               Traceback (most recent call last)",
      "\u001b[0;32m<ipython-input-1-319ef791baf1>\u001b[0m in \u001b[0;36m<module>\u001b[0;34m()\u001b[0m\n\u001b[0;32m----> 1\u001b[0;31m \u001b[0;32mfrom\u001b[0m \u001b[0mesper\u001b[0m\u001b[0;34m.\u001b[0m\u001b[0msupercuts\u001b[0m \u001b[0;32mimport\u001b[0m \u001b[0;34m*\u001b[0m\u001b[0;34m\u001b[0m\u001b[0m\n\u001b[0m",
      "\u001b[0;32m/app/esper/supercuts.py\u001b[0m in \u001b[0;36m<module>\u001b[0;34m()\u001b[0m\n\u001b[1;32m     29\u001b[0m \u001b[0;32mfrom\u001b[0m \u001b[0mtqdm\u001b[0m \u001b[0;32mimport\u001b[0m \u001b[0mtqdm\u001b[0m\u001b[0;34m\u001b[0m\u001b[0m\n\u001b[1;32m     30\u001b[0m \u001b[0;32mimport\u001b[0m \u001b[0mmultiprocessing\u001b[0m\u001b[0;34m\u001b[0m\u001b[0m\n\u001b[0;32m---> 31\u001b[0;31m \u001b[0;32mfrom\u001b[0m \u001b[0mpydub\u001b[0m \u001b[0;32mimport\u001b[0m \u001b[0mAudioSegment\u001b[0m\u001b[0;34m\u001b[0m\u001b[0m\n\u001b[0m\u001b[1;32m     32\u001b[0m \u001b[0;32mimport\u001b[0m \u001b[0mpysrt\u001b[0m\u001b[0;34m\u001b[0m\u001b[0m\n\u001b[1;32m     33\u001b[0m \u001b[0;32mimport\u001b[0m \u001b[0mre\u001b[0m\u001b[0;34m\u001b[0m\u001b[0m\n",
      "\u001b[0;31mImportError\u001b[0m: No module named 'pydub'"
     ]
    }
   ],
   "source": [
    "from esper.supercuts import *"
   ]
  },
  {
   "cell_type": "code",
   "execution_count": 12,
   "metadata": {
    "ExecuteTime": {
     "end_time": "2019-01-10T03:03:27.849596Z",
     "start_time": "2019-01-10T03:03:27.802170Z"
    }
   },
   "outputs": [],
   "source": [
    "def query():\n",
    "    '''\n",
    "    Write your query here. Below is a query for Harry, Ron, and Hermione in a row.\n",
    "    This function should return a rekall VideoIntervalCollection.\n",
    "    '''\n",
    "    from esper.captions import topic_search\n",
    "    \n",
    "    phrases = [\n",
    "        'the Force',\n",
    "        'the force'\n",
    "    ]\n",
    "    results = topic_search(phrases,\n",
    "        window_size=0,\n",
    "        video_ids = [vid.id for vid in Video.objects.exclude(name__contains=\"star wars\").all()])\n",
    "    caption_results = VideoIntervalCollection({\n",
    "        r.id: [(\n",
    "            (p.start * Video.objects.get(id=r.id).fps),\n",
    "            (p.end * Video.objects.get(id=r.id).fps),\n",
    "        0) for p in r.postings]\n",
    "        for r in results\n",
    "    })\n",
    "    \n",
    "    return caption_results"
   ]
  },
  {
   "cell_type": "code",
   "execution_count": 13,
   "metadata": {
    "ExecuteTime": {
     "end_time": "2019-01-10T03:03:28.603219Z",
     "start_time": "2019-01-10T03:03:28.552906Z"
    }
   },
   "outputs": [],
   "source": [
    "def generate_supercut_intervals(\n",
    "    interval_collection,\n",
    "    dilation_start=0,\n",
    "    dilation_end=0,\n",
    "    dilation=0,\n",
    "    snap_to_cinematic_shots=False,\n",
    "    limit=None,\n",
    "    stride=1\n",
    "):\n",
    "    '''\n",
    "    Generates supercut intervals for the supercut pipeline.\n",
    "    Dilates interval_collection by dilation.\n",
    "    If dilation > 0, snaps the dilations to cinematic shot boundaries.\n",
    "    '''\n",
    "    if dilation > 0:\n",
    "        if snap_to_cinematic_shots:\n",
    "            shots = VideoIntervalCollection.from_django_qs(\n",
    "                Shot.objects.filter(\n",
    "                    video_id__in=list(interval_collection.get_allintervals().keys()),\n",
    "                    labeler__name=\"shot-hsvhist-face\"\n",
    "                )\n",
    "            ).filter_against(interval_collection, predicate=overlaps())\n",
    "        interval_collection = interval_collection.dilate(dilation).coalesce()\n",
    "        if snap_to_cinematic_shots:\n",
    "            interval_collection = interval_collection.overlaps(shots)\n",
    "    \n",
    "    supercut_intervals = []\n",
    "    for video_id in sorted(list(interval_collection.get_allintervals().keys())):\n",
    "        intervallist = interval_collection.get_intervallist(video_id)\n",
    "        for intrvl in intervallist.get_intervals():\n",
    "            supercut_intervals.append((video_id, intrvl.get_start()-dilation_start, intrvl.get_end()+dilation_end))\n",
    "            \n",
    "    if limit is not None:\n",
    "        return supercut_intervals[:limit * stride:stride]\n",
    "    \n",
    "    return supercut_intervals[::stride]"
   ]
  },
  {
   "cell_type": "code",
   "execution_count": 16,
   "metadata": {
    "ExecuteTime": {
     "end_time": "2019-01-10T03:04:47.146744Z",
     "start_time": "2019-01-10T03:04:47.087419Z"
    }
   },
   "outputs": [],
   "source": [
    "# output path\n",
    "OUTPUT_PATH = '/app/result/supercut/the_force_non_star_wars.mp4'"
   ]
  },
  {
   "cell_type": "code",
   "execution_count": 18,
   "metadata": {
    "ExecuteTime": {
     "end_time": "2019-01-10T03:06:07.330297Z",
     "start_time": "2019-01-10T03:05:48.660853Z"
    }
   },
   "outputs": [
    {
     "data": {
      "application/vnd.jupyter.widget-view+json": {
       "model_id": "f9924bad1b224f998aeb5ab59bbfd79f",
       "version_major": 2,
       "version_minor": 0
      },
      "text/plain": [
       "HBox(children=(IntProgress(value=0, max=17), HTML(value='')))"
      ]
     },
     "metadata": {},
     "output_type": "display_data"
    },
    {
     "name": "stdout",
     "output_type": "stream",
     "text": [
      "\n"
     ]
    }
   ],
   "source": [
    "stitch_video_temporal(generate_supercut_intervals(\n",
    "    query(), dilation_end=0), out_path=OUTPUT_PATH, width=640, height=480)"
   ]
  }
 ],
 "metadata": {
  "kernelspec": {
   "display_name": "Django Shell-Plus",
   "language": "python",
   "name": "django_extensions"
  },
  "language_info": {
   "codemirror_mode": {
    "name": "ipython",
    "version": 3
   },
   "file_extension": ".py",
   "mimetype": "text/x-python",
   "name": "python",
   "nbconvert_exporter": "python",
   "pygments_lexer": "ipython3",
   "version": "3.5.2"
  },
  "toc": {
   "nav_menu": {},
   "number_sections": true,
   "sideBar": true,
   "skip_h1_title": false,
   "toc_cell": false,
   "toc_position": {},
   "toc_section_display": "block",
   "toc_window_display": false
  }
 },
 "nbformat": 4,
 "nbformat_minor": 2
}
