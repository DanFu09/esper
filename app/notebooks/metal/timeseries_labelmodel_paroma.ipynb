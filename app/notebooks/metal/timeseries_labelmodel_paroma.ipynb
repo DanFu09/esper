{
 "cells": [
  {
   "cell_type": "code",
   "execution_count": 5,
   "metadata": {},
   "outputs": [],
   "source": [
    "import sys, torch, pickle, csv\n",
    "import numpy as np\n",
    "import scipy as sp\n",
    "sys.path.append('/lfs/1/danfu/metal')\n",
    "sys.path.append('/lfs/1/danfu/sequential_ws')\n",
    "from metal.metrics import metric_score\n",
    "from torch.nn.functional import normalize\n",
    "from DP.label_model import *\n",
    "import pandas as pd"
   ]
  },
  {
   "cell_type": "code",
   "execution_count": 6,
   "metadata": {},
   "outputs": [],
   "source": [
    "device = torch.device('cuda:0')"
   ]
  },
  {
   "cell_type": "markdown",
   "metadata": {},
   "source": [
    "# Load Data"
   ]
  },
  {
   "cell_type": "code",
   "execution_count": 7,
   "metadata": {},
   "outputs": [],
   "source": [
    "L_train_path = '/lfs/1/danfu/esper/app/data/shot_detection_weak_labels/L_train_100_windows.npz'\n",
    "L_dev_path = '/lfs/1/danfu/esper/app/data/shot_detection_weak_labels/L_dev_windows.npz'\n",
    "Y_dev_path = '/lfs/1/danfu/esper/app/data/shot_detection_weak_labels/Y_dev_windows.npy'\n",
    "\n",
    "stride = 1\n",
    "L_train_raw = sp.sparse.load_npz(L_train_path).todense()[::stride]\n",
    "L_dev_raw = sp.sparse.load_npz(L_dev_path).todense()\n",
    "Y_dev_raw = np.load(Y_dev_path)\n",
    "\n",
    "T = 5\n",
    "m_per_task = 5\n",
    "\n",
    "L_train = torch.FloatTensor(L_train_raw[:L_train_raw.shape[0] - (L_train_raw.shape[0] % T)]).to(device)\n",
    "L_dev = torch.FloatTensor(L_dev_raw[:L_dev_raw.shape[0] - (L_dev_raw.shape[0] % T)]).to(device)\n",
    "Y_dev = torch.FloatTensor(Y_dev_raw[:Y_dev_raw.shape[0] - (Y_dev_raw.shape[0] % T)]).to(device)\n",
    "m_per_task = L_train.size(1)\n",
    "n_frames_train = L_train.size(0)\n",
    "n_patients_train = n_frames_train//T\n",
    "n_frames_dev = L_dev.size(0)\n",
    "n_patients_dev = n_frames_dev//T\n",
    "\n",
    "# MRI_data_naive = {'Li_train': (L_train.unsqueeze(2) == torch.FloatTensor([-1,1,0]).to(device).unsqueeze(0).unsqueeze(0)).argmax(2),\n",
    "#                   'Li_dev': (L_dev.unsqueeze(2) == torch.FloatTensor([-1,1,0]).to(device).unsqueeze(0).unsqueeze(0)).argmax(2),\n",
    "#                   'R_dev': (Y_dev.unsqueeze(1) == torch.FloatTensor([-1,1]).to(device).unsqueeze(0)).argmax(1),\n",
    "#                   'm':m_per_task, 'T':1,\n",
    "#                  }\n",
    "\n",
    "# don't need to transform the raw data\n",
    "MRI_data_naive = {'Li_train': L_train.long().to(device),\n",
    "                  'Li_dev': L_dev.long().to(device),\n",
    "                  'R_dev': Y_dev.long().to(device),\n",
    "                  'm':m_per_task, 'T':1,\n",
    "                 }\n",
    "MRI_data_naive['class_balance'] = normalize((MRI_data_naive['R_dev'].unsqueeze(1)==torch.arange(2, device=device).unsqueeze(0)).sum(0).float(), \n",
    "                                            dim=0, p=1)\n",
    "MRI_data_temporal = {'Li_train': MRI_data_naive['Li_train'].view(n_patients_train, (m_per_task*T)),\n",
    "                     'Li_dev': MRI_data_naive['Li_dev'].view(n_patients_dev, (m_per_task*T)),\n",
    "                     'R_dev': MRI_data_naive['R_dev']*(2**T-1),\n",
    "                     'm': m_per_task * T, 'T': T,\n",
    "                    } \n",
    "MRI_data_temporal['class_balance'] = normalize((MRI_data_temporal['R_dev'].unsqueeze(1)==torch.arange(2**T, device=device).unsqueeze(0)).sum(0).float(), \n",
    "                                                dim=0, p=1)"
   ]
  },
  {
   "cell_type": "markdown",
   "metadata": {},
   "source": [
    "# Naive Model"
   ]
  },
  {
   "cell_type": "code",
   "execution_count": 40,
   "metadata": {
    "scrolled": false
   },
   "outputs": [
    {
     "name": "stdout",
     "output_type": "stream",
     "text": [
      "1\n",
      "iteration=0 loss=57.88106918334961\n",
      "iteration=500 loss=0.24769733846187592\n",
      "iteration=1000 loss=0.2150215357542038\n",
      "iteration=1500 loss=0.20939819514751434\n",
      "iteration=2000 loss=0.20730239152908325\n",
      "iteration=2500 loss=0.20622797310352325\n",
      "iteration=3000 loss=0.20558057725429535\n",
      "iteration=3500 loss=0.2051495462656021\n",
      "iteration=4000 loss=0.20484158396720886\n",
      "iteration=4500 loss=0.2046094685792923\n",
      "iteration=4999 loss=0.20442740619182587\n",
      "Accuracy: 0.005\n",
      "F1: 0.016\n",
      "Recall: 0.029\n",
      "Precision: 0.011\n",
      "Flipping Parameters\n",
      "Accuracy: 0.108\n",
      "F1: 0.353\n",
      "Recall: 0.611\n",
      "Precision: 0.248\n",
      "Accuracy: 0.176\n",
      "F1: 0.299\n",
      "Recall: 1.000\n",
      "Precision: 0.176\n",
      "12\n",
      "iteration=0 loss=41.46357727050781\n",
      "iteration=500 loss=0.2453763782978058\n",
      "iteration=1000 loss=0.22044265270233154\n",
      "iteration=1500 loss=0.21405556797981262\n",
      "iteration=2000 loss=0.21120427548885345\n",
      "iteration=2500 loss=0.2096126824617386\n",
      "iteration=3000 loss=0.2086034119129181\n",
      "iteration=3500 loss=0.2079012393951416\n",
      "iteration=4000 loss=0.2073746621608734\n",
      "iteration=4500 loss=0.2069547474384308\n",
      "iteration=4999 loss=0.20660381019115448\n",
      "Accuracy: 0.005\n",
      "F1: 0.016\n",
      "Recall: 0.029\n",
      "Precision: 0.011\n",
      "Flipping Parameters\n",
      "Accuracy: 0.129\n",
      "F1: 0.408\n",
      "Recall: 0.732\n",
      "Precision: 0.283\n",
      "Accuracy: 0.176\n",
      "F1: 0.299\n",
      "Recall: 1.000\n",
      "Precision: 0.176\n",
      "123\n",
      "iteration=0 loss=38.89482116699219\n",
      "iteration=500 loss=0.23349329829216003\n",
      "iteration=1000 loss=0.20476827025413513\n",
      "iteration=1500 loss=0.19929976761341095\n",
      "iteration=2000 loss=0.1972903311252594\n",
      "iteration=2500 loss=0.1962207555770874\n",
      "iteration=3000 loss=0.1955343782901764\n",
      "iteration=3500 loss=0.1950540989637375\n",
      "iteration=4000 loss=0.19470392167568207\n",
      "iteration=4500 loss=0.1944429576396942\n",
      "iteration=4999 loss=0.19424626231193542\n",
      "Accuracy: 0.107\n",
      "F1: 0.353\n",
      "Recall: 0.611\n",
      "Precision: 0.248\n",
      "Flipping Parameters\n",
      "Accuracy: 0.028\n",
      "F1: 0.083\n",
      "Recall: 0.161\n",
      "Precision: 0.056\n",
      "Accuracy: 0.176\n",
      "F1: 0.299\n",
      "Recall: 1.000\n",
      "Precision: 0.176\n",
      "1234\n",
      "iteration=0 loss=46.179969787597656\n",
      "iteration=500 loss=0.2412208914756775\n",
      "iteration=1000 loss=0.2162775993347168\n",
      "iteration=1500 loss=0.2106979340314865\n",
      "iteration=2000 loss=0.20839951932430267\n",
      "iteration=2500 loss=0.2071651816368103\n",
      "iteration=3000 loss=0.2063981294631958\n",
      "iteration=3500 loss=0.2058734893798828\n",
      "iteration=4000 loss=0.20548872649669647\n",
      "iteration=4500 loss=0.20519137382507324\n",
      "iteration=4999 loss=0.20495277643203735\n",
      "Accuracy: 0.005\n",
      "F1: 0.016\n",
      "Recall: 0.029\n",
      "Precision: 0.011\n",
      "Flipping Parameters\n",
      "Accuracy: 0.129\n",
      "F1: 0.408\n",
      "Recall: 0.732\n",
      "Precision: 0.283\n",
      "Accuracy: 0.176\n",
      "F1: 0.299\n",
      "Recall: 1.000\n",
      "Precision: 0.176\n",
      "12345\n",
      "iteration=0 loss=40.818302154541016\n",
      "iteration=500 loss=0.24775567650794983\n",
      "iteration=1000 loss=0.2225291132926941\n",
      "iteration=1500 loss=0.21528202295303345\n",
      "iteration=2000 loss=0.21193146705627441\n",
      "iteration=2500 loss=0.2100481390953064\n",
      "iteration=3000 loss=0.2088600993156433\n",
      "iteration=3500 loss=0.2080426812171936\n",
      "iteration=4000 loss=0.20743845403194427\n",
      "iteration=4500 loss=0.20696449279785156\n",
      "iteration=4999 loss=0.20657522976398468\n",
      "Accuracy: 0.005\n",
      "F1: 0.016\n",
      "Recall: 0.029\n",
      "Precision: 0.011\n",
      "Flipping Parameters\n",
      "Accuracy: 0.129\n",
      "F1: 0.408\n",
      "Recall: 0.732\n",
      "Precision: 0.283\n",
      "Accuracy: 0.176\n",
      "F1: 0.299\n",
      "Recall: 1.000\n",
      "Precision: 0.176\n"
     ]
    }
   ],
   "source": [
    "for seed in [1,12,123,1234,12345]:\n",
    "    print(seed)\n",
    "    naive_model = DPLabelModel(m=m_per_task, \n",
    "                               T=1,\n",
    "                               edges=[],\n",
    "                               coverage_sets=[[0,]]*m_per_task,\n",
    "                               mu_sharing=[[i,] for i in range(m_per_task)],\n",
    "                               phi_sharing=[],\n",
    "                               device=device,\n",
    "                               class_balance=torch.FloatTensor([0.6,0.4]).to(device), \n",
    "                               seed=seed)\n",
    "    optimize(naive_model, L_hat=MRI_data_naive['Li_train'], num_iter=5000, lr=1e-3,\n",
    "             momentum=0.8, clamp=False, seed=seed)\n",
    "    #4.087885261759692e-05\n",
    "\n",
    "    R_pred = naive_model.predict(MRI_data_naive['Li_dev'])\n",
    "    for metric in ['accuracy', 'f1', 'recall', 'precision']:\n",
    "        score = metric_score(MRI_data_naive['R_dev'].cpu(), R_pred.cpu(), metric)\n",
    "        print(f\"{metric.capitalize()}: {score:.3f}\")\n",
    "\n",
    "    # Flipping params\n",
    "    print(\"Flipping Parameters\")\n",
    "    naive_model.flip_params()\n",
    "    R_pred_flipped = naive_model.predict(MRI_data_naive['Li_dev'])\n",
    "    for metric in ['accuracy', 'f1', 'recall', 'precision']:\n",
    "        score = metric_score(MRI_data_naive['R_dev'].cpu(), R_pred_flipped.cpu(), metric)\n",
    "        print(f\"{metric.capitalize()}: {score:.3f}\")\n",
    "        \n",
    "    #FLipping Labels\n",
    "    R_pred_flipped[R_pred_flipped == 1.0] = -1.0\n",
    "    R_pred_flipped[R_pred_flipped == 0.0] = 1.0\n",
    "    R_pred_flipped[R_pred_flipped == -1.0] = 1.0\n",
    "    \n",
    "    for metric in ['accuracy', 'f1', 'recall', 'precision']:\n",
    "        score = metric_score(MRI_data_naive['R_dev'].cpu(), R_pred_flipped.cpu(), metric)\n",
    "        print(f\"{metric.capitalize()}: {score:.3f}\")"
   ]
  },
  {
   "cell_type": "markdown",
   "metadata": {},
   "source": [
    "# Timeseries model"
   ]
  },
  {
   "cell_type": "code",
   "execution_count": 10,
   "metadata": {},
   "outputs": [
    {
     "name": "stdout",
     "output_type": "stream",
     "text": [
      "50\n",
      "Accuracy: 0.901\n",
      "F1: 0.738\n",
      "Recall: 0.789\n",
      "Precision: 0.693\n",
      "\n",
      "Accuracy: 0.157\n",
      "F1: 0.184\n",
      "Recall: 0.540\n",
      "Precision: 0.111\n",
      "\n",
      "Accuracy: 0.880\n",
      "F1: 0.619\n",
      "Recall: 0.555\n",
      "Precision: 0.700\n",
      "\n",
      "Accuracy: 0.939\n",
      "F1: 0.827\n",
      "Recall: 0.836\n",
      "Precision: 0.819\n",
      "\n",
      "Accuracy: 0.244\n",
      "F1: 0.089\n",
      "Recall: 0.211\n",
      "Precision: 0.057\n",
      "\n",
      "Accuracy: 0.777\n",
      "F1: 0.163\n",
      "Recall: 0.123\n",
      "Precision: 0.239\n",
      "\n",
      "Accuracy: 0.608\n",
      "F1: 0.239\n",
      "Recall: 0.349\n",
      "Precision: 0.181\n",
      "\n",
      "Accuracy: 0.238\n",
      "F1: 0.008\n",
      "Recall: 0.018\n",
      "Precision: 0.005\n",
      "\n",
      "Accuracy: 0.232\n",
      "F1: 0.041\n",
      "Recall: 0.092\n",
      "Precision: 0.026\n",
      "\n",
      "Accuracy: 0.880\n",
      "F1: 0.552\n",
      "Recall: 0.420\n",
      "Precision: 0.805\n",
      "\n",
      "[50, 3, DPLabelModel(), 0.9385665529010239, 0.8271889400921659, 0.8355314197051978, 0.8190114068441064]\n",
      "CPU times: user 2min 22s, sys: 3.34 s, total: 2min 25s\n",
      "Wall time: 2min 25s\n"
     ]
    }
   ],
   "source": [
    "%%time\n",
    "best = None\n",
    "for iterations in [50]:\n",
    "    print(iterations)\n",
    "    max_seed = 10\n",
    "    temporal_models = [None,]*max_seed\n",
    "    for seed in range(max_seed):\n",
    "        markov_model = DPLabelModel(m=m_per_task*T, \n",
    "                                    T=T,\n",
    "                                    edges=[(i,i+m_per_task) for i in range((T-1)*m_per_task)],\n",
    "                                    coverage_sets=[[t,] for t in range(T) for _ in range(m_per_task)],\n",
    "                                    mu_sharing=[[t*m_per_task+i for t in range(T)] for i in range(m_per_task)],\n",
    "                                    phi_sharing=[[(t*m_per_task+i, (t+1)*m_per_task+i)\n",
    "                                                  for t in range(T-1)] for i in range(m_per_task)],\n",
    "                                    device=device,\n",
    "                                    # class_balance=MRI_data_temporal['class_balance'],\n",
    "                                    seed=seed)\n",
    "        optimize(markov_model, L_hat=MRI_data_temporal['Li_train'], num_iter=iterations,\n",
    "                 lr=1e-5, momentum=0.8, clamp=True, \n",
    "                 verbose=False, seed=seed)\n",
    "        temporal_models[seed] = markov_model\n",
    "    \n",
    "    for seed, model in enumerate(temporal_models):\n",
    "        Li_dev = torch.LongTensor(MRI_data_temporal['Li_dev'].cpu().numpy())\n",
    "        R_pred_frame = model.predict_proba(Li_dev.to(device)) #predict per sequence\n",
    "\n",
    "        #find sequence label config. with highest prob.\n",
    "        config_index = np.argmax(R_pred_frame.detach().cpu().numpy(), axis=1) \n",
    "        R_pred_config = model.feasible_y[config_index]\n",
    "        R_pred_max = torch.FloatTensor(np.max(R_pred_frame.detach().cpu().numpy(), axis=1))\n",
    "\n",
    "        #for each 1 in config, multiply by prob. label for sequence (1-prob label otherwise)\n",
    "        R_pred_probs = torch.FloatTensor(R_pred_config.shape)\n",
    "        for idx in range(R_pred_config.shape[0]):\n",
    "            R_pred_probs[idx,:] = torch.LongTensor(R_pred_config[idx,:].cpu()).float()*R_pred_max[idx]\n",
    "\n",
    "        R_pred_probs = R_pred_probs.numpy()\n",
    "        R_pred_probs[R_pred_probs < 0] = 1+R_pred_probs[R_pred_probs < 0]\n",
    "\n",
    "        Li_dev = torch.LongTensor(MRI_data_temporal['Li_dev'].cpu().numpy())\n",
    "        R_pred_frame = model.predict_proba(Li_dev.to(device)) #predict per sequence\n",
    "\n",
    "        #find sequence label config. with highest prob.\n",
    "        config_index = np.argmax(R_pred_frame.detach().cpu().numpy(), axis=1) \n",
    "        R_pred_config = model.feasible_y[config_index]\n",
    "        R_pred_max = torch.FloatTensor(np.max(R_pred_frame.detach().cpu().numpy(), axis=1))\n",
    "\n",
    "        #for each 1 in config, multiply by prob. label for sequence (1-prob label otherwise)\n",
    "        R_pred_probs = torch.FloatTensor(R_pred_config.shape)\n",
    "        for idx in range(R_pred_config.shape[0]):\n",
    "            R_pred_probs[idx,:] = torch.LongTensor(R_pred_config[idx,:].cpu()).float()*R_pred_max[idx]\n",
    "\n",
    "        R_pred_probs = R_pred_probs.numpy()\n",
    "        R_pred_probs[R_pred_probs < 0] = 1+R_pred_probs[R_pred_probs < 0]\n",
    "        R_pred_frame_label = np.round(R_pred_probs.ravel())\n",
    "        R_pred_frame_label[R_pred_frame_label == 0.] = 2.\n",
    "\n",
    "        scores = [iterations, seed, model]\n",
    "        for metric in ['accuracy', 'f1', 'recall', 'precision']:\n",
    "            score = metric_score(Y_dev.cpu(), R_pred_frame_label, metric)\n",
    "            print(f\"{metric.capitalize()}: {score:.3f}\")\n",
    "            \n",
    "            scores.append(score)\n",
    "        \n",
    "        if best == None or scores[4] > best[4]:\n",
    "            best = scores\n",
    "        print()\n",
    "\n",
    "print(best)"
   ]
  },
  {
   "cell_type": "code",
   "execution_count": 11,
   "metadata": {},
   "outputs": [],
   "source": [
    "best_model = best[2]"
   ]
  },
  {
   "cell_type": "code",
   "execution_count": 12,
   "metadata": {},
   "outputs": [
    {
     "name": "stdout",
     "output_type": "stream",
     "text": [
      "Accuracy: 0.939\n",
      "F1: 0.827\n",
      "Recall: 0.836\n",
      "Precision: 0.819\n"
     ]
    }
   ],
   "source": [
    "model = best_model\n",
    "Li_dev = torch.LongTensor(MRI_data_temporal['Li_dev'].cpu().numpy())\n",
    "R_pred_frame = model.predict_proba(Li_dev.to(device)) #predict per sequence\n",
    "\n",
    "#find sequence label config. with highest prob.\n",
    "config_index = np.argmax(R_pred_frame.detach().cpu().numpy(), axis=1) \n",
    "R_pred_config = model.feasible_y[config_index]\n",
    "R_pred_max = torch.FloatTensor(np.max(R_pred_frame.detach().cpu().numpy(), axis=1))\n",
    "\n",
    "#for each 1 in config, multiply by prob. label for sequence (1-prob label otherwise)\n",
    "R_pred_probs = torch.FloatTensor(R_pred_config.shape)\n",
    "for idx in range(R_pred_config.shape[0]):\n",
    "    R_pred_probs[idx,:] = torch.LongTensor(R_pred_config[idx,:].cpu()).float()*R_pred_max[idx]\n",
    "\n",
    "R_pred_probs = R_pred_probs.numpy()\n",
    "R_pred_probs[R_pred_probs < 0] = 1+R_pred_probs[R_pred_probs < 0]\n",
    "\n",
    "Li_dev = torch.LongTensor(MRI_data_temporal['Li_dev'].cpu().numpy())\n",
    "R_pred_frame = model.predict_proba(Li_dev.to(device)) #predict per sequence\n",
    "\n",
    "#find sequence label config. with highest prob.\n",
    "config_index = np.argmax(R_pred_frame.detach().cpu().numpy(), axis=1) \n",
    "R_pred_config = model.feasible_y[config_index]\n",
    "R_pred_max = torch.FloatTensor(np.max(R_pred_frame.detach().cpu().numpy(), axis=1))\n",
    "\n",
    "#for each 1 in config, multiply by prob. label for sequence (1-prob label otherwise)\n",
    "R_pred_probs = torch.FloatTensor(R_pred_config.shape)\n",
    "for idx in range(R_pred_config.shape[0]):\n",
    "    R_pred_probs[idx,:] = torch.LongTensor(R_pred_config[idx,:].cpu()).float()*R_pred_max[idx]\n",
    "\n",
    "R_pred_probs = R_pred_probs.numpy()\n",
    "R_pred_probs[R_pred_probs < 0] = 1+R_pred_probs[R_pred_probs < 0]\n",
    "R_pred_frame_label = np.round(R_pred_probs.ravel())\n",
    "R_pred_frame_label[R_pred_frame_label == 0.] = 2.\n",
    "\n",
    "scores = [iterations]\n",
    "for metric in ['accuracy', 'f1', 'recall', 'precision']:\n",
    "    score = metric_score(Y_dev.cpu(), R_pred_frame_label, metric)\n",
    "    print(f\"{metric.capitalize()}: {score:.3f}\")\n",
    "\n",
    "    scores.append(score)"
   ]
  },
  {
   "cell_type": "markdown",
   "metadata": {},
   "source": [
    "# Save/Load best model"
   ]
  },
  {
   "cell_type": "code",
   "execution_count": 24,
   "metadata": {},
   "outputs": [],
   "source": [
    "torch.save(model, 'models/ts_labelmodel.pth')"
   ]
  },
  {
   "cell_type": "code",
   "execution_count": 3,
   "metadata": {},
   "outputs": [],
   "source": [
    "model = torch.load('models/ts_labelmodel.pth').to(device)"
   ]
  },
  {
   "cell_type": "markdown",
   "metadata": {},
   "source": [
    "# Make predictions for everything and save to disk"
   ]
  },
  {
   "cell_type": "code",
   "execution_count": 24,
   "metadata": {},
   "outputs": [],
   "source": [
    "import numpy as np\n",
    "from scipy.sparse import csr_matrix\n",
    "import scipy.sparse as sparse\n",
    "import pickle\n",
    "import rekall\n",
    "from rekall.video_interval_collection import VideoIntervalCollection\n",
    "from rekall.interval_list import IntervalList\n",
    "from rekall.temporal_predicates import *\n",
    "from metal.label_model.baselines import MajorityLabelVoter"
   ]
  },
  {
   "cell_type": "markdown",
   "metadata": {},
   "source": [
    "## Load manually annotated data"
   ]
  },
  {
   "cell_type": "code",
   "execution_count": 25,
   "metadata": {},
   "outputs": [
    {
     "name": "stderr",
     "output_type": "stream",
     "text": [
      "100%|██████████| 28/28 [00:00<00:00, 18585.30it/s]\n",
      "100%|██████████| 28/28 [00:00<00:00, 58985.69it/s]\n"
     ]
    }
   ],
   "source": [
    "with open('../../data/manually_annotated_shots.pkl', 'rb') as f:\n",
    "    shots = VideoIntervalCollection(pickle.load(f))\n",
    "with open('../../data/shot_detection_folds.pkl', 'rb') as f:\n",
    "    shot_detection_folds = pickle.load(f)\n",
    "clips = shots.dilate(1).coalesce().dilate(-1)\n",
    "shot_boundaries = shots.map(\n",
    "    lambda intrvl: (intrvl.start, intrvl.start, intrvl.payload)\n",
    ").set_union(\n",
    "    shots.map(lambda intrvl: (intrvl.end + 1, intrvl.end + 1, intrvl.payload))\n",
    ").coalesce()\n",
    "boundary_frames = {\n",
    "    video_id: [\n",
    "        intrvl.start\n",
    "        for intrvl in shot_boundaries.get_intervallist(video_id).get_intervals()\n",
    "    ]\n",
    "    for video_id in shot_boundaries.get_allintervals()\n",
    "}\n",
    "video_ids = sorted(list(clips.get_allintervals().keys()))\n",
    "frames_per_video = {\n",
    "    video_id: sorted([\n",
    "        f\n",
    "        for interval in clips.get_intervallist(video_id).get_intervals()\n",
    "        for f in range(interval.start, interval.end + 2)\n",
    "    ])\n",
    "    for video_id in video_ids\n",
    "}\n",
    "ground_truth = {\n",
    "    video_id: [\n",
    "        1 if f in boundary_frames[video_id] else 2\n",
    "        for f in frames_per_video[video_id]\n",
    "    ] \n",
    "    for video_id in video_ids\n",
    "}"
   ]
  },
  {
   "cell_type": "markdown",
   "metadata": {},
   "source": [
    "## Load label matrix with all frames in it"
   ]
  },
  {
   "cell_type": "code",
   "execution_count": 26,
   "metadata": {},
   "outputs": [],
   "source": [
    "with open('../../data/shot_detection_weak_labels/all_labels.pkl', 'rb') as f:\n",
    "    weak_labels_all_movies = pickle.load(f)"
   ]
  },
  {
   "cell_type": "markdown",
   "metadata": {},
   "source": [
    "## Load videos and number of frames per video"
   ]
  },
  {
   "cell_type": "code",
   "execution_count": 27,
   "metadata": {},
   "outputs": [],
   "source": [
    "with open('../../data/frame_counts.pkl', 'rb') as f:\n",
    "    frame_counts = pickle.load(f)\n",
    "video_ids_all = sorted(list(frame_counts.keys()))\n",
    "video_ids_train = sorted(list(set(video_ids_all).difference(set(video_ids))))"
   ]
  },
  {
   "cell_type": "markdown",
   "metadata": {},
   "source": [
    "## Construct windows for each video"
   ]
  },
  {
   "cell_type": "code",
   "execution_count": 28,
   "metadata": {},
   "outputs": [],
   "source": [
    "# First, construct windows of 16 frames for each video\n",
    "windows = VideoIntervalCollection({\n",
    "    video_id: [\n",
    "        (f, f + 16, video_id)\n",
    "        for f in range(0, frame_counts[video_id] - 16, 8)\n",
    "    ]\n",
    "    for video_id in video_ids_all\n",
    "})"
   ]
  },
  {
   "cell_type": "markdown",
   "metadata": {},
   "source": [
    "## Get ground truth labels for all windows"
   ]
  },
  {
   "cell_type": "code",
   "execution_count": 29,
   "metadata": {},
   "outputs": [],
   "source": [
    "# Next, intersect the windows with ground truth and get ground truth labels for the windows\n",
    "windows_intersecting_ground_truth = windows.filter_against(\n",
    "    clips,\n",
    "    predicate=overlaps()\n",
    ").map(lambda intrvl: (intrvl.start, intrvl.end, 2))\n",
    "windows_with_shot_boundaries = windows_intersecting_ground_truth.filter_against(\n",
    "    shot_boundaries,\n",
    "    predicate = lambda window, shot_boundary:\n",
    "        shot_boundary.start >= window.start and shot_boundary.start < window.end\n",
    ").map(\n",
    "    lambda intrvl: (intrvl.start, intrvl.end, 1)\n",
    ")\n",
    "windows_with_labels = windows_with_shot_boundaries.set_union(\n",
    "    windows_intersecting_ground_truth\n",
    ").coalesce(\n",
    "    predicate = equal(),\n",
    "    payload_merge_op = lambda p1, p2: min(p1, p2)\n",
    ")"
   ]
  },
  {
   "cell_type": "markdown",
   "metadata": {},
   "source": [
    "## Get weak labels for all windows"
   ]
  },
  {
   "cell_type": "code",
   "execution_count": 30,
   "metadata": {},
   "outputs": [],
   "source": [
    "# Label windows with the weak labels in our labeling functions\n",
    "def label_window(per_frame_weak_labels):\n",
    "    if 1 in per_frame_weak_labels:\n",
    "        return 1\n",
    "    if len([l for l in per_frame_weak_labels if l == 2]) >= len(per_frame_weak_labels) / 2:\n",
    "        return 2\n",
    "    return 0\n",
    "\n",
    "windows_with_weak_labels = windows.map(\n",
    "    lambda window: (\n",
    "        window.start,\n",
    "        window.end,\n",
    "        [\n",
    "            label_window([\n",
    "                lf[window.payload][f-1]\n",
    "                for f in range(window.start, window.end)\n",
    "            ])\n",
    "            for lf in weak_labels_all_movies\n",
    "        ]\n",
    "    )\n",
    ")"
   ]
  },
  {
   "cell_type": "markdown",
   "metadata": {},
   "source": [
    "# L matrix"
   ]
  },
  {
   "cell_type": "code",
   "execution_count": 11,
   "metadata": {},
   "outputs": [],
   "source": [
    "L_everything_windows = csr_matrix([\n",
    "    intrvl.payload\n",
    "    for video_id in sorted(list(video_ids_all))\n",
    "    for intrvl in windows_with_weak_labels.get_intervallist(video_id).get_intervals()\n",
    "]).todense()"
   ]
  },
  {
   "cell_type": "code",
   "execution_count": 13,
   "metadata": {},
   "outputs": [],
   "source": [
    "with open('../../data/shot_detection_weak_labels/L_everything_windows.npy', 'wb') as f:\n",
    "    np.save(f, L_everything_windows)"
   ]
  },
  {
   "cell_type": "code",
   "execution_count": 4,
   "metadata": {},
   "outputs": [],
   "source": [
    "with open('../../data/shot_detection_weak_labels/L_everything_windows.npy', 'rb') as f:\n",
    "    L_everything_windows = np.load(f)"
   ]
  },
  {
   "cell_type": "markdown",
   "metadata": {},
   "source": [
    "# Convert L matrix to timeseries"
   ]
  },
  {
   "cell_type": "code",
   "execution_count": 5,
   "metadata": {},
   "outputs": [],
   "source": [
    "T = 5\n",
    "m_per_task = L_everything_windows.shape[1]"
   ]
  },
  {
   "cell_type": "code",
   "execution_count": 6,
   "metadata": {},
   "outputs": [],
   "source": [
    "L_unlabelled = torch.FloatTensor(L_everything_windows[:L_everything_windows.shape[0] -\n",
    "                                                      (L_everything_windows.shape[0] % T)]).to(device)"
   ]
  },
  {
   "cell_type": "code",
   "execution_count": 7,
   "metadata": {},
   "outputs": [],
   "source": [
    "m_per_task_unlabelled = L_unlabelled.size(1)\n",
    "n_frames_unlabelled = L_unlabelled.size(0)\n",
    "n_patients_unlabelled = n_frames_unlabelled//T"
   ]
  },
  {
   "cell_type": "code",
   "execution_count": 8,
   "metadata": {},
   "outputs": [],
   "source": [
    "L_unlabelled_ts = torch.LongTensor(\n",
    "    L_unlabelled.view(n_patients_unlabelled, (m_per_task*T)).cpu().numpy())"
   ]
  },
  {
   "cell_type": "markdown",
   "metadata": {},
   "source": [
    "# Predict everything"
   ]
  },
  {
   "cell_type": "code",
   "execution_count": 9,
   "metadata": {},
   "outputs": [
    {
     "data": {
      "text/plain": [
       "2470104"
      ]
     },
     "execution_count": 9,
     "metadata": {},
     "output_type": "execute_result"
    }
   ],
   "source": [
    "L_unlabelled_ts.shape[0]"
   ]
  },
  {
   "cell_type": "code",
   "execution_count": 10,
   "metadata": {},
   "outputs": [
    {
     "name": "stdout",
     "output_type": "stream",
     "text": [
      "0\n",
      "100000\n",
      "200000\n",
      "300000\n",
      "400000\n",
      "500000\n",
      "600000\n",
      "700000\n",
      "800000\n",
      "900000\n",
      "1000000\n",
      "1100000\n",
      "1200000\n",
      "1300000\n",
      "1400000\n",
      "1500000\n",
      "1600000\n",
      "1700000\n",
      "1800000\n",
      "1900000\n",
      "2000000\n",
      "2100000\n",
      "2200000\n",
      "2300000\n",
      "2400000\n"
     ]
    }
   ],
   "source": [
    "predictions_everything = []\n",
    "for i in range(0, L_unlabelled_ts.shape[0], 100000):\n",
    "    print(i)\n",
    "    start = i\n",
    "    end = i + 100000\n",
    "    labels = L_unlabelled_ts[start:end] if end < L_unlabelled_ts.shape[0] else L_unlabelled_ts[start:]\n",
    "    predictions_for_labels = model.eval().predict_proba(labels.to(device))\n",
    "    predictions_everything.append(predictions_for_labels.detach().cpu())\n",
    "    del predictions_for_labels\n",
    "    torch.cuda.empty_cache()"
   ]
  },
  {
   "cell_type": "code",
   "execution_count": 11,
   "metadata": {},
   "outputs": [],
   "source": [
    "predictions_everything_together = torch.cat(predictions_everything)"
   ]
  },
  {
   "cell_type": "code",
   "execution_count": 14,
   "metadata": {},
   "outputs": [],
   "source": [
    "R_pred_frame = predictions_everything_together\n",
    "\n",
    "#find sequence label config. with highest prob.\n",
    "config_index = np.argmax(R_pred_frame, axis=1)\n",
    "R_pred_config = model.feasible_y[config_index].detach().cpu()\n",
    "R_pred_max = torch.FloatTensor(np.max(R_pred_frame.numpy(), axis=1))\n",
    "\n",
    "#for each 1 in config, multiply by prob. label for sequence (1-prob label otherwise)\n",
    "R_pred_probs = torch.FloatTensor(R_pred_config.shape)\n",
    "for idx in range(R_pred_config.shape[0]):\n",
    "    R_pred_probs[idx,:] = torch.LongTensor(R_pred_config[idx,:]).float()*R_pred_max[idx]\n",
    "\n",
    "R_pred_probs = R_pred_probs.numpy()\n",
    "R_pred_probs[R_pred_probs < 0] = 1+R_pred_probs[R_pred_probs < 0]\n",
    "R_pred_frame_label = np.round(R_pred_probs.ravel())\n",
    "R_pred_frame_label[R_pred_frame_label == 0.] = 2.\n",
    "\n",
    "R_pred_probs_per_frame = R_pred_probs.ravel()"
   ]
  },
  {
   "cell_type": "markdown",
   "metadata": {},
   "source": [
    "# Save predictions to disk"
   ]
  },
  {
   "cell_type": "code",
   "execution_count": 31,
   "metadata": {},
   "outputs": [],
   "source": [
    "window_nums = [\n",
    "    (video_id, intrvl.start, intrvl.end)\n",
    "    for video_id in sorted(list(video_ids_all))\n",
    "    for intrvl in windows_with_weak_labels.get_intervallist(video_id).get_intervals()\n",
    "]"
   ]
  },
  {
   "cell_type": "code",
   "execution_count": 55,
   "metadata": {},
   "outputs": [],
   "source": [
    "predictions_to_save_windows = [\n",
    "    (window_info, np.array([prediction, 1. - prediction]))\n",
    "    for window_info, prediction in zip(window_nums, R_pred_probs_per_frame)\n",
    "]"
   ]
  },
  {
   "cell_type": "code",
   "execution_count": 56,
   "metadata": {},
   "outputs": [],
   "source": [
    "# Because we needed to cut the predictions to a multiple of T\n",
    "last_preds = []\n",
    "for window_info in window_nums[len(predictions_to_save_windows):]:\n",
    "    last_preds.append((window_info, np.array([0., 1.])))"
   ]
  },
  {
   "cell_type": "code",
   "execution_count": 57,
   "metadata": {},
   "outputs": [],
   "source": [
    "predictions_to_save_windows += last_preds"
   ]
  },
  {
   "cell_type": "code",
   "execution_count": 58,
   "metadata": {},
   "outputs": [],
   "source": [
    "preds_np_windows = np.array(predictions_to_save_windows)"
   ]
  },
  {
   "cell_type": "code",
   "execution_count": 60,
   "metadata": {},
   "outputs": [],
   "source": [
    "# save predictions to disk\n",
    "with open('../../data/shot_detection_weak_labels/ts_weak_labels_all_windows.npy', 'wb') as f:\n",
    "    np.save(f, preds_np_windows)"
   ]
  },
  {
   "cell_type": "markdown",
   "metadata": {},
   "source": [
    "# Distribution compared to Metal LabelModel"
   ]
  },
  {
   "cell_type": "code",
   "execution_count": 66,
   "metadata": {},
   "outputs": [],
   "source": [
    "import matplotlib.pyplot as plt"
   ]
  },
  {
   "cell_type": "code",
   "execution_count": 59,
   "metadata": {},
   "outputs": [
    {
     "data": {
      "text/plain": [
       "array([[(1, 0, 16), array([0., 1.])],\n",
       "       [(1, 8, 24), array([0., 1.])],\n",
       "       [(1, 16, 32), array([0., 1.])],\n",
       "       [(1, 24, 40), array([0., 1.])],\n",
       "       [(1, 32, 48), array([0., 1.])],\n",
       "       [(1, 40, 56), array([0.01515144, 0.98484856])],\n",
       "       [(1, 48, 64), array([0.98484856, 0.01515144])],\n",
       "       [(1, 56, 72), array([0.98484856, 0.01515144])],\n",
       "       [(1, 64, 80), array([0.01515144, 0.98484856])],\n",
       "       [(1, 72, 88), array([0.01515144, 0.98484856])]], dtype=object)"
      ]
     },
     "execution_count": 59,
     "metadata": {},
     "output_type": "execute_result"
    }
   ],
   "source": [
    "preds_np_windows[:10]"
   ]
  },
  {
   "cell_type": "code",
   "execution_count": 64,
   "metadata": {},
   "outputs": [
    {
     "data": {
      "text/plain": [
       "(12350523, 2)"
      ]
     },
     "execution_count": 64,
     "metadata": {},
     "output_type": "execute_result"
    }
   ],
   "source": [
    "preds_np_windows.shape"
   ]
  },
  {
   "cell_type": "code",
   "execution_count": 62,
   "metadata": {},
   "outputs": [],
   "source": [
    "with open('../../data/shot_detection_weak_labels/noisy_labels_all_windows.npy', 'rb') as f:\n",
    "    preds_np_windows_metal = np.load(f)"
   ]
  },
  {
   "cell_type": "code",
   "execution_count": 63,
   "metadata": {},
   "outputs": [
    {
     "data": {
      "text/plain": [
       "array([[(1, 0, 16), array([0.0032828, 0.9967172])],\n",
       "       [(1, 8, 24), array([0.0032828, 0.9967172])],\n",
       "       [(1, 16, 32), array([0.0032828, 0.9967172])],\n",
       "       [(1, 24, 40), array([0.0032828, 0.9967172])],\n",
       "       [(1, 32, 48), array([0.0032828, 0.9967172])],\n",
       "       [(1, 40, 56), array([0.24933879, 0.75066121])],\n",
       "       [(1, 48, 64), array([0.98051349, 0.01948651])],\n",
       "       [(1, 56, 72), array([0.36412127, 0.63587873])],\n",
       "       [(1, 64, 80), array([0.0032828, 0.9967172])],\n",
       "       [(1, 72, 88), array([0.0032828, 0.9967172])]], dtype=object)"
      ]
     },
     "execution_count": 63,
     "metadata": {},
     "output_type": "execute_result"
    }
   ],
   "source": [
    "preds_np_windows_metal[:10]"
   ]
  },
  {
   "cell_type": "code",
   "execution_count": 65,
   "metadata": {},
   "outputs": [
    {
     "data": {
      "text/plain": [
       "(12350523, 2)"
      ]
     },
     "execution_count": 65,
     "metadata": {},
     "output_type": "execute_result"
    }
   ],
   "source": [
    "preds_np_windows_metal.shape"
   ]
  },
  {
   "cell_type": "code",
   "execution_count": 75,
   "metadata": {},
   "outputs": [
    {
     "data": {
      "image/png": "[encoded data removed]",
      "text/plain": [
       "<Figure size 432x288 with 1 Axes>"
      ]
     },
     "metadata": {},
     "output_type": "display_data"
    }
   ],
   "source": [
    "fig, ax = plt.subplots()\n",
    "ax.set_title('Distribution across all data, timeseries LabelModel')\n",
    "ax.hist([\n",
    "    i[1][0]\n",
    "    for i in preds_np_windows\n",
    "])\n",
    "plt.show()"
   ]
  },
  {
   "cell_type": "code",
   "execution_count": 76,
   "metadata": {},
   "outputs": [
    {
     "data": {
      "image/png": "[encoded data removed]",
      "text/plain": [
       "<Figure size 432x288 with 1 Axes>"
      ]
     },
     "metadata": {},
     "output_type": "display_data"
    }
   ],
   "source": [
    "fig, ax = plt.subplots()\n",
    "ax.set_title('Distribution across all data, Metal LabelModel')\n",
    "ax.hist([\n",
    "    i[1][0]\n",
    "    for i in preds_np_windows_metal\n",
    "])\n",
    "plt.show()"
   ]
  },
  {
   "cell_type": "code",
   "execution_count": 79,
   "metadata": {},
   "outputs": [],
   "source": [
    "with open('../../data/shot_detection_weak_labels/majority_vote_labels_all_windows.npy', 'rb') as f:\n",
    "    preds_np_windows_mv = np.load(f)"
   ]
  },
  {
   "cell_type": "code",
   "execution_count": 81,
   "metadata": {},
   "outputs": [
    {
     "data": {
      "image/png": "[encoded data removed]",
      "text/plain": [
       "<Figure size 432x288 with 1 Axes>"
      ]
     },
     "metadata": {},
     "output_type": "display_data"
    }
   ],
   "source": [
    "fig, ax = plt.subplots()\n",
    "ax.set_title('Distribution across all data, Majority Vote')\n",
    "ax.hist([\n",
    "    i[1][0]\n",
    "    for i in preds_np_windows_mv\n",
    "])\n",
    "plt.show()"
   ]
  },
  {
   "cell_type": "markdown",
   "metadata": {},
   "source": [
    "# Old stuff (bad class balance, wrong R_dev)"
   ]
  },
  {
   "cell_type": "code",
   "execution_count": 97,
   "metadata": {},
   "outputs": [
    {
     "name": "stdout",
     "output_type": "stream",
     "text": [
      "CPU times: user 41.8 s, sys: 1.6 s, total: 43.4 s\n",
      "Wall time: 43.4 s\n"
     ]
    }
   ],
   "source": [
    "%%time \n",
    "max_seed = 10\n",
    "temporal_models = [None,]*max_seed\n",
    "for seed in range(max_seed):\n",
    "    markov_model = DPLabelModel(m=m_per_task*T, \n",
    "                                T=T,\n",
    "                                edges=[(i,i+m_per_task) for i in range((T-1)*m_per_task)],\n",
    "                                coverage_sets=[[t,] for t in range(T) for _ in range(m_per_task)],\n",
    "                                mu_sharing=[[t*m_per_task+i for t in range(T)] for i in range(m_per_task)],\n",
    "                                phi_sharing=[[(t*m_per_task+i, (t+1)*m_per_task+i) for t in range(T-1)] for i in range(m_per_task)],\n",
    "                                device=device,\n",
    "                                # class_balance=MRI_data_temporal['class_balance'],\n",
    "                                seed=seed)\n",
    "    optimize(markov_model, L_hat=MRI_data_temporal['Li_train'], num_iter=10, lr=1e-5, momentum=0.8, clamp=True, \n",
    "             verbose=False, seed=seed)\n",
    "    temporal_models[seed] = markov_model"
   ]
  },
  {
   "cell_type": "code",
   "execution_count": 98,
   "metadata": {},
   "outputs": [
    {
     "name": "stdout",
     "output_type": "stream",
     "text": [
      "(7325,)\n",
      "Accuracy: 0.357\n",
      "F1: 0.090\n",
      "Recall: 0.182\n",
      "Precision: 0.060\n",
      "(7325,)\n",
      "Accuracy: 0.369\n",
      "F1: 0.184\n",
      "Recall: 0.404\n",
      "Precision: 0.119\n",
      "(7325,)\n",
      "Accuracy: 0.523\n",
      "F1: 0.218\n",
      "Recall: 0.377\n",
      "Precision: 0.153\n",
      "(7325,)\n",
      "Accuracy: 0.388\n",
      "F1: 0.225\n",
      "Recall: 0.506\n",
      "Precision: 0.145\n",
      "(7325,)\n",
      "Accuracy: 0.375\n",
      "F1: 0.234\n",
      "Recall: 0.542\n",
      "Precision: 0.149\n",
      "(7325,)\n",
      "Accuracy: 0.668\n",
      "F1: 0.344\n",
      "Recall: 0.494\n",
      "Precision: 0.263\n",
      "(7325,)\n",
      "Accuracy: 0.580\n",
      "F1: 0.086\n",
      "Recall: 0.112\n",
      "Precision: 0.069\n",
      "(7325,)\n",
      "Accuracy: 0.509\n",
      "F1: 0.154\n",
      "Recall: 0.254\n",
      "Precision: 0.111\n",
      "(7325,)\n",
      "Accuracy: 0.277\n",
      "F1: 0.024\n",
      "Recall: 0.050\n",
      "Precision: 0.015\n",
      "(7325,)\n",
      "Accuracy: 0.544\n",
      "F1: 0.279\n",
      "Recall: 0.500\n",
      "Precision: 0.193\n"
     ]
    }
   ],
   "source": [
    "for seed, model in enumerate(temporal_models):\n",
    "    Li_dev = torch.LongTensor(MRI_data_temporal['Li_dev'].cpu().numpy())\n",
    "    R_pred_frame = model.predict_proba(Li_dev.to(device)) #predict per sequence\n",
    "\n",
    "    #find sequence label config. with highest prob.\n",
    "    config_index = np.argmax(R_pred_frame.detach().cpu().numpy(), axis=1) \n",
    "    R_pred_config = model.feasible_y[config_index]\n",
    "    R_pred_max = torch.FloatTensor(np.max(R_pred_frame.detach().cpu().numpy(), axis=1))\n",
    "\n",
    "    #for each 1 in config, multiply by prob. label for sequence (1-prob label otherwise)\n",
    "    R_pred_probs = torch.FloatTensor(R_pred_config.shape)\n",
    "    for idx in range(R_pred_config.shape[0]):\n",
    "        R_pred_probs[idx,:] = torch.LongTensor(R_pred_config[idx,:].cpu()).float()*R_pred_max[idx]\n",
    "\n",
    "    R_pred_probs = R_pred_probs.numpy()\n",
    "    R_pred_probs[R_pred_probs < 0] = 1+R_pred_probs[R_pred_probs < 0]\n",
    "\n",
    "    Li_dev = torch.LongTensor(MRI_data_temporal['Li_dev'].cpu().numpy())\n",
    "    R_pred_frame = model.predict_proba(Li_dev.to(device)) #predict per sequence\n",
    "\n",
    "    #find sequence label config. with highest prob.\n",
    "    config_index = np.argmax(R_pred_frame.detach().cpu().numpy(), axis=1) \n",
    "    R_pred_config = model.feasible_y[config_index]\n",
    "    R_pred_max = torch.FloatTensor(np.max(R_pred_frame.detach().cpu().numpy(), axis=1))\n",
    "\n",
    "    #for each 1 in config, multiply by prob. label for sequence (1-prob label otherwise)\n",
    "    R_pred_probs = torch.FloatTensor(R_pred_config.shape)\n",
    "    for idx in range(R_pred_config.shape[0]):\n",
    "        R_pred_probs[idx,:] = torch.LongTensor(R_pred_config[idx,:].cpu()).float()*R_pred_max[idx]\n",
    "\n",
    "    R_pred_probs = R_pred_probs.numpy()\n",
    "    R_pred_probs[R_pred_probs < 0] = 1+R_pred_probs[R_pred_probs < 0]\n",
    "    R_pred_frame_label = np.round(R_pred_probs.ravel())\n",
    "    R_pred_frame_label[R_pred_frame_label == 0.] = 2.\n",
    "\n",
    "    for metric in ['accuracy', 'f1', 'recall', 'precision']:\n",
    "        score = metric_score(Y_dev.cpu(), R_pred_frame_label, metric)\n",
    "        print(f\"{metric.capitalize()}: {score:.3f}\")"
   ]
  },
  {
   "cell_type": "code",
   "execution_count": 18,
   "metadata": {},
   "outputs": [
    {
     "name": "stdout",
     "output_type": "stream",
     "text": [
      "seed=0  accuracy=0.207  F1=0.294  precision=0.175 recall=0.931 \n",
      "seed=1  accuracy=0.208  F1=0.270  precision=0.161 recall=0.823 \n",
      "seed=2  accuracy=0.730  F1=0.168  precision=0.185 recall=0.154 \n",
      "seed=3  accuracy=0.182  F1=0.300  precision=0.177 recall=0.988 \n",
      "seed=4  accuracy=0.196  F1=0.283  precision=0.168 recall=0.892 \n",
      "seed=5  accuracy=0.674  F1=0.143  precision=0.134 recall=0.154 \n",
      "seed=6  accuracy=0.812  F1=0.000  precision=0.000 recall=0.000 \n",
      "seed=7  accuracy=0.499  F1=0.193  precision=0.135 recall=0.338 \n",
      "seed=8  accuracy=0.823  F1=0.000  precision=0.000 recall=0.000 \n",
      "seed=9  accuracy=0.639  F1=0.470  precision=0.318 recall=0.904 \n"
     ]
    }
   ],
   "source": [
    "# num_iter=1 (20s wall time)\n",
    "for seed, model in enumerate(temporal_models):\n",
    "    R_pred = model.predict(MRI_data_temporal['Li_dev'])\n",
    "    F1 = metric_score(MRI_data_temporal['R_dev'].cpu()>0, R_pred.cpu()>0, 'f1')\n",
    "    accuracy = metric_score(MRI_data_temporal['R_dev'].cpu(), R_pred.cpu(), 'accuracy')\n",
    "    pre = metric_score(MRI_data_temporal['R_dev'].cpu()>0, R_pred.cpu()>0, 'precision')\n",
    "    rec = metric_score(MRI_data_temporal['R_dev'].cpu()>0, R_pred.cpu()>0, 'recall')\n",
    "    print(f\"seed={seed}  accuracy={accuracy:.3f}  F1={F1:.3f}  precision={pre:.3f} recall={rec:.3f} \")"
   ]
  },
  {
   "cell_type": "code",
   "execution_count": 20,
   "metadata": {},
   "outputs": [
    {
     "name": "stdout",
     "output_type": "stream",
     "text": [
      "seed=0  accuracy=0.177  F1=0.301  precision=0.177 recall=1.000 \n",
      "seed=1  accuracy=0.177  F1=0.301  precision=0.177 recall=1.000 \n",
      "seed=2  accuracy=0.616  F1=0.228  precision=0.177 recall=0.319 \n",
      "seed=3  accuracy=0.177  F1=0.301  precision=0.177 recall=1.000 \n",
      "seed=4  accuracy=0.174  F1=0.293  precision=0.173 recall=0.965 \n",
      "seed=5  accuracy=0.177  F1=0.301  precision=0.177 recall=1.000 \n",
      "seed=6  accuracy=0.177  F1=0.301  precision=0.177 recall=1.000 \n",
      "seed=7  accuracy=0.177  F1=0.301  precision=0.177 recall=1.000 \n",
      "seed=8  accuracy=0.739  F1=0.073  precision=0.098 recall=0.058 \n",
      "seed=9  accuracy=0.177  F1=0.301  precision=0.177 recall=1.000 \n"
     ]
    }
   ],
   "source": [
    "# num_iter=10 (40s wall time)\n",
    "for seed, model in enumerate(temporal_models):\n",
    "    R_pred = model.predict(MRI_data_temporal['Li_dev'])\n",
    "    F1 = metric_score(MRI_data_temporal['R_dev'].cpu()>0, R_pred.cpu()>0, 'f1')\n",
    "    accuracy = metric_score(MRI_data_temporal['R_dev'].cpu(), R_pred.cpu(), 'accuracy')\n",
    "    pre = metric_score(MRI_data_temporal['R_dev'].cpu()>0, R_pred.cpu()>0, 'precision')\n",
    "    rec = metric_score(MRI_data_temporal['R_dev'].cpu()>0, R_pred.cpu()>0, 'recall')\n",
    "    print(f\"seed={seed}  accuracy={accuracy:.3f}  F1={F1:.3f}  precision={pre:.3f} recall={rec:.3f} \")"
   ]
  },
  {
   "cell_type": "code",
   "execution_count": 22,
   "metadata": {},
   "outputs": [
    {
     "name": "stdout",
     "output_type": "stream",
     "text": [
      "seed=0  accuracy=0.177  F1=0.301  precision=0.177 recall=1.000 \n",
      "seed=1  accuracy=0.177  F1=0.301  precision=0.177 recall=1.000 \n",
      "seed=2  accuracy=0.177  F1=0.301  precision=0.177 recall=1.000 \n",
      "seed=3  accuracy=0.177  F1=0.301  precision=0.177 recall=1.000 \n",
      "seed=4  accuracy=0.661  F1=0.347  precision=0.263 recall=0.508 \n",
      "seed=5  accuracy=0.177  F1=0.301  precision=0.177 recall=1.000 \n",
      "seed=6  accuracy=0.177  F1=0.301  precision=0.177 recall=1.000 \n",
      "seed=7  accuracy=0.177  F1=0.301  precision=0.177 recall=1.000 \n",
      "seed=8  accuracy=0.386  F1=0.334  precision=0.207 recall=0.865 \n",
      "seed=9  accuracy=0.177  F1=0.301  precision=0.177 recall=1.000 \n"
     ]
    }
   ],
   "source": [
    "# num_iter=50 (2 min 25s wall time)\n",
    "for seed, model in enumerate(temporal_models):\n",
    "    R_pred = model.predict(MRI_data_temporal['Li_dev'])\n",
    "    F1 = metric_score(MRI_data_temporal['R_dev'].cpu()>0, R_pred.cpu()>0, 'f1')\n",
    "    accuracy = metric_score(MRI_data_temporal['R_dev'].cpu(), R_pred.cpu(), 'accuracy')\n",
    "    pre = metric_score(MRI_data_temporal['R_dev'].cpu()>0, R_pred.cpu()>0, 'precision')\n",
    "    rec = metric_score(MRI_data_temporal['R_dev'].cpu()>0, R_pred.cpu()>0, 'recall')\n",
    "    print(f\"seed={seed}  accuracy={accuracy:.3f}  F1={F1:.3f}  precision={pre:.3f} recall={rec:.3f} \")"
   ]
  },
  {
   "cell_type": "code",
   "execution_count": 24,
   "metadata": {},
   "outputs": [
    {
     "name": "stdout",
     "output_type": "stream",
     "text": [
      "seed=0  accuracy=0.177  F1=0.301  precision=0.177 recall=1.000 \n",
      "seed=1  accuracy=0.177  F1=0.301  precision=0.177 recall=1.000 \n",
      "seed=2  accuracy=0.177  F1=0.301  precision=0.177 recall=1.000 \n",
      "seed=3  accuracy=0.621  F1=0.224  precision=0.176 recall=0.308 \n",
      "seed=4  accuracy=0.823  F1=0.000  precision=0.000 recall=0.000 \n",
      "seed=5  accuracy=0.177  F1=0.301  precision=0.177 recall=1.000 \n",
      "seed=6  accuracy=0.177  F1=0.301  precision=0.177 recall=1.000 \n",
      "seed=7  accuracy=0.177  F1=0.301  precision=0.177 recall=1.000 \n",
      "seed=8  accuracy=0.177  F1=0.301  precision=0.177 recall=1.000 \n",
      "seed=9  accuracy=0.177  F1=0.301  precision=0.177 recall=1.000 \n"
     ]
    }
   ],
   "source": [
    "# num_iter=100 (4 min 28s wall time)\n",
    "for seed, model in enumerate(temporal_models):\n",
    "    R_pred = model.predict(MRI_data_temporal['Li_dev'])\n",
    "    F1 = metric_score(MRI_data_temporal['R_dev'].cpu()>0, R_pred.cpu()>0, 'f1')\n",
    "    accuracy = metric_score(MRI_data_temporal['R_dev'].cpu(), R_pred.cpu(), 'accuracy')\n",
    "    pre = metric_score(MRI_data_temporal['R_dev'].cpu()>0, R_pred.cpu()>0, 'precision')\n",
    "    rec = metric_score(MRI_data_temporal['R_dev'].cpu()>0, R_pred.cpu()>0, 'recall')\n",
    "    print(f\"seed={seed}  accuracy={accuracy:.3f}  F1={F1:.3f}  precision={pre:.3f} recall={rec:.3f} \")"
   ]
  },
  {
   "cell_type": "code",
   "execution_count": 26,
   "metadata": {},
   "outputs": [
    {
     "name": "stdout",
     "output_type": "stream",
     "text": [
      "seed=0  accuracy=0.823  F1=0.000  precision=0.000 recall=0.000 \n",
      "seed=1  accuracy=0.823  F1=0.000  precision=0.000 recall=0.000 \n",
      "seed=2  accuracy=0.823  F1=0.000  precision=0.000 recall=0.000 \n",
      "seed=3  accuracy=0.823  F1=0.000  precision=0.000 recall=0.000 \n",
      "seed=4  accuracy=0.823  F1=0.000  precision=0.000 recall=0.000 \n",
      "seed=5  accuracy=0.823  F1=0.000  precision=0.000 recall=0.000 \n",
      "seed=6  accuracy=0.823  F1=0.000  precision=0.000 recall=0.000 \n",
      "seed=7  accuracy=0.823  F1=0.000  precision=0.000 recall=0.000 \n",
      "seed=8  accuracy=0.823  F1=0.000  precision=0.000 recall=0.000 \n",
      "seed=9  accuracy=0.823  F1=0.000  precision=0.000 recall=0.000 \n"
     ]
    }
   ],
   "source": [
    "# num_iter=500 (22 min 2s wall time)\n",
    "for seed, model in enumerate(temporal_models):\n",
    "    R_pred = model.predict(MRI_data_temporal['Li_dev'])\n",
    "    F1 = metric_score(MRI_data_temporal['R_dev'].cpu()>0, R_pred.cpu()>0, 'f1')\n",
    "    accuracy = metric_score(MRI_data_temporal['R_dev'].cpu(), R_pred.cpu(), 'accuracy')\n",
    "    pre = metric_score(MRI_data_temporal['R_dev'].cpu()>0, R_pred.cpu()>0, 'precision')\n",
    "    rec = metric_score(MRI_data_temporal['R_dev'].cpu()>0, R_pred.cpu()>0, 'recall')\n",
    "    print(f\"seed={seed}  accuracy={accuracy:.3f}  F1={F1:.3f}  precision={pre:.3f} recall={rec:.3f} \")"
   ]
  },
  {
   "cell_type": "markdown",
   "metadata": {},
   "source": [
    "# Notes on runs\n",
    "\n",
    "```\n",
    "1 iteration:\n",
    "seed=0  accuracy=0.207  F1=0.294  precision=0.175 recall=0.931 \n",
    "seed=1  accuracy=0.208  F1=0.270  precision=0.161 recall=0.823 \n",
    "seed=2  accuracy=0.730  F1=0.168  precision=0.185 recall=0.154 \n",
    "seed=3  accuracy=0.182  F1=0.300  precision=0.177 recall=0.988 \n",
    "seed=4  accuracy=0.196  F1=0.283  precision=0.168 recall=0.892 \n",
    "seed=5  accuracy=0.674  F1=0.143  precision=0.134 recall=0.154 \n",
    "seed=6  accuracy=0.812  F1=0.000  precision=0.000 recall=0.000 \n",
    "seed=7  accuracy=0.499  F1=0.193  precision=0.135 recall=0.338 \n",
    "seed=8  accuracy=0.823  F1=0.000  precision=0.000 recall=0.000 \n",
    "seed=9  accuracy=0.639  F1=0.470  precision=0.318 recall=0.904\n",
    "\n",
    "10 iterations:\n",
    "seed=0  accuracy=0.177  F1=0.301  precision=0.177 recall=1.000 \n",
    "seed=1  accuracy=0.177  F1=0.301  precision=0.177 recall=1.000 \n",
    "seed=2  accuracy=0.616  F1=0.228  precision=0.177 recall=0.319 \n",
    "seed=3  accuracy=0.177  F1=0.301  precision=0.177 recall=1.000 \n",
    "seed=4  accuracy=0.174  F1=0.293  precision=0.173 recall=0.965 \n",
    "seed=5  accuracy=0.177  F1=0.301  precision=0.177 recall=1.000 \n",
    "seed=6  accuracy=0.177  F1=0.301  precision=0.177 recall=1.000 \n",
    "seed=7  accuracy=0.177  F1=0.301  precision=0.177 recall=1.000 \n",
    "seed=8  accuracy=0.739  F1=0.073  precision=0.098 recall=0.058 \n",
    "seed=9  accuracy=0.177  F1=0.301  precision=0.177 recall=1.000\n",
    "\n",
    "50 iterations:\n",
    "seed=0  accuracy=0.177  F1=0.301  precision=0.177 recall=1.000 \n",
    "seed=1  accuracy=0.177  F1=0.301  precision=0.177 recall=1.000 \n",
    "seed=2  accuracy=0.177  F1=0.301  precision=0.177 recall=1.000 \n",
    "seed=3  accuracy=0.177  F1=0.301  precision=0.177 recall=1.000 \n",
    "seed=4  accuracy=0.661  F1=0.347  precision=0.263 recall=0.508 \n",
    "seed=5  accuracy=0.177  F1=0.301  precision=0.177 recall=1.000 \n",
    "seed=6  accuracy=0.177  F1=0.301  precision=0.177 recall=1.000 \n",
    "seed=7  accuracy=0.177  F1=0.301  precision=0.177 recall=1.000 \n",
    "seed=8  accuracy=0.386  F1=0.334  precision=0.207 recall=0.865 \n",
    "seed=9  accuracy=0.177  F1=0.301  precision=0.177 recall=1.000 \n",
    "\n",
    "100 iterations:\n",
    "seed=0  accuracy=0.177  F1=0.301  precision=0.177 recall=1.000 \n",
    "seed=1  accuracy=0.177  F1=0.301  precision=0.177 recall=1.000 \n",
    "seed=2  accuracy=0.177  F1=0.301  precision=0.177 recall=1.000 \n",
    "seed=3  accuracy=0.621  F1=0.224  precision=0.176 recall=0.308 \n",
    "seed=4  accuracy=0.823  F1=0.000  precision=0.000 recall=0.000 \n",
    "seed=5  accuracy=0.177  F1=0.301  precision=0.177 recall=1.000 \n",
    "seed=6  accuracy=0.177  F1=0.301  precision=0.177 recall=1.000 \n",
    "seed=7  accuracy=0.177  F1=0.301  precision=0.177 recall=1.000 \n",
    "seed=8  accuracy=0.177  F1=0.301  precision=0.177 recall=1.000 \n",
    "seed=9  accuracy=0.177  F1=0.301  precision=0.177 recall=1.000 \n",
    "\n",
    "500 iterations:\n",
    "seed=0  accuracy=0.823  F1=0.000  precision=0.000 recall=0.000 \n",
    "seed=1  accuracy=0.823  F1=0.000  precision=0.000 recall=0.000 \n",
    "seed=2  accuracy=0.823  F1=0.000  precision=0.000 recall=0.000 \n",
    "seed=3  accuracy=0.823  F1=0.000  precision=0.000 recall=0.000 \n",
    "seed=4  accuracy=0.823  F1=0.000  precision=0.000 recall=0.000 \n",
    "seed=5  accuracy=0.823  F1=0.000  precision=0.000 recall=0.000 \n",
    "seed=6  accuracy=0.823  F1=0.000  precision=0.000 recall=0.000 \n",
    "seed=7  accuracy=0.823  F1=0.000  precision=0.000 recall=0.000 \n",
    "seed=8  accuracy=0.823  F1=0.000  precision=0.000 recall=0.000 \n",
    "seed=9  accuracy=0.823  F1=0.000  precision=0.000 recall=0.000 \n",
    "```"
   ]
  }
 ],
 "metadata": {
  "kernelspec": {
   "display_name": "Python 3",
   "language": "python",
   "name": "python3"
  },
  "language_info": {
   "codemirror_mode": {
    "name": "ipython",
    "version": 3
   },
   "file_extension": ".py",
   "mimetype": "text/x-python",
   "name": "python",
   "nbconvert_exporter": "python",
   "pygments_lexer": "ipython3",
   "version": "3.6.6"
  }
 },
 "nbformat": 4,
 "nbformat_minor": 2
}
