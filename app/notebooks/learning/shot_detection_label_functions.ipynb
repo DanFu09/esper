{
 "cells": [
  {
   "cell_type": "code",
   "execution_count": null,
   "metadata": {
    "ExecuteTime": {
     "end_time": "2019-02-21T17:52:58.697443Z",
     "start_time": "2019-02-21T17:52:58.655119Z"
    }
   },
   "outputs": [],
   "source": [
    "import scannerpy \n",
    "import scannertools as st\n",
    "import os\n",
    "from django.db.models import Q\n",
    "from query.models import Video, VideoTag, Frame\n",
    "import numpy as np\n",
    "from scipy.spatial import distance\n",
    "from esper.prelude import load_frame\n",
    "import cv2\n",
    "from tqdm import tqdm"
   ]
  },
  {
   "cell_type": "markdown",
   "metadata": {},
   "source": [
    "# Label Functions for Shot Detection\n",
    "In this notebook we're using RGB histograms, HSV histograms, optical flow histograms, and face detections to write label functions for shot detection."
   ]
  },
  {
   "cell_type": "markdown",
   "metadata": {},
   "source": [
    "# Histograms"
   ]
  },
  {
   "cell_type": "markdown",
   "metadata": {},
   "source": [
    "## Load Histograms"
   ]
  },
  {
   "cell_type": "code",
   "execution_count": null,
   "metadata": {
    "ExecuteTime": {
     "end_time": "2019-02-21T17:27:19.682570Z",
     "start_time": "2019-02-21T17:27:14.994849Z"
    }
   },
   "outputs": [],
   "source": [
    "db = scannerpy.Database()"
   ]
  },
  {
   "cell_type": "code",
   "execution_count": null,
   "metadata": {
    "ExecuteTime": {
     "end_time": "2019-02-21T17:27:45.683143Z",
     "start_time": "2019-02-21T17:27:45.635138Z"
    }
   },
   "outputs": [],
   "source": [
    "videos = Video.objects.filter(ignore_film=False).order_by('id').all()"
   ]
  },
  {
   "cell_type": "code",
   "execution_count": null,
   "metadata": {
    "ExecuteTime": {
     "end_time": "2019-02-21T17:27:48.512900Z",
     "start_time": "2019-02-21T17:27:47.749203Z"
    }
   },
   "outputs": [],
   "source": [
    "frames = [\n",
    "    range(0, video.num_frames) for video in videos\n",
    "]"
   ]
  },
  {
   "cell_type": "code",
   "execution_count": null,
   "metadata": {
    "ExecuteTime": {
     "end_time": "2019-02-21T17:28:45.448376Z",
     "start_time": "2019-02-21T17:28:45.275899Z"
    }
   },
   "outputs": [],
   "source": [
    "rgb_hists = st.histograms.compute_histograms(\n",
    "    db,\n",
    "    videos = [video.for_scannertools() for video in videos],\n",
    "    frames=frames\n",
    ")"
   ]
  },
  {
   "cell_type": "code",
   "execution_count": null,
   "metadata": {
    "ExecuteTime": {
     "end_time": "2019-02-21T17:29:07.912386Z",
     "start_time": "2019-02-21T17:29:07.668949Z"
    }
   },
   "outputs": [],
   "source": [
    "hsv_hists = st.histograms.compute_hsv_histograms(\n",
    "    db,\n",
    "    videos = [video.for_scannertools() for video in videos],\n",
    "    frames=frames\n",
    ")"
   ]
  },
  {
   "cell_type": "code",
   "execution_count": null,
   "metadata": {
    "ExecuteTime": {
     "end_time": "2019-02-21T17:27:55.652202Z",
     "start_time": "2019-02-21T17:27:55.399121Z"
    }
   },
   "outputs": [],
   "source": [
    "of_hists = st.histograms.compute_flow_histograms(\n",
    "    db,\n",
    "    videos = [video.for_scannertools() for video in videos],\n",
    "    frames=frames\n",
    ")"
   ]
  },
  {
   "cell_type": "markdown",
   "metadata": {},
   "source": [
    "## Label functions for histograms"
   ]
  },
  {
   "cell_type": "code",
   "execution_count": null,
   "metadata": {
    "ExecuteTime": {
     "end_time": "2019-02-21T17:45:25.520149Z",
     "start_time": "2019-02-21T17:45:25.479718Z"
    }
   },
   "outputs": [],
   "source": [
    "WINDOW_SIZE = 500\n",
    "POSITIVE_OUTLIER_THRESHOLD = 2.5\n",
    "NEGATIVE_OUTLIER_THRESHOLD = 1.0"
   ]
  },
  {
   "cell_type": "code",
   "execution_count": null,
   "metadata": {
    "ExecuteTime": {
     "end_time": "2019-02-21T17:47:05.406556Z",
     "start_time": "2019-02-21T17:47:05.349778Z"
    }
   },
   "outputs": [],
   "source": [
    "def labels_from_color_histograms(histogram):\n",
    "    histogram=list(histogram)\n",
    "\n",
    "    # Compute the mean difference between each pair of adjacent frames\n",
    "    diffs = np.array([\n",
    "        np.mean([distance.chebyshev(histogram[i - 1][j], histogram[i][j]) for j in range(3)])\n",
    "        for i in range(1, len(histogram))\n",
    "    ])\n",
    "    diffs = np.insert(diffs, 0, 0)\n",
    "    n = len(diffs)\n",
    "\n",
    "    # Do simple outlier detection to find boundaries between shots\n",
    "    positive_boundaries = []\n",
    "    negative_boundaries = []\n",
    "    for i in range(1, n):\n",
    "        window = diffs[max(i - WINDOW_SIZE, 0):min(i + WINDOW_SIZE, n)]\n",
    "        if diffs[i] - np.mean(window) > POSITIVE_OUTLIER_THRESHOLD * np.std(window):\n",
    "            positive_boundaries.append(i)\n",
    "        if diffs[i] - np.mean(window) < NEGATIVE_OUTLIER_THRESHOLD * np.std(window):\n",
    "            negative_boundaries.append(i)\n",
    "\n",
    "    return positive_boundaries, negative_boundaries"
   ]
  },
  {
   "cell_type": "code",
   "execution_count": null,
   "metadata": {
    "ExecuteTime": {
     "end_time": "2019-02-21T17:57:55.452200Z",
     "start_time": "2019-02-21T17:56:56.193990Z"
    }
   },
   "outputs": [],
   "source": [
    "rgb_positive_labels = []\n",
    "hsv_positive_labels = []\n",
    "rgb_negative_labels = []\n",
    "hsv_negative_labels = []\n",
    "for video, rgb_hist, hsv_hist in tqdm(zip(videos, rgb_hists, hsv_hists), total=len(videos)):\n",
    "    if rgb_hist is None:\n",
    "        print('RGB hist for {} is None'.format(video.title))\n",
    "    if hsv_hist is None:\n",
    "        print('RGB hist for {} is None'.format(video.title))\n",
    "    pos_rgb, neg_rgb = labels_from_color_histograms(rgb_hist.load(workers=1)) if rgb_hist is not None else [], []\n",
    "    pos_hsv, neg_hsv = labels_from_color_histograms(hsv_hist.load(workers=1)) if hsv_hist is not None else [], []\n",
    "    \n",
    "    rgb_positive_labels.append(pos_rgb)\n",
    "    hsv_positive_labels.append(pos_hsv)\n",
    "    rgb_negative_labels.append(neg_rgb)\n",
    "    hsv_negative_labels.append(neg_hsv)"
   ]
  }
 ],
 "metadata": {
  "kernelspec": {
   "display_name": "Django Shell-Plus",
   "language": "python",
   "name": "django_extensions"
  },
  "language_info": {
   "codemirror_mode": {
    "name": "ipython",
    "version": 3
   },
   "file_extension": ".py",
   "mimetype": "text/x-python",
   "name": "python",
   "nbconvert_exporter": "python",
   "pygments_lexer": "ipython3",
   "version": "3.5.2"
  },
  "toc": {
   "nav_menu": {},
   "number_sections": true,
   "sideBar": true,
   "skip_h1_title": false,
   "toc_cell": false,
   "toc_position": {},
   "toc_section_display": "block",
   "toc_window_display": false
  }
 },
 "nbformat": 4,
 "nbformat_minor": 2
}
