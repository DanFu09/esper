{
 "cells": [
  {
   "cell_type": "markdown",
   "metadata": {
    "toc": true
   },
   "source": [
    "<h1>Table of Contents<span class=\"tocSkip\"></span></h1>\n",
    "<div class=\"toc\" style=\"margin-top: 1em;\"><ul class=\"toc-item\"><li><span><a href=\"#Designate-a-Set-of-Movies\" data-toc-modified-id=\"Designate-a-Set-of-Movies-1\"><span class=\"toc-item-num\">1&nbsp;&nbsp;</span>Designate a Set of Movies</a></span></li><li><span><a href=\"#Designate-a-Set-of-Characters\" data-toc-modified-id=\"Designate-a-Set-of-Characters-2\"><span class=\"toc-item-num\">2&nbsp;&nbsp;</span>Designate a Set of Characters</a></span></li><li><span><a href=\"#Initialize-Notebook-State\" data-toc-modified-id=\"Initialize-Notebook-State-3\"><span class=\"toc-item-num\">3&nbsp;&nbsp;</span>Initialize Notebook State</a></span></li><li><span><a href=\"#Do-Clustering-Pass\" data-toc-modified-id=\"Do-Clustering-Pass-4\"><span class=\"toc-item-num\">4&nbsp;&nbsp;</span>Do Clustering Pass</a></span></li><li><span><a href=\"#Do-Search-Pass\" data-toc-modified-id=\"Do-Search-Pass-5\"><span class=\"toc-item-num\">5&nbsp;&nbsp;</span>Do Search Pass</a></span><ul class=\"toc-item\"><li><span><a href=\"#Save-the-Results\" data-toc-modified-id=\"Save-the-Results-5.1\"><span class=\"toc-item-num\">5.1&nbsp;&nbsp;</span>Save the Results</a></span></li></ul></li></ul></div>"
   ]
  },
  {
   "cell_type": "markdown",
   "metadata": {
    "hide_input": true
   },
   "source": [
    "<b>Imports and Setup. Run the initialization cells.<b>"
   ]
  },
  {
   "cell_type": "code",
   "execution_count": 4,
   "metadata": {
    "ExecuteTime": {
     "end_time": "2018-12-18T02:42:46.238664Z",
     "start_time": "2018-12-18T02:42:44.167854Z"
    },
    "hide_input": true,
    "init_cell": true
   },
   "outputs": [
    {
     "name": "stdout",
     "output_type": "stream",
     "text": [
      "The following videos have faces:\n",
      "   brooklyn\n",
      "   harry potter and the chamber of secrets\n",
      "   harry potter and the deathly hallows part 1\n",
      "   harry potter and the deathly hallows part 2\n",
      "   harry potter and the goblet of fire\n",
      "   harry potter and the halfblood prince\n",
      "   harry potter and the order of the phoenix\n",
      "   harry potter and the prisoner of azkaban\n",
      "   harry potter and the sorcerers stone\n",
      "   mr mrs smith\n",
      "   pillow talk\n",
      "   star wars episode ii attack of the clones\n",
      "   star wars episode iii revenge of the sith\n",
      "   star wars episode i the phantom menace\n",
      "   star wars episode iv a new hope\n",
      "   star wars episode vi return of the jedi\n",
      "   star wars episode v the empire strikes back\n",
      "   star wars the force awakens\n",
      "   the godfather\n",
      "   the godfather part ii\n",
      "   the godfather part iii\n"
     ]
    }
   ],
   "source": [
    "from IPython.display import display, clear_output\n",
    "import ipywidgets as widgets\n",
    "import datetime\n",
    "import itertools\n",
    "import io\n",
    "import os\n",
    "import time\n",
    "import math\n",
    "import random\n",
    "import numpy as np\n",
    "np.warnings.filterwarnings('ignore')\n",
    "import pickle\n",
    "from collections import defaultdict\n",
    "from django.db import transaction\n",
    "\n",
    "from esper.stdlib import *\n",
    "from esper.prelude import *\n",
    "import esper.face_embeddings as face_embeddings\n",
    "\n",
    "NUM_PER_PAGE = 25\n",
    "\n",
    "def flatten(l):\n",
    "    return [item for sublist in l for item in sublist]\n",
    "\n",
    "def query_faces(ids):\n",
    "    faces = Face.objects.filter(id__in=ids)\n",
    "    return faces.values(\n",
    "        'id', 'bbox_y1', 'bbox_y2', 'bbox_x1', 'bbox_x2',\n",
    "        'frame__number', 'frame__video__id', 'frame__video__fps',\n",
    "        'shot__min_frame', 'shot__max_frame')\n",
    "\n",
    "def query_sample(qs, n):\n",
    "    return qs.order_by('?')[:n]\n",
    "\n",
    "def query_faces_result(faces, expand_bbox=0.05):\n",
    "    \"\"\"Replaces qs_to_result\"\"\"\n",
    "    result = []\n",
    "    for face in faces:\n",
    "        min_frame = face['frame__number']\n",
    "        face_result = {\n",
    "            'type': 'flat', 'label': '', \n",
    "            'elements': [{\n",
    "                'objects': [{\n",
    "                    'id': face['id'],\n",
    "                    'background': False,\n",
    "                    'type': 'bbox',\n",
    "                    'bbox_y1': max(face['bbox_y1'] - expand_bbox, 0),\n",
    "                    'bbox_y2': min(face['bbox_y2'] + expand_bbox, 1),\n",
    "                    'bbox_x1': max(face['bbox_x1'] - expand_bbox, 0),\n",
    "                    'bbox_x2': min(face['bbox_x2'] + expand_bbox, 1),\n",
    "                }], \n",
    "                'min_frame': min_frame,\n",
    "                'video': face['frame__video__id']\n",
    "            }]\n",
    "        }\n",
    "        result.append(face_result)\n",
    "    return {'type': 'Face', 'count': 0, 'result': result}\n",
    "\n",
    "def sort_ids_by_distance(ids, embs):\n",
    "    dists = face_embeddings.dist(ids, targets=embs)\n",
    "    return [i for _, i in sorted(zip(dists, ids))]\n",
    "\n",
    "def sort_faces_by_distance(faces, embs, ascending=False):\n",
    "    ids = [f['id'] for f in faces]\n",
    "    id_to_dist = {\n",
    "        k: v for k, v in zip(ids, face_embeddings.dist(ids, targets=embs))\n",
    "    }\n",
    "    order_const = 1 if ascending else -1\n",
    "    faces.sort(key=lambda x: order_const * id_to_dist[x['id']])\n",
    "    return faces\n",
    "\n",
    "def get_clusters(face_ids, k):\n",
    "    clusters = [[] for _ in range(k)]\n",
    "    for i, c in face_embeddings.kmeans(face_ids, k):\n",
    "        clusters[c].append(i)\n",
    "    clusters.sort(key=lambda x: -len(x))\n",
    "    return clusters\n",
    "\n",
    "def get_clusters_recursive(face_ids, max_size=1000):\n",
    "    clusters = []\n",
    "    branch = math.ceil(len(face_ids) / max_size)\n",
    "    for c in get_clusters(face_ids, branch):\n",
    "        if len(c) > max_size:\n",
    "            clusters.extend(get_clusters_recursive(c, max_size))\n",
    "        else:\n",
    "            clusters.append(c)\n",
    "    clusters.sort(key=lambda x: -len(x))\n",
    "    return clusters\n",
    "\n",
    "def get_faces(videos):\n",
    "    face_ids = [f['id']for f in Face.objects.filter(frame__video__in=videos).values('id')]\n",
    "    print('Selected films contain {} faces'.format(len(face_ids)))\n",
    "    embs_exist = face_embeddings.exists(face_ids)\n",
    "    if not all(embs_exist):\n",
    "        print('Missing {} face embeddings'.format(len(face_ids) - sum(embs_exist)),\n",
    "              file=sys.stderr)\n",
    "    face_dict = {f['id']: f for f in query_faces(face_ids)}\n",
    "    assert len(face_ids) == len(face_dict)\n",
    "    return face_ids, face_dict\n",
    "\n",
    "def parse_identity_list(text):\n",
    "    identities = set()\n",
    "    for line in text.split('\\n'):\n",
    "        line = line.strip()\n",
    "        if len(line) == 0:\n",
    "            continue\n",
    "        name, character = line.lower().split(',', 1)\n",
    "        name = name.strip()\n",
    "        character = character.strip()\n",
    "        if len(name) == 0:\n",
    "            raise ValueError('Name cannot be empty')\n",
    "        if len(character) == 0:\n",
    "            raise ValueError('Character cannot be empty')\n",
    "        identities.add((name, character))\n",
    "    if len(identities) == 0:\n",
    "        raise ValueError('No identities specified')\n",
    "    return identities\n",
    "\n",
    "def exclude_labeled_faces(face_ids):\n",
    "    exclude_set = {\n",
    "        f['face__id'] for f in FaceIdentity.objects.filter(\n",
    "            face__id__in=face_ids\n",
    "        ).distinct('face__id').values('face__id')\n",
    "    }\n",
    "    return [i for i in face_ids if i not in exclude_set]\n",
    "\n",
    "def show_people_textbox():\n",
    "    people_textbox = widgets.Textarea(\n",
    "        value='',\n",
    "        layout=widgets.Layout(width='auto', height='400px'),\n",
    "        style={'description_width': 'initial'},\n",
    "        placeholder='e.g., Daniel Radclife, Harry Potter',\n",
    "        description='<b>People:</b> name, identity (1 per line)',\n",
    "        disabled=False\n",
    "    )\n",
    "    valid_checkbox = widgets.Valid(\n",
    "        value=False,\n",
    "        style={'description_width': 'initial'},\n",
    "        description='<b>Valid?</b>',\n",
    "    )\n",
    "    def update(b):\n",
    "        global people\n",
    "        try:\n",
    "            people = parse_identity_list(people_textbox.value)\n",
    "            valid_checkbox.value = True\n",
    "        except:\n",
    "            people = []\n",
    "            valid_checkbox.value = False\n",
    "    people_textbox.observe(update, names='value')\n",
    "    display(people_textbox)\n",
    "    display(valid_checkbox)\n",
    "    \n",
    "def format_identity(person, character):\n",
    "    return '{} :: {}'.format(person, character)\n",
    "\n",
    "def parse_identity(s):\n",
    "    return tuple(s.split(' :: '))\n",
    "\n",
    "def get_identity_options():\n",
    "    return [''] + [format_identity(*x) for x in sorted(\n",
    "                   people, key=lambda y: y[1])]\n",
    "\n",
    "def get_searchable_identity_dropdown():\n",
    "    identity_dropdown = widgets.Dropdown(\n",
    "        options=get_identity_options(),\n",
    "        value='',\n",
    "        description='Person:',\n",
    "        disabled=False\n",
    "    )\n",
    "    identity_text = widgets.Text(\n",
    "        value='',\n",
    "        placeholder='search...',\n",
    "        continuous_update=True,\n",
    "        disabled=False\n",
    "    )\n",
    "    def on_update(b):\n",
    "        identity_options = get_identity_options()\n",
    "        identity_dropdown.options = identity_options\n",
    "        search_value = identity_text.value.strip().lower()\n",
    "        for opt in identity_options:\n",
    "            if search_value in opt:\n",
    "                identity_dropdown.value = opt\n",
    "                break\n",
    "        else:\n",
    "            identity_dropdown.value = identity_options[0]\n",
    "    identity_text.observe(on_update, names='value')\n",
    "    return identity_text, identity_dropdown\n",
    "\n",
    "def int_prompt(msg, min_val, max_val, default):\n",
    "    line = input('{}, range=[{}, {}], default={}: '.format(\n",
    "                 msg, min_val, max_val, default)).strip()\n",
    "    if line == '':\n",
    "        value = default\n",
    "    else:\n",
    "        value = int(line)\n",
    "    if value < min_val or value > max_val:\n",
    "        raise ValueError('Out of range.')\n",
    "    return value\n",
    "\n",
    "def prepare_orm_objects(person_to_clusters):\n",
    "    # Need 2 labelers to get around unique constraint\n",
    "    time_str = datetime.datetime.now().strftime('%Y-%m-%d-%H:%M:%S')\n",
    "    actor_labeler_name = 'cluster-actor-{}'.format(time_str)\n",
    "    actor_labeler = Labeler.objects.create(name=actor_labeler_name)\n",
    "    print('Labeler created:', actor_labeler_name)\n",
    "    \n",
    "    character_labeler_name = 'cluster-role-{}'.format(time_str)\n",
    "    character_labeler = Labeler.objects.create(name=character_labeler_name)\n",
    "    print('Labeler created:', character_labeler_name)\n",
    "    \n",
    "    face_identities = []\n",
    "    for identity, clusters in person_to_clusters.items():\n",
    "        cluster_face_ids = set(flatten(clusters))\n",
    "        if len(cluster_face_ids) == 0:\n",
    "            print('Skipping: no faces for {}'.format(identity), file=sys.stderr)\n",
    "            continue\n",
    "\n",
    "        actor_name, character_name = identity\n",
    "        actor, created = Identity.objects.get_or_create(name=actor_name)\n",
    "        if created:\n",
    "            print('Identity created (actor/actress):', actor_name)\n",
    "        character, created = Identity.objects.get_or_create(name=character_name)\n",
    "        if created:\n",
    "            print('Identity created (character):', character_name)\n",
    "\n",
    "        for i in cluster_face_ids:\n",
    "            face_identities.append(FaceIdentity(\n",
    "                labeler=actor_labeler,\n",
    "                face_id=i,\n",
    "                probability=1.,\n",
    "                identity=actor\n",
    "            ))\n",
    "            face_identities.append(FaceIdentity(\n",
    "                labeler=character_labeler,\n",
    "                face_id=i,\n",
    "                probability=1.,\n",
    "                identity=character\n",
    "            ))\n",
    "    return (actor_labeler, character_labeler), face_identities\n",
    "\n",
    "def save_orm_objects(face_identities):\n",
    "    print('Commiting {} face identity labels'.format(len(face_identities)))\n",
    "    with transaction.atomic():\n",
    "        FaceIdentity.objects.bulk_create(face_identities)\n",
    "    print('Done!')\n",
    "\n",
    "def print_videos(videos):\n",
    "    print('You selected {} videos:'.format(videos.count()))\n",
    "    for v in videos:\n",
    "        print('  ', v.name)\n",
    "    \n",
    "def print_videos_with_faces():\n",
    "    print('The following videos have faces:')\n",
    "    key = 'face__frame__video__name'\n",
    "    for f in FaceFeatures.objects.distinct(key).values(key):\n",
    "        print('  ', f[key])\n",
    "        \n",
    "print_videos_with_faces()"
   ]
  },
  {
   "cell_type": "markdown",
   "metadata": {
    "hide_input": true
   },
   "source": [
    "# Designate a Set of Movies\n",
    "\n",
    "`videos` needs to be a DjangoQuerySet "
   ]
  },
  {
   "cell_type": "code",
   "execution_count": null,
   "metadata": {
    "ExecuteTime": {
     "end_time": "2018-12-18T01:51:56.152769Z",
     "start_time": "2018-12-18T01:51:56.126858Z"
    }
   },
   "outputs": [],
   "source": [
    "videos = Video.objects.filter(name='star wars episode iv a new hope')"
   ]
  },
  {
   "cell_type": "code",
   "execution_count": null,
   "metadata": {
    "ExecuteTime": {
     "end_time": "2018-12-18T01:51:57.114718Z",
     "start_time": "2018-12-18T01:51:57.079180Z"
    }
   },
   "outputs": [],
   "source": [
    "print_videos(videos)"
   ]
  },
  {
   "cell_type": "markdown",
   "metadata": {},
   "source": [
    "# Designate a Set of Characters\n",
    "\n",
    "Use the get_imdb_actor_list notebook to fetch all of the actors/actresses. Or enter them manually."
   ]
  },
  {
   "cell_type": "code",
   "execution_count": null,
   "metadata": {
    "ExecuteTime": {
     "end_time": "2018-12-18T01:52:00.429631Z",
     "start_time": "2018-12-18T01:52:00.383012Z"
    }
   },
   "outputs": [],
   "source": [
    "show_people_textbox()"
   ]
  },
  {
   "cell_type": "markdown",
   "metadata": {},
   "source": [
    "# Initialize Notebook State\n",
    "\n",
    "Global variables to track labeling state."
   ]
  },
  {
   "cell_type": "code",
   "execution_count": null,
   "metadata": {
    "ExecuteTime": {
     "end_time": "2018-12-18T01:52:07.441854Z",
     "start_time": "2018-12-18T01:52:06.277694Z"
    }
   },
   "outputs": [],
   "source": [
    "person_to_clusters = defaultdict(list)\n",
    "unassigned_face_ids, face_dict = get_faces(videos)\n",
    "initial_num_faces = len(unassigned_face_ids)"
   ]
  },
  {
   "cell_type": "markdown",
   "metadata": {},
   "source": [
    "<b>Optional: filter to only unlabeled faces</b>"
   ]
  },
  {
   "cell_type": "code",
   "execution_count": null,
   "metadata": {
    "ExecuteTime": {
     "end_time": "2018-12-18T01:52:09.407063Z",
     "start_time": "2018-12-18T01:52:09.157465Z"
    }
   },
   "outputs": [],
   "source": [
    "unassigned_face_ids = exclude_labeled_faces(unassigned_face_ids)"
   ]
  },
  {
   "cell_type": "markdown",
   "metadata": {},
   "source": [
    "# Do Clustering Pass\n",
    "\n",
    "The idea of this section is that by clustering across all of the unassigned faces and making assignments, main characters will be captured. `do_clustering_pass()` uses k-means clustering to compute clusters of the maximum size specified.\n",
    "\n",
    "When evaluating the clusters, the options are to accept, ignore (removes the faces from being clustered), or split (returns the faces to unassigned). You add more names, just be sure to refresh the list of people for the person to appear. \n",
    "\n",
    "Pressing \"finish clustering pass\" will return any unselected clusters to the unassigned pool, while committing your other selections. After you click this, some stats will be printed.\n",
    "\n",
    "You can re-run the cell to do additional clustering passes.\n",
    "\n",
    "<b>To expand a frame, hover and press '='. Press '=' again to shrink it.</b> \n",
    "\n",
    "<b>There is a hidden initialization cell below.<b>"
   ]
  },
  {
   "cell_type": "code",
   "execution_count": 5,
   "metadata": {
    "ExecuteTime": {
     "end_time": "2018-12-18T02:42:46.533508Z",
     "start_time": "2018-12-18T02:42:46.243054Z"
    },
    "hide_input": true,
    "init_cell": true,
    "scrolled": false
   },
   "outputs": [
    {
     "name": "stdout",
     "output_type": "stream",
     "text": [
      "Initialization code succeeded\n"
     ]
    }
   ],
   "source": [
    "SUB_CLUSTER_THRESH = 100\n",
    "SUB_CLUSTER_COUNT = 5\n",
    "\n",
    "def visualize_cluster(cluster_id, face_ids, ignored_ids, unassigned_ids, \n",
    "                      clusters_done, sort='random'):\n",
    "    print('Cluster has {} faces'.format(len(face_ids)))\n",
    "    if sort != 'random':\n",
    "        if len(face_ids) > SUB_CLUSTER_THRESH:\n",
    "            sub_clusters = get_clusters(face_ids, SUB_CLUSTER_COUNT)\n",
    "        else:\n",
    "            sub_clusters = face_ids\n",
    "        mean_embs = [face_embeddings.mean(c) for c in sub_clusters]\n",
    "        face_ids = sort_ids_by_distance(face_ids, mean_embs)\n",
    "        if sort == 'descending':\n",
    "            face_ids = face_ids[::-1]\n",
    "    else:\n",
    "        random.shuffle(face_ids)\n",
    "    faces = [face_dict[i] for i in face_ids]\n",
    "\n",
    "    sort_button = widgets.ToggleButtons(\n",
    "        options=['random', 'ascending', 'descending'],\n",
    "        value=sort,\n",
    "         style={'description_width': 'initial'},\n",
    "        description='Sort (by L2-distance to centers):',\n",
    "        disabled=False,\n",
    "        button_style=''\n",
    "    )\n",
    "    def refresh(b):\n",
    "        new_sort = sort_button.value\n",
    "        clear_output()\n",
    "        visualize_cluster(cluster_id, face_ids, ignored_ids, unassigned_ids, \n",
    "                          clusters_done, sort=new_sort)\n",
    "    sort_button.observe(refresh, names='value')\n",
    "    display(sort_button)\n",
    "    \n",
    "    identity_text, identity_dropdown = get_searchable_identity_dropdown()\n",
    "    \n",
    "    accept_button = widgets.Button(description='Accept cluster', button_style='success')\n",
    "    def on_accept(b):\n",
    "        person = identity_dropdown.value\n",
    "        clear_output()\n",
    "        if person == '':\n",
    "            print('No person specified. Cluster ignored.', file=sys.stderr)\n",
    "            ignored_ids.update(face_ids)\n",
    "        else:\n",
    "            person = parse_identity(person)\n",
    "            person_to_clusters[person].append(face_ids)\n",
    "            print('Assigned cluster to {} ({}).'.format(person, len(face_ids)))\n",
    "        clusters_done.add(cluster_id)\n",
    "    accept_button.on_click(on_accept)\n",
    "    ignore_button = widgets.Button(description='Ignore cluster', button_style='danger')\n",
    "    def on_ignore(b):\n",
    "        ignored_ids.update(face_ids)\n",
    "        clusters_done.add(cluster_id)\n",
    "        clear_output()\n",
    "        print('Ignored cluster ({} faces).'.format(len(face_ids)))\n",
    "    ignore_button.on_click(on_ignore)\n",
    "    reject_button = widgets.Button(description='Split cluster', button_style='warning')\n",
    "    def on_reject(b):\n",
    "        unassigned_ids.update(face_ids)\n",
    "        clusters_done.add(cluster_id)\n",
    "        clear_output()\n",
    "        print('Returned cluster to unassigned set ({} faces).'.format(len(face_ids)))\n",
    "    reject_button.on_click(on_reject)\n",
    "    \n",
    "    cluster_widget = esper_widget(\n",
    "        query_faces_result(faces), results_per_page=NUM_PER_PAGE, \n",
    "        crop_bboxes=True, jupyter_keybindings=True, disable_playback=True)\n",
    "    display(widgets.HBox([accept_button, ignore_button, reject_button,\n",
    "                          identity_dropdown, identity_text]))\n",
    "    display(cluster_widget)\n",
    "    \n",
    "def do_clustering_pass(ids, branch=10):\n",
    "    print('Clustering {} faces.'.format(len(ids)))\n",
    "    default_size = math.ceil(len(ids) / branch / 100) * 100\n",
    "    cluster_size = int_prompt('Specify a maximum cluster size',\n",
    "                              100, max(default_size, 5000), default_size)\n",
    "    \n",
    "    clusters = get_clusters_recursive(ids, max_size=cluster_size)\n",
    "    print('Found {} clusters. (Ordered from largest to smallest).'.format(len(clusters)))\n",
    "    \n",
    "    unassigned_ids = set()\n",
    "    ignored_ids = set()\n",
    "    clusters_done = set()\n",
    "    \n",
    "    outputs = [widgets.Output() for _ in range(len(clusters))]\n",
    "    tabs = widgets.Tab(children=outputs)\n",
    "    for i in range(len(clusters)):\n",
    "        tabs.set_title(i, str(i))\n",
    "    tabs_loaded = set()\n",
    "    def load_current_tab(b):\n",
    "        i = tabs.selected_index\n",
    "        if not i in tabs_loaded:\n",
    "            tabs_loaded.add(i)\n",
    "        with outputs[i]:\n",
    "            visualize_cluster(i, clusters[i], ignored_ids, unassigned_ids,\n",
    "                              clusters_done)\n",
    "    tabs.observe(load_current_tab, names='selected_index')\n",
    "    load_current_tab(None)\n",
    "    \n",
    "    finish_button = widgets.Button(description='Finish clustering pass',\n",
    "                                   button_style='success')\n",
    "    def on_finish(b):\n",
    "        clear_output()\n",
    "        if not len(clusters_done) == len(clusters):\n",
    "            remaining_clusters = set(range(len(clusters))) - clusters_done\n",
    "            print('Not all clusters selected... (treating them as unassigned)')\n",
    "            for c in remaining_clusters:\n",
    "                unassigned_ids.update(clusters[c])\n",
    "        finish_button.disabled = True\n",
    "        assigned_count = len(ids) - len(ignored_ids) - len(unassigned_ids)\n",
    "        print('Clustering pass statistics:')\n",
    "        print('  ', 'Assigned: {}'.format(assigned_count))\n",
    "        print('  ', 'Ignored: {}'.format(len(ignored_ids)))\n",
    "        print('  ', 'Unassigned: {}'.format(len(unassigned_ids)))\n",
    "        global unassigned_face_ids\n",
    "        unassigned_face_ids = list(unassigned_ids)\n",
    "        \n",
    "        print()\n",
    "        print_assignment_state()\n",
    "    finish_button.on_click(on_finish)\n",
    "    display(tabs)\n",
    "    display(finish_button)\n",
    "    \n",
    "def print_assignment_state():\n",
    "    print('{} faces are unassigned (of {} initially)'.format(\n",
    "          len(unassigned_face_ids), initial_num_faces))\n",
    "    if len(person_to_clusters) > 0:\n",
    "        print('The following people have faces assigned:')\n",
    "        for k, v in sorted(person_to_clusters.items()):\n",
    "            id_set = set()\n",
    "            for c in v:\n",
    "                id_set.update(c)\n",
    "            print('  {}: {}'.format(k, len(id_set)))\n",
    "    else:\n",
    "        print('No people have faces assigned.')\n",
    "        \n",
    "print('Initialization code succeeded')"
   ]
  },
  {
   "cell_type": "code",
   "execution_count": null,
   "metadata": {
    "ExecuteTime": {
     "end_time": "2018-12-18T01:54:06.589029Z",
     "start_time": "2018-12-18T01:54:06.559009Z"
    },
    "hide_input": false
   },
   "outputs": [],
   "source": [
    "print_assignment_state()"
   ]
  },
  {
   "cell_type": "code",
   "execution_count": null,
   "metadata": {
    "ExecuteTime": {
     "end_time": "2018-12-18T02:31:32.915707Z",
     "start_time": "2018-12-18T02:31:31.050288Z"
    },
    "scrolled": false
   },
   "outputs": [],
   "source": [
    "do_clustering_pass(unassigned_face_ids)"
   ]
  },
  {
   "cell_type": "markdown",
   "metadata": {},
   "source": [
    "# Do Search Pass\n",
    "\n",
    "This is useful for selecting specific unclustered people. The idea is to find 1 or more examples of a person, and then to sort all the unassigned faces by distance to these examples.\n",
    "\n",
    "First, you will be shown unassigned faces at random. Select 1 or more examples of the person you want to label from this set. <b>To select an example, press '['.</b> Hit submit when you are ready to move on to the next step.\n",
    "\n",
    "Next, you will be shown the remaining unassigned faces in order of ascending distance. Select all the faces that are of this person. <b>To select a page of examples, press '{' (i.e., 'shift + ['). To deselect a face, press '[' while hovering over it.</b> Hit submit to finish the assignment.\n",
    "\n",
    "<b>There is a hidden initialization cell below.<b>"
   ]
  },
  {
   "cell_type": "code",
   "execution_count": 6,
   "metadata": {
    "ExecuteTime": {
     "end_time": "2018-12-18T02:42:46.683869Z",
     "start_time": "2018-12-18T02:42:46.536361Z"
    },
    "hide_input": true,
    "init_cell": true
   },
   "outputs": [
    {
     "name": "stdout",
     "output_type": "stream",
     "text": [
      "Initialization code succeeded\n"
     ]
    }
   ],
   "source": [
    "def do_search_pass(ids):\n",
    "    faces = [face_dict[i] for i in ids]\n",
    "    random.shuffle(faces)\n",
    "    \n",
    "    identity_text, identity_dropdown = get_searchable_identity_dropdown()\n",
    "    \n",
    "    def do_selection_phase(faces, example_embs):\n",
    "        faces = sort_faces_by_distance(faces, example_embs, ascending=True)\n",
    "\n",
    "        select_widget = esper_widget(\n",
    "            query_faces_result(faces), results_per_page= 4 * NUM_PER_PAGE, \n",
    "            crop_bboxes=True, jupyter_keybindings=True, disable_playback=True)\n",
    "\n",
    "        submit_button = widgets.Button(description='Submit selections', \n",
    "                                       button_style='success')\n",
    "        def on_submit(b):\n",
    "            selected_idxs = select_widget.selected\n",
    "            selected_ids = [faces[i]['id'] for i in selected_idxs]\n",
    "            person = identity_dropdown.value\n",
    "            if person == '':\n",
    "                print('No person selected... Try again.', file=sys.stderr)\n",
    "                return\n",
    "\n",
    "            clear_output()\n",
    "            person = parse_identity(person)\n",
    "            person_to_clusters[person].append(selected_ids)\n",
    "            print('Assigned {} faces to {}.'.format(len(selected_ids), person))\n",
    "\n",
    "            global unassigned_face_ids\n",
    "            unassigned_face_ids = list(set(ids) - set(selected_ids))\n",
    "\n",
    "            print()\n",
    "            print_assignment_state()\n",
    "        submit_button.on_click(on_submit)\n",
    "\n",
    "        print('Select faces matching the target person')\n",
    "        display(widgets.HBox([submit_button, identity_dropdown, identity_text]))\n",
    "        display(select_widget)\n",
    "    \n",
    "    # Submit examples from random faces\n",
    "    example_widget = esper_widget(\n",
    "        query_faces_result(faces), results_per_page=NUM_PER_PAGE, \n",
    "        crop_bboxes=True, jupyter_keybindings=True, disable_playback=True)\n",
    "    submit_example_button = widgets.Button(description='Submit examples', \n",
    "                                           button_style='success')\n",
    "    def on_example_submit(b):\n",
    "        example_idxs = example_widget.selected\n",
    "        clear_output()\n",
    "        if len(example_idxs) == 0:\n",
    "            print('No examples selected. Aborting.', file=sys.stderr)\n",
    "            return\n",
    "        else:\n",
    "            print('Selected {} examples. Ordering unassigned faces by ascending distance.'.format(\n",
    "                  len(example_idxs)))\n",
    "            print()\n",
    "        \n",
    "        example_ids = [faces[i]['id'] for i in example_idxs]\n",
    "        example_embs = [x for _, x in face_embeddings.get(example_ids)]\n",
    "        do_selection_phase(faces, example_embs)\n",
    "    submit_example_button.on_click(on_example_submit)\n",
    "    \n",
    "    # Submit examples from existing clusters\n",
    "    submit_existing_button = widgets.Button(description='Submit name', \n",
    "                                            button_style='success')\n",
    "    def on_existing_submit(b):\n",
    "        person = identity_dropdown.value\n",
    "        if person == '':\n",
    "            print('No person selected... Try again.', file=sys.stderr)\n",
    "            return\n",
    "        person = parse_identity(person)\n",
    "        if person not in person_to_clusters:\n",
    "            print('No clusters for person selected... Try someone else.', \n",
    "                  file=sys.stderr)\n",
    "            return\n",
    "        person_example_ids = set(flatten(person_to_clusters[person]))\n",
    "        if len(person_example_ids) == 0:\n",
    "            print('No examples for person selected... Try someone else.', \n",
    "                  file=sys.stderr)\n",
    "            return\n",
    "        clear_output()\n",
    "        mean_emb = face_embeddings.mean(list(person_example_ids))\n",
    "        do_selection_phase(faces, [mean_emb])\n",
    "    submit_existing_button.on_click(on_existing_submit)\n",
    "    \n",
    "    print('Select face search examples:')\n",
    "    accordion = widgets.Accordion(children=[\n",
    "        widgets.HBox([identity_dropdown, identity_text, submit_existing_button]),\n",
    "        widgets.VBox([submit_example_button, example_widget])\n",
    "    ])\n",
    "    accordion.set_title(0, 'Choose examples from existing clusters')\n",
    "    accordion.set_title(1, 'Choose examples from unassigned faces')\n",
    "    display(accordion)\n",
    "    \n",
    "print('Initialization code succeeded')"
   ]
  },
  {
   "cell_type": "code",
   "execution_count": null,
   "metadata": {
    "ExecuteTime": {
     "end_time": "2018-12-18T02:40:39.024872Z",
     "start_time": "2018-12-18T02:40:38.995382Z"
    }
   },
   "outputs": [],
   "source": [
    "print_assignment_state()"
   ]
  },
  {
   "cell_type": "code",
   "execution_count": null,
   "metadata": {
    "ExecuteTime": {
     "end_time": "2018-12-18T02:40:59.301991Z",
     "start_time": "2018-12-18T02:40:58.091592Z"
    },
    "hide_input": false,
    "scrolled": false
   },
   "outputs": [],
   "source": [
    "do_search_pass(unassigned_face_ids)"
   ]
  },
  {
   "cell_type": "markdown",
   "metadata": {},
   "source": [
    "## Save the Results\n",
    "\n",
    "This will save your labels to the database. `prepare_orm_objects()` will create labeler rows, tied to this session. The new face identity rows, corresponding to your assignments, will have foreign keys to these labelers.\n",
    "\n",
    "`save_orm_objects()` will save the identity labels to the database."
   ]
  },
  {
   "cell_type": "code",
   "execution_count": null,
   "metadata": {
    "ExecuteTime": {
     "end_time": "2018-12-13T09:09:34.726288Z",
     "start_time": "2018-12-13T09:09:34.686373Z"
    }
   },
   "outputs": [],
   "source": [
    "print_assignment_state()"
   ]
  },
  {
   "cell_type": "code",
   "execution_count": null,
   "metadata": {
    "ExecuteTime": {
     "end_time": "2018-12-13T09:09:38.149509Z",
     "start_time": "2018-12-13T09:09:37.831692Z"
    }
   },
   "outputs": [],
   "source": [
    "labelers, face_identities = prepare_orm_objects(person_to_clusters)"
   ]
  },
  {
   "cell_type": "code",
   "execution_count": null,
   "metadata": {
    "ExecuteTime": {
     "end_time": "2018-12-13T09:09:40.790887Z",
     "start_time": "2018-12-13T09:09:38.771682Z"
    }
   },
   "outputs": [],
   "source": [
    "save_orm_objects(face_identities)"
   ]
  },
  {
   "cell_type": "markdown",
   "metadata": {},
   "source": [
    "<i>Help! I messed up and committed bad labels... What should I do?</i> Hopefully, if the notebook is still running, the labelers are still defined. Then, you can run the following."
   ]
  },
  {
   "cell_type": "code",
   "execution_count": null,
   "metadata": {
    "ExecuteTime": {
     "end_time": "2018-12-13T04:22:21.006097Z",
     "start_time": "2018-12-13T04:22:20.986079Z"
    }
   },
   "outputs": [],
   "source": [
    "# for labeler in labelers:\n",
    "#     display(labeler.delete())"
   ]
  },
  {
   "cell_type": "code",
   "execution_count": null,
   "metadata": {},
   "outputs": [],
   "source": []
  }
 ],
 "metadata": {
  "celltoolbar": "Initialization Cell",
  "kernelspec": {
   "display_name": "Django Shell-Plus",
   "language": "python",
   "name": "django_extensions"
  },
  "language_info": {
   "codemirror_mode": {
    "name": "ipython",
    "version": 3
   },
   "file_extension": ".py",
   "mimetype": "text/x-python",
   "name": "python",
   "nbconvert_exporter": "python",
   "pygments_lexer": "ipython3",
   "version": "3.5.2"
  },
  "toc": {
   "nav_menu": {},
   "number_sections": true,
   "sideBar": false,
   "skip_h1_title": false,
   "toc_cell": true,
   "toc_position": {},
   "toc_section_display": "block",
   "toc_window_display": false
  }
 },
 "nbformat": 4,
 "nbformat_minor": 2
}
