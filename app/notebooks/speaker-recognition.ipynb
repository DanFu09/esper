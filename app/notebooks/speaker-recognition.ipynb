{
 "cells": [
  {
   "cell_type": "code",
   "execution_count": null,
   "metadata": {},
   "outputs": [],
   "source": [
    "from query.datasets.prelude import *\n",
    "from tempfile import NamedTemporaryFile as NamedTemp"
   ]
  },
  {
   "cell_type": "code",
   "execution_count": null,
   "metadata": {},
   "outputs": [],
   "source": [
    "def fmt_time(t):\n",
    "    return '{:02d}:{:02d}:{:02d}.{:03d}'.format(\n",
    "        int(t / 3600), int(t / 60 % 60), int(t % 60), int(t * 1000 % 1000))\n",
    "\n",
    "\n",
    "def cut_audio(seg):\n",
    "    sp.check_call('ffmpeg -y -i {} -ss {} -t {} /tmp/seg.wav'.format(\n",
    "        '/tmp/out.wav',\n",
    "        fmt_time(seg.min_frame / video.fps),\n",
    "        fmt_time((seg.max_frame - seg.min_frame) / video.fps)),\n",
    "        shell=True)\n",
    "\n",
    "\n",
    "CLUSTER_SCRIPT_DIR = '/app/deps/speaker-diarization'\n",
    "\n",
    "\n",
    "def cluster_speakers(video, debug=False):\n",
    "    if Speaker.objects.filter(video=video, identity__isnull=False).exists():\n",
    "        return\n",
    "    \n",
    "    speakers = list(Speaker.objects.filter(video=video, labeler__name='lium').order_by('min_frame'))\n",
    "    commercials = list(Commercial.objects.filter(video=video).order_by('min_frame'))\n",
    "    speakers_nocom = [\n",
    "        s for s in speakers\n",
    "        if not any([c.min_frame < s.max_frame and c.max_frame > s.min_frame for c in commercials])]\n",
    "\n",
    "    with WithMany(pushd(CLUSTER_SCRIPT_DIR), NamedTemp(suffix='.wav'), NamedTemp(suffix='.wav', delete=not debug),\n",
    "                  named_temp_dir(delete=not debug), NamedTemp(delete=not debug), NamedTemp(delete=not debug)) as \\\n",
    "        (_, audio1f, audio2f, featd, inf, outf):\n",
    "            \n",
    "        with Timer('download', run=debug):\n",
    "            video.extract_audio(output_path=audio1f.name)\n",
    "        with Timer('convert', run=debug):\n",
    "            sp.check_call('ffmpeg -y -i {} -ar 16000 -ac 1 {}'.format(audio1f.name, audio2f.name), shell=True)\n",
    "        with Timer('features', run=debug):\n",
    "            sp.check_call('./spk-diarization2.py {} -fp {}'.format(audio2f.name, featd), shell=True)\n",
    "\n",
    "        for i, s in enumerate(speakers_nocom):\n",
    "            parts = {\n",
    "                'audio': audio2f.name,\n",
    "                'lna': 'a_{}'.format(i),\n",
    "                'start-time': s.min_frame/video.fps,\n",
    "                'end-time': s.max_frame/video.fps,\n",
    "                'speaker': 'spk_turn'\n",
    "            }\n",
    "            inf.write(' '.join(['{}={}'.format(k, v)\n",
    "                                for k, v in parts.iteritems()]) + '\\n')\n",
    "        inf.flush()\n",
    "\n",
    "        with Timer('cluster', run=debug):\n",
    "            print(sp.check_output(\n",
    "                './spk-clustering.py {} {} -o {} -m hi -l 1.3'.format(inf.name, featd, outf.name),\n",
    "                shell=True))\n",
    "\n",
    "        clusters = readlines(outf.name)\n",
    "\n",
    "    identities = {}\n",
    "    for line in clusters:\n",
    "        parts = [s.split('=') for s in line.split(' ')]\n",
    "        dct = {p[0]: p[1] for p in parts}\n",
    "        if not dct['speaker'] in identities:\n",
    "            identities[dct['speaker']] = Identity(name=dct['speaker'])\n",
    "    Identity.objects.bulk_create(identities.values())\n",
    "    \n",
    "    for line, speaker in zip(clusters, speakers_nocom):\n",
    "        parts = [s.split('=') for s in line.split(' ')]\n",
    "        dct = {p[0]: p[1] for p in parts}\n",
    "        speaker.identity = identities[dct['speaker']]\n",
    "    Speaker.objects.bulk_update(speakers, update_fields=['identity'])"
   ]
  },
  {
   "cell_type": "code",
   "execution_count": null,
   "metadata": {},
   "outputs": [],
   "source": [
    "# video = Video.objects.get(path='tvnews/videos/FOXNEWSW_20160522_070000_Fox_News_Reporting.mp4')\n",
    "# with Timer('overall'):\n",
    "#     cluster_speakers(video, debug=True)"
   ]
  },
  {
   "cell_type": "code",
   "execution_count": null,
   "metadata": {},
   "outputs": [],
   "source": [
    "videos = list(Video.objects.annotate(c=Subquery(Speaker.objects.filter(video=OuterRef('pk')).values('video').annotate(c=Count('video')).values('c'))).filter(c__gt=0))"
   ]
  },
  {
   "cell_type": "code",
   "execution_count": null,
   "metadata": {},
   "outputs": [],
   "source": [
    "with Timer('all'):\n",
    "    par_for(cluster_speakers, videos[10:20], workers=4)"
   ]
  },
  {
   "cell_type": "code",
   "execution_count": null,
   "metadata": {},
   "outputs": [],
   "source": [
    "# Identity.objects.all().delete()\n",
    "# Speaker.objects.filter(labeler=labeler).delete()"
   ]
  }
 ],
 "metadata": {
  "kernelspec": {
   "display_name": "Django Shell-Plus",
   "language": "python",
   "name": "django_extensions"
  },
  "language_info": {
   "codemirror_mode": {
    "name": "ipython",
    "version": 2
   },
   "file_extension": ".py",
   "mimetype": "text/x-python",
   "name": "python",
   "nbconvert_exporter": "python",
   "pygments_lexer": "ipython2",
   "version": "2.7.14"
  },
  "toc": {
   "nav_menu": {},
   "number_sections": true,
   "sideBar": false,
   "skip_h1_title": false,
   "toc_cell": false,
   "toc_position": {},
   "toc_section_display": "block",
   "toc_window_display": false
  }
 },
 "nbformat": 4,
 "nbformat_minor": 2
}
