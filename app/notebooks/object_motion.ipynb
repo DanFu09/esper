{
 "cells": [
  {
   "cell_type": "markdown",
   "metadata": {
    "toc": true
   },
   "source": [
    "<h1>Table of Contents<span class=\"tocSkip\"></span></h1>\n",
    "<div class=\"toc\" style=\"margin-top: 1em;\"><ul class=\"toc-item\"><li><span><a href=\"#This-notebook-will-not-run-yet!!!\" data-toc-modified-id=\"This-notebook-will-not-run-yet!!!-1\"><span class=\"toc-item-num\">1&nbsp;&nbsp;</span>This notebook will not run yet!!!</a></span></li></ul></div>"
   ]
  },
  {
   "cell_type": "markdown",
   "metadata": {},
   "source": [
    "# This notebook will not run yet!!!\n",
    "Dependencies: optical flow computed over bounding boxes, object detections."
   ]
  },
  {
   "cell_type": "code",
   "execution_count": null,
   "metadata": {
    "ExecuteTime": {
     "end_time": "2018-12-10T20:22:36.353702Z",
     "start_time": "2018-12-10T20:22:36.304644Z"
    }
   },
   "outputs": [],
   "source": [
    "import scannerpy\n",
    "import scannertools as st\n",
    "from query.models import Video, Object\n",
    "from esper.prelude import *\n",
    "import rekall as rktmux\n",
    "from rekall.interval_list import IntervalList\n",
    "from rekall.video_interval_collection import VideoIntervalCollection\n",
    "from rekall.payload_predicates import payload_satisfies\n",
    "from esper.rekall import intrvllists_to_result, intrvllists_to_result_with_objects\n",
    "import numpy as np"
   ]
  },
  {
   "cell_type": "code",
   "execution_count": null,
   "metadata": {},
   "outputs": [],
   "source": [
    "video_id=123\n",
    "video = Video.objects.get(id=123)"
   ]
  },
  {
   "cell_type": "code",
   "execution_count": null,
   "metadata": {},
   "outputs": [],
   "source": [
    "# Load objects\n",
    "objects = Object.objects.filter(frame__video_id=video_id).annotate(\n",
    "    frame_num=F('frame__number'),\n",
    "    video_id=F('frame__video_id'))\n",
    "obj_collection = VideoIntervalCollection.from_django_qs(\n",
    "    objects,\n",
    "    schema = {\n",
    "        'start': 'frame_num',\n",
    "        'end': 'frame_num'\n",
    "    },\n",
    "    with_payload=in_array(bbox_payload_parser(VideoIntervalCollection.django_accessor))\n",
    ").coalesce(payload_merge_op=payload_plus)\n",
    "\n",
    "# Prepare list of frames and bounding boxes for Scanner\n",
    "frames = [[intrvl.get_start() for intrvl in obj_collection.get_intervallist(video).get_intervals()]\n",
    "          for video in obj_collection.get_allintervals()]\n",
    "bboxes = [[[{'bbox_x1': bbox['bbox_x1'],\n",
    "            'bbox_y1': bbox['bbox_y1'],\n",
    "            'bbox_x2': bbox['bbox_x2'],\n",
    "            'bbox_y2': bbox['bbox_y2']} for bbox in intrvl.get_payload()]\n",
    "            for intrvl in obj_collection.get_intervallist(video).get_intervals()]\n",
    "          for video in obj_collection.get_allintervals()]"
   ]
  },
  {
   "cell_type": "code",
   "execution_count": null,
   "metadata": {},
   "outputs": [],
   "source": [
    "# Compute flow histograms over bounding boxes in Scanner\n",
    "db = scannerpy.Database()\n",
    "\n",
    "flow_histogram_bboxes = st.histograms.compute_flow_histograms_bboxes(\n",
    "    db,\n",
    "    videos=[video.for_scannertools()],\n",
    "    frames=frames,\n",
    "    bboxes=bboxes)"
   ]
  },
  {
   "cell_type": "code",
   "execution_count": null,
   "metadata": {},
   "outputs": [],
   "source": [
    "# Annotate object payloads with flow histogram results\n",
    "for video_id, framelist, flows_in_video in zip([video_id], frames, flow_histogram_bboxes):\n",
    "    intervallist = objects.get_intervallist(video_id)\n",
    "    for frame, flows_in_frame, interval in zip(framelist, flows_in_video.load(), intervallist.get_intervals()):\n",
    "        for obj, flow in zip(interval.payload, flow):\n",
    "            obj['flow_hist'] = flow"
   ]
  },
  {
   "cell_type": "code",
   "execution_count": null,
   "metadata": {},
   "outputs": [],
   "source": [
    "# Filter out all objects whose flow histograms don't have a large amount of flow\n",
    "def significant_flow(flow_hist):\n",
    "    avg = video.width * video.height / 64\n",
    "    return np.max(hist[1][1:] > 10 * avg)\n",
    "objects = objects.map(\n",
    "    lambda intrvl: (intrvl.start, intrvl.end,\n",
    "                   [obj for obj in intrvl.payload\n",
    "                    if significant_flow(obj['flow_hist'])]))\n",
    "objects = objects.filter(payload_satisfies(length_at_least(1)))"
   ]
  },
  {
   "cell_type": "code",
   "execution_count": null,
   "metadata": {
    "ExecuteTime": {
     "end_time": "2018-12-10T20:26:00.465279Z",
     "start_time": "2018-12-10T20:26:00.362429Z"
    },
    "scrolled": false
   },
   "outputs": [],
   "source": [
    "# Display objects with significant motion flow\n",
    "esper_widget(intrvllists_to_result_bbox(objects), show_middle_frame=False)"
   ]
  }
 ],
 "metadata": {
  "kernelspec": {
   "display_name": "Django Shell-Plus",
   "language": "python",
   "name": "django_extensions"
  },
  "language_info": {
   "codemirror_mode": {
    "name": "ipython",
    "version": 3
   },
   "file_extension": ".py",
   "mimetype": "text/x-python",
   "name": "python",
   "nbconvert_exporter": "python",
   "pygments_lexer": "ipython3",
   "version": "3.5.2"
  },
  "toc": {
   "base_numbering": 1,
   "nav_menu": {},
   "number_sections": true,
   "sideBar": false,
   "skip_h1_title": false,
   "title_cell": "Table of Contents",
   "title_sidebar": "Contents",
   "toc_cell": true,
   "toc_position": {},
   "toc_section_display": "block",
   "toc_window_display": false
  }
 },
 "nbformat": 4,
 "nbformat_minor": 2
}
