{
 "cells": [
  {
   "cell_type": "markdown",
   "metadata": {},
   "source": [
    "# Supercut Template\n",
    "A notebook to copy to make supercuts from. Subject to change based on experience."
   ]
  },
  {
   "cell_type": "code",
   "execution_count": 45,
   "metadata": {
    "ExecuteTime": {
     "end_time": "2019-01-10T03:02:47.395683Z",
     "start_time": "2019-01-10T03:02:47.352634Z"
    }
   },
   "outputs": [],
   "source": [
    "from esper.supercuts import *"
   ]
  },
  {
   "cell_type": "code",
   "execution_count": 46,
   "metadata": {
    "ExecuteTime": {
     "end_time": "2019-01-10T03:02:48.092554Z",
     "start_time": "2019-01-10T03:02:48.045691Z"
    }
   },
   "outputs": [],
   "source": [
    "def query():\n",
    "    '''\n",
    "    Write your query here. Below is a query for Harry, Ron, and Hermione in a row.\n",
    "    This function should return a rekall VideoIntervalCollection.\n",
    "    '''\n",
    "    from esper.captions import topic_search\n",
    "    \n",
    "    phrases = [\n",
    "        'may the Force be with you',\n",
    "        'may the force be with you',\n",
    "        'May the Force be with you',\n",
    "        'May the force be with you'\n",
    "    ]\n",
    "    results = topic_search(phrases,\n",
    "        window_size=0,\n",
    "        video_ids = [vid.id for vid in Video.objects.filter(name__contains=\"star wars\").all()])\n",
    "    caption_results = VideoIntervalCollection({\n",
    "        r.id: [(\n",
    "            (p.start * Video.objects.get(id=r.id).fps),\n",
    "            (p.end * Video.objects.get(id=r.id).fps),\n",
    "        0) for p in r.postings]\n",
    "        for r in results\n",
    "    })\n",
    "    \n",
    "    return caption_results"
   ]
  },
  {
   "cell_type": "code",
   "execution_count": null,
   "metadata": {
    "ExecuteTime": {
     "end_time": "2019-01-09T19:41:41.452516Z",
     "start_time": "2019-01-09T19:41:41.398898Z"
    }
   },
   "outputs": [],
   "source": [
    "def generate_supercut_intervals(\n",
    "    interval_collection,\n",
    "    dilation_start=0,\n",
    "    dilation_end=0,\n",
    "    dilation=0,\n",
    "    snap_to_cinematic_shots=False,\n",
    "    limit=None,\n",
    "    stride=1\n",
    "):\n",
    "    '''\n",
    "    Generates supercut intervals for the supercut pipeline.\n",
    "    Dilates interval_collection by dilation.\n",
    "    If dilation > 0, snaps the dilations to cinematic shot boundaries.\n",
    "    '''\n",
    "    if dilation > 0:\n",
    "        if snap_to_cinematic_shots:\n",
    "            shots = VideoIntervalCollection.from_django_qs(\n",
    "                Shot.objects.filter(\n",
    "                    video_id__in=list(interval_collection.get_allintervals().keys()),\n",
    "                    labeler__name=\"shot-hsvhist-face\"\n",
    "                )\n",
    "            ).filter_against(interval_collection, predicate=overlaps())\n",
    "        interval_collection = interval_collection.dilate(dilation).coalesce()\n",
    "        if snap_to_cinematic_shots:\n",
    "            interval_collection = interval_collection.overlaps(shots)\n",
    "    \n",
    "    supercut_intervals = []\n",
    "    for video_id in sorted(list(interval_collection.get_allintervals().keys())):\n",
    "        intervallist = interval_collection.get_intervallist(video_id)\n",
    "        for intrvl in intervallist.get_intervals():\n",
    "            supercut_intervals.append((video_id, intrvl.get_start()-dilation_start, intrvl.get_end()+dilation_end))\n",
    "            \n",
    "    if limit is not None:\n",
    "        return supercut_intervals[:limit * stride:stride]\n",
    "    \n",
    "    return supercut_intervals[::stride]"
   ]
  },
  {
   "cell_type": "code",
   "execution_count": null,
   "metadata": {
    "ExecuteTime": {
     "end_time": "2019-01-09T19:47:54.125057Z",
     "start_time": "2019-01-09T19:47:54.034827Z"
    }
   },
   "outputs": [],
   "source": [
    "# output path\n",
    "OUTPUT_PATH = '/app/result/supercut/may_the_force_be_with_you.mp4'"
   ]
  },
  {
   "cell_type": "code",
   "execution_count": null,
   "metadata": {
    "ExecuteTime": {
     "end_time": "2019-01-09T19:52:35.555500Z",
     "start_time": "2019-01-09T19:52:27.480833Z"
    }
   },
   "outputs": [],
   "source": [
    "stitch_video_temporal(generate_supercut_intervals(\n",
    "    query(), dilation_end=12), out_path=OUTPUT_PATH, width=640, height=480)"
   ]
  }
 ],
 "metadata": {
  "kernelspec": {
   "display_name": "Django Shell-Plus",
   "language": "python",
   "name": "django_extensions"
  },
  "language_info": {
   "codemirror_mode": {
    "name": "ipython",
    "version": 3
   },
   "file_extension": ".py",
   "mimetype": "text/x-python",
   "name": "python",
   "nbconvert_exporter": "python",
   "pygments_lexer": "ipython3",
   "version": "3.5.2"
  },
  "toc": {
   "nav_menu": {},
   "number_sections": true,
   "sideBar": true,
   "skip_h1_title": false,
   "toc_cell": false,
   "toc_position": {},
   "toc_section_display": "block",
   "toc_window_display": false
  }
 },
 "nbformat": 4,
 "nbformat_minor": 2
}
