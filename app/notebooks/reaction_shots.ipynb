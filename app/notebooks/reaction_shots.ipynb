{
 "cells": [
  {
   "cell_type": "markdown",
   "metadata": {},
   "source": [
    "# Reaction Shots\n",
    "\n",
    "We are looking for instances where a word is being said, but the speaker is not being shown."
   ]
  },
  {
   "cell_type": "code",
   "execution_count": 73,
   "metadata": {
    "ExecuteTime": {
     "end_time": "2019-01-13T21:38:26.885058Z",
     "start_time": "2019-01-13T21:38:26.840445Z"
    }
   },
   "outputs": [],
   "source": [
    "from rekall.video_interval_collection import VideoIntervalCollection\n",
    "from rekall.merge_ops import payload_plus\n",
    "from rekall.payload_predicates import payload_satisfies\n",
    "from rekall.temporal_predicates import overlaps\n",
    "from rekall.parsers import in_array, merge_dict_parsers, bbox_payload_parser, dict_payload_parser\n",
    "from esper.caption_metadata import *\n",
    "from esper.captions import *\n",
    "from esper.prelude import *\n",
    "from esper.stdlib import *\n",
    "from esper.rekall import *"
   ]
  },
  {
   "cell_type": "code",
   "execution_count": 1,
   "metadata": {
    "ExecuteTime": {
     "end_time": "2019-01-13T09:19:16.244840Z",
     "start_time": "2019-01-13T09:19:16.217072Z"
    }
   },
   "outputs": [],
   "source": [
    "# We only have Apollo 13 right now\n",
    "videos = Video.objects.filter(name=\"apollo 13\").all()"
   ]
  },
  {
   "cell_type": "code",
   "execution_count": 117,
   "metadata": {
    "ExecuteTime": {
     "end_time": "2019-01-13T22:15:25.050396Z",
     "start_time": "2019-01-13T22:15:24.959250Z"
    }
   },
   "outputs": [],
   "source": [
    "# Load script data\n",
    "metadata = VideoIntervalCollection({\n",
    "    video.id: caption_metadata_for_video(video.id)\n",
    "    for video in videos\n",
    "}).filter(\n",
    "    lambda meta_interval: (meta_interval.payload['speaker'] is not None and\n",
    "                            \"man's voice\" not in meta_interval.payload['speaker'] and\n",
    "                            meta_interval.payload['speaker'].strip() != \"gene krantz\")\n",
    ")"
   ]
  },
  {
   "cell_type": "code",
   "execution_count": 119,
   "metadata": {
    "ExecuteTime": {
     "end_time": "2019-01-13T22:40:58.884920Z",
     "start_time": "2019-01-13T22:40:57.426017Z"
    }
   },
   "outputs": [
    {
     "data": {
      "text/plain": [
       "'jim lovell'"
      ]
     },
     "execution_count": 119,
     "metadata": {},
     "output_type": "execute_result"
    }
   ],
   "source": [
    "metadata.get_intervallist(15).get_intervals()[-1].payload['speaker']"
   ]
  },
  {
   "cell_type": "code",
   "execution_count": 95,
   "metadata": {
    "ExecuteTime": {
     "end_time": "2019-01-13T22:11:02.952959Z",
     "start_time": "2019-01-13T22:11:02.833732Z"
    }
   },
   "outputs": [],
   "source": [
    "all_segments = get_all_segments([video.id for video in videos])"
   ]
  },
  {
   "cell_type": "code",
   "execution_count": 96,
   "metadata": {
    "ExecuteTime": {
     "end_time": "2019-01-13T22:11:03.734572Z",
     "start_time": "2019-01-13T22:11:03.674461Z"
    }
   },
   "outputs": [],
   "source": [
    "captions_interval_collection = VideoIntervalCollection({\n",
    "    video: intervals\n",
    "    for video, intervals in all_segments\n",
    "})"
   ]
  },
  {
   "cell_type": "code",
   "execution_count": 97,
   "metadata": {
    "ExecuteTime": {
     "end_time": "2019-01-13T22:11:07.617215Z",
     "start_time": "2019-01-13T22:11:06.401791Z"
    }
   },
   "outputs": [],
   "source": [
    "# Annotate each caption with speaker name\n",
    "captions_with_speaker_id = captions_interval_collection.overlaps(\n",
    "    metadata.filter(payload_satisfies(lambda p: p['aligned'])),\n",
    "    payload_merge_op=lambda word, script_meta: (word[0], script_meta['speaker'])\n",
    ")"
   ]
  },
  {
   "cell_type": "code",
   "execution_count": 98,
   "metadata": {
    "ExecuteTime": {
     "end_time": "2019-01-13T22:11:10.982134Z",
     "start_time": "2019-01-13T22:11:08.610729Z"
    }
   },
   "outputs": [],
   "source": [
    "# Annotate face rows with start and end frames and the video ID\n",
    "faces_with_character_actor_qs = FaceCharacterActor.objects.annotate(\n",
    "    min_frame=F('face__frame__number'),\n",
    "    max_frame=F('face__frame__number'),\n",
    "    video_id=F('face__frame__video_id'),\n",
    "    character_name=F('characteractor__character__name')\n",
    ").filter(video_id__in=[v.id for v in videos])\n",
    "\n",
    "frames_with_identity = VideoIntervalCollection.from_django_qs(\n",
    "    faces_with_character_actor_qs,\n",
    "    with_payload=in_array(\n",
    "        dict_payload_parser(VideoIntervalCollection.django_accessor, { 'character': 'character_name' }),\n",
    "    )\n",
    ").coalesce(payload_merge_op=payload_plus)"
   ]
  },
  {
   "cell_type": "code",
   "execution_count": 76,
   "metadata": {
    "ExecuteTime": {
     "end_time": "2019-01-13T21:39:13.527781Z",
     "start_time": "2019-01-13T21:39:11.728123Z"
    }
   },
   "outputs": [],
   "source": [
    "# Annotate shots with all the people in them\n",
    "shots_qs = Shot.objects.filter(\n",
    "    cinematic=True, video_id__in=[v.id for v in videos]\n",
    ").annotate(fps=F('video__fps'))\n",
    "shots = VideoIntervalCollection.from_django_qs(shots_qs, with_payload=lambda shot:shot.fps)\n",
    "\n",
    "# Annotate shots with mode shot scale\n",
    "frames_with_shot_scale_qs = Frame.objects.filter(\n",
    "    regularly_sampled=True,\n",
    "    video_id__in=[v.id for v in videos]\n",
    ").annotate(\n",
    "    min_frame=F('number'),\n",
    "    max_frame=F('number'),\n",
    "    shot_scale_name=F('shot_scale__name')\n",
    ").all()\n",
    "frames_with_shot_scale = VideoIntervalCollection.from_django_qs(\n",
    "    frames_with_shot_scale_qs,\n",
    "    with_payload=lambda f: f.shot_scale_name\n",
    ")\n",
    "\n",
    "def get_mode(items):\n",
    "    return max(set(items), key=items.count)\n",
    "shots_with_scale = shots.merge(\n",
    "    frames_with_shot_scale,\n",
    "    predicate=overlaps(),\n",
    "    payload_merge_op=lambda shot_fps, shot_scale: [(shot_fps, shot_scale)]\n",
    ").coalesce(\n",
    "    payload_merge_op = payload_plus\n",
    ").map(\n",
    "    lambda intrvl: (intrvl.start, intrvl.end, {\n",
    "        'fps': intrvl.payload[0][0],\n",
    "        'shot_scale': get_mode([p[1] for p in intrvl.payload])\n",
    "    })\n",
    ")\n",
    "\n",
    "shots_with_people_in_them = shots_with_scale.overlaps(\n",
    "    frames_with_identity,\n",
    "    payload_merge_op=lambda shot_payload, identities: (shot_payload, identities),\n",
    "    working_window=1\n",
    ").coalesce(payload_merge_op=lambda p1, p2: (p1[0], p1[1] + p2[1])).map(\n",
    "    lambda intrvl: (intrvl.start / intrvl.payload[0]['fps'], intrvl.end / intrvl.payload[0]['fps'], {\n",
    "        'fps': intrvl.payload[0]['fps'],\n",
    "        'shot_scale': intrvl.payload[0]['shot_scale'],\n",
    "        'characters': set([d['character'] for d in intrvl.payload[1]])\n",
    "    })\n",
    ")"
   ]
  },
  {
   "cell_type": "code",
   "execution_count": 90,
   "metadata": {
    "ExecuteTime": {
     "end_time": "2019-01-13T21:47:24.246168Z",
     "start_time": "2019-01-13T21:47:22.613947Z"
    }
   },
   "outputs": [],
   "source": [
    "reaction_shots = captions_with_speaker_id.overlaps(\n",
    "    shots_with_people_in_them.filter(\n",
    "        payload_satisfies(lambda p: p['shot_scale'] in ['medium_close_up', 'close_up', 'extreme_close_up'])\n",
    "    ),\n",
    "    predicate = lambda captions, shots: captions.payload[1] not in shots.payload['characters'],\n",
    "    payload_merge_op = lambda word_and_speaker, fps_and_characters: (fps_and_characters['fps'], word_and_speaker)\n",
    ").map(\n",
    "    lambda intrvl: (\n",
    "        int(intrvl.start * intrvl.payload[0]), \n",
    "        int(intrvl.end * intrvl.payload[0]), \n",
    "        [intrvl.payload[1]]\n",
    "    )\n",
    ").dilate(12).coalesce(payload_merge_op=payload_plus).dilate(-12).filter_length(min_length=12)"
   ]
  },
  {
   "cell_type": "code",
   "execution_count": 91,
   "metadata": {
    "ExecuteTime": {
     "end_time": "2019-01-13T21:47:25.056019Z",
     "start_time": "2019-01-13T21:47:25.010679Z"
    }
   },
   "outputs": [
    {
     "data": {
      "text/plain": [
       "{15: [<Interval start:2904 end:2916 payload:[('Ls', 'tracey'), ('true', 'tracey')]>, <Interval start:5552 end:5664 payload:[('Armstrong', 'pete conrad'), ('Armstrong', 'pete conrad'), ('backup', 'pete conrad'), ('historic', 'pete conrad'), ('moon', 'pete conrad'), ('of', 'pete conrad'), ('crew', 'pete conrad'), ('for', 'pete conrad')]>, <Interval start:6635 end:6648 payload:[('those', 'walter cronkite '), ('pictures', 'walter cronkite ')]>, <Interval start:7055 end:7068 payload:[('year', 'walter cronkite '), ('American', 'walter cronkite ')]>, <Interval start:7536 end:7548 payload:[('one', 'walter cronkite '), ('small', 'walter cronkite ')]>, <Interval start:12648 end:12706 payload:[('in', 'congressman'), ('state', 'congressman'), ('been', 'congressman'), ('asking', 'congressman'), ('we', 'congressman'), ('continuing', 'congressman')]>, <Interval start:15072 end:15132 payload:[('Straight', 'jim lovell'), ('head', 'jim lovell'), ('line', 'jim lovell'), ('Mauro', 'jim lovell'), ('Highlands', 'jim lovell')]>, <Interval start:15799 end:15852 payload:[('Marilyn', 'jim lovell'), ('Marilyn', 'jim lovell'), ('Marilyn', 'jim lovell'), ('Marilyn', 'jim lovell'), ('Marilyn', 'jim lovell'), ('Marilyn', 'jim lovell')]>, <Interval start:16092 end:16116 payload:[('13', 'technician'), ('13', 'technician'), ('go', 'technician')]>, <Interval start:19272 end:19356 payload:[('Fred', 'capcom'), ('set', 'capcom'), ('band', 'capcom'), ('omni', 'capcom'), ('B', 'capcom'), ('when', 'capcom'), ('LEM', 'capcom'), ('forward', 'capcom')]>, <Interval start:23856 end:23904 payload:[('training', 'marilyn lovell '), ('schedule', 'marilyn lovell '), ('tight', 'marilyn lovell '), ('should', 'marilyn lovell '), ('asking', 'marilyn lovell ')]>, <Interval start:23976 end:23988 payload:[('Hey', 'guy in car'), ('you', 'guy in car')]>, <Interval start:39132 end:39144 payload:[('like', 'jim lovell'), ('Marilyn', 'jim lovell')]>, <Interval start:40584 end:40608 payload:[('moon', 'guenter wendt'), ('ja', 'guenter wendt'), ('ja', 'guenter wendt')]>, <Interval start:42072 end:42106 payload:[('we', 'white room tech'), ('oxygen', 'white room tech'), ('system', 'white room tech'), ('system', 'white room tech')]>, <Interval start:43188 end:43200 payload:[('need', 'white room tech'), ('air', 'white room tech')]>, <Interval start:47424 end:47445 payload:[('FAO', 'gene krantz '), ('go', 'fao - white')]>, <Interval start:47616 end:47640 payload:[('Houston', 'gene krantz '), ('are', 'gene krantz '), ('launch', 'gene krantz ')]>, <Interval start:49560 end:49608 payload:[('thirteen', 'ksc pao'), ('twelve', 'ksc pao'), ('twelve', 'ksc pao'), ('twelve', 'ksc pao'), ('eleven', 'ksc pao')]>, <Interval start:53700 end:53712 payload:[('FIDO', 'gene krantz '), ('do', 'gene krantz ')]>, <Interval start:57924 end:58032 payload:[('Okay', 'jack swigert'), ('Houston', 'jack swigert'), ('CMP', 'jack swigert'), ('here', 'jack swigert'), ('I', 'jack swigert'), ('exchanged', 'jack swigert'), ('exchanged', 'jack swigert'), ('with', 'jack swigert'), ('I', 'jack swigert'), ('pilot', 'jack swigert')]>, <Interval start:58080 end:58110 payload:[('gon', 'jack swigert'), ('and', 'jack swigert'), ('get', 'jack swigert')]>, <Interval start:59111 end:59148 payload:[('isol', 'jim lovell'), ('valves', 'jim lovell'), ('are', 'jim lovell'), ('all', 'jim lovell')]>, <Interval start:59196 end:59219 payload:[('Swigert', 'jim lovell'), ('command', 'jim lovell'), ('module', 'jim lovell')]>, <Interval start:63012 end:63048 payload:[('you', 'jim lovell'), ('could', 'fred haise'), ('ass', 'fred haise')]>, <Interval start:66576 end:66600 payload:[('seems', 'jim lovell'), ('minute', 'jim lovell')]>, <Interval start:68004 end:68016 payload:[('when', 'henry hurt'), ('back', 'henry hurt')]>, <Interval start:68820 end:68856 payload:[('leaving', 'jim lovell'), ('EECOM', 'gene krantz '), ('that', 'gene krantz ')]>, <Interval start:68904 end:68964 payload:[('on', 'gene krantz '), ('both', 'gene krantz '), ('H2', 'gene krantz '), ('both', 'gene krantz '), ('O2', 'gene krantz '), ('is', 'gene krantz ')]>, <Interval start:73104 end:73116 payload:[('Nothing', 'jack swigert'), ('stirred', 'jack swigert')]>, <Interval start:75349 end:75400 payload:[('half', 'fred haise'), ('Main', 'fred haise'), ('is', 'fred haise'), ('zip', 'fred haise'), ('now', 'fred haise'), ('now', 'fred haise')]>, <Interval start:76632 end:76692 payload:[('one', 'jack swigert'), ('AC', 'jack swigert'), ('bus', 'jack swigert'), ('Command', 'jack swigert')]>, <Interval start:77001 end:77040 payload:[('outside', 'jim lovell'), ('outside', 'jim lovell'), ('outside', 'jim lovell'), ('window', 'jim lovell'), ('one', 'jim lovell')]>, <Interval start:78420 end:78432 payload:[('Let', 'gene krantz  '), ('cool', 'gene krantz  ')]>, <Interval start:78468 end:78636 payload:[('Procedures', 'gene krantz  '), ('need', 'gene krantz  '), ('computer', 'gene krantz  '), ('RTCC', 'gene krantz  '), ('RTCC', 'gene krantz  '), ('everybody', 'gene krantz  '), ('alert', 'gene krantz  '), ('support', 'gene krantz  '), ('teams', 'gene krantz  '), ('Wake', 'gene krantz  '), ('anybody', 'gene krantz  '), ('need', 'gene krantz  '), ('in', 'gene krantz  ')]>, <Interval start:78684 end:78768 payload:[('work', 'gene krantz  '), ('problem', 'gene krantz  '), ('problem', 'gene krantz  '), ('not', 'gene krantz  '), ('things', 'gene krantz  '), ('by', 'gene krantz  '), ('guessing', 'gene krantz  ')]>, <Interval start:78996 end:79020 payload:[('look', 'fred haise '), ('O2', 'fred haise '), ('number', 'fred haise ')]>, <Interval start:79164 end:79176 payload:[('pounds', 'fred haise '), ('falling', 'fred haise ')]>, <Interval start:79440 end:79500 payload:[('We', 'andy '), ('13', 'andy '), ('13', 'andy '), ('Let', 'gene krantz '), ('thing', 'gene krantz '), ('a', 'gene krantz ')]>, <Interval start:79548 end:79560 payload:[('standpoint', 'gene krantz '), ('status', 'gene krantz ')]>, <Interval start:79692 end:79716 payload:[('the', 'gene krantz '), ('spacecraft', 'gene krantz '), ('good', 'gene krantz ')]>, <Interval start:80628 end:80676 payload:[('close', 'gene krantz '), ('ca', 'gene krantz '), ('again', 'gene krantz '), ('land', 'gene krantz '), ('with', 'gene krantz ')]>, <Interval start:81516 end:81552 payload:[('Capcom', 'gene krantz '), ('them', 'gene krantz '), ('the', 'gene krantz '), ('valves', 'gene krantz ')]>, <Interval start:82152 end:82188 payload:[('Tell', 'gene krantz '), ('think', 'gene krantz '), ('only', 'gene krantz '), ('stop', 'gene krantz ')]>, <Interval start:82260 end:82308 payload:[('we', 'andy '), ('the', 'andy '), ('react', 'andy '), ('valves', 'andy '), ('stop', 'andy ')]>, <Interval start:82896 end:82908 payload:[('lost', 'jim lovell '), ('moon', 'jim lovell ')]>, <Interval start:84132 end:84144 payload:[('Houston', 'fred haise'), ('Houston', 'fred haise')]>, <Interval start:84888 end:84912 payload:[('listen', 'gene krantz '), ('drill', 'gene krantz '), ('moving', 'gene krantz ')]>, <Interval start:84948 end:84984 payload:[('LEM', 'gene krantz '), ('got', 'gene krantz '), ('oxygen', 'gene krantz '), ('up', 'gene krantz ')]>, <Interval start:85172 end:85224 payload:[('command', 'gene krantz '), ('module', 'gene krantz '), ('same', 'gene krantz '), ('transfer', 'gene krantz '), ('guidance', 'gene krantz ')]>, <Interval start:85272 end:85320 payload:[('want', 'gene krantz '), ('numbers', 'gene krantz '), ('when', 'gene krantz '), ('position', 'gene krantz ')]>, <Interval start:85675 end:85692 payload:[('somebody', 'andy '), ('somebody', 'andy '), ('somebody', 'andy '), ('there', 'andy ')]>, <Interval start:85764 end:85776 payload:[('got', 'andy '), ('time', 'andy ')]>, <Interval start:85906 end:85968 payload:[('power', 'andy '), ('power', 'andy '), ('in', 'andy '), ('command', 'andy '), ('or', 'andy '), ('be', 'andy '), ('navigate', 'andy ')]>, <Interval start:87696 end:87732 payload:[('12', 'andy '), ('quickly', 'andy '), ('down', 'andy ')]>, <Interval start:87827 end:87876 payload:[('pump', 'jack swigert'), ('pump', 'jack swigert'), ('O2', 'jack swigert'), ('fans', 'jack swigert'), ('two', 'jack swigert')]>, <Interval start:89604 end:89712 payload:[('Yeah', 'dick cavett '), ('bachelor', 'dick cavett '), ('They', 'dick cavett '), ('kind', 'dick cavett '), ('girl', 'dick cavett '), ('port', 'dick cavett '), ('that', 'dick cavett '), ('reputation', 'dick cavett ')]>, <Interval start:89760 end:89844 payload:[('of', 'dick cavett '), ('foolishly', 'dick cavett '), ('optimistic', 'dick cavett '), ('taking', 'dick cavett '), ('nylons', 'dick cavett '), ('Hershey', 'dick cavett '), ('to', 'dick cavett '), ('moon', 'dick cavett ')]>, <Interval start:91378 end:91428 payload:[('and', 'jules bergman '), ('and', 'jules bergman '), ('safely', 'jules bergman '), ('back', 'jules bergman '), ('Earth', 'jules bergman ')]>, <Interval start:93528 end:93564 payload:[('Kraft', 'jules bergman '), ('grim', 'jules bergman '), ('lines', 'jules bergman ')]>, <Interval start:93600 end:93648 payload:[('very', 'jules bergman '), ('close', 'jules bergman '), ('call', 'jules bergman '), ('not', 'jules bergman '), ('woods', 'jules bergman ')]>, <Interval start:95148 end:95184 payload:[('Jack', 'andy '), ('close', 'andy '), ('procedure', 'andy ')]>, <Interval start:95436 end:95448 payload:[('Copy', 'andy '), ('Jack', 'andy ')]>, <Interval start:96660 end:96687 payload:[('Did', 'jim lovell '), ('us', 'jim lovell '), ('in', 'jim lovell '), ('there', 'jim lovell ')]>, <Interval start:96768 end:96792 payload:[('Did', 'fred haise '), ('we', 'fred haise '), ('here', 'fred haise ')]>, <Interval start:96888 end:96948 payload:[('Houston', 'fred haise'), ('how', 'fred haise'), ('course', 'fred haise'), ('project', 'fred haise'), ('we', 'fred haise'), ('Over', 'fred haise')]>, <Interval start:98556 end:98603 payload:[('down', 'gene krantz '), ('The', 'gene krantz '), ('engine', 'gene krantz '), ('with', 'gene krantz '), ('power', 'gene krantz ')]>, <Interval start:98640 end:98652 payload:[('SPS', 'gene krantz '), ('service', 'gene krantz ')]>, <Interval start:98688 end:98772 payload:[('module', 'gene krantz '), ('module', 'gene krantz '), ('been', 'gene krantz '), ('in', 'gene krantz '), ('explosion', 'gene krantz '), ('let', 'gene krantz '), ('dead', 'gene krantz ')]>, <Interval start:98807 end:98844 payload:[('could', 'gene krantz '), ('works', 'gene krantz '), ('too', 'gene krantz ')]>, <Interval start:98880 end:98893 payload:[('take', 'gene krantz '), ('chance', 'gene krantz '), ('chance', 'gene krantz ')]>, <Interval start:99430 end:99455 payload:[('moon', 'grumman rep'), ('moon', 'grumman rep'), ('not', 'grumman rep'), ('fire', 'grumman rep')]>, <Interval start:99480 end:99492 payload:[('course', 'grumman rep'), ('corrections', 'grumman rep')]>, <Interval start:100692 end:100704 payload:[('long', 'glynn lunney '), ('to', 'glynn lunney ')]>, <Interval start:102660 end:102687 payload:[('When', 'jack swigert '), ('go', 'jack swigert '), ('into', 'jack swigert '), ('the', 'jack swigert ')]>, <Interval start:103092 end:103152 payload:[('awe', 'jack swigert '), ('inspiring', 'jack swigert '), ('I', 'jack swigert '), ('ca', 'jack swigert '), ('myself', 'jack swigert ')]>, <Interval start:103338 end:103464 payload:[('water', 'news anchor '), ('water', 'news anchor '), ('vitally', 'news anchor '), ('needed', 'news anchor '), ('the', 'news anchor '), ('cooling', 'news anchor '), ('to', 'news anchor '), ('to', 'news anchor '), ('to', 'news anchor '), ('to', 'news anchor ')]>, <Interval start:104412 end:104424 payload:[('Fra', 'fred haise'), ('Fra', 'fred haise')]>, <Interval start:104772 end:104808 payload:[('ca', 'jack swigert'), ('bright', 'jack swigert'), ('ejecta', 'jack swigert'), ('blanket', 'jack swigert')]>, <Interval start:106572 end:106632 payload:[('reading', 'capcom - gold'), ('telemetry', 'capcom - gold'), ('telemetry', 'capcom - gold'), ('telemetry', 'capcom - gold'), ('good', 'capcom - gold'), ('again', 'capcom - gold')]>, <Interval start:106809 end:106856 payload:[('feet', 'capcom - gold'), ('per', 'capcom - gold'), ('second', 'capcom - gold'), ('distance', 'capcom - gold'), ('the', 'capcom - gold'), ('moon', 'capcom - gold')]>, <Interval start:107015 end:107052 payload:[('Got', 'fred haise'), ('you', 'fred haise'), ('take', 'fred haise'), ('this', 'fred haise'), ('baby', 'fred haise')]>, <Interval start:107688 end:107712 payload:[('Let', 'jim lovell'), ('an', 'jim lovell')]>, <Interval start:108407 end:108420 payload:[('Gentlemen', 'gene krantz '), ('acceptable', 'gene krantz ')]>, <Interval start:109296 end:109404 payload:[('turn', 'control - white'), ('radars', 'control - white'), ('radars', 'control - white'), ('cabin', 'control - white'), ('instrument', 'control - white'), ('displays', 'control - white'), ('guidance', 'control - white'), ('computer', 'control - white'), ('What', 'jerry ')]>, <Interval start:109452 end:109492 payload:[('another', 'jerry '), ('burn', 'jerry '), ('which', 'jerry '), ('way', 'jerry ')]>, <Interval start:109848 end:109887 payload:[('finish', 'gene krantz '), ('burn', 'gene krantz '), ('power', 'gene krantz '), ('LEM', 'gene krantz '), ('LEM', 'gene krantz ')]>, <Interval start:110232 end:110244 payload:[('gon', 'gene krantz '), ('it', 'gene krantz ')]>, <Interval start:110292 end:110316 payload:[('want', 'gene krantz '), ('simulators', 'gene krantz '), ('simulators', 'gene krantz ')]>, <Interval start:110586 end:110639 payload:[('out', 'gene krantz '), ('to', 'gene krantz '), ('every', 'gene krantz '), ('out', 'gene krantz '), ('these', 'gene krantz '), ('goddamn', 'gene krantz ')]>, <Interval start:110772 end:110784 payload:[('time', 'gene krantz '), ('spare', 'gene krantz ')]>, <Interval start:110832 end:110940 payload:[('lost', 'gene krantz '), ('American', 'gene krantz '), ('sure', 'gene krantz '), ('gon', 'gene krantz '), ('on', 'gene krantz '), ('watch', 'gene krantz '), ('Failure', 'gene krantz '), ('not', 'gene krantz ')]>, <Interval start:111611 end:111648 payload:[('Crew', 'john young'), ('far', 'john young'), ('keep', 'john young'), ('in', 'john young')]>, <Interval start:111696 end:111719 payload:[('shut', 'john young'), ('pretty', 'john young'), ('too', 'john young')]>, <Interval start:111768 end:111815 payload:[('got', 'john young'), ('people', 'john young'), ('numbers', 'john young'), ('this', 'john young'), ('one', 'john young')]>, <Interval start:111840 end:111935 payload:[('too', 'john young'), ('much', 'john young'), ('re', 'john young'), ('entry', 'john young'), ('command', 'john young'), ('module', 'john young'), ('frozen', 'john young'), ('good', 'john young')]>, <Interval start:115331 end:115374 payload:[('filters', 'eecom - gold'), ('on', 'eecom - gold'), ('LEM', 'eecom - gold'), ('two', 'telmu - gold'), ('guys', 'telmu - gold'), ('guys', 'telmu - gold')]>, <Interval start:115536 end:115572 payload:[('blackouts', 'dr. chuck '), ('blackouts', 'dr. chuck '), ('beginnings', 'dr. chuck '), ('of', 'dr. chuck '), ('asphyxia', 'dr. chuck ')]>, <Interval start:115608 end:115620 payload:[('the', 'gene krantz '), ('module', 'gene krantz ')]>, <Interval start:115871 end:116028 payload:[('CO2', 'dr. chuck '), ('levels', 'dr. chuck '), ('getting', 'dr. chuck '), ('toxic', 'dr. chuck '), ('I', 'gene krantz '), ('you', 'gene krantz '), ('invent', 'gene krantz '), ('put', 'gene krantz '), ('peg', 'gene krantz '), ('round', 'gene krantz '), ('hole', 'gene krantz '), ('Rapidly', 'gene krantz ')]>, <Interval start:120228 end:120264 payload:[('took', 'fred haise'), ('Jim', 'fred haise'), ('right', 'fred haise')]>, <Interval start:120432 end:120444 payload:[('an', 'fred haise'), ('accident', 'fred haise')]>, <Interval start:120552 end:120576 payload:[('should', 'fred haise'), ('look', 'fred haise'), ('face', 'fred haise')]>, <Interval start:121296 end:121319 payload:[('Come', 'fred haise'), ('a', 'fred haise'), ('mission', 'fred haise')]>, <Interval start:124428 end:124440 payload:[('left', 'fred haise'), ('Jack', 'fred haise')]>, <Interval start:124548 end:124560 payload:[('you', 'fred haise'), ('saying', 'fred haise')]>, <Interval start:125184 end:125210 payload:[('and', 'fred haise'), ('do', 'fred haise'), ('Look', 'jim lovell'), ('we', 'jim lovell')]>, <Interval start:125628 end:125640 payload:[('Aquarius', 'jim lovell '), ('ahead', 'jim lovell ')]>, <Interval start:125709 end:125748 payload:[('Jim', 'capcom - gold'), ('Jim', 'capcom - gold'), ('check', 'capcom - gold'), ('CO2', 'capcom - gold')]>, <Interval start:126468 end:126516 payload:[('procedures', 'jim lovell'), ('Christ', 'fred haise'), ('know', 'fred haise'), ('numbers', 'fred haise'), ('wrong', 'fred haise')]>, <Interval start:126564 end:126576 payload:[('I', 'fred haise'), ('figured', 'fred haise')]>, <Interval start:127776 end:127800 payload:[('need', 'andy '), ('cover', 'andy '), ('flight', 'fred haise')]>, <Interval start:131523 end:131544 payload:[('bungee', 'andy '), ('entire', 'andy '), ('filter', 'andy ')]>, <Interval start:132804 end:132828 payload:[('advise', 'andy '), ('status', 'andy ')]>, <Interval start:138204 end:138216 payload:[('Roger', 'jack swigert'), ('Houston', 'jack swigert')]>, <Interval start:138540 end:138612 payload:[('He', 'capcom - gold'), ('He', 'capcom - gold'), ('He', 'capcom - gold'), ('He', 'capcom - gold'), ('He', 'capcom - gold'), ('He', 'capcom - gold'), ('He', 'capcom - gold')]>, <Interval start:140124 end:140136 payload:[('mutiny', 'gene krantz '), ('Doc', 'gene krantz ')]>, <Interval start:140172 end:140196 payload:[('sure', 'gene krantz '), ('still', 'gene krantz '), ('us', 'gene krantz ')]>, <Interval start:141764 end:141780 payload:[('another', 'capcom - gold'), ('course', 'capcom - gold'), ('correction', 'capcom - gold')]>, <Interval start:142402 end:142428 payload:[('use', 'jim lovell'), ('use', 'jim lovell'), ('orientation', 'jim lovell'), ('orientation', 'jim lovell')]>, <Interval start:142476 end:142500 payload:[('able', 'gene krantz '), ('guys', 'gene krantz '), ('something', 'gene krantz ')]>, <Interval start:146424 end:146443 payload:[('control', 'jim lovell '), ('burn', 'jim lovell '), ('burn', 'jim lovell ')]>, <Interval start:146520 end:146544 payload:[('are', 'capcom - gold'), ('manual', 'capcom - gold')]>, <Interval start:146628 end:146652 payload:[('One', 'fred haise'), ('more', 'fred haise')]>, <Interval start:147312 end:147324 payload:[('down', 'jim lovell'), ('Freddo', 'jim lovell')]>, <Interval start:147735 end:147764 payload:[('She', 'fred haise'), ('She', 'fred haise'), ('She', 'fred haise'), ('She', 'fred haise')]>, <Interval start:148728 end:148776 payload:[('That', 'capcom - gold'), ('close', 'capcom - gold'), ('Jim', 'capcom - gold'), ('work', 'capcom - gold')]>, <Interval start:148956 end:148980 payload:[('Guess', 'gene krantz '), ('job', 'gene krantz '), ('You', 'grumman rep')]>, <Interval start:149160 end:149172 payload:[('we', 'jim lovell '), ('that', 'jim lovell ')]>, <Interval start:149808 end:149856 payload:[('got', 'gene krantz '), ('tell', 'gene krantz '), ('power', 'gene krantz '), ('procedures', 'gene krantz ')]>, <Interval start:152261 end:152340 payload:[('at', 'jim lovell '), ('big', 'jim lovell '), ('black', 'jim lovell '), ('so', 'jim lovell '), ('flip', 'jim lovell '), ('my', 'jim lovell ')]>, <Interval start:152376 end:152437 payload:[('Then', 'jim lovell '), ('suddenly', 'jim lovell '), ('zap', 'jim lovell '), ('Everything', 'jim lovell '), ('out', 'jim lovell '), ('out', 'jim lovell ')]>, <Interval start:152615 end:152681 payload:[('fuel', 'jim lovell '), ('so', 'jim lovell '), ('thinking', 'jim lovell '), ('about', 'jim lovell '), ('ditching', 'jim lovell '), ('ocean', 'jim lovell '), ('ocean', 'jim lovell '), ('ocean', 'jim lovell ')]>, <Interval start:152712 end:152724 payload:[('down', 'jim lovell '), ('then', 'jim lovell ')]>, <Interval start:152820 end:152868 payload:[('there', 'jim lovell '), ('green', 'jim lovell '), ('long', 'jim lovell '), ('long', 'jim lovell ')]>, <Interval start:152988 end:153012 payload:[('was', 'jim lovell '), ('phosphorescent', 'jim lovell '), ('that', 'jim lovell ')]>, <Interval start:153168 end:153276 payload:[('if', 'jim lovell '), ('cockpit', 'jim lovell '), ('lights', 'jim lovell '), ('shorted', 'jim lovell '), ('there', 'jim lovell '), ('way', 'jim lovell '), ('ever', 'jim lovell '), ('to', 'jim lovell '), ('that', 'jim lovell '), ('So', 'jim lovell ')]>, <Interval start:153540 end:153612 payload:[('Spacecraft', 'jules bergman '), ('commander', 'jules bergman '), ('no', 'jules bergman '), ('stranger', 'jules bergman '), ('emergency', 'jules bergman '), ('emergency', 'jules bergman ')]>, <Interval start:154272 end:154284 payload:[('affect', 'jim lovell'), ('our', 'jim lovell')]>, <Interval start:154356 end:154404 payload:[('Negative', 'andy '), ('angle', 'andy '), ('holding', 'andy '), ('6', 'andy '), ('6', 'andy ')]>, <Interval start:160632 end:160656 payload:[('is', 'ken mattingly'), ('in', 'ken mattingly')]>, <Interval start:165552 end:165600 payload:[('lifeboat', 'jules bergman '), ('doing', 'jules bergman '), ('longer', 'jules bergman ')]>, <Interval start:167760 end:167796 payload:[('them', 'retro - white'), ('luck', 'gene krantz '), ('changes', 'gene krantz ')]>, <Interval start:168756 end:168768 payload:[('spacecraft', 'jim lovell'), ('missing', 'jim lovell')]>, <Interval start:169800 end:169860 payload:[('heat', 'news anchor '), ('shield', 'news anchor '), ('slightly', 'news anchor '), ('cracked', 'news anchor '), ('extreme', 'news anchor ')]>, <Interval start:169980 end:170057 payload:[('the', 'news anchor '), ('parachutes', 'news anchor '), ('been', 'news anchor '), ('damaged', 'news anchor '), ('chutes', 'news anchor '), ('not', 'news anchor '), ('all', 'news anchor '), ('all', 'news anchor ')]>, <Interval start:171948 end:171960 payload:[('that', 'jim lovell'), ('hatch', 'jim lovell')]>, <Interval start:174150 end:174204 payload:[('batts', 'jack swigert'), ('think', 'jack swigert'), ('tie', 'jack swigert'), ('batteries', 'jack swigert')]>, <Interval start:174588 end:174612 payload:[('kind', 'jim lovell'), ('pilot', 'jim lovell'), ('seat', 'jim lovell')]>, <Interval start:174888 end:174900 payload:[('after', 'ken mattingly'), ('jettison', 'ken mattingly')]>, <Interval start:175128 end:175140 payload:[('to', 'jack swigert'), ('LEM', 'jack swigert')]>, <Interval start:175680 end:175692 payload:[('sure', 'fred haise'), ('good', 'fred haise')]>, <Interval start:177756 end:177780 payload:[('looks', 'fred haise'), ('Re', 'ken mattingly'), ('interface', 'ken mattingly')]>, <Interval start:177852 end:177888 payload:[('volts', 'fred haise'), ('the', 'fred haise'), ('okay', 'fred haise')]>, <Interval start:178812 end:178848 payload:[('experienced', 'nasa director'), ('all', 'gene krantz '), ('respect', 'gene krantz ')]>, <Interval start:178884 end:178908 payload:[('this', 'gene krantz '), ('be', 'gene krantz '), ('finest', 'gene krantz ')]>, <Interval start:179532 end:179556 payload:[('35', 'ken mattingly'), ('seconds', 'ken mattingly'), ('entry', 'ken mattingly')]>, <Interval start:183972 end:184008 payload:[('has', 'walter cronkite '), ('come', 'walter cronkite '), ('and', 'walter cronkite ')]>, <Interval start:185772 end:185796 payload:[('Odyssey', 'ken mattingly'), ('Houston', 'ken mattingly')]>, <Interval start:190452 end:190476 payload:[('mission', 'jim lovell'), ('called', 'jim lovell'), ('successful', 'jim lovell')]>, <Interval start:191076 end:191088 payload:[('mission', 'jim lovell'), ('cancelled', 'jim lovell')]>, <Interval start:191136 end:191148 payload:[('in', 'jim lovell'), ('again', 'jim lovell')]>, <Interval start:191184 end:191292 payload:[('Nor', 'jim lovell'), ('Swigert', 'jim lovell'), ('who', 'jim lovell'), ('Astronaut', 'jim lovell'), ('Corps', 'jim lovell'), ('elected', 'jim lovell'), ('Congress', 'jim lovell'), ('state', 'jim lovell'), ('Colorado', 'jim lovell')]>, <Interval start:191340 end:191388 payload:[('of', 'jim lovell'), ('before', 'jim lovell'), ('was', 'jim lovell'), ('take', 'jim lovell'), ('office', 'jim lovell')]>, <Interval start:191436 end:191544 payload:[('Mattingly', 'jim lovell'), ('orbited', 'jim lovell'), ('moon', 'jim lovell'), ('command', 'jim lovell'), ('pilot', 'jim lovell'), ('Apollo', 'jim lovell'), ('16', 'jim lovell'), ('and', 'jim lovell'), ('Space', 'jim lovell')]>, <Interval start:191580 end:191592 payload:[('never', 'jim lovell'), ('measles', 'jim lovell')]>, <Interval start:191640 end:191724 payload:[('Gene', 'jim lovell'), ('Kranz', 'jim lovell'), ('retired', 'jim lovell'), ('Director', 'jim lovell'), ('Operations', 'jim lovell'), ('just', 'jim lovell'), ('ago', 'jim lovell')]>]}"
      ]
     },
     "execution_count": 91,
     "metadata": {},
     "output_type": "execute_result"
    }
   ],
   "source": [
    "reaction_shots.get_allintervals()"
   ]
  },
  {
   "cell_type": "code",
   "execution_count": 88,
   "metadata": {
    "ExecuteTime": {
     "end_time": "2019-01-13T21:45:30.738789Z",
     "start_time": "2019-01-13T21:45:29.873438Z"
    },
    "scrolled": false
   },
   "outputs": [
    {
     "data": {
      "application/vnd.jupyter.widget-view+json": {
       "model_id": "4b4620acc74e49e8982e40f0e1293971",
       "version_major": 2,
       "version_minor": 0
      },
      "text/plain": [
       "VGridWidget(jsglobals={'queries': [['All faces', 'def all_faces():\\n    from query.models import Face\\n    fro…"
      ]
     },
     "metadata": {},
     "output_type": "display_data"
    }
   ],
   "source": [
    "esper_widget(intrvllists_to_result_with_objects(reaction_shots, lambda a, b: []), disable_captions=True)"
   ]
  }
 ],
 "metadata": {
  "kernelspec": {
   "display_name": "Django Shell-Plus",
   "language": "python",
   "name": "django_extensions"
  },
  "language_info": {
   "codemirror_mode": {
    "name": "ipython",
    "version": 3
   },
   "file_extension": ".py",
   "mimetype": "text/x-python",
   "name": "python",
   "nbconvert_exporter": "python",
   "pygments_lexer": "ipython3",
   "version": "3.5.2"
  },
  "toc": {
   "nav_menu": {},
   "number_sections": true,
   "sideBar": true,
   "skip_h1_title": false,
   "toc_cell": false,
   "toc_position": {},
   "toc_section_display": "block",
   "toc_window_display": false
  }
 },
 "nbformat": 4,
 "nbformat_minor": 2
}
