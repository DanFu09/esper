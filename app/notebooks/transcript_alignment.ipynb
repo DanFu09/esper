{
 "cells": [
  {
   "cell_type": "markdown",
   "metadata": {
    "toc": true
   },
   "source": [
    "<h1>Table of Contents<span class=\"tocSkip\"></span></h1>\n",
    "<div class=\"toc\" style=\"margin-top: 1em;\"><ul class=\"toc-item\"><li><span><a href=\"#Install-gentle\" data-toc-modified-id=\"Install-gentle-1\"><span class=\"toc-item-num\">1&nbsp;&nbsp;</span>Install gentle</a></span></li><li><span><a href=\"#Test-align_transcript\" data-toc-modified-id=\"Test-align_transcript-2\"><span class=\"toc-item-num\">2&nbsp;&nbsp;</span>Test align_transcript</a></span></li></ul></div>"
   ]
  },
  {
   "cell_type": "markdown",
   "metadata": {},
   "source": [
    "# Install gentle "
   ]
  },
  {
   "cell_type": "markdown",
   "metadata": {},
   "source": [
    "1.\n",
    "git clone https://github.com/lowerquality/gentle.git\n",
    "\n",
    "2.\n",
    "in /gentle/install_models.sh:10\n",
    "change 'https' to 'http'\n",
    "\n",
    "3.\n",
    "bash ./install.sh (takes ~30min)   "
   ]
  },
  {
   "cell_type": "markdown",
   "metadata": {},
   "source": [
    "# Test align_transcript"
   ]
  },
  {
   "cell_type": "code",
   "execution_count": null,
   "metadata": {
    "ExecuteTime": {
     "end_time": "2018-11-30T18:52:01.487817Z",
     "start_time": "2018-11-30T18:52:01.100396Z"
    }
   },
   "outputs": [],
   "source": [
    "from scannertools import audio, transcript_alignment\n",
    "import scannerpy\n",
    "import os\n",
    "from query.models import Video"
   ]
  },
  {
   "cell_type": "code",
   "execution_count": null,
   "metadata": {
    "ExecuteTime": {
     "end_time": "2018-11-30T18:52:01.654038Z",
     "start_time": "2018-11-30T18:52:01.490544Z"
    }
   },
   "outputs": [],
   "source": [
    "video = Video.objects.filter(path__contains='CNNW_20170907_040000_Anderson_Cooper_360')[0]\n",
    "video2 = Video.objects.filter(path__contains='CNNW_20170605_170000_Wolf')[0]"
   ]
  },
  {
   "cell_type": "code",
   "execution_count": null,
   "metadata": {
    "ExecuteTime": {
     "end_time": "2018-11-30T18:52:01.675753Z",
     "start_time": "2018-11-30T18:52:01.656447Z"
    }
   },
   "outputs": [],
   "source": [
    "aud = audio.AudioSource(video.for_scannertools(), frame_size=60.0)\n",
    "aud2 = audio.AudioSource(video2.for_scannertools(), frame_size=60.0)"
   ]
  },
  {
   "cell_type": "code",
   "execution_count": null,
   "metadata": {
    "ExecuteTime": {
     "end_time": "2018-11-30T18:52:01.696390Z",
     "start_time": "2018-11-30T18:52:01.678228Z"
    }
   },
   "outputs": [],
   "source": [
    "transcript = [\n",
    "    '../app/data/CNNW_20170907_040000_Anderson_Cooper_360.cc5.srt',\n",
    "    '../app/data/CNNW_20170605_170000_Wolf.cc5.srt',\n",
    "    ]"
   ]
  },
  {
   "cell_type": "code",
   "execution_count": null,
   "metadata": {
    "ExecuteTime": {
     "end_time": "2018-11-30T18:52:03.029681Z",
     "start_time": "2018-11-30T18:52:01.698793Z"
    }
   },
   "outputs": [],
   "source": [
    "db = scannerpy.Database()"
   ]
  },
  {
   "cell_type": "code",
   "execution_count": null,
   "metadata": {
    "ExecuteTime": {
     "end_time": "2018-11-30T19:11:49.485375Z",
     "start_time": "2018-11-30T18:52:03.033851Z"
    },
    "scrolled": true
   },
   "outputs": [],
   "source": [
    "transcript_alignment.align_transcript(db, audio=[aud, aud2], transcript=transcript, cache=False, align_dir='../app/aligned_transcript')"
   ]
  }
 ],
 "metadata": {
  "kernelspec": {
   "display_name": "Django Shell-Plus",
   "language": "python",
   "name": "django_extensions"
  },
  "language_info": {
   "codemirror_mode": {
    "name": "ipython",
    "version": 3
   },
   "file_extension": ".py",
   "mimetype": "text/x-python",
   "name": "python",
   "nbconvert_exporter": "python",
   "pygments_lexer": "ipython3",
   "version": "3.5.2"
  },
  "toc": {
   "base_numbering": 1,
   "nav_menu": {},
   "number_sections": true,
   "sideBar": false,
   "skip_h1_title": false,
   "title_cell": "Table of Contents",
   "title_sidebar": "Contents",
   "toc_cell": true,
   "toc_position": {},
   "toc_section_display": "block",
   "toc_window_display": false
  }
 },
 "nbformat": 4,
 "nbformat_minor": 2
}
