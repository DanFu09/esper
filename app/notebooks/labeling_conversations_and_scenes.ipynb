{
 "cells": [
  {
   "cell_type": "markdown",
   "metadata": {},
   "source": [
    "**Imports and Setup. The initialization cell below should run automatically and print out \"Done with initialization!\"**"
   ]
  },
  {
   "cell_type": "code",
   "execution_count": null,
   "metadata": {
    "ExecuteTime": {
     "end_time": "2019-01-25T01:11:09.597215Z",
     "start_time": "2019-01-25T01:11:09.486611Z"
    },
    "hide_input": true,
    "init_cell": true
   },
   "outputs": [],
   "source": [
    "from esper.prelude import *\n",
    "from rekall.video_interval_collection import VideoIntervalCollection\n",
    "from esper.rekall import intrvllists_to_result, add_intrvllists_to_result\n",
    "from query.models import Video, LabeledInterval, Labeler\n",
    "from IPython.display import display, clear_output\n",
    "import ipywidgets as widgets\n",
    "import datetime\n",
    "\n",
    "try:\n",
    "    VIDEO\n",
    "except NameError:\n",
    "    VIDEO = None\n",
    "    ESPER_WIDGET = None\n",
    "    GROUPS = None\n",
    "\n",
    "def choose_random_video():\n",
    "    global VIDEO\n",
    "    VIDEO = Video.objects.filter(ignore_film=False).order_by('?')[0]\n",
    "    \n",
    "    print('Selected film {} ({})'.format(video.title, video.year))\n",
    "\n",
    "def cache_labels(b):\n",
    "    global ESPER_WIDGET, GROUPS\n",
    "    GROUPS = ESPER_WIDGET.groups\n",
    "    print(\"Saved {}\".format(datetime.datetime.now()))\n",
    "    \n",
    "def elements_to_intrvllist(segmentlist):\n",
    "    return [\n",
    "        (int(seg['min_frame']), int(seg['max_frame']), 0)\n",
    "        for seg in segmentlist['segments']\n",
    "    ]\n",
    "    \n",
    "def label_video():\n",
    "    global VIDEO, ESPER_WIDGET, GROUPS\n",
    "    conversations_cached = []\n",
    "    scenes_cached = []\n",
    "    if GROUPS is not None and len(GROUPS) > 0 and len(GROUPS[0]['elements']) == 2:\n",
    "        conversations_cached = elements_to_intrvllist(GROUPS[0]['elements'][0])\n",
    "        scenes_cached = elements_to_intrvllist(GROUPS[0]['elements'][1])\n",
    "    result = intrvllists_to_result(VideoIntervalCollection({VIDEO.id: conversations_cached}), color='red')\n",
    "    add_intrvllists_to_result(result, VideoIntervalCollection({VIDEO.id: scenes_cached}), color='blue')\n",
    "    \n",
    "    save = widgets.Button(\n",
    "        description='Save Progress',\n",
    "        disabled=False,\n",
    "        button_style='success',\n",
    "        tooltip='Save Progress'\n",
    "    )\n",
    "    ESPER_WIDGET = esper_widget(result, jupyter_keybindings=True, timeline_annotation_keys={'w': 0, 'e': 1})\n",
    "    display(ESPER_WIDGET)\n",
    "    display(save)\n",
    "    \n",
    "def prepare_orm_objects():\n",
    "    global GROUPS\n",
    "    conversation_labeler_name = 'conversations-manual-{}'.format(\n",
    "        datetime.datetime.now().strftime('%Y-%m-%d-%H:%M:%S')\n",
    "    )\n",
    "    scene_labeler_name = 'scenes-manual-{}'.format(\n",
    "        datetime.datetime.now().strftime('%Y-%m-%d-%H:%M:%S')\n",
    "    )\n",
    "    new_conversation_labeler, _ = Labeler.objects.get_or_create(name=conversation_labeler_name)\n",
    "    new_scene_labeler, _ = Labeler.objects.get_or_create(name=scene_labeler_name)\n",
    "    if GROUPS is not None and len(GROUPS) > 0 and len(GROUPS[0]['elements']) == 2:\n",
    "        conversations = [\n",
    "            LabeledInterval(\n",
    "                min_frame = int(seg['min_frame']),\n",
    "                max_frame = int(seg['max_frame']),\n",
    "                video_id=VIDEO.id,\n",
    "                labeler=new_conversation_labeler\n",
    "            )\n",
    "            for seg in GROUPS[0]['elements'][0]['segments']\n",
    "        ]\n",
    "        scenes = [\n",
    "            LabeledInterval(\n",
    "                min_frame = int(seg['min_frame']),\n",
    "                max_frame = int(seg['max_frame']),\n",
    "                video_id=VIDEO.id,\n",
    "                labeler=new_conversation_labeler\n",
    "            )\n",
    "            for seg in GROUPS[0]['elements'][1]['segments']\n",
    "        ]\n",
    "        return new_conversation_labeler, new_scene_labeler, conversations + scenes\n",
    "    else:\n",
    "        return []\n",
    "\n",
    "def save_orm_objects(intervals):\n",
    "    LabeledInterval.objects.bulk_create(intervals)\n",
    "\n",
    "def reset_notebook_state():\n",
    "    global VIDEO, ESPER_WIDGET, GROUPS\n",
    "    VIDEO = None\n",
    "    ESPER_WIDGET = None\n",
    "    GROUPS = None\n",
    "\n",
    "print('Done with initialization!')"
   ]
  },
  {
   "cell_type": "markdown",
   "metadata": {},
   "source": [
    "Step 1: Run the cell below to pick a random film to label conversations and scenes for."
   ]
  },
  {
   "cell_type": "code",
   "execution_count": null,
   "metadata": {},
   "outputs": [],
   "source": [
    "choose_random_video()"
   ]
  },
  {
   "cell_type": "markdown",
   "metadata": {},
   "source": [
    "Step 2: Run the cell below to show the labeling interface.\n",
    "\n",
    "Hover over the video and use `=` (on the keyboard) to expand the frame. Use `Shift-P` to start playing the video.\n",
    "\n",
    "Use the `+` and `-` buttons to the right of the timeline to zoom in or out, and use the `<` and `>` buttons to the right of the timeline to scroll the timeline forward or backwards.\n",
    "\n",
    "Use `w` to mark conversations and `e` to mark scenes. The first time you press `w` or `e`, the timeline will place a marker as the start of a conversation or scene. Use `w` or `e` again to mark the end of the conversation or scene. You can use `z` on the keyboard to undo your last action.\n",
    "\n",
    "Do not mark opening logos as scenes.\n",
    "\n",
    "Use `+` and `-` on your keyboard to speed up or slow down the video, and ``` on the keyboard to return the video back to normal speed.\n",
    "\n",
    "Press the **Save Progress** button at any time to locally cache your labels (these will be persistent on page refreshes but not on kernel death)."
   ]
  },
  {
   "cell_type": "code",
   "execution_count": null,
   "metadata": {
    "ExecuteTime": {
     "end_time": "2019-01-25T01:11:14.733503Z",
     "start_time": "2019-01-25T01:11:13.785490Z"
    }
   },
   "outputs": [],
   "source": [
    "label_video()"
   ]
  },
  {
   "cell_type": "markdown",
   "metadata": {},
   "source": [
    "Step 3: Run the two cells below to commit your labels to the database!"
   ]
  },
  {
   "cell_type": "code",
   "execution_count": null,
   "metadata": {},
   "outputs": [],
   "source": [
    "conversation_labeler, scene_labeler, intervals = prepare_orm_objects()"
   ]
  },
  {
   "cell_type": "code",
   "execution_count": null,
   "metadata": {},
   "outputs": [],
   "source": [
    "save_orm_objects(intervals)"
   ]
  },
  {
   "cell_type": "markdown",
   "metadata": {},
   "source": [
    "Step 4: Run the cell below to reset your notebook state and start over from step 1 with a new film!"
   ]
  },
  {
   "cell_type": "code",
   "execution_count": null,
   "metadata": {},
   "outputs": [],
   "source": [
    "reset_notebook_state()"
   ]
  }
 ],
 "metadata": {
  "celltoolbar": "Initialization Cell",
  "kernelspec": {
   "display_name": "Django Shell-Plus",
   "language": "python",
   "name": "django_extensions"
  },
  "language_info": {
   "codemirror_mode": {
    "name": "ipython",
    "version": 3
   },
   "file_extension": ".py",
   "mimetype": "text/x-python",
   "name": "python",
   "nbconvert_exporter": "python",
   "pygments_lexer": "ipython3",
   "version": "3.5.2"
  },
  "toc": {
   "nav_menu": {},
   "number_sections": true,
   "sideBar": true,
   "skip_h1_title": false,
   "toc_cell": false,
   "toc_position": {},
   "toc_section_display": "block",
   "toc_window_display": false
  }
 },
 "nbformat": 4,
 "nbformat_minor": 2
}
