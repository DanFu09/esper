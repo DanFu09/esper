{
 "cells": [
  {
   "cell_type": "markdown",
   "metadata": {
    "toc": true
   },
   "source": [
    "<h1>Table of Contents<span class=\"tocSkip\"></span></h1>\n",
    "<div class=\"toc\" style=\"margin-top: 1em;\"><ul class=\"toc-item\"><li><span><a href=\"#Gender-Analysis\" data-toc-modified-id=\"Gender-Analysis-1\"><span class=\"toc-item-num\">1&nbsp;&nbsp;</span>Gender Analysis</a></span><ul class=\"toc-item\"><li><span><a href=\"#Computing-Gender-Screen-Time\" data-toc-modified-id=\"Computing-Gender-Screen-Time-1.1\"><span class=\"toc-item-num\">1.1&nbsp;&nbsp;</span>Computing Gender Screen Time</a></span></li><li><span><a href=\"#Gender-Screen-Time-in-Our-Dataset\" data-toc-modified-id=\"Gender-Screen-Time-in-Our-Dataset-1.2\"><span class=\"toc-item-num\">1.2&nbsp;&nbsp;</span>Gender Screen Time in Our Dataset</a></span></li><li><span><a href=\"#Changes-in-gender-representation-over-time\" data-toc-modified-id=\"Changes-in-gender-representation-over-time-1.3\"><span class=\"toc-item-num\">1.3&nbsp;&nbsp;</span>Changes in gender representation over time</a></span></li><li><span><a href=\"#Gender-Representation-by-Genre\" data-toc-modified-id=\"Gender-Representation-by-Genre-1.4\"><span class=\"toc-item-num\">1.4&nbsp;&nbsp;</span>Gender Representation by Genre</a></span></li><li><span><a href=\"#Distribution-of-movies-by-year\" data-toc-modified-id=\"Distribution-of-movies-by-year-1.5\"><span class=\"toc-item-num\">1.5&nbsp;&nbsp;</span>Distribution of movies by year</a></span></li><li><span><a href=\"#Shot-Duration\" data-toc-modified-id=\"Shot-Duration-1.6\"><span class=\"toc-item-num\">1.6&nbsp;&nbsp;</span>Shot Duration</a></span><ul class=\"toc-item\"><li><span><a href=\"#Average-Shot-Duration-Over-the-Years\" data-toc-modified-id=\"Average-Shot-Duration-Over-the-Years-1.6.1\"><span class=\"toc-item-num\">1.6.1&nbsp;&nbsp;</span>Average Shot Duration Over the Years</a></span></li><li><span><a href=\"#Changes-in-Shot-Duration-Within-Movies-(Narrative-Structure)\" data-toc-modified-id=\"Changes-in-Shot-Duration-Within-Movies-(Narrative-Structure)-1.6.2\"><span class=\"toc-item-num\">1.6.2&nbsp;&nbsp;</span>Changes in Shot Duration Within Movies (Narrative Structure)</a></span></li></ul></li><li><span><a href=\"#Shot-Scale\" data-toc-modified-id=\"Shot-Scale-1.7\"><span class=\"toc-item-num\">1.7&nbsp;&nbsp;</span>Shot Scale</a></span><ul class=\"toc-item\"><li><span><a href=\"#Changes-in-shot-scale-over-time\" data-toc-modified-id=\"Changes-in-shot-scale-over-time-1.7.1\"><span class=\"toc-item-num\">1.7.1&nbsp;&nbsp;</span>Changes in shot scale over time</a></span></li><li><span><a href=\"#More-Changes-in-Shot-Scale-over-time\" data-toc-modified-id=\"More-Changes-in-Shot-Scale-over-time-1.7.2\"><span class=\"toc-item-num\">1.7.2&nbsp;&nbsp;</span>More Changes in Shot Scale over time</a></span></li><li><span><a href=\"#Relationship-between-shot-duration-and-shot-scale\" data-toc-modified-id=\"Relationship-between-shot-duration-and-shot-scale-1.7.3\"><span class=\"toc-item-num\">1.7.3&nbsp;&nbsp;</span>Relationship between shot duration and shot scale</a></span></li></ul></li><li><span><a href=\"#Brightness\" data-toc-modified-id=\"Brightness-1.8\"><span class=\"toc-item-num\">1.8&nbsp;&nbsp;</span>Brightness</a></span><ul class=\"toc-item\"><li><span><a href=\"#Changes-in-brightness-over-the-years\" data-toc-modified-id=\"Changes-in-brightness-over-the-years-1.8.1\"><span class=\"toc-item-num\">1.8.1&nbsp;&nbsp;</span>Changes in brightness over the years</a></span></li><li><span><a href=\"#Changes-in-brightness-within-movies-(narrative-structure)\" data-toc-modified-id=\"Changes-in-brightness-within-movies-(narrative-structure)-1.8.2\"><span class=\"toc-item-num\">1.8.2&nbsp;&nbsp;</span>Changes in brightness within movies (narrative structure)</a></span></li></ul></li><li><span><a href=\"#Saturation\" data-toc-modified-id=\"Saturation-1.9\"><span class=\"toc-item-num\">1.9&nbsp;&nbsp;</span>Saturation</a></span><ul class=\"toc-item\"><li><span><a href=\"#Changes-in-saturation-over-the-years\" data-toc-modified-id=\"Changes-in-saturation-over-the-years-1.9.1\"><span class=\"toc-item-num\">1.9.1&nbsp;&nbsp;</span>Changes in saturation over the years</a></span></li><li><span><a href=\"#Changes-in-saturation-within-movies-(narrative-structure?)\" data-toc-modified-id=\"Changes-in-saturation-within-movies-(narrative-structure?)-1.9.2\"><span class=\"toc-item-num\">1.9.2&nbsp;&nbsp;</span>Changes in saturation within movies (narrative structure?)</a></span></li></ul></li><li><span><a href=\"#Mean-Number-of-People\" data-toc-modified-id=\"Mean-Number-of-People-1.10\"><span class=\"toc-item-num\">1.10&nbsp;&nbsp;</span>Mean Number of People</a></span><ul class=\"toc-item\"><li><span><a href=\"#Mean-number-of-people-per-frame-over-the-years\" data-toc-modified-id=\"Mean-number-of-people-per-frame-over-the-years-1.10.1\"><span class=\"toc-item-num\">1.10.1&nbsp;&nbsp;</span>Mean number of people per frame over the years</a></span></li><li><span><a href=\"#Distribution-of-number-of-people-per-frame\" data-toc-modified-id=\"Distribution-of-number-of-people-per-frame-1.10.2\"><span class=\"toc-item-num\">1.10.2&nbsp;&nbsp;</span>Distribution of number of people per frame</a></span></li></ul></li></ul></li></ul></div>"
   ]
  },
  {
   "cell_type": "code",
   "execution_count": null,
   "metadata": {
    "ExecuteTime": {
     "end_time": "2019-01-05T03:20:25.103319Z",
     "start_time": "2019-01-05T03:20:25.015287Z"
    }
   },
   "outputs": [],
   "source": [
    "from query.models import Video, Shot, Labeler, Face, FaceGender, Genre\n",
    "import matplotlib.pyplot as plt\n",
    "import matplotlib.ticker as plticker\n",
    "import numpy as np\n",
    "from django.db.models import Avg, Sum\n",
    "from tqdm import tqdm\n",
    "import rekall\n",
    "from rekall.video_interval_collection import VideoIntervalCollection\n",
    "from rekall.interval_list import IntervalList\n",
    "from rekall.merge_ops import payload_plus\n",
    "from rekall.parsers import in_array, merge_dict_parsers, dict_payload_parser\n",
    "from rekall.temporal_predicates import overlaps\n",
    "from rekall.payload_predicates import payload_satisfies"
   ]
  },
  {
   "cell_type": "markdown",
   "metadata": {},
   "source": [
    "# Gender Analysis\n",
    "\n",
    "In this notebook we'll be conducting some analyses of gender screen time ratios (male vs female screentime) over the film dataset. We will exclude all animated films."
   ]
  },
  {
   "cell_type": "markdown",
   "metadata": {},
   "source": [
    "## Computing Gender Screen Time\n",
    "Faces are computed at 2 FPS and at every microshot boundary. To avoid weird edge cases at the microshot boundaries, we'll only compute statistics at the 2 FPS sampling."
   ]
  },
  {
   "cell_type": "code",
   "execution_count": null,
   "metadata": {
    "ExecuteTime": {
     "end_time": "2019-01-05T03:20:25.143043Z",
     "start_time": "2019-01-05T03:20:25.108121Z"
    }
   },
   "outputs": [],
   "source": [
    "all_videos = Video.objects.filter(decode_errors=False).exclude(genres__name='animation').order_by('id').all()"
   ]
  },
  {
   "cell_type": "code",
   "execution_count": null,
   "metadata": {
    "ExecuteTime": {
     "end_time": "2019-01-05T03:25:28.611307Z",
     "start_time": "2019-01-05T03:20:25.146330Z"
    }
   },
   "outputs": [],
   "source": [
    "# Takes about five and a half minutes to run!\n",
    "# Load all FaceGender data into Rekall. faces_with_gender has one interval per face.\n",
    "facegender_qs = FaceGender.objects.filter(\n",
    "    face__frame__video__in=all_videos\n",
    ").annotate(\n",
    "    min_frame=F('face__frame__number'),\n",
    "    max_frame=F('face__frame__number'),\n",
    "    video_id=F('face__frame__video_id'),\n",
    "    gender_name=F('gender__name'),\n",
    "    face_probability=F('face__probability')\n",
    ").all()\n",
    "\n",
    "total_faces = facegender_qs.count()\n",
    "\n",
    "faces_with_gender = VideoIntervalCollection.from_django_qs(\n",
    "    facegender_qs,\n",
    "    with_payload=merge_dict_parsers([\n",
    "        dict_payload_parser(VideoIntervalCollection.django_accessor, { 'gender': 'gender_name' }),\n",
    "        dict_payload_parser(VideoIntervalCollection.django_accessor, { 'gender_probability': 'probability' }),\n",
    "        dict_payload_parser(VideoIntervalCollection.django_accessor, { 'face_probability': 'face_probability' })\n",
    "    ]),\n",
    "    progress=True,\n",
    "    total=total_faces\n",
    ")"
   ]
  },
  {
   "cell_type": "code",
   "execution_count": null,
   "metadata": {
    "ExecuteTime": {
     "end_time": "2019-01-05T03:25:28.665762Z",
     "start_time": "2019-01-05T03:25:28.616383Z"
    }
   },
   "outputs": [],
   "source": [
    "def compute_gender_ratio_for_video(intervallist):\n",
    "    male_time = intervallist.filter(\n",
    "        payload_satisfies(lambda payload: payload['gender'] == 'M')\n",
    "    ).fold(lambda acc, intrvl: (acc + \n",
    "                                intrvl.get_payload()['gender_probability'] * \n",
    "                                intrvl.get_payload()['face_probability']), 0.)\n",
    "    female_time = intervallist.filter(\n",
    "        payload_satisfies(lambda payload: payload['gender'] == 'F')\n",
    "    ).fold(lambda acc, intrvl: (acc + \n",
    "                                intrvl.get_payload()['gender_probability'] * \n",
    "                                intrvl.get_payload()['face_probability']), 0.)\n",
    "    \n",
    "    return male_time / (male_time + female_time), female_time / (male_time + female_time)"
   ]
  },
  {
   "cell_type": "code",
   "execution_count": null,
   "metadata": {
    "ExecuteTime": {
     "end_time": "2019-01-05T03:26:47.863622Z",
     "start_time": "2019-01-05T03:25:28.670562Z"
    },
    "scrolled": true
   },
   "outputs": [],
   "source": [
    "videos_with_gender_ratios = [\n",
    "    (video, compute_gender_ratio_for_video(faces_with_gender.get_intervallist(video.id)))\n",
    "    for video in tqdm(all_videos)\n",
    "]"
   ]
  },
  {
   "cell_type": "code",
   "execution_count": null,
   "metadata": {
    "ExecuteTime": {
     "end_time": "2019-01-05T04:27:38.761374Z",
     "start_time": "2019-01-05T04:25:45.913154Z"
    }
   },
   "outputs": [],
   "source": [
    "# For sanity checking, remove films calssified as fantasy (old men with long hair) or family (young kids)\n",
    "videos_no_family_fantasy = Video.objects.filter(decode_errors=False).exclude(\n",
    "    genres__name__in=['animation', 'family', 'fantasy']\n",
    ")\n",
    "videos_with_gender_ratios_no_family_fantasy = [\n",
    "    (video, compute_gender_ratio_for_video(faces_with_gender.get_intervallist(video.id)))\n",
    "    for video in tqdm(videos_no_family_fantasy)\n",
    "]"
   ]
  },
  {
   "cell_type": "markdown",
   "metadata": {},
   "source": [
    "## Gender Screen Time in Our Dataset"
   ]
  },
  {
   "cell_type": "code",
   "execution_count": null,
   "metadata": {
    "ExecuteTime": {
     "end_time": "2019-01-05T03:26:47.902162Z",
     "start_time": "2019-01-05T03:26:47.866708Z"
    }
   },
   "outputs": [],
   "source": [
    "# Let's plot histograms of male and female screen time\n",
    "def plot_male_female_screen_time_histograms(videos_with_gender_ratios):\n",
    "    male_screen_time = sorted([m for v, (m, f) in videos_with_gender_ratios])\n",
    "    female_screen_time = sorted([f for v, (m, f) in videos_with_gender_ratios])\n",
    "    \n",
    "    fig, ax = plt.subplots(figsize=(10, 5))\n",
    "    ax.hist([male_screen_time, female_screen_time], [i * .01 for i in range(100)], histtype='bar',\n",
    "             label=['Male Screen Time', 'Female Screen Time'], color=['y', 'g'])\n",
    "    ax.legend()\n",
    "    ax.set_title('Histogram of male and female screen time')\n",
    "    plt.show()"
   ]
  },
  {
   "cell_type": "code",
   "execution_count": null,
   "metadata": {
    "ExecuteTime": {
     "end_time": "2019-01-05T03:26:48.464784Z",
     "start_time": "2019-01-05T03:26:47.905206Z"
    }
   },
   "outputs": [],
   "source": [
    "plot_male_female_screen_time_histograms(videos_with_gender_ratios)"
   ]
  },
  {
   "cell_type": "code",
   "execution_count": null,
   "metadata": {
    "ExecuteTime": {
     "end_time": "2019-01-05T04:27:56.607687Z",
     "start_time": "2019-01-05T04:27:56.076873Z"
    }
   },
   "outputs": [],
   "source": [
    "plot_male_female_screen_time_histograms(videos_with_gender_ratios_no_family_fantasy)"
   ]
  },
  {
   "cell_type": "code",
   "execution_count": null,
   "metadata": {
    "ExecuteTime": {
     "end_time": "2019-01-05T03:26:48.519420Z",
     "start_time": "2019-01-05T03:26:48.468275Z"
    }
   },
   "outputs": [],
   "source": [
    "# What about overall male/female screen time?\n",
    "def plot_average_male_female_screen_time(videos_with_gender_ratios):\n",
    "    male_screen_time = [np.mean([m for v, (m, f) in videos_with_gender_ratios])]\n",
    "    female_screen_time = [np.mean([f for v, (m, f) in videos_with_gender_ratios])]\n",
    "    \n",
    "    names = ['Average Screen Time']\n",
    "    N = len(names)\n",
    "\n",
    "    ax = plt.gca()\n",
    "    \n",
    "    width = 0.35\n",
    "    ind = np.arange(N)\n",
    "    p1 = ax.bar(ind, male_screen_time, width, color='y')\n",
    "    p2 = ax.bar(ind + width, female_screen_time, width, color='g')\n",
    "    \n",
    "    ax.set_title('Average Male/Female Screen Time')\n",
    "    ax.set_xticks(ind + width / 2)\n",
    "    ax.set_xticklabels(names)\n",
    "    ax.set_ylabel('Average Screen Time')\n",
    "    ax.set_ylim((0, 1))\n",
    "    \n",
    "    ax.legend((p1[0], p2[0]), ('Male Screen Time', 'Female Screen Time'))\n",
    "    \n",
    "    def autolabel(rects):\n",
    "        \"\"\"\n",
    "        Attach a text label above each bar displaying its height\n",
    "        \"\"\"\n",
    "        for rect in rects:\n",
    "            height = rect.get_height()\n",
    "            ax.text(rect.get_x() + rect.get_width()/2., 1.05*height,\n",
    "                    '%f' % height,\n",
    "                    ha='center', va='bottom')\n",
    "\n",
    "    autolabel(p1)\n",
    "    autolabel(p2)\n",
    "    \n",
    "    plt.show()"
   ]
  },
  {
   "cell_type": "code",
   "execution_count": null,
   "metadata": {
    "ExecuteTime": {
     "end_time": "2019-01-05T03:26:48.684389Z",
     "start_time": "2019-01-05T03:26:48.523146Z"
    }
   },
   "outputs": [],
   "source": [
    "plot_average_male_female_screen_time(videos_with_gender_ratios)"
   ]
  },
  {
   "cell_type": "code",
   "execution_count": null,
   "metadata": {
    "ExecuteTime": {
     "end_time": "2019-01-05T04:28:11.485529Z",
     "start_time": "2019-01-05T04:28:11.317152Z"
    }
   },
   "outputs": [],
   "source": [
    "plot_average_male_female_screen_time(videos_with_gender_ratios_no_family_fantasy)"
   ]
  },
  {
   "cell_type": "markdown",
   "metadata": {},
   "source": [
    "## Changes in gender representation over time"
   ]
  },
  {
   "cell_type": "code",
   "execution_count": null,
   "metadata": {
    "ExecuteTime": {
     "end_time": "2019-01-05T03:26:48.755532Z",
     "start_time": "2019-01-05T03:26:48.687853Z"
    }
   },
   "outputs": [],
   "source": [
    "# Plot male ratios by year\n",
    "def plot_male_gender_ratios_by_year(videos_with_gender_ratios, min_year=None):\n",
    "    data = sorted([(v.year, male_ratio) for v, (male_ratio, female_ratio) in videos_with_gender_ratios])\n",
    "    if min_year is not None:\n",
    "        data = [d for d in data if d[0] >= min_year]\n",
    "\n",
    "    x = [d[0] for d in data]\n",
    "    y = [d[1] for d in data]\n",
    "    \n",
    "    fig, ax = plt.subplots(figsize=(10, 5))\n",
    "    ax.scatter(x, y, s=3, color='y')\n",
    "    ax.set_ylim(0, 1)\n",
    "    ax.set_xlabel('Year')\n",
    "    ax.set_ylabel('Male Screen Time Percentage')\n",
    "    ax.set_title('Male Screen Time Percentage Over Time')\n",
    "    \n",
    "    #ax.set_yscale('symlog')\n",
    "    \n",
    "#     ax.plot(np.unique(x), np.poly1d(np.polyfit(x, y, 3))(np.unique(x)))\n",
    "    ax.plot(np.unique(x), np.poly1d(np.polyfit(x, y, 1))(np.unique(x)), color='y')\n",
    "    plt.show()\n",
    "    \n",
    "# Plot male ratios by year\n",
    "def plot_female_gender_ratios_by_year(videos_with_gender_ratios, min_year=None):\n",
    "    data = sorted([(v.year, female_ratio) for v, (male_ratio, female_ratio) in videos_with_gender_ratios])\n",
    "    if min_year is not None:\n",
    "        data = [d for d in data if d[0] >= min_year]\n",
    "\n",
    "    x = [d[0] for d in data]\n",
    "    y = [d[1] for d in data]\n",
    "    \n",
    "    fig, ax = plt.subplots(figsize=(10, 5))\n",
    "    ax.scatter(x, y, s=3, color='g')\n",
    "    ax.set_ylim(0, 1)\n",
    "    ax.set_xlabel('Year')\n",
    "    ax.set_ylabel('Female Screen Time Percentage')\n",
    "    ax.set_title('Female Screen Time Percentage Over Time')\n",
    "    \n",
    "    #ax.set_yscale('symlog')\n",
    "    \n",
    "#     ax.plot(np.unique(x), np.poly1d(np.polyfit(x, y, 3))(np.unique(x)))\n",
    "    ax.plot(np.unique(x), np.poly1d(np.polyfit(x, y, 1))(np.unique(x)), color='g')\n",
    "    plt.show()"
   ]
  },
  {
   "cell_type": "code",
   "execution_count": null,
   "metadata": {
    "ExecuteTime": {
     "end_time": "2019-01-05T03:26:49.115807Z",
     "start_time": "2019-01-05T03:26:48.758803Z"
    }
   },
   "outputs": [],
   "source": [
    "plot_male_gender_ratios_by_year(videos_with_gender_ratios)\n",
    "plot_female_gender_ratios_by_year(videos_with_gender_ratios)"
   ]
  },
  {
   "cell_type": "code",
   "execution_count": null,
   "metadata": {
    "ExecuteTime": {
     "end_time": "2019-01-05T04:28:26.434956Z",
     "start_time": "2019-01-05T04:28:26.086776Z"
    }
   },
   "outputs": [],
   "source": [
    "plot_male_gender_ratios_by_year(videos_with_gender_ratios_no_family_fantasy)\n",
    "plot_female_gender_ratios_by_year(videos_with_gender_ratios_no_family_fantasy)"
   ]
  },
  {
   "cell_type": "code",
   "execution_count": null,
   "metadata": {
    "ExecuteTime": {
     "end_time": "2019-01-05T03:26:49.151479Z",
     "start_time": "2019-01-05T03:26:49.118728Z"
    }
   },
   "outputs": [],
   "source": [
    "# What videos have exceptionally high male screen times (low female screen times)?\n",
    "sorted([\n",
    "    (v.title, v.year, male_screen_time)\n",
    "    for v, (male_screen_time, female_screen_time) in videos_with_gender_ratios if male_screen_time > .85\n",
    "], key=lambda tup: (tup[1], tup[0], tup[2]))"
   ]
  },
  {
   "cell_type": "code",
   "execution_count": null,
   "metadata": {
    "ExecuteTime": {
     "end_time": "2019-01-05T03:26:49.188621Z",
     "start_time": "2019-01-05T03:26:49.154524Z"
    }
   },
   "outputs": [],
   "source": [
    "# What videos have exceptionally low male screen times (high female screen times)?\n",
    "sorted([\n",
    "    (v.title, v.year, male_screen_time)\n",
    "    for v, (male_screen_time, female_screen_time) in videos_with_gender_ratios if male_screen_time < .25\n",
    "], key=lambda tup: (tup[1], tup[0], tup[2]))"
   ]
  },
  {
   "cell_type": "markdown",
   "metadata": {},
   "source": [
    "## Gender Representation by Genre\n",
    "\n",
    "We have 22 different genres. How does gender representation differ for each?"
   ]
  },
  {
   "cell_type": "code",
   "execution_count": null,
   "metadata": {
    "ExecuteTime": {
     "end_time": "2019-01-05T04:37:00.294472Z",
     "start_time": "2019-01-05T04:37:00.205320Z"
    }
   },
   "outputs": [],
   "source": [
    "# First, let's see how many films are in each genre\n",
    "genres_and_counts = sorted([\n",
    "    (g.name, Video.objects.filter(genres=g).count())\n",
    "    for g in Genre.objects.all()\n",
    "], key=lambda g_and_c: g_and_c[1])"
   ]
  },
  {
   "cell_type": "code",
   "execution_count": null,
   "metadata": {
    "ExecuteTime": {
     "end_time": "2019-01-05T04:37:01.201868Z",
     "start_time": "2019-01-05T04:37:01.171151Z"
    }
   },
   "outputs": [],
   "source": [
    "genres_and_counts"
   ]
  },
  {
   "cell_type": "code",
   "execution_count": null,
   "metadata": {
    "ExecuteTime": {
     "end_time": "2019-01-05T04:38:36.086114Z",
     "start_time": "2019-01-05T04:38:36.054495Z"
    }
   },
   "outputs": [],
   "source": [
    "# Let's exclude animation, short, and documentary\n",
    "genres = Genre.objects.exclude(name__in=['animation', 'short', 'documentary']).all()"
   ]
  },
  {
   "cell_type": "code",
   "execution_count": null,
   "metadata": {
    "ExecuteTime": {
     "end_time": "2019-01-05T04:39:31.630502Z",
     "start_time": "2019-01-05T04:39:31.560749Z"
    }
   },
   "outputs": [],
   "source": [
    "def plot_gender_screen_time_by_genre(videos_with_gender_ratios, genres, title):\n",
    "    data = []\n",
    "    for genre in genres:\n",
    "        videos_in_genre = [v.id for v in Video.objects.filter(genres=genre).all()]\n",
    "        male_screen_time = np.mean([m for v, (m, f) in videos_with_gender_ratios \n",
    "                                     if v.id in videos_in_genre])\n",
    "        female_screen_time = np.mean([f for v, (m, f) in videos_with_gender_ratios \n",
    "                                     if v.id in videos_in_genre])\n",
    "        data.append((male_screen_time, female_screen_time, genre.name))\n",
    "    \n",
    "    data = sorted(data)\n",
    "    \n",
    "    male_screen_times = [m for m, _, _ in data]\n",
    "    female_screen_times = [f for _, f, _ in data]\n",
    "    genres = [genre for _, _, genre in data]\n",
    "    N = len(genres)\n",
    "\n",
    "    fig, ax = plt.subplots(figsize=(10, 10))\n",
    "    \n",
    "    height = 0.35\n",
    "    ind = np.arange(N)\n",
    "    p1 = ax.barh(ind + height, male_screen_times, height, color='y')\n",
    "    p2 = ax.barh(ind, female_screen_times, height, color='g')\n",
    "    \n",
    "    ax.set_title(title)\n",
    "    ax.set_yticks(ind + height / 2)\n",
    "    ax.set_yticklabels(genres)\n",
    "    ax.set_xlim((0, 1))\n",
    "    \n",
    "    ax.legend((p1[0], p2[0]), ('Male Screen Time', 'Female Screen Time'), loc=4)\n",
    "    \n",
    "    def autolabel(rects):\n",
    "        \"\"\"\n",
    "        Attach a text label above each bar displaying its height\n",
    "        \"\"\"\n",
    "        for rect in rects:\n",
    "            width = rect.get_width()\n",
    "            ax.text(width + .01, rect.get_y()-.2,\n",
    "                    '%f Male' % width,\n",
    "                    ha='left', va='bottom')\n",
    "\n",
    "    autolabel(p1)\n",
    "#     autolabel(p2)\n",
    "    \n",
    "    plt.show()"
   ]
  },
  {
   "cell_type": "code",
   "execution_count": null,
   "metadata": {
    "ExecuteTime": {
     "end_time": "2019-01-05T04:39:33.507515Z",
     "start_time": "2019-01-05T04:39:33.000574Z"
    }
   },
   "outputs": [],
   "source": [
    "plot_gender_screen_time_by_genre(videos_with_gender_ratios, genres, 'Male/female screen time by genre')"
   ]
  }
 ],
 "metadata": {
  "kernelspec": {
   "display_name": "Django Shell-Plus",
   "language": "python",
   "name": "django_extensions"
  },
  "language_info": {
   "codemirror_mode": {
    "name": "ipython",
    "version": 3
   },
   "file_extension": ".py",
   "mimetype": "text/x-python",
   "name": "python",
   "nbconvert_exporter": "python",
   "pygments_lexer": "ipython3",
   "version": "3.5.2"
  },
  "toc": {
   "nav_menu": {},
   "number_sections": true,
   "sideBar": true,
   "skip_h1_title": false,
   "toc_cell": true,
   "toc_position": {},
   "toc_section_display": "block",
   "toc_window_display": false
  }
 },
 "nbformat": 4,
 "nbformat_minor": 2
}
