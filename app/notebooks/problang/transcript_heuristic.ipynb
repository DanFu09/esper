{
 "cells": [
  {
   "cell_type": "markdown",
   "metadata": {
    "toc": true
   },
   "source": [
    "<h1>Table of Contents<span class=\"tocSkip\"></span></h1>\n",
    "<div class=\"toc\" style=\"margin-top: 1em;\"><ul class=\"toc-item\"></ul></div>"
   ]
  },
  {
   "cell_type": "code",
   "execution_count": null,
   "metadata": {
    "ExecuteTime": {
     "end_time": "2018-12-02T21:13:47.249717Z",
     "start_time": "2018-12-02T21:13:47.227026Z"
    }
   },
   "outputs": [],
   "source": [
    "from esper.prelude import *\n",
    "from transcript_utils import *\n",
    "from operator import itemgetter"
   ]
  },
  {
   "cell_type": "code",
   "execution_count": null,
   "metadata": {
    "ExecuteTime": {
     "end_time": "2018-12-02T21:12:24.800479Z",
     "start_time": "2018-12-02T21:12:24.770393Z"
    }
   },
   "outputs": [],
   "source": [
    "all_videos = video_list()"
   ]
  },
  {
   "cell_type": "code",
   "execution_count": null,
   "metadata": {
    "ExecuteTime": {
     "end_time": "2018-12-02T21:13:49.466216Z",
     "start_time": "2018-12-02T21:13:47.896796Z"
    }
   },
   "outputs": [],
   "source": [
    "topic = 'immigration'\n",
    "lexicon = mutual_info(topic)"
   ]
  },
  {
   "cell_type": "code",
   "execution_count": null,
   "metadata": {
    "ExecuteTime": {
     "end_time": "2018-12-02T21:13:53.091644Z",
     "start_time": "2018-12-02T21:13:50.493133Z"
    }
   },
   "outputs": [],
   "source": [
    "initial_segments = find_segments(all_videos, lexicon, threshold=20, window_size=SEGMENT_SIZE, stride=SEGMENT_STRIDE)"
   ]
  },
  {
   "cell_type": "code",
   "execution_count": null,
   "metadata": {
    "ExecuteTime": {
     "end_time": "2018-12-02T21:13:53.119137Z",
     "start_time": "2018-12-02T21:13:53.094024Z"
    }
   },
   "outputs": [],
   "source": [
    "initial_segments_dict = [{'item_name': seg[0], 'segment': seg[2], 'score': seg[3]} for seg in initial_segments]\n",
    "initial_segments_dict.sort(key=itemgetter('score'), reverse=True)"
   ]
  },
  {
   "cell_type": "code",
   "execution_count": null,
   "metadata": {
    "ExecuteTime": {
     "end_time": "2018-12-02T21:13:53.146327Z",
     "start_time": "2018-12-02T21:13:53.120848Z"
    }
   },
   "outputs": [],
   "source": [
    "pcache.set('initial_segments', initial_segments_dict)"
   ]
  }
 ],
 "metadata": {
  "kernelspec": {
   "display_name": "Django Shell-Plus",
   "language": "python",
   "name": "django_extensions"
  },
  "language_info": {
   "codemirror_mode": {
    "name": "ipython",
    "version": 3
   },
   "file_extension": ".py",
   "mimetype": "text/x-python",
   "name": "python",
   "nbconvert_exporter": "python",
   "pygments_lexer": "ipython3",
   "version": "3.5.2"
  },
  "toc": {
   "base_numbering": 1,
   "nav_menu": {},
   "number_sections": true,
   "sideBar": false,
   "skip_h1_title": false,
   "title_cell": "Table of Contents",
   "title_sidebar": "Contents",
   "toc_cell": true,
   "toc_position": {},
   "toc_section_display": "block",
   "toc_window_display": false
  }
 },
 "nbformat": 4,
 "nbformat_minor": 2
}
