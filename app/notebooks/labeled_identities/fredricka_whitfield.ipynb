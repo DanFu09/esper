{
 "cells": [
  {
   "cell_type": "markdown",
   "metadata": {
    "toc": true
   },
   "source": [
    "<h1>Table of Contents<span class=\"tocSkip\"></span></h1>\n",
    "<div class=\"toc\" style=\"margin-top: 1em;\"><ul class=\"toc-item\"><li><span><a href=\"#Name\" data-toc-modified-id=\"Name-1\"><span class=\"toc-item-num\">1&nbsp;&nbsp;</span>Name</a></span></li><li><span><a href=\"#Search\" data-toc-modified-id=\"Search-2\"><span class=\"toc-item-num\">2&nbsp;&nbsp;</span>Search</a></span><ul class=\"toc-item\"><li><span><a href=\"#Load-Cached-Results\" data-toc-modified-id=\"Load-Cached-Results-2.1\"><span class=\"toc-item-num\">2.1&nbsp;&nbsp;</span>Load Cached Results</a></span></li><li><span><a href=\"#Run-From-Scratch\" data-toc-modified-id=\"Run-From-Scratch-2.2\"><span class=\"toc-item-num\">2.2&nbsp;&nbsp;</span>Run From Scratch</a></span></li></ul></li><li><span><a href=\"#Analysis\" data-toc-modified-id=\"Analysis-3\"><span class=\"toc-item-num\">3&nbsp;&nbsp;</span>Analysis</a></span><ul class=\"toc-item\"><li><span><a href=\"#Gender-Breakdown\" data-toc-modified-id=\"Gender-Breakdown-3.1\"><span class=\"toc-item-num\">3.1&nbsp;&nbsp;</span>Gender Breakdown</a></span></li><li><span><a href=\"#Face-Sizes\" data-toc-modified-id=\"Face-Sizes-3.2\"><span class=\"toc-item-num\">3.2&nbsp;&nbsp;</span>Face Sizes</a></span></li><li><span><a href=\"#Appearances-on-a-Single-Show\" data-toc-modified-id=\"Appearances-on-a-Single-Show-3.3\"><span class=\"toc-item-num\">3.3&nbsp;&nbsp;</span>Appearances on a Single Show</a></span></li><li><span><a href=\"#Screen-Time-Across-All-Shows\" data-toc-modified-id=\"Screen-Time-Across-All-Shows-3.4\"><span class=\"toc-item-num\">3.4&nbsp;&nbsp;</span>Screen Time Across All Shows</a></span></li></ul></li><li><span><a href=\"#Persist-to-Cloud\" data-toc-modified-id=\"Persist-to-Cloud-4\"><span class=\"toc-item-num\">4&nbsp;&nbsp;</span>Persist to Cloud</a></span><ul class=\"toc-item\"><li><span><a href=\"#Save-Model-to-GCS\" data-toc-modified-id=\"Save-Model-to-GCS-4.1\"><span class=\"toc-item-num\">4.1&nbsp;&nbsp;</span>Save Model to GCS</a></span><ul class=\"toc-item\"><li><span><a href=\"#Make-sure-the-GCS-file-is-valid\" data-toc-modified-id=\"Make-sure-the-GCS-file-is-valid-4.1.1\"><span class=\"toc-item-num\">4.1.1&nbsp;&nbsp;</span>Make sure the GCS file is valid</a></span></li></ul></li><li><span><a href=\"#Save-Labels-to-DB\" data-toc-modified-id=\"Save-Labels-to-DB-4.2\"><span class=\"toc-item-num\">4.2&nbsp;&nbsp;</span>Save Labels to DB</a></span><ul class=\"toc-item\"><li><span><a href=\"#Commit-the-person-and-labeler\" data-toc-modified-id=\"Commit-the-person-and-labeler-4.2.1\"><span class=\"toc-item-num\">4.2.1&nbsp;&nbsp;</span>Commit the person and labeler</a></span></li><li><span><a href=\"#Commit-the-FaceIdentity-labels\" data-toc-modified-id=\"Commit-the-FaceIdentity-labels-4.2.2\"><span class=\"toc-item-num\">4.2.2&nbsp;&nbsp;</span>Commit the FaceIdentity labels</a></span></li></ul></li></ul></li></ul></div>"
   ]
  },
  {
   "cell_type": "code",
   "execution_count": null,
   "metadata": {
    "ExecuteTime": {
     "end_time": "2018-05-31T17:47:21.089893Z",
     "start_time": "2018-05-31T17:47:16.692585Z"
    }
   },
   "outputs": [],
   "source": [
    "from esper.prelude import *\n",
    "from esper.identity import *\n",
    "from esper import embed_google_images"
   ]
  },
  {
   "cell_type": "markdown",
   "metadata": {},
   "source": [
    "# Name"
   ]
  },
  {
   "cell_type": "code",
   "execution_count": null,
   "metadata": {
    "ExecuteTime": {
     "end_time": "2018-05-31T17:47:21.126715Z",
     "start_time": "2018-05-31T17:47:21.092487Z"
    }
   },
   "outputs": [],
   "source": [
    "name = 'Fredricka Whitfield'"
   ]
  },
  {
   "cell_type": "markdown",
   "metadata": {},
   "source": [
    "# Search"
   ]
  },
  {
   "cell_type": "markdown",
   "metadata": {},
   "source": [
    "## Load Cached Results"
   ]
  },
  {
   "cell_type": "code",
   "execution_count": null,
   "metadata": {
    "ExecuteTime": {
     "end_time": "2018-05-29T06:28:49.430107Z",
     "start_time": "2018-05-29T06:28:49.336136Z"
    }
   },
   "outputs": [],
   "source": [
    "assert name != ''\n",
    "results = FaceIdentityModel.load(name=name)\n",
    "imshow(np.hstack([cv2.resize(x[1][0], (200, 200)) for x in results.model_params['images']]))\n",
    "plt.show()\n",
    "plot_precision_and_cdf(results)"
   ]
  },
  {
   "cell_type": "markdown",
   "metadata": {},
   "source": [
    "## Run From Scratch"
   ]
  },
  {
   "cell_type": "markdown",
   "metadata": {},
   "source": [
    "Run this section if you do not have a cached model and precision curve estimates."
   ]
  },
  {
   "cell_type": "code",
   "execution_count": null,
   "metadata": {
    "ExecuteTime": {
     "end_time": "2018-05-31T17:49:02.411164Z",
     "start_time": "2018-05-31T17:48:42.324484Z"
    },
    "scrolled": false
   },
   "outputs": [],
   "source": [
    "assert name != ''\n",
    "img_dir = embed_google_images.fetch_images(name)\n",
    "face_imgs = load_and_select_faces_from_images(img_dir)\n",
    "face_embs = embed_google_images.embed_images(face_imgs)\n",
    "assert(len(face_embs) == len(face_imgs))\n",
    "imshow(np.hstack([cv2.resize(x[0], (200, 200)) for x in face_imgs if x]))\n",
    "plt.show()"
   ]
  },
  {
   "cell_type": "code",
   "execution_count": null,
   "metadata": {
    "ExecuteTime": {
     "end_time": "2018-05-31T17:50:26.140558Z",
     "start_time": "2018-05-31T17:49:09.393463Z"
    }
   },
   "outputs": [],
   "source": [
    "face_ids_by_bucket, face_ids_to_score = face_search_by_embeddings(face_embs)"
   ]
  },
  {
   "cell_type": "code",
   "execution_count": null,
   "metadata": {
    "ExecuteTime": {
     "end_time": "2018-05-31T17:50:31.271826Z",
     "start_time": "2018-05-31T17:50:26.197871Z"
    }
   },
   "outputs": [],
   "source": [
    "precision_model = PrecisionModel(face_ids_by_bucket)"
   ]
  },
  {
   "cell_type": "code",
   "execution_count": null,
   "metadata": {
    "ExecuteTime": {
     "end_time": "2018-05-31T17:50:31.521357Z",
     "start_time": "2018-05-31T17:50:31.274626Z"
    }
   },
   "outputs": [],
   "source": [
    "print('Select all MISTAKES. Ordered by DESCENDING score. Expecting {} frames'.format(precision_model.get_lower_count()))\n",
    "lower_widget = precision_model.get_lower_widget()\n",
    "lower_widget"
   ]
  },
  {
   "cell_type": "code",
   "execution_count": null,
   "metadata": {
    "ExecuteTime": {
     "end_time": "2018-05-31T17:55:41.518895Z",
     "start_time": "2018-05-31T17:55:41.246304Z"
    }
   },
   "outputs": [],
   "source": [
    "print('Select all NON-MISTAKES. Ordered by ASCENDING distance. Expecting {} frames'.format(precision_model.get_upper_count()))\n",
    "upper_widget = precision_model.get_upper_widget()\n",
    "upper_widget"
   ]
  },
  {
   "cell_type": "markdown",
   "metadata": {},
   "source": [
    "Run the following cell after labelling."
   ]
  },
  {
   "cell_type": "code",
   "execution_count": null,
   "metadata": {
    "ExecuteTime": {
     "end_time": "2018-05-31T17:58:43.565696Z",
     "start_time": "2018-05-31T17:58:43.526437Z"
    }
   },
   "outputs": [],
   "source": [
    "lower_precision = precision_model.compute_precision_for_lower_buckets(lower_widget.selected)\n",
    "upper_precision = precision_model.compute_precision_for_upper_buckets(upper_widget.selected)"
   ]
  },
  {
   "cell_type": "code",
   "execution_count": null,
   "metadata": {
    "ExecuteTime": {
     "end_time": "2018-05-31T17:58:46.400685Z",
     "start_time": "2018-05-31T17:58:46.108928Z"
    }
   },
   "outputs": [],
   "source": [
    "precision_by_bucket = {**lower_precision, **upper_precision}\n",
    "\n",
    "results = FaceIdentityModel(\n",
    "    name=name, \n",
    "    face_ids_by_bucket=face_ids_by_bucket, \n",
    "    face_ids_to_score=face_ids_to_score,\n",
    "    precision_by_bucket=precision_by_bucket, \n",
    "    model_params={\n",
    "        'images': list(zip(face_embs, face_imgs))\n",
    "    }\n",
    ")\n",
    "plot_precision_and_cdf(results)"
   ]
  },
  {
   "cell_type": "code",
   "execution_count": null,
   "metadata": {
    "ExecuteTime": {
     "end_time": "2018-05-31T17:58:52.751320Z",
     "start_time": "2018-05-31T17:58:50.618249Z"
    }
   },
   "outputs": [],
   "source": [
    "# Save the model\n",
    "results.save()"
   ]
  },
  {
   "cell_type": "markdown",
   "metadata": {},
   "source": [
    "# Analysis"
   ]
  },
  {
   "cell_type": "markdown",
   "metadata": {},
   "source": [
    "## Gender Breakdown"
   ]
  },
  {
   "cell_type": "code",
   "execution_count": null,
   "metadata": {
    "ExecuteTime": {
     "end_time": "2018-05-31T17:59:24.958444Z",
     "start_time": "2018-05-31T17:58:52.754337Z"
    },
    "scrolled": true
   },
   "outputs": [],
   "source": [
    "gender_breakdown = compute_gender_breakdown(results)\n",
    "\n",
    "print('Raw counts:')\n",
    "for k, v in gender_breakdown.items():\n",
    "    print(' ', k, ':', v)\n",
    "print()\n",
    "\n",
    "print('Proportions:')\n",
    "denominator = sum(v for v in gender_breakdown.values())\n",
    "for k, v in gender_breakdown.items():\n",
    "    print(' ', k, ':', v / denominator)\n",
    "print()"
   ]
  },
  {
   "cell_type": "code",
   "execution_count": null,
   "metadata": {
    "ExecuteTime": {
     "end_time": "2018-05-31T17:59:26.651720Z",
     "start_time": "2018-05-31T17:59:24.960926Z"
    }
   },
   "outputs": [],
   "source": [
    "print('Showing examples:')\n",
    "show_gender_examples(results)"
   ]
  },
  {
   "cell_type": "markdown",
   "metadata": {},
   "source": [
    "## Face Sizes"
   ]
  },
  {
   "cell_type": "code",
   "execution_count": null,
   "metadata": {
    "ExecuteTime": {
     "end_time": "2018-05-31T17:59:28.289229Z",
     "start_time": "2018-05-31T17:59:26.654172Z"
    }
   },
   "outputs": [],
   "source": [
    "plot_histogram_of_face_sizes(results)"
   ]
  },
  {
   "cell_type": "markdown",
   "metadata": {},
   "source": [
    "## Appearances on a Single Show"
   ]
  },
  {
   "cell_type": "code",
   "execution_count": null,
   "metadata": {
    "ExecuteTime": {
     "end_time": "2018-05-31T17:59:28.326229Z",
     "start_time": "2018-05-31T17:59:28.292117Z"
    }
   },
   "outputs": [],
   "source": [
    "show_name = 'CNN Newsroom With Fredricka Whitfield'"
   ]
  },
  {
   "cell_type": "code",
   "execution_count": null,
   "metadata": {
    "ExecuteTime": {
     "end_time": "2018-05-31T17:59:29.938796Z",
     "start_time": "2018-05-31T17:59:28.328974Z"
    }
   },
   "outputs": [],
   "source": [
    "screen_time_by_video_id = compute_screen_time_by_video(results, show_name)"
   ]
  },
  {
   "cell_type": "code",
   "execution_count": null,
   "metadata": {
    "ExecuteTime": {
     "end_time": "2018-05-31T17:59:39.065632Z",
     "start_time": "2018-05-31T17:59:29.941353Z"
    }
   },
   "outputs": [],
   "source": [
    "plot_histogram_of_screen_times_by_video(name, show_name, screen_time_by_video_id)\n",
    "plot_screentime_over_time(name, show_name, screen_time_by_video_id)"
   ]
  },
  {
   "cell_type": "code",
   "execution_count": null,
   "metadata": {
    "ExecuteTime": {
     "end_time": "2018-05-31T17:59:42.491980Z",
     "start_time": "2018-05-31T17:59:39.068513Z"
    }
   },
   "outputs": [],
   "source": [
    "plot_distribution_of_appearance_times_by_video(results, show_name)"
   ]
  },
  {
   "cell_type": "markdown",
   "metadata": {},
   "source": [
    "## Screen Time Across All Shows"
   ]
  },
  {
   "cell_type": "code",
   "execution_count": null,
   "metadata": {
    "ExecuteTime": {
     "end_time": "2018-05-31T17:59:43.782091Z",
     "start_time": "2018-05-31T17:59:42.495197Z"
    }
   },
   "outputs": [],
   "source": [
    "screen_time_by_show = get_screen_time_by_show(results)"
   ]
  },
  {
   "cell_type": "code",
   "execution_count": null,
   "metadata": {
    "ExecuteTime": {
     "end_time": "2018-05-31T18:00:06.883364Z",
     "start_time": "2018-05-31T17:59:43.784815Z"
    }
   },
   "outputs": [],
   "source": [
    "plot_screen_time_by_show(name, screen_time_by_show)"
   ]
  },
  {
   "cell_type": "markdown",
   "metadata": {},
   "source": [
    "# Persist to Cloud"
   ]
  },
  {
   "cell_type": "markdown",
   "metadata": {},
   "source": [
    "## Save Model to GCS"
   ]
  },
  {
   "cell_type": "code",
   "execution_count": null,
   "metadata": {
    "ExecuteTime": {
     "end_time": "2018-05-31T18:01:24.702603Z",
     "start_time": "2018-05-31T18:01:20.288322Z"
    }
   },
   "outputs": [],
   "source": [
    "gcs_model_path = results.save_to_gcs()"
   ]
  },
  {
   "cell_type": "markdown",
   "metadata": {},
   "source": [
    "### Make sure the GCS file is valid"
   ]
  },
  {
   "cell_type": "code",
   "execution_count": null,
   "metadata": {
    "ExecuteTime": {
     "end_time": "2018-05-31T18:01:39.536118Z",
     "start_time": "2018-05-31T18:01:34.716912Z"
    }
   },
   "outputs": [],
   "source": [
    "gcs_results = FaceIdentityModel.load_from_gcs(name=name)\n",
    "plot_precision_and_cdf(gcs_results)"
   ]
  },
  {
   "cell_type": "markdown",
   "metadata": {},
   "source": [
    "## Save Labels to DB"
   ]
  },
  {
   "cell_type": "code",
   "execution_count": null,
   "metadata": {
    "ExecuteTime": {
     "end_time": "2018-05-31T18:01:43.769553Z",
     "start_time": "2018-05-31T18:01:43.714708Z"
    }
   },
   "outputs": [],
   "source": [
    "from django.core.exceptions import ObjectDoesNotExist\n",
    "\n",
    "def standardize_name(name):\n",
    "    return name.lower()\n",
    "\n",
    "person_type = ThingType.objects.get(name='person')\n",
    "\n",
    "try:\n",
    "    person = Thing.objects.get(name=standardize_name(name), type=person_type)\n",
    "    print('Found person:', person.name)\n",
    "except ObjectDoesNotExist:\n",
    "    person = Thing(name=standardize_name(name), type=person_type)\n",
    "    print('Creating person:', person.name)\n",
    "\n",
    "labeler = Labeler(name='face-identity-{}'.format(person.name), data_path=gcs_model_path)"
   ]
  },
  {
   "cell_type": "markdown",
   "metadata": {},
   "source": [
    "### Commit the person and labeler"
   ]
  },
  {
   "cell_type": "code",
   "execution_count": null,
   "metadata": {
    "ExecuteTime": {
     "end_time": "2018-05-31T18:01:46.626255Z",
     "start_time": "2018-05-31T18:01:46.578698Z"
    }
   },
   "outputs": [],
   "source": [
    "person.save()\n",
    "labeler.save()"
   ]
  },
  {
   "cell_type": "markdown",
   "metadata": {},
   "source": [
    "### Commit the FaceIdentity labels"
   ]
  },
  {
   "cell_type": "code",
   "execution_count": null,
   "metadata": {
    "ExecuteTime": {
     "end_time": "2018-05-31T18:04:02.774262Z",
     "start_time": "2018-05-31T18:01:48.208055Z"
    }
   },
   "outputs": [],
   "source": [
    "commit_face_identities_to_db(results, person, labeler)"
   ]
  },
  {
   "cell_type": "code",
   "execution_count": null,
   "metadata": {
    "ExecuteTime": {
     "end_time": "2018-05-31T18:04:02.840118Z",
     "start_time": "2018-05-31T18:04:02.777420Z"
    }
   },
   "outputs": [],
   "source": [
    "print('Committed {} labels to the db'.format(FaceIdentity.objects.filter(labeler=labeler).count()))"
   ]
  },
  {
   "cell_type": "code",
   "execution_count": null,
   "metadata": {},
   "outputs": [],
   "source": []
  }
 ],
 "metadata": {
  "kernelspec": {
   "display_name": "Django Shell-Plus",
   "language": "python",
   "name": "django_extensions"
  },
  "language_info": {
   "codemirror_mode": {
    "name": "ipython",
    "version": 3
   },
   "file_extension": ".py",
   "mimetype": "text/x-python",
   "name": "python",
   "nbconvert_exporter": "python",
   "pygments_lexer": "ipython3",
   "version": "3.5.2"
  },
  "toc": {
   "nav_menu": {},
   "number_sections": true,
   "sideBar": false,
   "skip_h1_title": false,
   "toc_cell": true,
   "toc_position": {},
   "toc_section_display": "block",
   "toc_window_display": false
  }
 },
 "nbformat": 4,
 "nbformat_minor": 2
}
