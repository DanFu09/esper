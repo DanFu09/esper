{
 "cells": [
  {
   "cell_type": "markdown",
   "metadata": {},
   "source": [
    "# Supercut Template\n",
    "A notebook to copy to make supercuts from. Subject to change based on experience."
   ]
  },
  {
   "cell_type": "code",
   "execution_count": 9,
   "metadata": {
    "ExecuteTime": {
     "end_time": "2019-01-14T04:09:23.719662Z",
     "start_time": "2019-01-14T04:09:23.677486Z"
    }
   },
   "outputs": [],
   "source": [
    "from esper.supercuts import *\n",
    "from query.models import Shot\n",
    "from rekall.temporal_predicates import overlaps"
   ]
  },
  {
   "cell_type": "code",
   "execution_count": 2,
   "metadata": {
    "ExecuteTime": {
     "end_time": "2019-01-13T23:33:57.134445Z",
     "start_time": "2019-01-13T23:33:56.911874Z"
    }
   },
   "outputs": [],
   "source": [
    "def query():\n",
    "    '''\n",
    "    Write your query here. Below is a query for Harry, Ron, and Hermione in a row.\n",
    "    This function should return a rekall VideoIntervalCollection.\n",
    "    '''\n",
    "    from query.models import Shot\n",
    "    from rekall.video_interval_collection import VideoIntervalCollection\n",
    "    from rekall.temporal_predicates import meets_before, overlaps\n",
    "    from esper.rekall import intrvllists_to_result_with_objects\n",
    "    from django.db.models import ExpressionWrapper, FloatField\n",
    "    from esper.captions import get_all_segments\n",
    "    from rekall.merge_ops import payload_first, payload_plus, merge_named_payload\n",
    "\n",
    "    NUM_SHOTS=5\n",
    "    MAX_SHOT_DURATION=0.8\n",
    "\n",
    "    # payload: shot_id, vid\n",
    "    short_shots = VideoIntervalCollection.from_django_qs(Shot.objects.annotate(\n",
    "        duration = ExpressionWrapper((F('max_frame') - F('min_frame')) / F('video__fps'), output_field=FloatField())\n",
    "    ).filter(\n",
    "        duration__lt=MAX_SHOT_DURATION,\n",
    "        duration__gt=0.,\n",
    "        cinematic=True,\n",
    "        video__ignore_film=False\n",
    "    ).exclude(\n",
    "        video__genres__name=\"animation\"\n",
    "    ), with_payload = lambda shot: {'shot_id': shot.id, 'vid': shot.video_id})\n",
    "    \n",
    "    # Slow\n",
    "    def get_frame_brightness(intvl):\n",
    "        vid = intvl.payload['vid']\n",
    "        start = intvl.start\n",
    "        end = intvl.end\n",
    "        qs = Frame.objects.filter(video_id=vid, number__gte=start, number__lte=end).order_by('number')\n",
    "        intvl.payload['brightness'] = [f.brightness for f in qs]\n",
    "        return intvl\n",
    "    \n",
    "    def payload_in_array(intvl):\n",
    "        return (intvl.start, intvl.end, [intvl.payload])\n",
    "    \n",
    "    def add_brightness_array(intvl):\n",
    "        if 'brightness' not in intvl.payload:\n",
    "            intvl.payload['brightness'] = []\n",
    "        return intvl       \n",
    "    \n",
    "    def bright_enough(intvl):\n",
    "        BRIGHTNESS_THRESHOLD = 20.0\n",
    "        average_above_threshold = np.array(\n",
    "            [np.mean(np.array(p['brightness'])) if len(p['brightness'])>0 else 0 for p in intvl.payload]\n",
    "        )> BRIGHTNESS_THRESHOLD\n",
    "        return np.any(average_above_threshold)\n",
    "    \n",
    "    def get_all_frame_numbers(intervallist):\n",
    "        frame = []\n",
    "        for intvl in intervallist.intrvls:\n",
    "            frame += list(range(intvl.start, intvl.end+1))\n",
    "        return frame\n",
    "    \n",
    "    print(\"Getting brightness for {0} intervals\".format(sum(\n",
    "        [len(l.intrvls) for l in short_shots.get_allintervals().values()])))\n",
    "    \n",
    "    # Get brightnesses for each frame in payload\n",
    "    for vid, intervals in tqdm(short_shots.get_allintervals().items()):\n",
    "        frames = get_all_frame_numbers(intervals)\n",
    "        qs = Frame.objects.filter(video_id=vid, number__in=frames, regularly_sampled=True).order_by('number').values()\n",
    "        interval_index = 0\n",
    "        for frame in qs:\n",
    "            while frame['number'] > intervals.intrvls[interval_index].end:\n",
    "                interval_index += 1\n",
    "            if frame['number'] >= intervals.intrvls[interval_index].start:\n",
    "                intvl = intervals.intrvls[interval_index]\n",
    "                if 'brightness' in intvl.payload:\n",
    "                    intvl.payload['brightness'].append(frame['brightness'])\n",
    "                else:\n",
    "                    intvl.payload['brightness'] = [frame['brightness']] \n",
    "    short_shots = short_shots.map(add_brightness_array)\n",
    "    n_shots = short_shots.map(payload_in_array)\n",
    "    for n in range(2, NUM_SHOTS + 1):\n",
    "        print('Constructing {} consecutive short shots'.format(n))\n",
    "        \n",
    "        n_shots = n_shots.merge(\n",
    "            short_shots, predicate=meets_before(epsilon=1), working_window=1,\n",
    "            payload_merge_op = lambda arr, el: arr+[el]\n",
    "        )\n",
    "\n",
    "        print('There are {} videos with {} consecutive short shots'.format(\n",
    "            len(n_shots.get_allintervals().keys()), n)\n",
    "    )\n",
    "    n_shots = n_shots.coalesce().filter(bright_enough).filter_length(min_length=1)\n",
    "    \n",
    "    # Filter out any intervals with too many spoken lines\n",
    "    print(\"Getting captions\")\n",
    "    vids = n_shots.get_allintervals().keys()\n",
    "    caption_results = get_all_segments(vids)\n",
    "    fps_map = dict((i, Video.objects.get(id=i).fps) for i in vids)\n",
    "    captioned_intervals = VideoIntervalCollection({\n",
    "        video_id: [(\n",
    "            word[0] * fps_map[video_id], # start frame\n",
    "            word[1] * fps_map[video_id], # end frame\n",
    "            {'shots': [],\n",
    "             'words': [word[2]]\n",
    "            }\n",
    "            ) # payload is the word\n",
    "            for word in words]\n",
    "        for video_id, words in caption_results\n",
    "    })\n",
    "    \n",
    "    def organize_payload(intvl):\n",
    "        p = intvl.payload\n",
    "        new_payload = {\n",
    "            'shots': p,\n",
    "            'words': []\n",
    "        }\n",
    "        return (intvl.start, intvl.end, new_payload)\n",
    "    \n",
    "    # payload:\n",
    "    # shots: list of shots\n",
    "    # words: list of word intervals\n",
    "    n_shots = n_shots.map(organize_payload)\n",
    "    n_shots = n_shots.join(\n",
    "        captioned_intervals,\n",
    "        lambda shot_interval, word_interval:\n",
    "            [(shot_interval.start, shot_interval.end, {\n",
    "                'shots': shot_interval.payload['shots'],\n",
    "                'words': word_interval.payload['words']\n",
    "            })],\n",
    "        predicate=overlaps(),\n",
    "        working_window=1\n",
    "    ).coalesce(payload_merge_op=merge_named_payload({\n",
    "        'shots': payload_first,\n",
    "        'words': payload_plus,\n",
    "    })).set_union(n_shots).coalesce(\n",
    "        payload_merge_op=merge_named_payload({\n",
    "            'shots': payload_first,\n",
    "            'words': payload_plus\n",
    "    }))\n",
    "    \n",
    "    def has_few_words(intvl):\n",
    "        MAX_NUM_WORDS_PER_SECOND = 1.0\n",
    "        \n",
    "        p = intvl.payload\n",
    "        n_words = len(p['words'])\n",
    "        time = (intvl.end-intvl.start) / fps_map[p['shots'][0]['vid']]\n",
    "        return n_words / time <= MAX_NUM_WORDS_PER_SECOND\n",
    "    \n",
    "    action_shots = n_shots.filter(has_few_words)\n",
    "\n",
    "    return action_shots"
   ]
  },
  {
   "cell_type": "code",
   "execution_count": 3,
   "metadata": {
    "ExecuteTime": {
     "end_time": "2019-01-13T23:34:00.148241Z",
     "start_time": "2019-01-13T23:34:00.087890Z"
    }
   },
   "outputs": [],
   "source": [
    "def generate_supercut_intervals(\n",
    "    interval_collection,\n",
    "    dilation=0,\n",
    "    snap_to_cinematic_shots=False,\n",
    "    limit=None,\n",
    "    stride=1\n",
    "):\n",
    "    '''\n",
    "    Generates supercut intervals for the supercut pipeline.\n",
    "    Dilates interval_collection by dilation.\n",
    "    If dilation > 0, snaps the dilations to cinematic shot boundaries.\n",
    "    '''\n",
    "    if dilation > 0:\n",
    "        if snap_to_cinematic_shots:\n",
    "            shots = VideoIntervalCollection.from_django_qs(\n",
    "                Shot.objects.filter(\n",
    "                    video_id__in=list(interval_collection.get_allintervals().keys()),\n",
    "                    labeler__name=\"shot-hsvhist-face\"\n",
    "                )\n",
    "            ).filter_against(interval_collection, predicate=overlaps())\n",
    "        interval_collection = interval_collection.dilate(dilation).coalesce()\n",
    "        if snap_to_cinematic_shots:\n",
    "            interval_collection = interval_collection.overlaps(shots)\n",
    "    \n",
    "    supercut_intervals = []\n",
    "    for video_id in sorted(list(interval_collection.get_allintervals().keys())):\n",
    "        intervallist = interval_collection.get_intervallist(video_id)\n",
    "        for intrvl in intervallist.get_intervals():\n",
    "            supercut_intervals.append((video_id, intrvl.get_start(), intrvl.get_end()))\n",
    "            \n",
    "    if limit is not None:\n",
    "        return supercut_intervals[:limit * stride:stride]\n",
    "    \n",
    "    return supercut_intervals[::stride]"
   ]
  },
  {
   "cell_type": "code",
   "execution_count": 5,
   "metadata": {
    "ExecuteTime": {
     "end_time": "2019-01-13T23:34:07.056791Z",
     "start_time": "2019-01-13T23:34:07.017373Z"
    }
   },
   "outputs": [],
   "source": [
    "# output path\n",
    "OUTPUT_PATH = '/app/result/supercut/acion_shots.mp4'"
   ]
  },
  {
   "cell_type": "code",
   "execution_count": 8,
   "metadata": {
    "ExecuteTime": {
     "end_time": "2019-01-13T23:47:08.300072Z",
     "start_time": "2019-01-13T23:46:40.956230Z"
    }
   },
   "outputs": [
    {
     "name": "stderr",
     "output_type": "stream",
     "text": [
      "  1%|██▏                                                                                                                                                                                                     | 6/559 [00:00<00:10, 51.64it/s]"
     ]
    },
    {
     "name": "stdout",
     "output_type": "stream",
     "text": [
      "Getting brightness for 38570 intervals\n"
     ]
    },
    {
     "name": "stderr",
     "output_type": "stream",
     "text": [
      "100%|██████████████████████████████████████████████████████████████████████████████████████████████████████████████████████████████████████████████████████████████████████████████████████████████████████| 559/559 [00:17<00:00, 32.58it/s]\n"
     ]
    },
    {
     "name": "stdout",
     "output_type": "stream",
     "text": [
      "Constructing 2 consecutive short shots\n",
      "There are 530 videos with 2 consecutive short shots\n",
      "Constructing 3 consecutive short shots\n",
      "There are 370 videos with 3 consecutive short shots\n",
      "Constructing 4 consecutive short shots\n",
      "There are 224 videos with 4 consecutive short shots\n",
      "Constructing 5 consecutive short shots\n",
      "There are 103 videos with 5 consecutive short shots\n",
      "Getting captions\n"
     ]
    },
    {
     "name": "stderr",
     "output_type": "stream",
     "text": [
      "No document for video id: 299\n",
      "No document for video id: 321\n",
      "No document for video id: 69\n",
      "No document for video id: 65\n"
     ]
    }
   ],
   "source": [
    "action_shots = query()"
   ]
  },
  {
   "cell_type": "code",
   "execution_count": 10,
   "metadata": {
    "ExecuteTime": {
     "end_time": "2019-01-14T04:11:32.018747Z",
     "start_time": "2019-01-14T04:09:34.645564Z"
    }
   },
   "outputs": [
    {
     "name": "stderr",
     "output_type": "stream",
     "text": [
      "  1%|█▊                                                                                                                                                                                                      | 5/559 [00:00<00:12, 43.83it/s]"
     ]
    },
    {
     "name": "stdout",
     "output_type": "stream",
     "text": [
      "Getting brightness for 38570 intervals\n"
     ]
    },
    {
     "name": "stderr",
     "output_type": "stream",
     "text": [
      "100%|██████████████████████████████████████████████████████████████████████████████████████████████████████████████████████████████████████████████████████████████████████████████████████████████████████| 559/559 [00:18<00:00, 30.28it/s]\n"
     ]
    },
    {
     "name": "stdout",
     "output_type": "stream",
     "text": [
      "Constructing 2 consecutive short shots\n",
      "There are 530 videos with 2 consecutive short shots\n",
      "Constructing 3 consecutive short shots\n",
      "There are 370 videos with 3 consecutive short shots\n",
      "Constructing 4 consecutive short shots\n",
      "There are 224 videos with 4 consecutive short shots\n",
      "Constructing 5 consecutive short shots\n",
      "There are 103 videos with 5 consecutive short shots\n",
      "Getting captions\n"
     ]
    },
    {
     "name": "stderr",
     "output_type": "stream",
     "text": [
      "No document for video id: 299\n",
      "No document for video id: 321\n",
      "No document for video id: 69\n",
      "No document for video id: 65\n"
     ]
    },
    {
     "data": {
      "application/vnd.jupyter.widget-view+json": {
       "model_id": "8ae532c79d724f819404d6fe32887791",
       "version_major": 2,
       "version_minor": 0
      },
      "text/plain": [
       "HBox(children=(IntProgress(value=0, max=50), HTML(value='')))"
      ]
     },
     "metadata": {},
     "output_type": "display_data"
    },
    {
     "name": "stdout",
     "output_type": "stream",
     "text": [
      "\n"
     ]
    }
   ],
   "source": [
    "stitch_video_temporal(generate_supercut_intervals(query(), limit=50), out_path=OUTPUT_PATH, width=1920, height=1080)"
   ]
  }
 ],
 "metadata": {
  "kernelspec": {
   "display_name": "Django Shell-Plus",
   "language": "python",
   "name": "django_extensions"
  },
  "language_info": {
   "codemirror_mode": {
    "name": "ipython",
    "version": 3
   },
   "file_extension": ".py",
   "mimetype": "text/x-python",
   "name": "python",
   "nbconvert_exporter": "python",
   "pygments_lexer": "ipython3",
   "version": "3.5.2"
  },
  "toc": {
   "nav_menu": {},
   "number_sections": true,
   "sideBar": true,
   "skip_h1_title": false,
   "toc_cell": false,
   "toc_position": {},
   "toc_section_display": "block",
   "toc_window_display": false
  }
 },
 "nbformat": 4,
 "nbformat_minor": 2
}
