{
 "cells": [
  {
   "cell_type": "code",
   "execution_count": 1,
   "metadata": {},
   "outputs": [],
   "source": [
    "%matplotlib inline\n",
    "from query.datasets.prelude import *\n",
    "from scannerpy.stdlib import parsers\n",
    "from scipy.spatial import distance\n",
    "from unionfind import unionfind"
   ]
  },
  {
   "cell_type": "code",
   "execution_count": null,
   "metadata": {},
   "outputs": [],
   "source": [
    "gt = [\n",
    "    226, 822, 2652, 3893, 4058, 4195, 4326, 4450, 4583, 4766, 5021, 5202, 5294, 5411, 6584,\n",
    "    7140, 7236, 7388, 7547, 7673, 7823, 7984, 8148, 8338, 8494, 8625, 8914, 9042, 9207, 9308,\n",
    "    11395, 11823, 12198, 12563, 13516, 13878, 13991, 14162, 14237, 14333, 14488, 14688, 14770,\n",
    "    14825, 15017, 15537, 15701, 15866, 16012, 16112, 16295, 16452, 16601, 16880, 17018, 17184,\n",
    "    17310, 17446, 17962, 18713, 18860, 19120, 19395, 19543, 19660, 19839, 19970, 20079, 20248,\n",
    "    20291, 20862\n",
    "]\n",
    "gt = [n - 20 for n in gt]"
   ]
  },
  {
   "cell_type": "code",
   "execution_count": null,
   "metadata": {},
   "outputs": [],
   "source": [
    "video = Video.objects.get(path='tvnews/videos/MSNBC_20100827_060000_The_Rachel_Maddow_Show.mp4')\n",
    "labeler, _ = Labeler.objects.get_or_create(name='shot-histogram')\n",
    "\n",
    "with Database() as db:\n",
    "    frame = db.ops.FrameInput()\n",
    "    histogram = db.ops.Histogram(frame=frame, device=DeviceType.GPU)\n",
    "    output = db.ops.Output(columns=[histogram])\n",
    "    job = Job(\n",
    "        op_args={frame: db.table(video.path).column('frame'),\n",
    "                 output: video.path + '_hist'})\n",
    "    bulk_job = BulkJob(output=output, jobs=[job])\n",
    "    # [hists_table] = db.run(bulk_job, force=True, io_packet_size=10000)\n",
    "    hists_table = db.table(video.path + '_hist')\n",
    "\n",
    "    print('Loading histograms...')\n",
    "    hists = [h for _, h in hists_table.load(['histogram'], parsers.histograms)]\n",
    "    print('Loaded!')"
   ]
  },
  {
   "cell_type": "code",
   "execution_count": 2,
   "metadata": {},
   "outputs": [
    {
     "ename": "NameError",
     "evalue": "name 'storage' is not defined",
     "output_type": "error",
     "traceback": [
      "\u001b[0;31m\u001b[0m",
      "\u001b[0;31mNameError\u001b[0mTraceback (most recent call last)",
      "\u001b[0;32m<ipython-input-2-c7959ea9185c>\u001b[0m in \u001b[0;36m<module>\u001b[0;34m()\u001b[0m\n\u001b[0;32m----> 1\u001b[0;31m \u001b[0mstorage\u001b[0m\u001b[0;34m.\u001b[0m\u001b[0mread\u001b[0m\u001b[0;34m(\u001b[0m\u001b[0;34m'tvnews/videos/MSNBC_20100827_060000_The_Rachel_Maddow_Show.mp4'\u001b[0m\u001b[0;34m)\u001b[0m\u001b[0;34m\u001b[0m\u001b[0m\n\u001b[0m",
      "\u001b[0;31mNameError\u001b[0m: name 'storage' is not defined"
     ]
    }
   ],
   "source": [
    "storage.read('tvnews/videos/MSNBC_20100827_060000_The_Rachel_Maddow_Show.mp4')\n"
   ]
  },
  {
   "cell_type": "code",
   "execution_count": null,
   "metadata": {},
   "outputs": [],
   "source": [
    "WINDOW_SIZE = 500\n",
    "STD_THRESHOLD = 1000\n",
    "GROUP_THRESHOLD = 10\n",
    "STD_DEV_FACTOR = 1\n",
    "\n",
    "def compute_shot_boundaries(hists):\n",
    "    # Compute the mean difference between each pair of adjacent frames\n",
    "    print('Computing means')\n",
    "    diffs = np.array([\n",
    "        np.mean([distance.chebyshev(hists[i - 1][j], hists[i][j]) for j in range(3)])\n",
    "        for i in range(1, len(hists))\n",
    "    ])\n",
    "    diffs = np.insert(diffs, 0, 0)\n",
    "    n = len(diffs)\n",
    "    \n",
    "    plt.figure(figsize=(18, 6))\n",
    "    plt.plot(diffs)\n",
    "\n",
    "    # Do simple outlier detection to find boundaries between shots\n",
    "    print('Detecting outliers')\n",
    "    boundaries = []\n",
    "    for i in range(1, n):\n",
    "        window = diffs[max(i - WINDOW_SIZE, 0):min(i + WINDOW_SIZE, n)]\n",
    "        std = np.std(window)\n",
    "        if std > STD_THRESHOLD and diffs[i] - np.mean(window) > STD_DEV_FACTOR * std:\n",
    "            boundaries.append(i)\n",
    "       \n",
    "    print('Grouping adjacent frames')\n",
    "    u = unionfind(len(boundaries))\n",
    "    for i, bi in enumerate(boundaries):\n",
    "        for j, bj in enumerate(boundaries):\n",
    "            if abs(bi - bj) < GROUP_THRESHOLD:\n",
    "                u.unite(i, j)\n",
    "                break\n",
    "        \n",
    "    grouped_boundaries = [boundaries[g[len(g)/2]] for g in u.groups()]\n",
    "            \n",
    "    return grouped_boundaries\n",
    "\n",
    "boundaries = compute_shot_boundaries(hists[:gt[-1]]) \n",
    "print('Done!')"
   ]
  },
  {
   "cell_type": "code",
   "execution_count": null,
   "metadata": {},
   "outputs": [],
   "source": [
    "Shot.objects.filter(video=video).delete()\n",
    "shots = []\n",
    "for i in range(len(boundaries) - 1):\n",
    "    start = 0 if i == 0 else boundaries[i]\n",
    "    end = boundaries[i + 1] - 1\n",
    "    shots.append(Shot(video=video, labeler=labeler, min_frame=start, max_frame=end))\n",
    "\n",
    "#_ = Shot.objects.bulk_create(shots)"
   ]
  },
  {
   "cell_type": "code",
   "execution_count": null,
   "metadata": {},
   "outputs": [],
   "source": [
    "DIST_THRESHOLD = 15\n",
    "gt_copy = gt[:]\n",
    "\n",
    "boundaries = [n for n in boundaries if n < bound]\n",
    "\n",
    "tp = 0\n",
    "fp = 0\n",
    "for i in boundaries:\n",
    "    valid = None\n",
    "    for k, j in enumerate(gt_copy):\n",
    "        if abs(i - j) < DIST_THRESHOLD:\n",
    "            valid = k\n",
    "            break\n",
    "    if valid is None:\n",
    "        fp += 1\n",
    "    else:\n",
    "        tp += 1\n",
    "        gt_copy = gt_copy[:k] + gt_copy[(k+1):]\n",
    "\n",
    "fn = len(gt_copy)\n",
    "print(tp, fp, fn)\n",
    "\n",
    "precision = tp / float(tp + fp)\n",
    "recall = tp / float(tp + fn)\n",
    "print('Precision: {:.3f}, recall: {:.3f}, #det/#gt: {:.3f}'.format(precision, recall, len(boundaries) / float(len(gt))))\n",
    "print(len(boundaries), len(gt))\n",
    "\n",
    "print(boundaries)\n",
    "print(gt_copy)"
   ]
  }
 ],
 "metadata": {
  "kernelspec": {
   "display_name": "Django Shell-Plus",
   "language": "python",
   "name": "django_extensions"
  },
  "language_info": {
   "codemirror_mode": {
    "name": "ipython",
    "version": 2
   },
   "file_extension": ".py",
   "mimetype": "text/x-python",
   "name": "python",
   "nbconvert_exporter": "python",
   "pygments_lexer": "ipython2",
   "version": "2.7.14"
  },
  "toc": {
   "nav_menu": {},
   "number_sections": true,
   "sideBar": false,
   "skip_h1_title": false,
   "toc_cell": false,
   "toc_position": {},
   "toc_section_display": "block",
   "toc_window_display": false
  }
 },
 "nbformat": 4,
 "nbformat_minor": 2
}
