{
 "cells": [
  {
   "cell_type": "markdown",
   "metadata": {
    "toc": true
   },
   "source": [
    "<h1>Table of Contents<span class=\"tocSkip\"></span></h1>\n",
    "<div class=\"toc\" style=\"margin-top: 1em;\"><ul class=\"toc-item\"><li><span><a href=\"#Temporal-RangeList-Queries\" data-toc-modified-id=\"Temporal-RangeList-Queries-1\"><span class=\"toc-item-num\">1&nbsp;&nbsp;</span>Temporal RangeList Queries</a></span><ul class=\"toc-item\"><li><span><a href=\"#1-on-1-Panel-Interviews\" data-toc-modified-id=\"1-on-1-Panel-Interviews-1.1\"><span class=\"toc-item-num\">1.1&nbsp;&nbsp;</span>1-on-1 Panel Interviews</a></span><ul class=\"toc-item\"><li><span><a href=\"#Chris-Hayes-and-Bernie-Sanders-in-the-same-frame\" data-toc-modified-id=\"Chris-Hayes-and-Bernie-Sanders-in-the-same-frame-1.1.1\"><span class=\"toc-item-num\">1.1.1&nbsp;&nbsp;</span>Chris Hayes and Bernie Sanders in the same frame</a></span></li><li><span><a href=\"#Full-interviews\" data-toc-modified-id=\"Full-interviews-1.1.2\"><span class=\"toc-item-num\">1.1.2&nbsp;&nbsp;</span>Full interviews</a></span><ul class=\"toc-item\"><li><span><a href=\"#Only-look-at-videos-where-Chris-Hayes-and-Bernie-Sanders-appear-together\" data-toc-modified-id=\"Only-look-at-videos-where-Chris-Hayes-and-Bernie-Sanders-appear-together-1.1.2.1\"><span class=\"toc-item-num\">1.1.2.1&nbsp;&nbsp;</span>Only look at videos where Chris Hayes and Bernie Sanders appear together</a></span></li><li><span><a href=\"#TemporalRangeList-API\" data-toc-modified-id=\"TemporalRangeList-API-1.1.2.2\"><span class=\"toc-item-num\">1.1.2.2&nbsp;&nbsp;</span>TemporalRangeList API</a></span></li><li><span><a href=\"#TemporalRangeList-Round-2\" data-toc-modified-id=\"TemporalRangeList-Round-2-1.1.2.3\"><span class=\"toc-item-num\">1.1.2.3&nbsp;&nbsp;</span>TemporalRangeList Round 2</a></span></li></ul></li></ul></li><li><span><a href=\"#5-short-consecutive-shots\" data-toc-modified-id=\"5-short-consecutive-shots-1.2\"><span class=\"toc-item-num\">1.2&nbsp;&nbsp;</span>5 short consecutive shots</a></span></li></ul></li></ul></div>"
   ]
  },
  {
   "cell_type": "markdown",
   "metadata": {},
   "source": [
    "# Temporal RangeList Queries\n",
    "\n",
    "This notebook explores using the new TemporalRangeList API to compose more complicated temporal queries.\n",
    "\n",
    "## 1-on-1 Panel Interviews\n",
    "\n",
    "First, let's look for panel interviews. These are interviews where the host and interview subject are in different places, so their faces are side by side in a panel arrangement. Here's a good example of an interview between Chris Hayes and Beto O'Rourke: https://youtu.be/j0hwHmofc6w?t=66."
   ]
  },
  {
   "cell_type": "markdown",
   "metadata": {},
   "source": [
    "### Chris Hayes and Bernie Sanders in the same frame\n",
    "\n",
    "Let's start by looking for an interview between Chris Hayes and Bernie Sanders. First, we get all the frames where both of them appear together."
   ]
  },
  {
   "cell_type": "code",
   "execution_count": null,
   "metadata": {
    "ExecuteTime": {
     "end_time": "2018-10-10T23:56:40.380000Z",
     "start_time": "2018-10-10T23:56:40.352739Z"
    }
   },
   "outputs": [],
   "source": [
    "from esper.stdlib import *\n",
    "from esper.prelude import *\n",
    "from esper.spark_util import *\n",
    "from pyspark.sql.functions import *\n",
    "from esper.temporal_predicates import *\n",
    "from esper.temporal_rangelist import TemporalRange, TemporalRangeList\n",
    "\n",
    "import numpy as np\n",
    "import sys"
   ]
  },
  {
   "cell_type": "code",
   "execution_count": null,
   "metadata": {
    "ExecuteTime": {
     "end_time": "2018-10-10T21:06:56.410941Z",
     "start_time": "2018-10-10T21:05:14.429106Z"
    }
   },
   "outputs": [],
   "source": [
    "face_identities = get_face_identities(include_bbox=True, include_name=True)\n",
    "print('Schema: ', face_identities)"
   ]
  },
  {
   "cell_type": "code",
   "execution_count": null,
   "metadata": {
    "ExecuteTime": {
     "end_time": "2018-10-10T21:07:30.804853Z",
     "start_time": "2018-10-10T21:07:01.784582Z"
    }
   },
   "outputs": [],
   "source": [
    "chris_hayes = face_identities.filter(\n",
    "    face_identities.name == 'chris hayes').filter(\n",
    "    'probability > 0.99').alias('chris_hayes')\n",
    "bernie_sanders = face_identities.filter(\n",
    "    face_identities.name == 'bernie sanders').filter(\n",
    "    'probability > 0.99').alias('bernie_sanders')\n",
    "\n",
    "chris_hayes_and_bernie_sanders = chris_hayes.join(\n",
    "    bernie_sanders,\n",
    "    (chris_hayes.video_id == bernie_sanders.video_id) &\n",
    "    (chris_hayes.min_frame == bernie_sanders.min_frame) &\n",
    "    (chris_hayes.max_frame == bernie_sanders.max_frame)\n",
    ").select(\n",
    "    col('chris_hayes.id').alias('a_id'),\n",
    "    col('bernie_sanders.id').alias('b_id'),\n",
    "    col('chris_hayes.video_id'),\n",
    "    col('chris_hayes.min_frame'),\n",
    "    col('chris_hayes.max_frame'),\n",
    "    col('chris_hayes.fps'),\n",
    "    col('chris_hayes.bbox_x1').alias('a_bbox_x1'),\n",
    "    col('chris_hayes.bbox_x2').alias('a_bbox_x2'),\n",
    "    col('chris_hayes.bbox_y1').alias('a_bbox_y1'),\n",
    "    col('chris_hayes.bbox_y2').alias('a_bbox_y2'),\n",
    "    col('bernie_sanders.bbox_x1').alias('b_bbox_x1'),\n",
    "    col('bernie_sanders.bbox_x2').alias('b_bbox_x2'),\n",
    "    col('bernie_sanders.bbox_y1').alias('b_bbox_y1'),\n",
    "    col('bernie_sanders.bbox_y2').alias('b_bbox_y2'))\n",
    "\n",
    "print(chris_hayes_and_bernie_sanders)\n",
    "print('Count: ', chris_hayes_and_bernie_sanders.count())"
   ]
  },
  {
   "cell_type": "code",
   "execution_count": null,
   "metadata": {
    "ExecuteTime": {
     "end_time": "2018-10-10T21:08:20.886781Z",
     "start_time": "2018-10-10T21:07:44.059261Z"
    }
   },
   "outputs": [],
   "source": [
    "# Now let's display these results in an Esper widget\n",
    "\n",
    "both_faces = chris_hayes_and_bernie_sanders.collect()\n",
    "\n",
    "materialized_results = []\n",
    "for shot in both_faces[:100]:\n",
    "    materialized_results.append({\n",
    "        'video': shot.video_id,\n",
    "        'min_frame': shot.min_frame,\n",
    "        'objects': [{\n",
    "            'id': shot.a_id,\n",
    "            'type': 'bbox',\n",
    "            'bbox_x1': shot.a_bbox_x1,\n",
    "            'bbox_x2': shot.a_bbox_x2,\n",
    "            'bbox_y1': shot.a_bbox_y1,\n",
    "            'bbox_y2': shot.a_bbox_y2\n",
    "        }, {\n",
    "            'id': shot.b_id,\n",
    "            'type': 'bbox',\n",
    "            'bbox_x1': shot.b_bbox_x1,\n",
    "            'bbox_x2': shot.b_bbox_x2,\n",
    "            'bbox_y1': shot.b_bbox_y1,\n",
    "            'bbox_y2': shot.b_bbox_y2\n",
    "        }]\n",
    "    })\n",
    "esper_widget(simple_result(materialized_results, 'Faces'))"
   ]
  },
  {
   "cell_type": "markdown",
   "metadata": {},
   "source": [
    "### Full interviews\n",
    "\n",
    "Now that we have all the frames where they appear together, it would be great if we could get the full interviews.\n",
    "\n",
    "First, we're going to filter the Bernie Sanders and Chris Hayes tables so that we only have rows that correspond to the videos where they both appear. Then we're going to use our new TemporalRangeList API to coalesce appearances of Bernie Sanders + Chris Hayes with the Bernie Sanders appearances to get the full interviews.\n",
    "\n",
    "#### Only look at videos where Chris Hayes and Bernie Sanders appear together\n",
    "First, we filter out all the videos where Bernie Sanders and Chris Hayes do not appear together."
   ]
  },
  {
   "cell_type": "code",
   "execution_count": null,
   "metadata": {
    "ExecuteTime": {
     "end_time": "2018-10-10T21:13:37.634357Z",
     "start_time": "2018-10-10T21:12:24.863062Z"
    }
   },
   "outputs": [],
   "source": [
    "bernie_sanders_relevant = bernie_sanders.join(\n",
    "    chris_hayes_and_bernie_sanders,\n",
    "    bernie_sanders.video_id == chris_hayes_and_bernie_sanders.video_id\n",
    ").select('bernie_sanders.*').dropDuplicates().alias('bernie_sanders_relevant')\n",
    "\n",
    "print(bernie_sanders_relevant)\n",
    "print(bernie_sanders_relevant.count())"
   ]
  },
  {
   "cell_type": "code",
   "execution_count": null,
   "metadata": {
    "ExecuteTime": {
     "end_time": "2018-10-10T21:15:27.471939Z",
     "start_time": "2018-10-10T21:14:10.393214Z"
    }
   },
   "outputs": [],
   "source": [
    "bernie_sanders_materialized = bernie_sanders_relevant.collect()"
   ]
  },
  {
   "cell_type": "code",
   "execution_count": null,
   "metadata": {
    "ExecuteTime": {
     "end_time": "2018-10-10T21:15:40.227076Z",
     "start_time": "2018-10-10T21:15:40.179153Z"
    }
   },
   "outputs": [],
   "source": [
    "# Group by video ID\n",
    "\n",
    "both_faces_dict = {}\n",
    "bernie_dict = {}\n",
    "\n",
    "for row in both_faces:\n",
    "    if row.video_id in both_faces_dict:\n",
    "        both_faces_dict[row.video_id].append(row)\n",
    "    else:\n",
    "        both_faces_dict[row.video_id] = [row]\n",
    "for row in bernie_sanders_materialized:\n",
    "    if row.video_id in bernie_dict:\n",
    "        bernie_dict[row.video_id].append(row)\n",
    "    else:\n",
    "        bernie_dict[row.video_id] = [row]"
   ]
  },
  {
   "cell_type": "markdown",
   "metadata": {},
   "source": [
    "#### TemporalRangeList API\n",
    "\n",
    "Now, we use our TemporalRangeList API to coalesce all appearances of Bernie Sanders with Chris + Bernie."
   ]
  },
  {
   "cell_type": "code",
   "execution_count": null,
   "metadata": {
    "ExecuteTime": {
     "end_time": "2018-10-10T21:15:43.164674Z",
     "start_time": "2018-10-10T21:15:43.081232Z"
    }
   },
   "outputs": [],
   "source": [
    "# Now we use our TemporalRangeList API to coalesce Bernie + Chris Hayes with Bernie appearances\n",
    "\n",
    "video_ids = both_faces_dict.keys()\n",
    "full_interviews = {}\n",
    "\n",
    "for video in video_ids:\n",
    "    fps = bernie_dict[video][0].fps\n",
    "    bernie_list = TemporalRangeList([(row.min_frame, row.max_frame, 1)\n",
    "                                     for row in bernie_dict[video]])\n",
    "    bernie_and_chris_list = TemporalRangeList([(row.min_frame, row.max_frame, 2) \n",
    "                                               for row in both_faces_dict[video]])\n",
    "    everything_list = bernie_and_chris_list.dilate(5).merge(bernie_list, predicate=Overlaps())\n",
    "    three_seconds = 3 * fps\n",
    "    everything_list = everything_list.coalesce().filter_length(min_length=three_seconds)\n",
    "    \n",
    "    full_interviews[video] = [{'min_frame': tr.get_start(), 'max_frame': tr.get_end()}\n",
    "                              for tr in everything_list.get_temporal_ranges()]"
   ]
  },
  {
   "cell_type": "code",
   "execution_count": null,
   "metadata": {
    "ExecuteTime": {
     "end_time": "2018-10-10T21:15:45.170586Z",
     "start_time": "2018-10-10T21:15:44.855327Z"
    }
   },
   "outputs": [],
   "source": [
    "# Finally, display the results in the Esper widget!\n",
    "materialized_results = {}\n",
    "full_count = 0\n",
    "for video in full_interviews:\n",
    "    if len(full_interviews[video]) == 0:\n",
    "        continue\n",
    "    materialized_results[video] = [\n",
    "        {'track': video, 'min_frame': row['min_frame'],\n",
    "         'max_frame': row['max_frame'], 'video': video}\n",
    "        for row in full_interviews[video]]\n",
    "    full_count += len(materialized_results[video])\n",
    "\n",
    "groups = [{\n",
    "    'type': 'contiguous',\n",
    "    'label': video,\n",
    "    'elements': materialized_results[video]\n",
    "} for video in sorted(materialized_results.keys())]\n",
    "        \n",
    "esper_widget({'result': groups, 'count': full_count, 'type': 'Interviews'})"
   ]
  },
  {
   "cell_type": "markdown",
   "metadata": {},
   "source": [
    "#### TemporalRangeList Round 2\n",
    "\n",
    "Our first attempt could use some refining... we ran into a lot of cases where we just had the cases where Bernie and Chris Hayes were both on screen. Let's try to filter so that we only look at cases where there's at least one cut from both of them to just Bernie"
   ]
  },
  {
   "cell_type": "code",
   "execution_count": null,
   "metadata": {
    "ExecuteTime": {
     "end_time": "2018-10-10T21:16:04.202673Z",
     "start_time": "2018-10-10T21:16:04.081756Z"
    }
   },
   "outputs": [],
   "source": [
    "video_ids = both_faces_dict.keys()\n",
    "interviews_with_cuts = {}\n",
    "\n",
    "for video in video_ids:\n",
    "    fps = bernie_dict[video][0].fps\n",
    "    bernie_list = TemporalRangeList([(row.min_frame, row.max_frame, 1)\n",
    "                                     for row in bernie_dict[video]])\n",
    "    bernie_and_chris_list = TemporalRangeList([(row.min_frame, row.max_frame, 2) \n",
    "                                               for row in both_faces_dict[video]])\n",
    "    \n",
    "    bernie_alone = bernie_list.minus(bernie_and_chris_list).filter_length(min_length=fps)\n",
    "    bernie_next_to_both = bernie_alone.merge(bernie_and_chris_list,\n",
    "                                             predicate=Or(Before(0, fps), After(0, fps)))\n",
    "    \n",
    "    everything_list = bernie_next_to_both.dilate(\n",
    "        5).coalesce().filter_length(min_length = 60 * fps)\n",
    "    if len(everything_list.get_temporal_ranges()) > 0:\n",
    "        interviews_with_cuts[video] = [{'min_frame': tr.get_start(), 'max_frame': tr.get_end()}\n",
    "                              for tr in everything_list.get_temporal_ranges()]"
   ]
  },
  {
   "cell_type": "code",
   "execution_count": null,
   "metadata": {
    "ExecuteTime": {
     "end_time": "2018-10-10T21:16:06.648827Z",
     "start_time": "2018-10-10T21:16:06.616922Z"
    }
   },
   "outputs": [],
   "source": [
    "# Display the results in the Esper widget!\n",
    "def results_for_esper(clips_by_video):\n",
    "    materialized_results = {}\n",
    "    full_count = 0\n",
    "    for video in clips_by_video:\n",
    "        if len(clips_by_video[video]) == 0:\n",
    "            continue\n",
    "        materialized_results[video] = [\n",
    "            {'track': video, 'min_frame': row['min_frame'],\n",
    "             'max_frame': row['max_frame'], 'video': video}\n",
    "            for row in clips_by_video[video]]\n",
    "        full_count += len(materialized_results[video])\n",
    "\n",
    "    groups = [{\n",
    "        'type': 'contiguous',\n",
    "        'label': video,\n",
    "        'elements': materialized_results[video]\n",
    "    } for video in sorted(materialized_results.keys())]\n",
    "\n",
    "    return {'result': groups, 'count': full_count, 'type': 'Interviews'}"
   ]
  },
  {
   "cell_type": "code",
   "execution_count": null,
   "metadata": {
    "ExecuteTime": {
     "end_time": "2018-10-10T21:16:08.479341Z",
     "start_time": "2018-10-10T21:16:08.360678Z"
    }
   },
   "outputs": [],
   "source": [
    "esper_widget(results_for_esper(interviews_with_cuts))"
   ]
  },
  {
   "cell_type": "markdown",
   "metadata": {},
   "source": [
    "Those look better. Let's dig in a little deeper to make sure we get the full clips."
   ]
  },
  {
   "cell_type": "code",
   "execution_count": null,
   "metadata": {
    "ExecuteTime": {
     "end_time": "2018-10-10T21:16:24.732209Z",
     "start_time": "2018-10-10T21:16:24.704408Z"
    }
   },
   "outputs": [],
   "source": [
    "average_length = np.mean([clip['max_frame'] - clip['min_frame'] for v in interviews_with_cuts.values() for clip in v])\n",
    "print('Average number of frames: ', average_length)"
   ]
  },
  {
   "cell_type": "code",
   "execution_count": null,
   "metadata": {
    "ExecuteTime": {
     "end_time": "2018-10-10T21:16:26.372701Z",
     "start_time": "2018-10-10T21:16:26.346543Z"
    }
   },
   "outputs": [],
   "source": [
    "print(interviews_with_cuts)"
   ]
  },
  {
   "cell_type": "markdown",
   "metadata": {},
   "source": [
    "## 5 short consecutive shots\n",
    "\n",
    "Give me all situations where there were five short consecutive shots"
   ]
  },
  {
   "cell_type": "code",
   "execution_count": null,
   "metadata": {
    "ExecuteTime": {
     "end_time": "2018-10-10T23:52:50.392537Z",
     "start_time": "2018-10-10T23:52:38.796725Z"
    }
   },
   "outputs": [],
   "source": [
    "shots = get_shots()\n",
    "short_shots = shots.filter('duration < 0.5').orderBy('video_id')\n",
    "print(short_shots.count())"
   ]
  },
  {
   "cell_type": "code",
   "execution_count": null,
   "metadata": {
    "ExecuteTime": {
     "end_time": "2018-10-10T23:55:33.817180Z",
     "start_time": "2018-10-10T23:55:23.641802Z"
    }
   },
   "outputs": [],
   "source": [
    "short_shots_by_vid = short_shots.select('video_id', 'min_frame', 'max_frame').groupBy('video_id').agg(\n",
    "    collect_list('min_frame').alias('min_frames'), collect_list('max_frame').alias('max_frames'))\n",
    "short_shots_by_vid.show()\n",
    "print(short_shots_by_vid.count())"
   ]
  },
  {
   "cell_type": "code",
   "execution_count": null,
   "metadata": {
    "ExecuteTime": {
     "end_time": "2018-10-11T00:16:58.858569Z",
     "start_time": "2018-10-11T00:09:54.091474Z"
    }
   },
   "outputs": [],
   "source": [
    "collected_shots = {}\n",
    "for idx, row in enumerate(short_shots_by_vid.collect()):\n",
    "    if (idx % 1000) == 0:\n",
    "        if (idx % 10000) == 0:\n",
    "            print()\n",
    "            print(idx)\n",
    "        sys.stdout.write('.')\n",
    "    video = row.video_id\n",
    "    shots_in_video = zip(row.min_frames, row.max_frames)\n",
    "    trlist = TemporalRangeList([(shot[0], shot[1], 1) for shot in shots_in_video]).dilate(1)\n",
    "    five_consecutive_shots = trlist.merge(\n",
    "        trlist.merge(\n",
    "            trlist.merge(\n",
    "                trlist.merge(trlist, predicate=MeetsBefore()),\n",
    "                predicate=MeetsBefore()),\n",
    "            predicate=MeetsBefore()),\n",
    "        predicate=MeetsBefore()).get_temporal_ranges()\n",
    "    if len(five_consecutive_shots) > 0:\n",
    "        collected_shots[video] = five_consecutive_shots\n",
    "\n",
    "print(collected_shots)"
   ]
  },
  {
   "cell_type": "markdown",
   "metadata": {},
   "source": [
    "It turns out this doesn't happen..."
   ]
  }
 ],
 "metadata": {
  "kernelspec": {
   "display_name": "Django Shell-Plus",
   "language": "python",
   "name": "django_extensions"
  },
  "language_info": {
   "codemirror_mode": {
    "name": "ipython",
    "version": 3
   },
   "file_extension": ".py",
   "mimetype": "text/x-python",
   "name": "python",
   "nbconvert_exporter": "python",
   "pygments_lexer": "ipython3",
   "version": "3.5.2"
  },
  "toc": {
   "base_numbering": 1,
   "nav_menu": {},
   "number_sections": true,
   "sideBar": false,
   "skip_h1_title": false,
   "title_cell": "Table of Contents",
   "title_sidebar": "Contents",
   "toc_cell": true,
   "toc_position": {},
   "toc_section_display": "block",
   "toc_window_display": false
  }
 },
 "nbformat": 4,
 "nbformat_minor": 2
}
