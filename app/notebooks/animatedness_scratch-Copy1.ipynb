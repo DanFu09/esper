{
 "cells": [
  {
   "cell_type": "code",
   "execution_count": 18,
   "metadata": {},
   "outputs": [],
   "source": [
    "import query.datasets.prelude\n",
    "reload(query.datasets.prelude)\n",
    "from query.datasets.prelude import *\n",
    "from query.datasets.tvnews.shot_detect import shot_detect, shot_stitch\n",
    "from query.datasets.tvnews.face_detect import face_detect\n",
    "from query.datasets.tvnews.face_embed import face_embed\n",
    "from query.datasets.tvnews.pose_detect import pose_detect\n",
    "from query.datasets.tvnews.identity_detect import identity_detect\n",
    "from query.datasets.tvnews.animatedness import shot_frame_to_detect"
   ]
  },
  {
   "cell_type": "code",
   "execution_count": 2,
   "metadata": {},
   "outputs": [
    {
     "name": "stderr",
     "output_type": "stream",
     "text": [
      "D 18-01-17 23:26:51 prelude.py:229] -- START: Detecting shots\n",
      "D 18-01-17 23:26:51 <ipython-input-2-5028577b130d>:005] Loading videos\n"
     ]
    },
    {
     "data": {
      "application/vnd.jupyter.widget-view+json": {
       "model_id": "79a2764337ca47818fc8c07a73db6289",
       "version_major": 2,
       "version_minor": 0
      },
      "text/html": [
       "<p>Failed to display Jupyter Widget of type <code>HBox</code>.</p>\n",
       "<p>\n",
       "  If you're reading this message in the Jupyter Notebook or JupyterLab Notebook, it may mean\n",
       "  that the widgets JavaScript is still loading. If this message persists, it\n",
       "  likely means that the widgets JavaScript library is either not installed or\n",
       "  not enabled. See the <a href=\"https://ipywidgets.readthedocs.io/en/stable/user_install.html\">Jupyter\n",
       "  Widgets Documentation</a> for setup instructions.\n",
       "</p>\n",
       "<p>\n",
       "  If you're reading this message in another frontend (for example, a static\n",
       "  rendering on GitHub or <a href=\"https://nbviewer.jupyter.org/\">NBViewer</a>),\n",
       "  it may mean that your frontend doesn't currently support widgets.\n",
       "</p>\n"
      ],
      "text/plain": [
       "HBox(children=(IntProgress(value=0, max=62046), HTML(value=u'')))"
      ]
     },
     "metadata": {},
     "output_type": "display_data"
    },
    {
     "name": "stderr",
     "output_type": "stream",
     "text": [
      "D 18-01-17 23:26:52 prelude.py:229] -- START: Loading from cache: all_shots_blackframes\n"
     ]
    },
    {
     "name": "stdout",
     "output_type": "stream",
     "text": [
      "\n"
     ]
    },
    {
     "name": "stderr",
     "output_type": "stream",
     "text": [
      "D 18-01-17 23:29:07 prelude.py:236] -- END: Loading from cache: all_shots_blackframes -- 00:02:14\n",
      "D 18-01-17 23:29:07 <ipython-input-2-5028577b130d>:009] Computing face frames to detect\n"
     ]
    },
    {
     "data": {
      "application/vnd.jupyter.widget-view+json": {
       "model_id": "894cb2741ef14dfd864965369173079f",
       "version_major": 2,
       "version_minor": 0
      },
      "text/html": [
       "<p>Failed to display Jupyter Widget of type <code>HBox</code>.</p>\n",
       "<p>\n",
       "  If you're reading this message in the Jupyter Notebook or JupyterLab Notebook, it may mean\n",
       "  that the widgets JavaScript is still loading. If this message persists, it\n",
       "  likely means that the widgets JavaScript library is either not installed or\n",
       "  not enabled. See the <a href=\"https://ipywidgets.readthedocs.io/en/stable/user_install.html\">Jupyter\n",
       "  Widgets Documentation</a> for setup instructions.\n",
       "</p>\n",
       "<p>\n",
       "  If you're reading this message in another frontend (for example, a static\n",
       "  rendering on GitHub or <a href=\"https://nbviewer.jupyter.org/\">NBViewer</a>),\n",
       "  it may mean that your frontend doesn't currently support widgets.\n",
       "</p>\n"
      ],
      "text/plain": [
       "HBox(children=(IntProgress(value=0, max=60720), HTML(value=u'')))"
      ]
     },
     "metadata": {},
     "output_type": "display_data"
    },
    {
     "name": "stderr",
     "output_type": "stream",
     "text": [
      "D 18-01-17 23:29:39 prelude.py:236] -- END: Detecting shots -- 00:02:48\n"
     ]
    },
    {
     "name": "stdout",
     "output_type": "stream",
     "text": [
      "\n"
     ]
    }
   ],
   "source": [
    "with Timer('Detecting shots'):\n",
    "    import query.datasets.tvnews.shot_detect\n",
    "    reload(query.datasets.tvnews.shot_detect)\n",
    "    from query.datasets.tvnews.shot_detect import shot_detect\n",
    "    log.debug('Loading videos')\n",
    "    all_videos = list(tqdm(Video.objects.all().order_by('id')))\n",
    "    shot_indices, all_shots, all_blackframes = shot_detect(all_videos)\n",
    "    shot_videos = gather(all_videos, shot_indices)\n",
    "    log.debug('Computing face frames to detect')\n",
    "    face_frame_per_shot = [[shot_frame_to_detect(shot) for shot in vid_shots]\n",
    "                           for vid_shots in tqdm(all_shots)]"
   ]
  },
  {
   "cell_type": "code",
   "execution_count": 3,
   "metadata": {},
   "outputs": [
    {
     "name": "stderr",
     "output_type": "stream",
     "text": [
      "D 18-01-17 23:29:39 prelude.py:229] -- START: Detecting sparse face\n",
      "D 18-01-17 23:29:39 prelude.py:229] -- START: Loading from cache: all_bboxes\n",
      "D 18-01-17 23:30:52 prelude.py:236] -- END: Loading from cache: all_bboxes -- 00:01:04\n",
      "D 18-01-17 23:30:52 prelude.py:236] -- END: Detecting sparse face -- 00:01:13\n"
     ]
    },
    {
     "name": "stdout",
     "output_type": "stream",
     "text": [
      "60607\n"
     ]
    }
   ],
   "source": [
    "with Timer('Detecting sparse face'):\n",
    "    import query.datasets.tvnews.face_detect\n",
    "    reload(query.datasets.tvnews.face_detect)\n",
    "    from query.datasets.tvnews.face_detect import face_detect\n",
    "    \n",
    "    all_faces, indices = face_detect(shot_videos, face_frame_per_shot)\n",
    "    face_videos = gather(shot_videos, indices)\n",
    "    face_shots = gather(all_shots, indices)\n",
    "    face_frames = gather(face_frame_per_shot, indices)\n",
    "    print(len(all_faces))"
   ]
  },
  {
   "cell_type": "code",
   "execution_count": null,
   "metadata": {
    "hide_input": true
   },
   "outputs": [],
   "source": [
    "with Timer('Saving faces'):\n",
    "    frames_to_save = [\n",
    "        [{\n",
    "            'video_id': video.id,\n",
    "            'number': f\n",
    "        } for f in frames]\n",
    "        for (video, frames) in zip(face_videos, face_frames)\n",
    "    ]\n",
    "    Frame.objects.bulk_create_copy(flatten(frames_to_save))\n",
    "    \n",
    "    labeler, _ = Labeler.objects.get_or_create(name='mtcnn')\n",
    "    for (frames, vid_faces) in zip(frames_to_save, all_faces):\n",
    "        for (frame, faces) in zip(frames, vid_faces):\n",
    "            for face in faces:\n",
    "                face['frame_id'] = frame['id']\n",
    "                face['labeler_id'] = labeler.id\n",
    "    Face.objects.bulk_create_copy(flatten(all_faces))"
   ]
  },
  {
   "cell_type": "code",
   "execution_count": null,
   "metadata": {},
   "outputs": [],
   "source": [
    "make_montage(face_videos[0], face_frames[0], '/app/montage.jpg', bboxes=all_faces[0])"
   ]
  },
  {
   "cell_type": "code",
   "execution_count": 4,
   "metadata": {},
   "outputs": [
    {
     "data": {
      "application/vnd.jupyter.widget-view+json": {
       "model_id": "05b8cb14e267463a97c68cb7d4a03e00",
       "version_major": 2,
       "version_minor": 0
      },
      "text/html": [
       "<p>Failed to display Jupyter Widget of type <code>HBox</code>.</p>\n",
       "<p>\n",
       "  If you're reading this message in the Jupyter Notebook or JupyterLab Notebook, it may mean\n",
       "  that the widgets JavaScript is still loading. If this message persists, it\n",
       "  likely means that the widgets JavaScript library is either not installed or\n",
       "  not enabled. See the <a href=\"https://ipywidgets.readthedocs.io/en/stable/user_install.html\">Jupyter\n",
       "  Widgets Documentation</a> for setup instructions.\n",
       "</p>\n",
       "<p>\n",
       "  If you're reading this message in another frontend (for example, a static\n",
       "  rendering on GitHub or <a href=\"https://nbviewer.jupyter.org/\">NBViewer</a>),\n",
       "  it may mean that your frontend doesn't currently support widgets.\n",
       "</p>\n"
      ],
      "text/plain": [
       "HBox(children=(IntProgress(value=0, max=60607), HTML(value=u'')))"
      ]
     },
     "metadata": {},
     "output_type": "display_data"
    },
    {
     "name": "stdout",
     "output_type": "stream",
     "text": [
      "\n"
     ]
    }
   ],
   "source": [
    "def output_name(video, frames):\n",
    "    return video.path + '_faces_' + str(hash(tuple(frames)))\n",
    "\n",
    "face_tables = [output_name(video, frames) for video, frames in tqdm(zip(face_videos, face_frames))]"
   ]
  },
  {
   "cell_type": "code",
   "execution_count": null,
   "metadata": {},
   "outputs": [],
   "source": [
    "with Timer('Gender faces'):\n",
    "    import query.datasets.tvnews.gender_detect\n",
    "    reload(query.datasets.tvnews.gender_detect)\n",
    "    from query.datasets.tvnews.gender_detect import gender_detect\n",
    "    \n",
    "    gender_detect(face_videos, face_frames, face_tables)"
   ]
  },
  {
   "cell_type": "code",
   "execution_count": null,
   "metadata": {},
   "outputs": [],
   "source": [
    "with Timer(\"Embedding faces\"):\n",
    "    import query.datasets.tvnews.face_embed\n",
    "    reload(query.datasets.tvnews.face_embed)\n",
    "    from query.datasets.tvnews.face_embed import face_embed\n",
    "\n",
    "    face_embed(face_videos, face_frames, face_tables)"
   ]
  },
  {
   "cell_type": "code",
   "execution_count": 5,
   "metadata": {},
   "outputs": [
    {
     "data": {
      "application/vnd.jupyter.widget-view+json": {
       "model_id": "7d5fb69ae07d4b17860460ad90efebee",
       "version_major": 2,
       "version_minor": 0
      },
      "text/html": [
       "<p>Failed to display Jupyter Widget of type <code>HBox</code>.</p>\n",
       "<p>\n",
       "  If you're reading this message in the Jupyter Notebook or JupyterLab Notebook, it may mean\n",
       "  that the widgets JavaScript is still loading. If this message persists, it\n",
       "  likely means that the widgets JavaScript library is either not installed or\n",
       "  not enabled. See the <a href=\"https://ipywidgets.readthedocs.io/en/stable/user_install.html\">Jupyter\n",
       "  Widgets Documentation</a> for setup instructions.\n",
       "</p>\n",
       "<p>\n",
       "  If you're reading this message in another frontend (for example, a static\n",
       "  rendering on GitHub or <a href=\"https://nbviewer.jupyter.org/\">NBViewer</a>),\n",
       "  it may mean that your frontend doesn't currently support widgets.\n",
       "</p>\n"
      ],
      "text/plain": [
       "HBox(children=(IntProgress(value=1, bar_style=u'info', max=1), HTML(value=u'')))"
      ]
     },
     "metadata": {},
     "output_type": "display_data"
    },
    {
     "name": "stdout",
     "output_type": "stream",
     "text": [
      "\n",
      "60607\n"
     ]
    }
   ],
   "source": [
    "def output_name(video, frames):\n",
    "    return video.path + '_embeddings_' + str(hash(tuple(frames)))\n",
    "\n",
    "with make_scanner_db() as db:\n",
    "    db._load_db_metadata()\n",
    "    \n",
    "indices, embed_tables = unzip([\n",
    "    (i, db.table(output_name(video, frames)))\n",
    "    for i, (video, frames) in tqdm(enumerate(zip(face_videos, face_frames)))\n",
    "    if db.has_table(output_name(video, frames)) and db.table(output_name(video, frames)).committed()\n",
    "])\n",
    "print(len(indices))\n",
    "\n",
    "embed_videos, embed_frames, embed_faces, embed_shots = map(lambda l: gather(l, indices),\n",
    "                                                          (face_videos, face_frames, all_faces, face_shots))\n"
   ]
  },
  {
   "cell_type": "code",
   "execution_count": null,
   "metadata": {},
   "outputs": [],
   "source": [
    "with Timer(\"Embedding faces\"):\n",
    "    def load_embs():\n",
    "        log.debug('Loading embs')\n",
    "        EMBEDDING_SIZE = 128\n",
    "        def load(t):\n",
    "            embs = list(t.column('embeddings').load())\n",
    "            arrays = [np.frombuffer(emb, dtype=np.float32) if emb is not None else [] for _, emb in embs]\n",
    "            return [np.split(a, len(a) / 128) if len(a) > 0 else [] for a in arrays]\n",
    "        return par_for(load, embed_tables, workers=8)\n",
    "\n",
    "    all_embs = pcache.get('all_embs', load_embs, method='pickle', force=True)\n"
   ]
  },
  {
   "cell_type": "code",
   "execution_count": 7,
   "metadata": {},
   "outputs": [
    {
     "name": "stderr",
     "output_type": "stream",
     "text": [
      "D 18-01-17 23:39:22 prelude.py:229] -- START: Stitching shots\n",
      "D 18-01-17 23:39:22 prelude.py:229] -- START: Loading from cache: stitched_shots\n",
      "D 18-01-17 23:41:21 prelude.py:236] -- END: Loading from cache: stitched_shots -- 00:01:54\n",
      "D 18-01-17 23:41:21 prelude.py:236] -- END: Stitching shots -- 00:01:58\n"
     ]
    }
   ],
   "source": [
    "with Timer(\"Stitching shots\"):    \n",
    "    def load_stitches():\n",
    "        log.debug('Computing stitches')\n",
    "        import query.datasets.tvnews.shot_detect\n",
    "        reload(query.datasets.tvnews.shot_detect)\n",
    "        return query.datasets.tvnews.shot_detect.shot_stitch(embed_videos, embed_shots, embed_frames, embed_faces, all_embs)\n",
    "    (stitched_shots, stitched_indices) = pcache.get('stitched_shots', load_stitches)"
   ]
  },
  {
   "cell_type": "code",
   "execution_count": 9,
   "metadata": {},
   "outputs": [],
   "source": [
    "all_embs = embed_faces\n",
    "stitched_videos = embed_videos\n",
    "stitched_frames, stitched_faces, stitched_embs = map(\n",
    "    lambda t: [gather(l, idx) for l, idx in zip(t, stitched_indices)],\n",
    "    (embed_frames, embed_faces, all_embs))"
   ]
  },
  {
   "cell_type": "code",
   "execution_count": 10,
   "metadata": {},
   "outputs": [
    {
     "name": "stderr",
     "output_type": "stream",
     "text": [
      "D 18-01-17 23:49:14 prelude.py:229] -- START: Detecting identities\n",
      "D 18-01-17 23:49:14 prelude.py:229] -- START: Loading from cache: matching_indices\n",
      "D 18-01-17 23:49:14 prelude.py:236] -- END: Loading from cache: matching_indices -- 00:00:00\n",
      "D 18-01-17 23:49:14 prelude.py:236] -- END: Detecting identities -- 00:00:00\n"
     ]
    },
    {
     "name": "stdout",
     "output_type": "stream",
     "text": [
      "(1935, 89523)\n"
     ]
    }
   ],
   "source": [
    "show = Show.objects.get(name='The Rachel Maddow Show').id\n",
    "indices = [i for i, video in enumerate(stitched_videos) if video.show_id == show]\n",
    "\n",
    "with Timer('Detecting identities'):\n",
    "    def load_identities():\n",
    "        log.debug('Computing identities')\n",
    "        import query.datasets.tvnews.identity_detect\n",
    "        reload(query.datasets.tvnews.identity_detect)\n",
    "\n",
    "        return query.datasets.tvnews.identity_detect.identity_detect(\n",
    "           gather(stitched_videos, indices), \"/app/rachel-maddow.jpg\", gather(stitched_embs, indices))\n",
    "    \n",
    "    matching_indices = pcache.get('matching_indices', load_identities)\n",
    "    \n",
    "print(len(matching_indices), sum([len(l) for l in matching_indices]))"
   ]
  },
  {
   "cell_type": "code",
   "execution_count": 23,
   "metadata": {},
   "outputs": [],
   "source": [
    "import random\n",
    "flat_indices = [(i, j, k) for i, idx in enumerate(matching_indices) for (j, k) in idx]\n",
    "random_indices = random.sample(flat_indices, 16)\n",
    "identity_videos = gather(stitched_videos, indices)\n",
    "identity_frames = gather(stitched_frames, indices)\n",
    "make_montage(\n",
    "    [identity_videos[i] for i, _1, _2 in random_indices],\n",
    "    [identity_frames[i][j] for i, j, _ in random_indices],\n",
    "    'montage.jpg',\n",
    "    num_cols=4,\n",
    "    target_height=240)"
   ]
  },
  {
   "cell_type": "code",
   "execution_count": null,
   "metadata": {},
   "outputs": [],
   "source": [
    "matching_indices_onelevel = [[j for j, k in l] for l in matching_indices]\n",
    "matching_videos, matching_shots, matching_frames, matching_faces = \\\n",
    "    (gather(filter3_videos, indices),      \n",
    "    [gather(shots, idxs) for (shots, idxs) in zip(gather(stitched_shots, indices), matching_indices_onelevel)],\n",
    "    [gather(frames, idxs) for (frames, idxs) in zip(gather(filter3_frames, indices), matching_indices_onelevel)],\n",
    "    [gather2(faces, idxs) for (faces, idxs) in zip(gather(filter3_faces, indices), matching_indices)])\n",
    "    \n",
    "#pose_blacklist = ['tvnews/videos/MSNBCW_20170708_010000_The_Rachel_Maddow_Show.mp4']    \n",
    "#pose_blacklist = ['tvnews/videos/MSNBCW_20170506_040000_The_Rachel_Maddow_Show.mp4']\n",
    "pose_blacklist = []\n",
    "    \n",
    "matching2_videos, matching2_shots, matching2_frames, matching2_faces = unzip([\n",
    "    (video, shots, frames, faces)\n",
    "    for video, shots, frames, faces in zip(matching_videos, matching_shots, matching_frames, matching_faces)\n",
    "    if len(shots) > 0 and video.path not in pose_blacklist\n",
    "])\n",
    "    \n",
    "TARGET_FPS = 10\n",
    "pose_frames = [\n",
    "    sum([list(range(s['min_frame'], s['max_frame'], int(round(video.fps / TARGET_FPS)))) for s in shots], [])\n",
    "    for (video, shots) in zip(matching2_videos, matching2_shots)    \n",
    "]"
   ]
  },
  {
   "cell_type": "code",
   "execution_count": null,
   "metadata": {},
   "outputs": [],
   "source": [
    "import query.datasets.tvnews.pose_detect\n",
    "reload(query.datasets.tvnews.pose_detect)\n",
    "from query.datasets.tvnews.pose_detect import pose_detect\n",
    "\n",
    "all_poses = pose_detect(matching2_videos, pose_frames, force=True)"
   ]
  },
  {
   "cell_type": "code",
   "execution_count": null,
   "metadata": {},
   "outputs": [],
   "source": [
    "import query.datasets.tvnews.pose_detect\n",
    "reload(query.datasets.tvnews.pose_detect)\n",
    "from query.datasets.tvnews.pose_detect import pose_track\n",
    "\n",
    "\n",
    "#pose_track(matching2_videos, matching2_shots, matching2_frames, matching2_faces, all_poses)"
   ]
  },
  {
   "cell_type": "code",
   "execution_count": null,
   "metadata": {},
   "outputs": [],
   "source": [
    "def bbox_montage((i, (video, frames, faces, matches))):\n",
    "    if len(matches) == 0:\n",
    "        print(video.path)\n",
    "        return\n",
    "    make_montage(\n",
    "        video,\n",
    "        [frames[j] for j, _ in matches],\n",
    "        '/tmp/montage{}.jpg'.format(i),\n",
    "        bboxes=[[faces[j][k]] for j, k in matches],\n",
    "        progress=False)"
   ]
  },
  {
   "cell_type": "code",
   "execution_count": null,
   "metadata": {},
   "outputs": [],
   "source": [
    "import query.datasets.prelude\n",
    "reload(query.datasets.prelude)\n",
    "from query.datasets.prelude import *\n",
    "\n",
    "# make_montage(filter3_videos[indices[i]], filter3_frames[indices[i]],\n",
    "#              '/app/montage.jpg', filter3_faces[indices[i]], workers=96, progress=True)\n",
    "\n",
    "def bbox_montage((i, (video, frames, faces, matches))):\n",
    "    try:\n",
    "        if len(matches) == 0:\n",
    "            print(video.path)\n",
    "            return\n",
    "        bbox_map = defaultdict(list, {j: [faces[j][k]] for j, k in matches})\n",
    "        make_montage(\n",
    "            video,\n",
    "            #[frames[j] for j, _ in matches],\n",
    "            frames,\n",
    "            '/tmp/montage{}.jpg'.format(i),\n",
    "            bboxes=[bbox_map[i] for i in range(len(frames))],\n",
    "            #bboxes=[[faces[j][k]] for j, k in matches],\n",
    "            progress=False)\n",
    "    except Exception:\n",
    "        traceback.print_exc()\n",
    "        print(video.path)\n",
    "    \n",
    "_ = par_for(bbox_montage,\n",
    "        list(enumerate(zip(gather(filter3_videos, indices)[:100], gather(filter3_frames, indices), \n",
    "            gather(filter3_faces, indices), matching_indices))),\n",
    "        process=True,\n",
    "        workers=8)"
   ]
  },
  {
   "cell_type": "code",
   "execution_count": null,
   "metadata": {},
   "outputs": [],
   "source": [
    "import requests\n",
    "import cv2\n",
    "\n",
    "par_for(make_montage,\n",
    "        list(enumerate(zip(filter2_videos, [[s['min_frame'] for s in l] for l in stitched_shots][:100]))),\n",
    "        process=True,\n",
    "        workers=8)"
   ]
  },
  {
   "cell_type": "code",
   "execution_count": null,
   "metadata": {},
   "outputs": [],
   "source": [
    "Shot.objects.bulk_create_copy({\n",
    "    'min_frame': shot['min_frame'], \n",
    "    'max_frame': shot['max_frame'], \n",
    "    'labeler_id': shot['labeler'],\n",
    "    'video_id': shot['video__id']\n",
    "} for shot_list in tqdm(stitched_shots) for shot in shot_list])"
   ]
  }
 ],
 "metadata": {
  "kernelspec": {
   "display_name": "Django Shell-Plus",
   "language": "python",
   "name": "django_extensions"
  },
  "language_info": {
   "codemirror_mode": {
    "name": "ipython",
    "version": 2
   },
   "file_extension": ".py",
   "mimetype": "text/x-python",
   "name": "python",
   "nbconvert_exporter": "python",
   "pygments_lexer": "ipython2",
   "version": "2.7.14"
  },
  "toc": {
   "nav_menu": {},
   "number_sections": true,
   "sideBar": false,
   "skip_h1_title": false,
   "toc_cell": false,
   "toc_position": {},
   "toc_section_display": "block",
   "toc_window_display": false
  }
 },
 "nbformat": 4,
 "nbformat_minor": 2
}
