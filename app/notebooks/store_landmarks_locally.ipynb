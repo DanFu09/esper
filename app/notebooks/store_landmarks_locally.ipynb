{
 "cells": [
  {
   "cell_type": "code",
   "execution_count": 1,
   "metadata": {
    "ExecuteTime": {
     "end_time": "2019-01-11T08:16:51.635164Z",
     "start_time": "2019-01-11T08:16:51.220508Z"
    }
   },
   "outputs": [],
   "source": [
    "import esper.face_landmarks_wrapper as flw\n",
    "from query.models import Face"
   ]
  },
  {
   "cell_type": "code",
   "execution_count": 12,
   "metadata": {
    "ExecuteTime": {
     "end_time": "2019-01-12T06:22:16.702564Z",
     "start_time": "2019-01-12T06:22:16.653547Z"
    }
   },
   "outputs": [],
   "source": [
    "faces = Face.objects.filter(\n",
    "    frame__video_id__in=[123, 186, 188, 377], frame__regularly_sampled=True).order_by('id').all()"
   ]
  },
  {
   "cell_type": "code",
   "execution_count": 13,
   "metadata": {
    "ExecuteTime": {
     "end_time": "2019-01-12T06:22:24.769976Z",
     "start_time": "2019-01-12T06:22:18.658765Z"
    }
   },
   "outputs": [],
   "source": [
    "faces_that_have_landmarks = flw.exists(faces)"
   ]
  },
  {
   "cell_type": "code",
   "execution_count": 14,
   "metadata": {
    "ExecuteTime": {
     "end_time": "2019-01-12T06:22:26.346207Z",
     "start_time": "2019-01-12T06:22:26.318255Z"
    }
   },
   "outputs": [
    {
     "data": {
      "text/plain": [
       "43408"
      ]
     },
     "execution_count": 14,
     "metadata": {},
     "output_type": "execute_result"
    }
   ],
   "source": [
    "faces.count()"
   ]
  },
  {
   "cell_type": "code",
   "execution_count": 15,
   "metadata": {
    "ExecuteTime": {
     "end_time": "2019-01-12T06:22:27.507621Z",
     "start_time": "2019-01-12T06:22:27.477684Z"
    }
   },
   "outputs": [],
   "source": [
    "faces_without_landmarks = []\n",
    "for f, has_landmark in zip(faces, faces_that_have_landmarks):\n",
    "    if not has_landmark:\n",
    "        faces_without_landmarks.append(f.id)"
   ]
  },
  {
   "cell_type": "code",
   "execution_count": 16,
   "metadata": {
    "ExecuteTime": {
     "end_time": "2019-01-12T06:22:28.391605Z",
     "start_time": "2019-01-12T06:22:28.364009Z"
    }
   },
   "outputs": [
    {
     "data": {
      "text/plain": [
       "0"
      ]
     },
     "execution_count": 16,
     "metadata": {},
     "output_type": "execute_result"
    }
   ],
   "source": [
    "len(faces_without_landmarks)"
   ]
  },
  {
   "cell_type": "code",
   "execution_count": 9,
   "metadata": {
    "ExecuteTime": {
     "end_time": "2019-01-11T08:18:08.386877Z",
     "start_time": "2019-01-11T08:18:08.359668Z"
    }
   },
   "outputs": [
    {
     "data": {
      "text/plain": [
       "8912968"
      ]
     },
     "execution_count": 9,
     "metadata": {},
     "output_type": "execute_result"
    }
   ],
   "source": [
    "faces_without_landmarks[0]"
   ]
  },
  {
   "cell_type": "code",
   "execution_count": 10,
   "metadata": {
    "ExecuteTime": {
     "end_time": "2019-01-11T08:18:09.595484Z",
     "start_time": "2019-01-11T08:18:09.568272Z"
    }
   },
   "outputs": [
    {
     "data": {
      "text/plain": [
       "8914518"
      ]
     },
     "execution_count": 10,
     "metadata": {},
     "output_type": "execute_result"
    }
   ],
   "source": [
    "faces_without_landmarks[-1]"
   ]
  },
  {
   "cell_type": "code",
   "execution_count": 9,
   "metadata": {
    "ExecuteTime": {
     "end_time": "2019-01-10T23:27:08.121960Z",
     "start_time": "2019-01-10T23:27:08.094676Z"
    }
   },
   "outputs": [
    {
     "data": {
      "text/plain": [
       "[8912955,\n",
       " 8912956,\n",
       " 8912957,\n",
       " 8912958,\n",
       " 8912959,\n",
       " 8912960,\n",
       " 8912961,\n",
       " 8912962,\n",
       " 8912963,\n",
       " 8912964,\n",
       " 8912965,\n",
       " 8912966,\n",
       " 8912967]"
      ]
     },
     "execution_count": 9,
     "metadata": {},
     "output_type": "execute_result"
    }
   ],
   "source": [
    "faces_without_landmarks"
   ]
  },
  {
   "cell_type": "code",
   "execution_count": 12,
   "metadata": {
    "ExecuteTime": {
     "end_time": "2019-01-06T23:16:08.395113Z",
     "start_time": "2019-01-06T23:16:08.365571Z"
    }
   },
   "outputs": [],
   "source": [
    "vids_missing_landmarks = set()"
   ]
  },
  {
   "cell_type": "code",
   "execution_count": 13,
   "metadata": {
    "ExecuteTime": {
     "end_time": "2019-01-06T23:16:33.752544Z",
     "start_time": "2019-01-06T23:16:10.853411Z"
    }
   },
   "outputs": [],
   "source": [
    "for f in Face.objects.filter(id__in=faces_without_landmarks).annotate(video_id=F('frame__video_id')):\n",
    "    vids_missing_landmarks.add(f.video_id)"
   ]
  },
  {
   "cell_type": "code",
   "execution_count": 14,
   "metadata": {
    "ExecuteTime": {
     "end_time": "2019-01-06T23:16:52.738927Z",
     "start_time": "2019-01-06T23:16:52.706928Z"
    }
   },
   "outputs": [
    {
     "data": {
      "text/plain": [
       "23"
      ]
     },
     "execution_count": 14,
     "metadata": {},
     "output_type": "execute_result"
    }
   ],
   "source": [
    "len(vids_missing_landmarks)"
   ]
  },
  {
   "cell_type": "code",
   "execution_count": 15,
   "metadata": {
    "ExecuteTime": {
     "end_time": "2019-01-06T23:17:17.954031Z",
     "start_time": "2019-01-06T23:17:17.925070Z"
    }
   },
   "outputs": [
    {
     "data": {
      "text/plain": [
       "{1,\n",
       " 2,\n",
       " 3,\n",
       " 4,\n",
       " 5,\n",
       " 6,\n",
       " 7,\n",
       " 8,\n",
       " 9,\n",
       " 10,\n",
       " 11,\n",
       " 12,\n",
       " 13,\n",
       " 14,\n",
       " 15,\n",
       " 16,\n",
       " 17,\n",
       " 18,\n",
       " 19,\n",
       " 20,\n",
       " 21,\n",
       " 22,\n",
       " 23}"
      ]
     },
     "execution_count": 15,
     "metadata": {},
     "output_type": "execute_result"
    }
   ],
   "source": [
    "vids_missing_landmarks"
   ]
  },
  {
   "cell_type": "code",
   "execution_count": 2,
   "metadata": {
    "ExecuteTime": {
     "end_time": "2019-01-07T00:30:10.845396Z",
     "start_time": "2019-01-07T00:30:10.813662Z"
    }
   },
   "outputs": [],
   "source": [
    "faces_in_1 = Face.objects.filter(frame__video_id__lte=23).order_by('id')"
   ]
  },
  {
   "cell_type": "code",
   "execution_count": 3,
   "metadata": {
    "ExecuteTime": {
     "end_time": "2019-01-07T00:30:17.117892Z",
     "start_time": "2019-01-07T00:30:11.809324Z"
    }
   },
   "outputs": [
    {
     "data": {
      "text/plain": [
       "259369"
      ]
     },
     "execution_count": 3,
     "metadata": {},
     "output_type": "execute_result"
    }
   ],
   "source": [
    "faces_in_1.count()"
   ]
  },
  {
   "cell_type": "code",
   "execution_count": 4,
   "metadata": {
    "ExecuteTime": {
     "end_time": "2019-01-07T00:30:30.278884Z",
     "start_time": "2019-01-07T00:30:18.565725Z"
    }
   },
   "outputs": [],
   "source": [
    "faces_in_1_have_landmarks = flw.exists(faces_in_1)"
   ]
  },
  {
   "cell_type": "code",
   "execution_count": 5,
   "metadata": {
    "ExecuteTime": {
     "end_time": "2019-01-07T00:30:39.911045Z",
     "start_time": "2019-01-07T00:30:39.868071Z"
    }
   },
   "outputs": [],
   "source": [
    "faces_in_1_without_landmarks = [f.id for f, has_landmark in zip(faces_in_1, faces_in_1_have_landmarks) if not has_landmark]"
   ]
  },
  {
   "cell_type": "code",
   "execution_count": 6,
   "metadata": {
    "ExecuteTime": {
     "end_time": "2019-01-07T00:30:41.217250Z",
     "start_time": "2019-01-07T00:30:41.188963Z"
    }
   },
   "outputs": [
    {
     "data": {
      "text/plain": [
       "0"
      ]
     },
     "execution_count": 6,
     "metadata": {},
     "output_type": "execute_result"
    }
   ],
   "source": [
    "len(faces_in_1_without_landmarks)"
   ]
  },
  {
   "cell_type": "code",
   "execution_count": 7,
   "metadata": {
    "ExecuteTime": {
     "end_time": "2018-12-25T03:21:23.061035Z",
     "start_time": "2018-12-25T03:21:23.035135Z"
    }
   },
   "outputs": [],
   "source": [
    "import numpy as np"
   ]
  },
  {
   "cell_type": "code",
   "execution_count": 10,
   "metadata": {
    "ExecuteTime": {
     "end_time": "2018-12-25T03:21:47.779157Z",
     "start_time": "2018-12-25T03:21:47.736886Z"
    }
   },
   "outputs": [
    {
     "data": {
      "text/plain": [
       "array([0.60104167, 0.21446078, 0.60260417, 0.23651961, 0.60572917,\n",
       "       0.25490196, 0.60729167, 0.2745098 , 0.61041667, 0.29289216,\n",
       "       0.61354167, 0.30759804, 0.61875   , 0.31617647, 0.6234375 ,\n",
       "       0.32352941, 0.634375  , 0.32720588, 0.64583333, 0.31985294,\n",
       "       0.65520833, 0.31617647, 0.66302083, 0.30759804, 0.66979167,\n",
       "       0.28921569, 0.67291667, 0.27083333, 0.67604167, 0.25122549,\n",
       "       0.67916667, 0.22916667, 0.68229167, 0.20710784, 0.60572917,\n",
       "       0.19485294, 0.60885417, 0.1875    , 0.61354167, 0.18382353,\n",
       "       0.61875   , 0.18382353, 0.6234375 , 0.1875    , 0.640625  ,\n",
       "       0.1875    , 0.64583333, 0.18382353, 0.65208333, 0.18014706,\n",
       "       0.65833333, 0.18382353, 0.66510417, 0.19117647, 0.6328125 ,\n",
       "       0.21078431, 0.63125   , 0.2254902 , 0.6296875 , 0.24019608,\n",
       "       0.63125   , 0.25122549, 0.628125  , 0.26348039, 0.6296875 ,\n",
       "       0.26348039, 0.6328125 , 0.26715686, 0.6359375 , 0.26348039,\n",
       "       0.6390625 , 0.26348039, 0.61354167, 0.21446078, 0.61666667,\n",
       "       0.21078431, 0.621875  , 0.20710784, 0.6265625 , 0.21446078,\n",
       "       0.621875  , 0.21813725, 0.61666667, 0.21813725, 0.64427083,\n",
       "       0.21078431, 0.64739583, 0.20710784, 0.65208333, 0.20710784,\n",
       "       0.65677083, 0.21078431, 0.65208333, 0.21446078, 0.64739583,\n",
       "       0.21446078, 0.6234375 , 0.29289216, 0.6265625 , 0.28921569,\n",
       "       0.63125   , 0.28186275, 0.6328125 , 0.28186275, 0.6359375 ,\n",
       "       0.28186275, 0.640625  , 0.28553922, 0.64583333, 0.29289216,\n",
       "       0.640625  , 0.29656863, 0.6375    , 0.3002451 , 0.634375  ,\n",
       "       0.3002451 , 0.6296875 , 0.3002451 , 0.6265625 , 0.29656863,\n",
       "       0.625     , 0.29289216, 0.63125   , 0.29289216, 0.634375  ,\n",
       "       0.28921569, 0.6375    , 0.28921569, 0.64427083, 0.28921569,\n",
       "       0.6359375 , 0.28921569, 0.634375  , 0.28921569, 0.63125   ,\n",
       "       0.28921569])"
      ]
     },
     "execution_count": 10,
     "metadata": {},
     "output_type": "execute_result"
    }
   ],
   "source": [
    "np.frombuffer(FaceLandmarks.objects.get(id=1).landmarks, dtype=np.float64)"
   ]
  },
  {
   "cell_type": "code",
   "execution_count": 19,
   "metadata": {
    "ExecuteTime": {
     "end_time": "2018-12-25T03:23:38.966571Z",
     "start_time": "2018-12-25T03:23:38.931656Z"
    }
   },
   "outputs": [
    {
     "data": {
      "text/plain": [
       "1088"
      ]
     },
     "execution_count": 19,
     "metadata": {},
     "output_type": "execute_result"
    }
   ],
   "source": [
    "len(np.frombuffer(FaceLandmarks.objects.get(id=1).landmarks, dtype=np.float64).tobytes())"
   ]
  },
  {
   "cell_type": "code",
   "execution_count": 1,
   "metadata": {
    "ExecuteTime": {
     "end_time": "2018-12-26T17:42:20.302931Z",
     "start_time": "2018-12-26T17:42:20.273366Z"
    }
   },
   "outputs": [],
   "source": [
    "import os\n",
    "import numpy as np\n",
    "from rs_embed import EmbeddingData\n",
    "\n",
    "LANDMARKS_DIR = '/app/data/landmarks'\n",
    "LANDMARKS_PATH = os.path.join(LANDMARKS_DIR, 'landmarks_binary_sorted.bin')\n",
    "ID_PATH = os.path.join(LANDMARKS_DIR, 'landmarks_ids_sorted.bin')\n",
    "LANDMARKS_DIM = 272"
   ]
  },
  {
   "cell_type": "code",
   "execution_count": 4,
   "metadata": {
    "ExecuteTime": {
     "end_time": "2018-12-26T17:42:35.895595Z",
     "start_time": "2018-12-26T17:42:35.862146Z"
    }
   },
   "outputs": [],
   "source": [
    "def _load():\n",
    "    id_file_size = os.path.getsize(ID_PATH)\n",
    "    assert id_file_size % 8 == 0, \\\n",
    "        'Id file size is not a multiple of sizeof(u64)'\n",
    "    n = int(id_file_size / 8)\n",
    "    emb_file_size = os.path.getsize(LANDMARKS_PATH)\n",
    "    assert emb_file_size % 4 == 0, \\\n",
    "        'Embedding file size is a multiple of sizeof(f32)'\n",
    "    d = int((emb_file_size / 4) / (id_file_size / 8))\n",
    "    assert emb_file_size % d == 0, \\\n",
    "        'Embedding file size is a multiple of d={}'.format(d)\n",
    "    emb_data = EmbeddingData(ID_PATH, LANDMARKS_PATH, LANDMARKS_DIM)\n",
    "    assert emb_data.count() == n, \\\n",
    "        'Count does not match expected: {} != {}'.format(n, emb_data.count())\n",
    "    return emb_data"
   ]
  },
  {
   "cell_type": "code",
   "execution_count": 5,
   "metadata": {
    "ExecuteTime": {
     "end_time": "2018-12-26T17:42:37.118054Z",
     "start_time": "2018-12-26T17:42:36.930133Z"
    }
   },
   "outputs": [],
   "source": [
    "_LANDMARKS_DATA = _load()"
   ]
  },
  {
   "cell_type": "code",
   "execution_count": 8,
   "metadata": {
    "ExecuteTime": {
     "end_time": "2018-12-26T17:43:34.511758Z",
     "start_time": "2018-12-26T17:43:34.486029Z"
    }
   },
   "outputs": [],
   "source": [
    "_, binary = _LANDMARKS_DATA.get([3])[0]"
   ]
  },
  {
   "cell_type": "code",
   "execution_count": 22,
   "metadata": {
    "ExecuteTime": {
     "end_time": "2018-12-26T17:47:41.495751Z",
     "start_time": "2018-12-26T17:47:41.463402Z"
    }
   },
   "outputs": [
    {
     "data": {
      "text/plain": [
       "float"
      ]
     },
     "execution_count": 22,
     "metadata": {},
     "output_type": "execute_result"
    }
   ],
   "source": [
    "type(binary[0])"
   ]
  },
  {
   "cell_type": "code",
   "execution_count": 24,
   "metadata": {
    "ExecuteTime": {
     "end_time": "2018-12-26T17:50:28.416403Z",
     "start_time": "2018-12-26T17:50:28.385176Z"
    }
   },
   "outputs": [
    {
     "data": {
      "text/plain": [
       "array([0.2265625 , 0.72058824, 0.22291667, 0.75      , 0.22291667,\n",
       "       0.77573529, 0.21927083, 0.80637255, 0.2265625 , 0.83578431,\n",
       "       0.23020833, 0.85294118, 0.23020833, 0.86519608, 0.23177083,\n",
       "       0.87009804, 0.2390625 , 0.87867647, 0.24479167, 0.87867647,\n",
       "       0.25520833, 0.87377451, 0.26614583, 0.86151961, 0.2734375 ,\n",
       "       0.84436275, 0.27916667, 0.81862745, 0.27916667, 0.80147059,\n",
       "       0.28072917, 0.77573529, 0.2828125 , 0.74632353, 0.23385417,\n",
       "       0.67769608, 0.228125  , 0.66421569, 0.22447917, 0.66053922,\n",
       "       0.22447917, 0.66421569, 0.22447917, 0.66911765, 0.23020833,\n",
       "       0.68137255, 0.23177083, 0.67769608, 0.23541667, 0.68137255,\n",
       "       0.24114583, 0.68995098, 0.24635417, 0.70343137, 0.22447917,\n",
       "       0.71568627, 0.21927083, 0.7377451 , 0.21197917, 0.75      ,\n",
       "       0.20989583, 0.76715686, 0.22083333, 0.78063725, 0.21927083,\n",
       "       0.78063725, 0.21927083, 0.78431373, 0.22291667, 0.78431373,\n",
       "       0.2265625 , 0.78431373, 0.23020833, 0.70343137, 0.2265625 ,\n",
       "       0.69852941, 0.228125  , 0.70343137, 0.23020833, 0.7120098 ,\n",
       "       0.228125  , 0.7120098 , 0.228125  , 0.7120098 , 0.23385417,\n",
       "       0.72058824, 0.23385417, 0.71568627, 0.23385417, 0.71568627,\n",
       "       0.24114583, 0.72426471, 0.23541667, 0.72916667, 0.23385417,\n",
       "       0.72426471, 0.2265625 , 0.81372549, 0.22083333, 0.80637255,\n",
       "       0.2171875 , 0.79779412, 0.21927083, 0.80147059, 0.21927083,\n",
       "       0.80147059, 0.2265625 , 0.81004902, 0.23385417, 0.82230392,\n",
       "       0.228125  , 0.83088235, 0.2265625 , 0.83578431, 0.22447917,\n",
       "       0.83578431, 0.22291667, 0.83088235, 0.22447917, 0.82720588,\n",
       "       0.2265625 , 0.81372549, 0.22083333, 0.81004902, 0.22083333,\n",
       "       0.81004902, 0.22291667, 0.81372549, 0.23385417, 0.82230392,\n",
       "       0.22447917, 0.82230392, 0.22291667, 0.82230392, 0.22291667,\n",
       "       0.81862745])"
      ]
     },
     "execution_count": 24,
     "metadata": {},
     "output_type": "execute_result"
    }
   ],
   "source": [
    "np.frombuffer(np.array(binary, dtype=np.float32).tobytes(), dtype=np.float64)"
   ]
  },
  {
   "cell_type": "code",
   "execution_count": 25,
   "metadata": {
    "ExecuteTime": {
     "end_time": "2018-12-26T17:50:33.044093Z",
     "start_time": "2018-12-26T17:50:33.009020Z"
    }
   },
   "outputs": [
    {
     "data": {
      "text/plain": [
       "array([0.22604167, 0.78186275, 0.23072917, 0.78921569, 0.22916667,\n",
       "       0.78553922, 0.21927083, 0.80514706, 0.22604167, 0.83210784,\n",
       "       0.22916667, 0.85416667, 0.22916667, 0.8627451 , 0.23072917,\n",
       "       0.86642157, 0.2359375 , 0.87009804, 0.2390625 , 0.87009804,\n",
       "       0.24583333, 0.85416667, 0.26510417, 0.8125    , 0.21927083,\n",
       "       0.8125    , 0.21770833, 0.8002451 , 0.22916667, 0.83210784,\n",
       "       0.22083333, 0.79656863, 0.2765625 , 0.80882353, 0.28958333,\n",
       "       0.74264706, 0.2       , 0.67401961, 0.19635417, 0.67769608,\n",
       "       0.19791667, 0.67769608, 0.2359375 , 0.83210784, 0.22291667,\n",
       "       0.78553922, 0.22604167, 0.78186275, 0.22447917, 0.78186275,\n",
       "       0.275     , 0.78553922, 0.28177083, 0.76960784, 0.22291667,\n",
       "       0.72794118, 0.21614583, 0.74264706, 0.21145833, 0.75857843,\n",
       "       0.209375  , 0.76593137, 0.22083333, 0.78553922, 0.22083333,\n",
       "       0.78921569, 0.22083333, 0.79289216, 0.22291667, 0.79289216,\n",
       "       0.22604167, 0.79289216, 0.28489583, 0.77328431, 0.28489583,\n",
       "       0.78186275, 0.28489583, 0.78553922, 0.28333333, 0.78186275,\n",
       "       0.28333333, 0.78553922, 0.28333333, 0.78186275, 0.2359375 ,\n",
       "       0.80514706, 0.28177083, 0.78186275, 0.28177083, 0.78553922,\n",
       "       0.28333333, 0.78186275, 0.28177083, 0.78553922, 0.2359375 ,\n",
       "       0.80514706, 0.21614583, 0.80514706, 0.21770833, 0.80514706,\n",
       "       0.21927083, 0.8002451 , 0.21927083, 0.80514706, 0.22083333,\n",
       "       0.80514706, 0.22447917, 0.8125    , 0.234375  , 0.82720588,\n",
       "       0.22760417, 0.83210784, 0.22447917, 0.83578431, 0.22447917,\n",
       "       0.83210784, 0.22291667, 0.83210784, 0.22083333, 0.81985294,\n",
       "       0.21614583, 0.80514706, 0.21927083, 0.8125    , 0.22083333,\n",
       "       0.8125    , 0.22291667, 0.81617647, 0.23229167, 0.82720588,\n",
       "       0.22291667, 0.81985294, 0.22083333, 0.81617647, 0.21927083,\n",
       "       0.8125    ])"
      ]
     },
     "execution_count": 25,
     "metadata": {},
     "output_type": "execute_result"
    }
   ],
   "source": [
    "np.frombuffer(FaceLandmarks.objects.get(face_id=3).landmarks, dtype=np.float64)"
   ]
  },
  {
   "cell_type": "code",
   "execution_count": 11,
   "metadata": {
    "ExecuteTime": {
     "end_time": "2019-01-07T00:43:50.974084Z",
     "start_time": "2019-01-07T00:43:50.615001Z"
    }
   },
   "outputs": [
    {
     "data": {
      "application/vnd.jupyter.widget-view+json": {
       "model_id": "cceeb548c1de4081b47b8e3d20fb5288",
       "version_major": 2,
       "version_minor": 0
      },
      "text/plain": [
       "VGridWidget(jsglobals={'bucket': 'esper', 'queries': [['All faces', 'def all_faces():\\n    from query.models i…"
      ]
     },
     "metadata": {},
     "output_type": "display_data"
    }
   ],
   "source": [
    "from esper.prelude import *\n",
    "from query.models import Face\n",
    "from esper.stdlib import face_landmarks_to_dict, simple_result\n",
    "import esper.face_landmarks_wrapper as flw\n",
    "from rekall.video_interval_collection import VideoIntervalCollection\n",
    "from rekall.parsers import in_array\n",
    "from rekall.merge_ops import payload_plus\n",
    "from esper.rekall import intrvllists_to_result_with_objects\n",
    "\n",
    "STRIDE = 1000\n",
    "LIMIT = 100\n",
    "\n",
    "# Face landmarks are keyed by Face ID's.\n",
    "faces_qs = Face.objects.annotate(\n",
    "    min_frame=F('frame__number'),\n",
    "    max_frame=F('frame__number'),\n",
    "    video_id=F('frame__video_id')).filter(video_id=24)\n",
    "\n",
    "# Use coalesce to get a list of frames we want\n",
    "# We store Video ID and frame number in the payload\n",
    "frames = VideoIntervalCollection.from_django_qs(\n",
    "    faces_qs[:LIMIT*STRIDE:STRIDE],\n",
    "    with_payload=lambda face_obj: (face_obj.video_id, face_obj.min_frame)\n",
    ").coalesce()\n",
    "\n",
    "# face_landmarks_wrapper.get takes in a Face queryset or list of Face\n",
    "#   objects and returns a list of LandmarksWrapper objects.\n",
    "landmarks = frames.map(lambda interval: (\n",
    "    interval.start, interval.end,\n",
    "    flw.get(faces_qs.filter(\n",
    "        video_id=interval.payload[0],\n",
    "        min_frame=interval.payload[1]).all())\n",
    "))\n",
    "\n",
    "# We use face_landmarks_to_dict to draw LandmarksWrapper objects.\n",
    "esper_widget(intrvllists_to_result_with_objects(\n",
    "    landmarks,\n",
    "    lambda landmarks_wrappers, video_id: [face_landmarks_to_dict(wrapper) for wrapper in landmarks_wrappers]\n",
    "), crop_bboxes=False)"
   ]
  }
 ],
 "metadata": {
  "kernelspec": {
   "display_name": "Django Shell-Plus",
   "language": "python",
   "name": "django_extensions"
  },
  "language_info": {
   "codemirror_mode": {
    "name": "ipython",
    "version": 3
   },
   "file_extension": ".py",
   "mimetype": "text/x-python",
   "name": "python",
   "nbconvert_exporter": "python",
   "pygments_lexer": "ipython3",
   "version": "3.5.2"
  },
  "toc": {
   "nav_menu": {},
   "number_sections": true,
   "sideBar": true,
   "skip_h1_title": false,
   "toc_cell": false,
   "toc_position": {},
   "toc_section_display": "block",
   "toc_window_display": false
  }
 },
 "nbformat": 4,
 "nbformat_minor": 2
}
