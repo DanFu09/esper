{
 "cells": [
  {
   "cell_type": "code",
   "execution_count": null,
   "metadata": {
    "ExecuteTime": {
     "end_time": "2019-03-01T18:09:52.893203Z",
     "start_time": "2019-03-01T18:09:52.853326Z"
    }
   },
   "outputs": [],
   "source": [
    "import rekall\n",
    "from rekall.video_interval_collection import VideoIntervalCollection\n",
    "from esper.rekall import intrvllists_to_result\n",
    "from esper.prelude import *"
   ]
  },
  {
   "cell_type": "markdown",
   "metadata": {},
   "source": [
    "# Frame Version"
   ]
  },
  {
   "cell_type": "code",
   "execution_count": null,
   "metadata": {
    "ExecuteTime": {
     "end_time": "2019-03-04T07:46:24.466202Z",
     "start_time": "2019-03-04T07:46:24.418215Z"
    }
   },
   "outputs": [],
   "source": [
    "def frame_result(video_ids_to_frame_nums, window = 0):\n",
    "    materialized_result = []\n",
    "    for video_id in video_ids_to_frame_nums:\n",
    "        frame_nums = video_ids_to_frame_nums[video_id]\n",
    "        for frame_num in frame_nums:\n",
    "            for f in range(frame_num - window, frame_num + window + 1):\n",
    "                materialized_result.append({\n",
    "                    'video': video_id,\n",
    "                    'min_frame': f,\n",
    "                    'objects': [{\n",
    "                        'id': 0,\n",
    "                        'type': 'bbox',\n",
    "                        'bbox_x1': 0.01,\n",
    "                        'bbox_x2': .99,\n",
    "                        'bbox_y1': 0.01,\n",
    "                        'bbox_y2': 1.01,\n",
    "                        'gender_id': 2\n",
    "                    }] if f == frame_num else []\n",
    "                })\n",
    "    return {'type': 'frames', 'count': 0, 'result': [{\n",
    "        'type': 'flat', 'label': '', 'elements': [mr]\n",
    "    } for mr in materialized_result]}"
   ]
  },
  {
   "cell_type": "code",
   "execution_count": null,
   "metadata": {
    "ExecuteTime": {
     "end_time": "2019-03-04T08:23:05.598585Z",
     "start_time": "2019-03-04T08:23:05.561670Z"
    }
   },
   "outputs": [],
   "source": [
    "missed_frames = []"
   ]
  },
  {
   "cell_type": "code",
   "execution_count": null,
   "metadata": {
    "ExecuteTime": {
     "end_time": "2019-03-04T08:23:06.282621Z",
     "start_time": "2019-03-04T08:23:06.245704Z"
    }
   },
   "outputs": [],
   "source": [
    "for i in range(5):\n",
    "    with open('/app/data/failure_cases/metal_frame_only/{}_fold.pkl'.format(i + 1), 'rb') as f:\n",
    "        missed_frames += pickle.load(f)"
   ]
  },
  {
   "cell_type": "code",
   "execution_count": null,
   "metadata": {
    "ExecuteTime": {
     "end_time": "2019-03-04T08:23:32.192424Z",
     "start_time": "2019-03-04T08:23:32.157930Z"
    }
   },
   "outputs": [],
   "source": [
    "collected_bad_frames = collect(missed_frames, lambda tup: tup[0][0])"
   ]
  },
  {
   "cell_type": "code",
   "execution_count": null,
   "metadata": {
    "ExecuteTime": {
     "end_time": "2019-03-04T08:25:54.283043Z",
     "start_time": "2019-03-04T08:25:53.115009Z"
    },
    "scrolled": false
   },
   "outputs": [],
   "source": [
    "# show missed boundaries\n",
    "esper_widget(frame_result({\n",
    "    video_id: [\n",
    "        tup[0][1]\n",
    "        for tup in collected_bad_frames[video_id] if tup[0][2] == 1\n",
    "    ]\n",
    "    for video_id in collected_bad_frames\n",
    "}, window=1),jupyter_keybindings=True, max_width=965, thumbnail_size=1.25, results_per_page=99,)"
   ]
  },
  {
   "cell_type": "code",
   "execution_count": null,
   "metadata": {
    "ExecuteTime": {
     "end_time": "2019-03-04T08:25:46.502446Z",
     "start_time": "2019-03-04T08:25:45.167271Z"
    },
    "scrolled": false
   },
   "outputs": [],
   "source": [
    "# show incorrectly guessed boundaries\n",
    "esper_widget(frame_result({\n",
    "    video_id: [\n",
    "        tup[0][1]\n",
    "        for tup in collected_bad_frames[video_id] if tup[0][2] == 2\n",
    "    ]\n",
    "    for video_id in collected_bad_frames\n",
    "}, window=1),jupyter_keybindings=True,max_width=965, thumbnail_size=1.25, results_per_page=99,)"
   ]
  },
  {
   "cell_type": "markdown",
   "metadata": {},
   "source": [
    "# Window Version\n",
    "\n",
    "STILL TDB"
   ]
  },
  {
   "cell_type": "code",
   "execution_count": null,
   "metadata": {
    "ExecuteTime": {
     "end_time": "2019-03-01T18:09:37.458535Z",
     "start_time": "2019-03-01T18:09:37.212195Z"
    }
   },
   "outputs": [],
   "source": [
    "bad_intervals = [(34, (9456, 9472, 1)),\n",
    " (34, (9464, 9480, 1)),\n",
    " (34, (9624, 9640, 2)),\n",
    " (34, (9632, 9648, 2)),\n",
    " (34, (9640, 9656, 2)),\n",
    " (34, (9672, 9688, 2)),\n",
    " (34, (9680, 9696, 2)),\n",
    " (34, (9928, 9944, 2)),\n",
    " (34, (9936, 9952, 2)),\n",
    " (34, (10016, 10032, 1)),\n",
    " (34, (10024, 10040, 1)),\n",
    " (34, (10504, 10520, 2)),\n",
    " (34, (10512, 10528, 2)),\n",
    " (148, (157824, 157840, 1)),\n",
    " (148, (157832, 157848, 1)),\n",
    " (148, (157888, 157904, 1)),\n",
    " (148, (157896, 157912, 1)),\n",
    " (148, (158336, 158352, 2)),\n",
    " (148, (158344, 158360, 2)),\n",
    " (172, (153088, 153104, 2)),\n",
    " (172, (153096, 153112, 2)),\n",
    " (172, (153120, 153136, 1)),\n",
    " (172, (153128, 153144, 1)),\n",
    " (172, (153288, 153304, 2)),\n",
    " (172, (153296, 153312, 2)),\n",
    " (172, (153304, 153320, 2)),\n",
    " (172, (153312, 153328, 2)),\n",
    " (172, (153352, 153368, 1)),\n",
    " (172, (153360, 153376, 1)),\n",
    " (172, (153400, 153416, 1)),\n",
    " (172, (153408, 153424, 1)),\n",
    " (172, (153512, 153528, 1)),\n",
    " (172, (153520, 153536, 1)),\n",
    " (172, (153576, 153592, 1)),\n",
    " (172, (153584, 153600, 1)),\n",
    " (172, (153720, 153736, 1)),\n",
    " (172, (153776, 153792, 1)),\n",
    " (172, (153784, 153800, 1)),\n",
    " (172, (154016, 154032, 1)),\n",
    " (172, (154032, 154048, 2)),\n",
    " (172, (154104, 154120, 1)),\n",
    " (172, (154112, 154128, 1)),\n",
    " (172, (154200, 154216, 2)),\n",
    " (172, (154208, 154224, 2)),\n",
    " (172, (154216, 154232, 2)),\n",
    " (172, (154232, 154248, 2)),\n",
    " (172, (154240, 154256, 2)),\n",
    " (172, (154296, 154312, 2)),\n",
    " (172, (154312, 154328, 2)),\n",
    " (172, (154320, 154336, 2)),\n",
    " (172, (154400, 154416, 1)),\n",
    " (172, (154408, 154424, 1)),\n",
    " (172, (154448, 154464, 2)),\n",
    " (172, (154456, 154472, 2)),\n",
    " (181, (44088, 44104, 2)),\n",
    " (181, (44096, 44112, 2)),\n",
    " (181, (44160, 44176, 2)),\n",
    " (181, (44168, 44184, 2)),\n",
    " (181, (44176, 44192, 2)),\n",
    " (181, (44184, 44200, 2)),\n",
    " (181, (44248, 44264, 1)),\n",
    " (181, (44256, 44272, 1)),\n",
    " (181, (44288, 44304, 1)),\n",
    " (181, (44296, 44312, 1)),\n",
    " (181, (44920, 44936, 2)),\n",
    " (181, (44928, 44944, 2)),\n",
    " (201, (117744, 117760, 2)),\n",
    " (201, (117752, 117768, 2)),\n",
    " (201, (118288, 118304, 2)),\n",
    " (201, (118296, 118312, 2)),\n",
    " (248, (59672, 59688, 2)),\n",
    " (248, (59680, 59696, 2)),\n",
    " (308, (67424, 67440, 2)),\n",
    " (308, (67656, 67672, 2)),\n",
    " (308, (67664, 67680, 2)),\n",
    " (557, (35832, 35848, 2)),\n",
    " (557, (35840, 35856, 2)),\n",
    " (557, (35848, 35864, 2)),\n",
    " (557, (36272, 36288, 2)),\n",
    " (577, (84000, 84016, 2)),\n",
    " (577, (84008, 84024, 2)),\n",
    " (585, (39712, 39728, 2)),\n",
    " (585, (40904, 40920, 2)),\n",
    " (585, (40912, 40928, 2))]"
   ]
  },
  {
   "cell_type": "code",
   "execution_count": null,
   "metadata": {
    "ExecuteTime": {
     "end_time": "2019-03-01T18:15:46.076043Z",
     "start_time": "2019-03-01T18:15:46.029458Z"
    }
   },
   "outputs": [],
   "source": [
    "bad_intervals_collected = collect(bad_intervals, kfn=lambda vid_intrvl: vid_intrvl[0])\n",
    "missed_intervals = VideoIntervalCollection({\n",
    "    video_id: [\n",
    "        vid_intrvl[1]\n",
    "        for vid_intrvl in bad_intervals_collected[video_id] if vid_intrvl[1][2] == 1\n",
    "    ]\n",
    "    for video_id in bad_intervals_collected\n",
    "})\n",
    "incorrect_intervals = VideoIntervalCollection({\n",
    "    video_id: [\n",
    "        vid_intrvl[1]\n",
    "        for vid_intrvl in bad_intervals_collected[video_id] if vid_intrvl[1][2] == 2\n",
    "    ]\n",
    "    for video_id in bad_intervals_collected\n",
    "})"
   ]
  },
  {
   "cell_type": "code",
   "execution_count": null,
   "metadata": {
    "ExecuteTime": {
     "end_time": "2019-03-01T18:15:48.012393Z",
     "start_time": "2019-03-01T18:15:46.883293Z"
    }
   },
   "outputs": [],
   "source": [
    "esper_widget(intrvllists_to_result(missed_intervals), jupyter_keybindings=True)"
   ]
  },
  {
   "cell_type": "code",
   "execution_count": null,
   "metadata": {
    "ExecuteTime": {
     "end_time": "2019-03-01T18:15:55.478867Z",
     "start_time": "2019-03-01T18:15:54.430241Z"
    }
   },
   "outputs": [],
   "source": [
    "esper_widget(intrvllists_to_result(incorrect_intervals), jupyter_keybindings=True)"
   ]
  }
 ],
 "metadata": {
  "kernelspec": {
   "display_name": "Django Shell-Plus",
   "language": "python",
   "name": "django_extensions"
  },
  "language_info": {
   "codemirror_mode": {
    "name": "ipython",
    "version": 3
   },
   "file_extension": ".py",
   "mimetype": "text/x-python",
   "name": "python",
   "nbconvert_exporter": "python",
   "pygments_lexer": "ipython3",
   "version": "3.5.2"
  },
  "toc": {
   "nav_menu": {},
   "number_sections": true,
   "sideBar": true,
   "skip_h1_title": false,
   "toc_cell": false,
   "toc_position": {},
   "toc_section_display": "block",
   "toc_window_display": false
  }
 },
 "nbformat": 4,
 "nbformat_minor": 2
}
