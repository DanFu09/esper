{
 "cells": [
  {
   "cell_type": "code",
   "execution_count": null,
   "metadata": {
    "ExecuteTime": {
     "end_time": "2019-02-26T22:24:51.856559Z",
     "start_time": "2019-02-26T22:24:50.667348Z"
    }
   },
   "outputs": [],
   "source": [
    "import random\n",
    "from esper.prelude import *\n",
    "from rekall.video_interval_collection import VideoIntervalCollection\n",
    "from rekall.temporal_predicates import *\n",
    "from esper.rekall import *\n",
    "import matplotlib.pyplot as plt\n",
    "import cv2\n",
    "import pickle\n",
    "\n",
    "import torch\n",
    "from torch import nn\n",
    "from torch.utils.data import Dataset, DataLoader\n",
    "from torch import optim\n",
    "from torch.optim import lr_scheduler\n",
    "\n",
    "from collections import OrderedDict\n",
    "import scannertools as st\n",
    "\n",
    "import esper.shot_detection_torch.models.deepsbd_resnet as deepsbd_resnet\n",
    "import esper.shot_detection_torch.models.deepsbd_alexnet as deepsbd_alexnet\n",
    "import esper.shot_detection_torch.dataloaders.movies_deepsbd as movies_deepsbd_data"
   ]
  },
  {
   "cell_type": "code",
   "execution_count": null,
   "metadata": {
    "ExecuteTime": {
     "end_time": "2019-02-26T22:24:52.812159Z",
     "start_time": "2019-02-26T22:24:52.769950Z"
    }
   },
   "outputs": [],
   "source": [
    "st.init_storage(os.environ['BUCKET'])"
   ]
  },
  {
   "cell_type": "code",
   "execution_count": null,
   "metadata": {
    "ExecuteTime": {
     "end_time": "2019-02-26T22:24:53.706752Z",
     "start_time": "2019-02-26T22:24:53.633351Z"
    }
   },
   "outputs": [],
   "source": [
    "device = torch.device(\"cuda:0\" if torch.cuda.is_available() else \"cpu\")"
   ]
  },
  {
   "cell_type": "markdown",
   "metadata": {},
   "source": [
    "# Construct five folds"
   ]
  },
  {
   "cell_type": "code",
   "execution_count": null,
   "metadata": {
    "ExecuteTime": {
     "end_time": "2019-02-26T19:47:42.831689Z",
     "start_time": "2019-02-26T19:47:42.790188Z"
    }
   },
   "outputs": [],
   "source": [
    "# Load up all manually annotated shots\n",
    "shots_qs = Shot.objects.filter(labeler__name__contains='manual')"
   ]
  },
  {
   "cell_type": "code",
   "execution_count": null,
   "metadata": {
    "ExecuteTime": {
     "end_time": "2019-02-26T00:04:42.739046Z",
     "start_time": "2019-02-26T00:04:42.697139Z"
    }
   },
   "outputs": [],
   "source": [
    "shots = VideoIntervalCollection.from_django_qs(shots_qs)"
   ]
  },
  {
   "cell_type": "code",
   "execution_count": null,
   "metadata": {
    "ExecuteTime": {
     "end_time": "2019-02-26T00:06:07.068253Z",
     "start_time": "2019-02-26T00:06:07.030608Z"
    }
   },
   "outputs": [],
   "source": [
    "video_ids = sorted(list(shots.get_allintervals().keys()))"
   ]
  },
  {
   "cell_type": "code",
   "execution_count": null,
   "metadata": {
    "ExecuteTime": {
     "end_time": "2019-02-26T00:05:41.237200Z",
     "start_time": "2019-02-26T00:05:41.200287Z"
    }
   },
   "outputs": [],
   "source": [
    "random.seed(0)"
   ]
  },
  {
   "cell_type": "code",
   "execution_count": null,
   "metadata": {
    "ExecuteTime": {
     "end_time": "2019-02-26T00:06:24.027016Z",
     "start_time": "2019-02-26T00:06:23.990700Z"
    }
   },
   "outputs": [],
   "source": [
    "# randomly shuffle video IDs\n",
    "random.shuffle(video_ids)"
   ]
  },
  {
   "cell_type": "code",
   "execution_count": null,
   "metadata": {
    "ExecuteTime": {
     "end_time": "2019-02-26T00:14:05.892314Z",
     "start_time": "2019-02-26T00:14:05.849502Z"
    }
   },
   "outputs": [],
   "source": [
    "# construct five folds\n",
    "total_shots = shots_qs.count()\n",
    "folds = []\n",
    "num_shots_in_folds = 0\n",
    "cur_fold = []\n",
    "for video_id in video_ids:\n",
    "    if num_shots_in_folds + shots.get_intervallist(video_id).size() > (len(folds) + 1) * total_shots / 5:\n",
    "        folds.append(cur_fold)\n",
    "        cur_fold = []\n",
    "    num_shots_in_folds += shots.get_intervallist(video_id).size()\n",
    "    cur_fold.append(video_id)\n",
    "folds.append(cur_fold)"
   ]
  },
  {
   "cell_type": "code",
   "execution_count": null,
   "metadata": {
    "ExecuteTime": {
     "end_time": "2019-02-26T00:16:31.786762Z",
     "start_time": "2019-02-26T00:16:31.750347Z"
    }
   },
   "outputs": [],
   "source": [
    "# store folds\n",
    "with open('/app/data/shot_detection_folds.pkl', 'wb') as f:\n",
    "    pickle.dump(folds, f)"
   ]
  },
  {
   "cell_type": "code",
   "execution_count": null,
   "metadata": {
    "ExecuteTime": {
     "end_time": "2019-02-26T22:24:58.202635Z",
     "start_time": "2019-02-26T22:24:58.162291Z"
    }
   },
   "outputs": [],
   "source": [
    "# or load folds from disk\n",
    "with open('/app/data/shot_detection_folds.pkl', 'rb') as f:\n",
    "    folds = pickle.load(f)"
   ]
  },
  {
   "cell_type": "markdown",
   "metadata": {},
   "source": [
    "# DeepSBD Evaluation"
   ]
  },
  {
   "cell_type": "code",
   "execution_count": null,
   "metadata": {
    "ExecuteTime": {
     "end_time": "2019-02-26T22:25:02.403648Z",
     "start_time": "2019-02-26T22:25:02.298094Z"
    }
   },
   "outputs": [],
   "source": [
    "# helper functions for deepsbd testing\n",
    "def calculate_accuracy(outputs, targets):\n",
    "    batch_size = targets.size(0)\n",
    "\n",
    "    _, pred = outputs.topk(1, 1, True)\n",
    "    pred = pred.t()\n",
    "    correct = pred.eq(targets.view(1, -1))\n",
    "    n_correct_elems = correct.float().sum().item()\n",
    "\n",
    "    return n_correct_elems / batch_size\n",
    "\n",
    "def prf1_array(pos_label, neg_label, gt, preds):\n",
    "    tp = 0.\n",
    "    fp = 0.\n",
    "    tn = 0.\n",
    "    fn = 0.\n",
    "    \n",
    "    for truth, pred in zip(gt, preds):\n",
    "        if truth == pred:\n",
    "            if pred == pos_label:\n",
    "                tp += 1.\n",
    "            else:\n",
    "                tn += 1.\n",
    "        else:\n",
    "            if pred == pos_label:\n",
    "                fp += 1.\n",
    "            else:\n",
    "                fn += 1.\n",
    "    \n",
    "    precision = tp / (tp + fp) if tp + fp != 0 else 0\n",
    "    recall = tp / (tp + fn) if tp + fn != 0 else 0\n",
    "    f1 = 2 * precision * recall / (precision + recall) if precision + recall != 0 else 0\n",
    "    \n",
    "    return (precision, recall, f1, tp, tn, fp, fn)\n",
    "\n",
    "def get_label(res_tensor):\n",
    "    res_numpy=res_tensor.data.cpu().numpy()\n",
    "    labels=[]\n",
    "    for row in res_numpy:\n",
    "        labels.append(np.argmax(row))\n",
    "    return labels\n",
    "\n",
    "def test_deepsbd(model, dataloader):\n",
    "    preds = []\n",
    "    labels = []\n",
    "    outputs = []\n",
    "    for clip_tensor, l, _ in tqdm(dataloader):\n",
    "        o = model(clip_tensor.to(device))\n",
    "\n",
    "        preds += get_label(o)\n",
    "        labels += l.data.numpy().tolist()\n",
    "        outputs += o.cpu().data.numpy().tolist()\n",
    "    \n",
    "    preds = [2 if p == 2 else 0 for p in preds]\n",
    "        \n",
    "    precision, recall, f1, tp, tn, fp, fn = prf1_array(2, 0, labels, preds)\n",
    "    print(\"Precision: {}, Recall: {}, F1: {}\".format(precision, recall, f1))\n",
    "    print(\"TP: {}, TN: {}, FP: {}, FN: {}\".format(tp, tn, fp, fn))\n",
    "    \n",
    "    return preds, labels, outputs"
   ]
  },
  {
   "cell_type": "code",
   "execution_count": null,
   "metadata": {
    "ExecuteTime": {
     "end_time": "2019-02-26T22:27:30.424178Z",
     "start_time": "2019-02-26T22:25:03.254441Z"
    },
    "scrolled": true
   },
   "outputs": [],
   "source": [
    "# Load DeepSBD datasets for each fold\n",
    "deepsbd_datasets = []\n",
    "for fold in folds:\n",
    "    shots_in_fold_qs = Shot.objects.filter(\n",
    "        labeler__name__contains='manual',\n",
    "        video_id__in = fold\n",
    "    )\n",
    "    shots_in_fold = VideoIntervalCollection.from_django_qs(shots_in_fold_qs)\n",
    "    \n",
    "    data = movies_deepsbd_data.DeepSBDDataset(shots_in_fold, verbose=True)\n",
    "    deepsbd_datasets.append(data)"
   ]
  },
  {
   "cell_type": "code",
   "execution_count": null,
   "metadata": {
    "ExecuteTime": {
     "end_time": "2019-02-26T22:06:10.080435Z",
     "start_time": "2019-02-26T22:06:10.003026Z"
    }
   },
   "outputs": [],
   "source": [
    "# dataset to hold multiple folds\n",
    "class DeepSBDTrainDataset(Dataset):\n",
    "    def __init__(self, datasets):\n",
    "        self.datasets = datasets\n",
    "    \n",
    "    def __len__(self):\n",
    "        return sum(len(d) for d in self.datasets)\n",
    "    \n",
    "    def __getitem__(self, idx):\n",
    "        for d in self.datasets:\n",
    "            if idx < len(d):\n",
    "                return d[idx]\n",
    "            else:\n",
    "                idx -= len(d)\n",
    "        \n",
    "        return None\n",
    "    \n",
    "    def weights_for_balanced_classes(self):\n",
    "        labels = [\n",
    "            item[3]\n",
    "            for d in self.datasets\n",
    "            for item in d.items\n",
    "        ]\n",
    "        \n",
    "        class_counts = {}\n",
    "        for l in labels:\n",
    "            if l not in class_counts:\n",
    "                class_counts[l] = 1\n",
    "            else:\n",
    "                class_counts[l] += 1\n",
    "        \n",
    "        weights_per_class = {\n",
    "            l: len(labels) / class_counts[l]\n",
    "            for l in class_counts\n",
    "        }\n",
    "        \n",
    "        return [\n",
    "            weights_per_class[l]\n",
    "            for l in labels\n",
    "        ]"
   ]
  },
  {
   "cell_type": "code",
   "execution_count": null,
   "metadata": {
    "ExecuteTime": {
     "end_time": "2019-02-26T07:28:30.247910Z",
     "start_time": "2019-02-26T07:28:27.742298Z"
    }
   },
   "outputs": [],
   "source": [
    "# models\n",
    "deepsbd_alexnet_model = deepsbd_alexnet.deepSBD()\n",
    "deepsbd_resnet_model = deepsbd_resnet.resnet18(num_classes=3,\n",
    "    sample_size=128,\n",
    "    sample_duration=16)"
   ]
  },
  {
   "cell_type": "code",
   "execution_count": null,
   "metadata": {
    "ExecuteTime": {
     "end_time": "2019-02-26T07:28:34.030612Z",
     "start_time": "2019-02-26T07:28:30.250563Z"
    }
   },
   "outputs": [],
   "source": [
    "# alexnet deepSBD pre-trained on ClipShots\n",
    "alexnet_state_dict = torch.load('models/ClipShots-DeepSBD-Alexnet-final.pth')['state_dict']\n",
    "new_state_dict = OrderedDict()\n",
    "for k, v in alexnet_state_dict.items():\n",
    "    name = k[7:]\n",
    "    new_state_dict[name] = v\n",
    "deepsbd_alexnet_model.load_state_dict(new_state_dict)\n",
    "# deepsbd_alexnet_model = deepsbd_alexnet_model.to(device)\n",
    "# deepsbd_alexnet_model = deepsbd_alexnet_model.eval()"
   ]
  },
  {
   "cell_type": "code",
   "execution_count": null,
   "metadata": {
    "ExecuteTime": {
     "end_time": "2019-02-26T07:00:03.935296Z",
     "start_time": "2019-02-26T07:00:03.743364Z"
    }
   },
   "outputs": [],
   "source": [
    "# resnet deepSBD pre-trained on ClipShots\n",
    "resnet_state_dict = torch.load('models/ClipShots-DeepSBD-Resnet-18-final.pth')['state_dict']\n",
    "new_state_dict = OrderedDict()\n",
    "for k, v in resnet_state_dict.items():\n",
    "    name = k[7:]\n",
    "    new_state_dict[name] = v\n",
    "deepsbd_resnet_model.load_state_dict(new_state_dict)\n",
    "# deepsbd_resnet_model = deepsbd_resnet_model.to(device)\n",
    "# deepsbd_resnet_model = deepsbd_resnet_model.eval()"
   ]
  },
  {
   "cell_type": "code",
   "execution_count": null,
   "metadata": {
    "ExecuteTime": {
     "end_time": "2019-02-26T22:20:59.560250Z",
     "start_time": "2019-02-26T22:20:58.606206Z"
    }
   },
   "outputs": [],
   "source": [
    "# resnet deepSBD pre-trained on Kinetics\n",
    "deepsbd_resnet_model_no_clipshots = deepsbd_resnet.resnet18(\n",
    "    num_classes=3,\n",
    "    sample_size=64,\n",
    "    sample_duration=16\n",
    ")\n",
    "deepsbd_resnet_model_no_clipshots.load_weights('models/resnet-18-kinetics.pth')"
   ]
  },
  {
   "cell_type": "code",
   "execution_count": null,
   "metadata": {
    "ExecuteTime": {
     "end_time": "2019-02-26T19:01:29.065038Z",
     "start_time": "2019-02-26T19:01:27.125839Z"
    }
   },
   "outputs": [],
   "source": [
    "# alexnet deepSBD\n",
    "deepsbd_alexnet_model_no_clipshots = deepsbd_alexnet.deepSBD()"
   ]
  },
  {
   "cell_type": "code",
   "execution_count": null,
   "metadata": {
    "ExecuteTime": {
     "end_time": "2019-02-26T22:21:03.471789Z",
     "start_time": "2019-02-26T22:21:03.390635Z"
    }
   },
   "outputs": [],
   "source": [
    "deepsbd_resnet_model_no_clipshots = deepsbd_resnet_model_no_clipshots.to(device).train()"
   ]
  },
  {
   "cell_type": "code",
   "execution_count": null,
   "metadata": {
    "ExecuteTime": {
     "end_time": "2019-02-26T22:21:09.253501Z",
     "start_time": "2019-02-26T22:21:09.212818Z"
    }
   },
   "outputs": [],
   "source": [
    "training_dataset_fold1 = DeepSBDTrainDataset(deepsbd_datasets[:-1])"
   ]
  },
  {
   "cell_type": "code",
   "execution_count": null,
   "metadata": {
    "ExecuteTime": {
     "end_time": "2019-02-26T22:21:10.231063Z",
     "start_time": "2019-02-26T22:21:10.184617Z"
    }
   },
   "outputs": [],
   "source": [
    "fold1_weights = torch.DoubleTensor(training_dataset_fold1.weights_for_balanced_classes())"
   ]
  },
  {
   "cell_type": "code",
   "execution_count": null,
   "metadata": {
    "ExecuteTime": {
     "end_time": "2019-02-26T22:21:10.911922Z",
     "start_time": "2019-02-26T22:21:10.868685Z"
    }
   },
   "outputs": [],
   "source": [
    "fold1_sampler = torch.utils.data.sampler.WeightedRandomSampler(fold1_weights, len(fold1_weights))"
   ]
  },
  {
   "cell_type": "code",
   "execution_count": null,
   "metadata": {
    "ExecuteTime": {
     "end_time": "2019-02-26T22:21:12.250051Z",
     "start_time": "2019-02-26T22:21:12.203673Z"
    }
   },
   "outputs": [],
   "source": [
    "training_dataloader_fold1 = DataLoader(\n",
    "    training_dataset_fold1,\n",
    "    num_workers=0,\n",
    "    shuffle=False,\n",
    "    batch_size=64,\n",
    "    sampler=fold1_sampler\n",
    ")"
   ]
  },
  {
   "cell_type": "code",
   "execution_count": null,
   "metadata": {
    "ExecuteTime": {
     "end_time": "2019-02-26T22:21:12.883417Z",
     "start_time": "2019-02-26T22:21:12.843866Z"
    }
   },
   "outputs": [],
   "source": [
    "criterion = nn.CrossEntropyLoss()"
   ]
  },
  {
   "cell_type": "code",
   "execution_count": null,
   "metadata": {
    "ExecuteTime": {
     "end_time": "2019-02-26T22:21:13.526933Z",
     "start_time": "2019-02-26T22:21:13.484758Z"
    }
   },
   "outputs": [],
   "source": [
    "optimizer = optim.SGD(deepsbd_resnet_model_no_clipshots.parameters(), \n",
    "                      lr=.001, momentum=.9, weight_decay=1e-3)"
   ]
  },
  {
   "cell_type": "code",
   "execution_count": null,
   "metadata": {
    "ExecuteTime": {
     "end_time": "2019-02-26T22:21:14.093999Z",
     "start_time": "2019-02-26T22:21:14.052370Z"
    }
   },
   "outputs": [],
   "source": [
    "scheduler = lr_scheduler.ReduceLROnPlateau(optimizer, 'min',patience=60000)"
   ]
  },
  {
   "cell_type": "code",
   "execution_count": null,
   "metadata": {
    "ExecuteTime": {
     "end_time": "2019-02-26T22:21:15.676411Z",
     "start_time": "2019-02-26T22:21:15.605304Z"
    }
   },
   "outputs": [],
   "source": [
    "def train_epoch(epoch, training_dataloader, model, criterion, optimizer, scheduler):\n",
    "    iter_len = len(training_dataloader)\n",
    "    training_iter = iter(training_dataloader)\n",
    "    \n",
    "    for i in range(iter_len):\n",
    "        clip_tensor, targets, _ = next(training_iter)\n",
    "        \n",
    "        outputs = model(clip_tensor.to(device))\n",
    "        targets = targets.to(device)\n",
    "        \n",
    "        loss = criterion(outputs, targets)\n",
    "        acc = calculate_accuracy(outputs, targets)\n",
    "        preds = get_label(outputs)\n",
    "        preds = [2 if p == 2 else 0 for p in preds]\n",
    "        precision, recall, f1, tp, tn, fp, fn = prf1_array(\n",
    "            2, 0, targets.cpu().data.numpy().tolist(), preds)\n",
    "        \n",
    "        optimizer.zero_grad()\n",
    "        loss.backward()\n",
    "        optimizer.step()\n",
    "        \n",
    "        print('Epoch: [{0}][{1}/{2}]\\t'\n",
    "              'Loss_conf {loss_c:.4f}\\t'\n",
    "              'acc {acc:.4f}\\t'\n",
    "              'pre {pre:.4f}\\t'\n",
    "              'rec {rec:.4f}\\t'\n",
    "              'f1 {f1: .4f}\\t'\n",
    "              'TP {tp} '\n",
    "              'TN {tn} '\n",
    "              'FP {fp} '\n",
    "              'FN {fn} '\n",
    "              .format(\n",
    "                  epoch, i + 1, iter_len, loss_c=loss.item(), acc=acc,\n",
    "                  pre=precision, rec=recall, f1=f1,\n",
    "                  tp=tp, tn=tn, fp=fp, fn=fn))\n",
    "    \n",
    "    save_file_path = os.path.join(\n",
    "        '/app/notebooks/learning/models/deepsbd_resnet_train_on_folds',\n",
    "        'fold5_{}_epoch.pth'.format(epoch)\n",
    "    )\n",
    "    states = {\n",
    "        'epoch': epoch + 1,\n",
    "        'state_dict': model.state_dict(),\n",
    "        'optimizer': optimizer.state_dict()\n",
    "    }\n",
    "    torch.save(states, save_file_path)"
   ]
  },
  {
   "cell_type": "code",
   "execution_count": null,
   "metadata": {
    "ExecuteTime": {
     "end_time": "2019-02-26T21:38:57.743454Z",
     "start_time": "2019-02-26T21:38:57.511664Z"
    }
   },
   "outputs": [],
   "source": [
    "state = torch.load('models/deepsbd_resnet_train_on_folds/fold1_2_epoch.pth')"
   ]
  },
  {
   "cell_type": "code",
   "execution_count": null,
   "metadata": {
    "ExecuteTime": {
     "end_time": "2019-02-26T20:49:37.295425Z",
     "start_time": "2019-02-26T20:49:37.248168Z"
    }
   },
   "outputs": [],
   "source": [
    "deepsbd_resnet_model_no_clipshots.load_state_dict(state['state_dict'])"
   ]
  },
  {
   "cell_type": "code",
   "execution_count": null,
   "metadata": {
    "ExecuteTime": {
     "end_time": "2019-02-26T22:21:20.438707Z",
     "start_time": "2019-02-26T22:21:20.102105Z"
    },
    "scrolled": true
   },
   "outputs": [],
   "source": [
    "for i in range(5):\n",
    "    train_epoch(i, training_dataloader_fold1, deepsbd_resnet_model_no_clipshots, criterion, optimizer, scheduler)"
   ]
  },
  {
   "cell_type": "code",
   "execution_count": null,
   "metadata": {},
   "outputs": [],
   "source": [
    "# specialize pre-trained model"
   ]
  },
  {
   "cell_type": "code",
   "execution_count": null,
   "metadata": {
    "ExecuteTime": {
     "end_time": "2019-02-26T07:24:40.788720Z",
     "start_time": "2019-02-26T07:08:56.941217Z"
    }
   },
   "outputs": [],
   "source": [
    "# test models on splits\n",
    "model = deepsbd_resnet_model.to(device).eval()\n",
    "per_fold_preds_labels_outputs = []\n",
    "for fold_dataset in deepsbd_datasets:\n",
    "    dataloader = DataLoader(fold_dataset, batch_size=8, shuffle=False, num_workers=0)\n",
    "    preds, labels, outputs = test_deepsbd(model, dataloader)\n",
    "    \n",
    "    per_fold_preds_labels_outputs.append((preds, labels, outputs))"
   ]
  },
  {
   "cell_type": "code",
   "execution_count": null,
   "metadata": {
    "ExecuteTime": {
     "end_time": "2019-02-26T08:00:44.594063Z",
     "start_time": "2019-02-26T08:00:04.950514Z"
    }
   },
   "outputs": [],
   "source": [
    "# test models on splits\n",
    "model = deepsbd_alexnet_model.to(device).eval()\n",
    "per_fold_preds_labels_outputs_alexnet = []\n",
    "for fold_dataset in deepsbd_datasets:\n",
    "    dataloader = DataLoader(fold_dataset, batch_size=8, shuffle=False, num_workers=0)\n",
    "    preds, labels, outputs = test_deepsbd(model, dataloader)\n",
    "    \n",
    "    per_fold_preds_labels_outputs.append((preds, labels, outputs))"
   ]
  },
  {
   "cell_type": "code",
   "execution_count": null,
   "metadata": {
    "ExecuteTime": {
     "end_time": "2019-02-26T21:47:39.081089Z",
     "start_time": "2019-02-26T21:47:29.450806Z"
    }
   },
   "outputs": [],
   "source": [
    "model = deepsbd_resnet_model_no_clipshots.eval()\n",
    "per_fold_preds_labels_outputs_fold_training_only = []\n",
    "for fold_dataset in deepsbd_datasets[3:4]:\n",
    "    dataloader = DataLoader(fold_dataset, batch_size=8, shuffle=False, num_workers=0)\n",
    "    preds, labels, outputs = test_deepsbd(model, dataloader)\n",
    "    \n",
    "    per_fold_preds_labels_outputs_fold_training_only.append((preds, labels, outputs))"
   ]
  },
  {
   "cell_type": "code",
   "execution_count": null,
   "metadata": {
    "ExecuteTime": {
     "end_time": "2019-02-26T20:22:54.258954Z",
     "start_time": "2019-02-26T20:22:40.479084Z"
    }
   },
   "outputs": [],
   "source": [
    "model.load_weights('models/resnet-18-kinetics.pth')\n",
    "per_fold_preds_labels_outputs_fold_training_only = []\n",
    "for fold_dataset in deepsbd_datasets[:1]:\n",
    "    dataloader = DataLoader(fold_dataset, batch_size=8, shuffle=False, num_workers=0)\n",
    "    preds, labels, outputs = test_deepsbd(model, dataloader)\n",
    "    \n",
    "    per_fold_preds_labels_outputs_fold_training_only.append((preds, labels, outputs))"
   ]
  },
  {
   "cell_type": "markdown",
   "metadata": {},
   "source": [
    "DeepSBD, ResNet18 backbone trained on ClipShots:\n",
    "* Fold 1\n",
    "  * Precision: 0.8636363636363636, Recall: 0.9620253164556962, F1: 0.9101796407185629\n",
    "  * TP: 228.0, TN: 1322.0, FP: 36.0, FN: 9.0\n",
    "* Fold 2\n",
    "  * Precision: 0.8934010152284264, Recall: 0.9617486338797814, F1: 0.9263157894736842\n",
    "  * TP: 176.0, TN: 314.0, FP: 21.0, FN: 7.0\n",
    "* Fold 3\n",
    "  * Precision: 0.7666666666666667, Recall: 0.8263473053892215, F1: 0.7953890489913544\n",
    "  * TP: 276.0, TN: 2246.0, FP: 84.0, FN: 58.0\n",
    "* Fold 4\n",
    "  * Precision: 0.8960396039603961, Recall: 1.0, F1: 0.9451697127937337\n",
    "  * TP: 181.0, TN: 901.0, FP: 21.0, FN: 0.0\n",
    "* Fold 5\n",
    "  * Precision: 0.8571428571428571, Recall: 0.9831932773109243, F1: 0.9158512720156555\n",
    "  * TP: 234.0, TN: 1141.0, FP: 39.0, FN: 4.0\n",
    "\n",
    "DeepSBD, AlexNet backbone trained on ClipShots:\n",
    "* Fold 1\n",
    "  * Precision: 0.8507462686567164, Recall: 0.9620253164556962, F1: 0.902970297029703\n",
    "  * TP: 228.0, TN: 1318.0, FP: 40.0, FN: 9.0\n",
    "* Fold 2\n",
    "  * Precision: 0.912568306010929, Recall: 0.912568306010929, F1: 0.912568306010929\n",
    "  * TP: 167.0, TN: 319.0, FP: 16.0, FN: 16.0\n",
    "* Fold 3\n",
    "  * Precision: 0.7818696883852692, Recall: 0.8263473053892215, F1: 0.8034934497816594\n",
    "  * TP: 276.0, TN: 2253.0, FP: 77.0, FN: 58.0\n",
    "* Fold 4\n",
    "  * Precision: 0.9782608695652174, Recall: 0.994475138121547, F1: 0.9863013698630136\n",
    "  * TP: 180.0, TN: 918.0, FP: 4.0, FN: 1.0\n",
    "* Fold 5\n",
    "  * Precision: 0.8669201520912547, Recall: 0.957983193277311, F1: 0.9101796407185628\n",
    "  * TP: 228.0, TN: 1145.0, FP: 35.0, FN: 10.0\n",
    "  \n",
    "DeepSBD, ResNet18 backbone trained on folds only:\n",
    "* Fold 1\n",
    "  * Precision: 0.7737226277372263, Recall: 0.8945147679324894, F1: 0.8297455968688846\n",
    "  * TP: 212.0, TN: 1296.0, FP: 62.0, FN: 25.0\n",
    "* Fold 2\n",
    "  * Precision: 0.8165680473372781, Recall: 0.7540983606557377, F1: 0.7840909090909091\n",
    "  * TP: 138.0, TN: 304.0, FP: 31.0, FN: 45.0\n",
    "* Fold 3\n",
    "  * Precision: 0.7407407407407407, Recall: 0.718562874251497, F1: 0.7294832826747719\n",
    "  * TP: 240.0, TN: 2246.0, FP: 84.0, FN: 94.0\n",
    "* Fold 4\n",
    "  * Precision: 0.7990196078431373, Recall: 0.9005524861878453, F1: 0.8467532467532468\n",
    "  * TP: 163.0, TN: 881.0, FP: 41.0, FN: 18.0"
   ]
  },
  {
   "cell_type": "markdown",
   "metadata": {},
   "source": [
    "# DSM Evaluation"
   ]
  },
  {
   "cell_type": "code",
   "execution_count": null,
   "metadata": {},
   "outputs": [],
   "source": [
    "# adaptive filtering"
   ]
  },
  {
   "cell_type": "code",
   "execution_count": null,
   "metadata": {},
   "outputs": [],
   "source": [
    "# dataloaders"
   ]
  },
  {
   "cell_type": "code",
   "execution_count": null,
   "metadata": {},
   "outputs": [],
   "source": [
    "# model"
   ]
  },
  {
   "cell_type": "code",
   "execution_count": null,
   "metadata": {},
   "outputs": [],
   "source": [
    "# load pre-loaded model"
   ]
  },
  {
   "cell_type": "code",
   "execution_count": null,
   "metadata": {},
   "outputs": [],
   "source": [
    "# train from scratch"
   ]
  },
  {
   "cell_type": "code",
   "execution_count": null,
   "metadata": {},
   "outputs": [],
   "source": [
    "# specialize pre-trained model"
   ]
  }
 ],
 "metadata": {
  "kernelspec": {
   "display_name": "Django Shell-Plus",
   "language": "python",
   "name": "django_extensions"
  },
  "language_info": {
   "codemirror_mode": {
    "name": "ipython",
    "version": 3
   },
   "file_extension": ".py",
   "mimetype": "text/x-python",
   "name": "python",
   "nbconvert_exporter": "python",
   "pygments_lexer": "ipython3",
   "version": "3.5.2"
  },
  "toc": {
   "nav_menu": {},
   "number_sections": true,
   "sideBar": true,
   "skip_h1_title": false,
   "toc_cell": false,
   "toc_position": {},
   "toc_section_display": "block",
   "toc_window_display": false
  }
 },
 "nbformat": 4,
 "nbformat_minor": 2
}
