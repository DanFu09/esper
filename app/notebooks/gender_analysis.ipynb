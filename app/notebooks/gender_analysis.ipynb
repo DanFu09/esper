{
 "cells": [
  {
   "cell_type": "markdown",
   "metadata": {
    "toc": true
   },
   "source": [
    "<h1>Table of Contents<span class=\"tocSkip\"></span></h1>\n",
    "<div class=\"toc\" style=\"margin-top: 1em;\"><ul class=\"toc-item\"><li><span><a href=\"#Gender-Analysis\" data-toc-modified-id=\"Gender-Analysis-1\"><span class=\"toc-item-num\">1&nbsp;&nbsp;</span>Gender Analysis</a></span><ul class=\"toc-item\"><li><span><a href=\"#Computing-Gender-Screen-Time\" data-toc-modified-id=\"Computing-Gender-Screen-Time-1.1\"><span class=\"toc-item-num\">1.1&nbsp;&nbsp;</span>Computing Gender Screen Time</a></span></li><li><span><a href=\"#Gender-Screen-Time-in-Our-Dataset\" data-toc-modified-id=\"Gender-Screen-Time-in-Our-Dataset-1.2\"><span class=\"toc-item-num\">1.2&nbsp;&nbsp;</span>Gender Screen Time in Our Dataset</a></span></li><li><span><a href=\"#Changes-in-gender-representation-over-time\" data-toc-modified-id=\"Changes-in-gender-representation-over-time-1.3\"><span class=\"toc-item-num\">1.3&nbsp;&nbsp;</span>Changes in gender representation over time</a></span></li><li><span><a href=\"#Gender-Representation-by-Genre\" data-toc-modified-id=\"Gender-Representation-by-Genre-1.4\"><span class=\"toc-item-num\">1.4&nbsp;&nbsp;</span>Gender Representation by Genre</a></span></li><li><span><a href=\"#Shot-Duration-by-Gender\" data-toc-modified-id=\"Shot-Duration-by-Gender-1.5\"><span class=\"toc-item-num\">1.5&nbsp;&nbsp;</span>Shot Duration by Gender</a></span></li></ul></li></ul></div>"
   ]
  },
  {
   "cell_type": "code",
   "execution_count": 2,
   "metadata": {
    "ExecuteTime": {
     "end_time": "2019-01-11T19:15:25.997257Z",
     "start_time": "2019-01-11T19:15:25.964440Z"
    }
   },
   "outputs": [],
   "source": [
    "from query.models import Video, Shot, Labeler, Face, FaceGender, Genre\n",
    "import matplotlib.pyplot as plt\n",
    "import matplotlib.ticker as plticker\n",
    "import numpy as np\n",
    "from django.db.models import Avg, Sum\n",
    "from tqdm import tqdm\n",
    "import rekall\n",
    "from rekall.video_interval_collection import VideoIntervalCollection\n",
    "from rekall.interval_list import IntervalList\n",
    "from rekall.merge_ops import payload_plus\n",
    "from rekall.parsers import in_array, merge_dict_parsers, dict_payload_parser\n",
    "from rekall.temporal_predicates import overlaps\n",
    "from rekall.payload_predicates import payload_satisfies\n",
    "import numpy as np"
   ]
  },
  {
   "cell_type": "markdown",
   "metadata": {},
   "source": [
    "# Gender Analysis\n",
    "\n",
    "In this notebook we'll be conducting some analyses of gender screen time ratios (male vs female screentime) over the film dataset. We will exclude all animated films."
   ]
  },
  {
   "cell_type": "markdown",
   "metadata": {},
   "source": [
    "## Computing Gender Screen Time\n",
    "Faces are computed at 2 FPS and at every microshot boundary. To avoid weird edge cases at the microshot boundaries, we'll only compute statistics at the 2 FPS sampling."
   ]
  },
  {
   "cell_type": "code",
   "execution_count": 3,
   "metadata": {
    "ExecuteTime": {
     "end_time": "2019-01-11T19:15:27.351188Z",
     "start_time": "2019-01-11T19:15:27.322862Z"
    }
   },
   "outputs": [],
   "source": [
    "all_videos = Video.objects.filter(decode_errors=False).exclude(genres__name='animation').order_by('id').all()"
   ]
  },
  {
   "cell_type": "code",
   "execution_count": 4,
   "metadata": {
    "ExecuteTime": {
     "end_time": "2019-01-11T19:22:27.977730Z",
     "start_time": "2019-01-11T19:15:28.383432Z"
    }
   },
   "outputs": [
    {
     "name": "stderr",
     "output_type": "stream",
     "text": [
      "100%|███████████████████████████████████████████████████████████████████████████████████████████████████████████████████████████████████████████████████████████████████████████████████████████| 8529081/8529081 [03:44<00:00, 37910.22it/s]\n"
     ]
    }
   ],
   "source": [
    "# Takes about six and a half minutes to run!\n",
    "# Load all FaceGender data into Rekall. faces_with_gender has one interval per face.\n",
    "facegender_qs = FaceGender.objects.filter(\n",
    "    face__frame__video__in=all_videos,\n",
    "    labeler__name=\"gender-knn\"\n",
    ").annotate(\n",
    "    min_frame=F('face__frame__number'),\n",
    "    max_frame=F('face__frame__number'),\n",
    "    video_id=F('face__frame__video_id'),\n",
    "    gender_name=F('gender__name'),\n",
    "    face_probability=F('face__probability')\n",
    ").all()\n",
    "\n",
    "total_faces = facegender_qs.count()\n",
    "\n",
    "faces_with_gender = VideoIntervalCollection.from_django_qs(\n",
    "    facegender_qs,\n",
    "    with_payload=merge_dict_parsers([\n",
    "        dict_payload_parser(VideoIntervalCollection.django_accessor, { 'face_id': 'face_id' }),\n",
    "        dict_payload_parser(VideoIntervalCollection.django_accessor, { 'gender': 'gender_name' }),\n",
    "        dict_payload_parser(VideoIntervalCollection.django_accessor, { 'gender_probability': 'probability' }),\n",
    "        dict_payload_parser(VideoIntervalCollection.django_accessor, { 'face_probability': 'face_probability' })\n",
    "    ]),\n",
    "    progress=True,\n",
    "    total=total_faces\n",
    ")"
   ]
  },
  {
   "cell_type": "code",
   "execution_count": 5,
   "metadata": {
    "ExecuteTime": {
     "end_time": "2019-01-11T19:22:34.950666Z",
     "start_time": "2019-01-11T19:22:27.981072Z"
    }
   },
   "outputs": [],
   "source": [
    "# For the faces where we have identity mappings, annotate them with gender\n",
    "facecharacteractor_qs = FaceCharacterActor.objects.annotate(\n",
    "    actor_id=F('characteractor__actor_id')\n",
    ").all()\n",
    "actor_ids = set([\n",
    "    fca.actor_id\n",
    "    for fca in facecharacteractor_qs\n",
    "])\n",
    "actorgender_qs = ActorGender.objects.filter(\n",
    "    actor_id__in=actor_ids\n",
    ").annotate(\n",
    "    gender_name = F('gender__name')\n",
    ")\n",
    "face_to_actor = {\n",
    "    fca.face_id: fca.actor_id\n",
    "    for fca in facecharacteractor_qs\n",
    "}\n",
    "actor_to_gender = {\n",
    "    ag.actor_id: ag.gender_name\n",
    "    for ag in actorgender_qs\n",
    "}\n",
    "face_to_gender = {\n",
    "    face: actor_to_gender[face_to_actor[face]]\n",
    "    for face in face_to_actor if face_to_actor[face] in actor_to_gender\n",
    "}"
   ]
  },
  {
   "cell_type": "code",
   "execution_count": 6,
   "metadata": {
    "ExecuteTime": {
     "end_time": "2019-01-11T19:22:34.980427Z",
     "start_time": "2019-01-11T19:22:34.952975Z"
    }
   },
   "outputs": [
    {
     "data": {
      "text/plain": [
       "688791"
      ]
     },
     "execution_count": 6,
     "metadata": {},
     "output_type": "execute_result"
    }
   ],
   "source": [
    "len(face_to_gender)"
   ]
  },
  {
   "cell_type": "code",
   "execution_count": 7,
   "metadata": {
    "ExecuteTime": {
     "end_time": "2019-01-11T19:23:25.272884Z",
     "start_time": "2019-01-11T19:22:34.983900Z"
    }
   },
   "outputs": [],
   "source": [
    "faces_with_gender = faces_with_gender.map(\n",
    "    lambda intrvl: (\n",
    "        intrvl.start, intrvl.end,\n",
    "        {\n",
    "            'face_id': intrvl.payload['face_id'],\n",
    "            'face_probability': intrvl.payload['face_probability'],\n",
    "            'gender': (\n",
    "                intrvl.payload['gender']\n",
    "                if intrvl.payload['face_id'] not in face_to_gender\n",
    "                else face_to_gender[intrvl.payload['face_id']]),\n",
    "            'gender_probability': (\n",
    "                intrvl.payload['gender_probability']\n",
    "                if intrvl.payload['face_id'] not in face_to_gender\n",
    "                else 1.0)\n",
    "        }\n",
    "    )\n",
    ")"
   ]
  },
  {
   "cell_type": "code",
   "execution_count": 54,
   "metadata": {
    "ExecuteTime": {
     "end_time": "2019-01-11T21:57:18.226703Z",
     "start_time": "2019-01-11T21:57:18.191009Z"
    }
   },
   "outputs": [],
   "source": [
    "def compute_gender_ratio_for_video(intervallist):\n",
    "    male_time = intervallist.fold(lambda acc, intrvl: (\n",
    "        acc + (intrvl.get_payload()['gender_probability'] if\n",
    "              intrvl.get_payload()['gender'] == 'M' else\n",
    "               (1 - intrvl.get_payload()['gender_probability'])\n",
    "              )# * intrvl.get_payload()['face_probability']\n",
    "    ), 0.)\n",
    "    female_time = intervallist.fold(lambda acc, intrvl: (\n",
    "        acc + (intrvl.get_payload()['gender_probability'] if\n",
    "              intrvl.get_payload()['gender'] == 'F' else\n",
    "               (1 - intrvl.get_payload()['gender_probability'])\n",
    "              )# * intrvl.get_payload()['face_probability']\n",
    "    ), 0.)\n",
    "    \n",
    "#     male_time = intervallist.filter(\n",
    "#         payload_satisfies(lambda payload: payload['gender'] == 'M')\n",
    "#     ).fold(lambda acc, intrvl: (acc + \n",
    "#                                 intrvl.get_payload()['gender_probability'] * \n",
    "#                                 intrvl.get_payload()['face_probability']), 0.)\n",
    "#     female_time = intervallist.filter(\n",
    "#         payload_satisfies(lambda payload: payload['gender'] == 'F')\n",
    "#     ).fold(lambda acc, intrvl: (acc + \n",
    "#                                 intrvl.get_payload()['gender_probability'] * \n",
    "#                                 intrvl.get_payload()['face_probability']), 0.)\n",
    "    \n",
    "    return male_time / (male_time + female_time), female_time / (male_time + female_time)"
   ]
  },
  {
   "cell_type": "code",
   "execution_count": 55,
   "metadata": {
    "ExecuteTime": {
     "end_time": "2019-01-11T21:57:33.219464Z",
     "start_time": "2019-01-11T21:57:21.239269Z"
    },
    "scrolled": true
   },
   "outputs": [
    {
     "name": "stderr",
     "output_type": "stream",
     "text": [
      "100%|██████████████████████████████████████████████████████████████████████████████████████████████████████████████████████████████████████████████████████████████████████████████████████████████████████| 602/602 [00:11<00:00, 50.38it/s]\n"
     ]
    }
   ],
   "source": [
    "videos_with_gender_ratios = [\n",
    "    (video, compute_gender_ratio_for_video(faces_with_gender.get_intervallist(video.id)))\n",
    "    for video in tqdm(all_videos)\n",
    "]"
   ]
  },
  {
   "cell_type": "code",
   "execution_count": 10,
   "metadata": {
    "ExecuteTime": {
     "end_time": "2019-01-11T19:23:55.476615Z",
     "start_time": "2019-01-11T19:23:41.150712Z"
    },
    "scrolled": true
   },
   "outputs": [
    {
     "name": "stderr",
     "output_type": "stream",
     "text": [
      "100%|██████████████████████████████████████████████████████████████████████████████████████████████████████████████████████████████████████████████████████████████████████████████████████████████████████| 533/533 [00:14<00:00, 37.06it/s]\n"
     ]
    }
   ],
   "source": [
    "# For sanity checking, remove films calssified as fantasy (old men with long hair) or family (young kids)\n",
    "videos_no_family_fantasy = Video.objects.filter(decode_errors=False).exclude(\n",
    "    genres__name__in=['animation', 'family', 'fantasy']\n",
    ")\n",
    "videos_with_gender_ratios_no_family_fantasy = [\n",
    "    (video, compute_gender_ratio_for_video(faces_with_gender.get_intervallist(video.id)))\n",
    "    for video in tqdm(videos_no_family_fantasy)\n",
    "]"
   ]
  },
  {
   "cell_type": "markdown",
   "metadata": {},
   "source": [
    "## Gender Screen Time in Our Dataset"
   ]
  },
  {
   "cell_type": "code",
   "execution_count": 11,
   "metadata": {
    "ExecuteTime": {
     "end_time": "2019-01-11T19:23:55.511220Z",
     "start_time": "2019-01-11T19:23:55.478907Z"
    }
   },
   "outputs": [],
   "source": [
    "# Let's plot histograms of male and female screen time\n",
    "def plot_male_female_screen_time_histograms(videos_with_gender_ratios):\n",
    "    male_screen_time = sorted([m for v, (m, f) in videos_with_gender_ratios])\n",
    "    female_screen_time = sorted([f for v, (m, f) in videos_with_gender_ratios])\n",
    "    \n",
    "    fig, ax = plt.subplots(figsize=(10, 5))\n",
    "    ax.hist([male_screen_time, female_screen_time], [i * .01 for i in range(100)], histtype='bar',\n",
    "             label=['Male Screen Time', 'Female Screen Time'], color=['y', 'g'])\n",
    "    ax.legend()\n",
    "    ax.set_title('Histogram of male and female screen time')\n",
    "    plt.show()"
   ]
  },
  {
   "cell_type": "code",
   "execution_count": 56,
   "metadata": {
    "ExecuteTime": {
     "end_time": "2019-01-11T21:57:36.135472Z",
     "start_time": "2019-01-11T21:57:35.507180Z"
    }
   },
   "outputs": [
    {
     "data": {
      "image/png": "[encoded data removed]",
      "text/plain": [
       "<matplotlib.figure.Figure at 0x7fa375196518>"
      ]
     },
     "metadata": {
      "needs_background": "light"
     },
     "output_type": "display_data"
    }
   ],
   "source": [
    "plot_male_female_screen_time_histograms(videos_with_gender_ratios)"
   ]
  },
  {
   "cell_type": "code",
   "execution_count": 13,
   "metadata": {
    "ExecuteTime": {
     "end_time": "2019-01-11T19:23:56.818001Z",
     "start_time": "2019-01-11T19:23:56.193893Z"
    }
   },
   "outputs": [
    {
     "data": {
      "image/png": "[encoded data removed]",
      "text/plain": [
       "<matplotlib.figure.Figure at 0x7fa542ae5ef0>"
      ]
     },
     "metadata": {
      "needs_background": "light"
     },
     "output_type": "display_data"
    }
   ],
   "source": [
    "plot_male_female_screen_time_histograms(videos_with_gender_ratios_no_family_fantasy)"
   ]
  },
  {
   "cell_type": "code",
   "execution_count": 14,
   "metadata": {
    "ExecuteTime": {
     "end_time": "2019-01-11T19:23:56.868936Z",
     "start_time": "2019-01-11T19:23:56.820270Z"
    }
   },
   "outputs": [],
   "source": [
    "# What about overall male/female screen time?\n",
    "def plot_average_male_female_screen_time(videos_with_gender_ratios):\n",
    "    male_screen_time = [np.mean([m for v, (m, f) in videos_with_gender_ratios])]\n",
    "    female_screen_time = [np.mean([f for v, (m, f) in videos_with_gender_ratios])]\n",
    "    \n",
    "    names = ['Average Screen Time']\n",
    "    N = len(names)\n",
    "\n",
    "    ax = plt.gca()\n",
    "    \n",
    "    width = 0.35\n",
    "    ind = np.arange(N)\n",
    "    p1 = ax.bar(ind, male_screen_time, width, color='y')\n",
    "    p2 = ax.bar(ind + width, female_screen_time, width, color='g')\n",
    "    \n",
    "    ax.set_title('Average Male/Female Screen Time')\n",
    "    ax.set_xticks(ind + width / 2)\n",
    "    ax.set_xticklabels(names)\n",
    "    ax.set_ylabel('Average Screen Time')\n",
    "    ax.set_ylim((0, 1))\n",
    "    \n",
    "    ax.legend((p1[0], p2[0]), ('Male Screen Time', 'Female Screen Time'))\n",
    "    \n",
    "    def autolabel(rects):\n",
    "        \"\"\"\n",
    "        Attach a text label above each bar displaying its height\n",
    "        \"\"\"\n",
    "        for rect in rects:\n",
    "            height = rect.get_height()\n",
    "            ax.text(rect.get_x() + rect.get_width()/2., 1.05*height,\n",
    "                    '%f' % height,\n",
    "                    ha='center', va='bottom')\n",
    "\n",
    "    autolabel(p1)\n",
    "    autolabel(p2)\n",
    "    \n",
    "    plt.show()"
   ]
  },
  {
   "cell_type": "code",
   "execution_count": 57,
   "metadata": {
    "ExecuteTime": {
     "end_time": "2019-01-11T21:57:42.032822Z",
     "start_time": "2019-01-11T21:57:41.863757Z"
    }
   },
   "outputs": [
    {
     "data": {
      "image/png": "[encoded data removed]",
      "text/plain": [
       "<matplotlib.figure.Figure at 0x7fa38f7481d0>"
      ]
     },
     "metadata": {
      "needs_background": "light"
     },
     "output_type": "display_data"
    }
   ],
   "source": [
    "plot_average_male_female_screen_time(videos_with_gender_ratios)"
   ]
  },
  {
   "cell_type": "code",
   "execution_count": 58,
   "metadata": {
    "ExecuteTime": {
     "end_time": "2019-01-11T21:57:45.052247Z",
     "start_time": "2019-01-11T21:57:44.886656Z"
    }
   },
   "outputs": [
    {
     "data": {
      "image/png": "[encoded data removed]",
      "text/plain": [
       "<matplotlib.figure.Figure at 0x7fa377f225f8>"
      ]
     },
     "metadata": {
      "needs_background": "light"
     },
     "output_type": "display_data"
    }
   ],
   "source": [
    "plot_average_male_female_screen_time(videos_with_gender_ratios_no_family_fantasy)"
   ]
  },
  {
   "cell_type": "markdown",
   "metadata": {},
   "source": [
    "## Changes in gender representation over time"
   ]
  },
  {
   "cell_type": "code",
   "execution_count": 40,
   "metadata": {
    "ExecuteTime": {
     "end_time": "2019-01-11T19:45:32.616928Z",
     "start_time": "2019-01-11T19:45:32.525464Z"
    }
   },
   "outputs": [],
   "source": [
    "def movingaverage(x, y, window_size):\n",
    "    return [\n",
    "        np.mean([y2 for x2, y2 in zip(x, y) if abs(x2-x1) <= window_size])\n",
    "        for x1 in x\n",
    "    ]\n",
    "\n",
    "# Plot male ratios by year\n",
    "def plot_male_gender_ratios_by_year(videos_with_gender_ratios, min_year=None):\n",
    "    data = sorted([(v.year, male_ratio) for v, (male_ratio, female_ratio) in videos_with_gender_ratios])\n",
    "    if min_year is not None:\n",
    "        data = [d for d in data if d[0] >= min_year]\n",
    "        \n",
    "    x = [d[0] for d in data]\n",
    "    y = [d[1] for d in data]\n",
    "    y_av = movingaverage(x, y, 10)\n",
    "    \n",
    "    fig, ax = plt.subplots(figsize=(10, 5))\n",
    "    ax.scatter(x, y, s=3, color='y')\n",
    "    ax.plot(x, y_av, color='r')\n",
    "    ax.set_ylim(0, 1)\n",
    "    ax.set_xlabel('Year')\n",
    "    ax.set_ylabel('Male Screen Time Percentage')\n",
    "    ax.set_title('Male Screen Time Percentage Over Time')\n",
    "    \n",
    "    #ax.set_yscale('symlog')\n",
    "    \n",
    "#     ax.plot(np.unique(x), np.poly1d(np.polyfit(x, y, 3))(np.unique(x)))\n",
    "#     ax.plot(np.unique(x), np.poly1d(np.polyfit(x, y, 1))(np.unique(x)), color='y')\n",
    "    plt.show()\n",
    "    \n",
    "# Plot male ratios by year\n",
    "def plot_female_gender_ratios_by_year(videos_with_gender_ratios, min_year=None, filename=None):\n",
    "    data = sorted([(v.year, female_ratio) for v, (male_ratio, female_ratio) in videos_with_gender_ratios])\n",
    "    if min_year is not None:\n",
    "        data = [d for d in data if d[0] >= min_year]\n",
    "        \n",
    "    x = [d[0] for d in data]\n",
    "    y = [100. * d[1] for d in data]\n",
    "    y_av = movingaverage(x, y, 10)\n",
    "    \n",
    "    fig, ax = plt.subplots(figsize=(6.666, 3.333))\n",
    "    ax.scatter(x, y, s=3, color='k')\n",
    "    ax.plot(x, y_av, color='r')\n",
    "    ax.set_ylim(0, 1)\n",
    "    ax.set_xlabel('Year')\n",
    "    ax.set_xticks(range(1915, 2016, 25))\n",
    "    ax.set_yticks(range(0, 101, 20))\n",
    "    ax.set_ylabel('Female Screen Time Percentage')\n",
    "    ax.set_title('Female Screen Time Percentage Over Time')\n",
    "    \n",
    "    #ax.set_yscale('symlog')\n",
    "    \n",
    "#     ax.plot(np.unique(x), np.poly1d(np.polyfit(x, y, 3))(np.unique(x)))\n",
    "#     ax.plot(np.unique(x), np.poly1d(np.polyfit(x, y, 1))(np.unique(x)), color='g')\n",
    "    if filename is not None:\n",
    "        plt.savefig(filename)\n",
    "    plt.show()"
   ]
  },
  {
   "cell_type": "code",
   "execution_count": 59,
   "metadata": {
    "ExecuteTime": {
     "end_time": "2019-01-11T21:57:50.432475Z",
     "start_time": "2019-01-11T21:57:49.871343Z"
    }
   },
   "outputs": [
    {
     "data": {
      "image/png": "[encoded data removed]",
      "text/plain": [
       "<matplotlib.figure.Figure at 0x7fa376096748>"
      ]
     },
     "metadata": {
      "needs_background": "light"
     },
     "output_type": "display_data"
    },
    {
     "data": {
      "image/png": "[encoded data removed]",
      "text/plain": [
       "<matplotlib.figure.Figure at 0x7fa3739cfc18>"
      ]
     },
     "metadata": {
      "needs_background": "light"
     },
     "output_type": "display_data"
    }
   ],
   "source": [
    "plot_male_gender_ratios_by_year(videos_with_gender_ratios)\n",
    "plot_female_gender_ratios_by_year(videos_with_gender_ratios, filename=\"film_female_screen_time.pdf\")"
   ]
  },
  {
   "cell_type": "code",
   "execution_count": 42,
   "metadata": {
    "ExecuteTime": {
     "end_time": "2019-01-08T19:57:36.647864Z",
     "start_time": "2019-01-08T19:57:36.311092Z"
    }
   },
   "outputs": [
    {
     "data": {
      "image/png": "[encoded data removed]",
      "text/plain": [
       "<matplotlib.figure.Figure at 0x7f0e6697cb70>"
      ]
     },
     "metadata": {
      "needs_background": "light"
     },
     "output_type": "display_data"
    },
    {
     "data": {
      "image/png": "[encoded data removed]",
      "text/plain": [
       "<matplotlib.figure.Figure at 0x7f0e6697cbe0>"
      ]
     },
     "metadata": {
      "needs_background": "light"
     },
     "output_type": "display_data"
    }
   ],
   "source": [
    "plot_male_gender_ratios_by_year(videos_with_gender_ratios_no_family_fantasy)\n",
    "plot_female_gender_ratios_by_year(videos_with_gender_ratios_no_family_fantasy)"
   ]
  },
  {
   "cell_type": "code",
   "execution_count": 60,
   "metadata": {
    "ExecuteTime": {
     "end_time": "2019-01-11T21:58:01.589877Z",
     "start_time": "2019-01-11T21:58:01.559708Z"
    }
   },
   "outputs": [
    {
     "data": {
      "text/plain": [
       "[('Papillon', 1973, 0.9547376530000857),\n",
       " ('Tora! Tora! Tora!', 1970, 0.9555344927058428),\n",
       " ('Timon of Athens', 1981, 0.9572274853663697),\n",
       " ('First Blood', 1982, 0.9575611249022338),\n",
       " ('The Treasure of the Sierra Madre', 1948, 0.9587584541861657),\n",
       " ('The Hunt for Red October', 1990, 0.9595148247978443),\n",
       " ('For a Few Dollars More', 1965, 0.9595242961276068),\n",
       " ('Phantom', 2013, 0.9625561407678936),\n",
       " ('Royal Shakespeare Company: Henry IV Part II', 1979, 0.9656699889258028),\n",
       " (\"Kelly's Heroes\", 1970, 0.9672761234239731),\n",
       " ('The Good, the Bad and the Ugly', 1966, 0.9672946771538317),\n",
       " ('Killing Them Softly', 2012, 0.9703987223262472),\n",
       " ('Henry IV Part I', 1979, 0.9743331492251208),\n",
       " ('The Flight of the Phoenix', 1965, 0.9809029387225366),\n",
       " ('Locke', 2013, 0.9934593602935311)]"
      ]
     },
     "execution_count": 60,
     "metadata": {},
     "output_type": "execute_result"
    }
   ],
   "source": [
    "# What videos have exceptionally high male screen times (low female screen times)?\n",
    "sorted([\n",
    "    (v.title, v.year, male_screen_time)\n",
    "    for v, (male_screen_time, female_screen_time) in videos_with_gender_ratios if male_screen_time > .95\n",
    "], key=lambda tup: (tup[2], tup[0], tup[1]))"
   ]
  },
  {
   "cell_type": "code",
   "execution_count": 61,
   "metadata": {
    "ExecuteTime": {
     "end_time": "2019-01-11T21:58:02.485552Z",
     "start_time": "2019-01-11T21:58:02.454705Z"
    },
    "scrolled": false
   },
   "outputs": [
    {
     "data": {
      "text/plain": [
       "[('Gravity', 2013, 0.19949609473418986),\n",
       " ('Carol', 2015, 0.27232616672226057),\n",
       " ('Room', 2015, 0.2735070933685255),\n",
       " (\"Romy and Michele's High School Reunion\", 1997, 0.27404162497859214),\n",
       " ('Wild', 2014, 0.29860075972495903),\n",
       " ('Sisters', 2015, 0.3047407841332244),\n",
       " ('Still Alice', 2014, 0.30539137422417684),\n",
       " ('Mental', 2012, 0.3133636921414176),\n",
       " ('The Flapper', 1920, 0.3228435589766803),\n",
       " ('The Heat', 2013, 0.32691659785301336),\n",
       " ('The First Wives Club', 1996, 0.33823199894917844),\n",
       " ('Brooklyn', 2015, 0.3457054877378191),\n",
       " ('All About Eve', 1950, 0.3457591374214719),\n",
       " ('Nine to Five', 1980, 0.3497297191429353),\n",
       " ('Sense and Sensibility', 1995, 0.3512912890136133),\n",
       " ('The Forest', 2016, 0.3607912352827249),\n",
       " ('Alice in Wonderland', 2010, 0.3691013651510272),\n",
       " ('The Haunting', 1999, 0.37937058127699597),\n",
       " ('Diabolique', 1955, 0.3926326090162055),\n",
       " ('Into the Woods', 2014, 0.3990933285218092),\n",
       " ('Stoker', 2013, 0.4039757412398921),\n",
       " ('Pollyanna', 1920, 0.4076023913625414),\n",
       " ('The Birds', 1963, 0.40899316755106746),\n",
       " ('Under the Skin', 2013, 0.4105506167734829),\n",
       " ('Clueless', 1995, 0.4148781948252502),\n",
       " ('The Woman in Black 2: Angel of Death', 2014, 0.4156089657034938),\n",
       " ('Kill Bill: Vol. 1', 2003, 0.4220325228627596),\n",
       " ('Erin Brockovich', 2000, 0.42796481649984547),\n",
       " ('The Truth About Cats & Dogs', 1996, 0.4288259894539022),\n",
       " ('The Hunger Games: Mockingjay - Part 2', 2015, 0.4298040697038679),\n",
       " (\"Charlie's Angels\", 2000, 0.4349157225752951),\n",
       " ('The Hunger Games: Mockingjay - Part 1', 2014, 0.4419456938197565),\n",
       " ('Stage Fright', 1950, 0.44220033996841795),\n",
       " (\"My Best Friend's Wedding\", 1997, 0.4454903708242241),\n",
       " (\"Charlie's Angels: Full Throttle\", 2003, 0.4461045796732229),\n",
       " ('BUtterfield 8', 1960, 0.4590192850423337),\n",
       " ('Miss Congeniality', 2000, 0.4664691072482544),\n",
       " ('Fifty Shades of Grey', 2015, 0.4671969224370945),\n",
       " ('Bessie', 2015, 0.4679740511520322),\n",
       " ('Anna Karenina', 1935, 0.4691181885125181),\n",
       " ('The Danish Girl', 2015, 0.4751479731874285),\n",
       " ('Dick', 1999, 0.4759583205195436),\n",
       " ('My Big Fat Greek Wedding', 2002, 0.47605824585167517),\n",
       " ('The Night of the Hunter', 1955, 0.4771179272581609),\n",
       " ('Marnie', 1964, 0.4785570534116985),\n",
       " ('The Invisible Woman', 2013, 0.4830945558739276),\n",
       " ('Crimson Peak', 2015, 0.4958321625924884),\n",
       " ('Suspicion', 1941, 0.4963161130947894)]"
      ]
     },
     "execution_count": 61,
     "metadata": {},
     "output_type": "execute_result"
    }
   ],
   "source": [
    "# What videos have exceptionally low male screen times (high female screen times)?\n",
    "sorted([\n",
    "    (v.title, v.year, male_screen_time)\n",
    "    for v, (male_screen_time, female_screen_time) in videos_with_gender_ratios if male_screen_time < .50\n",
    "], key=lambda tup: (tup[2], tup[0], tup[1]))"
   ]
  },
  {
   "cell_type": "markdown",
   "metadata": {},
   "source": [
    "## Gender Representation by Genre\n",
    "\n",
    "We have 22 different genres. How does gender representation differ for each?"
   ]
  },
  {
   "cell_type": "code",
   "execution_count": 64,
   "metadata": {
    "ExecuteTime": {
     "end_time": "2019-01-12T00:22:40.046470Z",
     "start_time": "2019-01-12T00:22:39.938965Z"
    }
   },
   "outputs": [],
   "source": [
    "# First, let's see how many films are in each genre\n",
    "genres_and_counts = sorted([\n",
    "    (g.name, Video.objects.filter(genres=g).count())\n",
    "    for g in Genre.objects.all()\n",
    "], key=lambda g_and_c: g_and_c[1])"
   ]
  },
  {
   "cell_type": "code",
   "execution_count": 65,
   "metadata": {
    "ExecuteTime": {
     "end_time": "2019-01-12T00:22:40.877932Z",
     "start_time": "2019-01-12T00:22:40.850253Z"
    }
   },
   "outputs": [
    {
     "data": {
      "text/plain": [
       "[('short', 2),\n",
       " ('documentary', 2),\n",
       " ('film-noir', 9),\n",
       " ('sport', 10),\n",
       " ('music', 14),\n",
       " ('musical', 21),\n",
       " ('horror', 25),\n",
       " ('western', 26),\n",
       " ('animation', 32),\n",
       " ('war', 40),\n",
       " ('history', 47),\n",
       " ('biography', 48),\n",
       " ('family', 53),\n",
       " ('mystery', 65),\n",
       " ('fantasy', 82),\n",
       " ('crime', 96),\n",
       " ('romance', 102),\n",
       " ('sci-fi', 115),\n",
       " ('comedy', 185),\n",
       " ('action', 190),\n",
       " ('thriller', 208),\n",
       " ('adventure', 224),\n",
       " ('drama', 276)]"
      ]
     },
     "execution_count": 65,
     "metadata": {},
     "output_type": "execute_result"
    }
   ],
   "source": [
    "genres_and_counts"
   ]
  },
  {
   "cell_type": "code",
   "execution_count": 66,
   "metadata": {
    "ExecuteTime": {
     "end_time": "2019-01-12T00:22:42.481339Z",
     "start_time": "2019-01-12T00:22:42.454690Z"
    }
   },
   "outputs": [],
   "source": [
    "# Let's exclude animation, short, and documentary\n",
    "genres = Genre.objects.exclude(name__in=['animation', 'short', 'documentary']).all()"
   ]
  },
  {
   "cell_type": "code",
   "execution_count": 79,
   "metadata": {
    "ExecuteTime": {
     "end_time": "2019-01-12T00:25:13.421240Z",
     "start_time": "2019-01-12T00:25:13.342137Z"
    }
   },
   "outputs": [],
   "source": [
    "def plot_gender_screen_time_by_genre(videos_with_gender_ratios, genres, title, filename=None):\n",
    "    data = []\n",
    "    for genre in genres:\n",
    "        videos_in_genre = [v.id for v in Video.objects.filter(genres=genre).all()]\n",
    "        male_screen_time = np.mean([m for v, (m, f) in videos_with_gender_ratios \n",
    "                                     if v.id in videos_in_genre])\n",
    "        female_screen_time = np.mean([f for v, (m, f) in videos_with_gender_ratios \n",
    "                                     if v.id in videos_in_genre])\n",
    "        data.append((male_screen_time, female_screen_time, genre.name))\n",
    "    \n",
    "    data = sorted(data)\n",
    "    \n",
    "    male_screen_times = [m * 100 for m, _, _ in data]\n",
    "    female_screen_times = [f * 100 for _, f, _ in data]\n",
    "    genres = [genre for _, _, genre in data]\n",
    "    N = len(genres)\n",
    "\n",
    "    fig, ax = plt.subplots(figsize=(6.666, 6.666))\n",
    "    \n",
    "    height = 0.35\n",
    "    ind = np.arange(N)\n",
    "    p1 = ax.barh(ind + height, male_screen_times, height)\n",
    "    p2 = ax.barh(ind, female_screen_times, height)\n",
    "    \n",
    "    ax.set_title(title)\n",
    "    ax.set_yticks(ind + height / 2)\n",
    "    ax.set_yticklabels([g.capitalize() for g in genres])\n",
    "    ax.set_xlim((0, 100))\n",
    "    ax.set_ylabel('Genre')\n",
    "    ax.set_xlabel('Screen time percentage')\n",
    "    \n",
    "    ax.legend((p1[0], p2[0]), ('Male Screen Time', 'Female Screen Time'), loc=4)\n",
    "    \n",
    "    def autolabel(rects):\n",
    "        \"\"\"\n",
    "        Attach a text label above each bar displaying its height\n",
    "        \"\"\"\n",
    "        for rect in rects:\n",
    "            width = rect.get_width()\n",
    "            ax.text(width + .01, rect.get_y()-.2,\n",
    "                    '%f Male' % width,\n",
    "                    ha='left', va='bottom')\n",
    "\n",
    "#     autolabel(p1)\n",
    "#     autolabel(p2)\n",
    "\n",
    "    if filename is not None:\n",
    "        plt.savefig(filename)\n",
    "    \n",
    "    plt.show()"
   ]
  },
  {
   "cell_type": "code",
   "execution_count": 80,
   "metadata": {
    "ExecuteTime": {
     "end_time": "2019-01-12T00:25:14.704763Z",
     "start_time": "2019-01-12T00:25:14.107307Z"
    }
   },
   "outputs": [
    {
     "data": {
      "image/png": "[encoded data removed]",
      "text/plain": [
       "<matplotlib.figure.Figure at 0x7fa394cfd4a8>"
      ]
     },
     "metadata": {
      "needs_background": "light"
     },
     "output_type": "display_data"
    }
   ],
   "source": [
    "plot_gender_screen_time_by_genre(videos_with_gender_ratios, genres, 'Male/female screen time by genre',\n",
    "                                filename='gender_screen_time_by_genre.pdf')"
   ]
  },
  {
   "cell_type": "markdown",
   "metadata": {},
   "source": [
    "## Shot Duration by Gender\n",
    "Do shot durations differ if they're primarily male or primarily female?"
   ]
  },
  {
   "cell_type": "code",
   "execution_count": 42,
   "metadata": {
    "ExecuteTime": {
     "end_time": "2019-01-11T20:00:23.088238Z",
     "start_time": "2019-01-11T20:00:13.337027Z"
    }
   },
   "outputs": [
    {
     "name": "stderr",
     "output_type": "stream",
     "text": [
      "100%|████████████████████████████████████████████████████████████████████████████████████████████████████████████████████████████████████████████████████████████████████████████████████████████| 834074/834074 [00:08<00:00, 100182.81it/s]\n"
     ]
    }
   ],
   "source": [
    "# First, load all the shots into Rekall\n",
    "shots_qs = Shot.objects.filter(\n",
    "    video__in=all_videos,\n",
    "    labeler=Labeler.objects.get(name='shot-hsvhist-face')\n",
    ").all()\n",
    "num_shots = shots_qs.count()\n",
    "shots = VideoIntervalCollection.from_django_qs(\n",
    "    shots_qs,\n",
    "    progress=True,\n",
    "    total=num_shots\n",
    ")"
   ]
  },
  {
   "cell_type": "code",
   "execution_count": 43,
   "metadata": {
    "ExecuteTime": {
     "end_time": "2019-01-11T20:00:42.936832Z",
     "start_time": "2019-01-11T20:00:23.744792Z"
    }
   },
   "outputs": [
    {
     "ename": "KeyboardInterrupt",
     "evalue": "",
     "output_type": "error",
     "traceback": [
      "\u001b[0;31m---------------------------------------------------------------------------\u001b[0m",
      "\u001b[0;31mKeyboardInterrupt\u001b[0m                         Traceback (most recent call last)",
      "\u001b[0;32m<ipython-input-43-18015e4c2123>\u001b[0m in \u001b[0;36m<module>\u001b[0;34m()\u001b[0m\n\u001b[1;32m      5\u001b[0m     \u001b[0mshot_scale_name\u001b[0m\u001b[0;34m=\u001b[0m\u001b[0mF\u001b[0m\u001b[0;34m(\u001b[0m\u001b[0;34m'shot_scale__name'\u001b[0m\u001b[0;34m)\u001b[0m\u001b[0;34m\u001b[0m\u001b[0m\n\u001b[1;32m      6\u001b[0m ).all()\n\u001b[0;32m----> 7\u001b[0;31m \u001b[0mnum_frames\u001b[0m \u001b[0;34m=\u001b[0m \u001b[0mframes_qs\u001b[0m\u001b[0;34m.\u001b[0m\u001b[0mcount\u001b[0m\u001b[0;34m(\u001b[0m\u001b[0;34m)\u001b[0m\u001b[0;34m\u001b[0m\u001b[0m\n\u001b[0m\u001b[1;32m      8\u001b[0m shot_scales = VideoIntervalCollection.from_django_qs(\n\u001b[1;32m      9\u001b[0m     \u001b[0mframes_qs\u001b[0m\u001b[0;34m,\u001b[0m\u001b[0;34m\u001b[0m\u001b[0m\n",
      "\u001b[0;32m/usr/local/lib/python3.5/dist-packages/django/db/models/query.py\u001b[0m in \u001b[0;36mcount\u001b[0;34m(self)\u001b[0m\n\u001b[1;32m    361\u001b[0m             \u001b[0;32mreturn\u001b[0m \u001b[0mlen\u001b[0m\u001b[0;34m(\u001b[0m\u001b[0mself\u001b[0m\u001b[0;34m.\u001b[0m\u001b[0m_result_cache\u001b[0m\u001b[0;34m)\u001b[0m\u001b[0;34m\u001b[0m\u001b[0m\n\u001b[1;32m    362\u001b[0m \u001b[0;34m\u001b[0m\u001b[0m\n\u001b[0;32m--> 363\u001b[0;31m         \u001b[0;32mreturn\u001b[0m \u001b[0mself\u001b[0m\u001b[0;34m.\u001b[0m\u001b[0mquery\u001b[0m\u001b[0;34m.\u001b[0m\u001b[0mget_count\u001b[0m\u001b[0;34m(\u001b[0m\u001b[0musing\u001b[0m\u001b[0;34m=\u001b[0m\u001b[0mself\u001b[0m\u001b[0;34m.\u001b[0m\u001b[0mdb\u001b[0m\u001b[0;34m)\u001b[0m\u001b[0;34m\u001b[0m\u001b[0m\n\u001b[0m\u001b[1;32m    364\u001b[0m \u001b[0;34m\u001b[0m\u001b[0m\n\u001b[1;32m    365\u001b[0m     \u001b[0;32mdef\u001b[0m \u001b[0mget\u001b[0m\u001b[0;34m(\u001b[0m\u001b[0mself\u001b[0m\u001b[0;34m,\u001b[0m \u001b[0;34m*\u001b[0m\u001b[0margs\u001b[0m\u001b[0;34m,\u001b[0m \u001b[0;34m**\u001b[0m\u001b[0mkwargs\u001b[0m\u001b[0;34m)\u001b[0m\u001b[0;34m:\u001b[0m\u001b[0;34m\u001b[0m\u001b[0m\n",
      "\u001b[0;32m/usr/local/lib/python3.5/dist-packages/django/db/models/sql/query.py\u001b[0m in \u001b[0;36mget_count\u001b[0;34m(self, using)\u001b[0m\n\u001b[1;32m    496\u001b[0m         \u001b[0mobj\u001b[0m \u001b[0;34m=\u001b[0m \u001b[0mself\u001b[0m\u001b[0;34m.\u001b[0m\u001b[0mclone\u001b[0m\u001b[0;34m(\u001b[0m\u001b[0;34m)\u001b[0m\u001b[0;34m\u001b[0m\u001b[0m\n\u001b[1;32m    497\u001b[0m         \u001b[0mobj\u001b[0m\u001b[0;34m.\u001b[0m\u001b[0madd_annotation\u001b[0m\u001b[0;34m(\u001b[0m\u001b[0mCount\u001b[0m\u001b[0;34m(\u001b[0m\u001b[0;34m'*'\u001b[0m\u001b[0;34m)\u001b[0m\u001b[0;34m,\u001b[0m \u001b[0malias\u001b[0m\u001b[0;34m=\u001b[0m\u001b[0;34m'__count'\u001b[0m\u001b[0;34m,\u001b[0m \u001b[0mis_summary\u001b[0m\u001b[0;34m=\u001b[0m\u001b[0;32mTrue\u001b[0m\u001b[0;34m)\u001b[0m\u001b[0;34m\u001b[0m\u001b[0m\n\u001b[0;32m--> 498\u001b[0;31m         \u001b[0mnumber\u001b[0m \u001b[0;34m=\u001b[0m \u001b[0mobj\u001b[0m\u001b[0;34m.\u001b[0m\u001b[0mget_aggregation\u001b[0m\u001b[0;34m(\u001b[0m\u001b[0musing\u001b[0m\u001b[0;34m,\u001b[0m \u001b[0;34m[\u001b[0m\u001b[0;34m'__count'\u001b[0m\u001b[0;34m]\u001b[0m\u001b[0;34m)\u001b[0m\u001b[0;34m[\u001b[0m\u001b[0;34m'__count'\u001b[0m\u001b[0;34m]\u001b[0m\u001b[0;34m\u001b[0m\u001b[0m\n\u001b[0m\u001b[1;32m    499\u001b[0m         \u001b[0;32mif\u001b[0m \u001b[0mnumber\u001b[0m \u001b[0;32mis\u001b[0m \u001b[0;32mNone\u001b[0m\u001b[0;34m:\u001b[0m\u001b[0;34m\u001b[0m\u001b[0m\n\u001b[1;32m    500\u001b[0m             \u001b[0mnumber\u001b[0m \u001b[0;34m=\u001b[0m \u001b[0;36m0\u001b[0m\u001b[0;34m\u001b[0m\u001b[0m\n",
      "\u001b[0;32m/usr/local/lib/python3.5/dist-packages/django/db/models/sql/query.py\u001b[0m in \u001b[0;36mget_aggregation\u001b[0;34m(self, using, added_aggregate_names)\u001b[0m\n\u001b[1;32m    477\u001b[0m         \u001b[0mouter_query\u001b[0m\u001b[0;34m.\u001b[0m\u001b[0mselect_related\u001b[0m \u001b[0;34m=\u001b[0m \u001b[0;32mFalse\u001b[0m\u001b[0;34m\u001b[0m\u001b[0m\n\u001b[1;32m    478\u001b[0m         \u001b[0mcompiler\u001b[0m \u001b[0;34m=\u001b[0m \u001b[0mouter_query\u001b[0m\u001b[0;34m.\u001b[0m\u001b[0mget_compiler\u001b[0m\u001b[0;34m(\u001b[0m\u001b[0musing\u001b[0m\u001b[0;34m)\u001b[0m\u001b[0;34m\u001b[0m\u001b[0m\n\u001b[0;32m--> 479\u001b[0;31m         \u001b[0mresult\u001b[0m \u001b[0;34m=\u001b[0m \u001b[0mcompiler\u001b[0m\u001b[0;34m.\u001b[0m\u001b[0mexecute_sql\u001b[0m\u001b[0;34m(\u001b[0m\u001b[0mSINGLE\u001b[0m\u001b[0;34m)\u001b[0m\u001b[0;34m\u001b[0m\u001b[0m\n\u001b[0m\u001b[1;32m    480\u001b[0m         \u001b[0;32mif\u001b[0m \u001b[0mresult\u001b[0m \u001b[0;32mis\u001b[0m \u001b[0;32mNone\u001b[0m\u001b[0;34m:\u001b[0m\u001b[0;34m\u001b[0m\u001b[0m\n\u001b[1;32m    481\u001b[0m             \u001b[0mresult\u001b[0m \u001b[0;34m=\u001b[0m \u001b[0;34m[\u001b[0m\u001b[0;32mNone\u001b[0m \u001b[0;32mfor\u001b[0m \u001b[0mq\u001b[0m \u001b[0;32min\u001b[0m \u001b[0mouter_query\u001b[0m\u001b[0;34m.\u001b[0m\u001b[0mannotation_select\u001b[0m\u001b[0;34m.\u001b[0m\u001b[0mitems\u001b[0m\u001b[0;34m(\u001b[0m\u001b[0;34m)\u001b[0m\u001b[0;34m]\u001b[0m\u001b[0;34m\u001b[0m\u001b[0m\n",
      "\u001b[0;32m/usr/local/lib/python3.5/dist-packages/django/db/models/sql/compiler.py\u001b[0m in \u001b[0;36mexecute_sql\u001b[0;34m(self, result_type, chunked_fetch)\u001b[0m\n\u001b[1;32m    874\u001b[0m             \u001b[0mcursor\u001b[0m \u001b[0;34m=\u001b[0m \u001b[0mself\u001b[0m\u001b[0;34m.\u001b[0m\u001b[0mconnection\u001b[0m\u001b[0;34m.\u001b[0m\u001b[0mcursor\u001b[0m\u001b[0;34m(\u001b[0m\u001b[0;34m)\u001b[0m\u001b[0;34m\u001b[0m\u001b[0m\n\u001b[1;32m    875\u001b[0m         \u001b[0;32mtry\u001b[0m\u001b[0;34m:\u001b[0m\u001b[0;34m\u001b[0m\u001b[0m\n\u001b[0;32m--> 876\u001b[0;31m             \u001b[0mcursor\u001b[0m\u001b[0;34m.\u001b[0m\u001b[0mexecute\u001b[0m\u001b[0;34m(\u001b[0m\u001b[0msql\u001b[0m\u001b[0;34m,\u001b[0m \u001b[0mparams\u001b[0m\u001b[0;34m)\u001b[0m\u001b[0;34m\u001b[0m\u001b[0m\n\u001b[0m\u001b[1;32m    877\u001b[0m         \u001b[0;32mexcept\u001b[0m \u001b[0mException\u001b[0m\u001b[0;34m:\u001b[0m\u001b[0;34m\u001b[0m\u001b[0m\n\u001b[1;32m    878\u001b[0m             \u001b[0;32mtry\u001b[0m\u001b[0;34m:\u001b[0m\u001b[0;34m\u001b[0m\u001b[0m\n",
      "\u001b[0;32m/usr/local/lib/python3.5/dist-packages/django/db/backends/utils.py\u001b[0m in \u001b[0;36mexecute\u001b[0;34m(self, sql, params)\u001b[0m\n\u001b[1;32m     78\u001b[0m         \u001b[0mstart\u001b[0m \u001b[0;34m=\u001b[0m \u001b[0mtime\u001b[0m\u001b[0;34m(\u001b[0m\u001b[0;34m)\u001b[0m\u001b[0;34m\u001b[0m\u001b[0m\n\u001b[1;32m     79\u001b[0m         \u001b[0;32mtry\u001b[0m\u001b[0;34m:\u001b[0m\u001b[0;34m\u001b[0m\u001b[0m\n\u001b[0;32m---> 80\u001b[0;31m             \u001b[0;32mreturn\u001b[0m \u001b[0msuper\u001b[0m\u001b[0;34m(\u001b[0m\u001b[0mCursorDebugWrapper\u001b[0m\u001b[0;34m,\u001b[0m \u001b[0mself\u001b[0m\u001b[0;34m)\u001b[0m\u001b[0;34m.\u001b[0m\u001b[0mexecute\u001b[0m\u001b[0;34m(\u001b[0m\u001b[0msql\u001b[0m\u001b[0;34m,\u001b[0m \u001b[0mparams\u001b[0m\u001b[0;34m)\u001b[0m\u001b[0;34m\u001b[0m\u001b[0m\n\u001b[0m\u001b[1;32m     81\u001b[0m         \u001b[0;32mfinally\u001b[0m\u001b[0;34m:\u001b[0m\u001b[0;34m\u001b[0m\u001b[0m\n\u001b[1;32m     82\u001b[0m             \u001b[0mstop\u001b[0m \u001b[0;34m=\u001b[0m \u001b[0mtime\u001b[0m\u001b[0;34m(\u001b[0m\u001b[0;34m)\u001b[0m\u001b[0;34m\u001b[0m\u001b[0m\n",
      "\u001b[0;32m/usr/local/lib/python3.5/dist-packages/django/db/backends/utils.py\u001b[0m in \u001b[0;36mexecute\u001b[0;34m(self, sql, params)\u001b[0m\n\u001b[1;32m     63\u001b[0m                 \u001b[0;32mreturn\u001b[0m \u001b[0mself\u001b[0m\u001b[0;34m.\u001b[0m\u001b[0mcursor\u001b[0m\u001b[0;34m.\u001b[0m\u001b[0mexecute\u001b[0m\u001b[0;34m(\u001b[0m\u001b[0msql\u001b[0m\u001b[0;34m)\u001b[0m\u001b[0;34m\u001b[0m\u001b[0m\n\u001b[1;32m     64\u001b[0m             \u001b[0;32melse\u001b[0m\u001b[0;34m:\u001b[0m\u001b[0;34m\u001b[0m\u001b[0m\n\u001b[0;32m---> 65\u001b[0;31m                 \u001b[0;32mreturn\u001b[0m \u001b[0mself\u001b[0m\u001b[0;34m.\u001b[0m\u001b[0mcursor\u001b[0m\u001b[0;34m.\u001b[0m\u001b[0mexecute\u001b[0m\u001b[0;34m(\u001b[0m\u001b[0msql\u001b[0m\u001b[0;34m,\u001b[0m \u001b[0mparams\u001b[0m\u001b[0;34m)\u001b[0m\u001b[0;34m\u001b[0m\u001b[0m\n\u001b[0m\u001b[1;32m     66\u001b[0m \u001b[0;34m\u001b[0m\u001b[0m\n\u001b[1;32m     67\u001b[0m     \u001b[0;32mdef\u001b[0m \u001b[0mexecutemany\u001b[0m\u001b[0;34m(\u001b[0m\u001b[0mself\u001b[0m\u001b[0;34m,\u001b[0m \u001b[0msql\u001b[0m\u001b[0;34m,\u001b[0m \u001b[0mparam_list\u001b[0m\u001b[0;34m)\u001b[0m\u001b[0;34m:\u001b[0m\u001b[0;34m\u001b[0m\u001b[0m\n",
      "\u001b[0;32m<string>\u001b[0m in \u001b[0;36m__new__\u001b[0;34m(_cls, name, type_code, display_size, internal_size, precision, scale, null_ok)\u001b[0m\n",
      "\u001b[0;31mKeyboardInterrupt\u001b[0m: "
     ]
    }
   ],
   "source": [
    "# Load shot scales into Rekall\n",
    "frames_qs = Frame.objects.annotate(\n",
    "    numbermod=F('number') % 12\n",
    ").filter(numbermod=0, video_id__in=all_videos).annotate(\n",
    "    shot_scale_name=F('shot_scale__name')\n",
    ").all()\n",
    "num_frames = frames_qs.count()\n",
    "shot_scales = VideoIntervalCollection.from_django_qs(\n",
    "    frames_qs,\n",
    "    schema={\n",
    "        \"start\": \"number\",\n",
    "        \"end\": \"number\",\n",
    "        \"payload\": \"shot_scale_name\"\n",
    "    },\n",
    "    progress=True,\n",
    "    total=num_frames\n",
    ")"
   ]
  },
  {
   "cell_type": "code",
   "execution_count": 44,
   "metadata": {
    "ExecuteTime": {
     "end_time": "2019-01-11T20:02:40.541685Z",
     "start_time": "2019-01-11T20:00:49.421646Z"
    }
   },
   "outputs": [],
   "source": [
    "# Get the proportion of males in each frame\n",
    "frames_with_male_proportion = faces_with_gender.map(\n",
    "    lambda intrvl: (\n",
    "        intrvl.start,\n",
    "        intrvl.end,\n",
    "        [intrvl.payload['gender_probability']\n",
    "         if intrvl.payload['gender'] == 'M'\n",
    "         else 1-intrvl.payload['gender_probability']])\n",
    ").coalesce(payload_merge_op=payload_plus).map(\n",
    "    lambda intrvl: (intrvl.start, intrvl.end, [intrvl.payload])\n",
    ")"
   ]
  },
  {
   "cell_type": "code",
   "execution_count": 48,
   "metadata": {
    "ExecuteTime": {
     "end_time": "2019-01-11T21:32:39.310946Z",
     "start_time": "2019-01-11T21:29:13.844897Z"
    }
   },
   "outputs": [],
   "source": [
    "# Merge shots with frames_with_male_proportion to get shots that are >90% male or >90% female during the entire shot\n",
    "shots_one_gender = shots.merge(\n",
    "    frames_with_male_proportion,\n",
    "    payload_merge_op=lambda shot_id, frame_male_proportion: frame_male_proportion,\n",
    "    predicate=overlaps(),\n",
    "    working_window=1\n",
    ").coalesce(\n",
    "    payload_merge_op=payload_plus\n",
    ").filter(\n",
    "    payload_satisfies(lambda gender_labels: (\n",
    "        np.all([np.all([label > 0.9 for label in labels_per_frame]) for labels_per_frame in gender_labels]) or \n",
    "        np.all([np.all([label < 0.1 for label in labels_per_frame]) for labels_per_frame in gender_labels])\n",
    "    ))\n",
    ").map(\n",
    "    lambda intrvl: (\n",
    "        intrvl.start,\n",
    "        intrvl.end,\n",
    "        'M' if np.all([np.all([label > 0.9 for label in labels_per_frame]) for labels_per_frame in intrvl.payload]) else 'F')\n",
    ")"
   ]
  },
  {
   "cell_type": "code",
   "execution_count": 49,
   "metadata": {
    "ExecuteTime": {
     "end_time": "2019-01-11T21:37:42.146697Z",
     "start_time": "2019-01-11T21:37:41.093743Z"
    }
   },
   "outputs": [],
   "source": [
    "# # Merge shots with one gender with shot scales\n",
    "# # Next, overlap the shots with per-frame shot scales so that the payload\n",
    "# #   for each shot is a list of all the shot scales in the shot\n",
    "# # Finally, take the mode of the shot scales to get the scale of the whole shot\n",
    "# def get_mode(objs, label):\n",
    "#     items = [o[label] for o in objs]\n",
    "#     return max(set(items), key=items.count)\n",
    "\n",
    "# shots_with_scale_and_gender = shots_one_gender.merge(\n",
    "#     shot_scales,\n",
    "#     payload_merge_op=lambda gender, frame_shot_scale: [{'gender': gender, 'scales': frame_shot_scale}],\n",
    "#     predicate=overlaps(),\n",
    "#     working_window=1\n",
    "# ).coalesce(\n",
    "#     payload_merge_op=payload_plus\n",
    "# ).map(\n",
    "#     lambda shot_interval: (\n",
    "#         shot_interval.get_start(),\n",
    "#         shot_interval.get_end(),\n",
    "#         {'gender': shot_interval.get_payload()[0]['gender'],\n",
    "#          'scale': get_mode(shot_interval.get_payload(), 'scales') }\n",
    "#     )\n",
    "# )\n",
    "shots_with_scale_and_gender = shots_one_gender.map(\n",
    "    lambda intrvl: (intrvl.get_start(), intrvl.get_end(), { 'gender': intrvl.get_payload() })\n",
    ")"
   ]
  },
  {
   "cell_type": "code",
   "execution_count": 50,
   "metadata": {
    "ExecuteTime": {
     "end_time": "2019-01-11T21:37:45.373253Z",
     "start_time": "2019-01-11T21:37:45.316209Z"
    }
   },
   "outputs": [],
   "source": [
    "# Normalized count of male shots vs. female shots\n",
    "def plot_count_of_male_vs_female_shots(shots_with_scale_and_gender):\n",
    "    male_proportions = [\n",
    "        shots_with_scale_and_gender.get_intervallist(video_id).filter(payload_satisfies(\n",
    "            lambda payload: payload['gender'] == 'M'\n",
    "        )).size() / shots_with_scale_and_gender.get_intervallist(video_id).size()\n",
    "        for video_id in list(shots_with_scale_and_gender.get_allintervals().keys())\n",
    "    ]\n",
    "    female_proportions = [\n",
    "        1 - mp for mp in male_proportions\n",
    "    ]\n",
    "    \n",
    "    names = ['Proportion of shot counts']\n",
    "    N = len(names)\n",
    "\n",
    "    ax = plt.gca()\n",
    "    \n",
    "    width = 0.35\n",
    "    ind = np.arange(N)\n",
    "    p1 = ax.bar(ind, [np.mean(male_proportions)], width, color='y')\n",
    "    p2 = ax.bar(ind + width, [np.mean(female_proportions)], width, color='g')\n",
    "    \n",
    "    ax.set_title('Proportions of male/female shots')\n",
    "    ax.set_xticks(ind + width / 2)\n",
    "    ax.set_xticklabels(names)\n",
    "    ax.set_ylabel('Average Proportion of Shots')\n",
    "    ax.set_ylim((0, 1))\n",
    "    \n",
    "    ax.legend((p1[0], p2[0]), ('Male Shots', 'Female Shots'))\n",
    "    \n",
    "    def autolabel(rects):\n",
    "        \"\"\"\n",
    "        Attach a text label above each bar displaying its height\n",
    "        \"\"\"\n",
    "        for rect in rects:\n",
    "            height = rect.get_height()\n",
    "            ax.text(rect.get_x() + rect.get_width()/2., 1.05*height,\n",
    "                    '%f' % height,\n",
    "                    ha='center', va='bottom')\n",
    "\n",
    "    autolabel(p1)\n",
    "    autolabel(p2)\n",
    "    \n",
    "    plt.show()"
   ]
  },
  {
   "cell_type": "code",
   "execution_count": 51,
   "metadata": {
    "ExecuteTime": {
     "end_time": "2019-01-11T21:37:47.917204Z",
     "start_time": "2019-01-11T21:37:47.103289Z"
    }
   },
   "outputs": [
    {
     "data": {
      "image/png": "[encoded data removed]",
      "text/plain": [
       "<matplotlib.figure.Figure at 0x7fa3b37380b8>"
      ]
     },
     "metadata": {
      "needs_background": "light"
     },
     "output_type": "display_data"
    }
   ],
   "source": [
    "plot_count_of_male_vs_female_shots(shots_with_scale_and_gender)"
   ]
  },
  {
   "cell_type": "code",
   "execution_count": 52,
   "metadata": {
    "ExecuteTime": {
     "end_time": "2019-01-11T21:37:52.785253Z",
     "start_time": "2019-01-11T21:37:52.712048Z"
    }
   },
   "outputs": [],
   "source": [
    "# Normalized durations of male vs female shots\n",
    "def plot_duration_of_male_vs_female_shots(shots_with_scale_and_gender):\n",
    "    normalized_male_durations = []\n",
    "    normalized_female_durations = []\n",
    "    avg_durations = []\n",
    "    \n",
    "    for video_id in list(shots_with_scale_and_gender.get_allintervals().keys()):\n",
    "        video = Video.objects.get(id=video_id)\n",
    "        durations = []\n",
    "        intrvllist = shots_with_scale_and_gender.get_intervallist(video_id)\n",
    "        \n",
    "        male_durations = []\n",
    "        female_durations = []\n",
    "        \n",
    "        for intrvl in intrvllist.get_intervals():\n",
    "            duration = intrvl.get_end() - intrvl.get_start()\n",
    "            if intrvl.get_payload()['gender'] == 'M':\n",
    "                male_durations.append(duration)\n",
    "            else:\n",
    "                female_durations.append(duration)\n",
    "            durations.append(duration)\n",
    "        \n",
    "        if len(male_durations) > 0:\n",
    "            normalized_male_durations.append(\n",
    "                np.mean(male_durations) / np.mean(durations)\n",
    "            )\n",
    "        if len(female_durations) > 0:\n",
    "            normalized_female_durations.append(\n",
    "                np.mean(female_durations) / np.mean(durations)\n",
    "            )\n",
    "        \n",
    "        avg_durations.append(np.mean(durations) / video.fps)\n",
    "    \n",
    "    avg_duration = np.mean(avg_durations)\n",
    "    \n",
    "    names = ['Average shot durations']\n",
    "    N = len(names)\n",
    "\n",
    "    ax = plt.gca()\n",
    "    \n",
    "    width = 0.35\n",
    "    ind = np.arange(N)\n",
    "    p1 = ax.bar(ind, [np.mean(normalized_male_durations) * avg_duration], width, color='y')\n",
    "    p2 = ax.bar(ind + width, [np.mean(normalized_female_durations) * avg_duration], width, color='g')\n",
    "    \n",
    "    ax.set_title('Average durations of of male/female shots')\n",
    "    ax.set_xticks(ind + width / 2)\n",
    "    ax.set_xticklabels(names)\n",
    "    ax.set_ylabel('Average Duration')\n",
    "    ax.set_ylim((0, 6))\n",
    "    \n",
    "    ax.legend((p1[0], p2[0]), ('Male Shots', 'Female Shots'))\n",
    "    \n",
    "    def autolabel(rects):\n",
    "        \"\"\"\n",
    "        Attach a text label above each bar displaying its height\n",
    "        \"\"\"\n",
    "        for rect in rects:\n",
    "            height = rect.get_height()\n",
    "            ax.text(rect.get_x() + rect.get_width()/2., 1.05*height,\n",
    "                    '%f' % height,\n",
    "                    ha='center', va='bottom')\n",
    "\n",
    "    autolabel(p1)\n",
    "    autolabel(p2)\n",
    "    \n",
    "    plt.show()"
   ]
  },
  {
   "cell_type": "code",
   "execution_count": 53,
   "metadata": {
    "ExecuteTime": {
     "end_time": "2019-01-11T21:37:56.247265Z",
     "start_time": "2019-01-11T21:37:54.319835Z"
    }
   },
   "outputs": [
    {
     "data": {
      "image/png": "[encoded data removed]",
      "text/plain": [
       "<matplotlib.figure.Figure at 0x7fa377011860>"
      ]
     },
     "metadata": {
      "needs_background": "light"
     },
     "output_type": "display_data"
    }
   ],
   "source": [
    "plot_duration_of_male_vs_female_shots(shots_with_scale_and_gender)"
   ]
  },
  {
   "cell_type": "code",
   "execution_count": 99,
   "metadata": {
    "ExecuteTime": {
     "end_time": "2019-01-09T01:15:18.745376Z",
     "start_time": "2019-01-09T01:15:18.689840Z"
    }
   },
   "outputs": [],
   "source": [
    "shot_scale_labels = ['extreme_long', 'long', 'medium_long', 'medium', 'medium_close_up',\n",
    "             'close_up', 'extreme_close_up']\n",
    "\n",
    "# Compute normalized shot durations for each category of shot\n",
    "def compute_shot_scale_normalized_duration(shots_with_scale, gender_label):\n",
    "    scale_proportions = {label: [] for label in shot_scale_labels}\n",
    "    \n",
    "    average_shot_duration_data = 0.\n",
    "    total_videos = 0.\n",
    "    \n",
    "    for video_id in shots_with_scale.get_allintervals():\n",
    "        scale_proportions_for_video = {label: [] for label in shot_scale_labels}\n",
    "        avg_shot_durations_for_video = []\n",
    "        \n",
    "        shots_in_video = shots_with_scale.get_intervallist(video_id)\n",
    "        \n",
    "        video = Video.objects.get(id=video_id)\n",
    "        \n",
    "        for intrvl in shots_in_video.get_intervals():\n",
    "            if intrvl.get_payload()['gender'] == gender_label:\n",
    "                if intrvl.get_payload()['scale'] not in shot_scale_labels:\n",
    "                    continue\n",
    "                scale_proportions_for_video[intrvl.get_payload()['scale']].append(\n",
    "                    intrvl.get_end()-intrvl.get_start()\n",
    "                )\n",
    "            avg_shot_durations_for_video.append(intrvl.get_end() - intrvl.get_start())\n",
    "        \n",
    "        avg_shot_duration_for_video = np.mean(avg_shot_durations_for_video)\n",
    "        \n",
    "        for label in shot_scale_labels:\n",
    "            if len(scale_proportions_for_video[label]) > 0:\n",
    "                scale_proportions[label].append(\n",
    "                    np.mean(scale_proportions_for_video[label]) / avg_shot_duration_for_video\n",
    "                )\n",
    "        \n",
    "        average_shot_duration_data += avg_shot_duration_for_video / video.fps\n",
    "        total_videos += 1\n",
    "    \n",
    "    average_shot_duration_data /= total_videos\n",
    "    \n",
    "    normalized_proportions = [\n",
    "        np.mean(scale_proportions[label]) * average_shot_duration_data\n",
    "        for label in shot_scale_labels\n",
    "    ]\n",
    "    \n",
    "    return normalized_proportions"
   ]
  },
  {
   "cell_type": "code",
   "execution_count": 88,
   "metadata": {
    "ExecuteTime": {
     "end_time": "2019-01-09T01:12:48.014295Z",
     "start_time": "2019-01-09T01:12:47.978967Z"
    }
   },
   "outputs": [],
   "source": [
    "def plot_duration_per_shot_scale(shot_scale_labels, shot_scale_distributions,\n",
    "                                  distribution_labels, title):\n",
    "    fig, ax = plt.subplots(figsize=(10, 5))\n",
    "    for distribution, label in zip(shot_scale_distributions, distribution_labels):\n",
    "        x = range(0, len(shot_scale_labels))\n",
    "        y = distribution\n",
    "        ax.plot(x, y, label=label)\n",
    "        \n",
    "        ax.legend()\n",
    "        \n",
    "    ax.set_xlabel('Shot scale')\n",
    "    ax.set_ylabel('Average duration (s)')\n",
    "    ax.set_title(title)\n",
    "    \n",
    "    plt.xticks(x, shot_scale_labels)\n",
    "    \n",
    "    plt.show()"
   ]
  },
  {
   "cell_type": "code",
   "execution_count": 100,
   "metadata": {
    "ExecuteTime": {
     "end_time": "2019-01-09T01:15:24.498930Z",
     "start_time": "2019-01-09T01:15:22.424221Z"
    }
   },
   "outputs": [],
   "source": [
    "shot_scale_durations_male = compute_shot_scale_normalized_duration(shots_with_scale_and_gender, 'M')"
   ]
  },
  {
   "cell_type": "code",
   "execution_count": 101,
   "metadata": {
    "ExecuteTime": {
     "end_time": "2019-01-09T01:15:26.295362Z",
     "start_time": "2019-01-09T01:15:24.501814Z"
    }
   },
   "outputs": [],
   "source": [
    "shot_scale_durations_female = compute_shot_scale_normalized_duration(shots_with_scale_and_gender, 'F')"
   ]
  },
  {
   "cell_type": "code",
   "execution_count": 103,
   "metadata": {
    "ExecuteTime": {
     "end_time": "2019-01-09T01:15:58.336096Z",
     "start_time": "2019-01-09T01:15:58.118772Z"
    }
   },
   "outputs": [
    {
     "data": {
      "image/png": "[encoded data removed]",
      "text/plain": [
       "<matplotlib.figure.Figure at 0x7f0e2889f978>"
      ]
     },
     "metadata": {
      "needs_background": "light"
     },
     "output_type": "display_data"
    }
   ],
   "source": [
    "plot_duration_per_shot_scale(\n",
    "    shot_scale_labels,\n",
    "    [shot_scale_durations_male, shot_scale_durations_female],\n",
    "    ['Male', 'Female'],\n",
    "    'Average shot scale duration for male/female shots vs. shot scale'\n",
    ")"
   ]
  },
  {
   "cell_type": "code",
   "execution_count": 104,
   "metadata": {
    "ExecuteTime": {
     "end_time": "2019-01-09T01:19:09.829109Z",
     "start_time": "2019-01-09T01:19:09.789325Z"
    }
   },
   "outputs": [],
   "source": [
    "def distribution_of_shot_scales(frames_with_shot_scale, gender_label):\n",
    "    labels = ['extreme_long', 'long', 'medium_long', 'medium', 'medium_close_up',\n",
    "             'close_up', 'extreme_close_up']\n",
    "    \n",
    "    shot_scale_proportions = {\n",
    "        label: 0. for label in labels\n",
    "    }\n",
    "    total_videos = 0.\n",
    "    \n",
    "    for video_id in list(frames_with_shot_scale.get_allintervals().keys()):\n",
    "        counts_for_video = {\n",
    "            label: 0. for label in shot_scale_proportions\n",
    "        }\n",
    "        total_frames = 0.\n",
    "        for intrvl in frames_with_shot_scale.get_intervallist(video_id).get_intervals():\n",
    "            shot_scale = intrvl.payload['scale']\n",
    "            if shot_scale not in labels:\n",
    "                continue\n",
    "            if intrvl.payload['gender'] == gender_label:\n",
    "                counts_for_video[shot_scale] += 1\n",
    "            total_frames += 1\n",
    "        for label in counts_for_video:\n",
    "            shot_scale_proportions[label] += counts_for_video[label] / total_frames\n",
    "        total_videos += 1\n",
    "    \n",
    "    return labels, [shot_scale_proportions[label] / total_videos for label in labels]"
   ]
  },
  {
   "cell_type": "code",
   "execution_count": 105,
   "metadata": {
    "ExecuteTime": {
     "end_time": "2019-01-09T01:19:20.652194Z",
     "start_time": "2019-01-09T01:19:20.618563Z"
    }
   },
   "outputs": [],
   "source": [
    "def graph_shot_scale_distribution(shot_scale_labels, shot_scale_distributions,\n",
    "                                               distribution_labels, title):\n",
    "    fig, ax = plt.subplots(figsize=(10, 5))\n",
    "    for distribution, label in zip(shot_scale_distributions, distribution_labels):\n",
    "        x = range(0, len(shot_scale_labels))\n",
    "        y = distribution\n",
    "        ax.plot(x, y, label=label)\n",
    "        \n",
    "        ax.legend()\n",
    "        \n",
    "    ax.set_xlabel('Shot scale')\n",
    "    ax.set_ylabel('Proportion of frames')\n",
    "    ax.set_title(title)\n",
    "    \n",
    "    plt.xticks(x, shot_scale_labels)\n",
    "    \n",
    "    plt.show()"
   ]
  },
  {
   "cell_type": "code",
   "execution_count": 108,
   "metadata": {
    "ExecuteTime": {
     "end_time": "2019-01-09T01:20:14.786265Z",
     "start_time": "2019-01-09T01:20:14.408120Z"
    }
   },
   "outputs": [],
   "source": [
    "_, shot_scale_distribution_all_videos_male = distribution_of_shot_scales(shots_with_scale_and_gender, 'M')"
   ]
  },
  {
   "cell_type": "code",
   "execution_count": 109,
   "metadata": {
    "ExecuteTime": {
     "end_time": "2019-01-09T01:20:22.172078Z",
     "start_time": "2019-01-09T01:20:21.840471Z"
    }
   },
   "outputs": [],
   "source": [
    "_, shot_scale_distribution_all_videos_female = distribution_of_shot_scales(shots_with_scale_and_gender, 'F')"
   ]
  },
  {
   "cell_type": "code",
   "execution_count": 111,
   "metadata": {
    "ExecuteTime": {
     "end_time": "2019-01-09T01:38:42.494427Z",
     "start_time": "2019-01-09T01:38:42.286900Z"
    }
   },
   "outputs": [
    {
     "data": {
      "image/png": "[encoded data removed]",
      "text/plain": [
       "<matplotlib.figure.Figure at 0x7f0ca82a00b8>"
      ]
     },
     "metadata": {
      "needs_background": "light"
     },
     "output_type": "display_data"
    }
   ],
   "source": [
    "graph_shot_scale_distribution(\n",
    "    shot_scale_labels,\n",
    "    [shot_scale_distribution_all_videos_male, shot_scale_distribution_all_videos_female],\n",
    "    ['Male', 'Female'],\n",
    "    'Shot scale distributions '\n",
    ")"
   ]
  }
 ],
 "metadata": {
  "kernelspec": {
   "display_name": "Django Shell-Plus",
   "language": "python",
   "name": "django_extensions"
  },
  "language_info": {
   "codemirror_mode": {
    "name": "ipython",
    "version": 3
   },
   "file_extension": ".py",
   "mimetype": "text/x-python",
   "name": "python",
   "nbconvert_exporter": "python",
   "pygments_lexer": "ipython3",
   "version": "3.5.2"
  },
  "toc": {
   "nav_menu": {},
   "number_sections": true,
   "sideBar": true,
   "skip_h1_title": false,
   "toc_cell": true,
   "toc_position": {},
   "toc_section_display": "block",
   "toc_window_display": false
  }
 },
 "nbformat": 4,
 "nbformat_minor": 2
}
