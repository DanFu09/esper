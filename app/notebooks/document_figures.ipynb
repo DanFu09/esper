{
 "cells": [
  {
   "cell_type": "markdown",
   "metadata": {
    "toc": true
   },
   "source": [
    "<h1>Table of Contents<span class=\"tocSkip\"></span></h1>\n",
    "<div class=\"toc\" style=\"margin-top: 1em;\"><ul class=\"toc-item\"><li><span><a href=\"#Video-Numbers\" data-toc-modified-id=\"Video-Numbers-1\"><span class=\"toc-item-num\">1&nbsp;&nbsp;</span>Video Numbers</a></span></li><li><span><a href=\"#Gender-Balance\" data-toc-modified-id=\"Gender-Balance-2\"><span class=\"toc-item-num\">2&nbsp;&nbsp;</span>Gender Balance</a></span><ul class=\"toc-item\"><li><span><a href=\"#Face-Size\" data-toc-modified-id=\"Face-Size-2.1\"><span class=\"toc-item-num\">2.1&nbsp;&nbsp;</span>Face Size</a></span></li></ul></li><li><span><a href=\"#Donald-Trump-and-Hillary-Clinton\" data-toc-modified-id=\"Donald-Trump-and-Hillary-Clinton-3\"><span class=\"toc-item-num\">3&nbsp;&nbsp;</span>Donald Trump and Hillary Clinton</a></span></li><li><span><a href=\"#James-Comey\" data-toc-modified-id=\"James-Comey-4\"><span class=\"toc-item-num\">4&nbsp;&nbsp;</span>James Comey</a></span></li><li><span><a href=\"#Shootings\" data-toc-modified-id=\"Shootings-5\"><span class=\"toc-item-num\">5&nbsp;&nbsp;</span>Shootings</a></span></li></ul></div>"
   ]
  },
  {
   "cell_type": "code",
   "execution_count": null,
   "metadata": {
    "ExecuteTime": {
     "end_time": "2018-10-03T12:37:57.756996Z",
     "start_time": "2018-10-03T12:37:57.720391Z"
    }
   },
   "outputs": [],
   "source": [
    "from esper.stdlib import *\n",
    "from esper.prelude import *\n",
    "from esper.spark_util import *\n",
    "from esper.validation import *\n",
    "from esper.plot_util import plot_binary_proportion_comparison, plot_binary_screentime_proportion_comparison, \\\n",
    "    tile_images, plot_bar_chart, plot_time_series\n",
    "from esper.spark_identity import get_screen_time_by_canonical_show_spark\n",
    "from esper.identity_clusters import identity_clustering_workflow\n",
    "from esper.major_canonical_shows import MAJOR_CANONICAL_SHOWS\n",
    "from datetime import timedelta, datetime\n",
    "from collections import OrderedDict\n",
    "import random"
   ]
  },
  {
   "cell_type": "markdown",
   "metadata": {},
   "source": [
    "# Video Numbers"
   ]
  },
  {
   "cell_type": "code",
   "execution_count": null,
   "metadata": {
    "ExecuteTime": {
     "end_time": "2018-10-03T11:16:48.091901Z",
     "start_time": "2018-10-03T11:16:47.380405Z"
    }
   },
   "outputs": [],
   "source": [
    "videos = get_videos()\n",
    "print('Total seconds of 3 years data')\n",
    "videos.where(videos.threeyears_dataset == True).select('duration').groupBy().sum().collect()"
   ]
  },
  {
   "cell_type": "markdown",
   "metadata": {},
   "source": [
    "# Gender Balance"
   ]
  },
  {
   "cell_type": "code",
   "execution_count": null,
   "metadata": {
    "ExecuteTime": {
     "end_time": "2018-10-02T21:43:57.713973Z",
     "start_time": "2018-10-02T21:40:42.655664Z"
    }
   },
   "outputs": [],
   "source": [
    "faces = get_faces()\n",
    "face_genders = get_face_genders()\n",
    "# speakers = get_speakers()"
   ]
  },
  {
   "cell_type": "code",
   "execution_count": null,
   "metadata": {
    "ExecuteTime": {
     "end_time": "2018-10-02T21:49:43.288198Z",
     "start_time": "2018-10-02T21:43:57.728288Z"
    }
   },
   "outputs": [],
   "source": [
    "face_genders_nh = face_genders.where(face_genders.host_probability < 0.5)\n",
    "screen_time_male, screen_time_female = OrderedDict(), OrderedDict()\n",
    "screen_time_nh_male, screen_time_nh_female = OrderedDict(), OrderedDict()\n",
    "screen_time_male['All Channels'] = sum_over_column(\n",
    "    face_genders, 'duration', probability_column='male_probability'\n",
    ")\n",
    "screen_time_female['All Channels'] = sum_over_column(\n",
    "    face_genders, 'duration', probability_column='female_probability'\n",
    ")\n",
    "screen_time_nh_male['All Channels'] = sum_over_column(\n",
    "    face_genders_nh, 'duration', probability_column='male_probability'\n",
    ")\n",
    "screen_time_nh_female['All Channels'] = sum_over_column(\n",
    "    face_genders_nh, 'duration', probability_column='female_probability'\n",
    ")\n",
    "channel_id_map = {c.id : c.name for c in Channel.objects.all()}\n",
    "for k, v in sum_over_column(face_genders, 'duration', ['channel_id'], probability_column='male_probability').items():\n",
    "    screen_time_male[channel_id_map[k[0]]] = v\n",
    "for k, v in sum_over_column(face_genders, 'duration', ['channel_id'], probability_column='female_probability').items():\n",
    "    screen_time_female[channel_id_map[k[0]]] = v\n",
    "for k, v in sum_over_column(face_genders_nh, 'duration', ['channel_id'], probability_column='male_probability').items():\n",
    "    screen_time_nh_male[channel_id_map[k[0]]] = v\n",
    "for k, v in sum_over_column(face_genders_nh, 'duration', ['channel_id'], probability_column='female_probability').items():\n",
    "    screen_time_nh_female[channel_id_map[k[0]]] = v"
   ]
  },
  {
   "cell_type": "code",
   "execution_count": null,
   "metadata": {
    "ExecuteTime": {
     "end_time": "2018-10-02T21:49:43.329302Z",
     "start_time": "2018-10-02T21:49:43.291655Z"
    }
   },
   "outputs": [],
   "source": [
    "# speaking_time_male, speaking_time_female = OrderedDict(), OrderedDict()\n",
    "\n",
    "# gender_id_map = {g.id : g.name for g in Gender.objects.all()}\n",
    "# for x in speakers.groupBy('gender_id').sum('duration').collect():\n",
    "#     gender_id = x['gender_id']\n",
    "#     value = x['sum(duration)'] \n",
    "#     if gender_id_map[gender_id] == 'M':\n",
    "#         speaking_time_male['All Channels'] = (value, 0)\n",
    "#     elif gender_id_map[gender_id] == 'F': \n",
    "#         speaking_time_female['All Channels'] = (value, 0)\n",
    "\n",
    "# channel_id_map = {c.id : c.name for c in Channel.objects.all()}\n",
    "# for x in speakers.groupBy('gender_id', 'channel_id').sum('duration').collect():\n",
    "#     channel_id, gender_id = x['channel_id'], x['gender_id']\n",
    "#     value = x['sum(duration)'] \n",
    "#     if gender_id_map[gender_id] == 'M':\n",
    "#         speaking_time_male[channel_id_map[channel_id]] = (value, 0)\n",
    "#     elif gender_id_map[gender_id] == 'F': \n",
    "#         speaking_time_female[channel_id_map[channel_id]] = (value, 0)"
   ]
  },
  {
   "cell_type": "code",
   "execution_count": null,
   "metadata": {
    "ExecuteTime": {
     "end_time": "2018-10-02T21:49:43.830458Z",
     "start_time": "2018-10-02T21:49:43.331809Z"
    },
    "scrolled": false
   },
   "outputs": [],
   "source": [
    "sort_order = ['All Channels'] + [c.name for c in Channel.objects.all().order_by('name')]\n",
    "plot_binary_proportion_comparison(\n",
    "    ['Male', 'Female'], [screen_time_male, screen_time_female],\n",
    "    '', '', 'Proportion of Screen Time',\n",
    "    raw_data_to_label_fn=None, figsize=(5,5), sort_order=sort_order,\n",
    "    legend_loc=4,\n",
    "    save_path='figures/gender-3y-screen-time.pdf'\n",
    ")\n",
    "plot_binary_proportion_comparison(\n",
    "    ['Male', 'Female'], [screen_time_nh_male, screen_time_nh_female],\n",
    "    '', '', 'Proportion of Screen Time (Excluding Hosts)',\n",
    "    raw_data_to_label_fn=None, figsize=(5,5), sort_order=sort_order,\n",
    "    legend_loc=4,\n",
    "    save_path='figures/gender-3y-screen-time-no-host.pdf'\n",
    ")\n",
    "# plot_binary_proportion_comparison(\n",
    "#     ['Male', 'Female'], [speaking_time_male, speaking_time_female],\n",
    "#     '', '', 'Proportion of Speaking Time',\n",
    "#     raw_data_to_label_fn=None, figsize=(5,5), sort_order=sort_order,\n",
    "#     legend_loc=4,\n",
    "#     save_path='figures/gender-3y-speaking-time.pdf'\n",
    "# )"
   ]
  },
  {
   "cell_type": "code",
   "execution_count": null,
   "metadata": {
    "ExecuteTime": {
     "end_time": "2018-10-02T21:50:51.469075Z",
     "start_time": "2018-10-02T21:49:43.833091Z"
    }
   },
   "outputs": [],
   "source": [
    "canonical_show_map = {c.id : c.name for c in CanonicalShow.objects.all() if c.name in MAJOR_CANONICAL_SHOWS}\n",
    "screen_time_male_by_show, screen_time_female_by_show = {}, {}\n",
    "for k, v in sum_over_column(face_genders, 'duration', ['canonical_show_id'],\n",
    "                            probability_column='male_probability').items():\n",
    "    if k[0] in canonical_show_map:\n",
    "        screen_time_male_by_show[canonical_show_map[k[0]]] = v\n",
    "for k, v in sum_over_column(face_genders, 'duration', ['canonical_show_id'], \n",
    "                            probability_column='female_probability').items():\n",
    "    if k[0] in canonical_show_map:\n",
    "        screen_time_female_by_show[canonical_show_map[k[0]]] = v"
   ]
  },
  {
   "cell_type": "code",
   "execution_count": null,
   "metadata": {
    "ExecuteTime": {
     "end_time": "2018-10-02T21:50:52.378160Z",
     "start_time": "2018-10-02T21:50:51.471653Z"
    },
    "scrolled": false
   },
   "outputs": [],
   "source": [
    "plot_binary_proportion_comparison(\n",
    "    ['Male', 'Female'], [screen_time_male_by_show, screen_time_female_by_show],\n",
    "    'Gender Distribution of Screen Time vs. Show', '', 'Proportion of Screen Time',\n",
    "    raw_data_to_label_fn=None, legend_loc=4,\n",
    "    baseline_series_names=[\n",
    "        'Baseline Male (Entire Dataset)', \n",
    "        'Baseline Female (Entire Dataset)'\n",
    "    ],\n",
    "    baseline_data=[\n",
    "        screen_time_male['All Channels'][0],\n",
    "        screen_time_female['All Channels'][0]\n",
    "    ],\n",
    "    save_path='figures/gender-3y-screen-time-by-show.pdf'\n",
    ")"
   ]
  },
  {
   "cell_type": "code",
   "execution_count": null,
   "metadata": {
    "ExecuteTime": {
     "end_time": "2018-10-02T22:05:22.512729Z",
     "start_time": "2018-10-02T21:55:28.274039Z"
    }
   },
   "outputs": [],
   "source": [
    "show_order = [\n",
    "    (k, screen_time_male_by_show[k][0]/screen_time_female_by_show[k][0]) \n",
    "    for k in screen_time_male_by_show\n",
    "]\n",
    "show_order.sort(key=lambda x: x[1])\n",
    "canonical_show_rmap = { v : k for k, v in canonical_show_map.items()}\n",
    "def face_img(face):\n",
    "    return crop(load_frame(face.person.frame.video, face.person.frame.number, []), face)\n",
    "def get_face_for_show(canonical_show_name, n_samples=10, dim=(100, 100)):\n",
    "    print('Loading host faces:', canonical_show_name, \n",
    "          [x.name for x in CanonicalShow.objects.filter(name=canonical_show_name)[0].hosts.all()])\n",
    "    host_faces = faces.where(\n",
    "        (faces.canonical_show_id == canonical_show_rmap[canonical_show_name]) &\n",
    "        (faces.host_probability >= 0.9)\n",
    "    ).sample(0.1, False).select('id').limit(n_samples)\n",
    "    host_face_ids = [h['id'] for h in host_faces.collect()]\n",
    "    host_face_imgs = par_for(face_img, list(Face.objects.filter(id__in=host_face_ids)), progress=False)\n",
    "    host_face_imgs = [cv2.resize(im, dim) for im in host_face_imgs]\n",
    "    mean_host_im = np.zeros(host_face_imgs[0].shape)\n",
    "    for im in host_face_imgs:\n",
    "        mean_host_im += im\n",
    "    mean_host_im /= len(host_face_imgs)\n",
    "    mean_host_im = mean_host_im.astype(np.uint8)\n",
    "    return mean_host_im\n",
    "# show_imgs = [get_face_for_show(x[0]) for x in show_order]\n",
    "show_imgs = par_for(get_face_for_show, [x[0] for x in show_order], workers=4)"
   ]
  },
  {
   "cell_type": "code",
   "execution_count": null,
   "metadata": {
    "ExecuteTime": {
     "end_time": "2018-10-02T22:05:23.002032Z",
     "start_time": "2018-10-02T22:05:22.515411Z"
    },
    "scrolled": true
   },
   "outputs": [],
   "source": [
    "assert len(show_order) == len(show_imgs)\n",
    "host_montage_img = np.hstack(show_imgs) \n",
    "plt.imsave('figures/show-host-avgs.jpg', cv2.cvtColor(host_montage_img, cv2.COLOR_RGB2BGR))\n",
    "imshow(host_montage_img)\n",
    "plt.show()"
   ]
  },
  {
   "cell_type": "code",
   "execution_count": null,
   "metadata": {
    "ExecuteTime": {
     "end_time": "2018-10-02T22:07:05.232441Z",
     "start_time": "2018-10-02T22:05:23.004560Z"
    }
   },
   "outputs": [],
   "source": [
    "screen_time_nh_male_by_show, screen_time_nh_female_by_show = {}, {}\n",
    "for k, v in sum_over_column(face_genders_nh, 'duration', ['canonical_show_id'],\n",
    "                            probability_column='male_probability').items():\n",
    "    if k[0] in canonical_show_map:\n",
    "        screen_time_nh_male_by_show[canonical_show_map[k[0]]] = v\n",
    "for k, v in sum_over_column(face_genders_nh, 'duration', ['canonical_show_id'], \n",
    "                            probability_column='female_probability').items():\n",
    "    if k[0] in canonical_show_map:\n",
    "        screen_time_nh_female_by_show[canonical_show_map[k[0]]] = v"
   ]
  },
  {
   "cell_type": "code",
   "execution_count": null,
   "metadata": {
    "ExecuteTime": {
     "end_time": "2018-10-02T22:07:06.112591Z",
     "start_time": "2018-10-02T22:07:05.235136Z"
    }
   },
   "outputs": [],
   "source": [
    "plot_binary_proportion_comparison(\n",
    "    ['Male (Excl. Hosts)', 'Female (Excl. Hosts)'], [screen_time_nh_male_by_show, screen_time_nh_female_by_show],\n",
    "    'Gender Distribution of Screen Time (Excluding Hosts) vs. Show', '', 'Proportion of Screen Time',\n",
    "    tertiary_series_names=['Male (Incl. Hosts)', 'Female (Incl. Hosts)'],\n",
    "    tertiary_data=[screen_time_male_by_show, screen_time_female_by_show],\n",
    "#     baseline_data=[\n",
    "#         screen_time_male['All Channels'][0],\n",
    "#         screen_time_female['All Channels'][0]\n",
    "#     ],\n",
    "#     baseline_series_names=[\n",
    "#         'Baseline Male (Entire Dataset)', \n",
    "#         'Baseline Female (Entire Dataset)'\n",
    "#     ],\n",
    "    raw_data_to_label_fn=None, legend_loc=4,\n",
    "    save_path='figures/gender-3y-screen-time-by-show-no-host.pdf'\n",
    ")"
   ]
  },
  {
   "cell_type": "code",
   "execution_count": null,
   "metadata": {
    "ExecuteTime": {
     "end_time": "2018-10-02T22:07:06.149023Z",
     "start_time": "2018-10-02T22:07:06.115421Z"
    }
   },
   "outputs": [],
   "source": [
    "# speaking_time_male_by_show, speaking_time_female_by_show = {}, {}\n",
    "# gender_id_map = {g.id : g.name for g in Gender.objects.all()}\n",
    "# for x in speakers.groupBy('gender_id', 'canonical_show_id').sum('duration').collect():\n",
    "#     canonical_show_id, gender_id = x['canonical_show_id'], x['gender_id']\n",
    "#     value = x['sum(duration)'] \n",
    "#     if canonical_show_id in canonical_show_map:\n",
    "#         if gender_id_map[gender_id] == 'M':\n",
    "#             speaking_time_male_by_show[canonical_show_map[canonical_show_id]] = (value, 0)\n",
    "#         elif gender_id_map[gender_id] == 'F': \n",
    "#             speaking_time_female_by_show[canonical_show_map[canonical_show_id]] = (value, 0)"
   ]
  },
  {
   "cell_type": "code",
   "execution_count": null,
   "metadata": {
    "ExecuteTime": {
     "end_time": "2018-10-02T22:07:06.186520Z",
     "start_time": "2018-10-02T22:07:06.151971Z"
    }
   },
   "outputs": [],
   "source": [
    "# plot_binary_proportion_comparison(\n",
    "#     ['Male (Speaking Time)', 'Female (Speaking Time)'], [speaking_time_male_by_show, speaking_time_female_by_show],\n",
    "#     'Gender Distribution of Speaking Time vs. Show', '', \n",
    "#     'Proportion of Speaking Time',\n",
    "#     tertiary_series_names=['Male (Screen Time)', 'Female (Screen Time)'],\n",
    "#     tertiary_data=[screen_time_male_by_show, screen_time_female_by_show],\n",
    "#     raw_data_to_label_fn=None, legend_loc=4,\n",
    "#     save_path='figures/gender-3y-speaking-time-by-show.pdf'\n",
    "# )"
   ]
  },
  {
   "cell_type": "code",
   "execution_count": null,
   "metadata": {
    "ExecuteTime": {
     "end_time": "2018-10-02T22:07:06.347055Z",
     "start_time": "2018-10-02T22:07:06.189109Z"
    },
    "hide_input": true
   },
   "outputs": [],
   "source": [
    "topic_to_male_screentime, topic_to_female_screentime = ({'abortion': (518294.8301809259, 298815.40602040046),\n",
    "  'asthma': (339359.0225043069, 83964.431388244),\n",
    "  'autism': (27679.673446264405, 13107.08559609269),\n",
    "  'billy bush': (101162.10326908741, 32683.306271344332),\n",
    "  'black lives': (422790.7060048257, 239574.11285279744),\n",
    "  'border wall': (790434.1866875102, 349148.14352520194),\n",
    "  'charleston church': (111839.93039077295, 59441.16777088708),\n",
    "  'charlie hebdo': (664279.8498326603, 316250.8262504142),\n",
    "  'collusion': (1883202.7915484093, 702020.2183103692),\n",
    "  'email scandal': (489111.91803879297, 244568.81745981754),\n",
    "  'facebook': (207257.28808802023, 66669.78404600148),\n",
    "  'fashion': (12073.615677556301, 4569.36211837889),\n",
    "  'flu': (981581.2873386245, 260143.71532067092),\n",
    "  'gay marriage': (445052.66437707335, 222697.5446355079),\n",
    "  'global warming': (176237.54147089276, 66528.90981610242),\n",
    "  'harassment': (951201.1457089252, 398445.83589243225),\n",
    "  'healthcare': (445370.4566424923, 215268.4113285826),\n",
    "  'immigration': (956091.5229206171, 374548.43553251063),\n",
    "  'irs': (332584.19550720387, 132787.31971463218),\n",
    "  'isis': (2866859.4547577044, 1051335.1956239496),\n",
    "  'lgbt': (148333.08406840145, 110610.45807212126),\n",
    "  'nutrition': (628045.8830887104, 185545.78221704502),\n",
    "  'paris attacks': (148227.55932958846, 52373.97777546179),\n",
    "  'paris climate': (268291.2096124075, 102148.83588868032),\n",
    "  'planned parenthood': (353526.37934005586, 204356.7247447404),\n",
    "  'preschool': (153.00593562841277, 63.89683154229696),\n",
    "  'public transportation': (1679.6862711204346, 409.727894334501),\n",
    "  'pulse nightclub': (164350.70266352687, 79156.20542516006),\n",
    "  'refugee': (626117.5072668382, 299180.83991466195),\n",
    "  'roy moore': (1212925.1526060633, 499823.0925165218),\n",
    "  'russia': (1564083.5109740235, 576207.0672263282),\n",
    "  'san bernardino': (550743.7456960728, 301999.6689024732),\n",
    "  'school': (1096258.8891856289, 802791.9080621441),\n",
    "  'shooting': (1944700.2649337302, 1301799.5821853601),\n",
    "  'syria': (2529187.136078459, 953596.1678198774),\n",
    "  'terrorism': (315358.44025278196, 235902.7938372964),\n",
    "  'travel': (276649.8170080849, 87448.70633821092),\n",
    "  'travel ban': (1225879.3096513962, 511255.4354447183),\n",
    "  'trayvon martin': (118247.72912627066, 47049.936429644426),\n",
    "  'vacation': (130426.90833713741, 31574.75246438502),\n",
    "  'vegas shooter': (179437.5703041849, 88900.48992088546),\n",
    "  'walter scott': (1177897.8184054664, 701703.5025185598),\n",
    "  'wedding': (96797.98378302893, 31697.39640199462),\n",
    "  'yoga': (125075.1809051474, 48030.61142450444)},\n",
    " {'abortion': (394137.7796622501, 298815.40602040046),\n",
    "  'asthma': (208911.96254740923, 83964.431388244),\n",
    "  'autism': (14950.859419935132, 13107.08559609269),\n",
    "  'billy bush': (55367.25108526693, 32683.306271344332),\n",
    "  'black lives': (212890.4334346132, 239574.11285279744),\n",
    "  'border wall': (325678.33149734064, 349148.14352520194),\n",
    "  'charleston church': (61331.51772400852, 59441.16777088708),\n",
    "  'charlie hebdo': (296120.4230068453, 316250.8262504142),\n",
    "  'collusion': (680603.7657088493, 702020.2183103692),\n",
    "  'email scandal': (320724.8044169953, 244568.81745981754),\n",
    "  'facebook': (124714.53346686772, 66669.78404600148),\n",
    "  'fashion': (8531.399337458719, 4569.36211837889),\n",
    "  'flu': (594491.6604091169, 260143.71532067092),\n",
    "  'gay marriage': (218912.6439312347, 222697.5446355079),\n",
    "  'global warming': (72682.40917975792, 66528.90981610242),\n",
    "  'harassment': (710866.3959327155, 398445.83589243225),\n",
    "  'healthcare': (243335.22283698624, 215268.4113285826),\n",
    "  'immigration': (448896.932901871, 374548.43553251063),\n",
    "  'irs': (145823.0120336703, 132787.31971463218),\n",
    "  'isis': (1195396.1967271124, 1051335.1956239496),\n",
    "  'lgbt': (80428.90558792154, 110610.45807212126),\n",
    "  'nutrition': (409477.65571675915, 185545.78221704502),\n",
    "  'paris attacks': (61736.90880521267, 52373.97777546179),\n",
    "  'paris climate': (109756.92522242744, 102148.83588868032),\n",
    "  'planned parenthood': (282592.4308367877, 204356.7247447404),\n",
    "  'preschool': (119.4682051790624, 63.89683154229696),\n",
    "  'public transportation': (890.4835653827256, 409.727894334501),\n",
    "  'pulse nightclub': (83570.31802382709, 79156.20542516006),\n",
    "  'refugee': (287557.25836546073, 299180.83991466195),\n",
    "  'roy moore': (698018.300413622, 499823.0925165218),\n",
    "  'russia': (604499.5506876372, 576207.0672263282),\n",
    "  'san bernardino': (250488.22734363307, 301999.6689024732),\n",
    "  'school': (700394.4628330563, 802791.9080621441),\n",
    "  'shooting': (895033.9286932275, 1301799.5821853601),\n",
    "  'syria': (1023902.3067643837, 953596.1678198774),\n",
    "  'terrorism': (112485.19605018759, 235902.7938372964),\n",
    "  'travel': (154149.9636392286, 87448.70633821092),\n",
    "  'travel ban': (583350.5388637857, 511255.4354447183),\n",
    "  'trayvon martin': (60963.2658353575, 47049.936429644426),\n",
    "  'vacation': (69082.22125912484, 31574.75246438502),\n",
    "  'vegas shooter': (92242.2866527717, 88900.48992088546),\n",
    "  'walter scott': (549474.6485948666, 701703.5025185598),\n",
    "  'wedding': (54230.675876630434, 31697.39640199462),\n",
    "  'yoga': (80957.50711620713, 48030.61142450444)})"
   ]
  },
  {
   "cell_type": "code",
   "execution_count": null,
   "metadata": {
    "ExecuteTime": {
     "end_time": "2018-10-03T07:52:40.847276Z",
     "start_time": "2018-10-03T07:52:39.197206Z"
    }
   },
   "outputs": [],
   "source": [
    "MIN_TOPIC_SECONDS = 60 * 60\n",
    "\n",
    "def topic_order(a, b):\n",
    "    keys = set()\n",
    "    keys.update(a.keys())\n",
    "    keys.update(b.keys())\n",
    "    kv = []\n",
    "    for key in keys:\n",
    "        a_val = a.get(key, None)\n",
    "        a_val = 1e-12 if a_val is None else a_val[0]\n",
    "        b_val = b.get(key, None)\n",
    "        b_val = 1e-12 if b_val is None else b_val[0]\n",
    "        if a_val + b_val < MIN_TOPIC_SECONDS:\n",
    "            continue\n",
    "        kv.append((key, a_val / (a_val + b_val)))\n",
    "    kv.sort(key=lambda x: x[1])\n",
    "    return [k for k, _ in kv]\n",
    "\n",
    "def sum_screentime(a, b, scale):\n",
    "    result = defaultdict(int)\n",
    "    for k, v in a.items():\n",
    "        result[k] += v[0] / scale\n",
    "    for k, v in b.items():\n",
    "        result[k] += v[0] / scale\n",
    "    return result\n",
    "\n",
    "\n",
    "plot_binary_proportion_comparison(\n",
    "    ['Male', 'Female'], \n",
    "    [topic_to_male_screentime, topic_to_female_screentime],\n",
    "    'Gender Distribution of Screen Time By Topic',\n",
    "    '', #'Topic',\n",
    "    'Proportion of Screen Time',\n",
    "    baseline_series_names=[\n",
    "        'Baseline Male (All Topics)', \n",
    "        'Baseline Female (All Topics)'\n",
    "    ],\n",
    "    baseline_data=[\n",
    "        screen_time_male['All Channels'][0],\n",
    "        screen_time_female['All Channels'][0]\n",
    "    ],\n",
    "    sort_order=topic_order(topic_to_male_screentime, topic_to_female_screentime),\n",
    "    raw_data_to_label_fn=None,\n",
    "    legend_loc=4,\n",
    "    save_path='figures/gender-3y-screen-time-by-topic.pdf'\n",
    ")\n",
    "plot_bar_chart(\n",
    "    ['Male + Female'],\n",
    "    [sum_screentime(topic_to_male_screentime, topic_to_female_screentime, 3600)],\n",
    "    '',\n",
    "    '', 'Coverage (Hours)',\n",
    "    figsize=(14, 3), series_colors=['DarkGray'], logy=True, \n",
    "    show_ebars=False,\n",
    "    sort_order=topic_order(topic_to_male_screentime, topic_to_female_screentime),\n",
    "    save_path='figures/gender-3y-screen-time-by-topic-bar.pdf'\n",
    ")"
   ]
  },
  {
   "cell_type": "code",
   "execution_count": null,
   "metadata": {
    "ExecuteTime": {
     "end_time": "2018-10-02T22:07:07.810236Z",
     "start_time": "2018-10-02T22:07:07.521635Z"
    },
    "hide_input": true
   },
   "outputs": [],
   "source": [
    "topic_to_male_mentions, topic_to_female_mentions = ({'abortion': (11236.252132713795, 382.40713417580355),\n",
    "  'affordable care act': (9022.325020432472, 178.28504708439905),\n",
    "  'aids': (2994.206518113613, 80.62711396996598),\n",
    "  'american health care act': (548.6910315752029, 9.816415056553373),\n",
    "  'autism': (685.6003779172897, 19.605769053409603),\n",
    "  'back to school': (445.91698437929153, 15.036586701108051),\n",
    "  'birth control': (790.9575905799866, 32.12937705150955),\n",
    "  'bombing': (10231.748476147652, 229.1596507367798),\n",
    "  'breast cancer': (492.06045562028885, 22.139430128109463),\n",
    "  'bullying': (2346.1988904476166, 67.76246679085271),\n",
    "  'business': (91257.73589783907, 2072.886070510939),\n",
    "  'cancer': (9490.374693930149, 318.74710125370245),\n",
    "  'cervical cancer': (70.39318698644638, 2.297435426974729),\n",
    "  'children': (47735.92115211487, 1609.6054159668056),\n",
    "  'cholesterol': (246.24713438749313, 9.821888506982539),\n",
    "  'christianity': (1735.81572920084, 39.62376633400151),\n",
    "  'circumcision': (17.202438831329346, 0.8035193532600359),\n",
    "  'congress': (121732.1553336978, 2253.507099359199),\n",
    "  'contraceptive': (157.66393542289734, 5.82611281824118),\n",
    "  'cooking': (1148.379305779934, 41.961463827020744),\n",
    "  'cryptocurrency': (7.937322318553925, 0.06052572306270672),\n",
    "  'diabetes': (1112.9122722148895, 58.72374729423551),\n",
    "  'divorce': (2735.0869675278664, 109.48168286765573),\n",
    "  'drugs': (13366.578389525414, 326.1088055093154),\n",
    "  'erectile dysfunction': (254.83499819040298, 51.33387254796956),\n",
    "  'evangelicals': (4828.962978422642, 108.15808383762996),\n",
    "  'fashion': (7054.989916741848, 156.77042280390162),\n",
    "  'feminism': (468.977885723114, 18.501466772520207),\n",
    "  'harassment': (7634.083441615105, 189.8308387639827),\n",
    "  'hiv': (734.9643259644508, 22.25738581115057),\n",
    "  'hurricane': (15104.720743238926, 322.8347270487651),\n",
    "  'immigration': (62325.57675892115, 1267.2134431873847),\n",
    "  'influenza': (72.6507505774498, 1.772447656163245),\n",
    "  'isis': (128508.38950520754, 2466.1025610262595),\n",
    "  'islam': (17140.667168080807, 339.810690308258),\n",
    "  'lgbt': (2946.194204747677, 82.94918957705578),\n",
    "  'marijuana': (4614.809868454933, 119.50699899956558),\n",
    "  'marriage': (15073.139418661594, 501.26221638148064),\n",
    "  'massage': (393.5154851078987, 12.879459333881503),\n",
    "  'medicine': (3812.5256739854813, 102.60356735899562),\n",
    "  'millenial': (163.8210887312889, 3.597961624162618),\n",
    "  'mom': (12879.210283339024, 549.0580769178864),\n",
    "  'murder': (28123.603552222252, 803.5589044841867),\n",
    "  'national security': (58577.55921572447, 1074.3868943708096),\n",
    "  'nuclear': (60281.08161979914, 1208.832217647058),\n",
    "  'nutrition': (419.5790290236473, 20.9405775310446),\n",
    "  'obamacare': (58588.064242362976, 1065.369007634213),\n",
    "  'obesity': (342.2370947599411, 6.054233961473762),\n",
    "  'opiods': (30.247527480125427, 0.37525487239480065),\n",
    "  'parenting': (403.7154778242111, 14.166476912983285),\n",
    "  'pregnancy': (760.0743358135223, 26.53600939549398),\n",
    "  'prostate cancer': (135.67578560113907, 3.3653219598482544),\n",
    "  'prostitution': (444.2284245491028, 9.917093827082414),\n",
    "  'racism': (10115.139577507973, 220.70818832073974),\n",
    "  'sex education': (8.993772327899935, 0.3695955099834366),\n",
    "  'sexism': (1769.061091542244, 45.874647775469356),\n",
    "  'social security': (6086.034533202648, 122.3461074949366),\n",
    "  'stem': (1172.9344388246536, 26.100557967605553),\n",
    "  'teens': (1628.375369668007, 47.36954342383142),\n",
    "  'terrorism': (41543.62926822901, 725.19879581253),\n",
    "  'trumpcare': (937.4060715436935, 23.588299493523905),\n",
    "  'violence': (39127.363469302654, 921.3077047006511),\n",
    "  'weight loss': (105.67184317111969, 5.434820085540551),\n",
    "  'women': (97541.35803723335, 3141.858557934175)},\n",
    " {'abortion': (8481.747867286205, 382.40713417580355),\n",
    "  'affordable care act': (4258.674979567528, 178.28504708439905),\n",
    "  'aids': (1712.7934818863869, 80.62711396996598),\n",
    "  'american health care act': (197.30896842479706, 9.816415056553373),\n",
    "  'autism': (507.39962208271027, 19.605769053409603),\n",
    "  'back to school': (349.0830156207084, 15.036586701108051),\n",
    "  'birth control': (867.0424094200134, 32.12937705150955),\n",
    "  'bombing': (4642.251523852348, 229.1596507367798),\n",
    "  'breast cancer': (694.9395443797112, 22.139430128109463),\n",
    "  'bullying': (1922.8011095523834, 67.76246679085271),\n",
    "  'business': (50323.26410216093, 2072.886070510939),\n",
    "  'cancer': (6103.625306069851, 318.74710125370245),\n",
    "  'cervical cancer': (64.60681301355362, 2.297435426974729),\n",
    "  'children': (35583.07884788513, 1609.6054159668056),\n",
    "  'cholesterol': (166.75286561250687, 9.821888506982539),\n",
    "  'christianity': (744.18427079916, 39.62376633400151),\n",
    "  'circumcision': (36.797561168670654, 0.8035193532600359),\n",
    "  'congress': (53979.844666302204, 2253.507099359199),\n",
    "  'contraceptive': (169.33606457710266, 5.82611281824118),\n",
    "  'cooking': (913.6206942200661, 41.961463827020744),\n",
    "  'cryptocurrency': (1.062677681446075, 0.06052572306270672),\n",
    "  'diabetes': (824.0877277851105, 58.72374729423551),\n",
    "  'divorce': (1853.9130324721336, 109.48168286765573),\n",
    "  'drugs': (6005.4216104745865, 326.1088055093154),\n",
    "  'erectile dysfunction': (700.165001809597, 51.33387254796956),\n",
    "  'evangelicals': (2247.0370215773582, 108.15808383762996),\n",
    "  'fashion': (3500.010083258152, 156.77042280390162),\n",
    "  'feminism': (676.022114276886, 18.501466772520207),\n",
    "  'harassment': (5656.916558384895, 189.8308387639827),\n",
    "  'hiv': (550.0356740355492, 22.25738581115057),\n",
    "  'hurricane': (8933.279256761074, 322.8347270487651),\n",
    "  'immigration': (30598.423241078854, 1267.2134431873847),\n",
    "  'influenza': (34.3492494225502, 1.772447656163245),\n",
    "  'isis': (58204.61049479246, 2466.1025610262595),\n",
    "  'islam': (6615.332831919193, 339.810690308258),\n",
    "  'lgbt': (1935.8057952523232, 82.94918957705578),\n",
    "  'marijuana': (2183.190131545067, 119.50699899956558),\n",
    "  'marriage': (9189.860581338406, 501.26221638148064),\n",
    "  'massage': (320.4845148921013, 12.879459333881503),\n",
    "  'medicine': (2062.4743260145187, 102.60356735899562),\n",
    "  'millenial': (157.1789112687111, 3.597961624162618),\n",
    "  'mom': (12824.789716660976, 549.0580769178864),\n",
    "  'murder': (14401.396447777748, 803.5589044841867),\n",
    "  'national security': (26564.44078427553, 1074.3868943708096),\n",
    "  'nuclear': (24202.918380200863, 1208.832217647058),\n",
    "  'nutrition': (397.4209709763527, 20.9405775310446),\n",
    "  'obamacare': (24388.935757637024, 1065.369007634213),\n",
    "  'obesity': (228.7629052400589, 6.054233961473762),\n",
    "  'opiods': (9.752472519874573, 0.37525487239480065),\n",
    "  'parenting': (412.2845221757889, 14.166476912983285),\n",
    "  'pregnancy': (826.9256641864777, 26.53600939549398),\n",
    "  'prostate cancer': (49.32421439886093, 3.3653219598482544),\n",
    "  'prostitution': (201.77157545089722, 9.917093827082414),\n",
    "  'racism': (4984.860422492027, 220.70818832073974),\n",
    "  'sex education': (36.00622767210007, 0.3695955099834366),\n",
    "  'sexism': (1756.938908457756, 45.874647775469356),\n",
    "  'social security': (2628.965466797352, 122.3461074949366),\n",
    "  'stem': (680.0655611753464, 26.100557967605553),\n",
    "  'teens': (1158.624630331993, 47.36954342383142),\n",
    "  'terrorism': (16324.370731770992, 725.19879581253),\n",
    "  'trumpcare': (376.59392845630646, 23.588299493523905),\n",
    "  'violence': (20052.636530697346, 921.3077047006511),\n",
    "  'weight loss': (178.3281568288803, 5.434820085540551),\n",
    "  'women': (94146.64196276665, 3141.858557934175)})"
   ]
  },
  {
   "cell_type": "code",
   "execution_count": null,
   "metadata": {
    "ExecuteTime": {
     "end_time": "2018-10-03T07:47:59.619024Z",
     "start_time": "2018-10-03T07:47:57.168702Z"
    }
   },
   "outputs": [],
   "source": [
    "MIN_TOPIC_MENTIONS = 50\n",
    "\n",
    "def topic_order(a, b):\n",
    "    keys = set()\n",
    "    keys.update(a.keys())\n",
    "    keys.update(b.keys())\n",
    "    kv = []\n",
    "    for key in keys:\n",
    "        a_val = a.get(key, None)\n",
    "        a_val = 1e-12 if a_val is None else a_val[0]\n",
    "        b_val = b.get(key, None)\n",
    "        b_val = 1e-12 if b_val is None else b_val[0]\n",
    "        if a_val + b_val < MIN_TOPIC_MENTIONS:\n",
    "            continue\n",
    "        kv.append((key, a_val / (a_val + b_val)))\n",
    "    kv.sort(key=lambda x: x[1])\n",
    "    return [k for k, _ in kv]\n",
    "\n",
    "def sum_mentions(a, b):\n",
    "    result = defaultdict(int)\n",
    "    for k, v in a.items():\n",
    "        result[k] += v[0]\n",
    "    for k, v in b.items():\n",
    "        result[k] += v[0]\n",
    "    return result\n",
    "\n",
    "plot_binary_proportion_comparison(\n",
    "    ['Male', 'Female'], \n",
    "    [topic_to_male_mentions, topic_to_female_mentions],\n",
    "    'On-Screen Gender Distribution By Keyword/Phrase',\n",
    "    '', #'Keyword',\n",
    "    'Proportion of Faces',\n",
    "    legend_loc=4,\n",
    "    raw_data_to_label_fn=None,\n",
    "    baseline_series_names=[\n",
    "        'Baseline Male (All Topics)', \n",
    "        'Baseline Female (All Topics)'\n",
    "    ],\n",
    "    baseline_data=[\n",
    "        screen_time_male['All Channels'][0],\n",
    "        screen_time_female['All Channels'][0]\n",
    "    ],\n",
    "    sort_order=topic_order(topic_to_male_mentions, topic_to_female_mentions),\n",
    "    save_path='figures/gender-3y-mentions-by-topic.pdf'\n",
    ")\n",
    "plot_bar_chart(\n",
    "    ['Male + Female'],\n",
    "    [sum_mentions(topic_to_male_mentions, topic_to_female_mentions)],\n",
    "    '',\n",
    "    '', 'Faces (Count)',\n",
    "    figsize=(14, 3), series_colors=['DarkGray'], logy=True, \n",
    "    show_ebars=False,\n",
    "    sort_order=topic_order(topic_to_male_mentions, topic_to_female_mentions),\n",
    "    save_path='figures/gender-3y-mentions-by-topic-bar.pdf'\n",
    ")"
   ]
  },
  {
   "cell_type": "code",
   "execution_count": null,
   "metadata": {},
   "outputs": [],
   "source": []
  },
  {
   "cell_type": "markdown",
   "metadata": {},
   "source": [
    "## Face Size"
   ]
  },
  {
   "cell_type": "code",
   "execution_count": null,
   "metadata": {
    "ExecuteTime": {
     "end_time": "2018-10-03T01:01:38.924572Z",
     "start_time": "2018-10-03T00:53:50.098462Z"
    }
   },
   "outputs": [],
   "source": [
    "gender_map = { g.id : g.name for g in Gender.objects.all() }\n",
    "def get_gender_face_sizes():\n",
    "    # This touches spark\n",
    "    result = OrderedDict([('M', {}), ('F', {})])\n",
    "    for (gender_id, height), v in count_distinct_over_column(\n",
    "                face_genders.where(face_genders.probability > 0.5),\n",
    "                distinct_columns=[], #['face_id'],\n",
    "                group_by_columns=['gender_id', 'height'],\n",
    "                group_by_key_fn=lambda x: (x[0], math.ceil(x[1] * 100))\n",
    "            ).items():\n",
    "        result[gender_map[gender_id]][height] = v[0]\n",
    "    return result\n",
    "gender_face_size_hists = get_gender_face_sizes()"
   ]
  },
  {
   "cell_type": "code",
   "execution_count": null,
   "metadata": {
    "ExecuteTime": {
     "end_time": "2018-10-03T01:21:47.470101Z",
     "start_time": "2018-10-03T01:21:47.425881Z"
    }
   },
   "outputs": [],
   "source": [
    "def get_normalized_gender_face_sizes(hists):\n",
    "    result = defaultdict(dict)\n",
    "    for gender_name, hist in hists.items():\n",
    "        denom = sum(hist.values())\n",
    "        for k, v in hist.items():\n",
    "            result[gender_name][k] = v / denom\n",
    "    return result\n",
    "norm_gender_face_size_hists = get_normalized_gender_face_sizes(gender_face_size_hists)\n",
    "        \n",
    "def get_cdf_gender_face_sizes(norm_hists):\n",
    "    cdf = defaultdict(dict)\n",
    "    for gender_name, hist in norm_hists.items():\n",
    "        acc = 0.\n",
    "        for k, v in sorted(hist.items(), key=lambda x: x[0]):\n",
    "            cdf[gender_name][k] = acc\n",
    "            acc += v\n",
    "    return cdf\n",
    "cdf_gender_face_size = get_cdf_gender_face_sizes(norm_gender_face_size_hists)"
   ]
  },
  {
   "cell_type": "code",
   "execution_count": null,
   "metadata": {
    "ExecuteTime": {
     "end_time": "2018-10-03T01:30:01.338027Z",
     "start_time": "2018-10-03T01:30:00.850943Z"
    }
   },
   "outputs": [],
   "source": [
    "def plot_curves(curves, title, x_label, y_label,\n",
    "                color_map,\n",
    "                y_lim=None, x_lim=None, figsize=(7, 4),\n",
    "                save_path=None):\n",
    "    fig, ax1 = plt.subplots(figsize=figsize)\n",
    "\n",
    "    for series, values in curves.items():\n",
    "        x = []\n",
    "        y = []\n",
    "        for k in sorted(values):\n",
    "            x.append(k)\n",
    "            y.append(values[k])\n",
    "        ax1.plot(x, y, '-', label=series, \n",
    "                 color=color_map[series])\n",
    "        \n",
    "    ax1.legend()\n",
    "    ax1.set_title(title)\n",
    "    ax1.set_ylabel(y_label)\n",
    "    ax1.set_xlabel(x_label)\n",
    "    if y_lim is not None:\n",
    "        ax1.set_ylim(y_lim)\n",
    "    if x_lim is not None:\n",
    "        ax1.set_xlim(x_lim)\n",
    "    if save_path is None:\n",
    "        plt.show()\n",
    "    else:\n",
    "        plt.tight_layout()\n",
    "        plt.savefig(save_path)\n",
    "\n",
    "def full_gender_name(d):\n",
    "    result = {}\n",
    "    gender_names = {'M': 'Male', 'F': 'Female'}\n",
    "    for k, v in d.items():\n",
    "        result[gender_names[k]] = v\n",
    "    return result\n",
    "        \n",
    "gender_color_map = { 'Male': 'Blue', 'Female': 'Red' }\n",
    "plot_curves(\n",
    "    full_gender_name(norm_gender_face_size_hists), \n",
    "    'Distribution of Face Heights', \n",
    "    'Height (Percentage of Frame)', 'Proportion',\n",
    "    gender_color_map,\n",
    "    save_path='figures/gender-face-height-hist.pdf'\n",
    ")\n",
    "plot_curves(\n",
    "    full_gender_name(cdf_gender_face_size), \n",
    "    'Cumulative Distribution of Face Heights', \n",
    "    'Height (Percentage of Frame)', 'CDF',\n",
    "    gender_color_map,\n",
    "    save_path='figures/gender-face-height-cdf.pdf'\n",
    ")"
   ]
  },
  {
   "cell_type": "code",
   "execution_count": null,
   "metadata": {},
   "outputs": [],
   "source": []
  },
  {
   "cell_type": "markdown",
   "metadata": {},
   "source": [
    "# Donald Trump and Hillary Clinton "
   ]
  },
  {
   "cell_type": "code",
   "execution_count": null,
   "metadata": {
    "ExecuteTime": {
     "end_time": "2018-10-02T18:21:10.130927Z",
     "start_time": "2018-10-02T18:19:37.849562Z"
    }
   },
   "outputs": [],
   "source": [
    "face_identities = get_face_identities()"
   ]
  },
  {
   "cell_type": "code",
   "execution_count": null,
   "metadata": {
    "ExecuteTime": {
     "end_time": "2018-10-02T21:33:39.739256Z",
     "start_time": "2018-10-02T21:33:39.695692Z"
    }
   },
   "outputs": [],
   "source": [
    "trump_clinton_names = ['donald trump', 'hillary clinton']"
   ]
  },
  {
   "cell_type": "code",
   "execution_count": null,
   "metadata": {
    "ExecuteTime": {
     "end_time": "2018-10-02T21:37:10.121582Z",
     "start_time": "2018-10-02T21:33:48.902143Z"
    }
   },
   "outputs": [],
   "source": [
    "channel_id_map = {c.id : c.name for c in Channel.objects.all()}\n",
    "\n",
    "def person_helper(name, date_range):\n",
    "    identity_id = Identity.objects.get(name=name).id\n",
    "    person_identities = face_identities.where( \n",
    "        (face_identities.in_commercial == False) & \n",
    "        (face_identities.probability >= 0.3) &\n",
    "        (face_identities.host_probability < 0.5) &\n",
    "        (face_identities.identity_id == identity_id) &\n",
    "        (face_identities.time >= func.to_date(func.lit(date_range[0]))) & \n",
    "        (face_identities.time < func.to_date(func.lit(date_range[1])))\n",
    "    )\n",
    "    screen_time_person = OrderedDict()\n",
    "    screen_time_person['All Channels'] = sum_over_column(\n",
    "        person_identities, 'duration', probability_column='probability'\n",
    "    )\n",
    "    for k, v in sum_over_column(person_identities, 'duration', ['channel_id'], \n",
    "                                probability_column='probability').items():\n",
    "        screen_time_person[channel_id_map[k[0]]] = v\n",
    "    return screen_time_person\n",
    "\n",
    "trump_clinton_3mo = [person_helper(p, ['2016-08-01', '2016-11-09']) \n",
    "                     for p in trump_clinton_names]\n",
    "trump_clinton_1yr = [person_helper(p, ['2015-11-09', '2016-11-09']) \n",
    "                     for p in trump_clinton_names]"
   ]
  },
  {
   "cell_type": "code",
   "execution_count": null,
   "metadata": {
    "ExecuteTime": {
     "end_time": "2018-10-02T21:51:31.737628Z",
     "start_time": "2018-10-02T21:51:30.923711Z"
    }
   },
   "outputs": [],
   "source": [
    "sort_order = ['All Channels'] + [c.name for c in Channel.objects.all().order_by('name')]\n",
    "plot_binary_proportion_comparison(\n",
    "    trump_clinton_names,\n",
    "    trump_clinton_3mo,\n",
    "    'Aug 1, 2016 to Nov 9, 2016 (3-Month)',\n",
    "    '',\n",
    "    'Proportion of Screen Time',\n",
    "    series_colors=['LightSalmon', 'LightBlue'],\n",
    "    error_colors=['Red', 'Blue'],\n",
    "    legend_loc=4, figsize=(5, 5),\n",
    "    raw_data_to_label_fn=None,\n",
    "    sort_order=sort_order,\n",
    "    save_path='figures/trump-clinton-3mo-ratio.pdf'\n",
    ")\n",
    "plot_binary_proportion_comparison(\n",
    "    trump_clinton_names,\n",
    "    trump_clinton_1yr,\n",
    "    'Nov 9, 2015 to Nov 9, 2016 (1-Year)',\n",
    "    '',\n",
    "    'Proportion of Screen Time',\n",
    "    series_colors=['LightSalmon', 'LightBlue'],\n",
    "    error_colors=['Red', 'Blue'],\n",
    "    legend_loc=4, figsize=(5, 5),\n",
    "    raw_data_to_label_fn=None,\n",
    "    sort_order=sort_order,\n",
    "    save_path='figures/trump-clinton-1yr-ratio.pdf'\n",
    ")"
   ]
  },
  {
   "cell_type": "code",
   "execution_count": null,
   "metadata": {
    "ExecuteTime": {
     "end_time": "2018-10-02T21:55:25.182763Z",
     "start_time": "2018-10-02T21:51:36.536976Z"
    }
   },
   "outputs": [],
   "source": [
    "trump_clinton_3mo_by_show = [\n",
    "    get_screen_time_by_canonical_show_spark(\n",
    "        name.lower(), \n",
    "        face_identities.where( \n",
    "            (face_identities.in_commercial == False) & \n",
    "            (face_identities.probability >= 0.3) &\n",
    "            (face_identities.host_probability < 0.5)\n",
    "        ),\n",
    "        date_range=['2016-08-01', '2016-11-09']\n",
    "    ) for name in trump_clinton_names\n",
    "]\n",
    "trump_clinton_1yr_by_show = [\n",
    "    get_screen_time_by_canonical_show_spark(\n",
    "        name.lower(), \n",
    "        face_identities.where( \n",
    "            (face_identities.in_commercial == False) & \n",
    "            (face_identities.probability >= 0.3) &\n",
    "            (face_identities.host_probability < 0.5)\n",
    "        ),\n",
    "        date_range=['2015-11-09', '2016-11-09']\n",
    "    ) for name in trump_clinton_names\n",
    "]"
   ]
  },
  {
   "cell_type": "code",
   "execution_count": null,
   "metadata": {
    "ExecuteTime": {
     "end_time": "2018-10-02T21:55:28.271064Z",
     "start_time": "2018-10-02T21:55:25.185728Z"
    },
    "scrolled": false
   },
   "outputs": [],
   "source": [
    "def convert_to_hours(d):\n",
    "    return { k : (v[0].total_seconds() / 3600, v[1] / (3600 ** 2)) for k, v in d.items() }\n",
    "\n",
    "def order_by_ratio(a, b):\n",
    "    keys = set()\n",
    "    keys.update(a.keys())\n",
    "    keys.update(b.keys())\n",
    "    kv = []\n",
    "    for key in keys:\n",
    "        a_val = a.get(key, None)\n",
    "        a_val = 1e-12 if a_val is None else a_val[0].total_seconds()\n",
    "        b_val = b.get(key, None)\n",
    "        b_val = 1e-12 if b_val is None else b_val[0].total_seconds()\n",
    "        kv.append((key, a_val / (a_val + b_val)))\n",
    "    kv.sort(key=lambda x: x[1])\n",
    "    return [k for k, _ in kv]\n",
    "\n",
    "plot_bar_chart(\n",
    "    trump_clinton_names, [convert_to_hours(x) for x in trump_clinton_3mo_by_show],\n",
    "    'Screen Time Comparison from Aug 1, 2016 to Nov 9, 2016 (3-Month)',\n",
    "    '', 'Hours', figsize=(14, 4), series_colors=['LightSalmon', 'LightBlue'],\n",
    "    sort_order=order_by_ratio(*trump_clinton_3mo_by_show),\n",
    "    save_path='figures/trump-clinton-by-show-3mo-bars.pdf'\n",
    ")\n",
    "plot_binary_proportion_comparison(\n",
    "    trump_clinton_names,\n",
    "    trump_clinton_3mo_by_show,\n",
    "    'Distribution of Trump and Clinton Screen Time from Aug 1, 2016 to Nov 9, 2016 (3-Month)',\n",
    "    '',\n",
    "    'Proportion of Screen Time',\n",
    "    series_colors=['LightSalmon', 'LightBlue'],\n",
    "    error_colors=['Red', 'Blue'],\n",
    "    legend_loc=4, figsize=(14, 5),\n",
    "    raw_data_to_label_fn=None,\n",
    "    sort_order=order_by_ratio(*trump_clinton_3mo_by_show),\n",
    "    save_path='figures/trump-clinton-by-show-3mo-ratio.pdf'\n",
    ")\n",
    "\n",
    "plot_bar_chart(\n",
    "    trump_clinton_names, [convert_to_hours(x) for x in trump_clinton_1yr_by_show],\n",
    "    'Screen Time Comparison from Nov 9, 2015 to Nov 9, 2016 (1-Year)',\n",
    "    '', 'Hours', figsize=(14, 4), series_colors=['LightSalmon', 'LightBlue'],\n",
    "    sort_order=order_by_ratio(*trump_clinton_1yr_by_show),\n",
    "    save_path='figures/trump-clinton-by-show-1yr-bars.pdf'\n",
    ")\n",
    "plot_binary_proportion_comparison(\n",
    "    trump_clinton_names,\n",
    "    trump_clinton_1yr_by_show,\n",
    "    'Distribution of Trump and Clinton Screen Time from Nov 9, 2015 to Nov 9, 2016 (1-Year)',\n",
    "    '',\n",
    "    'Proportion of Screen Time',\n",
    "    series_colors=['LightSalmon', 'LightBlue'],\n",
    "    error_colors=['Red', 'Blue'],\n",
    "    legend_loc=4, figsize=(14, 5),\n",
    "    raw_data_to_label_fn=None,\n",
    "    sort_order=order_by_ratio(*trump_clinton_1yr_by_show),\n",
    "    save_path='figures/trump-clinton-by-show-1yr-ratio.pdf'\n",
    ")"
   ]
  },
  {
   "cell_type": "markdown",
   "metadata": {},
   "source": [
    "# James Comey"
   ]
  },
  {
   "cell_type": "code",
   "execution_count": null,
   "metadata": {
    "ExecuteTime": {
     "end_time": "2018-10-03T08:30:35.678678Z",
     "start_time": "2018-10-03T08:29:30.439921Z"
    }
   },
   "outputs": [],
   "source": [
    "comey_screen_time_by_show = get_screen_time_by_canonical_show_spark(\n",
    "    'james comey', \n",
    "    face_identities.where( \n",
    "        (face_identities.in_commercial == False) & \n",
    "        (face_identities.probability >= 0.3) &\n",
    "        (face_identities.host_probability < 0.5)\n",
    "    ),\n",
    "    date_range=['2016-01-01', '2018-01-01']\n",
    ")"
   ]
  },
  {
   "cell_type": "code",
   "execution_count": null,
   "metadata": {
    "ExecuteTime": {
     "end_time": "2018-10-03T08:33:03.979292Z",
     "start_time": "2018-10-03T08:33:03.320067Z"
    }
   },
   "outputs": [],
   "source": [
    "plot_bar_chart(\n",
    "    ['james comey'], [convert_to_hours(comey_screen_time_by_show)],\n",
    "    'Screen Time from Jan 1, 2016 to Jan 1, 2018',\n",
    "    '', 'Hours', figsize=(14, 6), series_colors=['LightSalmon'],\n",
    "    save_path='figures/comey-by-show-1618.pdf'\n",
    ")"
   ]
  },
  {
   "cell_type": "code",
   "execution_count": null,
   "metadata": {
    "ExecuteTime": {
     "end_time": "2018-10-03T20:49:26.903931Z",
     "start_time": "2018-10-03T20:48:56.843812Z"
    }
   },
   "outputs": [],
   "source": [
    "opinion_shows = [\n",
    "    'The Rachel Maddow Show', 'Hardball',\n",
    "    'Hannity', 'Tucker Carlson Tonight', 'The OReilly Factor',\n",
    "]\n",
    "opinion_show_channels = (['MSNBC'] * 2) + (['FOXNEWS'] * 3)\n",
    "opinion_canonical_show_ids = { CanonicalShow.objects.get(name=s).id : s for s in opinion_shows } \n",
    "\n",
    "def comey_show_group_fn(x):\n",
    "    canonical_show_id, timestring = x\n",
    "    year, month, _ = timestring.split(' ')[0].split('-')\n",
    "    return (canonical_show_id, datetime(year=int(year), month=int(month), day=15))\n",
    "    \n",
    "\n",
    "comey_date_range=['2016-01-01', '2018-01-01']\n",
    "comey_opinion_screen_time_over_time = sum_over_column(\n",
    "    face_identities.where(\n",
    "        (face_identities.in_commercial == False) & \n",
    "        (face_identities.probability >= 0.3) &\n",
    "        (face_identities.host_probability < 0.5) &\n",
    "        (face_identities.time >= func.to_date(func.lit(comey_date_range[0]))) & \n",
    "        (face_identities.time < func.to_date(func.lit(comey_date_range[1]))) &\n",
    "        (face_identities.canonical_show_id.isin(list(opinion_canonical_show_ids.keys())))\n",
    "    ),\n",
    "    'duration',\n",
    "    ['canonical_show_id', 'time'],\n",
    "    group_by_key_fn=comey_show_group_fn,\n",
    "    probability_column='probability'\n",
    ")\n",
    "\n",
    "comey_opinion_screen_time_series = defaultdict(dict)\n",
    "for (s, t), v in comey_opinion_screen_time_over_time.items():\n",
    "    comey_opinion_screen_time_series[opinion_canonical_show_ids[s]][t] = v[0] / 3600 # hours"
   ]
  },
  {
   "cell_type": "code",
   "execution_count": null,
   "metadata": {
    "ExecuteTime": {
     "end_time": "2018-10-03T20:27:10.278681Z",
     "start_time": "2018-10-03T20:26:39.505974Z"
    }
   },
   "outputs": [],
   "source": [
    "channel_ids = { x.id : x.name for x in Channel.objects.all() }\n",
    "channels = list(sorted(channel_ids.values()))\n",
    "\n",
    "def comey_channel_group_fn(x):\n",
    "    channel_id, timestring = x\n",
    "    year, month, _ = timestring.split(' ')[0].split('-')\n",
    "    return (channel_id, datetime(year=int(year), month=int(month), day=15))\n",
    "\n",
    "comey_channel_screen_time_over_time = sum_over_column(\n",
    "    face_identities.where(\n",
    "        (face_identities.in_commercial == False) & \n",
    "        (face_identities.probability >= 0.3) &\n",
    "        (face_identities.host_probability < 0.5) &\n",
    "        (face_identities.time >= func.to_date(func.lit(comey_date_range[0]))) & \n",
    "        (face_identities.time < func.to_date(func.lit(comey_date_range[1])))\n",
    "    ),\n",
    "    'duration',\n",
    "    ['channel_id', 'time'],\n",
    "    group_by_key_fn=comey_channel_group_fn,\n",
    "    probability_column='probability'\n",
    ")\n",
    "\n",
    "comey_channel_screen_time_series = defaultdict(dict)\n",
    "for (c, t), v in comey_channel_screen_time_over_time.items():\n",
    "    comey_channel_screen_time_series[channel_ids[c]][t] = v[0] / 3600 # hours"
   ]
  },
  {
   "cell_type": "code",
   "execution_count": null,
   "metadata": {
    "ExecuteTime": {
     "end_time": "2018-10-03T20:49:27.788304Z",
     "start_time": "2018-10-03T20:49:26.906569Z"
    }
   },
   "outputs": [],
   "source": [
    "plot_time_series(\n",
    "    ['{} ({})'.format(opinion_shows[i], opinion_show_channels[i]) for i in range(len(opinion_shows))] ,\n",
    "    [comey_opinion_screen_time_series[x] for x in opinion_shows], \n",
    "    'James Comey: Screen Time and Timeline', \n",
    "    'Hours',\n",
    "#     max_time=datetime(year=2017, month=11, day=1),\n",
    "    plotstyle='-', linewidth=2, figsize=(14, 4),\n",
    "    discrete_events=[\n",
    "        ('Recommends no charges against Clinton', (datetime(year=2016, month=7, day=5), 18.5)),\n",
    "        ('Reopens Clinton email investigation', (datetime(year=2016, month=10, day=28), 5)),\n",
    "        ('Trump wins presidential election', (datetime(year=2016, month=11, day=8), 3.5)),\n",
    "        ('Informs Trump that he is not under investigation ', (datetime(year=2017, month=1, day=6), 17)),\n",
    "        ('Testifies before House Intelligence Committee', (datetime(year=2017, month=3, day=20), 15.5)),\n",
    "        ('Testifies before Senate Judiciary Committee', (datetime(year=2017, month=5, day=3), 14)),\n",
    "        ('Fired by Trump', (datetime(year=2017, month=5, day=9), 12.5)),\n",
    "        ('Mueller appointed as special counsel', (datetime(year=2017, month=5, day=17), 11)),\n",
    "    ],\n",
    "    save_path='figures/comey-opinion-time-series.pdf'\n",
    ")\n",
    "\n",
    "plot_time_series(\n",
    "    channels,\n",
    "    [comey_channel_screen_time_series[x] for x in channels], \n",
    "    'James Comey: Screen Time and Timeline', \n",
    "    'Hours',\n",
    "#     max_time=datetime(year=2017, month=11, day=1),\n",
    "    plotstyle='-', linewidth=2, figsize=(14, 4),\n",
    "#     discrete_events=[\n",
    "#         ('Recommends no charges against Clinton', (datetime(year=2016, month=7, day=5), 85)),\n",
    "#         ('Reopens Clinton email investigation', (datetime(year=2016, month=10, day=28), 75)),\n",
    "#         ('Trump wins presidential election', (datetime(year=2016, month=11, day=8), 65)),\n",
    "#         ('Informs Trump that he is not under investigation ', (datetime(year=2017, month=1, day=6), 55)),\n",
    "#         ('Testifies before House Intelligence Committee', (datetime(year=2017, month=3, day=20), 45)),\n",
    "#         ('Testifies before Senate Judiciary Committee', (datetime(year=2017, month=5, day=3), 35)),\n",
    "#         ('Fired by Trump', (datetime(year=2017, month=5, day=9),25)),\n",
    "#         ('Mueller appointed as special counsel', (datetime(year=2017, month=5, day=17), 15)),\n",
    "#     ],\n",
    "    save_path='figures/comey-channel-time-series.pdf'\n",
    ")"
   ]
  },
  {
   "cell_type": "code",
   "execution_count": null,
   "metadata": {
    "ExecuteTime": {
     "end_time": "2018-10-03T20:35:40.010528Z",
     "start_time": "2018-10-03T20:34:48.707602Z"
    },
    "scrolled": false
   },
   "outputs": [],
   "source": [
    "opinion_host_to_shots = {\n",
    "    'Sean Hannity': [\n",
    "        584292, 584307, 6062987, 22151574, 27039495, 28005192, 28088277, 29310912, 37307674, 41194177, \n",
    "        44419012, 44591079, 44746669, 45164767, 47459051, 49952789, 59278225, 59278241, 60303840\n",
    "    ], \n",
    "    'Bill O\\'Reilly': [113168, 113621, 2526491, 10713245, 10714080],\n",
    "    'Tucker Carlson': [157794, 21838447, 23198946, 44426599, 59737649, 52388910, 32578439, 21683169], \n",
    "    'Rachel Maddow': [1678041, 33194816, 44357358, 52691455], \n",
    "    'Chris Matthews': [\n",
    "        5848914, 8589521, 11292838, 19482668, 22458768, 22458768, 32191124, 41072250, 45188880,\n",
    "        48495239, 50722074, 54541370, 58423117, 58423117\n",
    "    ]      \n",
    "}\n",
    "\n",
    "def montage_shots(shots, cols=4, limit=8):\n",
    "    imgs = [(shot.id, load_frame(shot.video, int((shot.max_frame + shot.min_frame) / 2), []))\n",
    "            for shot in Shot.objects.filter(id__in=shots).order_by('video__time')]\n",
    "    if len(imgs) > limit: \n",
    "        imgs = [img for _, img in sorted(random.sample(list(enumerate(imgs)), limit))]\n",
    "    print('selected:', [i for i, _ in imgs])\n",
    "    shape = (imgs[0][1].shape[1], imgs[0][1].shape[0])\n",
    "    imgs = [cv2.resize(img, shape) for _, img in imgs]\n",
    "    return tile_images(imgs, cols=cols, blank_value=255)\n",
    "\n",
    "for name, shots in opinion_host_to_shots.items():\n",
    "    print(name)\n",
    "    last_name = name.split(' ')[-1].replace(\"'\", '')\n",
    "    img_out_path = 'figures/comey-{}.jpg'.format(last_name.lower())\n",
    "    img_montage = montage_shots(shots)\n",
    "    plt.imsave(img_out_path, cv2.cvtColor(img_montage, cv2.COLOR_RGB2BGR))\n",
    "    imshow(img_montage)\n",
    "    plt.show()"
   ]
  },
  {
   "cell_type": "code",
   "execution_count": null,
   "metadata": {
    "ExecuteTime": {
     "end_time": "2018-10-04T00:43:58.248487Z",
     "start_time": "2018-10-04T00:43:13.924097Z"
    },
    "scrolled": false
   },
   "outputs": [],
   "source": [
    "for year in [2015, 2016, 2017]:\n",
    "    print(year)\n",
    "    for name, shots in opinion_host_to_shots.items():\n",
    "        last_name = name.split(' ')[-1].replace(\"'\", '')\n",
    "        img_out_path = 'figures/comey-{}-{}.jpg'.format(last_name.lower(), year)\n",
    "        shots_in_year = [x.id for x in Shot.objects.filter(id__in=shots, video__time__year=year)]\n",
    "        if len(shots_in_year) > 0:\n",
    "            print(name)\n",
    "            img_montage = montage_shots(shots_in_year)\n",
    "#             plt.imsave(img_out_path, cv2.cvtColor(img_montage, cv2.COLOR_RGB2BGR))\n",
    "            imshow(img_montage)\n",
    "            plt.show()"
   ]
  },
  {
   "cell_type": "markdown",
   "metadata": {},
   "source": [
    "# Shootings"
   ]
  },
  {
   "cell_type": "code",
   "execution_count": null,
   "metadata": {
    "ExecuteTime": {
     "end_time": "2018-10-03T10:47:50.152020Z",
     "start_time": "2018-10-03T10:47:50.098019Z"
    }
   },
   "outputs": [],
   "source": [
    "raise Exception('This section requires human effort!')"
   ]
  },
  {
   "cell_type": "code",
   "execution_count": null,
   "metadata": {
    "ExecuteTime": {
     "end_time": "2018-10-03T10:11:37.156060Z",
     "start_time": "2018-10-03T10:11:37.119341Z"
    }
   },
   "outputs": [],
   "source": [
    "EXAMPLES_PER_CLUSTER = 5"
   ]
  },
  {
   "cell_type": "code",
   "execution_count": null,
   "metadata": {
    "ExecuteTime": {
     "end_time": "2018-10-04T18:38:48.891189Z",
     "start_time": "2018-10-04T18:32:02.000440Z"
    },
    "scrolled": false
   },
   "outputs": [],
   "source": [
    "identity_clustering_workflow(\n",
    "    'Christian Taylor', \n",
    "    examples_per_cluster=EXAMPLES_PER_CLUSTER, \n",
    "    init_clusters=20, \n",
    "    merge_cluster_threshold=0.05,\n",
    "    show_titles=False,\n",
    "    face_probability_threshold=0.5,\n",
    "    duration_label_unit='s',\n",
    "    save_paths=[\n",
    "        'figures/victim-taylor-screen-time.pdf', \n",
    "        'figures/victim-taylor-row-norm.pdf', \n",
    "        'figures/victim-taylor-col-norm.pdf'\n",
    "    ]\n",
    ")"
   ]
  },
  {
   "cell_type": "code",
   "execution_count": null,
   "metadata": {
    "ExecuteTime": {
     "end_time": "2018-10-04T18:44:49.522536Z",
     "start_time": "2018-10-04T18:39:46.223225Z"
    },
    "scrolled": false
   },
   "outputs": [],
   "source": [
    "identity_clustering_workflow(\n",
    "    'Syed Rizwan Farook', \n",
    "    examples_per_cluster=EXAMPLES_PER_CLUSTER, \n",
    "    init_clusters=25, \n",
    "    merge_cluster_threshold=0.05,\n",
    "    show_titles=False,\n",
    "    face_probability_threshold=0.5,\n",
    "    save_paths=[\n",
    "        'figures/shooter-farook-screen-time.pdf', \n",
    "        'figures/shooter-farook-row-norm.pdf', \n",
    "        'figures/shooter-farook-col-norm.pdf'\n",
    "    ]\n",
    ")"
   ]
  },
  {
   "cell_type": "code",
   "execution_count": null,
   "metadata": {
    "ExecuteTime": {
     "end_time": "2018-10-04T18:58:37.205018Z",
     "start_time": "2018-10-04T18:47:51.191628Z"
    },
    "scrolled": false
   },
   "outputs": [],
   "source": [
    "identity_clustering_workflow(\n",
    "    'Tashfeen Malik', \n",
    "    examples_per_cluster=EXAMPLES_PER_CLUSTER, \n",
    "    init_clusters=25,\n",
    "    merge_cluster_threshold=0.05,\n",
    "    show_titles=False,\n",
    "    face_probability_threshold=0.5,\n",
    "    save_paths=[\n",
    "        'figures/shooter-malik-screen-time.pdf', \n",
    "        'figures/shooter-malik-row-norm.pdf', \n",
    "        'figures/shooter-malik-col-norm.pdf'\n",
    "    ]\n",
    ")"
   ]
  },
  {
   "cell_type": "code",
   "execution_count": null,
   "metadata": {},
   "outputs": [],
   "source": []
  }
 ],
 "metadata": {
  "kernelspec": {
   "display_name": "Django Shell-Plus",
   "language": "python",
   "name": "django_extensions"
  },
  "language_info": {
   "codemirror_mode": {
    "name": "ipython",
    "version": 3
   },
   "file_extension": ".py",
   "mimetype": "text/x-python",
   "name": "python",
   "nbconvert_exporter": "python",
   "pygments_lexer": "ipython3",
   "version": "3.5.2"
  },
  "toc": {
   "nav_menu": {},
   "number_sections": true,
   "sideBar": false,
   "skip_h1_title": false,
   "toc_cell": true,
   "toc_position": {},
   "toc_section_display": "block",
   "toc_window_display": false
  }
 },
 "nbformat": 4,
 "nbformat_minor": 2
}
