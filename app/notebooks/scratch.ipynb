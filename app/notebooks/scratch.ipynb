{
 "cells": [
  {
   "cell_type": "code",
   "execution_count": null,
   "metadata": {},
   "outputs": [],
   "source": [
    "from query.datasets.prelude import *\n",
    "from query.datasets.ingest import ingest_pose"
   ]
  },
  {
   "cell_type": "code",
   "execution_count": null,
   "metadata": {},
   "outputs": [],
   "source": [
    "hosts = pickle.load(open('/app/host_dict.pkl', 'rb'))"
   ]
  },
  {
   "cell_type": "code",
   "execution_count": null,
   "metadata": {},
   "outputs": [],
   "source": [
    "hosts.keys()[0]"
   ]
  },
  {
   "cell_type": "code",
   "execution_count": null,
   "metadata": {},
   "outputs": [],
   "source": [
    "Video.objects.all()[0].item_name()"
   ]
  },
  {
   "cell_type": "code",
   "execution_count": null,
   "metadata": {},
   "outputs": [],
   "source": [
    "all_faces = []\n",
    "videos = {v.item_name(): v for v in Video.objects.all()}\n",
    "EPSILON = 0.0001\n",
    "for path, bboxes in tqdm(list(hosts.iteritems())):\n",
    "    v = videos[path]\n",
    "    faces = collect(Face.objects.filter(person__frame__video=v, person__frame__number__in=[t[0] for t in bboxes]).select_related('person__frame'), \n",
    "                    lambda f: f.person.frame.number)\n",
    "    for (frame, bbox) in bboxes:\n",
    "        for f in faces[frame]:\n",
    "            if abs(f.bbox_x1 - bbox['bbox_x1']) < EPSILON and abs(f.bbox_y2 - bbox['bbox_y2']) < EPSILON:\n",
    "                f.is_host = True\n",
    "                all_faces.append(f)\n",
    "                break"
   ]
  },
  {
   "cell_type": "code",
   "execution_count": null,
   "metadata": {},
   "outputs": [],
   "source": [
    "Face.objects.bulk_update(all_faces, update_fields=['is_host'], batch_size=100)"
   ]
  },
  {
   "cell_type": "code",
   "execution_count": null,
   "metadata": {},
   "outputs": [],
   "source": [
    "Face.objects.filter(is_host=True).count()"
   ]
  },
  {
   "cell_type": "code",
   "execution_count": null,
   "metadata": {},
   "outputs": [],
   "source": [
    "Video.objects.all()[0]"
   ]
  },
  {
   "cell_type": "code",
   "execution_count": null,
   "metadata": {},
   "outputs": [],
   "source": [
    "\n",
    "vs = list(Video.objects.filter(time__year=2016, time__month=12, time__day=4).order_by('time').filter(channel__name='MSNBC'))\n",
    "for v in vs:\n",
    "    print(v.time.astimezone(pytz.timezone('America/Los_Angeles')), '{:.1f}'.format(v.num_frames/v.fps/3600))"
   ]
  },
  {
   "cell_type": "code",
   "execution_count": null,
   "metadata": {},
   "outputs": [],
   "source": [
    "Video.objects.all()[0]"
   ]
  },
  {
   "cell_type": "code",
   "execution_count": null,
   "metadata": {},
   "outputs": [],
   "source": [
    "videos = list(Video.objects.all())"
   ]
  },
  {
   "cell_type": "code",
   "execution_count": null,
   "metadata": {},
   "outputs": [],
   "source": [
    "print(videos[0].path)\n",
    "videos[0].time"
   ]
  },
  {
   "cell_type": "code",
   "execution_count": null,
   "metadata": {},
   "outputs": [],
   "source": [
    "f = lambda x: \\\n",
    "    1          if x <= 1 else \\\n",
    "    1 + f(x-1) if x % 2 == 0 else \\\n",
    "    2 + f(x)-1"
   ]
  },
  {
   "cell_type": "code",
   "execution_count": null,
   "metadata": {},
   "outputs": [],
   "source": [
    "#Speaker.objects.filter(labeler__name='handlabeled-audio').delete()\n",
    "#Segment.objects.filter(labeler__name='handlabeled-audio:labeled').delete()"
   ]
  },
  {
   "cell_type": "code",
   "execution_count": null,
   "metadata": {},
   "outputs": [],
   "source": [
    "tt={\n",
    "    1: 'topic',\n",
    "    2: 'phrase',\n",
    "    3: 'person',\n",
    "    4: 'location',\n",
    "    5: 'organization'\n",
    "}\n",
    "\n",
    "     \n",
    "for t in tqdm(list(Thing.objects.all())):\n",
    "    t.type2 = ThingType.objects.get(name=tt[t.type])\n",
    "    t.save()"
   ]
  },
  {
   "cell_type": "code",
   "execution_count": null,
   "metadata": {},
   "outputs": [],
   "source": [
    "all_genders = list(FaceGender.objects.filter(labeler__name='handlabeled-gender').select_related('face', 'face__person', 'face__person__frame', 'face__person__frame__video'))"
   ]
  },
  {
   "cell_type": "code",
   "execution_count": null,
   "metadata": {},
   "outputs": [],
   "source": [
    "FaceGender.objects.filter(labeler__name='rude-carnie').count()"
   ]
  },
  {
   "cell_type": "code",
   "execution_count": null,
   "metadata": {},
   "outputs": [],
   "source": [
    "for_sahaj = {\n",
    "    path: {\n",
    "        frame: {k: [\n",
    "            {\n",
    "                'x1': f.face.bbox_x1,\n",
    "                'x2': f.face.bbox_x2,\n",
    "                'y1': f.face.bbox_y1,\n",
    "                'y2': f.face.bbox_y2,\n",
    "                'background': f.face.background,\n",
    "                'gender': f.gender.name\n",
    "            }\n",
    "            for f in faces\n",
    "        ] for k, faces in [('handlabeled', faces), ('mtcnn', FaceGender.objects.filter(labeler__name='rudecarnie', face__person__frame=faces[0].face.person.frame).select_related('face', 'face__person', 'face__person__frame', 'face__person__frame__video'))]}\n",
    "        for frame, faces in collect(vid, lambda g: g.face.person.frame.number).iteritems()\n",
    "    }\n",
    "    for path, vid in collect(all_genders, lambda g: g.face.person.frame.video.path).iteritems()\n",
    "}"
   ]
  },
  {
   "cell_type": "code",
   "execution_count": null,
   "metadata": {},
   "outputs": [],
   "source": [
    "pickle.dump(for_sahaj, open('/app/sahaj-handlabeled-mtcnn.pkl', 'wb'))"
   ]
  },
  {
   "cell_type": "code",
   "execution_count": null,
   "metadata": {},
   "outputs": [],
   "source": [
    "print(Frame.objects.filter(tags__name='handlabeled-face:labeled').count())\n",
    "print(Frame.objects.filter(tags__name='tmp-verified').count())\n",
    "\n",
    "# #Thing(name='don lemon', type=ThingType.PERSON).save()"
   ]
  },
  {
   "cell_type": "code",
   "execution_count": null,
   "metadata": {},
   "outputs": [],
   "source": [
    "frames = Frame.objects.filter(tags__name='handlabeled-face:labeled')\n",
    "t = 0\n",
    "for f in frames:\n",
    "    if Face.objects.filter(person__frame=f, labeler__name='handlabeled-face').count() == 0:\n",
    "        print(f.id)\n",
    "        t += 1\n",
    "print(t)"
   ]
  },
  {
   "cell_type": "code",
   "execution_count": null,
   "metadata": {},
   "outputs": [],
   "source": [
    "#pprint(list(Labeler.objects.values('name')))\n",
    "Segment.objects.count()"
   ]
  },
  {
   "cell_type": "code",
   "execution_count": null,
   "metadata": {},
   "outputs": [],
   "source": [
    "#tvnews%2Fvideos%2FMSNBCW_20170131_180000_MSNBC_Live.mp4&frame=102726\n",
    "list(Face.objects.filter(person__frame__video__path='tvnews/videos/MSNBCW_20170131_180000_MSNBC_Live.mp4', person__frame__number=102726))"
   ]
  },
  {
   "cell_type": "code",
   "execution_count": null,
   "metadata": {},
   "outputs": [],
   "source": [
    "Face.objects.filter(labeler__name='handlabeled-face').delete()\n",
    "Frame.tags.through.objects.filter(tvnews_tag_id=Tag.objects.get(name='handlabeled-face:labeled')).delete()"
   ]
  },
  {
   "cell_type": "code",
   "execution_count": null,
   "metadata": {},
   "outputs": [],
   "source": [
    "%matplotlib inline\n",
    "import random\n",
    "p = sns.color_palette(\"hls\", 15).as_hex()\n",
    "random.shuffle(p)\n",
    "print(json.dumps(p))"
   ]
  },
  {
   "cell_type": "code",
   "execution_count": null,
   "metadata": {},
   "outputs": [],
   "source": []
  },
  {
   "cell_type": "code",
   "execution_count": null,
   "metadata": {},
   "outputs": [],
   "source": [
    "pprint(list(Video.objects.all().annotate( \n",
    "            hour=Extract('time', 'hour'), duration=Cast(F('num_frames') / F('fps'), models.IntegerField())) \\\n",
    "        .filter(hour=3).values('path', 'hour'))[:100])"
   ]
  },
  {
   "cell_type": "code",
   "execution_count": null,
   "metadata": {},
   "outputs": [],
   "source": [
    "t = Tag.objects.get(name='handlabeled-face:labeled')\n",
    "l = Labeler.objects.get(name='rudecarnie')\n",
    "with Timer('a'):\n",
    "    FaceGender.objects.filter(labeler=l).exclude(\n",
    "                Q(face__shot__in_commercial=True)\n",
    "                | Q(face__shot__video__commercials_labeled=False)\n",
    "                | Q(face__shot__isnull=True)).order_by('?')[:10]"
   ]
  },
  {
   "cell_type": "code",
   "execution_count": null,
   "metadata": {},
   "outputs": [],
   "source": [
    "spark = SparkWrapper()"
   ]
  },
  {
   "cell_type": "code",
   "execution_count": null,
   "metadata": {},
   "outputs": [],
   "source": [
    "shots = spark.load('shots2', lambda: ())"
   ]
  },
  {
   "cell_type": "code",
   "execution_count": null,
   "metadata": {},
   "outputs": [],
   "source": [
    "shots.where(shots.in_commercial == True).count()"
   ]
  },
  {
   "cell_type": "code",
   "execution_count": null,
   "metadata": {},
   "outputs": [],
   "source": [
    "with Timer('test'):\n",
    "    all_shots = list(Shot.objects.all())"
   ]
  },
  {
   "cell_type": "code",
   "execution_count": null,
   "metadata": {},
   "outputs": [],
   "source": [
    "with Timer('test2'):\n",
    "    all_shots2 = shots.select('id', 'in_commercial').collect()"
   ]
  },
  {
   "cell_type": "code",
   "execution_count": null,
   "metadata": {},
   "outputs": [],
   "source": [
    "all_shots2 = {k.id: k.in_commercial for k in tqdm(all_shots2)}"
   ]
  },
  {
   "cell_type": "code",
   "execution_count": null,
   "metadata": {},
   "outputs": [],
   "source": [
    "len(set(all_shots2.keys()) & set([s.id for s in all_shots]))"
   ]
  },
  {
   "cell_type": "code",
   "execution_count": null,
   "metadata": {},
   "outputs": [],
   "source": [
    "for s in tqdm(all_shots):\n",
    "    s.in_commercial = all_shots2[s.id]"
   ]
  },
  {
   "cell_type": "code",
   "execution_count": null,
   "metadata": {},
   "outputs": [],
   "source": [
    "for i in tqdm(list(range(0, len(all_shots), 1000))):\n",
    "    Shot.objects.bulk_update(all_shots[i:i+1000], batch_size=100, update_fields=['in_commercial'])"
   ]
  },
  {
   "cell_type": "code",
   "execution_count": null,
   "metadata": {},
   "outputs": [],
   "source": [
    "print(Shot.objects.filter(in_commercial=False).count())\n",
    "print(Shot.objects.filter(in_commercial=True).count())\n",
    "print(len(all_shots))\n",
    "print(Shot.objects.all().count())"
   ]
  },
  {
   "cell_type": "code",
   "execution_count": null,
   "metadata": {},
   "outputs": [],
   "source": [
    "len([0 for s in tqdm(all_shots) if s.in_commercial])"
   ]
  },
  {
   "cell_type": "code",
   "execution_count": null,
   "metadata": {},
   "outputs": [],
   "source": [
    "ids = list(Commercial.objects.distinct('video_id').values('video_id'))\n",
    "videos = {v.id: v for v in Video.objects.all()}\n",
    "for i in ids:\n",
    "    videos[i['video_id']].commercials_labeled = True\n",
    "print('b')\n",
    "Video.objects.bulk_update(videos.values(), update_fields=['commercials_labeled'], batch_size=100)"
   ]
  },
  {
   "cell_type": "code",
   "execution_count": null,
   "metadata": {},
   "outputs": [],
   "source": [
    "v = Video.objects.get(path__contains='MSNBCW_20171102_100000_Morning_Joe.mp4')\n",
    "pprint(list(Commercial.objects.filter(video=v).values()))"
   ]
  },
  {
   "cell_type": "code",
   "execution_count": null,
   "metadata": {},
   "outputs": [],
   "source": [
    "frame = Frame.objects.get(video=v, number=573126)\n",
    "print(frame.id)\n",
    "Face.objects.filter(person__frame=frame)[0].shot"
   ]
  },
  {
   "cell_type": "code",
   "execution_count": null,
   "metadata": {},
   "outputs": [],
   "source": [
    "face = Face.objects.get(id=1101)\n",
    "print(repr(face))\n",
    "print(face.person.frame, face.person.frame.video.path)\n",
    "#Face.objects.filter(person__frame__id=1130).count()"
   ]
  },
  {
   "cell_type": "code",
   "execution_count": null,
   "metadata": {},
   "outputs": [],
   "source": [
    "video_map = {v.path: v for v in Video.objects.all()}\n",
    "with open('/app/all_videos_dl.txt') as f:\n",
    "    paths = ['tvnews/videos/{}.mp4'.format(s.strip()) for s in f.readlines()]\n",
    "videos = [video_map[path] for path in paths]"
   ]
  },
  {
   "cell_type": "code",
   "execution_count": null,
   "metadata": {},
   "outputs": [],
   "source": [
    "with Database() as db:\n",
    "    tables = [db.table(v.path + '_blackframes') \n",
    "             for v in videos if db.has_table(v.path + '_blackframes') and db.table(v.path + '_blackframes').committed()]\n",
    "    print(len(tables))\n",
    "    \n",
    "    def load(t):\n",
    "        try:\n",
    "            return pickle.loads(next(t.column('shots').load(rows=[t.num_rows() - 1]))[1])\n",
    "        except Exception:\n",
    "            traceback.print_exc()\n",
    "            print(t.name())\n",
    "            return None\n",
    "    \n",
    "    shots = par_for(load, tables, workers=8)\n",
    "    print('Done!')"
   ]
  },
  {
   "cell_type": "code",
   "execution_count": null,
   "metadata": {},
   "outputs": [],
   "source": [
    "pickle.dump([(t.name(), l) for t, l in zip(tables, shots)], open('all_shots.pkl', 'wb'), pickle.HIGHEST_PROTOCOL)"
   ]
  },
  {
   "cell_type": "code",
   "execution_count": null,
   "metadata": {},
   "outputs": [],
   "source": [
    "as1 = pickle.load(open('all_shots.pkl', 'rb'))\n",
    "as2 = pcache.get('all_shots_2')"
   ]
  },
  {
   "cell_type": "code",
   "execution_count": null,
   "metadata": {},
   "outputs": [],
   "source": [
    "def bulk_load(db, videos):\n",
    "    shots = [\n",
    "        db.table(v.path + '_shots') for v in videos\n",
    "        if db.has_table(v.path + '_shots') and db.table(v.path + '_shots').committed()\n",
    "    ]\n",
    "\n",
    "    def load(t):\n",
    "        try:\n",
    "            return pickle.loads(next(t.column('shots').load(rows=[t.num_rows() - 1]))[1])\n",
    "        except Exception:\n",
    "            traceback.print_exc()\n",
    "            print(t.name())\n",
    "            return None\n",
    "\n",
    "    return par_for(load, shots, workers=8)\n",
    "\n",
    "log.debug('Loading videos')\n",
    "videos = list(Video.objects.annotate(\n",
    "                c=Subquery(\n",
    "                    Shot.objects.filter(video=OuterRef('pk')).values('video') \\\n",
    "                    .annotate(c=Count('video')).values('c')\n",
    "                )).filter(c__isnull=False))\n",
    "log.debug('Connecting to db')\n",
    "with Database() as db:\n",
    "    log.debug('Loading data')\n",
    "    db._load_db_metadata()\n",
    "    shots = bulk_load(db, videos)"
   ]
  },
  {
   "cell_type": "code",
   "execution_count": null,
   "metadata": {},
   "outputs": [],
   "source": [
    "Frame.objects.filter(tags__name='openpose:labeled').count()"
   ]
  },
  {
   "cell_type": "code",
   "execution_count": null,
   "metadata": {},
   "outputs": [],
   "source": [
    "pose = Pose.objects.get(id=1625727)\n",
    "pose.pose_keypoints()[Pose.Nose]"
   ]
  },
  {
   "cell_type": "code",
   "execution_count": null,
   "metadata": {},
   "outputs": [],
   "source": [
    "from query.datasets.tvnews.face_embed import face_embed\n",
    "\n",
    "video = Video.objects.get(path='tvnews/videos/MSNBC_20100827_060000_The_Rachel_Maddow_Show.mp4')\n",
    "face = Face.objects.get(id=119091)\n",
    "FaceFeatures.objects.filter(face=face).delete()\n",
    "face_embed([video], [[[face]]], force=True)\n"
   ]
  },
  {
   "cell_type": "code",
   "execution_count": null,
   "metadata": {},
   "outputs": [],
   "source": [
    "face = Face.objects.get(id=119083)\n",
    "FaceFeatures.objects.get(face=face).id"
   ]
  },
  {
   "cell_type": "code",
   "execution_count": null,
   "metadata": {},
   "outputs": [],
   "source": [
    "db = Database()"
   ]
  },
  {
   "cell_type": "code",
   "execution_count": null,
   "metadata": {},
   "outputs": [],
   "source": [
    "#Person.objects.filter(frame__video__path='tvnews/videos/MSNBC_20090703_010000_The_Rachel_Maddow_Show.mp4').delete()\n",
    "#Face.objects.all().count()\n",
    "#Video.objects.all().distinct('height').values('height')\n",
    "\n",
    "with open('/app/paths') as f:\n",
    "    paths = [s.strip() for s in f.readlines()]\n",
    "    \n",
    "tag, _ = Tag.objects.get_or_create(name='pose-test')    \n",
    "for path in paths:\n",
    "    video = Video.objects.get(path=path)\n",
    "    VideoTag(video=video, tag=tag).save()"
   ]
  },
  {
   "cell_type": "code",
   "execution_count": null,
   "metadata": {},
   "outputs": [],
   "source": [
    "Video.objects.filter(videotag__tag__name='pose-test').values('path')"
   ]
  },
  {
   "cell_type": "code",
   "execution_count": null,
   "metadata": {},
   "outputs": [],
   "source": [
    "#FaceFeatures.objects.filter(face__person__frame__video__videotag__tag__name='pose-test').count()\n",
    "#print Face.objects.all().order_by('facefeatures__distto').values('id').query\n",
    "#PersonTrack.objects.filter(video__path='tvnews/videos/MSNBC_20100827_060000_The_Rachel_Maddow_Show.mp4') \\\n",
    "#    .annotate(duration=Track.duration()).values()\n",
    "\n",
    "#id = 2043\n",
    "#FaceFeatures.compute_distances(id)\n",
    "tracks = list(PersonTrack.objects.filter(video__videotag__tag__name='pose-test') \\\n",
    "#tracks = list(PersonTrack.objects.filter(video__path='tvnews/videos/MSNBCW_20120303_020000_The_Rachel_Maddow_Show.mp4') \\\n",
    "    .annotate(c=Subquery(\n",
    "        Face.objects.filter(person__tracks=OuterRef('pk')) \\\n",
    "        .filter(labeler__name='tinyfaces', facefeatures__distto__isnull=False, facefeatures__distto__lte=1.0) \\\n",
    "        .values('person__tracks')\n",
    "        .annotate(c=Count('*'))\n",
    "        .values('c'), models.IntegerField()\n",
    "        )) \\\n",
    "    .filter(c__gt=0))\n",
    "len(tracks)"
   ]
  },
  {
   "cell_type": "code",
   "execution_count": null,
   "metadata": {},
   "outputs": [],
   "source": [
    "frames = defaultdict(set)    \n",
    "for track in tracks:\n",
    "    frames[track.video.path] |= set(range(track.min_frame, track.max_frame, 3))\n",
    "\n",
    "# for path in frames.keys():    \n",
    "#     if path == 'tvnews/videos/MSNBCW_20120303_020000_The_Rachel_Maddow_Show.mp4': continue\n",
    "#     print(path)\n",
    "#     #print('Deleting')\n",
    "#     #Person.objects.filter(frame__video=Video.objects.get(path=path))\n",
    "#     #Pose.objects.filter(person__frame__video=Video.objects.get(path=path)).delete()\n",
    "#     print('Ingesting')\n",
    "#     ingest_pose(\n",
    "#         Video.objects.get(path=path),\n",
    "#         db.table(path + '_poses_gather'),\n",
    "#         sorted(frames[path]))\n",
    "#     print('Ingested!')\n",
    "\n",
    "with open('/app/chris-matthews-frames', 'w') as f:\n",
    "    for path, frames in frames.iteritems():\n",
    "        print(path)\n",
    "        f.write('{} {}\\n'.format(path, ' '.join([str(s) for s in sorted(frames)])))"
   ]
  },
  {
   "cell_type": "code",
   "execution_count": null,
   "metadata": {},
   "outputs": [],
   "source": [
    "def closest_pose(candidates, target):\n",
    "    noses = [pose.pose_keypoints()[Pose.Nose] for pose in candidates]\n",
    "    noses, indices = zip(*[(nose[:2], i) for i, nose in enumerate(noses) if nose[2] > 0])\n",
    "    dists = np.linalg.norm(np.array(noses) - target, axis=1)\n",
    "    closest = candidates[indices[np.argmin(dists)]]\n",
    "    return closest"
   ]
  },
  {
   "cell_type": "code",
   "execution_count": null,
   "metadata": {},
   "outputs": [],
   "source": [
    "# Match detected poses with the sparse faces \n",
    "for track in tracks:\n",
    "    faces = list(Face.objects.filter(person__tracks=track).select_related('person__frame'))\n",
    "    for face in faces:\n",
    "        poses = list(Pose.objects.filter(person__frame=face.person.frame))\n",
    "        if len(poses) == 0:\n",
    "            continue\n",
    "        closest = closest_pose(poses, bbox_midpoint(face))\n",
    "        closest.person = face.person\n",
    "        closest.save()"
   ]
  },
  {
   "cell_type": "code",
   "execution_count": null,
   "metadata": {},
   "outputs": [],
   "source": [
    "# Fill in tracks with poses\n",
    "for track in tracks:\n",
    "    faces = list(Face.objects.filter(person__tracks=track).select_related('person__frame') \\\n",
    "                 .order_by('person__frame__number'))\n",
    "    for i in range(len(faces) - 1):\n",
    "        try:\n",
    "            last_pose = Pose.objects.get(person=faces[i].person)\n",
    "            for j in range(faces[i].person.frame.number, faces[i+1].person.frame.number, 3):\n",
    "                cur_poses = Pose.objects.filter(person__frame__video=track.video, person__frame__number=j)\n",
    "                if len(cur_poses) == 0:\n",
    "                    continue\n",
    "                closest = closest_pose(cur_poses, last_pose.pose_keypoints()[Pose.Nose][:2])\n",
    "                closest.person.tracks.add(track)\n",
    "                closest.save()\n",
    "                last_pose = closest\n",
    "        except Pose.DoesNotExist:\n",
    "            pass      "
   ]
  },
  {
   "cell_type": "code",
   "execution_count": null,
   "metadata": {},
   "outputs": [],
   "source": [
    "for track in tracks:\n",
    "    print(track.id, track.max_frame-track.min_frame, Person.objects.filter(tracks=track).count())"
   ]
  },
  {
   "cell_type": "code",
   "execution_count": null,
   "metadata": {},
   "outputs": [],
   "source": [
    "# TODO: need to associate faces with poses\n",
    "[p1, p2] = Pose.objects.all()[:2]\n",
    "\n",
    "def pose_dist(p1, p2):\n",
    "    kp1 = p1.pose_keypoints()\n",
    "    kp2 = p2.pose_keypoints()\n",
    "    \n",
    "    weights = defaultdict(float, {\n",
    "        Pose.LWrist: 0.4,\n",
    "        Pose.RWrist: 0.4,\n",
    "        Pose.Nose: 0.1,        \n",
    "        Pose.LElbow: 0.05,\n",
    "        Pose.RElbow: 0.05\n",
    "    })\n",
    "    weight_vector = [weights[i] for i in range(Pose.POSE_KEYPOINTS)]\n",
    "    \n",
    "    dist = np.linalg.norm(kp2[:,:2] - kp1[:,:2], axis=1)\n",
    "    weighted_dist = np.array([d * w for d, s, w in zip(dist, kp2[:, 2], weight_vector) if s > 0])\n",
    "    return np.linalg.norm(weighted_dist)"
   ]
  },
  {
   "cell_type": "code",
   "execution_count": null,
   "metadata": {},
   "outputs": [],
   "source": [
    "all_dists = []\n",
    "for track in tracks:\n",
    "    poses = list(Pose.objects.filter(person__tracks=track).order_by('person__frame__number'))\n",
    "    dists = [pose_dist(poses[i], poses[i+1]) for i in range(len(poses) - 1)]\n",
    "    all_dists.append((track.id, np.mean(dists), track.duration()))\n",
    "\n",
    "pprint(sorted(all_dists, key=itemgetter(1), reverse=True))"
   ]
  }
 ],
 "metadata": {
  "kernelspec": {
   "display_name": "Django Shell-Plus",
   "language": "python",
   "name": "django_extensions"
  },
  "language_info": {
   "codemirror_mode": {
    "name": "ipython",
    "version": 2
   },
   "file_extension": ".py",
   "mimetype": "text/x-python",
   "name": "python",
   "nbconvert_exporter": "python",
   "pygments_lexer": "ipython2",
   "version": "2.7.14"
  },
  "toc": {
   "nav_menu": {},
   "number_sections": true,
   "sideBar": false,
   "skip_h1_title": false,
   "toc_cell": false,
   "toc_position": {},
   "toc_section_display": "block",
   "toc_window_display": false
  }
 },
 "nbformat": 4,
 "nbformat_minor": 2
}
