{
 "cells": [
  {
   "cell_type": "code",
   "execution_count": null,
   "metadata": {
    "ExecuteTime": {
     "end_time": "2018-12-18T21:03:31.848029Z",
     "start_time": "2018-12-18T21:03:31.818587Z"
    }
   },
   "outputs": [],
   "source": [
    "from query.models import FaceIdentity, FaceCharacterActor, Character, Actor, CharacterActor, Video, Labeler\n",
    "from tqdm import tqdm"
   ]
  },
  {
   "cell_type": "code",
   "execution_count": null,
   "metadata": {
    "ExecuteTime": {
     "end_time": "2018-12-18T20:37:13.091859Z",
     "start_time": "2018-12-18T20:37:07.412643Z"
    }
   },
   "outputs": [],
   "source": [
    "# Get all the movies that we have FaceIdentity mappings for\n",
    "video_ids = sorted(list(set([\n",
    "    fi.video_id\n",
    "    for fi in FaceIdentity.objects.annotate(video_id=F('face__frame__video_id')).all()\n",
    "])))\n",
    "\n",
    "print(\"The following videos have FaceIdentity mappings:\")\n",
    "videos = Video.objects.filter(id__in=video_ids).order_by('id').all()\n",
    "for video in videos:\n",
    "    print(video.name, video.year)"
   ]
  },
  {
   "cell_type": "code",
   "execution_count": null,
   "metadata": {
    "ExecuteTime": {
     "end_time": "2018-12-18T20:37:29.102160Z",
     "start_time": "2018-12-18T20:37:18.009682Z"
    }
   },
   "outputs": [],
   "source": [
    "# Get the list of actors and characters for each movie based on the identity mappings\n",
    "video_actor_characters = {}\n",
    "for video in tqdm(videos):\n",
    "    identities = FaceIdentity.objects.filter(face__frame__video=video).annotate(\n",
    "        name=F('identity__name'),\n",
    "        labeler_name=F('labeler__name')\n",
    "    ).all()\n",
    "    video_actor_characters[video.id] = { 'characters': set(), 'actors': set() }\n",
    "    for identity in identities:\n",
    "        if 'role' in identity.labeler_name:\n",
    "            video_actor_characters[video.id]['characters'].add(identity.name)\n",
    "        else:\n",
    "            video_actor_characters[video.id]['actors'].add(identity.name)"
   ]
  },
  {
   "cell_type": "code",
   "execution_count": null,
   "metadata": {
    "ExecuteTime": {
     "end_time": "2018-12-18T20:37:30.476245Z",
     "start_time": "2018-12-18T20:37:30.451920Z"
    }
   },
   "outputs": [],
   "source": [
    "print(video_actor_characters)"
   ]
  },
  {
   "cell_type": "code",
   "execution_count": null,
   "metadata": {
    "ExecuteTime": {
     "end_time": "2018-12-18T20:37:33.993126Z",
     "start_time": "2018-12-18T20:37:33.594592Z"
    }
   },
   "outputs": [],
   "source": [
    "# Now get all the actors and characters that don't exist in the CharacterActor table\n",
    "difficult_identities = {\n",
    "    video_id:\n",
    "    {\n",
    "        'characters': video_actor_characters[video_id]['characters'].difference(\n",
    "            set([\n",
    "                ca.name\n",
    "                for ca in CharacterActor.objects.filter(video_id=video_id).annotate(name=F('character__name')).all()\n",
    "            ])\n",
    "        ),\n",
    "        'actors': video_actor_characters[video_id]['actors'].difference(\n",
    "            set([\n",
    "                ca.name\n",
    "                for ca in CharacterActor.objects.filter(video_id=video_id).annotate(name=F('actor__name')).all()\n",
    "            ])\n",
    "        )\n",
    "    }\n",
    "    for video_id in tqdm(video_actor_characters)\n",
    "}"
   ]
  },
  {
   "cell_type": "code",
   "execution_count": null,
   "metadata": {
    "ExecuteTime": {
     "end_time": "2018-12-18T20:37:35.201152Z",
     "start_time": "2018-12-18T20:37:35.172796Z"
    }
   },
   "outputs": [],
   "source": [
    "difficult_identities"
   ]
  },
  {
   "cell_type": "code",
   "execution_count": null,
   "metadata": {
    "ExecuteTime": {
     "end_time": "2018-12-18T21:00:23.692795Z",
     "start_time": "2018-12-18T21:00:13.439796Z"
    },
    "scrolled": true
   },
   "outputs": [],
   "source": [
    "face_ids_to_actors_and_characters = {}\n",
    "for video in tqdm(videos):\n",
    "    identities = FaceIdentity.objects.filter(face__frame__video=video).annotate(\n",
    "        name=F('identity__name'),\n",
    "        labeler_name=F('labeler__name')\n",
    "    ).all()\n",
    "    for identity in identities:\n",
    "        face_id = identity.face_id\n",
    "        if face_id not in face_ids_to_actors_and_characters:\n",
    "            face_ids_to_actors_and_characters[face_id] = {'video_id': video.id}\n",
    "        if 'role' in identity.labeler_name:\n",
    "            face_ids_to_actors_and_characters[face_id]['character'] = identity.name\n",
    "            face_ids_to_actors_and_characters[face_id]['character_labeler'] = identity.labeler_id\n",
    "        else:\n",
    "            face_ids_to_actors_and_characters[face_id]['actor'] = identity.name\n",
    "            face_ids_to_actors_and_characters[face_id]['actor_labeler'] = identity.labeler_id"
   ]
  },
  {
   "cell_type": "code",
   "execution_count": null,
   "metadata": {
    "ExecuteTime": {
     "end_time": "2018-12-18T21:01:02.998411Z",
     "start_time": "2018-12-18T21:01:02.911953Z"
    }
   },
   "outputs": [],
   "source": [
    "num_without_actor_annotations = 0\n",
    "num_without_character_annotations = 0\n",
    "for face_id in face_ids_to_actors_and_characters:\n",
    "    if 'actor' not in face_ids_to_actors_and_characters[face_id]:\n",
    "        num_without_actor_annotations += 1\n",
    "    if 'character' not in face_ids_to_actors_and_characters[face_id]:\n",
    "        num_without_character_annotations += 1"
   ]
  },
  {
   "cell_type": "code",
   "execution_count": null,
   "metadata": {
    "ExecuteTime": {
     "end_time": "2018-12-18T21:01:04.134214Z",
     "start_time": "2018-12-18T21:01:04.110568Z"
    }
   },
   "outputs": [],
   "source": [
    "print(num_without_actor_annotations, num_without_character_annotations)"
   ]
  },
  {
   "cell_type": "code",
   "execution_count": null,
   "metadata": {
    "ExecuteTime": {
     "end_time": "2018-12-18T21:01:05.240828Z",
     "start_time": "2018-12-18T21:01:05.214067Z"
    }
   },
   "outputs": [],
   "source": [
    "relevantcharacteractors = CharacterActor.objects.filter(video_id__in=video_ids).annotate(\n",
    "    actor_name=F('actor__name'),\n",
    "    character_name=F('character__name')\n",
    ").order_by('video_id').all()"
   ]
  },
  {
   "cell_type": "code",
   "execution_count": null,
   "metadata": {
    "ExecuteTime": {
     "end_time": "2018-12-18T21:00:54.471736Z",
     "start_time": "2018-12-18T21:00:30.962078Z"
    },
    "scrolled": true
   },
   "outputs": [],
   "source": [
    "for face_id in tqdm(face_ids_to_actors_and_characters):\n",
    "    mapping = face_ids_to_actors_and_characters[face_id]\n",
    "    mapping['candidates'] = []\n",
    "    # Find a good match in the relevant CharacterActor rows\n",
    "    for ca in relevantcharacteractors:\n",
    "        if ca.video_id != mapping['video_id']:\n",
    "            continue\n",
    "        if ca.actor_name == mapping['actor'] or ca.character_name == mapping['character']:\n",
    "            mapping['candidates'].append(ca.id)"
   ]
  },
  {
   "cell_type": "code",
   "execution_count": null,
   "metadata": {
    "ExecuteTime": {
     "end_time": "2018-12-18T21:01:08.821335Z",
     "start_time": "2018-12-18T21:01:08.631379Z"
    }
   },
   "outputs": [],
   "source": [
    "num_with_0 = 0\n",
    "num_with_1 = 0\n",
    "num_with_2 = 0\n",
    "num_gt_2 = 0\n",
    "for face_id in tqdm(face_ids_to_actors_and_characters):\n",
    "    num_candidates = len(face_ids_to_actors_and_characters[face_id]['candidates'])\n",
    "    if num_candidates == 0:\n",
    "        num_with_0 += 1\n",
    "    elif num_candidates == 1:\n",
    "        num_with_1 += 1\n",
    "    elif num_candidates == 2:\n",
    "        num_with_2 += 1\n",
    "    else:\n",
    "        num_gt_2 += 1"
   ]
  },
  {
   "cell_type": "code",
   "execution_count": null,
   "metadata": {
    "ExecuteTime": {
     "end_time": "2018-12-18T21:01:11.232576Z",
     "start_time": "2018-12-18T21:01:11.207321Z"
    }
   },
   "outputs": [],
   "source": [
    "print(num_with_0, num_with_1, num_with_2, num_gt_2)"
   ]
  },
  {
   "cell_type": "code",
   "execution_count": null,
   "metadata": {
    "ExecuteTime": {
     "end_time": "2018-12-18T21:01:25.424379Z",
     "start_time": "2018-12-18T21:01:25.310929Z"
    }
   },
   "outputs": [],
   "source": [
    "for face_id in face_ids_to_actors_and_characters:\n",
    "    num_candidates = len(face_ids_to_actors_and_characters[face_id]['candidates'])\n",
    "    if num_candidates == 0:\n",
    "        print(face_ids_to_actors_and_characters[face_id])"
   ]
  },
  {
   "cell_type": "code",
   "execution_count": null,
   "metadata": {
    "ExecuteTime": {
     "end_time": "2018-12-18T21:03:19.485410Z",
     "start_time": "2018-12-18T21:03:19.393417Z"
    }
   },
   "outputs": [],
   "source": [
    "labeler_ids = set()\n",
    "for face_id in face_ids_to_actors_and_characters:\n",
    "    labeler_ids.add(face_ids_to_actors_and_characters[face_id]['character_labeler'])"
   ]
  },
  {
   "cell_type": "code",
   "execution_count": null,
   "metadata": {
    "ExecuteTime": {
     "end_time": "2018-12-18T21:06:42.847922Z",
     "start_time": "2018-12-18T21:06:42.622817Z"
    }
   },
   "outputs": [],
   "source": [
    "new_labeler_ids = {}\n",
    "for labeler_id in sorted(list(labeler_ids)):\n",
    "    name = Labeler.objects.get(pk=labeler_id).name\n",
    "    new_name = '-'.join(name.split('-')[0:1] + name.split('-')[2:])\n",
    "    new_labeler, _ = Labeler.objects.get_or_create(name=new_name)\n",
    "    new_labeler_ids[labeler_id] = new_labeler.id"
   ]
  },
  {
   "cell_type": "code",
   "execution_count": null,
   "metadata": {
    "ExecuteTime": {
     "end_time": "2018-12-18T21:06:46.486268Z",
     "start_time": "2018-12-18T21:06:46.461229Z"
    }
   },
   "outputs": [],
   "source": [
    "new_labeler_ids"
   ]
  },
  {
   "cell_type": "code",
   "execution_count": null,
   "metadata": {
    "ExecuteTime": {
     "end_time": "2018-12-18T21:07:11.855387Z",
     "start_time": "2018-12-18T21:07:09.475200Z"
    },
    "scrolled": true
   },
   "outputs": [],
   "source": [
    "new_face_characteractor_mappings = []\n",
    "for face_id in tqdm(face_ids_to_actors_and_characters):\n",
    "    num_candidates = len(face_ids_to_actors_and_characters[face_id]['candidates'])\n",
    "    if num_candidates == 1:\n",
    "        new_face_characteractor_mappings.append(\n",
    "            FaceCharacterActor(\n",
    "                face_id=face_id,\n",
    "                characteractor_id = face_ids_to_actors_and_characters[face_id]['candidates'][0],\n",
    "                labeler_id = new_labeler_ids[face_ids_to_actors_and_characters[face_id]['character_labeler']]\n",
    "            )\n",
    "        )"
   ]
  },
  {
   "cell_type": "code",
   "execution_count": null,
   "metadata": {
    "ExecuteTime": {
     "end_time": "2018-12-18T21:08:19.017795Z",
     "start_time": "2018-12-18T21:08:01.525070Z"
    }
   },
   "outputs": [],
   "source": [
    "FaceCharacterActor.objects.bulk_create(new_face_characteractor_mappings)"
   ]
  }
 ],
 "metadata": {
  "kernelspec": {
   "display_name": "Django Shell-Plus",
   "language": "python",
   "name": "django_extensions"
  },
  "language_info": {
   "codemirror_mode": {
    "name": "ipython",
    "version": 3
   },
   "file_extension": ".py",
   "mimetype": "text/x-python",
   "name": "python",
   "nbconvert_exporter": "python",
   "pygments_lexer": "ipython3",
   "version": "3.5.2"
  },
  "toc": {
   "nav_menu": {},
   "number_sections": true,
   "sideBar": true,
   "skip_h1_title": false,
   "toc_cell": false,
   "toc_position": {},
   "toc_section_display": "block",
   "toc_window_display": false
  }
 },
 "nbformat": 4,
 "nbformat_minor": 2
}
