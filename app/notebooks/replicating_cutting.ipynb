{
 "cells": [
  {
   "cell_type": "markdown",
   "metadata": {
    "toc": true
   },
   "source": [
    "<h1>Table of Contents<span class=\"tocSkip\"></span></h1>\n",
    "<div class=\"toc\" style=\"margin-top: 1em;\"><ul class=\"toc-item\"><li><span><a href=\"#Replicating-Cutting\" data-toc-modified-id=\"Replicating-Cutting-1\"><span class=\"toc-item-num\">1&nbsp;&nbsp;</span>Replicating Cutting</a></span><ul class=\"toc-item\"><li><span><a href=\"#Distribution-of-movies-by-year\" data-toc-modified-id=\"Distribution-of-movies-by-year-1.1\"><span class=\"toc-item-num\">1.1&nbsp;&nbsp;</span>Distribution of movies by year</a></span></li><li><span><a href=\"#Shot-Duration\" data-toc-modified-id=\"Shot-Duration-1.2\"><span class=\"toc-item-num\">1.2&nbsp;&nbsp;</span>Shot Duration</a></span><ul class=\"toc-item\"><li><span><a href=\"#Average-Shot-Duration-Over-the-Years\" data-toc-modified-id=\"Average-Shot-Duration-Over-the-Years-1.2.1\"><span class=\"toc-item-num\">1.2.1&nbsp;&nbsp;</span>Average Shot Duration Over the Years</a></span></li><li><span><a href=\"#Changes-in-Shot-Duration-Within-Movies-(Narrative-Structure)\" data-toc-modified-id=\"Changes-in-Shot-Duration-Within-Movies-(Narrative-Structure)-1.2.2\"><span class=\"toc-item-num\">1.2.2&nbsp;&nbsp;</span>Changes in Shot Duration Within Movies (Narrative Structure)</a></span></li></ul></li><li><span><a href=\"#Shot-Scale\" data-toc-modified-id=\"Shot-Scale-1.3\"><span class=\"toc-item-num\">1.3&nbsp;&nbsp;</span>Shot Scale</a></span><ul class=\"toc-item\"><li><span><a href=\"#Changes-in-shot-scale-over-time\" data-toc-modified-id=\"Changes-in-shot-scale-over-time-1.3.1\"><span class=\"toc-item-num\">1.3.1&nbsp;&nbsp;</span>Changes in shot scale over time</a></span></li><li><span><a href=\"#More-Changes-in-Shot-Scale-over-time\" data-toc-modified-id=\"More-Changes-in-Shot-Scale-over-time-1.3.2\"><span class=\"toc-item-num\">1.3.2&nbsp;&nbsp;</span>More Changes in Shot Scale over time</a></span></li><li><span><a href=\"#Relationship-between-shot-duration-and-shot-scale\" data-toc-modified-id=\"Relationship-between-shot-duration-and-shot-scale-1.3.3\"><span class=\"toc-item-num\">1.3.3&nbsp;&nbsp;</span>Relationship between shot duration and shot scale</a></span></li></ul></li><li><span><a href=\"#Brightness\" data-toc-modified-id=\"Brightness-1.4\"><span class=\"toc-item-num\">1.4&nbsp;&nbsp;</span>Brightness</a></span><ul class=\"toc-item\"><li><span><a href=\"#Changes-in-brightness-over-the-years\" data-toc-modified-id=\"Changes-in-brightness-over-the-years-1.4.1\"><span class=\"toc-item-num\">1.4.1&nbsp;&nbsp;</span>Changes in brightness over the years</a></span></li><li><span><a href=\"#Changes-in-brightness-within-movies-(narrative-structure)\" data-toc-modified-id=\"Changes-in-brightness-within-movies-(narrative-structure)-1.4.2\"><span class=\"toc-item-num\">1.4.2&nbsp;&nbsp;</span>Changes in brightness within movies (narrative structure)</a></span></li></ul></li><li><span><a href=\"#Saturation\" data-toc-modified-id=\"Saturation-1.5\"><span class=\"toc-item-num\">1.5&nbsp;&nbsp;</span>Saturation</a></span><ul class=\"toc-item\"><li><span><a href=\"#Changes-in-saturation-over-the-years\" data-toc-modified-id=\"Changes-in-saturation-over-the-years-1.5.1\"><span class=\"toc-item-num\">1.5.1&nbsp;&nbsp;</span>Changes in saturation over the years</a></span></li><li><span><a href=\"#Changes-in-saturation-within-movies-(narrative-structure?)\" data-toc-modified-id=\"Changes-in-saturation-within-movies-(narrative-structure?)-1.5.2\"><span class=\"toc-item-num\">1.5.2&nbsp;&nbsp;</span>Changes in saturation within movies (narrative structure?)</a></span></li></ul></li><li><span><a href=\"#Mean-Number-of-People\" data-toc-modified-id=\"Mean-Number-of-People-1.6\"><span class=\"toc-item-num\">1.6&nbsp;&nbsp;</span>Mean Number of People</a></span><ul class=\"toc-item\"><li><span><a href=\"#Mean-number-of-people-per-frame-over-the-years\" data-toc-modified-id=\"Mean-number-of-people-per-frame-over-the-years-1.6.1\"><span class=\"toc-item-num\">1.6.1&nbsp;&nbsp;</span>Mean number of people per frame over the years</a></span></li><li><span><a href=\"#Distribution-of-number-of-people-per-frame\" data-toc-modified-id=\"Distribution-of-number-of-people-per-frame-1.6.2\"><span class=\"toc-item-num\">1.6.2&nbsp;&nbsp;</span>Distribution of number of people per frame</a></span></li></ul></li><li><span><a href=\"#Number-of-people-in-a-shot-vs-shot-duration\" data-toc-modified-id=\"Number-of-people-in-a-shot-vs-shot-duration-1.7\"><span class=\"toc-item-num\">1.7&nbsp;&nbsp;</span>Number of people in a shot vs shot duration</a></span></li></ul></li></ul></div>"
   ]
  },
  {
   "cell_type": "code",
   "execution_count": null,
   "metadata": {
    "ExecuteTime": {
     "end_time": "2019-01-08T00:26:40.867551Z",
     "start_time": "2019-01-08T00:26:40.831098Z"
    }
   },
   "outputs": [],
   "source": [
    "from query.models import Video, Shot, Labeler, Face, PoseMeta\n",
    "import matplotlib.pyplot as plt\n",
    "import matplotlib.ticker as plticker\n",
    "import numpy as np\n",
    "from django.db.models import Avg\n",
    "from tqdm import tqdm\n",
    "import rekall\n",
    "from rekall.video_interval_collection import VideoIntervalCollection\n",
    "from rekall.interval_list import IntervalList\n",
    "from rekall.merge_ops import payload_plus\n",
    "from rekall.temporal_predicates import overlaps, equal"
   ]
  },
  {
   "cell_type": "markdown",
   "metadata": {},
   "source": [
    "# Replicating Cutting\n",
    "\n",
    "In this notebook we'll be replicating some of James Cutting's findings (primarily about shot duration, and eventually shot scale) on our dataset.\n",
    "\n",
    "Right now this notebook has the following graphs:\n",
    "* Distribution of our movies by year\n",
    "* Average shot duration of movies by year\n",
    "* Average shot duration **within** a movie\n",
    "* Average number of people per frame in movie by year\n",
    "* Distribution of number of people in frames, split into two buckets"
   ]
  },
  {
   "cell_type": "markdown",
   "metadata": {},
   "source": [
    "## Distribution of movies by year\n",
    "Let's first find out what the distribution of our movies across time is."
   ]
  },
  {
   "cell_type": "code",
   "execution_count": null,
   "metadata": {
    "ExecuteTime": {
     "end_time": "2019-01-06T22:15:29.560080Z",
     "start_time": "2019-01-06T22:15:29.526296Z"
    }
   },
   "outputs": [],
   "source": [
    "all_videos = Video.objects.filter(decode_errors=False).order_by('id').all()"
   ]
  },
  {
   "cell_type": "code",
   "execution_count": null,
   "metadata": {
    "ExecuteTime": {
     "end_time": "2018-12-31T06:05:53.714818Z",
     "start_time": "2018-12-31T06:05:53.676714Z"
    }
   },
   "outputs": [],
   "source": [
    "print('Number of videos: ', all_videos.count())"
   ]
  },
  {
   "cell_type": "code",
   "execution_count": null,
   "metadata": {
    "ExecuteTime": {
     "end_time": "2018-12-31T06:05:53.776440Z",
     "start_time": "2018-12-31T06:05:53.719924Z"
    }
   },
   "outputs": [],
   "source": [
    "release_years = sorted([video.year for video in all_videos])"
   ]
  },
  {
   "cell_type": "code",
   "execution_count": null,
   "metadata": {
    "ExecuteTime": {
     "end_time": "2018-12-31T06:05:53.811923Z",
     "start_time": "2018-12-31T06:05:53.781856Z"
    }
   },
   "outputs": [],
   "source": [
    "print('Release year range: {}-{}'.format(release_years[0], release_years[-1]))"
   ]
  },
  {
   "cell_type": "code",
   "execution_count": null,
   "metadata": {
    "ExecuteTime": {
     "end_time": "2018-12-31T06:05:54.364487Z",
     "start_time": "2018-12-31T06:05:53.815744Z"
    }
   },
   "outputs": [],
   "source": [
    "# Plot histogram of release years\n",
    "def hist(data, n_bins, label, title):\n",
    "    fig, ax = plt.subplots(figsize=(10, 5))\n",
    "    ret = ax.hist(data, n_bins, histtype='bar', label=[label])\n",
    "    ax.legend()\n",
    "    ax.set_title(title)\n",
    "    plt.show()\n",
    "    \n",
    "    return ret\n",
    "_, bins, _ = hist(\n",
    "    release_years,\n",
    "    release_years[-1] - release_years[0]+1,\n",
    "    'Number of films',\n",
    "    'Histogram of films by release year')\n",
    "\n",
    "print('bins:', bins)"
   ]
  },
  {
   "cell_type": "markdown",
   "metadata": {},
   "source": [
    "## Shot Duration"
   ]
  },
  {
   "cell_type": "markdown",
   "metadata": {},
   "source": [
    "### Average Shot Duration Over the Years\n",
    "Now let's plot the average shot duration over time."
   ]
  },
  {
   "cell_type": "code",
   "execution_count": null,
   "metadata": {
    "ExecuteTime": {
     "end_time": "2018-12-31T06:05:58.204602Z",
     "start_time": "2018-12-31T06:05:54.367365Z"
    }
   },
   "outputs": [],
   "source": [
    "def average_shot_duration(video):\n",
    "    return Shot.objects.filter(\n",
    "        video_id=video.id, labeler=Labeler.objects.get(name='shot-hsvhist-face')\n",
    "    ).all().aggregate(\n",
    "        avg_duration=Avg(F('max_frame') - F('min_frame'))\n",
    "    )['avg_duration'] / video.fps\n",
    "\n",
    "videos_with_avg_shot_duration = [\n",
    "    (video, average_shot_duration(video))\n",
    "    for video in tqdm(all_videos)\n",
    "]"
   ]
  },
  {
   "cell_type": "code",
   "execution_count": null,
   "metadata": {
    "ExecuteTime": {
     "end_time": "2018-12-31T06:05:58.259502Z",
     "start_time": "2018-12-31T06:05:58.207602Z"
    }
   },
   "outputs": [],
   "source": [
    "def plot_shot_durations_by_year(videos_with_avg_shot_duration, min_year=None):\n",
    "    data = sorted([(v.year, shot_duration) for v, shot_duration in videos_with_avg_shot_duration])\n",
    "    if min_year is not None:\n",
    "        data = [d for d in data if d[0] >= min_year]\n",
    "\n",
    "    x = [d[0] for d in data]\n",
    "    y = [d[1] for d in data]\n",
    "    \n",
    "    fig, ax = plt.subplots(figsize=(10, 5))\n",
    "    ax.scatter(x, y, s=3)\n",
    "    ax.set_ylim(0, 20)\n",
    "    ax.set_xlabel('Year')\n",
    "    ax.set_ylabel('Average Shot Duration (seconds)')\n",
    "    ax.set_title('Average shot durations with cubic and linear fits')\n",
    "    \n",
    "    #ax.set_yscale('symlog')\n",
    "    \n",
    "    ax.plot(np.unique(x), np.poly1d(np.polyfit(x, y, 3))(np.unique(x)))\n",
    "    ax.plot(np.unique(x), np.poly1d(np.polyfit(x, y, 1))(np.unique(x)))\n",
    "    plt.show()"
   ]
  },
  {
   "cell_type": "code",
   "execution_count": null,
   "metadata": {
    "ExecuteTime": {
     "end_time": "2018-12-31T06:05:58.556809Z",
     "start_time": "2018-12-31T06:05:58.262651Z"
    }
   },
   "outputs": [],
   "source": [
    "plot_shot_durations_by_year(videos_with_avg_shot_duration)\n",
    "#plot_shot_durations_by_year(videos_with_avg_shot_duration, min_year=1930)"
   ]
  },
  {
   "cell_type": "code",
   "execution_count": null,
   "metadata": {
    "ExecuteTime": {
     "end_time": "2018-12-31T06:05:58.595270Z",
     "start_time": "2018-12-31T06:05:58.559874Z"
    }
   },
   "outputs": [],
   "source": [
    "# What are the movies with really long shot lengths in the 2010's?\n",
    "sorted([\n",
    "    (v.title, v.year, avg_duration)\n",
    "    for v, avg_duration in videos_with_avg_shot_duration if v.year >= 2010 and avg_duration > 8\n",
    "], key=lambda tup: (tup[1], tup[0], tup[2]))"
   ]
  },
  {
   "cell_type": "code",
   "execution_count": null,
   "metadata": {
    "ExecuteTime": {
     "end_time": "2018-12-31T06:05:58.850950Z",
     "start_time": "2018-12-31T06:05:58.598363Z"
    }
   },
   "outputs": [],
   "source": [
    "# Plot moving average of average shot duration\n",
    "avg_shot_durations_by_year = IntervalList([\n",
    "    (video.year, video.year, [shot_duration])\n",
    "    for video, shot_duration in videos_with_avg_shot_duration\n",
    "]).coalesce(payload_merge_op=payload_plus).map(\n",
    "    lambda intrvl: (intrvl.start, intrvl.end,\n",
    "        {'avg': np.mean(intrvl.payload), 'std': np.std(intrvl.payload)})\n",
    ")\n",
    "data = [\n",
    "    (intrvl.get_start(), intrvl.get_payload()['avg'], intrvl.get_payload()['std'])\n",
    "    for intrvl in avg_shot_durations_by_year.get_intervals()\n",
    "]\n",
    "ax = plt.gca()\n",
    "ax.plot([d[0] for d in data], [d[1] for d in data])"
   ]
  },
  {
   "cell_type": "markdown",
   "metadata": {},
   "source": [
    "### Changes in Shot Duration Within Movies (Narrative Structure)\n",
    "How do shot durations differ within movies?\n",
    "\n",
    "Methodology: bucket shot boundaries into 100 bins per movie. Get a normalized count of number of shot transitions per bin by dividing the number of shot boundaries by the total **number of shots** in the movie. Take the average of this number across all films. Then \"scale this number back up to seconds\" by ???. Not clear from the Cutting methodology."
   ]
  },
  {
   "cell_type": "code",
   "execution_count": null,
   "metadata": {
    "ExecuteTime": {
     "end_time": "2018-12-31T06:05:58.913186Z",
     "start_time": "2018-12-31T06:05:58.853680Z"
    }
   },
   "outputs": [],
   "source": [
    "def compute_shot_durations_per_bin(videos):\n",
    "    bucket_proportions = [[] for i in range(0, 100)]\n",
    "    \n",
    "    average_shot_duration_data = 0.\n",
    "    total_num_shots = 0.\n",
    "    \n",
    "    for video in tqdm(videos):\n",
    "        # Get all the shots, removing the first and last one to get rid of boundaries at 0 and at the end\n",
    "        shots = list(Shot.objects.filter(\n",
    "            video_id=video.id,\n",
    "            labeler=Labeler.objects.get(name='shot-hsvhist-face')\n",
    "        ).order_by('min_frame').all())[1:-1]\n",
    "        num_shots = len(shots)\n",
    "\n",
    "        divider = video.num_frames / 100.\n",
    "        bin_num = 0\n",
    "\n",
    "        num_boundaries_in_bin = 0.\n",
    "        for shot in shots:\n",
    "            if shot.min_frame < (bin_num + 1.) * divider:\n",
    "                num_boundaries_in_bin += 1\n",
    "            else:\n",
    "                bucket_proportions[bin_num].append(num_boundaries_in_bin / num_shots)\n",
    "                bin_num += 1\n",
    "                num_boundaries_in_bin = 1.\n",
    "        bucket_proportions[bin_num].append(num_boundaries_in_bin / num_shots)\n",
    "        \n",
    "        avg_duration = average_shot_duration(video)\n",
    "        average_shot_duration_data += avg_duration * num_shots\n",
    "        total_num_shots += num_shots\n",
    "    \n",
    "    normalized_shots_per_bin = [\n",
    "        np.mean(proportions)\n",
    "        for proportions in bucket_proportions\n",
    "    ]\n",
    "        \n",
    "    average_shot_duration_data /= total_num_shots\n",
    "    \n",
    "    shot_lengths_per_bin = [\n",
    "        ((1. / 100.) / shot_proportion) * average_shot_duration_data\n",
    "        for shot_proportion in normalized_shots_per_bin\n",
    "    ]\n",
    "    \n",
    "    return shot_lengths_per_bin"
   ]
  },
  {
   "cell_type": "code",
   "execution_count": null,
   "metadata": {
    "ExecuteTime": {
     "end_time": "2018-12-31T06:05:58.964594Z",
     "start_time": "2018-12-31T06:05:58.917060Z"
    }
   },
   "outputs": [],
   "source": [
    "def plot_shot_lengths_per_bin(data, title, polynomial_degree=6):\n",
    "    x = [(i + 0.5) / 100. for i in range(0, 100)]\n",
    "    y = data\n",
    "    \n",
    "    fig, ax = plt.subplots(figsize=(5, 5))\n",
    "    ax.scatter(x, y, s=3)\n",
    "    ax.set_xlabel('Proportion of movie')\n",
    "    ax.set_ylabel('Average Shot Duration (seconds)')\n",
    "    ax.set_title(title)\n",
    "    ax.set_xlim(0, 1)\n",
    "    \n",
    "    ax.plot(np.unique(x), np.poly1d(np.polyfit(x, y, polynomial_degree))(np.unique(x)))\n",
    "    \n",
    "    ax.axvline(x=0.25, color='k')\n",
    "    ax.axvline(x=0.5, color='k')\n",
    "    ax.axvline(x=0.75, color='k')\n",
    "    \n",
    "#     ax.text(x=0.1, y=6.2, s='Setup')\n",
    "#     ax.text(x=0.32, y=6.2, s='Complication')\n",
    "#     ax.text(x=0.57, y=6.2, s='Development')\n",
    "#     ax.text(x=0.85, y=6.2, s='Climax')\n",
    "    \n",
    "    plt.show()"
   ]
  },
  {
   "cell_type": "code",
   "execution_count": null,
   "metadata": {
    "ExecuteTime": {
     "end_time": "2018-12-31T06:06:15.991309Z",
     "start_time": "2018-12-31T06:05:58.967357Z"
    }
   },
   "outputs": [],
   "source": [
    "shot_lengths_all_videos = compute_shot_durations_per_bin(all_videos)"
   ]
  },
  {
   "cell_type": "code",
   "execution_count": null,
   "metadata": {
    "ExecuteTime": {
     "end_time": "2018-12-31T06:06:17.651448Z",
     "start_time": "2018-12-31T06:06:15.994121Z"
    }
   },
   "outputs": [],
   "source": [
    "shot_lengths_1915_to_1959 = compute_shot_durations_per_bin(\n",
    "    Video.objects.filter(\n",
    "        decode_errors=False,\n",
    "        year__gte=1915,\n",
    "        year__lte=1959\n",
    "    ).order_by('id').all()\n",
    ")"
   ]
  },
  {
   "cell_type": "code",
   "execution_count": null,
   "metadata": {
    "ExecuteTime": {
     "end_time": "2018-12-31T06:06:22.148943Z",
     "start_time": "2018-12-31T06:06:17.654045Z"
    }
   },
   "outputs": [],
   "source": [
    "shot_lengths_1960_to_1985 = compute_shot_durations_per_bin(\n",
    "    Video.objects.filter(\n",
    "        decode_errors=False,\n",
    "        year__gte=1960,\n",
    "        year__lte=1985\n",
    "    ).order_by('id').all()\n",
    ")"
   ]
  },
  {
   "cell_type": "code",
   "execution_count": null,
   "metadata": {
    "ExecuteTime": {
     "end_time": "2018-12-31T06:06:34.029995Z",
     "start_time": "2018-12-31T06:06:22.152347Z"
    }
   },
   "outputs": [],
   "source": [
    "shot_lengths_1986_to_2016 = compute_shot_durations_per_bin(\n",
    "    Video.objects.filter(\n",
    "        decode_errors=False,\n",
    "        year__gte=1986,\n",
    "        year__lte=2016\n",
    "    ).order_by('id').all()\n",
    ")"
   ]
  },
  {
   "cell_type": "code",
   "execution_count": null,
   "metadata": {
    "ExecuteTime": {
     "end_time": "2018-12-31T06:06:34.647533Z",
     "start_time": "2018-12-31T06:06:34.038144Z"
    }
   },
   "outputs": [],
   "source": [
    "plot_shot_lengths_per_bin(\n",
    "    shot_lengths_all_videos,\n",
    "    'Average shot durations over the course of our movies, full dataset',\n",
    "    polynomial_degree=6\n",
    ")\n",
    "plot_shot_lengths_per_bin(\n",
    "    shot_lengths_1915_to_1959,\n",
    "    'Average shot durations over the course of our movies, 1915-1959',\n",
    "    polynomial_degree=1\n",
    ")\n",
    "plot_shot_lengths_per_bin(\n",
    "    shot_lengths_1960_to_1985,\n",
    "    'Average shot durations over the course of our movies, 1960-1985',\n",
    "    polynomial_degree=6\n",
    ")\n",
    "plot_shot_lengths_per_bin(\n",
    "    shot_lengths_1986_to_2016,\n",
    "    'Average shot durations over the course of our movies, 1986-2016',\n",
    "    polynomial_degree=6\n",
    ")"
   ]
  },
  {
   "cell_type": "markdown",
   "metadata": {},
   "source": [
    "## Shot Scale\n",
    "We want to find out whether shot scale has changed over time, and the relationship between shot duration and shot scale."
   ]
  },
  {
   "cell_type": "markdown",
   "metadata": {},
   "source": [
    "### Changes in shot scale over time\n",
    "For this, we'll just graph the distribution of different shot scales and bucket by different eras.\n"
   ]
  },
  {
   "cell_type": "code",
   "execution_count": null,
   "metadata": {
    "ExecuteTime": {
     "end_time": "2019-01-04T19:34:39.024285Z",
     "start_time": "2019-01-04T19:30:57.062978Z"
    }
   },
   "outputs": [],
   "source": [
    "# This takes about 4 and a half minutes to run!\n",
    "frames_qs = Frame.objects.annotate(\n",
    "    numbermod=F('number') % 12\n",
    ").filter(numbermod=0, video_id__in=all_videos).annotate(\n",
    "    shot_scale_name=F('shot_scale__name')\n",
    ").all()\n",
    "num_frames = frames_qs.count()\n",
    "shot_scales = VideoIntervalCollection.from_django_qs(\n",
    "    frames_qs,\n",
    "    schema={\n",
    "        \"start\": \"number\",\n",
    "        \"end\": \"number\",\n",
    "        \"payload\": \"shot_scale_name\"\n",
    "    },\n",
    "    progress=True,\n",
    "    total=num_frames\n",
    ")"
   ]
  },
  {
   "cell_type": "code",
   "execution_count": null,
   "metadata": {
    "ExecuteTime": {
     "end_time": "2019-01-04T19:34:39.068715Z",
     "start_time": "2019-01-04T19:34:39.028320Z"
    }
   },
   "outputs": [],
   "source": [
    "def distribution_of_shot_scales(frames_with_shot_scale):\n",
    "    labels = ['unknown', 'extreme_long', 'long', 'medium_long', 'medium', 'medium_close_up',\n",
    "             'close_up', 'extreme_close_up']\n",
    "    \n",
    "    shot_scale_proportions = {\n",
    "        label: 0. for label in labels\n",
    "    }\n",
    "    total_videos = 0.\n",
    "    \n",
    "    for video_id in list(frames_with_shot_scale.get_allintervals().keys()):\n",
    "        counts_for_video = {\n",
    "            label: 0. for label in shot_scale_proportions\n",
    "        }\n",
    "        total_frames = 0.\n",
    "        for intrvl in frames_with_shot_scale.get_intervallist(video_id).get_intervals():\n",
    "            shot_scale = intrvl.payload\n",
    "            counts_for_video[shot_scale] += 1\n",
    "            total_frames += 1\n",
    "        for label in counts_for_video:\n",
    "            shot_scale_proportions[label] += counts_for_video[label] / total_frames\n",
    "        total_videos += 1\n",
    "    \n",
    "    return labels, [shot_scale_proportions[label] / total_videos for label in labels]"
   ]
  },
  {
   "cell_type": "code",
   "execution_count": null,
   "metadata": {
    "ExecuteTime": {
     "end_time": "2019-01-04T19:34:39.125007Z",
     "start_time": "2019-01-04T19:34:39.072087Z"
    }
   },
   "outputs": [],
   "source": [
    "def graph_shot_scale_distribution(shot_scale_labels, shot_scale_distributions,\n",
    "                                               distribution_labels, title):\n",
    "    fig, ax = plt.subplots(figsize=(10, 5))\n",
    "    for distribution, label in zip(shot_scale_distributions, distribution_labels):\n",
    "        x = range(0, len(shot_scale_labels))\n",
    "        y = distribution\n",
    "        ax.plot(x, y, label=label)\n",
    "        \n",
    "        ax.legend()\n",
    "        \n",
    "    ax.set_xlabel('Shot scale')\n",
    "    ax.set_ylabel('Proportion of frames')\n",
    "    ax.set_title(title)\n",
    "    \n",
    "    plt.xticks(x, shot_scale_labels)\n",
    "    \n",
    "    plt.show()"
   ]
  },
  {
   "cell_type": "code",
   "execution_count": null,
   "metadata": {
    "ExecuteTime": {
     "end_time": "2019-01-04T19:34:42.160526Z",
     "start_time": "2019-01-04T19:34:39.129190Z"
    }
   },
   "outputs": [],
   "source": [
    "labels, shot_scale_distribution_all_videos = distribution_of_shot_scales(shot_scales)"
   ]
  },
  {
   "cell_type": "code",
   "execution_count": null,
   "metadata": {
    "ExecuteTime": {
     "end_time": "2019-01-04T19:34:45.111650Z",
     "start_time": "2019-01-04T19:34:42.166287Z"
    }
   },
   "outputs": [],
   "source": [
    "_, shot_scale_distribution_1915_to_1969 = distribution_of_shot_scales(\n",
    "    VideoIntervalCollection(\n",
    "        {\n",
    "            video_id: shot_scales.get_intervallist(video_id)\n",
    "            for video_id in list(shot_scales.get_allintervals().keys())\n",
    "            if Video.objects.get(id=video_id).year <= 1969\n",
    "        }\n",
    "    )\n",
    ")"
   ]
  },
  {
   "cell_type": "code",
   "execution_count": null,
   "metadata": {
    "ExecuteTime": {
     "end_time": "2019-01-04T19:34:52.387389Z",
     "start_time": "2019-01-04T19:34:45.115079Z"
    }
   },
   "outputs": [],
   "source": [
    "_, shot_scale_distribution_1970_to_2016 = distribution_of_shot_scales(\n",
    "    VideoIntervalCollection(\n",
    "        {\n",
    "            video_id: shot_scales.get_intervallist(video_id)\n",
    "            for video_id in list(shot_scales.get_allintervals().keys())\n",
    "            if Video.objects.get(id=video_id).year >= 1970\n",
    "        }\n",
    "    )\n",
    ")"
   ]
  },
  {
   "cell_type": "code",
   "execution_count": null,
   "metadata": {
    "ExecuteTime": {
     "end_time": "2019-01-04T19:34:52.617789Z",
     "start_time": "2019-01-04T19:34:52.390599Z"
    }
   },
   "outputs": [],
   "source": [
    "graph_shot_scale_distribution(\n",
    "    labels, \n",
    "    [\n",
    "        shot_scale_distribution_all_videos,\n",
    "        shot_scale_distribution_1915_to_1969,\n",
    "        shot_scale_distribution_1970_to_2016\n",
    "    ], \n",
    "    [\n",
    "        'All videos',\n",
    "        '1915-1969',\n",
    "        '1970-2016'\n",
    "    ],\n",
    "    'Shot scale distribution for all videos'\n",
    ")"
   ]
  },
  {
   "cell_type": "markdown",
   "metadata": {},
   "source": [
    "### More Changes in Shot Scale over time\n",
    "Next, We'll graph linear fits of the proportion of different shot scales."
   ]
  },
  {
   "cell_type": "code",
   "execution_count": null,
   "metadata": {
    "ExecuteTime": {
     "end_time": "2019-01-04T19:34:52.653948Z",
     "start_time": "2019-01-04T19:34:52.621279Z"
    }
   },
   "outputs": [],
   "source": [
    "shot_scale_labels = ['unknown', 'extreme_long', 'long', 'medium_long', 'medium', 'medium_close_up',\n",
    "             'close_up', 'extreme_close_up']\n",
    "\n",
    "def get_shot_scale_proportions(intervallist, labels):\n",
    "    counts_for_video = {\n",
    "        label: 0. for label in labels\n",
    "    }\n",
    "    total_frames = 0.\n",
    "    for intrvl in intervallist.get_intervals():\n",
    "        shot_scale = intrvl.payload\n",
    "        counts_for_video[shot_scale] += 1\n",
    "        total_frames += 1\n",
    "    for label in counts_for_video:\n",
    "        counts_for_video[label] = counts_for_video[label] / total_frames\n",
    "    return counts_for_video"
   ]
  },
  {
   "cell_type": "code",
   "execution_count": null,
   "metadata": {
    "ExecuteTime": {
     "end_time": "2019-01-04T19:34:57.082214Z",
     "start_time": "2019-01-04T19:34:52.657016Z"
    }
   },
   "outputs": [],
   "source": [
    "videos_with_shot_scale_proportions = [\n",
    "    (Video.objects.get(id=video_id),\n",
    "     get_shot_scale_proportions(shot_scales.get_intervallist(video_id), shot_scale_labels))\n",
    "    for video_id in tqdm(list(shot_scales.get_allintervals().keys()))\n",
    "]"
   ]
  },
  {
   "cell_type": "code",
   "execution_count": null,
   "metadata": {
    "ExecuteTime": {
     "end_time": "2019-01-04T19:39:50.072097Z",
     "start_time": "2019-01-04T19:39:50.012271Z"
    }
   },
   "outputs": [],
   "source": [
    "def plot_shot_scale_proportions_by_year(videos_with_shot_scale_proportions, labels,\n",
    "                                        fit_lines_only=False, min_year=None):\n",
    "    data = sorted([(v.year, shot_scale_proportions) \n",
    "                   for v, shot_scale_proportions in videos_with_shot_scale_proportions\n",
    "                  ],\n",
    "                  key=lambda year_and_proportions: year_and_proportions[0])\n",
    "    if min_year is not None:\n",
    "        data = [d for d in data if d[0] >= min_year]\n",
    "\n",
    "    fig, ax = plt.subplots(figsize=(10, 5))\n",
    "    \n",
    "    for i, label in enumerate(labels):\n",
    "        x = [d[0] for d in data]\n",
    "        y = [d[1][label] for d in data]\n",
    "        \n",
    "        if not fit_lines_only:\n",
    "            ax.scatter(x, y, s=3, label=label)\n",
    "            ax.plot(np.unique(x), np.poly1d(np.polyfit(x, y, 1))(np.unique(x)))\n",
    "        else:\n",
    "            ax.plot(np.unique(x), np.poly1d(np.polyfit(x, y, 1))(np.unique(x)), label=label)\n",
    "        \n",
    "    ax.set_xlabel('Year')\n",
    "    ax.set_ylabel('Shot scale proportion')\n",
    "    ax.set_title('Shot scale proportions by year')\n",
    "    if not fit_lines_only:\n",
    "        ax.set_ylim(ymax=1)\n",
    "    ax.legend(loc=(1.04,0))\n",
    "    \n",
    "    #ax.set_yscale('symlog')\n",
    "    plt.show()"
   ]
  },
  {
   "cell_type": "code",
   "execution_count": null,
   "metadata": {
    "ExecuteTime": {
     "end_time": "2019-01-04T19:39:52.460888Z",
     "start_time": "2019-01-04T19:39:51.831372Z"
    }
   },
   "outputs": [],
   "source": [
    "plot_shot_scale_proportions_by_year(videos_with_shot_scale_proportions, shot_scale_labels, fit_lines_only=False)\n",
    "plot_shot_scale_proportions_by_year(videos_with_shot_scale_proportions, shot_scale_labels, fit_lines_only=True)"
   ]
  },
  {
   "cell_type": "markdown",
   "metadata": {},
   "source": [
    "### Relationship between shot duration and shot scale\n",
    "For this, we'll need to assign shots a certain shot scale by looking at the mode for the shot and graph shot duration vs. shot scale."
   ]
  },
  {
   "cell_type": "code",
   "execution_count": null,
   "metadata": {
    "ExecuteTime": {
     "end_time": "2019-01-04T19:35:07.516438Z",
     "start_time": "2019-01-04T19:34:57.734723Z"
    }
   },
   "outputs": [],
   "source": [
    "# First, load all the shots into Rekall\n",
    "shots_qs = Shot.objects.filter(\n",
    "    video__in=all_videos,\n",
    "    labeler=Labeler.objects.get(name='shot-hsvhist-face')\n",
    ").all()\n",
    "num_shots = shots_qs.count()\n",
    "shots = VideoIntervalCollection.from_django_qs(\n",
    "    shots_qs,\n",
    "    progress=True,\n",
    "    total=num_shots\n",
    ")"
   ]
  },
  {
   "cell_type": "code",
   "execution_count": null,
   "metadata": {
    "ExecuteTime": {
     "end_time": "2019-01-04T19:36:46.418035Z",
     "start_time": "2019-01-04T19:35:07.519633Z"
    }
   },
   "outputs": [],
   "source": [
    "# Next, overlap the shots with per-frame shot scales so that the payload\n",
    "#   for each shot is a list of all the shot scales in the shot\n",
    "# Finally, take the mode of the shot scales to get the scale of the whole shot\n",
    "def get_mode(items):\n",
    "    return max(set(items), key=items.count)\n",
    "\n",
    "shots_with_scale = shots.merge(\n",
    "    shot_scales,\n",
    "    payload_merge_op=lambda shot_id, frame_shot_scale: [frame_shot_scale],\n",
    "    predicate=overlaps(),\n",
    "    working_window=1\n",
    ").coalesce(\n",
    "    payload_merge_op=payload_plus\n",
    ").map(\n",
    "    lambda shot_interval: (shot_interval.get_start(), shot_interval.get_end(),\n",
    "                          get_mode(shot_interval.get_payload()))\n",
    ")"
   ]
  },
  {
   "cell_type": "code",
   "execution_count": null,
   "metadata": {
    "ExecuteTime": {
     "end_time": "2019-01-04T19:36:46.469568Z",
     "start_time": "2019-01-04T19:36:46.421520Z"
    }
   },
   "outputs": [],
   "source": [
    "# Compute normalized shot durations for each category of shot\n",
    "def compute_shot_scale_normalized_duration(shots_with_scale):\n",
    "    scale_proportions = {label: [] for label in shot_scale_labels}\n",
    "    \n",
    "    average_shot_duration_data = 0.\n",
    "    total_videos = 0.\n",
    "    \n",
    "    for video_id in shots_with_scale.get_allintervals():\n",
    "        scale_proportions_for_video = {label: [] for label in shot_scale_labels}\n",
    "        \n",
    "        shots_in_video = shots_with_scale.get_intervallist(video_id)\n",
    "        \n",
    "        video = Video.objects.get(id=video_id)\n",
    "        \n",
    "        for intrvl in shots_in_video.get_intervals():\n",
    "            scale_proportions_for_video[intrvl.get_payload()].append(\n",
    "                intrvl.get_end()-intrvl.get_start()\n",
    "            )\n",
    "        \n",
    "        avg_shot_duration_for_video = float(video.num_frames) / shots_in_video.size()\n",
    "        \n",
    "        for label in shot_scale_labels:\n",
    "            if len(scale_proportions_for_video[label]) > 0:\n",
    "                scale_proportions[label].append(\n",
    "                    np.mean(scale_proportions_for_video[label]) / avg_shot_duration_for_video\n",
    "                )\n",
    "        \n",
    "        average_shot_duration_data += avg_shot_duration_for_video / video.fps\n",
    "        total_videos += 1\n",
    "    \n",
    "    average_shot_duration_data /= total_videos\n",
    "    \n",
    "    normalized_proportions = [\n",
    "        np.mean(scale_proportions[label]) * average_shot_duration_data\n",
    "        for label in shot_scale_labels\n",
    "    ]\n",
    "    \n",
    "    return normalized_proportions"
   ]
  },
  {
   "cell_type": "code",
   "execution_count": null,
   "metadata": {
    "ExecuteTime": {
     "end_time": "2019-01-04T19:36:46.562274Z",
     "start_time": "2019-01-04T19:36:46.526029Z"
    }
   },
   "outputs": [],
   "source": [
    "def plot_duration_per_shot_scale(shot_scale_labels, shot_scale_distributions,\n",
    "                                  distribution_labels, title):\n",
    "    fig, ax = plt.subplots(figsize=(10, 5))\n",
    "    for distribution, label in zip(shot_scale_distributions, distribution_labels):\n",
    "        x = range(0, len(shot_scale_labels))\n",
    "        y = distribution\n",
    "        ax.plot(x, y, label=label)\n",
    "        \n",
    "        ax.legend()\n",
    "        \n",
    "    ax.set_xlabel('Shot scale')\n",
    "    ax.set_ylabel('Average duration (s)')\n",
    "    ax.set_title(title)\n",
    "    \n",
    "    plt.xticks(x, shot_scale_labels)\n",
    "    \n",
    "    plt.show()"
   ]
  },
  {
   "cell_type": "code",
   "execution_count": null,
   "metadata": {
    "ExecuteTime": {
     "end_time": "2019-01-04T19:36:49.245500Z",
     "start_time": "2019-01-04T19:36:46.565414Z"
    }
   },
   "outputs": [],
   "source": [
    "shot_lengths_per_bin_all_videos = compute_shot_scale_normalized_duration(shots_with_scale)"
   ]
  },
  {
   "cell_type": "code",
   "execution_count": null,
   "metadata": {
    "ExecuteTime": {
     "end_time": "2019-01-04T19:36:51.161513Z",
     "start_time": "2019-01-04T19:36:49.251788Z"
    }
   },
   "outputs": [],
   "source": [
    "shot_lengths_per_bin_1915_to_1969 = compute_shot_scale_normalized_duration(\n",
    "    VideoIntervalCollection(\n",
    "        {\n",
    "            video_id: shots_with_scale.get_intervallist(video_id)\n",
    "            for video_id in list(shots_with_scale.get_allintervals().keys())\n",
    "            if Video.objects.get(id=video_id).year <= 1969\n",
    "        }\n",
    "    )\n",
    ")"
   ]
  },
  {
   "cell_type": "code",
   "execution_count": null,
   "metadata": {
    "ExecuteTime": {
     "end_time": "2019-01-04T19:36:55.240177Z",
     "start_time": "2019-01-04T19:36:51.165472Z"
    }
   },
   "outputs": [],
   "source": [
    "shot_lengths_per_bin_1970_to_2016 = compute_shot_scale_normalized_duration(\n",
    "    VideoIntervalCollection(\n",
    "        {\n",
    "            video_id: shots_with_scale.get_intervallist(video_id)\n",
    "            for video_id in list(shots_with_scale.get_allintervals().keys())\n",
    "            if Video.objects.get(id=video_id).year >= 1970\n",
    "        }\n",
    "    )\n",
    ")"
   ]
  },
  {
   "cell_type": "code",
   "execution_count": null,
   "metadata": {
    "ExecuteTime": {
     "end_time": "2019-01-04T19:36:55.467799Z",
     "start_time": "2019-01-04T19:36:55.244117Z"
    }
   },
   "outputs": [],
   "source": [
    "plot_duration_per_shot_scale(\n",
    "    shot_scale_labels,\n",
    "    [\n",
    "        shot_lengths_per_bin_all_videos,\n",
    "        shot_lengths_per_bin_1915_to_1969,\n",
    "        shot_lengths_per_bin_1970_to_2016\n",
    "    ],\n",
    "    [\n",
    "        'All videos',\n",
    "        '1915-1969',\n",
    "        '1970-2016',\n",
    "    ], 'Shot duration vs. shot scale')"
   ]
  },
  {
   "cell_type": "markdown",
   "metadata": {},
   "source": [
    "## Brightness\n",
    "\n",
    "How has the brightness of movies changed over the years? What about over the course of individual movies?"
   ]
  },
  {
   "cell_type": "markdown",
   "metadata": {},
   "source": [
    "### Changes in brightness over the years "
   ]
  },
  {
   "cell_type": "code",
   "execution_count": null,
   "metadata": {
    "ExecuteTime": {
     "end_time": "2018-12-31T06:17:54.813868Z",
     "start_time": "2018-12-31T06:14:08.543485Z"
    }
   },
   "outputs": [],
   "source": [
    "# Load frames that have non-null brightness values from the database\n",
    "frames_qs = Frame.objects.filter(\n",
    "    video__in=all_videos\n",
    ").exclude(brightness__isnull=True).annotate(\n",
    "    min_frame=F('number'),\n",
    "    max_frame=F('number'),\n",
    "    video_id=F('video_id')\n",
    ").all()\n",
    "num_frames = frames_qs.count()\n",
    "brightness = VideoIntervalCollection.from_django_qs(\n",
    "    frames_qs,\n",
    "    with_payload=lambda frame: frame.brightness,\n",
    "    progress=True,\n",
    "    total=num_frames\n",
    ")"
   ]
  },
  {
   "cell_type": "code",
   "execution_count": null,
   "metadata": {
    "ExecuteTime": {
     "end_time": "2018-12-31T06:17:54.851785Z",
     "start_time": "2018-12-31T06:17:54.817767Z"
    }
   },
   "outputs": [],
   "source": [
    "def avg_brightness(intervallist):\n",
    "    return np.mean([intrvl.payload for intrvl in intervallist.get_intervals()])"
   ]
  },
  {
   "cell_type": "code",
   "execution_count": null,
   "metadata": {
    "ExecuteTime": {
     "end_time": "2018-12-31T06:17:58.144580Z",
     "start_time": "2018-12-31T06:17:54.855095Z"
    }
   },
   "outputs": [],
   "source": [
    "videos_with_avg_brightness = [\n",
    "    (Video.objects.get(id=video_id), avg_brightness(brightness.get_intervallist(video_id)))\n",
    "    for video_id in list(brightness.get_allintervals().keys())\n",
    "]"
   ]
  },
  {
   "cell_type": "code",
   "execution_count": null,
   "metadata": {
    "ExecuteTime": {
     "end_time": "2018-12-31T06:17:58.190527Z",
     "start_time": "2018-12-31T06:17:58.147987Z"
    }
   },
   "outputs": [],
   "source": [
    "def plot_avg_brightness_by_year(videos_with_avg_brightness, min_year=None):\n",
    "    data = sorted([(v.year, people_per_frame) for v, people_per_frame in videos_with_avg_brightness])\n",
    "    if min_year is not None:\n",
    "        data = [d for d in data if d[0] >= min_year]\n",
    "\n",
    "    x = [d[0] for d in data]\n",
    "    y = [d[1] for d in data]\n",
    "    \n",
    "    fig, ax = plt.subplots(figsize=(10, 5))\n",
    "    ax.scatter(x, y, s=3)\n",
    "    ax.set_xlabel('Year')\n",
    "    ax.set_ylabel('Average Brightness per Film (0-255 scale)')\n",
    "    ax.set_title('Average brightness by year')\n",
    "    \n",
    "    ax.plot(np.unique(x), np.poly1d(np.polyfit(x, y, 1))(np.unique(x)))\n",
    "    plt.show()"
   ]
  },
  {
   "cell_type": "code",
   "execution_count": null,
   "metadata": {
    "ExecuteTime": {
     "end_time": "2018-12-31T06:17:58.405302Z",
     "start_time": "2018-12-31T06:17:58.194387Z"
    }
   },
   "outputs": [],
   "source": [
    "plot_avg_brightness_by_year(videos_with_avg_brightness)"
   ]
  },
  {
   "cell_type": "markdown",
   "metadata": {},
   "source": [
    "### Changes in brightness within movies (narrative structure)"
   ]
  },
  {
   "cell_type": "code",
   "execution_count": null,
   "metadata": {
    "ExecuteTime": {
     "end_time": "2018-12-31T06:36:12.253692Z",
     "start_time": "2018-12-31T06:36:12.192891Z"
    }
   },
   "outputs": [],
   "source": [
    "def compute_brightness_per_bin(videos):\n",
    "    bucket_proportions = [[] for i in range(0, 100)]\n",
    "    \n",
    "    # Keep track of total brightness of entire dataset to normalize later\n",
    "    total_brightness = 0.\n",
    "    total_videos = 0.\n",
    "    for video in tqdm(videos):\n",
    "        # Get all the frames with non-null brightness values\n",
    "        frames = list(Frame.objects.filter(video_id=video.id).exclude(brightness__isnull=True).order_by('number').all())\n",
    "\n",
    "        divider = video.num_frames / 100.\n",
    "        bin_num = 0\n",
    "\n",
    "        # Keep track of total brightness to normalize this film later\n",
    "        film_brightness = 0.\n",
    "        num_frames = len(frames)\n",
    "        \n",
    "        if num_frames == 0:\n",
    "            continue\n",
    "        \n",
    "        # Keep track of average brightness in each bin\n",
    "        bin_brightness = 0.\n",
    "        num_frames_in_bin = 0.\n",
    "        for frame in frames:\n",
    "            if frame.number > video.num_frames:\n",
    "                break\n",
    "            if frame.number <= (bin_num + 1.) * divider:\n",
    "                num_frames_in_bin += 1\n",
    "                bin_brightness += frame.brightness\n",
    "            else:\n",
    "                bucket_proportions[bin_num].append(bin_brightness / num_frames_in_bin)\n",
    "                bin_num += 1\n",
    "                num_frames_in_bin = 1.\n",
    "                bin_brightness = frame.brightness\n",
    "            film_brightness += frame.brightness\n",
    "        bucket_proportions[bin_num].append(bin_brightness / num_frames_in_bin)\n",
    "        \n",
    "        # Update brightness of entire dataset\n",
    "        film_brightness = film_brightness / num_frames\n",
    "        total_brightness += film_brightness\n",
    "        total_videos += 1\n",
    "        \n",
    "        # Normalize bucket values\n",
    "        for i in range(0, 100):\n",
    "            bucket_proportions[i][-1] *= 1 / film_brightness\n",
    "    \n",
    "    normalized_brightness_per_bin = [\n",
    "        np.mean(proportions) * (total_brightness / total_videos)\n",
    "        for proportions in bucket_proportions\n",
    "    ]\n",
    "    \n",
    "    return normalized_brightness_per_bin"
   ]
  },
  {
   "cell_type": "code",
   "execution_count": null,
   "metadata": {
    "ExecuteTime": {
     "end_time": "2018-12-31T06:17:58.528574Z",
     "start_time": "2018-12-31T06:17:58.475530Z"
    }
   },
   "outputs": [],
   "source": [
    "def plot_brightness_per_bin(data, title, polynomial_degree=6):\n",
    "    x = [(i + 0.5) / 100. for i in range(0, 100)]\n",
    "    y = data\n",
    "    \n",
    "    fig, ax = plt.subplots(figsize=(10, 5))\n",
    "    ax.scatter(x, y, s=3)\n",
    "    ax.set_xlabel('Proportion of movie')\n",
    "    ax.set_ylabel('Average Brightness (0-255 scale)')\n",
    "    ax.set_title(title)\n",
    "    ax.set_xlim(0, 1)\n",
    "    \n",
    "    data_ymax = np.max(y)\n",
    "    graph_ymax = data_ymax + 20\n",
    "    ax.set_ylim(top=graph_ymax)\n",
    "    \n",
    "    ax.plot(np.unique(x), np.poly1d(np.polyfit(x, y, polynomial_degree))(np.unique(x)))\n",
    "    \n",
    "    ax.axvline(x=0.25, color='k')\n",
    "    ax.axvline(x=0.5, color='k')\n",
    "    ax.axvline(x=0.75, color='k')\n",
    "    # Line for credits, maybe?\n",
    "    # ax.axvline(x=0.95, color='k')\n",
    "    \n",
    "    text_y = data_ymax + 10\n",
    "    ax.text(x=0.1, y=text_y, s='Setup')\n",
    "    ax.text(x=0.32, y=text_y, s='Complication')\n",
    "    ax.text(x=0.57, y=text_y, s='Development')\n",
    "    ax.text(x=0.85, y=text_y, s='Climax')\n",
    "    \n",
    "    plt.show()"
   ]
  },
  {
   "cell_type": "code",
   "execution_count": null,
   "metadata": {
    "ExecuteTime": {
     "end_time": "2018-12-31T06:35:27.509509Z",
     "start_time": "2018-12-31T06:32:29.744158Z"
    },
    "scrolled": true
   },
   "outputs": [],
   "source": [
    "brightness_all_videos = compute_brightness_per_bin(all_videos)"
   ]
  },
  {
   "cell_type": "code",
   "execution_count": null,
   "metadata": {
    "ExecuteTime": {
     "end_time": "2018-12-31T06:36:09.808340Z",
     "start_time": "2018-12-31T06:35:54.237477Z"
    }
   },
   "outputs": [],
   "source": [
    "brightness_1915_to_1959 = compute_brightness_per_bin(\n",
    "    Video.objects.filter(\n",
    "        decode_errors=False,\n",
    "        year__gte=1915,\n",
    "        year__lte=1959\n",
    "    ).order_by('id').all()\n",
    ")"
   ]
  },
  {
   "cell_type": "code",
   "execution_count": null,
   "metadata": {
    "ExecuteTime": {
     "end_time": "2018-12-31T06:37:27.581852Z",
     "start_time": "2018-12-31T06:36:15.312398Z"
    },
    "scrolled": true
   },
   "outputs": [],
   "source": [
    "brightness_1960_to_1985 = compute_brightness_per_bin(\n",
    "    Video.objects.filter(\n",
    "        decode_errors=False,\n",
    "        year__gte=1960,\n",
    "        year__lte=1985\n",
    "    ).order_by('id').all()\n",
    ")"
   ]
  },
  {
   "cell_type": "code",
   "execution_count": null,
   "metadata": {
    "ExecuteTime": {
     "end_time": "2018-12-31T06:38:54.561585Z",
     "start_time": "2018-12-31T06:37:27.585045Z"
    }
   },
   "outputs": [],
   "source": [
    "brightness_1986_to_2016 = compute_brightness_per_bin(\n",
    "    Video.objects.filter(\n",
    "        decode_errors=False,\n",
    "        year__gte=1986,\n",
    "        year__lte=2016\n",
    "    ).order_by('id').all()\n",
    ")"
   ]
  },
  {
   "cell_type": "code",
   "execution_count": null,
   "metadata": {
    "ExecuteTime": {
     "end_time": "2018-12-31T06:38:55.263784Z",
     "start_time": "2018-12-31T06:38:54.564886Z"
    }
   },
   "outputs": [],
   "source": [
    "plot_brightness_per_bin(\n",
    "    brightness_all_videos,\n",
    "    'Average brightness over the course of our movies, full dataset',\n",
    "    polynomial_degree=6\n",
    ")\n",
    "plot_brightness_per_bin(\n",
    "    brightness_1915_to_1959,\n",
    "    'Average brightness over the course of our movies, 1915-1959',\n",
    "    polynomial_degree=1\n",
    ")\n",
    "plot_brightness_per_bin(\n",
    "    brightness_1960_to_1985,\n",
    "    'Average brightness over the course of our movies, 1960-1985',\n",
    "    polynomial_degree=6\n",
    ")\n",
    "plot_brightness_per_bin(\n",
    "    brightness_1986_to_2016,\n",
    "    'Average brightness over the course of our movies, 1986-2016',\n",
    "    polynomial_degree=6\n",
    ")"
   ]
  },
  {
   "cell_type": "markdown",
   "metadata": {
    "ExecuteTime": {
     "end_time": "2018-12-27T23:31:05.751295Z",
     "start_time": "2018-12-27T23:31:05.722238Z"
    }
   },
   "source": [
    "## Saturation\n",
    "\n",
    "How has the saturation of movies changed over the years? What about over the course of individual movies?"
   ]
  },
  {
   "cell_type": "markdown",
   "metadata": {},
   "source": [
    "### Changes in saturation over the years"
   ]
  },
  {
   "cell_type": "code",
   "execution_count": null,
   "metadata": {
    "ExecuteTime": {
     "end_time": "2019-01-06T22:20:26.228959Z",
     "start_time": "2019-01-06T22:16:06.855481Z"
    }
   },
   "outputs": [],
   "source": [
    "# Takes about four minutes to run!\n",
    "# Load frames that have non-null saturation values from the database\n",
    "frames_saturation_qs = Frame.objects.filter(\n",
    "    video__in=all_videos\n",
    ").exclude(saturation__isnull=True).annotate(\n",
    "    min_frame=F('number'),\n",
    "    max_frame=F('number'),\n",
    "    video_id=F('video_id')\n",
    ").all()\n",
    "num_frames_saturation = frames_saturation_qs.count()\n",
    "saturation = VideoIntervalCollection.from_django_qs(\n",
    "    frames_saturation_qs,\n",
    "    with_payload=lambda frame: frame.saturation,\n",
    "    progress=True,\n",
    "    total=num_frames_saturation\n",
    ")"
   ]
  },
  {
   "cell_type": "code",
   "execution_count": null,
   "metadata": {
    "ExecuteTime": {
     "end_time": "2019-01-06T22:24:53.280904Z",
     "start_time": "2019-01-06T22:24:53.252164Z"
    }
   },
   "outputs": [],
   "source": [
    "def avg_saturation(intervallist):\n",
    "    return np.mean([intrvl.payload for intrvl in intervallist.get_intervals()])"
   ]
  },
  {
   "cell_type": "code",
   "execution_count": null,
   "metadata": {
    "ExecuteTime": {
     "end_time": "2019-01-06T22:24:57.607111Z",
     "start_time": "2019-01-06T22:24:54.632822Z"
    }
   },
   "outputs": [],
   "source": [
    "videos_with_avg_saturation = [\n",
    "    (Video.objects.get(id=video_id), avg_saturation(saturation.get_intervallist(video_id)))\n",
    "    for video_id in list(saturation.get_allintervals().keys())\n",
    "]"
   ]
  },
  {
   "cell_type": "code",
   "execution_count": null,
   "metadata": {
    "ExecuteTime": {
     "end_time": "2019-01-06T22:24:58.584492Z",
     "start_time": "2019-01-06T22:24:58.546919Z"
    }
   },
   "outputs": [],
   "source": [
    "def plot_avg_saturation_by_year(videos_with_avg_saturation, min_year=None):\n",
    "    data = sorted([(v.year, people_per_frame) for v, people_per_frame in videos_with_avg_saturation])\n",
    "    if min_year is not None:\n",
    "        data = [d for d in data if d[0] >= min_year]\n",
    "\n",
    "    x = [d[0] for d in data]\n",
    "    y = [d[1] for d in data]\n",
    "    \n",
    "    fig, ax = plt.subplots(figsize=(10, 5))\n",
    "    ax.scatter(x, y, s=3)\n",
    "    ax.set_xlabel('Year')\n",
    "    ax.set_ylabel('Average Saturation per Film (0-255 scale)')\n",
    "    ax.set_title('Average saturation by year')\n",
    "    \n",
    "    ax.plot(np.unique(x), np.poly1d(np.polyfit(x, y, 1))(np.unique(x)))\n",
    "    plt.show()"
   ]
  },
  {
   "cell_type": "code",
   "execution_count": null,
   "metadata": {
    "ExecuteTime": {
     "end_time": "2019-01-06T22:25:00.944295Z",
     "start_time": "2019-01-06T22:25:00.718512Z"
    }
   },
   "outputs": [],
   "source": [
    "plot_avg_saturation_by_year(videos_with_avg_saturation)"
   ]
  },
  {
   "cell_type": "code",
   "execution_count": null,
   "metadata": {
    "ExecuteTime": {
     "end_time": "2019-01-06T22:25:22.542294Z",
     "start_time": "2019-01-06T22:25:22.507324Z"
    }
   },
   "outputs": [],
   "source": [
    "# What are the movies with highest saturation?\n",
    "sorted([\n",
    "    (v.title, v.year, avg_saturation)\n",
    "    for v, avg_saturation in videos_with_avg_saturation if avg_saturation > 150\n",
    "], key=lambda tup: (tup[1], tup[0], tup[2]))"
   ]
  },
  {
   "cell_type": "code",
   "execution_count": null,
   "metadata": {
    "ExecuteTime": {
     "end_time": "2019-01-06T22:25:30.994554Z",
     "start_time": "2019-01-06T22:25:30.958923Z"
    }
   },
   "outputs": [],
   "source": [
    "# What are the movies with lowest saturation?\n",
    "sorted([\n",
    "    (v.title, v.year, avg_saturation)\n",
    "    for v, avg_saturation in videos_with_avg_saturation if avg_saturation < 10\n",
    "], key=lambda tup: (tup[1], tup[0], tup[2]))"
   ]
  },
  {
   "cell_type": "markdown",
   "metadata": {},
   "source": [
    "### Changes in saturation within movies (narrative structure?)"
   ]
  },
  {
   "cell_type": "code",
   "execution_count": null,
   "metadata": {
    "ExecuteTime": {
     "end_time": "2019-01-06T22:26:39.246608Z",
     "start_time": "2019-01-06T22:26:39.183694Z"
    }
   },
   "outputs": [],
   "source": [
    "def compute_saturation_per_bin(videos):\n",
    "    bucket_proportions = [[] for i in range(0, 100)]\n",
    "    \n",
    "    # Keep track of total saturation of entire dataset to normalize later\n",
    "    total_saturation = 0.\n",
    "    total_videos = 0.\n",
    "    for video in tqdm(videos):\n",
    "        # Get all the frames with non-null saturation values\n",
    "        frames = list(Frame.objects.filter(video_id=video.id).exclude(\n",
    "            saturation__isnull=True).order_by('number').all())\n",
    "\n",
    "        divider = video.num_frames / 100.\n",
    "        bin_num = 0\n",
    "\n",
    "        # Keep track of total saturation to normalize this film later\n",
    "        film_saturation = 0.\n",
    "        num_frames = len(frames)\n",
    "        \n",
    "        if num_frames == 0:\n",
    "            continue\n",
    "        \n",
    "        # Keep track of average saturation in each bin\n",
    "        bin_saturation = 0.\n",
    "        num_frames_in_bin = 0.\n",
    "        for frame in frames:\n",
    "            if frame.number > video.num_frames:\n",
    "                break\n",
    "            if frame.number <= (bin_num + 1.) * divider:\n",
    "                num_frames_in_bin += 1\n",
    "                bin_saturation += frame.saturation\n",
    "            else:\n",
    "                bucket_proportions[bin_num].append(bin_saturation / num_frames_in_bin)\n",
    "                bin_num += 1\n",
    "                num_frames_in_bin = 1.\n",
    "                bin_saturation = frame.saturation\n",
    "            film_saturation += frame.saturation\n",
    "        bucket_proportions[bin_num].append(bin_saturation / num_frames_in_bin)\n",
    "        \n",
    "        # Update saturation of entire dataset\n",
    "        film_saturation = film_saturation / num_frames\n",
    "        total_saturation += film_saturation\n",
    "        total_videos += 1\n",
    "        \n",
    "        # Normalize bucket values\n",
    "        for i in range(0, 100):\n",
    "            if film_saturation > 0:\n",
    "                bucket_proportions[i][-1] *= 1 / film_saturation\n",
    "    \n",
    "    normalized_saturation_per_bin = [\n",
    "        np.mean(proportions) * (total_saturation / total_videos)\n",
    "        for proportions in bucket_proportions\n",
    "    ]\n",
    "    \n",
    "    return normalized_saturation_per_bin"
   ]
  },
  {
   "cell_type": "code",
   "execution_count": null,
   "metadata": {
    "ExecuteTime": {
     "end_time": "2019-01-06T22:26:02.408739Z",
     "start_time": "2019-01-06T22:26:02.358269Z"
    }
   },
   "outputs": [],
   "source": [
    "def plot_saturation_per_bin(data, title, polynomial_degree=6):\n",
    "    x = [(i + 0.5) / 100. for i in range(0, 100)]\n",
    "    y = data\n",
    "    \n",
    "    fig, ax = plt.subplots(figsize=(10, 5))\n",
    "    ax.scatter(x, y, s=3)\n",
    "    ax.set_xlabel('Proportion of movie')\n",
    "    ax.set_ylabel('Average Saturation (0-255 scale)')\n",
    "    ax.set_title(title)\n",
    "    ax.set_xlim(0, 1)\n",
    "    \n",
    "    data_ymax = np.max(y)\n",
    "    graph_ymax = data_ymax + 20\n",
    "    ax.set_ylim(top=graph_ymax)\n",
    "    \n",
    "    ax.plot(np.unique(x), np.poly1d(np.polyfit(x, y, polynomial_degree))(np.unique(x)))\n",
    "    \n",
    "    ax.axvline(x=0.25, color='k')\n",
    "    ax.axvline(x=0.5, color='k')\n",
    "    ax.axvline(x=0.75, color='k')\n",
    "    # Line for credits, maybe?\n",
    "    # ax.axvline(x=0.95, color='k')\n",
    "    \n",
    "    text_y = data_ymax + 10\n",
    "    ax.text(x=0.1, y=text_y, s='Setup')\n",
    "    ax.text(x=0.32, y=text_y, s='Complication')\n",
    "    ax.text(x=0.57, y=text_y, s='Development')\n",
    "    ax.text(x=0.85, y=text_y, s='Climax')\n",
    "    \n",
    "    plt.show()"
   ]
  },
  {
   "cell_type": "code",
   "execution_count": null,
   "metadata": {
    "ExecuteTime": {
     "end_time": "2019-01-06T22:29:38.780805Z",
     "start_time": "2019-01-06T22:26:41.213748Z"
    }
   },
   "outputs": [],
   "source": [
    "saturation_all_videos = compute_saturation_per_bin(all_videos)"
   ]
  },
  {
   "cell_type": "code",
   "execution_count": null,
   "metadata": {
    "ExecuteTime": {
     "end_time": "2019-01-06T22:30:03.180603Z",
     "start_time": "2019-01-06T22:29:38.787409Z"
    }
   },
   "outputs": [],
   "source": [
    "saturation_1915_to_1959 = compute_saturation_per_bin(\n",
    "    Video.objects.filter(\n",
    "        decode_errors=False,\n",
    "        year__gte=1915,\n",
    "        year__lte=1959\n",
    "    ).order_by('id').all()\n",
    ")"
   ]
  },
  {
   "cell_type": "code",
   "execution_count": null,
   "metadata": {
    "ExecuteTime": {
     "end_time": "2019-01-06T22:30:44.239293Z",
     "start_time": "2019-01-06T22:30:03.183312Z"
    }
   },
   "outputs": [],
   "source": [
    "saturation_1960_to_1985 = compute_saturation_per_bin(\n",
    "    Video.objects.filter(\n",
    "        decode_errors=False,\n",
    "        year__gte=1960,\n",
    "        year__lte=1985\n",
    "    ).order_by('id').all()\n",
    ")"
   ]
  },
  {
   "cell_type": "code",
   "execution_count": null,
   "metadata": {
    "ExecuteTime": {
     "end_time": "2019-01-06T22:32:31.588196Z",
     "start_time": "2019-01-06T22:30:44.242974Z"
    }
   },
   "outputs": [],
   "source": [
    "saturation_1986_to_2016 = compute_saturation_per_bin(\n",
    "    Video.objects.filter(\n",
    "        decode_errors=False,\n",
    "        year__gte=1986,\n",
    "        year__lte=2016\n",
    "    ).order_by('id').all()\n",
    ")"
   ]
  },
  {
   "cell_type": "code",
   "execution_count": null,
   "metadata": {
    "ExecuteTime": {
     "end_time": "2019-01-06T22:32:32.279757Z",
     "start_time": "2019-01-06T22:32:31.591987Z"
    }
   },
   "outputs": [],
   "source": [
    "plot_saturation_per_bin(\n",
    "    saturation_all_videos,\n",
    "    'Average saturation over the course of our movies, full dataset',\n",
    "    polynomial_degree=6\n",
    ")\n",
    "plot_saturation_per_bin(\n",
    "    saturation_1915_to_1959,\n",
    "    'Average saturation over the course of our movies, 1915-1959',\n",
    "    polynomial_degree=1\n",
    ")\n",
    "plot_saturation_per_bin(\n",
    "    saturation_1960_to_1985,\n",
    "    'Average saturation over the course of our movies, 1960-1985',\n",
    "    polynomial_degree=6\n",
    ")\n",
    "plot_saturation_per_bin(\n",
    "    saturation_1986_to_2016,\n",
    "    'Average saturation over the course of our movies, 1986-2016',\n",
    "    polynomial_degree=6\n",
    ")"
   ]
  },
  {
   "cell_type": "markdown",
   "metadata": {},
   "source": [
    "## Mean Number of People"
   ]
  },
  {
   "cell_type": "markdown",
   "metadata": {},
   "source": [
    "### Mean number of people per frame over the years\n",
    "We can use either face detection or pose detection to get the mean number of people per frame."
   ]
  },
  {
   "cell_type": "code",
   "execution_count": null,
   "metadata": {
    "ExecuteTime": {
     "end_time": "2019-01-08T00:08:30.412300Z",
     "start_time": "2019-01-08T00:02:36.689293Z"
    }
   },
   "outputs": [],
   "source": [
    "# This takes about five minutes to run!\n",
    "faces_qs = Face.objects.filter(frame__video__in=all_videos).annotate(\n",
    "    min_frame=F('frame__number'),\n",
    "    max_frame=F('frame__number'),\n",
    "    video_id=F('frame__video_id')\n",
    ").all()\n",
    "total_faces = faces_qs.count()\n",
    "print(total_faces)\n",
    "face_counts = VideoIntervalCollection.from_django_qs(\n",
    "    faces_qs,\n",
    "    with_payload=lambda row: row.probability,\n",
    "    progress=True,\n",
    "    total=total_faces\n",
    ").coalesce(payload_merge_op=payload_plus)"
   ]
  },
  {
   "cell_type": "code",
   "execution_count": null,
   "metadata": {
    "ExecuteTime": {
     "end_time": "2019-01-08T00:16:19.585562Z",
     "start_time": "2019-01-08T00:08:30.419115Z"
    }
   },
   "outputs": [],
   "source": [
    "# This takes about seven minutes to run!\n",
    "pose_qs = PoseMeta.objects.filter(frame__video__in=all_videos).annotate(\n",
    "    min_frame=F('frame__number'),\n",
    "    max_frame=F('frame__number'),\n",
    "    video_id=F('frame__video_id')\n",
    ")\n",
    "total_poses = pose_qs.count()\n",
    "print(total_poses)\n",
    "pose_counts = VideoIntervalCollection.from_django_qs(\n",
    "    pose_qs,\n",
    "    with_payload=lambda row: 1,\n",
    "    progress=True,\n",
    "    total=total_poses\n",
    ").coalesce(payload_merge_op=payload_plus)"
   ]
  },
  {
   "cell_type": "code",
   "execution_count": null,
   "metadata": {
    "ExecuteTime": {
     "end_time": "2019-01-08T00:16:19.632610Z",
     "start_time": "2019-01-08T00:16:19.589251Z"
    }
   },
   "outputs": [],
   "source": [
    "def avg_number_of_people(intervallist, truncate=False):\n",
    "    people_per_frame = [\n",
    "        intrvl.payload if not truncate else min(5, intrvl.payload)\n",
    "        for intrvl in intervallist.get_intervals()\n",
    "    ]\n",
    "    return np.mean(people_per_frame)"
   ]
  },
  {
   "cell_type": "code",
   "execution_count": null,
   "metadata": {
    "ExecuteTime": {
     "end_time": "2019-01-08T00:16:24.761618Z",
     "start_time": "2019-01-08T00:16:19.639152Z"
    }
   },
   "outputs": [],
   "source": [
    "videos_with_avg_people_per_frame_faces = [\n",
    "    (Video.objects.get(id=video_id), avg_number_of_people(face_counts.get_intervallist(video_id)))\n",
    "    for video_id in tqdm(list(face_counts.get_allintervals().keys()))\n",
    "]"
   ]
  },
  {
   "cell_type": "code",
   "execution_count": null,
   "metadata": {
    "ExecuteTime": {
     "end_time": "2019-01-08T00:16:28.378543Z",
     "start_time": "2019-01-08T00:16:24.766105Z"
    }
   },
   "outputs": [],
   "source": [
    "videos_with_avg_people_per_frame_poses = [\n",
    "    (Video.objects.get(id=video_id), avg_number_of_people(pose_counts.get_intervallist(video_id)))\n",
    "    for video_id in tqdm(list(pose_counts.get_allintervals().keys()))\n",
    "]"
   ]
  },
  {
   "cell_type": "code",
   "execution_count": null,
   "metadata": {
    "ExecuteTime": {
     "end_time": "2019-01-08T00:16:35.670395Z",
     "start_time": "2019-01-08T00:16:28.382288Z"
    }
   },
   "outputs": [],
   "source": [
    "videos_with_avg_people_per_frame_faces_truncated = [\n",
    "    (Video.objects.get(id=video_id), avg_number_of_people(face_counts.get_intervallist(video_id), truncate=True))\n",
    "    for video_id in tqdm(list(face_counts.get_allintervals().keys()))\n",
    "]"
   ]
  },
  {
   "cell_type": "code",
   "execution_count": null,
   "metadata": {
    "ExecuteTime": {
     "end_time": "2019-01-08T00:16:41.218040Z",
     "start_time": "2019-01-08T00:16:35.673503Z"
    }
   },
   "outputs": [],
   "source": [
    "videos_with_avg_people_per_frame_poses_truncated = [\n",
    "    (Video.objects.get(id=video_id), avg_number_of_people(pose_counts.get_intervallist(video_id), truncate=True))\n",
    "    for video_id in tqdm(list(pose_counts.get_allintervals().keys()))\n",
    "]"
   ]
  },
  {
   "cell_type": "code",
   "execution_count": null,
   "metadata": {
    "ExecuteTime": {
     "end_time": "2019-01-08T00:16:41.261783Z",
     "start_time": "2019-01-08T00:16:41.221173Z"
    }
   },
   "outputs": [],
   "source": [
    "def plot_avg_people_per_frame_by_year(videos_with_avg_people_per_frame, title, min_year=None):\n",
    "    data = sorted([(v.year, people_per_frame) for v, people_per_frame in videos_with_avg_people_per_frame])\n",
    "    if min_year is not None:\n",
    "        data = [d for d in data if d[0] >= min_year]\n",
    "\n",
    "    x = [d[0] for d in data]\n",
    "    y = [d[1] for d in data]\n",
    "    \n",
    "    fig, ax = plt.subplots(figsize=(5, 5))\n",
    "    ax.scatter(x, y, s=3)\n",
    "    ax.set_xlabel('Year')\n",
    "    ax.set_ylabel('Average People per Frame')\n",
    "    ax.set_title(title)\n",
    "    \n",
    "    #ax.set_yscale('symlog')\n",
    "    \n",
    "    ax.plot(np.unique(x), np.poly1d(np.polyfit(x, y, 1))(np.unique(x)))\n",
    "    plt.show()"
   ]
  },
  {
   "cell_type": "code",
   "execution_count": null,
   "metadata": {
    "ExecuteTime": {
     "end_time": "2019-01-08T00:16:41.498670Z",
     "start_time": "2019-01-08T00:16:41.265887Z"
    }
   },
   "outputs": [],
   "source": [
    "plot_avg_people_per_frame_by_year(videos_with_avg_people_per_frame_faces,\n",
    "                                  'Average people per frame by year (from face detections)')"
   ]
  },
  {
   "cell_type": "code",
   "execution_count": null,
   "metadata": {
    "ExecuteTime": {
     "end_time": "2019-01-08T00:16:41.721028Z",
     "start_time": "2019-01-08T00:16:41.502278Z"
    }
   },
   "outputs": [],
   "source": [
    "plot_avg_people_per_frame_by_year(videos_with_avg_people_per_frame_faces_truncated,\n",
    "                                  'Average people per frame by year (from face detections, truncated counts to 5 max)')"
   ]
  },
  {
   "cell_type": "code",
   "execution_count": null,
   "metadata": {
    "ExecuteTime": {
     "end_time": "2019-01-08T00:16:41.940443Z",
     "start_time": "2019-01-08T00:16:41.723734Z"
    }
   },
   "outputs": [],
   "source": [
    "plot_avg_people_per_frame_by_year(videos_with_avg_people_per_frame_poses,\n",
    "                                  'Average people per frame by year (from pose detections)')"
   ]
  },
  {
   "cell_type": "code",
   "execution_count": null,
   "metadata": {
    "ExecuteTime": {
     "end_time": "2019-01-08T00:16:42.179497Z",
     "start_time": "2019-01-08T00:16:41.944641Z"
    }
   },
   "outputs": [],
   "source": [
    "plot_avg_people_per_frame_by_year(videos_with_avg_people_per_frame_poses_truncated,\n",
    "                                  'Average people per frame by year (from pose detections, truncated counts to 5 max)')"
   ]
  },
  {
   "cell_type": "markdown",
   "metadata": {},
   "source": [
    "### Distribution of number of people per frame\n",
    "\n",
    "Let's look at the distribution of number of people per frame - what proportion of frames have 0 people, 1 person, 2 people, up to 5+ people?"
   ]
  },
  {
   "cell_type": "code",
   "execution_count": null,
   "metadata": {
    "ExecuteTime": {
     "end_time": "2019-01-08T00:16:42.230694Z",
     "start_time": "2019-01-08T00:16:42.182588Z"
    }
   },
   "outputs": [],
   "source": [
    "def distribution_of_people_per_frame(person_counts):\n",
    "    bucket_proportions = [0. for i in range(0, 6)]\n",
    "    total_videos = 0.\n",
    "    for video_id in list(person_counts.get_allintervals().keys()):\n",
    "        bucket_counts = [0. for i in range(0, 6)]\n",
    "        total_frames = 0.\n",
    "        for intrvl in person_counts.get_intervallist(video_id).get_intervals():\n",
    "            if intrvl.get_start() % 12 != 0:\n",
    "                continue\n",
    "            count = min(round(intrvl.payload), 5)\n",
    "            bucket_counts[count] += 1\n",
    "            total_frames += 1\n",
    "        for i in range(0, 6):\n",
    "            bucket_proportions[i] += bucket_counts[i] / total_frames\n",
    "        total_videos += 1\n",
    "    return [i / total_videos for i in bucket_proportions]"
   ]
  },
  {
   "cell_type": "code",
   "execution_count": null,
   "metadata": {
    "ExecuteTime": {
     "end_time": "2019-01-08T00:16:42.268028Z",
     "start_time": "2019-01-08T00:16:42.234491Z"
    }
   },
   "outputs": [],
   "source": [
    "def graph_person_count_distribution(person_distribution_list, labels, title):\n",
    "    fig, ax = plt.subplots(figsize=(5, 5))\n",
    "    for distribution, label in zip(person_distribution_list, labels):\n",
    "        x = ['0', '1', '2', '3', '4', '5+']\n",
    "        y = distribution\n",
    "        ax.plot(x, y, label=label)\n",
    "        \n",
    "        ax.legend()\n",
    "        \n",
    "    ax.set_xlabel('Number of people in frame')\n",
    "    ax.set_ylabel('Proportion of frames')\n",
    "    ax.set_title(title)\n",
    "    \n",
    "    plt.show()"
   ]
  },
  {
   "cell_type": "code",
   "execution_count": null,
   "metadata": {
    "ExecuteTime": {
     "end_time": "2019-01-08T00:16:53.510304Z",
     "start_time": "2019-01-08T00:16:42.270944Z"
    }
   },
   "outputs": [],
   "source": [
    "person_distribution_all_videos = distribution_of_people_per_frame(face_counts)"
   ]
  },
  {
   "cell_type": "code",
   "execution_count": null,
   "metadata": {
    "ExecuteTime": {
     "end_time": "2019-01-08T00:16:58.041706Z",
     "start_time": "2019-01-08T00:16:53.515840Z"
    }
   },
   "outputs": [],
   "source": [
    "person_distribution_1915_to_1969 = distribution_of_people_per_frame(\n",
    "    VideoIntervalCollection(\n",
    "        {\n",
    "            video_id: face_counts.get_intervallist(video_id)\n",
    "            for video_id in list(face_counts.get_allintervals().keys())\n",
    "            if Video.objects.get(id=video_id).year <= 1969\n",
    "        }\n",
    "    )\n",
    ")"
   ]
  },
  {
   "cell_type": "code",
   "execution_count": null,
   "metadata": {
    "ExecuteTime": {
     "end_time": "2019-01-08T00:17:13.909357Z",
     "start_time": "2019-01-08T00:16:58.044511Z"
    }
   },
   "outputs": [],
   "source": [
    "person_distribution_1970_to_2016 = distribution_of_people_per_frame(\n",
    "    VideoIntervalCollection(\n",
    "        {\n",
    "            video_id: face_counts.get_intervallist(video_id)\n",
    "            for video_id in list(face_counts.get_allintervals().keys())\n",
    "            if Video.objects.get(id=video_id).year >= 1970\n",
    "        }\n",
    "    )\n",
    ")"
   ]
  },
  {
   "cell_type": "code",
   "execution_count": null,
   "metadata": {
    "ExecuteTime": {
     "end_time": "2019-01-08T00:17:23.947372Z",
     "start_time": "2019-01-08T00:17:13.915752Z"
    }
   },
   "outputs": [],
   "source": [
    "person_distribution_all_videos_poses = distribution_of_people_per_frame(pose_counts)"
   ]
  },
  {
   "cell_type": "code",
   "execution_count": null,
   "metadata": {
    "ExecuteTime": {
     "end_time": "2019-01-08T00:17:29.779845Z",
     "start_time": "2019-01-08T00:17:23.950702Z"
    }
   },
   "outputs": [],
   "source": [
    "person_distribution_1915_to_1969_poses = distribution_of_people_per_frame(\n",
    "    VideoIntervalCollection(\n",
    "        {\n",
    "            video_id: pose_counts.get_intervallist(video_id)\n",
    "            for video_id in list(pose_counts.get_allintervals().keys())\n",
    "            if Video.objects.get(id=video_id).year <= 1969\n",
    "        }\n",
    "    )\n",
    ")"
   ]
  },
  {
   "cell_type": "code",
   "execution_count": null,
   "metadata": {
    "ExecuteTime": {
     "end_time": "2019-01-08T00:17:49.041725Z",
     "start_time": "2019-01-08T00:17:29.783124Z"
    }
   },
   "outputs": [],
   "source": [
    "person_distribution_1970_to_2016_poses = distribution_of_people_per_frame(\n",
    "    VideoIntervalCollection(\n",
    "        {\n",
    "            video_id: pose_counts.get_intervallist(video_id)\n",
    "            for video_id in list(pose_counts.get_allintervals().keys())\n",
    "            if Video.objects.get(id=video_id).year >= 1970\n",
    "        }\n",
    "    )\n",
    ")"
   ]
  },
  {
   "cell_type": "code",
   "execution_count": null,
   "metadata": {
    "ExecuteTime": {
     "end_time": "2019-01-08T00:17:49.294708Z",
     "start_time": "2019-01-08T00:17:49.045338Z"
    }
   },
   "outputs": [],
   "source": [
    "graph_person_count_distribution(\n",
    "    [\n",
    "        person_distribution_all_videos,\n",
    "        person_distribution_1915_to_1969,\n",
    "        person_distribution_1970_to_2016\n",
    "    ],\n",
    "    [\n",
    "        'All videos',\n",
    "        '1915-1969',\n",
    "        '1970-2016'\n",
    "    ],\n",
    "    'Distribution of number of people in frames (from faces)'\n",
    ")"
   ]
  },
  {
   "cell_type": "code",
   "execution_count": null,
   "metadata": {
    "ExecuteTime": {
     "end_time": "2019-01-08T00:17:49.484342Z",
     "start_time": "2019-01-08T00:17:49.297854Z"
    }
   },
   "outputs": [],
   "source": [
    "graph_person_count_distribution(\n",
    "    [\n",
    "        person_distribution_all_videos_poses,\n",
    "        person_distribution_1915_to_1969_poses,\n",
    "        person_distribution_1970_to_2016_poses\n",
    "    ],\n",
    "    [\n",
    "        'All videos',\n",
    "        '1915-1969',\n",
    "        '1970-2016'\n",
    "    ],\n",
    "    'Distribution of number of people in frames (from poses)'\n",
    ")"
   ]
  },
  {
   "cell_type": "markdown",
   "metadata": {},
   "source": [
    "## Number of people in a shot vs shot duration"
   ]
  },
  {
   "cell_type": "code",
   "execution_count": null,
   "metadata": {
    "ExecuteTime": {
     "end_time": "2019-01-08T00:21:14.014943Z",
     "start_time": "2019-01-08T00:20:34.255439Z"
    }
   },
   "outputs": [],
   "source": [
    "# First, load all the shots into Rekall\n",
    "shots_qs = Shot.objects.filter(\n",
    "    video__in=all_videos,\n",
    "    labeler=Labeler.objects.get(name='shot-hsvhist-face')\n",
    ").all()\n",
    "num_shots = shots_qs.count()\n",
    "shots = VideoIntervalCollection.from_django_qs(\n",
    "    shots_qs,\n",
    "    progress=True,\n",
    "    total=num_shots\n",
    ")"
   ]
  },
  {
   "cell_type": "code",
   "execution_count": null,
   "metadata": {
    "ExecuteTime": {
     "end_time": "2019-01-08T00:31:56.083050Z",
     "start_time": "2019-01-08T00:29:57.116167Z"
    }
   },
   "outputs": [],
   "source": [
    "# Next, overlap the shots with per-frame counts of people so that the payload\n",
    "#   for each shot is a list of all the shot scales in the shot\n",
    "# Finally, take the max of the counts\n",
    "\n",
    "shots_with_pose_counts = shots.merge(\n",
    "    pose_counts,\n",
    "    payload_merge_op=lambda shot_id, count: [count],\n",
    "    predicate=overlaps(),\n",
    "    working_window=1\n",
    ").coalesce(\n",
    "    payload_merge_op=payload_plus\n",
    ").map(\n",
    "    lambda shot_interval: (shot_interval.get_start(), shot_interval.get_end(),\n",
    "                          max(shot_interval.get_payload()))\n",
    ").set_union(\n",
    "    shots.map(lambda intrvl: (intrvl.get_start(), intrvl.get_end(), 0))\n",
    ").coalesce(\n",
    "    payload_merge_op=lambda p1, p2: max(p1, p2)\n",
    ")"
   ]
  },
  {
   "cell_type": "code",
   "execution_count": null,
   "metadata": {
    "ExecuteTime": {
     "end_time": "2019-01-08T00:32:23.393690Z",
     "start_time": "2019-01-08T00:32:23.343108Z"
    }
   },
   "outputs": [],
   "source": [
    "# Compute normalized shot durations for number of people\n",
    "def compute_pose_count_normalized_duration(shots_with_pose_counts):\n",
    "    bucket_proportions = [[] for i in range(0, 6)]\n",
    "    \n",
    "    average_shot_duration_data = 0.\n",
    "    total_videos = 0.\n",
    "    \n",
    "    for video_id in shots_with_pose_counts.get_allintervals():\n",
    "        bucket_proportions_for_video = [[] for i in range(0, 6)]\n",
    "        \n",
    "        shots_in_video = shots_with_pose_counts.get_intervallist(video_id)\n",
    "        \n",
    "        video = Video.objects.get(id=video_id)\n",
    "        \n",
    "        for intrvl in shots_in_video.get_intervals():\n",
    "            count = min(round(intrvl.payload), 5)\n",
    "            \n",
    "            bucket_proportions_for_video[count].append(\n",
    "                intrvl.get_end()-intrvl.get_start()\n",
    "            )\n",
    "        \n",
    "        avg_shot_duration_for_video = float(video.num_frames) / shots_in_video.size()\n",
    "        \n",
    "        for i in range(6):\n",
    "            if len(bucket_proportions_for_video[i]) > 0:\n",
    "                bucket_proportions[i].append(\n",
    "                    np.mean(bucket_proportions_for_video[i]) / avg_shot_duration_for_video\n",
    "                )\n",
    "        \n",
    "        average_shot_duration_data += avg_shot_duration_for_video / video.fps\n",
    "        total_videos += 1\n",
    "    \n",
    "    average_shot_duration_data /= total_videos\n",
    "    \n",
    "    normalized_proportions = [\n",
    "        np.mean(bucket_proportions[i]) * average_shot_duration_data\n",
    "        for i in range(6)\n",
    "    ]\n",
    "    \n",
    "    return normalized_proportions"
   ]
  },
  {
   "cell_type": "code",
   "execution_count": null,
   "metadata": {
    "ExecuteTime": {
     "end_time": "2019-01-08T00:34:38.705504Z",
     "start_time": "2019-01-08T00:34:38.667608Z"
    }
   },
   "outputs": [],
   "source": [
    "def graph_pose_count_duration(count_duration_list, labels, title):\n",
    "    fig, ax = plt.subplots(figsize=(5, 5))\n",
    "    for distribution, label in zip(count_duration_list, labels):\n",
    "        x = ['0', '1', '2', '3', '4', '5+']\n",
    "        y = distribution\n",
    "        ax.plot(x, y, label=label)\n",
    "        \n",
    "        ax.legend()\n",
    "        \n",
    "    ax.set_xlabel('Number of people in shot')\n",
    "    ax.set_ylabel('Average shot duration')\n",
    "    ax.set_title(title)\n",
    "    \n",
    "    plt.show()"
   ]
  },
  {
   "cell_type": "code",
   "execution_count": null,
   "metadata": {
    "ExecuteTime": {
     "end_time": "2019-01-08T00:32:28.301569Z",
     "start_time": "2019-01-08T00:32:25.453169Z"
    }
   },
   "outputs": [],
   "source": [
    "count_duration_all_videos = compute_pose_count_normalized_duration(shots_with_pose_counts)"
   ]
  },
  {
   "cell_type": "code",
   "execution_count": null,
   "metadata": {
    "ExecuteTime": {
     "end_time": "2019-01-08T00:33:28.026301Z",
     "start_time": "2019-01-08T00:33:25.561982Z"
    }
   },
   "outputs": [],
   "source": [
    "count_duration_1915_to_1969_poses = compute_pose_count_normalized_duration(\n",
    "    VideoIntervalCollection(\n",
    "        {\n",
    "            video_id: shots_with_pose_counts.get_intervallist(video_id)\n",
    "            for video_id in list(shots_with_pose_counts.get_allintervals().keys())\n",
    "            if Video.objects.get(id=video_id).year <= 1969\n",
    "        }\n",
    "    )\n",
    ")"
   ]
  },
  {
   "cell_type": "code",
   "execution_count": null,
   "metadata": {
    "ExecuteTime": {
     "end_time": "2019-01-08T00:33:46.736215Z",
     "start_time": "2019-01-08T00:33:42.706711Z"
    }
   },
   "outputs": [],
   "source": [
    "count_duration_1970_to_2016_poses = compute_pose_count_normalized_duration(\n",
    "    VideoIntervalCollection(\n",
    "        {\n",
    "            video_id: shots_with_pose_counts.get_intervallist(video_id)\n",
    "            for video_id in list(shots_with_pose_counts.get_allintervals().keys())\n",
    "            if Video.objects.get(id=video_id).year > 1969\n",
    "        }\n",
    "    )\n",
    ")"
   ]
  },
  {
   "cell_type": "code",
   "execution_count": null,
   "metadata": {
    "ExecuteTime": {
     "end_time": "2019-01-08T00:34:40.943751Z",
     "start_time": "2019-01-08T00:34:40.733308Z"
    }
   },
   "outputs": [],
   "source": [
    "graph_pose_count_duration(\n",
    "    [\n",
    "        count_duration_all_videos,\n",
    "        count_duration_1915_to_1969_poses,\n",
    "        count_duration_1970_to_2016_poses\n",
    "    ],\n",
    "    [\n",
    "        'All videos',\n",
    "        '1915-1969',\n",
    "        '1970-2016'\n",
    "    ],\n",
    "    'Normalized average shot duration vs. number of people in the shot')"
   ]
  }
 ],
 "metadata": {
  "kernelspec": {
   "display_name": "Django Shell-Plus",
   "language": "python",
   "name": "django_extensions"
  },
  "language_info": {
   "codemirror_mode": {
    "name": "ipython",
    "version": 3
   },
   "file_extension": ".py",
   "mimetype": "text/x-python",
   "name": "python",
   "nbconvert_exporter": "python",
   "pygments_lexer": "ipython3",
   "version": "3.5.2"
  },
  "toc": {
   "nav_menu": {},
   "number_sections": true,
   "sideBar": true,
   "skip_h1_title": false,
   "toc_cell": true,
   "toc_position": {},
   "toc_section_display": "block",
   "toc_window_display": false
  }
 },
 "nbformat": 4,
 "nbformat_minor": 2
}
